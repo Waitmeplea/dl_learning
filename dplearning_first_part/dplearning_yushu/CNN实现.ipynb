{
 "cells": [
  {
   "cell_type": "code",
   "id": "initial_id",
   "metadata": {
    "collapsed": true,
    "ExecuteTime": {
     "end_time": "2025-03-23T11:35:21.853140Z",
     "start_time": "2025-03-23T11:35:21.850569Z"
    }
   },
   "source": [
    "import numpy as np\n",
    "import sys\n",
    "import os\n",
    "\n",
    "from dplearning.book_material.common.layers import Convolution, Relu, Pooling\n",
    "from dplearning.book_material.common.util import im2col\n",
    "from dplearning.book_material.common.layers import SoftmaxWithLoss\n",
    "\n",
    "sys.path.append('./book_material')\n",
    "from common.util import *"
   ],
   "outputs": [],
   "execution_count": 9
  },
  {
   "metadata": {
    "ExecuteTime": {
     "end_time": "2025-03-23T12:56:13.687361Z",
     "start_time": "2025-03-23T12:56:13.680742Z"
    }
   },
   "cell_type": "code",
   "source": [
    "from dplearning.book_material.common.layers import Affine\n",
    "\n",
    "\n",
    "class SimpleConvNet:\n",
    "    def __init__(self,input_dim=(1,28,28),conv_param={'filter_num':30,'filter_size':5,'pad':0,'stride':1},hidden_size=100,output_size=10,weight_init_std=0.01):\n",
    "        self.input_dim = input_dim\n",
    "        self.hidden_size = hidden_size\n",
    "        filter_num = conv_param['filter_num']\n",
    "        filter_size = conv_param['filter_size']\n",
    "        filter_pad = conv_param['pad']\n",
    "        filter_stride = conv_param['stride']\n",
    "        input_size = input_dim[1]\n",
    "        conv_output_size = (input_size - filter_size + 2*filter_pad) / filter_stride + 1\n",
    "        ##使用 2x2 池化窗口，步长为 2（无填充） 必须要展开成1*n的张量\n",
    "        pool_output_size = int(filter_num * (conv_output_size/2) *(conv_output_size/2))\n",
    "        self.params={}\n",
    "        self.params['W1']=weight_init_std * np.random.randn(filter_num,input_dim[0],filter_size,filter_size)\n",
    "        self.params['b1']=np.zeros(filter_num)\n",
    "        self.params['W2']=weight_init_std * np.random.randn(pool_output_size,hidden_size)\n",
    "        self.params['b2']=np.zeros(hidden_size)\n",
    "        self.params['W3']=weight_init_std * np.random.randn(hidden_size,output_size)\n",
    "        self.params['b3']=np.zeros(output_size)\n",
    "        self.layers={}\n",
    "        self.layers['Conv1']=Convolution(self.params['W1'],self.params['b1'],conv_param['stride'],conv_param['pad'])\n",
    "        self.layers['Relu1']=Relu()\n",
    "        self.layers['Pool']=Pooling(2,2,2)\n",
    "\n",
    "        self.layers['Affine1']=Affine(self.params['W2'],self.params['b2'])\n",
    "        self.layers['Relu2']=Relu()\n",
    "        self.layers['Affine2']=Affine(self.params['W3'],self.params['b3'])\n",
    "        self.last_layer=SoftmaxWithLoss()\n",
    "    def predict(self,x):\n",
    "        for i in self.layers.keys():\n",
    "            x=self.layers[i].forward(x)\n",
    "        return x\n",
    "    def loss(self,x):\n",
    "        y_pred=self.predict(x)\n",
    "        return self.last_layer.loss(y,y_pred)\n",
    "    def gradient(self,x):\n",
    "        self.loss(x)\n",
    "        dout=1\n",
    "        dout=self.last_layer.backward(dout)\n",
    "        layers = list(self.layers.values())\n",
    "        layers.reverse()\n",
    "        for layer in layers:\n",
    "            dout = layer.backward(dout)\n",
    "            #\n",
    "        grads = {}\n",
    "        grads['W1'] = self.layers['Conv1'].dW\n",
    "        grads['b1'] = self.layers['Conv1'].db\n",
    "        grads['W2'] = self.layers['Affine1'].dW\n",
    "        grads['b2'] = self.layers['Affine1'].db\n",
    "        grads['W3'] = self.layers['Affine2'].dW\n",
    "        grads['b3'] = self.layers['Affine2'].db\n",
    "        return grads"
   ],
   "id": "faca50213d8d517d",
   "outputs": [],
   "execution_count": 33
  },
  {
   "metadata": {
    "ExecuteTime": {
     "end_time": "2025-03-23T11:35:49.001438Z",
     "start_time": "2025-03-23T11:35:48.906674Z"
    }
   },
   "cell_type": "code",
   "source": [
    "sys.path.append('./book_material')\n",
    "from dataset.mnist import *\n",
    "(x_train, t_train), (x_test, t_test) = load_mnist(normalize=True, one_hot_label = True)"
   ],
   "id": "7d6550b8ba4af2e0",
   "outputs": [],
   "execution_count": 17
  },
  {
   "metadata": {
    "ExecuteTime": {
     "end_time": "2025-03-23T11:35:49.428259Z",
     "start_time": "2025-03-23T11:35:49.418198Z"
    }
   },
   "cell_type": "code",
   "source": "conv=SimpleConvNet()",
   "id": "a76370c288536e42",
   "outputs": [],
   "execution_count": 18
  },
  {
   "metadata": {
    "ExecuteTime": {
     "end_time": "2025-03-23T11:40:27.248402Z",
     "start_time": "2025-03-23T11:40:21.589244Z"
    }
   },
   "cell_type": "code",
   "source": "result=np.argmax(conv.predict(x_test.reshape(10000,1,28,28)),axis=1)",
   "id": "521ab1f37d4e9a79",
   "outputs": [],
   "execution_count": 25
  },
  {
   "metadata": {
    "ExecuteTime": {
     "end_time": "2025-03-23T11:40:33.923891Z",
     "start_time": "2025-03-23T11:40:33.920896Z"
    }
   },
   "cell_type": "code",
   "source": "result",
   "id": "3b0f102e7ce5a3af",
   "outputs": [
    {
     "data": {
      "text/plain": [
       "array([7, 6, 6, ..., 1, 6, 1])"
      ]
     },
     "execution_count": 28,
     "metadata": {},
     "output_type": "execute_result"
    }
   ],
   "execution_count": 28
  },
  {
   "metadata": {
    "ExecuteTime": {
     "end_time": "2025-03-23T12:56:19.591035Z",
     "start_time": "2025-03-23T12:56:19.587567Z"
    }
   },
   "cell_type": "code",
   "source": "np.argmax(t_test,axis=1)",
   "id": "3ce7507e96da5f64",
   "outputs": [
    {
     "data": {
      "text/plain": [
       "array([7, 2, 1, ..., 4, 5, 6])"
      ]
     },
     "execution_count": 34,
     "metadata": {},
     "output_type": "execute_result"
    }
   ],
   "execution_count": 34
  },
  {
   "metadata": {},
   "cell_type": "code",
   "outputs": [],
   "execution_count": null,
   "source": "",
   "id": "23ace5f46ee6bb5c"
  }
 ],
 "metadata": {
  "kernelspec": {
   "display_name": "Python 3",
   "language": "python",
   "name": "python3"
  },
  "language_info": {
   "codemirror_mode": {
    "name": "ipython",
    "version": 2
   },
   "file_extension": ".py",
   "mimetype": "text/x-python",
   "name": "python",
   "nbconvert_exporter": "python",
   "pygments_lexer": "ipython2",
   "version": "2.7.6"
  }
 },
 "nbformat": 4,
 "nbformat_minor": 5
}
