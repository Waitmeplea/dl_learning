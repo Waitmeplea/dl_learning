{
 "cells": [
  {
   "cell_type": "code",
   "id": "initial_id",
   "metadata": {
    "collapsed": true,
    "jupyter": {
     "is_executing": true
    }
   },
   "source": [
    "# 字符串 find函数,返回第一个的索引\n",
    "str='DAD'"
   ],
   "outputs": [],
   "execution_count": null
  },
  {
   "metadata": {
    "ExecuteTime": {
     "end_time": "2025-06-09T13:12:00.596307Z",
     "start_time": "2025-06-09T13:12:00.593231Z"
    }
   },
   "cell_type": "code",
   "source": "str.find('D')",
   "id": "26fef75e6ea5c4e2",
   "outputs": [
    {
     "data": {
      "text/plain": [
       "0"
      ]
     },
     "execution_count": 7,
     "metadata": {},
     "output_type": "execute_result"
    }
   ],
   "execution_count": 7
  },
  {
   "metadata": {
    "ExecuteTime": {
     "end_time": "2025-06-09T13:13:00.418203Z",
     "start_time": "2025-06-09T13:13:00.415236Z"
    }
   },
   "cell_type": "code",
   "source": "str.isalnum()",
   "id": "4b0661c1e4da7cc",
   "outputs": [
    {
     "data": {
      "text/plain": [
       "True"
      ]
     },
     "execution_count": 9,
     "metadata": {},
     "output_type": "execute_result"
    }
   ],
   "execution_count": 9
  },
  {
   "metadata": {
    "jupyter": {
     "is_executing": true
    }
   },
   "cell_type": "code",
   "source": [
    "# 判断操作\n",
    "str.isdigit() # 是否全为数字"
   ],
   "id": "34c0e9cfd6e33719",
   "outputs": [],
   "execution_count": null
  },
  {
   "metadata": {
    "ExecuteTime": {
     "end_time": "2025-06-09T13:28:33.297118Z",
     "start_time": "2025-06-09T13:28:33.293729Z"
    }
   },
   "cell_type": "code",
   "source": "import re",
   "id": "8c70d292219fce2e",
   "outputs": [],
   "execution_count": 11
  },
  {
   "metadata": {
    "ExecuteTime": {
     "end_time": "2025-06-09T13:29:21.486477Z",
     "start_time": "2025-06-09T13:29:21.472340Z"
    }
   },
   "cell_type": "code",
   "source": [
    "pattern=re.compile('.')\n",
    "re.findall(pattern,str)\n",
    "#有意思 匹配到的每一个字符会作为一个列表元素"
   ],
   "id": "18bc7c119f768831",
   "outputs": [
    {
     "data": {
      "text/plain": [
       "['D', 'A', 'D']"
      ]
     },
     "execution_count": 17,
     "metadata": {},
     "output_type": "execute_result"
    }
   ],
   "execution_count": 17
  },
  {
   "metadata": {
    "ExecuteTime": {
     "end_time": "2025-06-09T13:29:21.602963Z",
     "start_time": "2025-06-09T13:29:21.600686Z"
    }
   },
   "cell_type": "code",
   "source": "df",
   "id": "80895438bd2eaa45",
   "outputs": [],
   "execution_count": null
  },
  {
   "metadata": {},
   "cell_type": "code",
   "outputs": [],
   "execution_count": null,
   "source": [
    "import pandas as pd\n",
    "pd.read_csv('D:\\code_file\\NLP\\NLTK.csv',index_col=0)"
   ],
   "id": "a4f5383f56407452"
  },
  {
   "metadata": {},
   "cell_type": "code",
   "outputs": [],
   "execution_count": null,
   "source": "df.to_csv('D:\\code_file\\NLP\\NLTK.csv',)",
   "id": "4897ff36fd398eb9"
  }
 ],
 "metadata": {
  "kernelspec": {
   "display_name": "Python 3",
   "language": "python",
   "name": "python3"
  },
  "language_info": {
   "codemirror_mode": {
    "name": "ipython",
    "version": 2
   },
   "file_extension": ".py",
   "mimetype": "text/x-python",
   "name": "python",
   "nbconvert_exporter": "python",
   "pygments_lexer": "ipython2",
   "version": "2.7.6"
  }
 },
 "nbformat": 4,
 "nbformat_minor": 5
}
