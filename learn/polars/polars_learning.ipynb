{
 "cells": [
  {
   "metadata": {},
   "cell_type": "code",
   "outputs": [],
   "execution_count": null,
   "source": [
    "import polars as pl\n",
    "import pandas as pd"
   ],
   "id": "f301253d56746877"
  },
  {
   "metadata": {},
   "cell_type": "code",
   "outputs": [],
   "execution_count": null,
   "source": [
    "%%time\n",
    "df=pl.read_csv('train.csv',infer_schema_length=1000000)\n",
    "\n",
    "print(df)"
   ],
   "id": "793bd9a7718d4de8"
  },
  {
   "metadata": {},
   "cell_type": "code",
   "outputs": [],
   "execution_count": null,
   "source": "df.null_count()",
   "id": "8381df1851f4d810"
  },
  {
   "metadata": {},
   "cell_type": "code",
   "outputs": [],
   "execution_count": null,
   "source": "df.sql('select * from self limit 10')",
   "id": "a3b481eb038f73d7"
  },
  {
   "metadata": {},
   "cell_type": "code",
   "outputs": [],
   "execution_count": null,
   "source": "",
   "id": "2f7ea39e3dbffbd6"
  }
 ],
 "metadata": {},
 "nbformat": 5,
 "nbformat_minor": 9
}
