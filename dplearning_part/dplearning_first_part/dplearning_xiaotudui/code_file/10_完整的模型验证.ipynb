{
 "cells": [
  {
   "cell_type": "code",
   "id": "initial_id",
   "metadata": {
    "collapsed": true,
    "ExecuteTime": {
     "end_time": "2025-04-01T12:00:35.920499Z",
     "start_time": "2025-04-01T12:00:34.205359Z"
    }
   },
   "source": [
    "import numpy as np\n",
    "import torch\n",
    "from torch import nn\n",
    "from PIL import Image\n",
    "from torchvision.transforms import transforms"
   ],
   "outputs": [],
   "execution_count": 2
  },
  {
   "metadata": {
    "ExecuteTime": {
     "end_time": "2025-04-01T12:00:35.928092Z",
     "start_time": "2025-04-01T12:00:35.925155Z"
    }
   },
   "cell_type": "code",
   "source": [
    "\n",
    "\n",
    "class Net(nn.Module):\n",
    "    def __init__(self):\n",
    "        super(Net, self).__init__()\n",
    "        self.sequential = nn.Sequential(\n",
    "            nn.Conv2d(in_channels=3, out_channels=32, kernel_size=5, stride=1, padding=2),\n",
    "            nn.MaxPool2d(kernel_size=2, stride=2),\n",
    "            nn.Conv2d(in_channels=32, out_channels=32, kernel_size=5, stride=1, padding=2),\n",
    "            nn.MaxPool2d(kernel_size=2, stride=2),\n",
    "            nn.Conv2d(in_channels=32, out_channels=64, kernel_size=5, stride=1, padding=2),\n",
    "            nn.MaxPool2d(kernel_size=2, stride=2),\n",
    "            nn.Flatten(start_dim=1),\n",
    "            nn.Linear(in_features=64 * 4 * 4, out_features=10)\n",
    "        )\n",
    "\n",
    "    def forward(self, x):\n",
    "        out = self.sequential(x)\n",
    "        return out"
   ],
   "id": "b0e926dd2e5c4abe",
   "outputs": [],
   "execution_count": 3
  },
  {
   "metadata": {
    "ExecuteTime": {
     "end_time": "2025-04-01T12:00:35.946470Z",
     "start_time": "2025-04-01T12:00:35.937100Z"
    }
   },
   "cell_type": "code",
   "source": [
    "###模型加载\n",
    "net=Net()\n",
    "net.load_state_dict(torch.load(\"hmy_net_model8.pth\",map_location=torch.device('cpu')))"
   ],
   "id": "295558b5eeb494cd",
   "outputs": [
    {
     "data": {
      "text/plain": [
       "<All keys matched successfully>"
      ]
     },
     "execution_count": 4,
     "metadata": {},
     "output_type": "execute_result"
    }
   ],
   "execution_count": 4
  },
  {
   "metadata": {
    "ExecuteTime": {
     "end_time": "2025-04-01T12:02:11.311432Z",
     "start_time": "2025-04-01T12:02:11.173329Z"
    }
   },
   "cell_type": "code",
   "source": [
    "###图片加载\n",
    "###先加载为PIL格式\n",
    "img=Image.open('hmy.jpg')\n",
    "img=img.convert('RGB')\n",
    "###图片转换\n",
    "transform = transforms.Compose([    transforms.Resize(32) # 短边缩放到32\n",
    "    ,transforms.CenterCrop((32, 32))  # 裁剪到32x32\n",
    "    ,transforms.ToTensor()])\n",
    "img_tensor=transform(img)\n",
    "\n",
    "####还原需要先乘以255\n",
    "img_array=np.array(img_tensor)*255\n",
    "###还原需要设置为uint8格式\n",
    "img_array=img_array.astype('uint8')\n",
    "###还原需要修改通道维度的位置\n",
    "img_array=img_array.transpose((1,2,0))\n",
    "###np.array图像表示\n",
    "Image.fromarray(img_array)"
   ],
   "id": "425dce1ba1c63d52",
   "outputs": [
    {
     "name": "stderr",
     "output_type": "stream",
     "text": [
      "C:\\Users\\Zzz\\AppData\\Local\\Temp\\ipykernel_24888\\2586419756.py:12: DeprecationWarning: __array__ implementation doesn't accept a copy keyword, so passing copy=False failed. __array__ must implement 'dtype' and 'copy' keyword arguments.\n",
      "  img_array=np.array(img_tensor)*255\n"
     ]
    },
    {
     "data": {
      "text/plain": [
       "<PIL.Image.Image image mode=RGB size=32x32>"
      ],
      "image/png": "[encoded data removed]",
      "image/jpeg": "[encoded data removed]"
     },
     "execution_count": 16,
     "metadata": {},
     "output_type": "execute_result"
    }
   ],
   "execution_count": 16
  },
  {
   "metadata": {
    "ExecuteTime": {
     "end_time": "2025-04-01T12:02:18.912746Z",
     "start_time": "2025-04-01T12:02:18.910503Z"
    }
   },
   "cell_type": "code",
   "source": "input=img_tensor.reshape(1,3,32,32)",
   "id": "86653d178b7c660e",
   "outputs": [],
   "execution_count": 17
  },
  {
   "metadata": {
    "ExecuteTime": {
     "end_time": "2025-04-01T12:02:19.192327Z",
     "start_time": "2025-04-01T12:02:19.188203Z"
    }
   },
   "cell_type": "code",
   "source": "out=net.forward(input)",
   "id": "5e33357591483398",
   "outputs": [],
   "execution_count": 18
  },
  {
   "metadata": {
    "ExecuteTime": {
     "end_time": "2025-04-01T12:02:19.410784Z",
     "start_time": "2025-04-01T12:02:19.407342Z"
    }
   },
   "cell_type": "code",
   "source": "out.argmax(dim=1).item()",
   "id": "1661d1cc4e63816c",
   "outputs": [
    {
     "data": {
      "text/plain": [
       "3"
      ]
     },
     "execution_count": 19,
     "metadata": {},
     "output_type": "execute_result"
    }
   ],
   "execution_count": 19
  }
 ],
 "metadata": {
  "kernelspec": {
   "display_name": "Python 3",
   "language": "python",
   "name": "python3"
  },
  "language_info": {
   "codemirror_mode": {
    "name": "ipython",
    "version": 2
   },
   "file_extension": ".py",
   "mimetype": "text/x-python",
   "name": "python",
   "nbconvert_exporter": "python",
   "pygments_lexer": "ipython2",
   "version": "2.7.6"
  }
 },
 "nbformat": 4,
 "nbformat_minor": 5
}
