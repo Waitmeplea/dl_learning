{
 "cells": [
  {
   "metadata": {
    "ExecuteTime": {
     "end_time": "2025-03-31T02:50:00.634679Z",
     "start_time": "2025-03-31T02:50:00.631006Z"
    }
   },
   "cell_type": "code",
   "source": [
    "import torchvision\n",
    "import torch\n",
    "# root_dir='D:\\code_file\\dplearning_xiaotutui\\data'\n",
    "# dataset=torchvision.datasets.ImageNet(root_dir, download=True,split='train',transform=torchvision.transforms.ToTensor())\n",
    "# 数据集太大了放弃\n",
    "# vgg_par_non.load_state_dict(torch.load('vgg16.pth'))"
   ],
   "id": "ffd8453caa3ed97b",
   "outputs": [],
   "execution_count": 15
  },
  {
   "cell_type": "code",
   "id": "initial_id",
   "metadata": {
    "collapsed": true,
    "ExecuteTime": {
     "end_time": "2025-03-31T03:35:18.186849Z",
     "start_time": "2025-03-31T03:35:15.276867Z"
    }
   },
   "source": [
    "\n",
    "###模型随机化参数\n",
    "vgg16=torchvision.models.vgg16()\n",
    "###参数路径\n",
    "par_path=r'D:\\arc_file\\dplearning_relate\\model\\vgg16-397923af.pth'\n",
    "##模型加载参数\n",
    "vgg16.load_state_dict(torch.load(par_path))"
   ],
   "outputs": [
    {
     "data": {
      "text/plain": [
       "<All keys matched successfully>"
      ]
     },
     "execution_count": 39,
     "metadata": {},
     "output_type": "execute_result"
    }
   ],
   "execution_count": 39
  },
  {
   "metadata": {},
   "cell_type": "markdown",
   "source": [
    "这是vgg16层 表明16层有参数\n",
    "设计思路\n",
    "小卷积核优势：\n",
    "\n",
    "多个3x3卷积叠加 ≈ 1个5x5或7x7卷积的感受野，但参数更少、非线性更多。\n",
    "两个3x3=5x5 因为3+2=5\n",
    "例如：3层3x3卷积的参数量为 3*(3^2*C^2) = 27C²，而1层7x7卷积为 49C²。\n",
    "通道数翻倍：\n",
    "\n",
    "每次池化后通道数翻倍（64→128→256→512），平衡特征图尺寸减小带来的信息损失。\n",
    "全连接层压缩：\n",
    "\n",
    "通过Dropout和ReLU防止过拟合，逐步将特征映射到类别空间。\n",
    "VGG(\n",
    "###这里是特征提取器\n",
    "  (features): Sequential(\n",
    "    (0): Conv2d(3, 64, kernel_size=(3, 3), stride=(1, 1), padding=(1, 1))\n",
    "    (1): ReLU(inplace=True)\n",
    "    (2): Conv2d(64, 64, kernel_size=(3, 3), stride=(1, 1), padding=(1, 1))\n",
    "    (3): ReLU(inplace=True)\n",
    "    (4): MaxPool2d(kernel_size=2, stride=2, padding=0, dilation=1, ceil_mode=False)\n",
    "    (5): Conv2d(64, 128, kernel_size=(3, 3), stride=(1, 1), padding=(1, 1))\n",
    "    (6): ReLU(inplace=True)\n",
    "    (7): Conv2d(128, 128, kernel_size=(3, 3), stride=(1, 1), padding=(1, 1))\n",
    "    (8): ReLU(inplace=True)\n",
    "    (9): MaxPool2d(kernel_size=2, stride=2, padding=0, dilation=1, ceil_mode=False)\n",
    "    (10): Conv2d(128, 256, kernel_size=(3, 3), stride=(1, 1), padding=(1, 1))\n",
    "    (11): ReLU(inplace=True)\n",
    "    (12): Conv2d(256, 256, kernel_size=(3, 3), stride=(1, 1), padding=(1, 1))\n",
    "    (13): ReLU(inplace=True)\n",
    "    (14): Conv2d(256, 256, kernel_size=(3, 3), stride=(1, 1), padding=(1, 1))\n",
    "    (15): ReLU(inplace=True)\n",
    "    (16): MaxPool2d(kernel_size=2, stride=2, padding=0, dilation=1, ceil_mode=False)\n",
    "    (17): Conv2d(256, 512, kernel_size=(3, 3), stride=(1, 1), padding=(1, 1))\n",
    "    (18): ReLU(inplace=True)\n",
    "    (19): Conv2d(512, 512, kernel_size=(3, 3), stride=(1, 1), padding=(1, 1))\n",
    "    (20): ReLU(inplace=True)\n",
    "    (21): Conv2d(512, 512, kernel_size=(3, 3), stride=(1, 1), padding=(1, 1))\n",
    "    (22): ReLU(inplace=True)\n",
    "    (23): MaxPool2d(kernel_size=2, stride=2, padding=0, dilation=1, ceil_mode=False)\n",
    "    (24): Conv2d(512, 512, kernel_size=(3, 3), stride=(1, 1), padding=(1, 1))\n",
    "    (25): ReLU(inplace=True)\n",
    "    (26): Conv2d(512, 512, kernel_size=(3, 3), stride=(1, 1), padding=(1, 1))\n",
    "    (27): ReLU(inplace=True)\n",
    "    (28): Conv2d(512, 512, kernel_size=(3, 3), stride=(1, 1), padding=(1, 1))\n",
    "    (29): ReLU(inplace=True)\n",
    "    (30): MaxPool2d(kernel_size=2, stride=2, padding=0, dilation=1, ceil_mode=False)\n",
    "  )\n",
    "###这里是自适应平均池化 将不同尺寸的输入统一调整为 7x7（例如原图不是224x224时也能处理）\n",
    "  (avgpool): AdaptiveAvgPool2d(output_size=(7, 7))\n",
    " ###这里是分类器（classifier）\n",
    "  (classifier): Sequential(\n",
    "    (0): Linear(in_features=25088, out_features=4096, bias=True)\n",
    "    (1): ReLU(inplace=True)\n",
    "    (2): Dropout(p=0.5, inplace=False)\n",
    "    (3): Linear(in_features=4096, out_features=4096, bias=True)\n",
    "    (4): ReLU(inplace=True)\n",
    "    (5): Dropout(p=0.5, inplace=False)\n",
    "    (6): Linear(in_features=4096, out_features=1000, bias=True)\n",
    "  )\n",
    ")"
   ],
   "id": "f12c7c98fee15ba8"
  },
  {
   "metadata": {
    "ExecuteTime": {
     "end_time": "2025-03-31T03:35:18.194890Z",
     "start_time": "2025-03-31T03:35:18.186849Z"
    }
   },
   "cell_type": "code",
   "source": [
    "from torch import nn\n",
    "\n",
    "###如何利用现有网络去修改结构,当前vgg网络输出1000，我需要预测一个10分类的任务因此需要调整网络\n",
    "# vgg16.add_module('add_linear',nn.Sequential(nn.Linear(1000,10)))\n",
    "###如果要加到现有的模型内\n",
    "# vgg16.classifier.add_module('add_linear',nn.Linear(1000,10))\n",
    "\n",
    "###修改现有模型\n",
    "vgg16.classifier[6]=nn.Linear(4096,10)"
   ],
   "id": "a1149fb59691e032",
   "outputs": [],
   "execution_count": 40
  },
  {
   "metadata": {
    "ExecuteTime": {
     "end_time": "2025-03-31T03:35:18.200839Z",
     "start_time": "2025-03-31T03:35:18.198419Z"
    }
   },
   "cell_type": "code",
   "source": "",
   "id": "c9ba4cf7aec352bf",
   "outputs": [],
   "execution_count": 40
  }
 ],
 "metadata": {
  "kernelspec": {
   "display_name": "Python 3",
   "language": "python",
   "name": "python3"
  },
  "language_info": {
   "codemirror_mode": {
    "name": "ipython",
    "version": 2
   },
   "file_extension": ".py",
   "mimetype": "text/x-python",
   "name": "python",
   "nbconvert_exporter": "python",
   "pygments_lexer": "ipython2",
   "version": "2.7.6"
  }
 },
 "nbformat": 4,
 "nbformat_minor": 5
}
