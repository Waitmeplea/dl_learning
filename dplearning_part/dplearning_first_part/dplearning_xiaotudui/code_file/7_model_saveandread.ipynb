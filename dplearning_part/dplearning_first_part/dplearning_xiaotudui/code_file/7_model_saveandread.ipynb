{
 "cells": [
  {
   "metadata": {
    "ExecuteTime": {
     "end_time": "2025-03-31T11:53:19.925297Z",
     "start_time": "2025-03-31T11:53:18.036807Z"
    }
   },
   "cell_type": "code",
   "source": [
    "import torch\n",
    "import torchvision\n",
    "from torch.utils.data import Dataset, DataLoader\n",
    "import sys\n",
    "import os"
   ],
   "id": "3e92d175280835b9",
   "outputs": [],
   "execution_count": 1
  },
  {
   "cell_type": "code",
   "id": "initial_id",
   "metadata": {
    "collapsed": true,
    "ExecuteTime": {
     "end_time": "2025-03-31T11:53:20.835718Z",
     "start_time": "2025-03-31T11:53:20.233789Z"
    }
   },
   "source": "dataset=torchvision.datasets.CIFAR10(root='../data',transform=torchvision.transforms.ToTensor(), train=False, download=True)",
   "outputs": [],
   "execution_count": 2
  },
  {
   "metadata": {
    "ExecuteTime": {
     "end_time": "2025-03-31T11:53:21.498743Z",
     "start_time": "2025-03-31T11:53:21.496309Z"
    }
   },
   "cell_type": "code",
   "source": "Dataloader = torch.utils.data.DataLoader(dataset,batch_size=4,shuffle=True)",
   "id": "8e47f577406b4469",
   "outputs": [],
   "execution_count": 3
  },
  {
   "metadata": {
    "ExecuteTime": {
     "end_time": "2025-03-31T11:53:49.808917Z",
     "start_time": "2025-03-31T11:53:48.913098Z"
    }
   },
   "cell_type": "code",
   "source": "vgg16=torchvision.models.vgg16(weights=None)",
   "id": "4ab676ca7175be6d",
   "outputs": [],
   "execution_count": 7
  },
  {
   "metadata": {
    "ExecuteTime": {
     "end_time": "2025-03-31T11:54:14.051419Z",
     "start_time": "2025-03-31T11:54:10.854654Z"
    }
   },
   "cell_type": "code",
   "source": [
    "###后缀一般用pth,注意这里state_dict() 是只保存参数，加载时必须要有相同的结构\n",
    "###保存方式1、加state_dict() 只保存参数 官方推荐\n",
    "torch.save(vgg16.state_dict(), 'vgg16.pth')\n",
    "##保存方式2 不加state_dict() 注：自己写的模型保存直接加载会出错，要复制模型的定义\n",
    "torch.save(vgg16, 'vgg16.pth')"
   ],
   "id": "d857df8e43f82b7f",
   "outputs": [],
   "execution_count": 9
  },
  {
   "metadata": {
    "ExecuteTime": {
     "end_time": "2025-03-31T12:06:07.114203Z",
     "start_time": "2025-03-31T12:06:06.935197Z"
    }
   },
   "cell_type": "code",
   "source": [
    "###加载方式 不建议直接加载模型\n",
    "model = torch.load('vgg16.pth', weights_only=False)  # 关闭安全限制"
   ],
   "id": "a090001086db4556",
   "outputs": [],
   "execution_count": 11
  },
  {
   "metadata": {},
   "cell_type": "code",
   "outputs": [],
   "execution_count": null,
   "source": "",
   "id": "5de24239e4637cba"
  }
 ],
 "metadata": {
  "kernelspec": {
   "display_name": "Python 3",
   "language": "python",
   "name": "python3"
  },
  "language_info": {
   "codemirror_mode": {
    "name": "ipython",
    "version": 2
   },
   "file_extension": ".py",
   "mimetype": "text/x-python",
   "name": "python",
   "nbconvert_exporter": "python",
   "pygments_lexer": "ipython2",
   "version": "2.7.6"
  }
 },
 "nbformat": 4,
 "nbformat_minor": 5
}
