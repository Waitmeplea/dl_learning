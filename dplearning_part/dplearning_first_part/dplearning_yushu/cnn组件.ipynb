{
 "cells": [
  {
   "cell_type": "code",
   "id": "initial_id",
   "metadata": {
    "collapsed": true,
    "ExecuteTime": {
     "end_time": "2025-03-22T11:19:28.485002Z",
     "start_time": "2025-03-22T11:19:28.481821Z"
    }
   },
   "source": [
    "import numpy as np\n",
    "import sys\n",
    "import os\n",
    "\n",
    "from dplearning.book_material.common.util import im2col\n",
    "\n",
    "sys.path.append('book_material')\n",
    "from common.util import *"
   ],
   "outputs": [],
   "execution_count": 8
  },
  {
   "metadata": {
    "ExecuteTime": {
     "end_time": "2025-03-22T11:19:31.085262Z",
     "start_time": "2025-03-22T11:19:31.082537Z"
    }
   },
   "cell_type": "code",
   "source": "x1=np.random.rand(1,3,7,7)",
   "id": "2faa98f2e798ce61",
   "outputs": [],
   "execution_count": 9
  },
  {
   "metadata": {
    "ExecuteTime": {
     "end_time": "2025-03-22T11:19:31.330802Z",
     "start_time": "2025-03-22T11:19:31.328380Z"
    }
   },
   "cell_type": "code",
   "source": "col1=im2col(x1,3,3,stride=1,pad=0)",
   "id": "c2e17c5f942edfa8",
   "outputs": [],
   "execution_count": 10
  },
  {
   "metadata": {
    "ExecuteTime": {
     "end_time": "2025-03-22T11:19:31.596546Z",
     "start_time": "2025-03-22T11:19:31.593560Z"
    }
   },
   "cell_type": "code",
   "source": "col1.shape",
   "id": "617d844a0acf23b",
   "outputs": [
    {
     "data": {
      "text/plain": [
       "(25, 27)"
      ]
     },
     "execution_count": 11,
     "metadata": {},
     "output_type": "execute_result"
    }
   ],
   "execution_count": 11
  },
  {
   "metadata": {},
   "cell_type": "code",
   "outputs": [],
   "execution_count": null,
   "source": [
    "class Convolution(object):\n",
    "    def __init__(self,W,b,stride=1,pad=0):\n",
    "        self.W=W\n",
    "        self.b=b\n",
    "        self.stride=stride\n",
    "        self.pad=pad\n",
    "    def forward(self,x):\n",
    "        ###输入数据形状\n",
    "        N,C,H,W=x.shape\n",
    "        ###卷积核原始形状\n",
    "        FN,C,FH,FW=self.W.shape\n",
    "        ###im2col 得到一个N*OH*OW * FH*FW*C的矩阵\n",
    "        x_col=im2col(x,FH,FW,stride=self.stride,pad=self.pad)\n",
    "        ###先计算输出的特征图宽和高\n",
    "        out_h=1+(H+2*self.pad-FH)/self.stride\n",
    "        out_w=1+(W+2*self.pad-FW)/self.stride\n",
    "        ###权重矩阵reshape为 FH*FW*C * FN的形状由于FN是最外层维度 所以要先FN * XXX 然后转置\n",
    "        w_col=self.W.reshape(FN,-1).T\n",
    "        #### 计算 得到结果应该是 N*OH*OW *  FN 的结果\n",
    "        out=np.dot(x_col,w_col)+self.b\n",
    "        ###其中N是分组不用动但是FN实际上是通道 所以要transpose回来\n",
    "        out.reshape(N,out_h,out_w,-1).transpose(0,3,1,2)\n",
    "        return out"
   ],
   "id": "f154e588c779bea4"
  },
  {
   "metadata": {
    "ExecuteTime": {
     "end_time": "2025-03-22T12:58:00.239074Z",
     "start_time": "2025-03-22T12:58:00.235167Z"
    }
   },
   "cell_type": "code",
   "source": [
    "class pooling:\n",
    "    def __init__(self,pool_h,pool_w,stride=1,pad=0):\n",
    "        self.pool_h=pool_h\n",
    "        self.pool_w=pool_w\n",
    "        self.stride=stride\n",
    "        self.pad=pad\n",
    "    def forward(self,x):\n",
    "        N,C,H,W=x.shape\n",
    "        out_h=1+(H+2*self.pad-H)/self.stride\n",
    "        out_w=1+(W+2*self.pad-W)/self.stride\n",
    "        x_col=im2col(x,self.pool_h,self.pool_w,stride=self.stride,pad=self.pad)\n",
    "        x_col=x_col.reshape(-1,self.pool_h*self.pool_w)\n",
    "        out=np.max(x_col,axis=1)\n",
    "        out=out.reshape(N,out_h,out_w,-1).transpose(0,3,1,2)\n",
    "        return out"
   ],
   "id": "29bb3c2afc2b1a2a",
   "outputs": [],
   "execution_count": 26
  },
  {
   "metadata": {
    "ExecuteTime": {
     "end_time": "2025-03-22T12:58:00.690038Z",
     "start_time": "2025-03-22T12:58:00.686033Z"
    }
   },
   "cell_type": "code",
   "source": "print(test)",
   "id": "37977f3409d0904d",
   "outputs": [
    {
     "name": "stdout",
     "output_type": "stream",
     "text": [
      "[[[[0.98773548 0.69000007]\n",
      "   [0.40095929 0.97136407]]\n",
      "\n",
      "  [[0.39045916 0.39684771]\n",
      "   [0.09744227 0.17336547]]]\n",
      "\n",
      "\n",
      " [[[0.9375689  0.82249621]\n",
      "   [0.85851668 0.95539596]]\n",
      "\n",
      "  [[0.20194441 0.1100764 ]\n",
      "   [0.28920022 0.96031423]]]]\n"
     ]
    }
   ],
   "execution_count": 27
  },
  {
   "metadata": {
    "ExecuteTime": {
     "end_time": "2025-03-22T12:59:16.406832Z",
     "start_time": "2025-03-22T12:59:16.403764Z"
    }
   },
   "cell_type": "code",
   "source": "print(test.reshape(2,-1))",
   "id": "e0330f2380038f90",
   "outputs": [
    {
     "name": "stdout",
     "output_type": "stream",
     "text": [
      "[[0.98773548 0.69000007 0.40095929 0.97136407 0.39045916 0.39684771\n",
      "  0.09744227 0.17336547]\n",
      " [0.9375689  0.82249621 0.85851668 0.95539596 0.20194441 0.1100764\n",
      "  0.28920022 0.96031423]]\n"
     ]
    }
   ],
   "execution_count": 30
  },
  {
   "metadata": {
    "ExecuteTime": {
     "end_time": "2025-03-22T12:55:36.214109Z",
     "start_time": "2025-03-22T12:55:36.210640Z"
    }
   },
   "cell_type": "code",
   "source": "test.reshape(-1,4)",
   "id": "8882fce9cded97ce",
   "outputs": [
    {
     "data": {
      "text/plain": [
       "array([[0.89114876, 0.97023993, 0.4118958 , 0.02695672],\n",
       "       [0.61754829, 0.45322836, 0.80104408, 0.99073972],\n",
       "       [0.77416761, 0.17963067, 0.89798723, 0.50999748]])"
      ]
     },
     "execution_count": 25,
     "metadata": {},
     "output_type": "execute_result"
    }
   ],
   "execution_count": 25
  },
  {
   "metadata": {
    "ExecuteTime": {
     "end_time": "2025-03-22T13:00:57.350176Z",
     "start_time": "2025-03-22T13:00:57.347672Z"
    }
   },
   "cell_type": "code",
   "source": "test1=np.random.rand(2,2,3)",
   "id": "d540389d150dfc79",
   "outputs": [],
   "execution_count": 37
  },
  {
   "metadata": {
    "ExecuteTime": {
     "end_time": "2025-03-22T13:02:55.727312Z",
     "start_time": "2025-03-22T13:02:55.722785Z"
    }
   },
   "cell_type": "code",
   "source": "print(test1)",
   "id": "29aca840dbd455a8",
   "outputs": [
    {
     "name": "stdout",
     "output_type": "stream",
     "text": [
      "[[[0.10796304 0.74878484 0.73659782]\n",
      "  [0.20645317 0.99819547 0.6891635 ]]\n",
      "\n",
      " [[0.95957394 0.11388469 0.95975274]\n",
      "  [0.23919791 0.7766131  0.87194025]]]\n"
     ]
    }
   ],
   "execution_count": 39
  },
  {
   "metadata": {
    "ExecuteTime": {
     "end_time": "2025-03-22T13:03:16.960067Z",
     "start_time": "2025-03-22T13:03:16.957100Z"
    }
   },
   "cell_type": "code",
   "source": "print(test1.reshape(2,-1))",
   "id": "6fb2718874ef44a0",
   "outputs": [
    {
     "name": "stdout",
     "output_type": "stream",
     "text": [
      "[[0.10796304 0.74878484 0.73659782 0.20645317 0.99819547 0.6891635 ]\n",
      " [0.95957394 0.11388469 0.95975274 0.23919791 0.7766131  0.87194025]]\n"
     ]
    }
   ],
   "execution_count": 41
  },
  {
   "metadata": {},
   "cell_type": "code",
   "outputs": [],
   "execution_count": null,
   "source": "",
   "id": "87d0c75cc7b7de2c"
  }
 ],
 "metadata": {
  "kernelspec": {
   "display_name": "Python 3",
   "language": "python",
   "name": "python3"
  },
  "language_info": {
   "codemirror_mode": {
    "name": "ipython",
    "version": 2
   },
   "file_extension": ".py",
   "mimetype": "text/x-python",
   "name": "python",
   "nbconvert_exporter": "python",
   "pygments_lexer": "ipython2",
   "version": "2.7.6"
  }
 },
 "nbformat": 4,
 "nbformat_minor": 5
}
