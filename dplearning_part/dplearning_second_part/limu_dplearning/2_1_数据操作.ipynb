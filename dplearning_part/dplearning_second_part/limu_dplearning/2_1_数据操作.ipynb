{
 "cells": [
  {
   "cell_type": "code",
   "id": "initial_id",
   "metadata": {
    "ExecuteTime": {
     "end_time": "2025-04-02T02:08:31.248638Z",
     "start_time": "2025-04-02T02:08:31.236963Z"
    }
   },
   "source": [
    "import torch\n",
    "devices=torch.device('cpu')\n",
    "##sparse系列函数\n",
    "# sparse 系列函数用于处理稀疏张量（Sparse Tensor），它们专门针对数据中大部分元素为零的高效存储和计算场景设计。\n",
    "# #sparse_coo_tensor 是其中一种构造稀疏张量的方法，代表 COO（Coordinate）格式的稀疏张量。\n",
    "# 稀疏张量通过仅存储非零元素的坐标和值，避免存储大量零值，从而显著节省内存和计算资源。"
   ],
   "outputs": [],
   "execution_count": 3
  },
  {
   "metadata": {
    "ExecuteTime": {
     "end_time": "2025-04-02T02:08:31.485422Z",
     "start_time": "2025-04-02T02:08:31.474310Z"
    }
   },
   "cell_type": "code",
   "source": [
    "# out (Optional[Tensor], 可选)\n",
    "# 指定输出张量。若提供，结果会直接写入此张量，需确保其形状和数据类型兼容。\n",
    "#\n",
    "# dtype (Optional[dtype], 可选)\n",
    "# 指定输出张量的数据类型（如 torch.float32, torch.int64）。若未提供，则根据输入数值推断。\n",
    "#\n",
    "# device (Optional[DeviceLikeType], 可选)\n",
    "# 指定张量存储的设备（如 \"cpu\", \"cuda:0\"）。默认使用当前设备。\n",
    "#\n",
    "# requires_grad (bool, 默认=False)\n",
    "# 是否为此张量启用自动求导。用于构建计算图，常用于模型训练。\n",
    "#\n",
    "# pin_memory (bool, 默认=False)\n",
    "# 是否将张量锁定在页锁内存（Pinned Memory），可加速数据从CPU到GPU的传输。\n",
    "x=torch.arange(10,device=torch.device(devices))"
   ],
   "id": "bd68aa93755f1719",
   "outputs": [],
   "execution_count": 4
  },
  {
   "cell_type": "code",
   "id": "adc0cae53322e0d9",
   "metadata": {
    "ExecuteTime": {
     "end_time": "2025-04-02T02:08:31.693248Z",
     "start_time": "2025-04-02T02:08:31.677160Z"
    }
   },
   "source": [
    "# out (Tensor, optional) – the output tensor.\n",
    "# dtype (torch.dtype, optional) –指定张量类型\n",
    "# layout (torch.layout, optional) – 指定张量布局 默认是torch.stride 还有sparse 也就是稀疏矩阵的布局\n",
    "# device (torch.device, optional) – 设备\n",
    "# requires_grad (bool, optional) – If autograd should record operations on the returned tensor. Default: False.\n",
    "torch.zeros(2) ##主要参数可以是可变数量参数也可是数组元素等形式\n",
    "torch.ones(2)\n",
    "#*_like() 系列函数（如 torch.rand_like()）: 根据输入张量的形状和数据类型生成新张量"
   ],
   "outputs": [
    {
     "data": {
      "text/plain": [
       "tensor([1., 1.])"
      ]
     },
     "execution_count": 5,
     "metadata": {},
     "output_type": "execute_result"
    }
   ],
   "execution_count": 5
  },
  {
   "cell_type": "code",
   "id": "978199e3-d918-4ad0-aa45-a5f240ab2a1c",
   "metadata": {
    "ExecuteTime": {
     "end_time": "2025-04-02T02:08:32.152772Z",
     "start_time": "2025-04-02T02:08:32.134723Z"
    }
   },
   "source": [
    "torch.arange(1,9)##range已经废除了"
   ],
   "outputs": [
    {
     "data": {
      "text/plain": [
       "tensor([1, 2, 3, 4, 5, 6, 7, 8])"
      ]
     },
     "execution_count": 6,
     "metadata": {},
     "output_type": "execute_result"
    }
   ],
   "execution_count": 6
  },
  {
   "cell_type": "code",
   "id": "f98fe374-0544-46c5-8fa3-8c07df1cd2ce",
   "metadata": {
    "ExecuteTime": {
     "end_time": "2025-04-02T02:08:32.506974Z",
     "start_time": "2025-04-02T02:08:32.503852Z"
    }
   },
   "source": [
    "###通常的+-*/ 求幂 都是按元素运算结果"
   ],
   "outputs": [],
   "execution_count": 7
  },
  {
   "cell_type": "code",
   "id": "6466e211-b084-45db-9bba-722f52135c30",
   "metadata": {
    "ExecuteTime": {
     "end_time": "2025-04-02T02:08:32.663837Z",
     "start_time": "2025-04-02T02:08:32.655491Z"
    }
   },
   "source": [
    "###张量连接"
   ],
   "outputs": [],
   "execution_count": 8
  },
  {
   "cell_type": "code",
   "id": "afb413df-6a92-4003-943d-cb0b53c6c73b",
   "metadata": {
    "ExecuteTime": {
     "end_time": "2025-04-02T02:08:32.971892Z",
     "start_time": "2025-04-02T02:08:32.958406Z"
    }
   },
   "source": [
    "x=torch.arange(6,dtype=torch.float32).reshape(2,3)\n",
    "y=torch.tensor([[1,2],[2,3]])\n",
    "torch.cat([x,y],axis=1) ##连接的维度必须要相等比如2*3 和 2*5 可以按行拼接"
   ],
   "outputs": [
    {
     "data": {
      "text/plain": [
       "tensor([[0., 1., 2., 1., 2.],\n",
       "        [3., 4., 5., 2., 3.]])"
      ]
     },
     "execution_count": 9,
     "metadata": {},
     "output_type": "execute_result"
    }
   ],
   "execution_count": 9
  },
  {
   "cell_type": "code",
   "id": "9d0f1878-d99b-43a7-bb9e-9dd1acb93e04",
   "metadata": {
    "ExecuteTime": {
     "end_time": "2025-04-02T02:08:33.410058Z",
     "start_time": "2025-04-02T02:08:33.392304Z"
    }
   },
   "source": [
    "###逻辑运算符构建二元张量 两个张量格式必须完全一致\n",
    "a=torch.randn([1,2])\n",
    "b=torch.randn([1,2])\n",
    "result=(a==b)\n",
    "###张量求和\n",
    "result.sum()\n",
    "##或者\n",
    "torch.sum(result)"
   ],
   "outputs": [
    {
     "data": {
      "text/plain": [
       "tensor(0)"
      ]
     },
     "execution_count": 10,
     "metadata": {},
     "output_type": "execute_result"
    }
   ],
   "execution_count": 10
  },
  {
   "cell_type": "code",
   "id": "d66c0cba-301e-46bc-9a1d-26363d9dfd71",
   "metadata": {
    "ExecuteTime": {
     "end_time": "2025-04-02T02:08:33.742542Z",
     "start_time": "2025-04-02T02:08:33.723760Z"
    }
   },
   "source": [
    "###广播机制 与numpy类似\n",
    "# 当两个张量格式不一样时\n",
    "# 通过适当复制元素来扩展一个或两个数组，以便在转换之后，两个张量具有相同的形状；\n",
    "# 对生成的数组执行按元素操作。\n",
    "x=torch.randn([3,1])\n",
    "y=torch.randn([1,3])"
   ],
   "outputs": [],
   "execution_count": 11
  },
  {
   "cell_type": "code",
   "id": "fc781350-37a1-4404-b715-15d2b7d3ecdd",
   "metadata": {
    "ExecuteTime": {
     "end_time": "2025-04-02T02:08:34.223193Z",
     "start_time": "2025-04-02T02:08:34.213701Z"
    }
   },
   "source": [
    "##索引与切片与numpy和list类似"
   ],
   "outputs": [],
   "execution_count": 12
  },
  {
   "cell_type": "code",
   "id": "7fc8d929-9724-47af-a4ee-d335bd798462",
   "metadata": {
    "ExecuteTime": {
     "end_time": "2025-04-02T02:08:34.484608Z",
     "start_time": "2025-04-02T02:08:34.474449Z"
    }
   },
   "source": [
    "## list x = y 是变量重新绑定操作，而 x[:] = y 是原地修改操作， torch.tensor也有类似的操作\n",
    "Z = torch.zeros([1,2])\n",
    "print('id(Z):', id(Z))\n",
    "Z[:] = torch.zeros([2])\n",
    "print('id(Z):', id(Z))"
   ],
   "outputs": [
    {
     "name": "stdout",
     "output_type": "stream",
     "text": [
      "id(Z): 2152778326352\n",
      "id(Z): 2152778326352\n"
     ]
    }
   ],
   "execution_count": 13
  },
  {
   "cell_type": "code",
   "id": "6b6411e2-9d5c-4113-a9b3-742a4c41763b",
   "metadata": {
    "ExecuteTime": {
     "end_time": "2025-04-02T02:08:35.288408Z",
     "start_time": "2025-04-02T02:08:35.271716Z"
    }
   },
   "source": [
    "###转换为其他python对象\n",
    "x=torch.tensor([2,3])\n",
    "x.numpy()\n",
    "one_num=torch.tensor([1])\n",
    "one_num.item()###只有一个元素的张量才可以使用item （）函数"
   ],
   "outputs": [
    {
     "data": {
      "text/plain": [
       "1"
      ]
     },
     "execution_count": 14,
     "metadata": {},
     "output_type": "execute_result"
    }
   ],
   "execution_count": 14
  },
  {
   "cell_type": "code",
   "id": "b977f63a-d235-485f-a94a-c3bc2f2a5241",
   "metadata": {
    "ExecuteTime": {
     "end_time": "2025-04-02T02:08:35.668528Z",
     "start_time": "2025-04-02T02:08:35.664946Z"
    }
   },
   "source": [
    "x=torch.tensor([2,3])"
   ],
   "outputs": [],
   "execution_count": 15
  }
 ],
 "metadata": {
  "kernelspec": {
   "display_name": "Python 3 (ipykernel)",
   "language": "python",
   "name": "python3"
  },
  "language_info": {
   "codemirror_mode": {
    "name": "ipython",
    "version": 3
   },
   "file_extension": ".py",
   "mimetype": "text/x-python",
   "name": "python",
   "nbconvert_exporter": "python",
   "pygments_lexer": "ipython3",
   "version": "3.11.2"
  }
 },
 "nbformat": 4,
 "nbformat_minor": 5
}
