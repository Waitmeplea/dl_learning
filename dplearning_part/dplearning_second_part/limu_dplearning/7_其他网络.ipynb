{
 "cells": [
  {
   "metadata": {},
   "cell_type": "code",
   "outputs": [],
   "execution_count": null,
   "source": "",
   "id": "5de1a382121b377"
  },
  {
   "metadata": {
    "ExecuteTime": {
     "end_time": "2025-05-26T01:55:08.697356Z",
     "start_time": "2025-05-26T01:55:06.631997Z"
    }
   },
   "cell_type": "code",
   "source": [
    "from torch import nn\n",
    "from torch.nn import functional as F\n",
    "import torch"
   ],
   "id": "68b9f2139d4382fb",
   "outputs": [],
   "execution_count": 1
  },
  {
   "metadata": {},
   "cell_type": "markdown",
   "source": [
    "残差神经网络思想：只有当较复杂的函数类包含较小的函数类时，我们才能确保提高它们的性能。 对于深度神经网络，如果我们能将新添加的层训练成恒等映射（identity function）\n",
    "，新模型和原模型将同样有效。 同时，由于新模型可能得出更优的解来拟合训练数据集，因此添加层似乎更容易降低训练误差。\n",
    "\n",
    " 残差网络的核心思想是：每个附加层都应该更容易地包含原始函数作为其元素之一。 于是，残差块（residual blocks）便诞生了，这个设计对如何建立深层神经网络产生了深远的影响。"
   ],
   "id": "5a4637ca369cfc37"
  },
  {
   "metadata": {
    "ExecuteTime": {
     "end_time": "2025-05-26T01:55:08.704266Z",
     "start_time": "2025-05-26T01:55:08.698855Z"
    }
   },
   "cell_type": "code",
   "source": [
    "class Residual(nn.Module):\n",
    "    def __init__(self, input_channels, num_channels,use_1x1conv=False,strides=1):\n",
    "        super(Residual, self).__init__()\n",
    "        self.conv1=nn.Conv2d(in_channels=input_channels,out_channels=num_channels,kernel_size=3,stride=strides,padding=1)\n",
    "        self.conv2=nn.Conv2d(in_channels=num_channels,out_channels=num_channels,kernel_size=3,stride=1,padding=1)\n",
    "        self.relu=nn.ReLU(inplace=True)\n",
    "        if use_1x1conv:\n",
    "            ##大小必须要跟上面的一样 因此 strides要继承\n",
    "            self.conv3=nn.Conv2d(in_channels=input_channels,out_channels=num_channels,kernel_size=3,stride=strides,padding=1)\n",
    "        else:\n",
    "            self.conv3=None\n",
    "        self.bn1=nn.BatchNorm2d(num_features=num_channels)\n",
    "        self.bn2=nn.BatchNorm2d(num_features=num_channels)\n",
    "    def forward(self, x):\n",
    "        y=F.relu(self.bn1(self.conv1(x)))\n",
    "        y=self.bn2(self.conv2(y))\n",
    "        if self.conv3:\n",
    "            x=self.conv3(x)\n",
    "        y=y+x\n",
    "        return self.relu(y)\n",
    "        "
   ],
   "id": "fa93bcdf64339656",
   "outputs": [],
   "execution_count": 2
  },
  {
   "metadata": {
    "ExecuteTime": {
     "end_time": "2025-05-26T01:55:08.718421Z",
     "start_time": "2025-05-26T01:55:08.705268Z"
    }
   },
   "cell_type": "code",
   "source": "blk=Residual(3,3)",
   "id": "dd07f030916b8b06",
   "outputs": [],
   "execution_count": 3
  },
  {
   "metadata": {
    "ExecuteTime": {
     "end_time": "2025-05-26T01:55:12.446864Z",
     "start_time": "2025-05-26T01:55:12.369031Z"
    }
   },
   "cell_type": "code",
   "source": [
    "x=torch.rand(4,3,6,6)\n",
    "y=blk(x)"
   ],
   "id": "ed46086b87480a58",
   "outputs": [],
   "execution_count": 4
  },
  {
   "metadata": {
    "ExecuteTime": {
     "end_time": "2025-05-26T01:55:13.214891Z",
     "start_time": "2025-05-26T01:55:13.207545Z"
    }
   },
   "cell_type": "code",
   "source": "y.shape",
   "id": "dad1dd88f8fe1a7a",
   "outputs": [
    {
     "data": {
      "text/plain": [
       "torch.Size([4, 3, 6, 6])"
      ]
     },
     "execution_count": 5,
     "metadata": {},
     "output_type": "execute_result"
    }
   ],
   "execution_count": 5
  },
  {
   "metadata": {
    "ExecuteTime": {
     "end_time": "2025-04-22T09:45:30.311573Z",
     "start_time": "2025-04-22T09:45:30.307109Z"
    }
   },
   "cell_type": "code",
   "source": [
    "b1=nn.Sequential(nn.Conv2d(1,64,kernel_size=7,stride=2,padding=3),nn.BatchNorm2d(64),nn.ReLU()\n",
    "                 ,nn.MaxPool2d(kernel_size=3,stride=2,padding=1))\n",
    "\n",
    "def resnet_block(in_channels,out_channels,num_residuals,first_block=False):\n",
    "    blk=[]\n",
    "    for i in range(num_residuals):\n",
    "        if i==0 and not first_block:\n",
    "            blk.append(Residual(in_channels,out_channels,use_1x1conv=True,strides=2))\n",
    "        else:\n",
    "            blk.append(Residual(out_channels,out_channels))\n",
    "    return blk"
   ],
   "id": "e590f965a14d972e",
   "outputs": [],
   "execution_count": 38
  },
  {
   "metadata": {
    "ExecuteTime": {
     "end_time": "2025-04-22T09:45:30.810638Z",
     "start_time": "2025-04-22T09:45:30.715990Z"
    }
   },
   "cell_type": "code",
   "source": [
    "b2 = nn.Sequential(*resnet_block(64, 64, 2, first_block=True))\n",
    "b3 = nn.Sequential(*resnet_block(64, 128, 2))\n",
    "b4 = nn.Sequential(*resnet_block(128, 256, 2))\n",
    "b5 = nn.Sequential(*resnet_block(256, 512, 2))\n",
    "net=nn.Sequential(b1,b2,b3,b4,b5,nn.AdaptiveAvgPool2d(1),nn.Flatten(),nn.Linear(512,10))"
   ],
   "id": "e3155ddc62638b6a",
   "outputs": [],
   "execution_count": 39
  },
  {
   "metadata": {
    "ExecuteTime": {
     "end_time": "2025-04-22T09:45:30.994946Z",
     "start_time": "2025-04-22T09:45:30.934984Z"
    }
   },
   "cell_type": "code",
   "source": [
    "X = torch.rand(size=(1, 1, 224, 224))\n",
    "for layer in net:\n",
    "    X = layer(X)\n",
    "    print(layer.__class__.__name__,'output shape:\\t', X.shape)"
   ],
   "id": "2d6967caa9ba3efb",
   "outputs": [
    {
     "name": "stdout",
     "output_type": "stream",
     "text": [
      "Sequential output shape:\t torch.Size([1, 64, 56, 56])\n",
      "Sequential output shape:\t torch.Size([1, 64, 56, 56])\n",
      "Sequential output shape:\t torch.Size([1, 128, 28, 28])\n",
      "Sequential output shape:\t torch.Size([1, 256, 14, 14])\n",
      "Sequential output shape:\t torch.Size([1, 512, 7, 7])\n",
      "AdaptiveAvgPool2d output shape:\t torch.Size([1, 512, 1, 1])\n",
      "Flatten output shape:\t torch.Size([1, 512])\n",
      "Linear output shape:\t torch.Size([1, 10])\n"
     ]
    }
   ],
   "execution_count": 40
  },
  {
   "metadata": {},
   "cell_type": "markdown",
   "source": "# 密集神经网络densenet",
   "id": "5c7826edda87814c"
  },
  {
   "metadata": {
    "ExecuteTime": {
     "end_time": "2025-04-23T02:04:50.677376Z",
     "start_time": "2025-04-23T02:04:47.727627Z"
    }
   },
   "cell_type": "code",
   "source": [
    "#DenseNet使用了ResNet改良版的“批量规范化、激活和卷积”架构（参见 7.6节中的练习）。 我们首先实现一下这个架构。\n",
    "import torch\n",
    "from torch import nn\n",
    "def conv_block(input_channels,out_channels):\n",
    "    return nn.Sequential(nn.BatchNorm2d(input_channels),nn.ReLU(),nn.Conv2d(input_channels,out_channels,kernel_size=3,padding=1))"
   ],
   "id": "bc2330f588a96f2e",
   "outputs": [],
   "execution_count": 1
  },
  {
   "metadata": {
    "ExecuteTime": {
     "end_time": "2025-04-23T02:36:27.015683Z",
     "start_time": "2025-04-23T02:36:27.002227Z"
    }
   },
   "cell_type": "code",
   "source": [
    "##稠密块\n",
    "class DenseBlock(nn.Module):\n",
    "    def __init__(self, num_convs,input_channels,num_channels):\n",
    "        super().__init__()\n",
    "        layer=[]\n",
    "        for i in range(num_convs):\n",
    "            layer.append(conv_block(input_channels+num_channels*i,num_channels))\n",
    "        self.net=nn.Sequential(*layer)\n",
    "    def forward(self,x):\n",
    "        for blk in self.net:\n",
    "            y=blk(x)\n",
    "            x=torch.cat((x,y),dim=1)\n",
    "        return x"
   ],
   "id": "61db303b5b36ddb5",
   "outputs": [],
   "execution_count": 13
  },
  {
   "metadata": {
    "ExecuteTime": {
     "end_time": "2025-04-23T02:36:27.209666Z",
     "start_time": "2025-04-23T02:36:27.175818Z"
    }
   },
   "cell_type": "code",
   "source": [
    "blk = DenseBlock(2, 3, 10)\n",
    "X = torch.randn(2, 3, 8, 8)\n",
    "Y = blk(X)\n",
    "Y.shape"
   ],
   "id": "c517a9e1f280e472",
   "outputs": [],
   "execution_count": 14
  },
  {
   "metadata": {
    "ExecuteTime": {
     "end_time": "2025-04-23T02:39:32.509191Z",
     "start_time": "2025-04-23T02:39:32.491439Z"
    }
   },
   "cell_type": "code",
   "source": [
    "##过渡层 用来缩减通道数\n",
    "def transition_block(input_channels,out_channels):\n",
    "    return nn.Sequential(\n",
    "        nn.BatchNorm2d(input_channels),nn.ReLU()\n",
    "         ,nn.Conv2d(input_channels,out_channels,kernel_size=1)\n",
    "         ,nn.AvgPool2d(kernel_size=2,stride=2)\n",
    "    )"
   ],
   "id": "8e72c681f10eec33",
   "outputs": [],
   "execution_count": 16
  },
  {
   "metadata": {
    "ExecuteTime": {
     "end_time": "2025-04-23T02:40:03.409698Z",
     "start_time": "2025-04-23T02:40:03.379524Z"
    }
   },
   "cell_type": "code",
   "source": [
    "blk = transition_block(23, 10)\n",
    "blk(Y).shape"
   ],
   "id": "4d76d9290845559a",
   "outputs": [
    {
     "data": {
      "text/plain": [
       "torch.Size([2, 10, 4, 4])"
      ]
     },
     "execution_count": 17,
     "metadata": {},
     "output_type": "execute_result"
    }
   ],
   "execution_count": 17
  },
  {
   "metadata": {
    "ExecuteTime": {
     "end_time": "2025-04-23T03:07:09.499157Z",
     "start_time": "2025-04-23T03:07:09.494873Z"
    }
   },
   "cell_type": "code",
   "source": [
    "## densenet模型\n",
    "b1=nn.Sequential(nn.Conv2d(1,64,kernel_size=7,stride=2,padding=3),nn.BatchNorm2d(64),nn.ReLU()\n",
    "                 ,nn.BatchNorm2d(64),nn.ReLU(),nn.MaxPool2d(kernel_size=3,stride=2,padding=1))"
   ],
   "id": "394aaba23d7bf6fa",
   "outputs": [],
   "execution_count": 19
  },
  {
   "metadata": {
    "ExecuteTime": {
     "end_time": "2025-04-23T03:07:09.800530Z",
     "start_time": "2025-04-23T03:07:09.785164Z"
    }
   },
   "cell_type": "code",
   "source": [
    "# num_channels为当前的通道数\n",
    "num_channels, growth_rate = 64, 32\n",
    "num_convs_in_dense_blocks = [4, 4, 4, 4]\n",
    "blks = []\n",
    "for i, num_convs in enumerate(num_convs_in_dense_blocks):\n",
    "    blks.append(DenseBlock(num_convs, num_channels, growth_rate))\n",
    "    # 上一个稠密块的输出通道数\n",
    "    num_channels += num_convs * growth_rate\n",
    "    # 在稠密块之间添加一个转换层，使通道数量减半\n",
    "    if i != len(num_convs_in_dense_blocks) - 1:\n",
    "        blks.append(transition_block(num_channels, num_channels // 2))\n",
    "        num_channels = num_channels // 2"
   ],
   "id": "69adeda7b45e144e",
   "outputs": [],
   "execution_count": 20
  },
  {
   "metadata": {
    "ExecuteTime": {
     "end_time": "2025-04-23T03:19:33.811267Z",
     "start_time": "2025-04-23T03:19:33.807327Z"
    }
   },
   "cell_type": "code",
   "source": [
    "net = nn.Sequential(\n",
    "    b1, *blks,\n",
    "    nn.BatchNorm2d(num_channels), nn.ReLU(),\n",
    "    nn.AdaptiveAvgPool2d((1, 1)),\n",
    "    nn.Flatten(),\n",
    "    nn.Linear(num_channels, 10))"
   ],
   "id": "7cf1e2f2b91854ae",
   "outputs": [],
   "execution_count": 22
  },
  {
   "metadata": {
    "ExecuteTime": {
     "end_time": "2025-04-23T03:19:45.610506Z",
     "start_time": "2025-04-23T03:19:45.604450Z"
    }
   },
   "cell_type": "code",
   "source": "x=torch.rand(size=(1, 1, 224, 224))",
   "id": "d66f21e29f5275b6",
   "outputs": [],
   "execution_count": 23
  },
  {
   "metadata": {
    "ExecuteTime": {
     "end_time": "2025-04-23T03:19:47.926147Z",
     "start_time": "2025-04-23T03:19:47.839435Z"
    }
   },
   "cell_type": "code",
   "source": "net(x)",
   "id": "54f1f820bafd2972",
   "outputs": [
    {
     "data": {
      "text/plain": [
       "tensor([[-0.0267,  0.1980,  0.1214,  0.1914, -0.0412,  0.2882,  0.0563, -0.1331,\n",
       "          0.0140,  0.1392]], grad_fn=<AddmmBackward0>)"
      ]
     },
     "execution_count": 24,
     "metadata": {},
     "output_type": "execute_result"
    }
   ],
   "execution_count": 24
  },
  {
   "metadata": {},
   "cell_type": "code",
   "outputs": [],
   "execution_count": null,
   "source": "",
   "id": "1650c8a36697ed1e"
  }
 ],
 "metadata": {
  "kernelspec": {
   "display_name": "Python 3",
   "language": "python",
   "name": "python3"
  },
  "language_info": {
   "codemirror_mode": {
    "name": "ipython",
    "version": 2
   },
   "file_extension": ".py",
   "mimetype": "text/x-python",
   "name": "python",
   "nbconvert_exporter": "python",
   "pygments_lexer": "ipython2",
   "version": "2.7.6"
  }
 },
 "nbformat": 4,
 "nbformat_minor": 5
}
