{
 "cells": [
  {
   "cell_type": "code",
   "id": "initial_id",
   "metadata": {
    "collapsed": true,
    "ExecuteTime": {
     "end_time": "2025-04-12T12:51:57.458027Z",
     "start_time": "2025-04-12T12:51:57.454425Z"
    }
   },
   "source": [
    "import torch\n",
    "import torchvision\n",
    "from torch import nn\n",
    "\n",
    "torch.device('cpu'), torch.device('cuda'),torch.device('cuda:1')"
   ],
   "outputs": [
    {
     "data": {
      "text/plain": [
       "(device(type='cpu'), device(type='cuda'), device(type='cuda', index=1))"
      ]
     },
     "execution_count": 2,
     "metadata": {},
     "output_type": "execute_result"
    }
   ],
   "execution_count": 2
  },
  {
   "metadata": {
    "ExecuteTime": {
     "end_time": "2025-04-12T12:51:58.273257Z",
     "start_time": "2025-04-12T12:51:58.269822Z"
    }
   },
   "cell_type": "code",
   "source": "torch.device('cuda:1')",
   "id": "6008dd57a8e59ec7",
   "outputs": [
    {
     "data": {
      "text/plain": [
       "device(type='cuda', index=1)"
      ]
     },
     "execution_count": 3,
     "metadata": {},
     "output_type": "execute_result"
    }
   ],
   "execution_count": 3
  },
  {
   "metadata": {},
   "cell_type": "markdown",
   "source": "# 查看有多少gpu可用",
   "id": "3a869dbbe592ba9"
  },
  {
   "metadata": {
    "ExecuteTime": {
     "end_time": "2025-04-12T12:51:58.620206Z",
     "start_time": "2025-04-12T12:51:58.553457Z"
    }
   },
   "cell_type": "code",
   "source": "torch.cuda.device_count()",
   "id": "d3bee9a9cd81dbbc",
   "outputs": [
    {
     "data": {
      "text/plain": [
       "1"
      ]
     },
     "execution_count": 4,
     "metadata": {},
     "output_type": "execute_result"
    }
   ],
   "execution_count": 4
  },
  {
   "metadata": {
    "ExecuteTime": {
     "end_time": "2025-04-12T12:51:58.703471Z",
     "start_time": "2025-04-12T12:51:58.700624Z"
    }
   },
   "cell_type": "code",
   "source": [
    "def try_gpu(i=0):\n",
    "    if torch.cuda.device_count() >=i+1:\n",
    "        return torch.device(f'cuda:{i}')\n",
    "    return torch.device(f'cpu')\n",
    "def try_all_cpu():\n",
    "    if torch.cuda.is_available():\n",
    "        device=[torch.device(f'cuda:{i}') for i in range(torch.cuda.device_count())]\n",
    "        return device\n",
    "    else:\n",
    "        return [torch.device('cpu')]"
   ],
   "id": "1750f936b873a066",
   "outputs": [],
   "execution_count": 5
  },
  {
   "metadata": {},
   "cell_type": "markdown",
   "source": "张量与cpu",
   "id": "bbea1b557081a64a"
  },
  {
   "metadata": {
    "ExecuteTime": {
     "end_time": "2025-04-12T12:51:58.969904Z",
     "start_time": "2025-04-12T12:51:58.962801Z"
    }
   },
   "cell_type": "code",
   "source": [
    "x=torch.tensor([1,2,3])\n",
    "##查询张量所在设备\n",
    "x.device"
   ],
   "id": "ca985c9ed55f1094",
   "outputs": [
    {
     "data": {
      "text/plain": [
       "device(type='cpu')"
      ]
     },
     "execution_count": 6,
     "metadata": {},
     "output_type": "execute_result"
    }
   ],
   "execution_count": 6
  },
  {
   "metadata": {
    "ExecuteTime": {
     "end_time": "2025-04-12T12:51:59.229594Z",
     "start_time": "2025-04-12T12:51:59.100621Z"
    }
   },
   "cell_type": "code",
   "source": "y=torch.tensor([4,5,6],device=try_gpu())",
   "id": "19f2ddd19c1e21ad",
   "outputs": [],
   "execution_count": 7
  },
  {
   "metadata": {
    "ExecuteTime": {
     "end_time": "2025-04-12T12:51:59.248561Z",
     "start_time": "2025-04-12T12:51:59.245329Z"
    }
   },
   "cell_type": "code",
   "source": "y.device",
   "id": "912aa1a86c17b4f3",
   "outputs": [
    {
     "data": {
      "text/plain": [
       "device(type='cuda', index=0)"
      ]
     },
     "execution_count": 8,
     "metadata": {},
     "output_type": "execute_result"
    }
   ],
   "execution_count": 8
  },
  {
   "metadata": {},
   "cell_type": "markdown",
   "source": "张量复制",
   "id": "8b1319ea13482034"
  },
  {
   "metadata": {},
   "cell_type": "markdown",
   "source": "两个张量不在一个设备上的时候无法进行运算",
   "id": "96dbe953b2fb4b09"
  },
  {
   "metadata": {
    "ExecuteTime": {
     "end_time": "2025-04-12T12:52:19.686375Z",
     "start_time": "2025-04-12T12:52:19.682994Z"
    }
   },
   "cell_type": "code",
   "source": [
    "x.cuda(0)##这样不会把x移动到其他设备上 必须要赋值给别的变量\n",
    "z=x.cuda(0)## 这种方式可以把x挪到cuda1上 但是用z接受"
   ],
   "id": "6f364db320c7b85",
   "outputs": [],
   "execution_count": 12
  },
  {
   "metadata": {},
   "cell_type": "markdown",
   "source": "假设变量Z已经存在于第二个GPU上。 如果我们还是调用Z.cuda(1)会发生什么？ 它将返回Z，而不会复制并分配新内存。",
   "id": "38c9afefa1d4f978"
  },
  {
   "metadata": {
    "ExecuteTime": {
     "end_time": "2025-04-12T12:52:48.506781Z",
     "start_time": "2025-04-12T12:52:48.500734Z"
    }
   },
   "cell_type": "code",
   "source": "x.to(torch.device('cuda'))",
   "id": "3832a5c909061a51",
   "outputs": [
    {
     "data": {
      "text/plain": [
       "tensor([1, 2, 3], device='cuda:0')"
      ]
     },
     "execution_count": 17,
     "metadata": {},
     "output_type": "execute_result"
    }
   ],
   "execution_count": 17
  },
  {
   "metadata": {
    "ExecuteTime": {
     "end_time": "2025-04-12T12:52:52.452944Z",
     "start_time": "2025-04-12T12:52:52.449677Z"
    }
   },
   "cell_type": "code",
   "source": "x",
   "id": "3937d2c8ed01e411",
   "outputs": [
    {
     "data": {
      "text/plain": [
       "tensor([1, 2, 3])"
      ]
     },
     "execution_count": 18,
     "metadata": {},
     "output_type": "execute_result"
    }
   ],
   "execution_count": 18
  },
  {
   "metadata": {
    "ExecuteTime": {
     "end_time": "2025-04-12T12:52:26.782034Z",
     "start_time": "2025-04-12T12:52:26.779219Z"
    }
   },
   "cell_type": "code",
   "source": "z.cuda(0) is z ##结果为真，说明这样并不会重新分配地址a",
   "id": "5bb9151c21ef9e63",
   "outputs": [
    {
     "data": {
      "text/plain": [
       "True"
      ]
     },
     "execution_count": 14,
     "metadata": {},
     "output_type": "execute_result"
    }
   ],
   "execution_count": 14
  },
  {
   "metadata": {},
   "cell_type": "markdown",
   "source": "神经网络与gpu",
   "id": "d6f0088500fbb959"
  },
  {
   "metadata": {
    "ExecuteTime": {
     "end_time": "2025-04-12T12:52:29.712882Z",
     "start_time": "2025-04-12T12:52:29.709884Z"
    }
   },
   "cell_type": "code",
   "source": "net = nn.Sequential(nn.Linear(3, 1))",
   "id": "4d1e423e86b538cc",
   "outputs": [],
   "execution_count": 15
  },
  {
   "metadata": {
    "ExecuteTime": {
     "end_time": "2025-04-12T12:52:30.241569Z",
     "start_time": "2025-04-12T12:52:30.236619Z"
    }
   },
   "cell_type": "code",
   "source": "net.cuda(0)",
   "id": "ddf4dde96cbdd6b2",
   "outputs": [
    {
     "data": {
      "text/plain": [
       "Sequential(\n",
       "  (0): Linear(in_features=3, out_features=1, bias=True)\n",
       ")"
      ]
     },
     "execution_count": 16,
     "metadata": {},
     "output_type": "execute_result"
    }
   ],
   "execution_count": 16
  },
  {
   "metadata": {
    "ExecuteTime": {
     "end_time": "2025-04-12T12:58:13.302242Z",
     "start_time": "2025-04-12T12:58:13.293492Z"
    }
   },
   "cell_type": "code",
   "source": "net[0].bias",
   "id": "b117d55099dd9ad5",
   "outputs": [
    {
     "data": {
      "text/plain": [
       "Parameter containing:\n",
       "tensor([-0.5196], device='cuda:0', requires_grad=True)"
      ]
     },
     "execution_count": 37,
     "metadata": {},
     "output_type": "execute_result"
    }
   ],
   "execution_count": 37
  },
  {
   "metadata": {
    "ExecuteTime": {
     "end_time": "2025-04-12T12:59:11.896847Z",
     "start_time": "2025-04-12T12:59:11.887640Z"
    }
   },
   "cell_type": "code",
   "source": "net.state_dict()",
   "id": "52e97a4a2b5d6a64",
   "outputs": [
    {
     "data": {
      "text/plain": [
       "OrderedDict([('0.weight',\n",
       "              tensor([[ 0.3944, -0.5263, -0.4638]], device='cuda:0')),\n",
       "             ('0.bias', tensor([-0.5196], device='cuda:0'))])"
      ]
     },
     "execution_count": 38,
     "metadata": {},
     "output_type": "execute_result"
    }
   ],
   "execution_count": 38
  },
  {
   "metadata": {},
   "cell_type": "code",
   "outputs": [],
   "execution_count": null,
   "source": "",
   "id": "a4036b335224ffef"
  }
 ],
 "metadata": {
  "kernelspec": {
   "display_name": "Python 3",
   "language": "python",
   "name": "python3"
  },
  "language_info": {
   "codemirror_mode": {
    "name": "ipython",
    "version": 2
   },
   "file_extension": ".py",
   "mimetype": "text/x-python",
   "name": "python",
   "nbconvert_exporter": "python",
   "pygments_lexer": "ipython2",
   "version": "2.7.6"
  }
 },
 "nbformat": 4,
 "nbformat_minor": 5
}
