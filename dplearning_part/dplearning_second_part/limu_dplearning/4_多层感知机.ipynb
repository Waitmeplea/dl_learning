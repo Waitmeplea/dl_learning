{
 "cells": [
  {
   "cell_type": "code",
   "id": "initial_id",
   "metadata": {
    "collapsed": true,
    "ExecuteTime": {
     "end_time": "2025-04-06T05:28:55.551016Z",
     "start_time": "2025-04-06T05:28:51.998270Z"
    }
   },
   "source": [
    "import torch\n",
    "import torchvision\n",
    "from torch import nn\n",
    "from d2l import torch as d2l"
   ],
   "outputs": [],
   "execution_count": 1
  },
  {
   "metadata": {
    "ExecuteTime": {
     "end_time": "2025-04-06T05:28:58.183334Z",
     "start_time": "2025-04-06T05:28:58.140758Z"
    }
   },
   "cell_type": "code",
   "source": [
    "batch_size=256\n",
    "train_data=torchvision.datasets.FashionMNIST(root='../data',train=True,transform=torchvision.transforms.ToTensor())\n",
    "test_data=torchvision.datasets.FashionMNIST(root='../data',train=False,transform=torchvision.transforms.ToTensor())\n",
    "train_dataloader=torch.utils.data.DataLoader(dataset=train_data,batch_size=batch_size,shuffle=True)\n",
    "test_dataloader=torch.utils.data.DataLoader(dataset=test_data,batch_size=batch_size,shuffle=True)\n"
   ],
   "id": "e38cc9a9d81bfdd5",
   "outputs": [],
   "execution_count": 2
  },
  {
   "metadata": {
    "ExecuteTime": {
     "end_time": "2025-04-06T05:28:58.288962Z",
     "start_time": "2025-04-06T05:28:58.283963Z"
    }
   },
   "cell_type": "code",
   "source": "",
   "id": "a356d1f826d46984",
   "outputs": [],
   "execution_count": 3
  },
  {
   "metadata": {
    "ExecuteTime": {
     "end_time": "2025-04-06T05:46:51.580024Z",
     "start_time": "2025-04-06T05:46:51.573520Z"
    }
   },
   "cell_type": "code",
   "source": [
    "def Relu(x):\n",
    "    if not isinstance(x,torch.Tensor):\n",
    "        x=torch.tensor(x)\n",
    "    zero_mat=torch.zeros_like(x)\n",
    "    return torch.maximum(x,zero_mat)\n",
    "\n",
    "def net(x):\n",
    "    input=x.reshape(-1,num_input)\n",
    "    x2=input@w1+b1\n",
    "    x3=Relu(x2)\n",
    "    x4=x3@w2+b2\n",
    "    return x4\n",
    "\n",
    "class Accumulator:  #@save\n",
    "    \"\"\"在n个变量上累加\"\"\"\n",
    "    def __init__(self, n):\n",
    "        self.data = [0.0] * n\n",
    "\n",
    "    def add(self, *args):\n",
    "        self.data = [a + float(b) for a, b in zip(self.data, args)]\n",
    "\n",
    "    def reset(self):\n",
    "        self.data = [0.0] * len(self.data)\n",
    "\n",
    "    def __getitem__(self, idx):\n",
    "        return self.data[idx]\n",
    "def accuracy(y_hat, y):  #@save\n",
    "    \"\"\"计算预测正确的数量\"\"\"\n",
    "    if len(y_hat.shape) > 1 and y_hat.shape[1] > 1:\n",
    "        y_hat = y_hat.argmax(axis=1)\n",
    "    cmp = y_hat.type(y.dtype) == y\n",
    "    return float(cmp.type(y.dtype).sum())\n",
    "\n",
    "\n",
    "def evaluate_accuracy(net, data_loader):\n",
    "    if isinstance(net,torch.nn.Module):\n",
    "        net.eval()\n",
    "    metric=Accumulator(2)\n",
    "    for x, y in data_loader:\n",
    "        metric.add(accuracy(net(x),y),y.numel())\n",
    "    return metric[0]/metric[1]\n"
   ],
   "id": "79f738ab4433ceab",
   "outputs": [],
   "execution_count": 30
  },
  {
   "metadata": {
    "ExecuteTime": {
     "end_time": "2025-04-06T05:49:49.803361Z",
     "start_time": "2025-04-06T05:49:15.089914Z"
    }
   },
   "cell_type": "code",
   "source": [
    "num_input,num_output=784,10\n",
    "num_hidden=256\n",
    "w1=nn.Parameter(torch.randn(num_input,num_hidden,requires_grad=True))\n",
    "b1=nn.Parameter(torch.zeros(num_hidden))\n",
    "w2=nn.Parameter(torch.randn(num_hidden,num_output,requires_grad=True))\n",
    "b2=nn.Parameter(torch.zeros(num_output))\n",
    "params=[w1,b1,w2,b2]\n",
    "\n",
    "num_epoch=10\n",
    "lr=0.1\n",
    "loss_func=nn.CrossEntropyLoss()\n",
    "optm=torch.optim.SGD(params,lr=lr)\n",
    "\n",
    "for epoch in range(num_epoch):\n",
    "    for data,label in train_dataloader:\n",
    "        optm.zero_grad()\n",
    "        result=net(data)\n",
    "        loss=loss_func(result,label)\n",
    "        loss.backward()\n",
    "        optm.step()\n",
    "\n",
    "    with torch.no_grad():\n",
    "        a=evaluate_accuracy(net,test_dataloader)\n",
    "        print(a)"
   ],
   "id": "4154412a316b23b0",
   "outputs": [
    {
     "name": "stdout",
     "output_type": "stream",
     "text": [
      "0.7389\n",
      "0.7545\n",
      "0.7605\n",
      "0.7635\n",
      "0.7696\n",
      "0.7656\n",
      "0.7756\n",
      "0.7821\n",
      "0.7838\n",
      "0.7857\n"
     ]
    }
   ],
   "execution_count": 35
  }
 ],
 "metadata": {
  "kernelspec": {
   "display_name": "Python 3",
   "language": "python",
   "name": "python3"
  },
  "language_info": {
   "codemirror_mode": {
    "name": "ipython",
    "version": 2
   },
   "file_extension": ".py",
   "mimetype": "text/x-python",
   "name": "python",
   "nbconvert_exporter": "python",
   "pygments_lexer": "ipython2",
   "version": "2.7.6"
  }
 },
 "nbformat": 4,
 "nbformat_minor": 5
}
