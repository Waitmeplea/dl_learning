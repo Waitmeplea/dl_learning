{
 "cells": [
  {
   "cell_type": "code",
   "id": "initial_id",
   "metadata": {
    "collapsed": true,
    "ExecuteTime": {
     "end_time": "2025-06-08T10:03:58.889672Z",
     "start_time": "2025-06-08T10:03:57.458828Z"
    }
   },
   "source": [
    "import torch\n",
    "from torch import nn\n",
    "from torch.utils.data import DataLoader, TensorDataset, sampler\n",
    "import os\n",
    "# 分布式训练所需的库\n",
    "import torch.distributed as dist\n",
    "from torch.utils.data.distributed import DistributedSampler\n",
    "from torch.nn.parallel import DistributedDataParallel\n",
    "\n",
    "class net(torch.nn.Module):\n",
    "    def __init__(self):\n",
    "        super(net, self).__init__()\n",
    "        self.fc1 = nn.Linear(784, 512)\n",
    "        self.relu1 = nn.ReLU()\n",
    "        self.fc2 = nn.Linear(512, 8)\n",
    "    def forward(self, x):\n",
    "        return self.fc2(self.relu1(self.fc1(x)))\n",
    "\n",
    "\n",
    "x=torch.randn(200,784)\n",
    "y=torch.randint(0,8,size=(200,))\n",
    "train_data=TensorDataset(x,y)\n",
    "\n",
    "\n",
    "\n",
    "# 指定后端 backend='nccl' 则是使用gpu gloo则是使用cpu\n",
    "# 初始化进程组\n",
    "dist.init_process_group(backend='nccl')\n",
    "# 赋予该进程一个唯一的本地标识符 (local rank) 运行起来才有意义 这是一个单机gpu表示 不同节点会重复\n",
    "local_rank = int(os.environ['LOCAL_RANK'])\n",
    "print(local_rank)\n",
    "torch.cuda.set_device(local_rank)\n",
    "verbose = dist.get_rank() == 0 #当cuda为0的时候verbose为True\n",
    "\n",
    "# 模型\n",
    "model=net().cuda()\n",
    "# 如果加载参数一个gpu加载就行了\n",
    "model = DistributedDataParallel(model, device_ids=[local_rank])\n",
    "\n",
    "\n",
    "train_sampler = DistributedSampler(train_data,shuffle=True)\n",
    "train_loader=DataLoader(train_data,batch_size=100,num_workers=4,pin_memory=True,shuffle=False,sampler=train_sampler)\n",
    "\n",
    "optimizer = torch.optim.Adam(model.parameters(), lr=0.001)\n",
    "loss=nn.CrossEntropyLoss().to(local_rank)\n",
    "\n",
    "for epoch in range(100):\n",
    "    model.train()\n",
    "    train_sampler.set_epoch(epoch)\n",
    "    for batch_idx, (data, target) in enumerate(train_loader):\n",
    "        data=data.to(local_rank)\n",
    "        target=target.to(local_rank)\n",
    "        optimizer.zero_grad()\n",
    "        y_hat=model(data)\n",
    "        l=loss(y_hat,target)\n",
    "        l.backward()\n",
    "        optimizer.step()\n",
    "\n",
    "    if verbose:\n",
    "        print(local_rank,epoch,l.item())\n",
    "\n",
    "dist.destroy_process_group()"
   ],
   "outputs": [],
   "execution_count": 3
  },
  {
   "metadata": {
    "ExecuteTime": {
     "end_time": "2025-06-08T01:02:19.130167Z",
     "start_time": "2025-06-07T09:26:07.759047Z"
    }
   },
   "cell_type": "code",
   "source": "",
   "id": "ebd59a4944711ca6",
   "outputs": [
    {
     "ename": "ValueError",
     "evalue": "Error initializing torch.distributed using env:// rendezvous: environment variable RANK expected, but not set",
     "output_type": "error",
     "traceback": [
      "\u001B[1;31m---------------------------------------------------------------------------\u001B[0m",
      "\u001B[1;31mValueError\u001B[0m                                Traceback (most recent call last)",
      "Cell \u001B[1;32mIn[31], line 1\u001B[0m\n\u001B[1;32m----> 1\u001B[0m \u001B[43mdist\u001B[49m\u001B[38;5;241;43m.\u001B[39;49m\u001B[43minit_process_group\u001B[49m\u001B[43m(\u001B[49m\u001B[43mbackend\u001B[49m\u001B[38;5;241;43m=\u001B[39;49m\u001B[38;5;124;43m'\u001B[39;49m\u001B[38;5;124;43mnccl\u001B[39;49m\u001B[38;5;124;43m'\u001B[39;49m\u001B[43m)\u001B[49m\n",
      "File \u001B[1;32mE:\\tech_software\\Python\\Lib\\site-packages\\torch\\distributed\\c10d_logger.py:81\u001B[0m, in \u001B[0;36m_exception_logger.<locals>.wrapper\u001B[1;34m(*args, **kwargs)\u001B[0m\n\u001B[0;32m     78\u001B[0m \u001B[38;5;129m@functools\u001B[39m\u001B[38;5;241m.\u001B[39mwraps(func)\n\u001B[0;32m     79\u001B[0m \u001B[38;5;28;01mdef\u001B[39;00m \u001B[38;5;21mwrapper\u001B[39m(\u001B[38;5;241m*\u001B[39margs: _P\u001B[38;5;241m.\u001B[39margs, \u001B[38;5;241m*\u001B[39m\u001B[38;5;241m*\u001B[39mkwargs: _P\u001B[38;5;241m.\u001B[39mkwargs) \u001B[38;5;241m-\u001B[39m\u001B[38;5;241m>\u001B[39m _T:\n\u001B[0;32m     80\u001B[0m     \u001B[38;5;28;01mtry\u001B[39;00m:\n\u001B[1;32m---> 81\u001B[0m         \u001B[38;5;28;01mreturn\u001B[39;00m \u001B[43mfunc\u001B[49m\u001B[43m(\u001B[49m\u001B[38;5;241;43m*\u001B[39;49m\u001B[43margs\u001B[49m\u001B[43m,\u001B[49m\u001B[43m \u001B[49m\u001B[38;5;241;43m*\u001B[39;49m\u001B[38;5;241;43m*\u001B[39;49m\u001B[43mkwargs\u001B[49m\u001B[43m)\u001B[49m\n\u001B[0;32m     82\u001B[0m     \u001B[38;5;28;01mexcept\u001B[39;00m \u001B[38;5;167;01mException\u001B[39;00m \u001B[38;5;28;01mas\u001B[39;00m error:\n\u001B[0;32m     83\u001B[0m         msg_dict \u001B[38;5;241m=\u001B[39m _get_msg_dict(func\u001B[38;5;241m.\u001B[39m\u001B[38;5;18m__name__\u001B[39m, \u001B[38;5;241m*\u001B[39margs, \u001B[38;5;241m*\u001B[39m\u001B[38;5;241m*\u001B[39mkwargs)\n",
      "File \u001B[1;32mE:\\tech_software\\Python\\Lib\\site-packages\\torch\\distributed\\c10d_logger.py:95\u001B[0m, in \u001B[0;36m_time_logger.<locals>.wrapper\u001B[1;34m(*args, **kwargs)\u001B[0m\n\u001B[0;32m     92\u001B[0m \u001B[38;5;129m@functools\u001B[39m\u001B[38;5;241m.\u001B[39mwraps(func)\n\u001B[0;32m     93\u001B[0m \u001B[38;5;28;01mdef\u001B[39;00m \u001B[38;5;21mwrapper\u001B[39m(\u001B[38;5;241m*\u001B[39margs: _P\u001B[38;5;241m.\u001B[39margs, \u001B[38;5;241m*\u001B[39m\u001B[38;5;241m*\u001B[39mkwargs: _P\u001B[38;5;241m.\u001B[39mkwargs) \u001B[38;5;241m-\u001B[39m\u001B[38;5;241m>\u001B[39m _T:\n\u001B[0;32m     94\u001B[0m     \u001B[38;5;28;01mwith\u001B[39;00m _WaitCounter(\u001B[38;5;124mf\u001B[39m\u001B[38;5;124m\"\u001B[39m\u001B[38;5;124mpytorch.wait_counter.c10d.\u001B[39m\u001B[38;5;132;01m{\u001B[39;00mfunc\u001B[38;5;241m.\u001B[39m\u001B[38;5;18m__name__\u001B[39m\u001B[38;5;132;01m}\u001B[39;00m\u001B[38;5;124m\"\u001B[39m)\u001B[38;5;241m.\u001B[39mguard():\n\u001B[1;32m---> 95\u001B[0m         func_return \u001B[38;5;241m=\u001B[39m \u001B[43mfunc\u001B[49m\u001B[43m(\u001B[49m\u001B[38;5;241;43m*\u001B[39;49m\u001B[43margs\u001B[49m\u001B[43m,\u001B[49m\u001B[43m \u001B[49m\u001B[38;5;241;43m*\u001B[39;49m\u001B[38;5;241;43m*\u001B[39;49m\u001B[43mkwargs\u001B[49m\u001B[43m)\u001B[49m\n\u001B[0;32m     96\u001B[0m     \u001B[38;5;28;01mreturn\u001B[39;00m func_return\n",
      "File \u001B[1;32mE:\\tech_software\\Python\\Lib\\site-packages\\torch\\distributed\\distributed_c10d.py:1714\u001B[0m, in \u001B[0;36minit_process_group\u001B[1;34m(backend, init_method, timeout, world_size, rank, store, group_name, pg_options, device_id)\u001B[0m\n\u001B[0;32m   1710\u001B[0m \u001B[38;5;28;01mif\u001B[39;00m store \u001B[38;5;129;01mis\u001B[39;00m \u001B[38;5;28;01mNone\u001B[39;00m:\n\u001B[0;32m   1711\u001B[0m     rendezvous_iterator \u001B[38;5;241m=\u001B[39m rendezvous(\n\u001B[0;32m   1712\u001B[0m         not_none(init_method), rank, world_size, timeout\u001B[38;5;241m=\u001B[39mtimeout\n\u001B[0;32m   1713\u001B[0m     )\n\u001B[1;32m-> 1714\u001B[0m     store, rank, world_size \u001B[38;5;241m=\u001B[39m \u001B[38;5;28;43mnext\u001B[39;49m\u001B[43m(\u001B[49m\u001B[43mrendezvous_iterator\u001B[49m\u001B[43m)\u001B[49m\n\u001B[0;32m   1715\u001B[0m     store\u001B[38;5;241m.\u001B[39mset_timeout(timeout)\n\u001B[0;32m   1717\u001B[0m     \u001B[38;5;66;03m# Use a PrefixStore to avoid accidental overrides of keys used by\u001B[39;00m\n\u001B[0;32m   1718\u001B[0m     \u001B[38;5;66;03m# different systems (e.g. RPC) in case the store is multi-tenant.\u001B[39;00m\n",
      "File \u001B[1;32mE:\\tech_software\\Python\\Lib\\site-packages\\torch\\distributed\\rendezvous.py:263\u001B[0m, in \u001B[0;36m_env_rendezvous_handler\u001B[1;34m(url, timeout, **kwargs)\u001B[0m\n\u001B[0;32m    261\u001B[0m     rank \u001B[38;5;241m=\u001B[39m \u001B[38;5;28mint\u001B[39m(query_dict[\u001B[38;5;124m\"\u001B[39m\u001B[38;5;124mrank\u001B[39m\u001B[38;5;124m\"\u001B[39m])\n\u001B[0;32m    262\u001B[0m \u001B[38;5;28;01melse\u001B[39;00m:\n\u001B[1;32m--> 263\u001B[0m     rank \u001B[38;5;241m=\u001B[39m \u001B[38;5;28mint\u001B[39m(\u001B[43m_get_env_or_raise\u001B[49m\u001B[43m(\u001B[49m\u001B[38;5;124;43m\"\u001B[39;49m\u001B[38;5;124;43mRANK\u001B[39;49m\u001B[38;5;124;43m\"\u001B[39;49m\u001B[43m)\u001B[49m)\n\u001B[0;32m    265\u001B[0m \u001B[38;5;28;01mif\u001B[39;00m \u001B[38;5;124m\"\u001B[39m\u001B[38;5;124mworld_size\u001B[39m\u001B[38;5;124m\"\u001B[39m \u001B[38;5;129;01min\u001B[39;00m query_dict:\n\u001B[0;32m    266\u001B[0m     world_size \u001B[38;5;241m=\u001B[39m \u001B[38;5;28mint\u001B[39m(query_dict[\u001B[38;5;124m\"\u001B[39m\u001B[38;5;124mworld_size\u001B[39m\u001B[38;5;124m\"\u001B[39m])\n",
      "File \u001B[1;32mE:\\tech_software\\Python\\Lib\\site-packages\\torch\\distributed\\rendezvous.py:248\u001B[0m, in \u001B[0;36m_env_rendezvous_handler.<locals>._get_env_or_raise\u001B[1;34m(env_var)\u001B[0m\n\u001B[0;32m    246\u001B[0m env_val \u001B[38;5;241m=\u001B[39m os\u001B[38;5;241m.\u001B[39menviron\u001B[38;5;241m.\u001B[39mget(env_var, \u001B[38;5;28;01mNone\u001B[39;00m)\n\u001B[0;32m    247\u001B[0m \u001B[38;5;28;01mif\u001B[39;00m \u001B[38;5;129;01mnot\u001B[39;00m env_val:\n\u001B[1;32m--> 248\u001B[0m     \u001B[38;5;28;01mraise\u001B[39;00m _env_error(env_var)\n\u001B[0;32m    249\u001B[0m \u001B[38;5;28;01melse\u001B[39;00m:\n\u001B[0;32m    250\u001B[0m     \u001B[38;5;28;01mreturn\u001B[39;00m env_val\n",
      "\u001B[1;31mValueError\u001B[0m: Error initializing torch.distributed using env:// rendezvous: environment variable RANK expected, but not set"
     ]
    }
   ],
   "execution_count": 31
  },
  {
   "metadata": {
    "ExecuteTime": {
     "end_time": "2025-06-08T01:02:19.136836Z",
     "start_time": "2025-06-07T11:14:38.481412Z"
    }
   },
   "cell_type": "code",
   "source": "",
   "id": "fdde2e3015b01932",
   "outputs": [],
   "execution_count": 33
  },
  {
   "metadata": {
    "ExecuteTime": {
     "end_time": "2025-06-08T10:04:06.994732Z",
     "start_time": "2025-06-08T10:04:05.763188Z"
    }
   },
   "cell_type": "code",
   "source": "",
   "id": "39c0b3fb93706a3c",
   "outputs": [],
   "execution_count": 8
  },
  {
   "metadata": {
    "ExecuteTime": {
     "end_time": "2025-06-08T10:17:10.356417Z",
     "start_time": "2025-06-08T10:17:10.295506Z"
    }
   },
   "cell_type": "code",
   "source": "",
   "id": "b578f99b0307c073",
   "outputs": [
    {
     "ename": "NameError",
     "evalue": "name 'train_sampler' is not defined",
     "output_type": "error",
     "traceback": [
      "\u001B[1;31m---------------------------------------------------------------------------\u001B[0m",
      "\u001B[1;31mNameError\u001B[0m                                 Traceback (most recent call last)",
      "Cell \u001B[1;32mIn[9], line 3\u001B[0m\n\u001B[0;32m      1\u001B[0m \u001B[38;5;28;01mfor\u001B[39;00m epoch \u001B[38;5;129;01min\u001B[39;00m \u001B[38;5;28mrange\u001B[39m(\u001B[38;5;241m100\u001B[39m):\n\u001B[0;32m      2\u001B[0m     model\u001B[38;5;241m.\u001B[39mtrain()\n\u001B[1;32m----> 3\u001B[0m     \u001B[43mtrain_sampler\u001B[49m\u001B[38;5;241m.\u001B[39mset_epoch(epoch)\n\u001B[0;32m      4\u001B[0m     \u001B[38;5;28;01mfor\u001B[39;00m batch_idx, (data, target) \u001B[38;5;129;01min\u001B[39;00m \u001B[38;5;28menumerate\u001B[39m(train_loader):\n\u001B[0;32m      5\u001B[0m         optimizer\u001B[38;5;241m.\u001B[39mzero_grad()\n",
      "\u001B[1;31mNameError\u001B[0m: name 'train_sampler' is not defined"
     ]
    }
   ],
   "execution_count": 9
  },
  {
   "metadata": {
    "ExecuteTime": {
     "end_time": "2025-06-07T10:10:40.170914Z",
     "start_time": "2025-06-07T10:10:40.166384Z"
    }
   },
   "cell_type": "code",
   "source": "",
   "id": "c7ae92c8a4433e7c",
   "outputs": [],
   "execution_count": null
  },
  {
   "metadata": {},
   "cell_type": "code",
   "outputs": [],
   "execution_count": null,
   "source": "",
   "id": "c748132d2e35f064"
  }
 ],
 "metadata": {
  "kernelspec": {
   "display_name": "Python 3",
   "language": "python",
   "name": "python3"
  },
  "language_info": {
   "codemirror_mode": {
    "name": "ipython",
    "version": 2
   },
   "file_extension": ".py",
   "mimetype": "text/x-python",
   "name": "python",
   "nbconvert_exporter": "python",
   "pygments_lexer": "ipython2",
   "version": "2.7.6"
  }
 },
 "nbformat": 4,
 "nbformat_minor": 5
}
