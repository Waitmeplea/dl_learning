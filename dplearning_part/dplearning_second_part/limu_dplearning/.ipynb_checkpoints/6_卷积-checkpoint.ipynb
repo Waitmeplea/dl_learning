{
 "cells": [
  {
   "cell_type": "code",
   "id": "initial_id",
   "metadata": {
    "collapsed": true,
    "ExecuteTime": {
     "end_time": "2025-04-15T01:41:00.928614Z",
     "start_time": "2025-04-15T01:41:00.925740Z"
    }
   },
   "source": [
    "import torch\n",
    "from torch import nn\n",
    "import sys\n",
    "sys.path.append('./utils')\n",
    "from useful_func import *"
   ],
   "outputs": [],
   "execution_count": 79
  },
  {
   "metadata": {
    "ExecuteTime": {
     "end_time": "2025-04-15T01:41:04.037333Z",
     "start_time": "2025-04-15T01:41:04.032658Z"
    }
   },
   "cell_type": "code",
   "source": [
    "def corr2d(x,k):\n",
    "    h,w=k.shape\n",
    "    result_h=x.shape[0]-h+1\n",
    "    result_w=x.shape[1]-w+1\n",
    "    result=torch.zeros((result_h,result_w))\n",
    "    for i in range(result_h):\n",
    "        for j in range(result_w):\n",
    "            result[i,j]=(x[i:i+h,j:j+w]*k).sum()\n",
    "    return result\n",
    "class Conv2D(nn.Module):\n",
    "    def __init__(self):\n",
    "        super(Conv2D, self).__init__()\n",
    "        self.bias=nn.Parameter(torch.zeros(1))\n",
    "    def forward(self, x,k):\n",
    "        r=corr2d(x,k)\n",
    "        return r+self.bias"
   ],
   "id": "d56f7db52293c89c",
   "outputs": [],
   "execution_count": 80
  },
  {
   "metadata": {
    "ExecuteTime": {
     "end_time": "2025-04-15T01:41:04.191187Z",
     "start_time": "2025-04-15T01:41:04.188368Z"
    }
   },
   "cell_type": "code",
   "source": [
    "def show_image_from_tensor(x):\n",
    "    if isinstance(x, torch.Tensor):\n",
    "        x=x.numpy()*255\n",
    "    Image.fromarray(x).show()"
   ],
   "id": "ac63681921998540",
   "outputs": [],
   "execution_count": 81
  },
  {
   "metadata": {
    "ExecuteTime": {
     "end_time": "2025-04-15T01:41:04.466157Z",
     "start_time": "2025-04-15T01:41:04.354701Z"
    }
   },
   "cell_type": "code",
   "source": [
    "x=torch.ones([60,80])\n",
    "x[:,20:60]=0\n",
    "k=torch.tensor([[1,-1]])\n",
    "Y=corr2d(x,k)"
   ],
   "id": "e628c3de1dc4d0a7",
   "outputs": [],
   "execution_count": 82
  },
  {
   "metadata": {
    "ExecuteTime": {
     "end_time": "2025-04-15T01:41:04.534385Z",
     "start_time": "2025-04-15T01:41:04.532169Z"
    }
   },
   "cell_type": "code",
   "source": "",
   "id": "fad0c5af3f97604a",
   "outputs": [],
   "execution_count": 82
  },
  {
   "metadata": {
    "ExecuteTime": {
     "end_time": "2025-04-15T01:41:05.446203Z",
     "start_time": "2025-04-15T01:41:05.444293Z"
    }
   },
   "cell_type": "code",
   "source": "",
   "id": "f8fbe21db3f58da6",
   "outputs": [],
   "execution_count": 82
  },
  {
   "metadata": {
    "ExecuteTime": {
     "end_time": "2025-04-15T01:41:05.635108Z",
     "start_time": "2025-04-15T01:41:05.631203Z"
    }
   },
   "cell_type": "code",
   "source": [
    "conv2d=nn.Conv2d(1,1,kernel_size=(1,2),bias=False)\n",
    "x=x.reshape(1,1,60,80)\n",
    "Y=Y.reshape(1,1,60,79)"
   ],
   "id": "54d330c06268a270",
   "outputs": [],
   "execution_count": 83
  },
  {
   "metadata": {
    "ExecuteTime": {
     "end_time": "2025-04-15T01:41:06.362639Z",
     "start_time": "2025-04-15T01:41:06.357285Z"
    }
   },
   "cell_type": "code",
   "source": "print(Y)",
   "id": "ab96859bdcfa92f0",
   "outputs": [
    {
     "name": "stdout",
     "output_type": "stream",
     "text": [
      "tensor([[[[0., 0., 0.,  ..., 0., 0., 0.],\n",
      "          [0., 0., 0.,  ..., 0., 0., 0.],\n",
      "          [0., 0., 0.,  ..., 0., 0., 0.],\n",
      "          ...,\n",
      "          [0., 0., 0.,  ..., 0., 0., 0.],\n",
      "          [0., 0., 0.,  ..., 0., 0., 0.],\n",
      "          [0., 0., 0.,  ..., 0., 0., 0.]]]])\n"
     ]
    }
   ],
   "execution_count": 84
  },
  {
   "metadata": {
    "ExecuteTime": {
     "end_time": "2025-04-15T01:41:10.856651Z",
     "start_time": "2025-04-15T01:41:07.348488Z"
    }
   },
   "cell_type": "code",
   "source": [
    "loss=nn.MSELoss()\n",
    "for i in range(10000):\n",
    "    # conv2d.zero_grad()\n",
    "    loss.zero_grad()\n",
    "    Y_hat=conv2d(x)\n",
    "    l=loss(Y_hat,Y)\n",
    "    l.backward()\n",
    "\n",
    "    conv2d.weight.data[:]-=0.01*conv2d.weight.grad"
   ],
   "id": "cc7c1aad0d7b764a",
   "outputs": [],
   "execution_count": 85
  },
  {
   "metadata": {
    "ExecuteTime": {
     "end_time": "2025-04-15T01:41:10.865110Z",
     "start_time": "2025-04-15T01:41:10.858653Z"
    }
   },
   "cell_type": "code",
   "source": "conv2d.weight.data",
   "id": "43a2c69b88ff9517",
   "outputs": [
    {
     "data": {
      "text/plain": [
       "tensor([[[[ 1.3902, -1.0642]]]])"
      ]
     },
     "execution_count": 86,
     "metadata": {},
     "output_type": "execute_result"
    }
   ],
   "execution_count": 86
  },
  {
   "metadata": {
    "ExecuteTime": {
     "end_time": "2025-04-15T01:41:10.868309Z",
     "start_time": "2025-04-15T01:41:10.866112Z"
    }
   },
   "cell_type": "code",
   "source": "",
   "id": "be32e0fc8da9b0c4",
   "outputs": [],
   "execution_count": 86
  },
  {
   "metadata": {},
   "cell_type": "markdown",
   "source": "### 卷积神经网络超参数",
   "id": "99b8c33119584a42"
  },
  {
   "metadata": {},
   "cell_type": "markdown",
   "source": "填充和步幅",
   "id": "c02aef31fd3bcd63"
  },
  {
   "metadata": {
    "ExecuteTime": {
     "end_time": "2025-04-15T01:41:10.874711Z",
     "start_time": "2025-04-15T01:41:10.869312Z"
    }
   },
   "cell_type": "code",
   "source": [
    "def com_conv2d(conv2d,x):\n",
    "    x=x.reshape((1,1)+x.shape)\n",
    "    y=conv2d(x)\n",
    "    return y\n",
    "\n",
    "conv2d=nn.Conv2d(1,1,kernel_size=(3,3),padding=(1,1),bias=False)"
   ],
   "id": "f5c201d9b6b97011",
   "outputs": [],
   "execution_count": 87
  },
  {
   "metadata": {
    "ExecuteTime": {
     "end_time": "2025-04-15T01:41:10.879985Z",
     "start_time": "2025-04-15T01:41:10.875714Z"
    }
   },
   "cell_type": "code",
   "source": "x=torch.ones([6,6])",
   "id": "c1e5958d6f2d0d32",
   "outputs": [],
   "execution_count": 88
  },
  {
   "metadata": {
    "ExecuteTime": {
     "end_time": "2025-04-15T01:41:10.886296Z",
     "start_time": "2025-04-15T01:41:10.880988Z"
    }
   },
   "cell_type": "code",
   "source": "com_conv2d(conv2d,x).shape",
   "id": "b48686a79ffde770",
   "outputs": [
    {
     "data": {
      "text/plain": [
       "torch.Size([1, 1, 6, 6])"
      ]
     },
     "execution_count": 89,
     "metadata": {},
     "output_type": "execute_result"
    }
   ],
   "execution_count": 89
  },
  {
   "metadata": {},
   "cell_type": "markdown",
   "source": "通道数",
   "id": "c63011513b1ae5d5"
  },
  {
   "metadata": {
    "ExecuteTime": {
     "end_time": "2025-04-15T01:43:18.922337Z",
     "start_time": "2025-04-15T01:43:13.116577Z"
    }
   },
   "cell_type": "code",
   "source": [
    "import torch\n",
    "from torch import nn\n",
    "from PIL import Image\n",
    "import torchvision\n",
    "import sys\n",
    "sys.path.append('./utils')"
   ],
   "id": "ff98a1d5095ca3f0",
   "outputs": [],
   "execution_count": 1
  },
  {
   "metadata": {
    "ExecuteTime": {
     "end_time": "2025-04-15T01:43:18.928977Z",
     "start_time": "2025-04-15T01:43:18.923339Z"
    }
   },
   "cell_type": "code",
   "source": [
    "class LeNet(nn.Module):\n",
    "    def __init__(self):\n",
    "        super(LeNet, self).__init__()\n",
    "        self.sequential =nn.Sequential(\n",
    "            nn.Conv2d(in_channels=1,out_channels=6,kernel_size=5,stride=1,padding=2),nn.Sigmoid()\n",
    "            ,nn.AvgPool2d(kernel_size=2,stride=2)\n",
    "            ,nn.Conv2d(in_channels=6,out_channels=16,kernel_size=5,stride=1),nn.Sigmoid()\n",
    "            ,nn.AvgPool2d(kernel_size=2,stride=2),nn.Flatten()\n",
    "            ,nn.Linear(in_features=16*5*5,out_features=120),nn.Sigmoid()\n",
    "            ,nn.Linear(in_features=120,out_features=84),nn.Sigmoid()\n",
    "            ,nn.Linear(in_features=84,out_features=10)\n",
    "        )\n",
    "    def forward(self, x):\n",
    "        return self.sequential(x)"
   ],
   "id": "f4a2c191e28eb20d",
   "outputs": [],
   "execution_count": 2
  },
  {
   "metadata": {
    "ExecuteTime": {
     "end_time": "2025-04-15T01:43:19.110679Z",
     "start_time": "2025-04-15T01:43:18.930980Z"
    }
   },
   "cell_type": "code",
   "source": [
    "x=torch.ones([1,1,28,28],dtype=torch.float32)\n",
    "###看下输出的形状\n",
    "for layer in net.sequential:\n",
    "    x=layer(x)\n",
    "    print(layer.__class__.__name__,'_____output shape:\\t',x.shape)"
   ],
   "id": "e7b7d7036c139ad",
   "outputs": [
    {
     "ename": "NameError",
     "evalue": "name 'net' is not defined",
     "output_type": "error",
     "traceback": [
      "\u001B[1;31m---------------------------------------------------------------------------\u001B[0m",
      "\u001B[1;31mNameError\u001B[0m                                 Traceback (most recent call last)",
      "Cell \u001B[1;32mIn[3], line 3\u001B[0m\n\u001B[0;32m      1\u001B[0m x\u001B[38;5;241m=\u001B[39mtorch\u001B[38;5;241m.\u001B[39mones([\u001B[38;5;241m1\u001B[39m,\u001B[38;5;241m1\u001B[39m,\u001B[38;5;241m28\u001B[39m,\u001B[38;5;241m28\u001B[39m],dtype\u001B[38;5;241m=\u001B[39mtorch\u001B[38;5;241m.\u001B[39mfloat32)\n\u001B[0;32m      2\u001B[0m \u001B[38;5;66;03m###看下输出的形状\u001B[39;00m\n\u001B[1;32m----> 3\u001B[0m \u001B[38;5;28;01mfor\u001B[39;00m layer \u001B[38;5;129;01min\u001B[39;00m \u001B[43mnet\u001B[49m\u001B[38;5;241m.\u001B[39msequential:\n\u001B[0;32m      4\u001B[0m     x\u001B[38;5;241m=\u001B[39mlayer(x)\n\u001B[0;32m      5\u001B[0m     \u001B[38;5;28mprint\u001B[39m(layer\u001B[38;5;241m.\u001B[39m\u001B[38;5;18m__class__\u001B[39m\u001B[38;5;241m.\u001B[39m\u001B[38;5;18m__name__\u001B[39m,\u001B[38;5;124m'\u001B[39m\u001B[38;5;124m_____output shape:\u001B[39m\u001B[38;5;130;01m\\t\u001B[39;00m\u001B[38;5;124m'\u001B[39m,x\u001B[38;5;241m.\u001B[39mshape)\n",
      "\u001B[1;31mNameError\u001B[0m: name 'net' is not defined"
     ]
    }
   ],
   "execution_count": 3
  },
  {
   "metadata": {
    "ExecuteTime": {
     "end_time": "2025-04-15T01:43:19.111682Z",
     "start_time": "2025-04-15T01:43:19.111682Z"
    }
   },
   "cell_type": "code",
   "source": [
    "train_data=torchvision.datasets.FashionMNIST('../data', train=True, download=True, transform=torchvision.transforms.ToTensor())\n",
    "test_data=torchvision.datasets.FashionMNIST('../data', train=False, download=True, transform=torchvision.transforms.ToTensor())"
   ],
   "id": "f84a20986a03edb9",
   "outputs": [],
   "execution_count": null
  },
  {
   "metadata": {},
   "cell_type": "code",
   "source": [
    "batch_size=256\n",
    "train_loader = torch.utils.data.DataLoader(train_data, batch_size=batch_size, shuffle=True)\n",
    "test_loader = torch.utils.data.DataLoader(test_data, batch_size=batch_size, shuffle=True)"
   ],
   "id": "f14571898e92775e",
   "outputs": [],
   "execution_count": null
  },
  {
   "metadata": {},
   "cell_type": "code",
   "source": [
    "def evaluate_accuracy_gpu(net,data_iter,device=None):\n",
    "    if isinstance(net,nn.Module):\n",
    "        net.eval()\n",
    "        if not device:\n",
    "            device = torch.device(\"cuda:0\")\n",
    "    metric=Accumulator(2)\n",
    "    for x,y in data_iter:\n",
    "        if isinstance(x,list):\n",
    "            x=[i.to(device) for i in x]\n",
    "        else:\n",
    "            x=x.to(device)\n",
    "        y=y.to(device)\n",
    "        metric.add(accuracy(net(x),y),y.numel())\n",
    "    return metric[0]/metric[1]    "
   ],
   "id": "5f6af5cc6167261c",
   "outputs": [],
   "execution_count": null
  },
  {
   "metadata": {},
   "cell_type": "code",
   "source": [
    "\n",
    "\n",
    "lr, num_epochs = 0.9, 10\n",
    "train_ch6(net, train_loader, test_loader, num_epochs, lr, try_gpu())"
   ],
   "id": "2939f586e71c95c4",
   "outputs": [],
   "execution_count": null
  },
  {
   "metadata": {
    "ExecuteTime": {
     "end_time": "2025-04-15T01:40:09.812094Z",
     "start_time": "2025-04-15T01:40:09.802433Z"
    }
   },
   "cell_type": "code",
   "source": "train_ch6",
   "id": "6aa5e3562ce7adf3",
   "outputs": [
    {
     "ename": "NameError",
     "evalue": "name 'train_ch6' is not defined",
     "output_type": "error",
     "traceback": [
      "\u001B[1;31m---------------------------------------------------------------------------\u001B[0m",
      "\u001B[1;31mNameError\u001B[0m                                 Traceback (most recent call last)",
      "Cell \u001B[1;32mIn[77], line 1\u001B[0m\n\u001B[1;32m----> 1\u001B[0m \u001B[43mtrain_ch6\u001B[49m\n",
      "\u001B[1;31mNameError\u001B[0m: name 'train_ch6' is not defined"
     ]
    }
   ],
   "execution_count": 77
  },
  {
   "metadata": {},
   "cell_type": "code",
   "outputs": [],
   "execution_count": null,
   "source": "",
   "id": "fa61f327559e5037"
  }
 ],
 "metadata": {
  "kernelspec": {
   "display_name": "Python 3",
   "language": "python",
   "name": "python3"
  },
  "language_info": {
   "codemirror_mode": {
    "name": "ipython",
    "version": 2
   },
   "file_extension": ".py",
   "mimetype": "text/x-python",
   "name": "python",
   "nbconvert_exporter": "python",
   "pygments_lexer": "ipython2",
   "version": "2.7.6"
  }
 },
 "nbformat": 4,
 "nbformat_minor": 5
}
