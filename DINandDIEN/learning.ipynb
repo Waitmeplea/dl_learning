{
 "cells": [
  {
   "cell_type": "code",
   "id": "initial_id",
   "metadata": {
    "collapsed": true,
    "ExecuteTime": {
     "end_time": "2025-06-12T02:11:06.069002Z",
     "start_time": "2025-06-12T02:11:04.424549Z"
    }
   },
   "source": "import pandas as pd",
   "outputs": [],
   "execution_count": 5
  },
  {
   "metadata": {
    "ExecuteTime": {
     "end_time": "2025-05-14T05:44:07.807391Z",
     "start_time": "2025-05-14T05:44:07.800476Z"
    }
   },
   "cell_type": "code",
   "source": "s.add('a')",
   "id": "15595ac3a77934c8",
   "outputs": [],
   "execution_count": 2
  },
  {
   "metadata": {
    "ExecuteTime": {
     "end_time": "2025-05-14T05:44:09.602332Z",
     "start_time": "2025-05-14T05:44:09.583356Z"
    }
   },
   "cell_type": "code",
   "source": "s",
   "id": "33982927cdce5ed3",
   "outputs": [
    {
     "data": {
      "text/plain": [
       "{'a'}"
      ]
     },
     "execution_count": 3,
     "metadata": {},
     "output_type": "execute_result"
    }
   ],
   "execution_count": 3
  },
  {
   "metadata": {
    "ExecuteTime": {
     "end_time": "2025-06-09T05:30:43.298641Z",
     "start_time": "2025-06-09T05:30:40.138776Z"
    }
   },
   "cell_type": "code",
   "source": "import torch",
   "id": "79099584112a6aaa",
   "outputs": [],
   "execution_count": 1
  },
  {
   "metadata": {
    "ExecuteTime": {
     "end_time": "2025-06-09T05:30:45.366575Z",
     "start_time": "2025-06-09T05:30:45.360861Z"
    }
   },
   "cell_type": "code",
   "source": "x=torch.randn(2,3)",
   "id": "c2a39105766e1c52",
   "outputs": [],
   "execution_count": 2
  },
  {
   "metadata": {
    "ExecuteTime": {
     "end_time": "2025-06-09T05:31:14.891192Z",
     "start_time": "2025-06-09T05:31:14.888294Z"
    }
   },
   "cell_type": "code",
   "source": "x=x.to(dtype=torch.int)",
   "id": "c2c4fcd60cdf4600",
   "outputs": [],
   "execution_count": 10
  },
  {
   "metadata": {
    "ExecuteTime": {
     "end_time": "2025-06-09T05:31:05.149786Z",
     "start_time": "2025-06-09T05:31:05.145400Z"
    }
   },
   "cell_type": "code",
   "source": "torch.embedding(padding_idx=)",
   "id": "7c18ee049a93e1c7",
   "outputs": [
    {
     "data": {
      "text/plain": [
       "tensor([[ 0.5322,  1.7238, -0.3872],\n",
       "        [ 0.3376, -1.2144, -0.2541]])"
      ]
     },
     "execution_count": 7,
     "metadata": {},
     "output_type": "execute_result"
    }
   ],
   "execution_count": 7
  },
  {
   "metadata": {
    "ExecuteTime": {
     "end_time": "2025-06-09T08:44:30.620483Z",
     "start_time": "2025-06-09T08:44:30.617433Z"
    }
   },
   "cell_type": "code",
   "source": "import pandas as pd",
   "id": "c54f76fba1281177",
   "outputs": [],
   "execution_count": 15
  },
  {
   "metadata": {
    "ExecuteTime": {
     "end_time": "2025-06-09T08:45:05.881248Z",
     "start_time": "2025-06-09T08:45:05.877573Z"
    }
   },
   "cell_type": "code",
   "source": "df=pd.DataFrame({'a':[1,2,3]})",
   "id": "b8309e928dadc012",
   "outputs": [],
   "execution_count": 18
  },
  {
   "metadata": {
    "ExecuteTime": {
     "end_time": "2025-06-09T08:50:41.727433Z",
     "start_time": "2025-06-09T08:50:41.723010Z"
    }
   },
   "cell_type": "code",
   "source": "a=",
   "id": "c8a6f9966f69f179",
   "outputs": [],
   "execution_count": 30
  },
  {
   "metadata": {
    "ExecuteTime": {
     "end_time": "2025-06-09T08:54:00.158363Z",
     "start_time": "2025-06-09T08:54:00.154572Z"
    }
   },
   "cell_type": "code",
   "source": [
    "import numpy as np\n",
    "\n",
    "a,b,c=np.array(df)"
   ],
   "id": "2598ebe711172622",
   "outputs": [],
   "execution_count": 35
  },
  {
   "metadata": {
    "ExecuteTime": {
     "end_time": "2025-06-09T08:54:01.686101Z",
     "start_time": "2025-06-09T08:54:01.682112Z"
    }
   },
   "cell_type": "code",
   "source": "a",
   "id": "ee5530653a009709",
   "outputs": [
    {
     "data": {
      "text/plain": [
       "array([1], dtype=int64)"
      ]
     },
     "execution_count": 36,
     "metadata": {},
     "output_type": "execute_result"
    }
   ],
   "execution_count": 36
  },
  {
   "metadata": {
    "ExecuteTime": {
     "end_time": "2025-06-10T09:40:59.225076Z",
     "start_time": "2025-06-10T09:40:55.953802Z"
    }
   },
   "cell_type": "code",
   "source": "import torch",
   "id": "f7b58eed3a950199",
   "outputs": [],
   "execution_count": 1
  },
  {
   "metadata": {
    "ExecuteTime": {
     "end_time": "2025-06-10T09:41:06.671996Z",
     "start_time": "2025-06-10T09:41:06.658265Z"
    }
   },
   "cell_type": "code",
   "source": "torch.cat([torch.randn(2,3),torch.randn(2,3)],dim=-1)",
   "id": "dadc91088d8cac88",
   "outputs": [
    {
     "data": {
      "text/plain": [
       "tensor([[ 0.1262,  1.4129,  1.7383,  0.8452,  0.2662, -1.1897],\n",
       "        [ 0.2942,  0.3428,  0.9440,  0.6626, -0.5189, -0.0476]])"
      ]
     },
     "execution_count": 2,
     "metadata": {},
     "output_type": "execute_result"
    }
   ],
   "execution_count": 2
  },
  {
   "metadata": {
    "ExecuteTime": {
     "end_time": "2025-06-12T02:12:04.291725Z",
     "start_time": "2025-06-12T02:12:04.288549Z"
    }
   },
   "cell_type": "code",
   "source": "df=pd.DataFrame({'a':[1,2,3]})",
   "id": "ad13fb297c284e20",
   "outputs": [],
   "execution_count": 24
  },
  {
   "metadata": {
    "ExecuteTime": {
     "end_time": "2025-06-12T02:12:04.483969Z",
     "start_time": "2025-06-12T02:12:04.481033Z"
    }
   },
   "cell_type": "code",
   "source": "d=df.copy(deep=True)",
   "id": "cbea8572e9e995ba",
   "outputs": [],
   "execution_count": 25
  },
  {
   "metadata": {
    "ExecuteTime": {
     "end_time": "2025-06-12T02:12:04.725478Z",
     "start_time": "2025-06-12T02:12:04.720171Z"
    }
   },
   "cell_type": "code",
   "source": "id(d)",
   "id": "49acacad39b4801d",
   "outputs": [
    {
     "data": {
      "text/plain": [
       "2811900967824"
      ]
     },
     "execution_count": 26,
     "metadata": {},
     "output_type": "execute_result"
    }
   ],
   "execution_count": 26
  },
  {
   "metadata": {
    "ExecuteTime": {
     "end_time": "2025-06-12T02:12:05.043364Z",
     "start_time": "2025-06-12T02:12:05.038312Z"
    }
   },
   "cell_type": "code",
   "source": "id(df)",
   "id": "4ffd7e8e9d3b045f",
   "outputs": [
    {
     "data": {
      "text/plain": [
       "2811900968528"
      ]
     },
     "execution_count": 27,
     "metadata": {},
     "output_type": "execute_result"
    }
   ],
   "execution_count": 27
  },
  {
   "metadata": {
    "ExecuteTime": {
     "end_time": "2025-06-12T07:40:01.057299Z",
     "start_time": "2025-06-12T07:40:01.032835Z"
    }
   },
   "cell_type": "code",
   "source": "import torch",
   "id": "9c8759d2a92fa10c",
   "outputs": [],
   "execution_count": 28
  },
  {
   "metadata": {
    "ExecuteTime": {
     "end_time": "2025-06-12T07:40:51.302813Z",
     "start_time": "2025-06-12T07:40:51.297762Z"
    }
   },
   "cell_type": "code",
   "source": "x=torch.tensor([1000000,2,3],dtype=torch.int32)",
   "id": "11ba12a26628440f",
   "outputs": [],
   "execution_count": 38
  },
  {
   "metadata": {
    "ExecuteTime": {
     "end_time": "2025-06-12T07:40:51.727637Z",
     "start_time": "2025-06-12T07:40:51.723360Z"
    }
   },
   "cell_type": "code",
   "source": "x",
   "id": "2797a6cec72be879",
   "outputs": [
    {
     "data": {
      "text/plain": [
       "tensor([1000000,       2,       3], dtype=torch.int32)"
      ]
     },
     "execution_count": 39,
     "metadata": {},
     "output_type": "execute_result"
    }
   ],
   "execution_count": 39
  },
  {
   "metadata": {
    "ExecuteTime": {
     "end_time": "2025-06-13T01:50:38.791371Z",
     "start_time": "2025-06-13T01:50:32.528159Z"
    }
   },
   "cell_type": "code",
   "source": "pip install torchtext",
   "id": "467493106aa3319d",
   "outputs": [
    {
     "name": "stdout",
     "output_type": "stream",
     "text": [
      "Collecting torchtextNote: you may need to restart the kernel to use updated packages.\n",
      "\n",
      "  Downloading torchtext-0.18.0-cp311-cp311-win_amd64.whl.metadata (7.9 kB)\n",
      "Requirement already satisfied: tqdm in d:\\work softwar\\python\\lib\\site-packages (from torchtext) (4.66.5)\n",
      "Requirement already satisfied: requests in d:\\work softwar\\python\\lib\\site-packages (from torchtext) (2.32.3)\n",
      "Requirement already satisfied: torch>=2.3.0 in d:\\work softwar\\python\\lib\\site-packages (from torchtext) (2.6.0)\n",
      "Requirement already satisfied: numpy in d:\\work softwar\\python\\lib\\site-packages (from torchtext) (1.23.5)\n",
      "Requirement already satisfied: filelock in d:\\work softwar\\python\\lib\\site-packages (from torch>=2.3.0->torchtext) (3.18.0)\n",
      "Requirement already satisfied: typing-extensions>=4.10.0 in d:\\work softwar\\python\\lib\\site-packages (from torch>=2.3.0->torchtext) (4.12.2)\n",
      "Requirement already satisfied: networkx in d:\\work softwar\\python\\lib\\site-packages (from torch>=2.3.0->torchtext) (3.4.2)\n",
      "Requirement already satisfied: jinja2 in d:\\work softwar\\python\\lib\\site-packages (from torch>=2.3.0->torchtext) (3.1.2)\n",
      "Requirement already satisfied: fsspec in d:\\work softwar\\python\\lib\\site-packages (from torch>=2.3.0->torchtext) (2025.3.0)\n",
      "Requirement already satisfied: sympy==1.13.1 in d:\\work softwar\\python\\lib\\site-packages (from torch>=2.3.0->torchtext) (1.13.1)\n",
      "Requirement already satisfied: mpmath<1.4,>=1.1.0 in d:\\work softwar\\python\\lib\\site-packages (from sympy==1.13.1->torch>=2.3.0->torchtext) (1.3.0)\n",
      "Requirement already satisfied: charset-normalizer<4,>=2 in d:\\work softwar\\python\\lib\\site-packages (from requests->torchtext) (3.3.2)\n",
      "Requirement already satisfied: idna<4,>=2.5 in d:\\work softwar\\python\\lib\\site-packages (from requests->torchtext) (3.4)\n",
      "Requirement already satisfied: urllib3<3,>=1.21.1 in d:\\work softwar\\python\\lib\\site-packages (from requests->torchtext) (2.2.1)\n",
      "Requirement already satisfied: certifi>=2017.4.17 in d:\\work softwar\\python\\lib\\site-packages (from requests->torchtext) (2024.2.2)\n",
      "Requirement already satisfied: colorama in c:\\users\\humengyuan\\appdata\\roaming\\python\\python311\\site-packages (from tqdm->torchtext) (0.4.6)\n",
      "Requirement already satisfied: MarkupSafe>=2.0 in d:\\work softwar\\python\\lib\\site-packages (from jinja2->torch>=2.3.0->torchtext) (2.1.2)\n",
      "Downloading torchtext-0.18.0-cp311-cp311-win_amd64.whl (1.9 MB)\n",
      "   ---------------------------------------- 0.0/1.9 MB ? eta -:--:--\n",
      "   ---------------------------------------- 0.0/1.9 MB ? eta -:--:--\n",
      "   ----- ---------------------------------- 0.3/1.9 MB ? eta -:--:--\n",
      "   --------------------- ------------------ 1.0/1.9 MB 4.2 MB/s eta 0:00:01\n",
      "   --------------------- ------------------ 1.0/1.9 MB 4.2 MB/s eta 0:00:01\n",
      "   --------------------- ------------------ 1.0/1.9 MB 4.2 MB/s eta 0:00:01\n",
      "   ---------------------------------------- 1.9/1.9 MB 2.0 MB/s eta 0:00:00\n",
      "Installing collected packages: torchtext\n",
      "Successfully installed torchtext-0.18.0\n"
     ]
    },
    {
     "name": "stderr",
     "output_type": "stream",
     "text": [
      "WARNING: Ignoring invalid distribution ~otebook (D:\\work softwar\\python\\Lib\\site-packages)\n",
      "WARNING: Ignoring invalid distribution ~otebook (D:\\work softwar\\python\\Lib\\site-packages)\n",
      "WARNING: Ignoring invalid distribution ~otebook (D:\\work softwar\\python\\Lib\\site-packages)\n",
      "\n",
      "[notice] A new release of pip is available: 24.3.1 -> 25.1.1\n",
      "[notice] To update, run: D:\\work softwar\\python\\python.exe -m pip install --upgrade pip\n"
     ]
    }
   ],
   "execution_count": 40
  },
  {
   "metadata": {
    "ExecuteTime": {
     "end_time": "2025-06-13T01:51:23.457191Z",
     "start_time": "2025-06-13T01:51:21.575632Z"
    }
   },
   "cell_type": "code",
   "source": "import torchtext",
   "id": "e6fe5e74180e82d2",
   "outputs": [
    {
     "ename": "OSError",
     "evalue": "[WinError 127] 找不到指定的程序。",
     "output_type": "error",
     "traceback": [
      "\u001B[1;31m---------------------------------------------------------------------------\u001B[0m",
      "\u001B[1;31mOSError\u001B[0m                                   Traceback (most recent call last)",
      "Cell \u001B[1;32mIn[1], line 1\u001B[0m\n\u001B[1;32m----> 1\u001B[0m \u001B[38;5;28;01mimport\u001B[39;00m \u001B[38;5;21;01mtorchtext\u001B[39;00m\n",
      "File \u001B[1;32mD:\\work softwar\\python\\Lib\\site-packages\\torchtext\\__init__.py:18\u001B[0m\n\u001B[0;32m     15\u001B[0m     _WARN \u001B[38;5;241m=\u001B[39m \u001B[38;5;28;01mFalse\u001B[39;00m\n\u001B[0;32m     17\u001B[0m \u001B[38;5;66;03m# the following import has to happen first in order to load the torchtext C++ library\u001B[39;00m\n\u001B[1;32m---> 18\u001B[0m \u001B[38;5;28;01mfrom\u001B[39;00m \u001B[38;5;21;01mtorchtext\u001B[39;00m \u001B[38;5;28;01mimport\u001B[39;00m _extension  \u001B[38;5;66;03m# noqa: F401\u001B[39;00m\n\u001B[0;32m     20\u001B[0m _TEXT_BUCKET \u001B[38;5;241m=\u001B[39m \u001B[38;5;124m\"\u001B[39m\u001B[38;5;124mhttps://download.pytorch.org/models/text/\u001B[39m\u001B[38;5;124m\"\u001B[39m\n\u001B[0;32m     22\u001B[0m _CACHE_DIR \u001B[38;5;241m=\u001B[39m os\u001B[38;5;241m.\u001B[39mpath\u001B[38;5;241m.\u001B[39mexpanduser(os\u001B[38;5;241m.\u001B[39mpath\u001B[38;5;241m.\u001B[39mjoin(_get_torch_home(), \u001B[38;5;124m\"\u001B[39m\u001B[38;5;124mtext\u001B[39m\u001B[38;5;124m\"\u001B[39m))\n",
      "File \u001B[1;32mD:\\work softwar\\python\\Lib\\site-packages\\torchtext\\_extension.py:64\u001B[0m\n\u001B[0;32m     59\u001B[0m     \u001B[38;5;66;03m# This import is for initializing the methods registered via PyBind11\u001B[39;00m\n\u001B[0;32m     60\u001B[0m     \u001B[38;5;66;03m# This has to happen after the base library is loaded\u001B[39;00m\n\u001B[0;32m     61\u001B[0m     \u001B[38;5;28;01mfrom\u001B[39;00m \u001B[38;5;21;01mtorchtext\u001B[39;00m \u001B[38;5;28;01mimport\u001B[39;00m _torchtext  \u001B[38;5;66;03m# noqa\u001B[39;00m\n\u001B[1;32m---> 64\u001B[0m \u001B[43m_init_extension\u001B[49m\u001B[43m(\u001B[49m\u001B[43m)\u001B[49m\n",
      "File \u001B[1;32mD:\\work softwar\\python\\Lib\\site-packages\\torchtext\\_extension.py:58\u001B[0m, in \u001B[0;36m_init_extension\u001B[1;34m()\u001B[0m\n\u001B[0;32m     55\u001B[0m \u001B[38;5;28;01mif\u001B[39;00m \u001B[38;5;129;01mnot\u001B[39;00m _mod_utils\u001B[38;5;241m.\u001B[39mis_module_available(\u001B[38;5;124m\"\u001B[39m\u001B[38;5;124mtorchtext._torchtext\u001B[39m\u001B[38;5;124m\"\u001B[39m):\n\u001B[0;32m     56\u001B[0m     \u001B[38;5;28;01mraise\u001B[39;00m \u001B[38;5;167;01mImportError\u001B[39;00m(\u001B[38;5;124m\"\u001B[39m\u001B[38;5;124mtorchtext C++ Extension is not found.\u001B[39m\u001B[38;5;124m\"\u001B[39m)\n\u001B[1;32m---> 58\u001B[0m \u001B[43m_load_lib\u001B[49m\u001B[43m(\u001B[49m\u001B[38;5;124;43m\"\u001B[39;49m\u001B[38;5;124;43mlibtorchtext\u001B[39;49m\u001B[38;5;124;43m\"\u001B[39;49m\u001B[43m)\u001B[49m\n\u001B[0;32m     59\u001B[0m \u001B[38;5;66;03m# This import is for initializing the methods registered via PyBind11\u001B[39;00m\n\u001B[0;32m     60\u001B[0m \u001B[38;5;66;03m# This has to happen after the base library is loaded\u001B[39;00m\n\u001B[0;32m     61\u001B[0m \u001B[38;5;28;01mfrom\u001B[39;00m \u001B[38;5;21;01mtorchtext\u001B[39;00m \u001B[38;5;28;01mimport\u001B[39;00m _torchtext\n",
      "File \u001B[1;32mD:\\work softwar\\python\\Lib\\site-packages\\torchtext\\_extension.py:50\u001B[0m, in \u001B[0;36m_load_lib\u001B[1;34m(lib)\u001B[0m\n\u001B[0;32m     48\u001B[0m \u001B[38;5;28;01mif\u001B[39;00m \u001B[38;5;129;01mnot\u001B[39;00m path\u001B[38;5;241m.\u001B[39mexists():\n\u001B[0;32m     49\u001B[0m     \u001B[38;5;28;01mreturn\u001B[39;00m \u001B[38;5;28;01mFalse\u001B[39;00m\n\u001B[1;32m---> 50\u001B[0m \u001B[43mtorch\u001B[49m\u001B[38;5;241;43m.\u001B[39;49m\u001B[43mops\u001B[49m\u001B[38;5;241;43m.\u001B[39;49m\u001B[43mload_library\u001B[49m\u001B[43m(\u001B[49m\u001B[43mpath\u001B[49m\u001B[43m)\u001B[49m\n\u001B[0;32m     51\u001B[0m \u001B[38;5;28;01mreturn\u001B[39;00m \u001B[38;5;28;01mTrue\u001B[39;00m\n",
      "File \u001B[1;32mD:\\work softwar\\python\\Lib\\site-packages\\torch\\_ops.py:1357\u001B[0m, in \u001B[0;36m_Ops.load_library\u001B[1;34m(self, path)\u001B[0m\n\u001B[0;32m   1352\u001B[0m path \u001B[38;5;241m=\u001B[39m _utils_internal\u001B[38;5;241m.\u001B[39mresolve_library_path(path)\n\u001B[0;32m   1353\u001B[0m \u001B[38;5;28;01mwith\u001B[39;00m dl_open_guard():\n\u001B[0;32m   1354\u001B[0m     \u001B[38;5;66;03m# Import the shared library into the process, thus running its\u001B[39;00m\n\u001B[0;32m   1355\u001B[0m     \u001B[38;5;66;03m# static (global) initialization code in order to register custom\u001B[39;00m\n\u001B[0;32m   1356\u001B[0m     \u001B[38;5;66;03m# operators with the JIT.\u001B[39;00m\n\u001B[1;32m-> 1357\u001B[0m     \u001B[43mctypes\u001B[49m\u001B[38;5;241;43m.\u001B[39;49m\u001B[43mCDLL\u001B[49m\u001B[43m(\u001B[49m\u001B[43mpath\u001B[49m\u001B[43m)\u001B[49m\n\u001B[0;32m   1358\u001B[0m \u001B[38;5;28mself\u001B[39m\u001B[38;5;241m.\u001B[39mloaded_libraries\u001B[38;5;241m.\u001B[39madd(path)\n",
      "File \u001B[1;32mD:\\work softwar\\python\\Lib\\ctypes\\__init__.py:376\u001B[0m, in \u001B[0;36mCDLL.__init__\u001B[1;34m(self, name, mode, handle, use_errno, use_last_error, winmode)\u001B[0m\n\u001B[0;32m    373\u001B[0m \u001B[38;5;28mself\u001B[39m\u001B[38;5;241m.\u001B[39m_FuncPtr \u001B[38;5;241m=\u001B[39m _FuncPtr\n\u001B[0;32m    375\u001B[0m \u001B[38;5;28;01mif\u001B[39;00m handle \u001B[38;5;129;01mis\u001B[39;00m \u001B[38;5;28;01mNone\u001B[39;00m:\n\u001B[1;32m--> 376\u001B[0m     \u001B[38;5;28mself\u001B[39m\u001B[38;5;241m.\u001B[39m_handle \u001B[38;5;241m=\u001B[39m \u001B[43m_dlopen\u001B[49m\u001B[43m(\u001B[49m\u001B[38;5;28;43mself\u001B[39;49m\u001B[38;5;241;43m.\u001B[39;49m\u001B[43m_name\u001B[49m\u001B[43m,\u001B[49m\u001B[43m \u001B[49m\u001B[43mmode\u001B[49m\u001B[43m)\u001B[49m\n\u001B[0;32m    377\u001B[0m \u001B[38;5;28;01melse\u001B[39;00m:\n\u001B[0;32m    378\u001B[0m     \u001B[38;5;28mself\u001B[39m\u001B[38;5;241m.\u001B[39m_handle \u001B[38;5;241m=\u001B[39m handle\n",
      "\u001B[1;31mOSError\u001B[0m: [WinError 127] 找不到指定的程序。"
     ]
    }
   ],
   "execution_count": 1
  },
  {
   "metadata": {},
   "cell_type": "code",
   "outputs": [],
   "execution_count": null,
   "source": "",
   "id": "d036a8167fe1d316"
  }
 ],
 "metadata": {
  "kernelspec": {
   "display_name": "Python 3",
   "language": "python",
   "name": "python3"
  },
  "language_info": {
   "codemirror_mode": {
    "name": "ipython",
    "version": 2
   },
   "file_extension": ".py",
   "mimetype": "text/x-python",
   "name": "python",
   "nbconvert_exporter": "python",
   "pygments_lexer": "ipython2",
   "version": "2.7.6"
  }
 },
 "nbformat": 4,
 "nbformat_minor": 5
}
