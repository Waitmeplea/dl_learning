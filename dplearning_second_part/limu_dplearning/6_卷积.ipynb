{
 "cells": [
  {
   "cell_type": "code",
   "id": "initial_id",
   "metadata": {
    "collapsed": true,
    "ExecuteTime": {
     "end_time": "2025-04-14T00:53:29.208622Z",
     "start_time": "2025-04-14T00:53:25.843913Z"
    }
   },
   "source": [
    "import torch\n",
    "from torch import nn\n",
    "from PIL import Image"
   ],
   "outputs": [],
   "execution_count": 1
  },
  {
   "metadata": {
    "ExecuteTime": {
     "end_time": "2025-04-14T00:53:29.215432Z",
     "start_time": "2025-04-14T00:53:29.209627Z"
    }
   },
   "cell_type": "code",
   "source": [
    "def corr2d(x,k):\n",
    "    h,w=k.shape\n",
    "    result_h=x.shape[0]-h+1\n",
    "    result_w=x.shape[1]-w+1\n",
    "    result=torch.zeros((result_h,result_w))\n",
    "    for i in range(result_h):\n",
    "        for j in range(result_w):\n",
    "            result[i,j]=(x[i:i+h,j:j+w]*k).sum()\n",
    "    return result\n",
    "class Conv2D(nn.Module):\n",
    "    def __init__(self):\n",
    "        super(Conv2D, self).__init__()\n",
    "        self.bias=nn.Parameter(torch.zeros(1))\n",
    "    def forward(self, x,k):\n",
    "        r=corr2d(x,k)\n",
    "        return r+self.bias"
   ],
   "id": "d56f7db52293c89c",
   "outputs": [],
   "execution_count": 2
  },
  {
   "metadata": {
    "ExecuteTime": {
     "end_time": "2025-04-14T00:53:29.220308Z",
     "start_time": "2025-04-14T00:53:29.215432Z"
    }
   },
   "cell_type": "code",
   "source": [
    "def show_image_from_tensor(x):\n",
    "    if isinstance(x, torch.Tensor):\n",
    "        x=x.numpy()*255\n",
    "    Image.fromarray(x).show()"
   ],
   "id": "ac63681921998540",
   "outputs": [],
   "execution_count": 3
  },
  {
   "metadata": {
    "ExecuteTime": {
     "end_time": "2025-04-14T00:53:29.366468Z",
     "start_time": "2025-04-14T00:53:29.220308Z"
    }
   },
   "cell_type": "code",
   "source": [
    "x=torch.ones([60,80])\n",
    "x[:,20:60]=0\n",
    "k=torch.tensor([[1,-1]])\n",
    "Y=corr2d(x,k)"
   ],
   "id": "e628c3de1dc4d0a7",
   "outputs": [],
   "execution_count": 4
  },
  {
   "metadata": {
    "ExecuteTime": {
     "end_time": "2025-04-14T00:53:29.370403Z",
     "start_time": "2025-04-14T00:53:29.366468Z"
    }
   },
   "cell_type": "code",
   "source": "",
   "id": "fad0c5af3f97604a",
   "outputs": [],
   "execution_count": 4
  },
  {
   "metadata": {
    "ExecuteTime": {
     "end_time": "2025-04-14T00:53:29.374200Z",
     "start_time": "2025-04-14T00:53:29.370403Z"
    }
   },
   "cell_type": "code",
   "source": "",
   "id": "f8fbe21db3f58da6",
   "outputs": [],
   "execution_count": 4
  },
  {
   "metadata": {
    "ExecuteTime": {
     "end_time": "2025-04-14T00:53:29.384462Z",
     "start_time": "2025-04-14T00:53:29.374200Z"
    }
   },
   "cell_type": "code",
   "source": [
    "conv2d=nn.Conv2d(1,1,kernel_size=(1,2),bias=False)\n",
    "x=x.reshape(1,1,60,80)\n",
    "Y=Y.reshape(1,1,60,79)"
   ],
   "id": "54d330c06268a270",
   "outputs": [],
   "execution_count": 5
  },
  {
   "metadata": {
    "ExecuteTime": {
     "end_time": "2025-04-14T00:53:29.402123Z",
     "start_time": "2025-04-14T00:53:29.384462Z"
    }
   },
   "cell_type": "code",
   "source": "print(Y)",
   "id": "ab96859bdcfa92f0",
   "outputs": [
    {
     "name": "stdout",
     "output_type": "stream",
     "text": [
      "tensor([[[[0., 0., 0.,  ..., 0., 0., 0.],\n",
      "          [0., 0., 0.,  ..., 0., 0., 0.],\n",
      "          [0., 0., 0.,  ..., 0., 0., 0.],\n",
      "          ...,\n",
      "          [0., 0., 0.,  ..., 0., 0., 0.],\n",
      "          [0., 0., 0.,  ..., 0., 0., 0.],\n",
      "          [0., 0., 0.,  ..., 0., 0., 0.]]]])\n"
     ]
    }
   ],
   "execution_count": 6
  },
  {
   "metadata": {
    "ExecuteTime": {
     "end_time": "2025-04-14T00:53:31.251379Z",
     "start_time": "2025-04-14T00:53:29.402123Z"
    }
   },
   "cell_type": "code",
   "source": [
    "loss=nn.MSELoss()\n",
    "for i in range(10000):\n",
    "    # conv2d.zero_grad()\n",
    "    loss.zero_grad()\n",
    "    Y_hat=conv2d(x)\n",
    "    l=loss(Y_hat,Y)\n",
    "    l.backward()\n",
    "\n",
    "    conv2d.weight.data[:]-=0.01*conv2d.weight.grad"
   ],
   "id": "cc7c1aad0d7b764a",
   "outputs": [],
   "execution_count": 7
  },
  {
   "metadata": {
    "ExecuteTime": {
     "end_time": "2025-04-14T00:53:31.260302Z",
     "start_time": "2025-04-14T00:53:31.252380Z"
    }
   },
   "cell_type": "code",
   "source": "conv2d.weight.data",
   "id": "43a2c69b88ff9517",
   "outputs": [
    {
     "data": {
      "text/plain": [
       "tensor([[[[ 1.3048, -1.8903]]]])"
      ]
     },
     "execution_count": 8,
     "metadata": {},
     "output_type": "execute_result"
    }
   ],
   "execution_count": 8
  },
  {
   "metadata": {
    "ExecuteTime": {
     "end_time": "2025-04-14T00:58:11.502794Z",
     "start_time": "2025-04-14T00:58:11.500291Z"
    }
   },
   "cell_type": "code",
   "source": "",
   "id": "be32e0fc8da9b0c4",
   "outputs": [],
   "execution_count": 14
  },
  {
   "metadata": {},
   "cell_type": "markdown",
   "source": "### 卷积神经网络超参数",
   "id": "99b8c33119584a42"
  },
  {
   "metadata": {},
   "cell_type": "markdown",
   "source": "填充和步幅",
   "id": "c02aef31fd3bcd63"
  },
  {
   "metadata": {
    "ExecuteTime": {
     "end_time": "2025-04-14T01:01:49.611024Z",
     "start_time": "2025-04-14T01:01:49.604383Z"
    }
   },
   "cell_type": "code",
   "source": [
    "def com_conv2d(conv2d,x):\n",
    "    x=x.reshape((1,1)+x.shape)\n",
    "    y=conv2d(x)\n",
    "    return y\n",
    "\n",
    "conv2d=nn.Conv2d(1,1,kernel_size=(3,3),padding=(1,1),bias=False)"
   ],
   "id": "f5c201d9b6b97011",
   "outputs": [],
   "execution_count": 21
  },
  {
   "metadata": {
    "ExecuteTime": {
     "end_time": "2025-04-14T01:01:49.771818Z",
     "start_time": "2025-04-14T01:01:49.768495Z"
    }
   },
   "cell_type": "code",
   "source": "x=torch.ones([6,6])",
   "id": "c1e5958d6f2d0d32",
   "outputs": [],
   "execution_count": 22
  },
  {
   "metadata": {
    "ExecuteTime": {
     "end_time": "2025-04-14T01:01:49.916909Z",
     "start_time": "2025-04-14T01:01:49.907600Z"
    }
   },
   "cell_type": "code",
   "source": "com_conv2d(conv2d,x).shape",
   "id": "b48686a79ffde770",
   "outputs": [
    {
     "data": {
      "text/plain": [
       "torch.Size([1, 1, 6, 6])"
      ]
     },
     "execution_count": 23,
     "metadata": {},
     "output_type": "execute_result"
    }
   ],
   "execution_count": 23
  },
  {
   "metadata": {},
   "cell_type": "markdown",
   "source": "通道数",
   "id": "c63011513b1ae5d5"
  },
  {
   "metadata": {},
   "cell_type": "code",
   "outputs": [],
   "execution_count": null,
   "source": "",
   "id": "ff98a1d5095ca3f0"
  }
 ],
 "metadata": {
  "kernelspec": {
   "display_name": "Python 3",
   "language": "python",
   "name": "python3"
  },
  "language_info": {
   "codemirror_mode": {
    "name": "ipython",
    "version": 2
   },
   "file_extension": ".py",
   "mimetype": "text/x-python",
   "name": "python",
   "nbconvert_exporter": "python",
   "pygments_lexer": "ipython2",
   "version": "2.7.6"
  }
 },
 "nbformat": 4,
 "nbformat_minor": 5
}
