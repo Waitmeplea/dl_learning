{
 "cells": [
  {
   "cell_type": "code",
   "execution_count": 1,
   "id": "initial_id",
   "metadata": {
    "ExecuteTime": {
     "end_time": "2025-04-15T01:41:00.928614Z",
     "start_time": "2025-04-15T01:41:00.925740Z"
    }
   },
   "outputs": [],
   "source": [
    "import torch\n",
    "from torch import nn\n",
    "from PIL import Image\n",
    "import torchvision\n",
    "import sys\n",
    "sys.path.append('./utils')\n",
    "from useful_func import *"
   ]
  },
  {
   "cell_type": "code",
   "execution_count": 80,
   "id": "d56f7db52293c89c",
   "metadata": {
    "ExecuteTime": {
     "end_time": "2025-04-15T01:41:04.037333Z",
     "start_time": "2025-04-15T01:41:04.032658Z"
    }
   },
   "outputs": [],
   "source": [
    "def corr2d(x,k):\n",
    "    h,w=k.shape\n",
    "    result_h=x.shape[0]-h+1\n",
    "    result_w=x.shape[1]-w+1\n",
    "    result=torch.zeros((result_h,result_w))\n",
    "    for i in range(result_h):\n",
    "        for j in range(result_w):\n",
    "            result[i,j]=(x[i:i+h,j:j+w]*k).sum()\n",
    "    return result\n",
    "class Conv2D(nn.Module):\n",
    "    def __init__(self):\n",
    "        super(Conv2D, self).__init__()\n",
    "        self.bias=nn.Parameter(torch.zeros(1))\n",
    "    def forward(self, x,k):\n",
    "        r=corr2d(x,k)\n",
    "        return r+self.bias"
   ]
  },
  {
   "cell_type": "code",
   "execution_count": 81,
   "id": "ac63681921998540",
   "metadata": {
    "ExecuteTime": {
     "end_time": "2025-04-15T01:41:04.191187Z",
     "start_time": "2025-04-15T01:41:04.188368Z"
    }
   },
   "outputs": [],
   "source": [
    "def show_image_from_tensor(x):\n",
    "    if isinstance(x, torch.Tensor):\n",
    "        x=x.numpy()*255\n",
    "    Image.fromarray(x).show()"
   ]
  },
  {
   "cell_type": "code",
   "execution_count": 82,
   "id": "e628c3de1dc4d0a7",
   "metadata": {
    "ExecuteTime": {
     "end_time": "2025-04-15T01:41:04.466157Z",
     "start_time": "2025-04-15T01:41:04.354701Z"
    }
   },
   "outputs": [],
   "source": [
    "x=torch.ones([60,80])\n",
    "x[:,20:60]=0\n",
    "k=torch.tensor([[1,-1]])\n",
    "Y=corr2d(x,k)"
   ]
  },
  {
   "cell_type": "code",
   "execution_count": 82,
   "id": "fad0c5af3f97604a",
   "metadata": {
    "ExecuteTime": {
     "end_time": "2025-04-15T01:41:04.534385Z",
     "start_time": "2025-04-15T01:41:04.532169Z"
    }
   },
   "outputs": [],
   "source": []
  },
  {
   "cell_type": "code",
   "execution_count": 82,
   "id": "f8fbe21db3f58da6",
   "metadata": {
    "ExecuteTime": {
     "end_time": "2025-04-15T01:41:05.446203Z",
     "start_time": "2025-04-15T01:41:05.444293Z"
    }
   },
   "outputs": [],
   "source": []
  },
  {
   "cell_type": "code",
   "execution_count": 83,
   "id": "54d330c06268a270",
   "metadata": {
    "ExecuteTime": {
     "end_time": "2025-04-15T01:41:05.635108Z",
     "start_time": "2025-04-15T01:41:05.631203Z"
    }
   },
   "outputs": [],
   "source": [
    "conv2d=nn.Conv2d(1,1,kernel_size=(1,2),bias=False)\n",
    "x=x.reshape(1,1,60,80)\n",
    "Y=Y.reshape(1,1,60,79)"
   ]
  },
  {
   "cell_type": "code",
   "execution_count": 84,
   "id": "ab96859bdcfa92f0",
   "metadata": {
    "ExecuteTime": {
     "end_time": "2025-04-15T01:41:06.362639Z",
     "start_time": "2025-04-15T01:41:06.357285Z"
    }
   },
   "outputs": [
    {
     "name": "stdout",
     "output_type": "stream",
     "text": [
      "tensor([[[[0., 0., 0.,  ..., 0., 0., 0.],\n",
      "          [0., 0., 0.,  ..., 0., 0., 0.],\n",
      "          [0., 0., 0.,  ..., 0., 0., 0.],\n",
      "          ...,\n",
      "          [0., 0., 0.,  ..., 0., 0., 0.],\n",
      "          [0., 0., 0.,  ..., 0., 0., 0.],\n",
      "          [0., 0., 0.,  ..., 0., 0., 0.]]]])\n"
     ]
    }
   ],
   "source": [
    "print(Y)"
   ]
  },
  {
   "cell_type": "code",
   "execution_count": 85,
   "id": "cc7c1aad0d7b764a",
   "metadata": {
    "ExecuteTime": {
     "end_time": "2025-04-15T01:41:10.856651Z",
     "start_time": "2025-04-15T01:41:07.348488Z"
    }
   },
   "outputs": [],
   "source": [
    "loss=nn.MSELoss()\n",
    "for i in range(10000):\n",
    "    # conv2d.zero_grad()\n",
    "    loss.zero_grad()\n",
    "    Y_hat=conv2d(x)\n",
    "    l=loss(Y_hat,Y)\n",
    "    l.backward()\n",
    "\n",
    "    conv2d.weight.data[:]-=0.01*conv2d.weight.grad"
   ]
  },
  {
   "cell_type": "code",
   "execution_count": 86,
   "id": "43a2c69b88ff9517",
   "metadata": {
    "ExecuteTime": {
     "end_time": "2025-04-15T01:41:10.865110Z",
     "start_time": "2025-04-15T01:41:10.858653Z"
    }
   },
   "outputs": [
    {
     "data": {
      "text/plain": [
       "tensor([[[[ 1.3902, -1.0642]]]])"
      ]
     },
     "execution_count": 86,
     "metadata": {},
     "output_type": "execute_result"
    }
   ],
   "source": [
    "conv2d.weight.data"
   ]
  },
  {
   "cell_type": "code",
   "execution_count": 86,
   "id": "be32e0fc8da9b0c4",
   "metadata": {
    "ExecuteTime": {
     "end_time": "2025-04-15T01:41:10.868309Z",
     "start_time": "2025-04-15T01:41:10.866112Z"
    }
   },
   "outputs": [],
   "source": []
  },
  {
   "cell_type": "markdown",
   "id": "99b8c33119584a42",
   "metadata": {},
   "source": [
    "### 卷积神经网络超参数"
   ]
  },
  {
   "cell_type": "markdown",
   "id": "c02aef31fd3bcd63",
   "metadata": {},
   "source": [
    "填充和步幅"
   ]
  },
  {
   "cell_type": "code",
   "execution_count": 87,
   "id": "f5c201d9b6b97011",
   "metadata": {
    "ExecuteTime": {
     "end_time": "2025-04-15T01:41:10.874711Z",
     "start_time": "2025-04-15T01:41:10.869312Z"
    }
   },
   "outputs": [],
   "source": [
    "def com_conv2d(conv2d,x):\n",
    "    x=x.reshape((1,1)+x.shape)\n",
    "    y=conv2d(x)\n",
    "    return y\n",
    "\n",
    "conv2d=nn.Conv2d(1,1,kernel_size=(3,3),padding=(1,1),bias=False)"
   ]
  },
  {
   "cell_type": "code",
   "execution_count": 88,
   "id": "c1e5958d6f2d0d32",
   "metadata": {
    "ExecuteTime": {
     "end_time": "2025-04-15T01:41:10.879985Z",
     "start_time": "2025-04-15T01:41:10.875714Z"
    }
   },
   "outputs": [],
   "source": [
    "x=torch.ones([6,6])"
   ]
  },
  {
   "cell_type": "code",
   "execution_count": 89,
   "id": "b48686a79ffde770",
   "metadata": {
    "ExecuteTime": {
     "end_time": "2025-04-15T01:41:10.886296Z",
     "start_time": "2025-04-15T01:41:10.880988Z"
    }
   },
   "outputs": [
    {
     "data": {
      "text/plain": [
       "torch.Size([1, 1, 6, 6])"
      ]
     },
     "execution_count": 89,
     "metadata": {},
     "output_type": "execute_result"
    }
   ],
   "source": [
    "com_conv2d(conv2d,x).shape"
   ]
  },
  {
   "cell_type": "markdown",
   "id": "c63011513b1ae5d5",
   "metadata": {},
   "source": [
    "通道数"
   ]
  },
  {
   "cell_type": "code",
   "execution_count": 1,
   "id": "ff98a1d5095ca3f0",
   "metadata": {
    "ExecuteTime": {
     "end_time": "2025-04-15T01:43:18.922337Z",
     "start_time": "2025-04-15T01:43:13.116577Z"
    }
   },
   "outputs": [],
   "source": [
    "import torch\n",
    "from torch import nn\n",
    "from PIL import Image\n",
    "import torchvision\n",
    "import sys\n",
    "sys.path.append('./utils')\n",
    "from dplearning_second_part.limu_dplearning.utils.useful_func import *"
   ]
  },
  {
   "cell_type": "code",
   "execution_count": 2,
   "id": "f4a2c191e28eb20d",
   "metadata": {
    "ExecuteTime": {
     "end_time": "2025-04-15T01:43:18.928977Z",
     "start_time": "2025-04-15T01:43:18.923339Z"
    }
   },
   "outputs": [],
   "source": [
    "class LeNet(nn.Module):\n",
    "    def __init__(self):\n",
    "        super(LeNet, self).__init__()\n",
    "        self.sequential =nn.Sequential(\n",
    "            nn.Conv2d(in_channels=1,out_channels=6,kernel_size=5,stride=1,padding=2),nn.Sigmoid()\n",
    "            ,nn.AvgPool2d(kernel_size=2,stride=2)\n",
    "            ,nn.Conv2d(in_channels=6,out_channels=16,kernel_size=5,stride=1),nn.Sigmoid()\n",
    "            ,nn.AvgPool2d(kernel_size=2,stride=2),nn.Flatten()\n",
    "            ,nn.Linear(in_features=16*5*5,out_features=120),nn.Sigmoid()\n",
    "            ,nn.Linear(in_features=120,out_features=84),nn.Sigmoid()\n",
    "            ,nn.Linear(in_features=84,out_features=10)\n",
    "        )\n",
    "    def forward(self, x):\n",
    "        return self.sequential(x)"
   ]
  },
  {
   "cell_type": "code",
   "execution_count": 3,
   "id": "e7b7d7036c139ad",
   "metadata": {
    "ExecuteTime": {
     "end_time": "2025-04-15T01:43:19.110679Z",
     "start_time": "2025-04-15T01:43:18.930980Z"
    }
   },
   "outputs": [
    {
     "name": "stdout",
     "output_type": "stream",
     "text": [
      "Conv2d _____output shape:\t torch.Size([1, 6, 28, 28])\n",
      "Sigmoid _____output shape:\t torch.Size([1, 6, 28, 28])\n",
      "AvgPool2d _____output shape:\t torch.Size([1, 6, 14, 14])\n",
      "Conv2d _____output shape:\t torch.Size([1, 16, 10, 10])\n",
      "Sigmoid _____output shape:\t torch.Size([1, 16, 10, 10])\n",
      "AvgPool2d _____output shape:\t torch.Size([1, 16, 5, 5])\n",
      "Flatten _____output shape:\t torch.Size([1, 400])\n",
      "Linear _____output shape:\t torch.Size([1, 120])\n",
      "Sigmoid _____output shape:\t torch.Size([1, 120])\n",
      "Linear _____output shape:\t torch.Size([1, 84])\n",
      "Sigmoid _____output shape:\t torch.Size([1, 84])\n",
      "Linear _____output shape:\t torch.Size([1, 10])\n"
     ]
    }
   ],
   "source": [
    "x=torch.ones([1,1,28,28],dtype=torch.float32)\n",
    "net=LeNet()\n",
    "###看下输出的形状\n",
    "for layer in net.sequential:\n",
    "    x=layer(x)\n",
    "    print(layer.__class__.__name__,'_____output shape:\\t',x.shape)"
   ]
  },
  {
   "cell_type": "code",
   "execution_count": 4,
   "id": "f84a20986a03edb9",
   "metadata": {
    "ExecuteTime": {
     "end_time": "2025-04-15T01:43:19.111682Z",
     "start_time": "2025-04-15T01:43:19.111682Z"
    }
   },
   "outputs": [],
   "source": [
    "train_data=torchvision.datasets.FashionMNIST('../data', train=True, download=True,transform=torchvision.transforms.ToTensor())\n",
    "test_data=torchvision.datasets.FashionMNIST('../data', train=False, download=True,transform=torchvision.transforms.ToTensor())"
   ]
  },
  {
   "cell_type": "code",
   "execution_count": 5,
   "id": "f14571898e92775e",
   "metadata": {},
   "outputs": [],
   "source": [
    "batch_size=256\n",
    "train_loader = torch.utils.data.DataLoader(train_data, batch_size=batch_size, shuffle=True)\n",
    "test_loader = torch.utils.data.DataLoader(test_data, batch_size=batch_size, shuffle=True)"
   ]
  },
  {
   "cell_type": "code",
   "execution_count": 6,
   "id": "5f6af5cc6167261c",
   "metadata": {},
   "outputs": [],
   "source": [
    "def evaluate_accuracy_gpu(net,data_iter,device=None):\n",
    "    if isinstance(net,nn.Module):\n",
    "        net.eval()\n",
    "        if not device:\n",
    "            device = torch.device(\"cuda:0\")\n",
    "    metric=Accumulator(2)\n",
    "    for x,y in data_iter:\n",
    "        if isinstance(x,list):\n",
    "            x=[i.to(device) for i in x]\n",
    "        else:\n",
    "            x=x.to(device)\n",
    "        y=y.to(device)\n",
    "        metric.add(accuracy(net(x),y),y.numel())\n",
    "    return metric[0]/metric[1]    "
   ]
  },
  {
   "cell_type": "code",
   "execution_count": 7,
   "id": "2939f586e71c95c4",
   "metadata": {},
   "outputs": [
    {
     "data": {
      "image/png": "[encoded data removed]",
      "text/plain": [
       "<Figure size 320x250 with 1 Axes>"
      ]
     },
     "metadata": {},
     "output_type": "display_data"
    },
    {
     "name": "stdout",
     "output_type": "stream",
     "text": [
      "loss 0.466, train acc 0.824, test acc 0.828\n",
      "18226.4 examples/sec on cpu\n"
     ]
    },
    {
     "data": {
      "image/png": "[encoded data removed]",
      "text/plain": [
       "<Figure size 320x250 with 1 Axes>"
      ]
     },
     "metadata": {},
     "output_type": "display_data"
    }
   ],
   "source": [
    "\n",
    "\n",
    "lr, num_epochs = 0.9, 10\n",
    "train_ch6(net, train_loader, test_loader, num_epochs, lr, try_gpu())"
   ]
  },
  {
   "cell_type": "code",
   "execution_count": null,
   "id": "6aa5e3562ce7adf3",
   "metadata": {
    "ExecuteTime": {
     "end_time": "2025-04-15T01:40:09.812094Z",
     "start_time": "2025-04-15T01:40:09.802433Z"
    }
   },
   "outputs": [],
   "source": [
    "train_ch6"
   ]
  },
  {
   "cell_type": "code",
   "execution_count": null,
   "id": "fa61f327559e5037",
   "metadata": {},
   "outputs": [],
   "source": "nn.Conv2d()"
  }
 ],
 "metadata": {
  "kernelspec": {
   "display_name": "Python 3 (ipykernel)",
   "language": "python",
   "name": "python3"
  },
  "language_info": {
   "codemirror_mode": {
    "name": "ipython",
    "version": 3
   },
   "file_extension": ".py",
   "mimetype": "text/x-python",
   "name": "python",
   "nbconvert_exporter": "python",
   "pygments_lexer": "ipython3",
   "version": "3.11.2"
  }
 },
 "nbformat": 4,
 "nbformat_minor": 5
}
