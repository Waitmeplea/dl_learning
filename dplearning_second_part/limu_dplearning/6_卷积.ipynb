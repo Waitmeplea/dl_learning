{
 "cells": [
  {
   "cell_type": "code",
   "id": "initial_id",
   "metadata": {
    "collapsed": true,
    "ExecuteTime": {
     "end_time": "2025-04-14T13:43:39.132438Z",
     "start_time": "2025-04-14T13:43:34.817738Z"
    }
   },
   "source": [
    "import torch\n",
    "from torch import nn\n",
    "from PIL import Image"
   ],
   "outputs": [],
   "execution_count": 1
  },
  {
   "metadata": {
    "ExecuteTime": {
     "end_time": "2025-04-14T13:43:39.148398Z",
     "start_time": "2025-04-14T13:43:39.140422Z"
    }
   },
   "cell_type": "code",
   "source": [
    "def corr2d(x,k):\n",
    "    h,w=k.shape\n",
    "    result_h=x.shape[0]-h+1\n",
    "    result_w=x.shape[1]-w+1\n",
    "    result=torch.zeros((result_h,result_w))\n",
    "    for i in range(result_h):\n",
    "        for j in range(result_w):\n",
    "            result[i,j]=(x[i:i+h,j:j+w]*k).sum()\n",
    "    return result\n",
    "class Conv2D(nn.Module):\n",
    "    def __init__(self):\n",
    "        super(Conv2D, self).__init__()\n",
    "        self.bias=nn.Parameter(torch.zeros(1))\n",
    "    def forward(self, x,k):\n",
    "        r=corr2d(x,k)\n",
    "        return r+self.bias"
   ],
   "id": "d56f7db52293c89c",
   "outputs": [],
   "execution_count": 2
  },
  {
   "metadata": {
    "ExecuteTime": {
     "end_time": "2025-04-14T13:43:39.156188Z",
     "start_time": "2025-04-14T13:43:39.153796Z"
    }
   },
   "cell_type": "code",
   "source": [
    "def show_image_from_tensor(x):\n",
    "    if isinstance(x, torch.Tensor):\n",
    "        x=x.numpy()*255\n",
    "    Image.fromarray(x).show()"
   ],
   "id": "ac63681921998540",
   "outputs": [],
   "execution_count": 3
  },
  {
   "metadata": {
    "ExecuteTime": {
     "end_time": "2025-04-14T13:43:39.268118Z",
     "start_time": "2025-04-14T13:43:39.161935Z"
    }
   },
   "cell_type": "code",
   "source": [
    "x=torch.ones([60,80])\n",
    "x[:,20:60]=0\n",
    "k=torch.tensor([[1,-1]])\n",
    "Y=corr2d(x,k)"
   ],
   "id": "e628c3de1dc4d0a7",
   "outputs": [],
   "execution_count": 4
  },
  {
   "metadata": {
    "ExecuteTime": {
     "end_time": "2025-04-14T13:43:39.425542Z",
     "start_time": "2025-04-14T13:43:39.423410Z"
    }
   },
   "cell_type": "code",
   "source": "",
   "id": "fad0c5af3f97604a",
   "outputs": [],
   "execution_count": null
  },
  {
   "metadata": {
    "ExecuteTime": {
     "end_time": "2025-04-14T13:43:39.436050Z",
     "start_time": "2025-04-14T13:43:39.434157Z"
    }
   },
   "cell_type": "code",
   "source": "",
   "id": "f8fbe21db3f58da6",
   "outputs": [],
   "execution_count": null
  },
  {
   "metadata": {
    "ExecuteTime": {
     "end_time": "2025-04-14T13:43:39.497080Z",
     "start_time": "2025-04-14T13:43:39.489506Z"
    }
   },
   "cell_type": "code",
   "source": [
    "conv2d=nn.Conv2d(1,1,kernel_size=(1,2),bias=False)\n",
    "x=x.reshape(1,1,60,80)\n",
    "Y=Y.reshape(1,1,60,79)"
   ],
   "id": "54d330c06268a270",
   "outputs": [],
   "execution_count": 5
  },
  {
   "metadata": {
    "ExecuteTime": {
     "end_time": "2025-04-14T13:43:39.516012Z",
     "start_time": "2025-04-14T13:43:39.512380Z"
    }
   },
   "cell_type": "code",
   "source": "print(Y)",
   "id": "ab96859bdcfa92f0",
   "outputs": [
    {
     "name": "stdout",
     "output_type": "stream",
     "text": [
      "tensor([[[[0., 0., 0.,  ..., 0., 0., 0.],\n",
      "          [0., 0., 0.,  ..., 0., 0., 0.],\n",
      "          [0., 0., 0.,  ..., 0., 0., 0.],\n",
      "          ...,\n",
      "          [0., 0., 0.,  ..., 0., 0., 0.],\n",
      "          [0., 0., 0.,  ..., 0., 0., 0.],\n",
      "          [0., 0., 0.,  ..., 0., 0., 0.]]]])\n"
     ]
    }
   ],
   "execution_count": 6
  },
  {
   "metadata": {
    "ExecuteTime": {
     "end_time": "2025-04-14T13:43:41.614845Z",
     "start_time": "2025-04-14T13:43:39.530180Z"
    }
   },
   "cell_type": "code",
   "source": [
    "loss=nn.MSELoss()\n",
    "for i in range(10000):\n",
    "    # conv2d.zero_grad()\n",
    "    loss.zero_grad()\n",
    "    Y_hat=conv2d(x)\n",
    "    l=loss(Y_hat,Y)\n",
    "    l.backward()\n",
    "\n",
    "    conv2d.weight.data[:]-=0.01*conv2d.weight.grad"
   ],
   "id": "cc7c1aad0d7b764a",
   "outputs": [],
   "execution_count": 7
  },
  {
   "metadata": {
    "ExecuteTime": {
     "end_time": "2025-04-14T13:43:41.632619Z",
     "start_time": "2025-04-14T13:43:41.626465Z"
    }
   },
   "cell_type": "code",
   "source": "conv2d.weight.data",
   "id": "43a2c69b88ff9517",
   "outputs": [
    {
     "data": {
      "text/plain": [
       "tensor([[[[ 1.3142, -1.5016]]]])"
      ]
     },
     "execution_count": 8,
     "metadata": {},
     "output_type": "execute_result"
    }
   ],
   "execution_count": 8
  },
  {
   "metadata": {
    "ExecuteTime": {
     "end_time": "2025-04-14T13:43:41.645746Z",
     "start_time": "2025-04-14T13:43:41.643967Z"
    }
   },
   "cell_type": "code",
   "source": "",
   "id": "be32e0fc8da9b0c4",
   "outputs": [],
   "execution_count": null
  },
  {
   "metadata": {},
   "cell_type": "markdown",
   "source": "### 卷积神经网络超参数",
   "id": "99b8c33119584a42"
  },
  {
   "metadata": {},
   "cell_type": "markdown",
   "source": "填充和步幅",
   "id": "c02aef31fd3bcd63"
  },
  {
   "metadata": {
    "ExecuteTime": {
     "end_time": "2025-04-14T13:43:41.658564Z",
     "start_time": "2025-04-14T13:43:41.655808Z"
    }
   },
   "cell_type": "code",
   "source": [
    "def com_conv2d(conv2d,x):\n",
    "    x=x.reshape((1,1)+x.shape)\n",
    "    y=conv2d(x)\n",
    "    return y\n",
    "\n",
    "conv2d=nn.Conv2d(1,1,kernel_size=(3,3),padding=(1,1),bias=False)"
   ],
   "id": "f5c201d9b6b97011",
   "outputs": [],
   "execution_count": 9
  },
  {
   "metadata": {
    "ExecuteTime": {
     "end_time": "2025-04-14T13:43:41.675063Z",
     "start_time": "2025-04-14T13:43:41.672244Z"
    }
   },
   "cell_type": "code",
   "source": "x=torch.ones([6,6])",
   "id": "c1e5958d6f2d0d32",
   "outputs": [],
   "execution_count": 10
  },
  {
   "metadata": {
    "ExecuteTime": {
     "end_time": "2025-04-14T13:43:41.691159Z",
     "start_time": "2025-04-14T13:43:41.687493Z"
    }
   },
   "cell_type": "code",
   "source": "com_conv2d(conv2d,x).shape",
   "id": "b48686a79ffde770",
   "outputs": [
    {
     "data": {
      "text/plain": [
       "torch.Size([1, 1, 6, 6])"
      ]
     },
     "execution_count": 11,
     "metadata": {},
     "output_type": "execute_result"
    }
   ],
   "execution_count": 11
  },
  {
   "metadata": {},
   "cell_type": "markdown",
   "source": "通道数",
   "id": "c63011513b1ae5d5"
  },
  {
   "metadata": {
    "ExecuteTime": {
     "end_time": "2025-04-14T13:43:41.769027Z",
     "start_time": "2025-04-14T13:43:41.764006Z"
    }
   },
   "cell_type": "code",
   "source": "",
   "id": "ff98a1d5095ca3f0",
   "outputs": [],
   "execution_count": null
  },
  {
   "metadata": {
    "ExecuteTime": {
     "end_time": "2025-04-14T14:09:01.700924Z",
     "start_time": "2025-04-14T14:09:01.697764Z"
    }
   },
   "cell_type": "code",
   "source": [
    "class LeNet(nn.Module):\n",
    "    def __init__(self):\n",
    "        super(LeNet, self).__init__()\n",
    "        self.sequential =nn.Sequential(\n",
    "            nn.Conv2d(in_channels=1,out_channels=6,kernel_size=5,stride=1,padding=2)\n",
    "            ,nn.AvgPool2d(kernel_size=2,stride=2)\n",
    "            ,nn.Conv2d(in_channels=6,out_channels=16,kernel_size=5,stride=1)\n",
    "        )\n",
    "    def forward(self, x):\n",
    "        return self.sequential(x)"
   ],
   "id": "f4a2c191e28eb20d",
   "outputs": [],
   "execution_count": 29
  },
  {
   "metadata": {
    "ExecuteTime": {
     "end_time": "2025-04-14T14:09:01.837634Z",
     "start_time": "2025-04-14T14:09:01.835121Z"
    }
   },
   "cell_type": "code",
   "source": "l=LeNet()\n",
   "id": "c5bf62651d838d3e",
   "outputs": [],
   "execution_count": 30
  },
  {
   "metadata": {
    "ExecuteTime": {
     "end_time": "2025-04-14T14:09:01.993033Z",
     "start_time": "2025-04-14T14:09:01.990684Z"
    }
   },
   "cell_type": "code",
   "source": "x=torch.ones([1,1,28,28])",
   "id": "e7b7d7036c139ad",
   "outputs": [],
   "execution_count": 31
  },
  {
   "metadata": {
    "ExecuteTime": {
     "end_time": "2025-04-14T14:09:02.243261Z",
     "start_time": "2025-04-14T14:09:02.240423Z"
    }
   },
   "cell_type": "code",
   "source": "a=l(x)",
   "id": "8dfbb1a32d974b05",
   "outputs": [],
   "execution_count": 32
  },
  {
   "metadata": {
    "ExecuteTime": {
     "end_time": "2025-04-14T14:09:02.681167Z",
     "start_time": "2025-04-14T14:09:02.677750Z"
    }
   },
   "cell_type": "code",
   "source": "a.shape",
   "id": "de73601c0469ba3",
   "outputs": [
    {
     "data": {
      "text/plain": [
       "torch.Size([1, 6, 14, 14])"
      ]
     },
     "execution_count": 33,
     "metadata": {},
     "output_type": "execute_result"
    }
   ],
   "execution_count": 33
  },
  {
   "metadata": {},
   "cell_type": "code",
   "outputs": [],
   "execution_count": null,
   "source": "",
   "id": "f84a20986a03edb9"
  }
 ],
 "metadata": {
  "kernelspec": {
   "display_name": "Python 3",
   "language": "python",
   "name": "python3"
  },
  "language_info": {
   "codemirror_mode": {
    "name": "ipython",
    "version": 2
   },
   "file_extension": ".py",
   "mimetype": "text/x-python",
   "name": "python",
   "nbconvert_exporter": "python",
   "pygments_lexer": "ipython2",
   "version": "2.7.6"
  }
 },
 "nbformat": 4,
 "nbformat_minor": 5
}
