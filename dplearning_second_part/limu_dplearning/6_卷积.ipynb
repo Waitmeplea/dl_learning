{
 "cells": [
  {
   "cell_type": "code",
   "id": "initial_id",
   "metadata": {
    "collapsed": true,
    "ExecuteTime": {
     "end_time": "2025-04-13T12:33:26.731802Z",
     "start_time": "2025-04-13T12:33:26.729115Z"
    }
   },
   "source": [
    "import torch\n",
    "from torch import nn\n",
    "from PIL import Image"
   ],
   "outputs": [],
   "execution_count": 167
  },
  {
   "metadata": {
    "ExecuteTime": {
     "end_time": "2025-04-13T12:35:53.176342Z",
     "start_time": "2025-04-13T12:35:53.173112Z"
    }
   },
   "cell_type": "code",
   "source": [
    "def corr2d(x,k):\n",
    "    h,w=k.shape\n",
    "    result_h=x.shape[0]-h+1\n",
    "    result_w=x.shape[1]-w+1\n",
    "    result=torch.zeros((result_h,result_w))\n",
    "    for i in range(result_h):\n",
    "        for j in range(result_w):\n",
    "            result[i,j]=(x[i:i+h,j:j+w]*k).sum()\n",
    "    return result\n",
    "class Conv2D(nn.Module):\n",
    "    def __init__(self):\n",
    "        super(Conv2D, self).__init__()\n",
    "        self.bias=nn.Parameter(torch.zeros(1))\n",
    "    def forward(self, x,k):\n",
    "        r=corr2d(x,k)\n",
    "        return r+self.bias"
   ],
   "id": "d56f7db52293c89c",
   "outputs": [],
   "execution_count": 209
  },
  {
   "metadata": {
    "ExecuteTime": {
     "end_time": "2025-04-13T12:35:53.331498Z",
     "start_time": "2025-04-13T12:35:53.328563Z"
    }
   },
   "cell_type": "code",
   "source": [
    "def show_image_from_tensor(x):\n",
    "    if isinstance(x, torch.Tensor):\n",
    "        x=x.numpy()*255\n",
    "    Image.fromarray(x).show()"
   ],
   "id": "ac63681921998540",
   "outputs": [],
   "execution_count": 210
  },
  {
   "metadata": {
    "ExecuteTime": {
     "end_time": "2025-04-13T12:38:31.479881Z",
     "start_time": "2025-04-13T12:38:31.418284Z"
    }
   },
   "cell_type": "code",
   "source": [
    "x=torch.ones([60,80])\n",
    "x[:,20:60]=0\n",
    "k=torch.tensor([[1,-1]])\n",
    "Y=corr2d(x,k)"
   ],
   "id": "e628c3de1dc4d0a7",
   "outputs": [],
   "execution_count": 234
  },
  {
   "metadata": {
    "ExecuteTime": {
     "end_time": "2025-04-13T12:38:31.577186Z",
     "start_time": "2025-04-13T12:38:31.575576Z"
    }
   },
   "cell_type": "code",
   "source": "",
   "id": "fad0c5af3f97604a",
   "outputs": [],
   "execution_count": null
  },
  {
   "metadata": {
    "ExecuteTime": {
     "end_time": "2025-04-13T12:38:31.747882Z",
     "start_time": "2025-04-13T12:38:31.746182Z"
    }
   },
   "cell_type": "code",
   "source": "",
   "id": "f8fbe21db3f58da6",
   "outputs": [],
   "execution_count": null
  },
  {
   "metadata": {
    "ExecuteTime": {
     "end_time": "2025-04-13T12:38:31.920369Z",
     "start_time": "2025-04-13T12:38:31.916425Z"
    }
   },
   "cell_type": "code",
   "source": [
    "conv2d=nn.Conv2d(1,1,kernel_size=(1,2),bias=False)\n",
    "x=x.reshape(1,1,60,80)\n",
    "Y=Y.reshape(1,1,60,79)"
   ],
   "id": "54d330c06268a270",
   "outputs": [],
   "execution_count": 235
  },
  {
   "metadata": {
    "ExecuteTime": {
     "end_time": "2025-04-13T12:38:32.092754Z",
     "start_time": "2025-04-13T12:38:32.089604Z"
    }
   },
   "cell_type": "code",
   "source": "print(Y)",
   "id": "ab96859bdcfa92f0",
   "outputs": [
    {
     "name": "stdout",
     "output_type": "stream",
     "text": [
      "tensor([[[[0., 0., 0.,  ..., 0., 0., 0.],\n",
      "          [0., 0., 0.,  ..., 0., 0., 0.],\n",
      "          [0., 0., 0.,  ..., 0., 0., 0.],\n",
      "          ...,\n",
      "          [0., 0., 0.,  ..., 0., 0., 0.],\n",
      "          [0., 0., 0.,  ..., 0., 0., 0.],\n",
      "          [0., 0., 0.,  ..., 0., 0., 0.]]]])\n"
     ]
    }
   ],
   "execution_count": 236
  },
  {
   "metadata": {
    "ExecuteTime": {
     "end_time": "2025-04-13T12:39:34.219713Z",
     "start_time": "2025-04-13T12:39:32.370515Z"
    }
   },
   "cell_type": "code",
   "source": [
    "loss=nn.MSELoss()\n",
    "for i in range(10000):\n",
    "    # conv2d.zero_grad()\n",
    "    loss.zero_grad()\n",
    "    Y_hat=conv2d(x)\n",
    "    l=loss(Y_hat,Y)\n",
    "    l.backward()\n",
    "\n",
    "    conv2d.weight.data[:]-=0.01*conv2d.weight.grad"
   ],
   "id": "cc7c1aad0d7b764a",
   "outputs": [],
   "execution_count": 244
  },
  {
   "metadata": {
    "ExecuteTime": {
     "end_time": "2025-04-13T12:39:34.227100Z",
     "start_time": "2025-04-13T12:39:34.223497Z"
    }
   },
   "cell_type": "code",
   "source": "conv2d.weight.data",
   "id": "43a2c69b88ff9517",
   "outputs": [
    {
     "data": {
      "text/plain": [
       "tensor([[[[ 1.5654, -1.9215]]]])"
      ]
     },
     "execution_count": 245,
     "metadata": {},
     "output_type": "execute_result"
    }
   ],
   "execution_count": 245
  },
  {
   "metadata": {},
   "cell_type": "code",
   "outputs": [],
   "execution_count": null,
   "source": "",
   "id": "be32e0fc8da9b0c4"
  }
 ],
 "metadata": {
  "kernelspec": {
   "display_name": "Python 3",
   "language": "python",
   "name": "python3"
  },
  "language_info": {
   "codemirror_mode": {
    "name": "ipython",
    "version": 2
   },
   "file_extension": ".py",
   "mimetype": "text/x-python",
   "name": "python",
   "nbconvert_exporter": "python",
   "pygments_lexer": "ipython2",
   "version": "2.7.6"
  }
 },
 "nbformat": 4,
 "nbformat_minor": 5
}
