{
 "cells": [
  {
   "metadata": {},
   "cell_type": "markdown",
   "source": [
    "# 自定义层  \n",
    "所有的自定义层必须也是基于nn.module"
   ],
   "id": "b0f4651b6a09761f"
  },
  {
   "metadata": {},
   "cell_type": "markdown",
   "source": "# 1、构造一个没有任何参数的自定义层",
   "id": "67601c12689624bd"
  },
  {
   "metadata": {
    "ExecuteTime": {
     "end_time": "2025-04-11T00:49:19.300656Z",
     "start_time": "2025-04-11T00:49:19.261124Z"
    }
   },
   "cell_type": "code",
   "source": [
    "import torch\n",
    "import torch.nn.functional as F\n",
    "from torch import nn"
   ],
   "id": "23c092c1a903ced",
   "outputs": [],
   "execution_count": 17
  },
  {
   "metadata": {
    "ExecuteTime": {
     "end_time": "2025-04-11T00:49:19.370283Z",
     "start_time": "2025-04-11T00:49:19.361934Z"
    }
   },
   "cell_type": "code",
   "source": [
    "class CenteredLayer(nn.Module):\n",
    "    def __init__(self):\n",
    "        super().__init__()\n",
    "    def forward(self,x):\n",
    "        return x-x.mean()\n",
    "    "
   ],
   "id": "86fdc63c8941a9f8",
   "outputs": [],
   "execution_count": 18
  },
  {
   "metadata": {
    "ExecuteTime": {
     "end_time": "2025-04-11T00:49:19.642056Z",
     "start_time": "2025-04-11T00:49:19.488325Z"
    }
   },
   "cell_type": "code",
   "source": [
    "layer=CenteredLayer()\n",
    "layer(torch.tensor([1,2,3],dtype=float))"
   ],
   "id": "5c9b7e056d77f78f",
   "outputs": [
    {
     "data": {
      "text/plain": [
       "tensor([-1.,  0.,  1.], dtype=torch.float64)"
      ]
     },
     "execution_count": 19,
     "metadata": {},
     "output_type": "execute_result"
    }
   ],
   "execution_count": 19
  },
  {
   "metadata": {},
   "cell_type": "markdown",
   "source": "定义层和定义网络没有什么区别，层也是nn.Module的一个子类",
   "id": "2320015822f9316e"
  },
  {
   "metadata": {
    "ExecuteTime": {
     "end_time": "2025-04-11T00:49:20.043403Z",
     "start_time": "2025-04-11T00:49:20.026052Z"
    }
   },
   "cell_type": "code",
   "source": [
    "#可以应用定义的子类\n",
    "net=nn.Sequential(nn.Linear(4,8),CenteredLayer())"
   ],
   "id": "ceebd19cb5e5a35",
   "outputs": [],
   "execution_count": 20
  },
  {
   "metadata": {
    "ExecuteTime": {
     "end_time": "2025-04-11T00:49:20.220684Z",
     "start_time": "2025-04-11T00:49:20.186112Z"
    }
   },
   "cell_type": "code",
   "source": "net(torch.tensor([1,2,3,4],dtype=torch.float)).mean()",
   "id": "b1df33bf06b0b2df",
   "outputs": [
    {
     "data": {
      "text/plain": [
       "tensor(-2.9802e-08, grad_fn=<MeanBackward0>)"
      ]
     },
     "execution_count": 21,
     "metadata": {},
     "output_type": "execute_result"
    }
   ],
   "execution_count": 21
  },
  {
   "metadata": {},
   "cell_type": "markdown",
   "source": [
    "# 2、构造一个带有参数的自定义层  \n",
    "参数也必须是parameter实例\n",
    "当用nn.Parameter定义后 会自动加上梯度  \n",
    "在PyTorch中，通过 nn.Parameter 定义的参数默认会自动启用梯度计算（即 requires_grad=True）。  \n",
    "这是因为它被设计为模型的可训练参数，需要参与反向传播优化。  \n",
    "如果传入的 Tensor 显式设置了 requires_grad=False，例如：\n",
    "\n",
    "t = torch.tensor([1.0], requires_grad=False)  \n",
    "param = nn.Parameter(t)  \n",
    "则 param.requires_grad 会继承原张量的 False，不计算梯度。"
   ],
   "id": "26ebe6d837a52839"
  },
  {
   "metadata": {
    "ExecuteTime": {
     "end_time": "2025-04-11T01:05:58.339087Z",
     "start_time": "2025-04-11T01:05:58.335190Z"
    }
   },
   "cell_type": "code",
   "source": [
    "class MyLinear(nn.Module):\n",
    "    def __init__(self,in_units,units):\n",
    "        super().__init__()\n",
    "        self.weight=nn.Parameter(torch.randn(in_units,units))\n",
    "        self.bias=nn.Parameter(torch.randn(units))\n",
    "    def forward(self,x):\n",
    "        x=torch.matmul(x,self.weight.data)+self.bias.data\n",
    "        return F.relu(x)"
   ],
   "id": "56e682c2fc84a28e",
   "outputs": [],
   "execution_count": 47
  },
  {
   "metadata": {
    "ExecuteTime": {
     "end_time": "2025-04-11T01:07:35.765863Z",
     "start_time": "2025-04-11T01:07:35.761162Z"
    }
   },
   "cell_type": "code",
   "source": [
    "l=MyLinear(4,8)\n",
    "l(torch.randn(4,4))"
   ],
   "id": "bcb58a04e0251eec",
   "outputs": [
    {
     "data": {
      "text/plain": [
       "tensor([[2.0785, 2.7675, 0.0000, 0.7874, 5.1672, 0.9029, 1.9653, 0.0000],\n",
       "        [1.9364, 2.6063, 0.0000, 0.0000, 1.1541, 0.0000, 0.1236, 0.6410],\n",
       "        [0.9405, 2.9317, 0.0000, 0.0000, 0.3395, 0.0000, 1.8060, 0.8136],\n",
       "        [2.9483, 3.8355, 0.0000, 0.0000, 0.0000, 0.0000, 0.0000, 2.1972]])"
      ]
     },
     "execution_count": 52,
     "metadata": {},
     "output_type": "execute_result"
    }
   ],
   "execution_count": 52
  },
  {
   "metadata": {},
   "cell_type": "markdown",
   "source": "使用自定义的层构建模型",
   "id": "3149b92bb582e586"
  },
  {
   "metadata": {},
   "cell_type": "code",
   "outputs": [],
   "execution_count": null,
   "source": "",
   "id": "ac6e171d2ee1597e"
  }
 ],
 "metadata": {
  "kernelspec": {
   "display_name": "Python 3",
   "language": "python",
   "name": "python3"
  },
  "language_info": {
   "codemirror_mode": {
    "name": "ipython",
    "version": 2
   },
   "file_extension": ".py",
   "mimetype": "text/x-python",
   "name": "python",
   "nbconvert_exporter": "python",
   "pygments_lexer": "ipython2",
   "version": "2.7.6"
  }
 },
 "nbformat": 4,
 "nbformat_minor": 5
}
