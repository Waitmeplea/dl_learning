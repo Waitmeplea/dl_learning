{
 "cells": [
  {
   "metadata": {},
   "cell_type": "markdown",
   "source": "# 读写文件",
   "id": "83d381ffd005c64d"
  },
  {
   "metadata": {},
   "cell_type": "markdown",
   "source": "加载和保存张量",
   "id": "372f0add21fc9588"
  },
  {
   "metadata": {
    "ExecuteTime": {
     "end_time": "2025-04-11T01:10:00.091769Z",
     "start_time": "2025-04-11T01:09:57.310719Z"
    }
   },
   "cell_type": "code",
   "source": [
    "import torch \n",
    "from torch import nn\n",
    "from torch.nn import functional as F"
   ],
   "id": "bf6680f371aebf2a",
   "outputs": [],
   "execution_count": 1
  },
  {
   "metadata": {},
   "cell_type": "markdown",
   "source": "存储一个张量",
   "id": "32c6c6a8cd5a895e"
  },
  {
   "metadata": {
    "ExecuteTime": {
     "end_time": "2025-04-11T01:22:29.304448Z",
     "start_time": "2025-04-11T01:22:29.298994Z"
    }
   },
   "cell_type": "code",
   "source": [
    "x=torch.arange(4)\n",
    "##保存张量\n",
    "torch.save(x,'x-file')\n",
    "##读取张量\n",
    "x2=torch.load('x-file')"
   ],
   "id": "6e3db83a89b02772",
   "outputs": [],
   "execution_count": 8
  },
  {
   "metadata": {},
   "cell_type": "markdown",
   "source": "存储多个张量 用列表保存",
   "id": "68501f00ca03668f"
  },
  {
   "metadata": {
    "ExecuteTime": {
     "end_time": "2025-04-11T01:22:51.576517Z",
     "start_time": "2025-04-11T01:22:51.569682Z"
    }
   },
   "cell_type": "code",
   "source": [
    "x=torch.zeros([1,2])\n",
    "y=torch.ones([2,3])"
   ],
   "id": "abff14402d1f40f2",
   "outputs": [],
   "execution_count": 9
  },
  {
   "metadata": {
    "ExecuteTime": {
     "end_time": "2025-04-11T01:30:08.948759Z",
     "start_time": "2025-04-11T01:30:08.943859Z"
    }
   },
   "cell_type": "code",
   "source": [
    "torch.save([x,y],'x-file')\n",
    "x,y=torch.load('x-file')"
   ],
   "id": "9a020e0e6fd4f3d9",
   "outputs": [],
   "execution_count": 17
  },
  {
   "metadata": {},
   "cell_type": "markdown",
   "source": "存储多个张量，用字典存储",
   "id": "5b17697ad98cf9b8"
  },
  {
   "metadata": {
    "ExecuteTime": {
     "end_time": "2025-04-11T01:30:26.062531Z",
     "start_time": "2025-04-11T01:30:26.058779Z"
    }
   },
   "cell_type": "code",
   "source": "my_dict={'x':x,'y':y}",
   "id": "36409bf8fd2d470a",
   "outputs": [],
   "execution_count": 18
  },
  {
   "metadata": {
    "ExecuteTime": {
     "end_time": "2025-04-11T01:30:32.680701Z",
     "start_time": "2025-04-11T01:30:32.676883Z"
    }
   },
   "cell_type": "code",
   "source": [
    "torch.save(my_dict,'x-file')\n",
    "m_dict2=torch.load('x-file')"
   ],
   "id": "26791d1337ffb0e8",
   "outputs": [],
   "execution_count": 19
  },
  {
   "metadata": {},
   "cell_type": "markdown",
   "source": "加载和保存模型参数",
   "id": "90c7ea515a374ae6"
  },
  {
   "metadata": {
    "ExecuteTime": {
     "end_time": "2025-04-11T01:44:18.614537Z",
     "start_time": "2025-04-11T01:44:18.609323Z"
    }
   },
   "cell_type": "code",
   "source": [
    "class MLP(nn.Module):\n",
    "    def __init__(self):\n",
    "        super(MLP, self).__init__()\n",
    "        self.hidden=nn.Linear(2,2)\n",
    "        self.output=nn.Linear(2,1)\n",
    "    def forward(self,x):\n",
    "        return self.output(self.hidden(x))"
   ],
   "id": "a970f53fdaf6eec4",
   "outputs": [],
   "execution_count": 23
  },
  {
   "metadata": {
    "ExecuteTime": {
     "end_time": "2025-04-11T01:46:40.955620Z",
     "start_time": "2025-04-11T01:46:40.949099Z"
    }
   },
   "cell_type": "code",
   "source": [
    "m=MLP()\n",
    "m(torch.randn([2,2]))"
   ],
   "id": "306d6e3da0f851c8",
   "outputs": [
    {
     "data": {
      "text/plain": [
       "tensor([[0.2680],\n",
       "        [0.6164]], grad_fn=<AddmmBackward0>)"
      ]
     },
     "execution_count": 25,
     "metadata": {},
     "output_type": "execute_result"
    }
   ],
   "execution_count": 25
  },
  {
   "metadata": {
    "ExecuteTime": {
     "end_time": "2025-04-11T01:47:43.713236Z",
     "start_time": "2025-04-11T01:47:43.706731Z"
    }
   },
   "cell_type": "code",
   "source": [
    "m.state_dict() ##保存模型主要是要保存变量\n",
    "torch.save(m.state_dict(),'mlp.params') ##只要用state_dict() 把参数加载出来就行"
   ],
   "id": "bb2ea514e69fb304",
   "outputs": [
    {
     "data": {
      "text/plain": [
       "OrderedDict([('hidden.weight',\n",
       "              tensor([[-0.4754, -0.2719],\n",
       "                      [-0.1116, -0.2862]])),\n",
       "             ('hidden.bias', tensor([-0.0164, -0.1932])),\n",
       "             ('output.weight', tensor([[-0.2313, -0.4643]])),\n",
       "             ('output.bias', tensor([0.2877]))])"
      ]
     },
     "execution_count": 27,
     "metadata": {},
     "output_type": "execute_result"
    }
   ],
   "execution_count": 27
  },
  {
   "metadata": {},
   "cell_type": "markdown",
   "source": "实例化了原始多层感知机模型的一个备份。然后直接读取文件中存储的参数",
   "id": "efe58d9148c1a21"
  },
  {
   "metadata": {
    "ExecuteTime": {
     "end_time": "2025-04-11T01:53:28.993120Z",
     "start_time": "2025-04-11T01:53:28.989235Z"
    }
   },
   "cell_type": "code",
   "source": "clone=MLP()",
   "id": "94c8976d101feca4",
   "outputs": [],
   "execution_count": 29
  },
  {
   "metadata": {
    "ExecuteTime": {
     "end_time": "2025-04-11T01:53:38.449852Z",
     "start_time": "2025-04-11T01:53:38.436552Z"
    }
   },
   "cell_type": "code",
   "source": "clone.load_state_dict(torch.load('mlp.params')) ##需要用模型来加载参数 模型结构必须一样",
   "id": "848a8fc67277fdb",
   "outputs": [
    {
     "data": {
      "text/plain": [
       "<All keys matched successfully>"
      ]
     },
     "execution_count": 30,
     "metadata": {},
     "output_type": "execute_result"
    }
   ],
   "execution_count": 30
  },
  {
   "metadata": {},
   "cell_type": "code",
   "outputs": [],
   "execution_count": null,
   "source": "",
   "id": "c9edbf9048c8115a"
  }
 ],
 "metadata": {
  "kernelspec": {
   "display_name": "Python 3",
   "language": "python",
   "name": "python3"
  },
  "language_info": {
   "codemirror_mode": {
    "name": "ipython",
    "version": 2
   },
   "file_extension": ".py",
   "mimetype": "text/x-python",
   "name": "python",
   "nbconvert_exporter": "python",
   "pygments_lexer": "ipython2",
   "version": "2.7.6"
  }
 },
 "nbformat": 4,
 "nbformat_minor": 5
}
