{
 "cells": [
  {
   "cell_type": "code",
   "id": "initial_id",
   "metadata": {
    "collapsed": true,
    "ExecuteTime": {
     "end_time": "2025-04-02T12:19:53.380714Z",
     "start_time": "2025-04-02T12:19:49.737835Z"
    }
   },
   "source": [
    "import torch\n",
    "import os"
   ],
   "outputs": [],
   "execution_count": 1
  },
  {
   "metadata": {},
   "cell_type": "markdown",
   "source": "1读取数据集",
   "id": "15e532f6768d218f"
  },
  {
   "metadata": {
    "ExecuteTime": {
     "end_time": "2025-04-02T12:19:53.392192Z",
     "start_time": "2025-04-02T12:19:53.387865Z"
    }
   },
   "cell_type": "code",
   "source": "os.getcwd()",
   "id": "23bbe314efd4c47d",
   "outputs": [
    {
     "data": {
      "text/plain": [
       "'D:\\\\bigdata\\\\dl_learning\\\\dplearning_second_part\\\\limu_dplearning'"
      ]
     },
     "execution_count": 2,
     "metadata": {},
     "output_type": "execute_result"
    }
   ],
   "execution_count": 2
  },
  {
   "metadata": {
    "ExecuteTime": {
     "end_time": "2025-04-02T12:21:07.843399Z",
     "start_time": "2025-04-02T12:21:07.839199Z"
    }
   },
   "cell_type": "code",
   "source": "",
   "id": "7eac5b222e299c1d",
   "outputs": [
    {
     "data": {
      "text/plain": [
       "'..\\\\data'"
      ]
     },
     "execution_count": 3,
     "metadata": {},
     "output_type": "execute_result"
    }
   ],
   "execution_count": 3
  },
  {
   "metadata": {
    "ExecuteTime": {
     "end_time": "2025-04-02T12:24:54.160289Z",
     "start_time": "2025-04-02T12:24:54.157410Z"
    }
   },
   "cell_type": "code",
   "source": [
    "os.makedirs(os.path.join('..','data'),exist_ok=True)\n",
    "data_file=os.path.join('..','data','house_tiny.csv')"
   ],
   "id": "49f28dfe670d6d8a",
   "outputs": [],
   "execution_count": 8
  },
  {
   "metadata": {
    "ExecuteTime": {
     "end_time": "2025-04-02T12:40:59.589481Z",
     "start_time": "2025-04-02T12:40:59.586130Z"
    }
   },
   "cell_type": "code",
   "source": [
    "with open(data_file,'w') as f:\n",
    "    f.write('NumRooms,Alley,Price\\n')\n",
    "    f.write('NA,Pave,127500\\n')\n",
    "    f.write('2,NA,106000\\n')\n",
    "    f.write('4,NA,178100\\n')\n",
    "    f.write('NA,NA,140000\\n')"
   ],
   "id": "7c4672d3b7806999",
   "outputs": [],
   "execution_count": 10
  },
  {
   "metadata": {
    "ExecuteTime": {
     "end_time": "2025-04-02T13:01:54.334432Z",
     "start_time": "2025-04-02T13:01:54.330359Z"
    }
   },
   "cell_type": "code",
   "source": [
    "import pandas as pd\n",
    "data=pd.read_csv(data_file)\n",
    "input,ouput=data.iloc[:,0:2],data.iloc[:,2]\n",
    "##填充空值\n",
    "input['NumRooms']=input['NumRooms'].fillna(input['NumRooms'].mean())"
   ],
   "id": "7ae8c57e19abd979",
   "outputs": [],
   "execution_count": 30
  },
  {
   "metadata": {
    "ExecuteTime": {
     "end_time": "2025-04-02T13:03:11.329993Z",
     "start_time": "2025-04-02T13:03:11.326472Z"
    }
   },
   "cell_type": "code",
   "source": "input=pd.get_dummies(input,dummy_na=True)",
   "id": "7e110f3f7127ace9",
   "outputs": [],
   "execution_count": 32
  },
  {
   "metadata": {
    "ExecuteTime": {
     "end_time": "2025-04-02T13:05:27.683901Z",
     "start_time": "2025-04-02T13:05:27.681407Z"
    }
   },
   "cell_type": "code",
   "source": "x,y=torch.tensor(input.values.astype(float),dtype=torch.float32),ouput",
   "id": "332b26af230770c6",
   "outputs": [],
   "execution_count": 44
  },
  {
   "metadata": {
    "ExecuteTime": {
     "end_time": "2025-04-02T13:05:27.933752Z",
     "start_time": "2025-04-02T13:05:27.930112Z"
    }
   },
   "cell_type": "code",
   "source": "x,y",
   "id": "8772b875b32c536a",
   "outputs": [
    {
     "data": {
      "text/plain": [
       "(tensor([[3., 1., 0.],\n",
       "         [2., 0., 1.],\n",
       "         [4., 0., 1.],\n",
       "         [3., 0., 1.]]),\n",
       " 0    127500\n",
       " 1    106000\n",
       " 2    178100\n",
       " 3    140000\n",
       " Name: Price, dtype: int64)"
      ]
     },
     "execution_count": 45,
     "metadata": {},
     "output_type": "execute_result"
    }
   ],
   "execution_count": 45
  },
  {
   "metadata": {},
   "cell_type": "code",
   "outputs": [],
   "execution_count": null,
   "source": "",
   "id": "6ba36622d50b6947"
  }
 ],
 "metadata": {
  "kernelspec": {
   "display_name": "Python 3",
   "language": "python",
   "name": "python3"
  },
  "language_info": {
   "codemirror_mode": {
    "name": "ipython",
    "version": 2
   },
   "file_extension": ".py",
   "mimetype": "text/x-python",
   "name": "python",
   "nbconvert_exporter": "python",
   "pygments_lexer": "ipython2",
   "version": "2.7.6"
  }
 },
 "nbformat": 4,
 "nbformat_minor": 5
}
