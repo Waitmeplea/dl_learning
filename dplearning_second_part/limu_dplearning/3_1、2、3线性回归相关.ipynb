{
 "cells": [
  {
   "cell_type": "code",
   "execution_count": null,
   "id": "initial_id",
   "metadata": {
    "collapsed": true
   },
   "outputs": [],
   "source": [
    ""
   ]
  },
  {
   "metadata": {
    "ExecuteTime": {
     "end_time": "2025-04-03T02:29:51.789812Z",
     "start_time": "2025-04-03T02:29:51.774538Z"
    }
   },
   "cell_type": "code",
   "source": [
    "#%matplotlib inline 是 Jupyter Notebook/Jupyter Lab 环境中使用的 IPython 魔法命令，\n",
    "# 主要作用是将 Matplotlib 绘制的图形直接嵌入到 Notebook 界面中（而不是弹出独立窗口显示）。\n",
    "%matplotlib inline\n",
    "import math\n",
    "import time\n",
    "import numpy as np\n",
    "import torch\n",
    "import sys\n",
    "from d2l import torch as d2l\n",
    "sys.path.append(\"./utils\")\n",
    "from defined_functions import Timer"
   ],
   "id": "8b56d0d705a672b6",
   "outputs": [],
   "execution_count": 6
  },
  {
   "metadata": {},
   "cell_type": "markdown",
   "source": "### 矢量化加速",
   "id": "c13ea118dec6de91"
  },
  {
   "metadata": {
    "ExecuteTime": {
     "end_time": "2025-04-03T02:30:06.522248Z",
     "start_time": "2025-04-03T02:30:06.401936Z"
    }
   },
   "cell_type": "code",
   "source": [
    "n = 10000\n",
    "a = torch.ones([n])\n",
    "b = torch.ones([n])\n",
    "c = torch.zeros(n)\n",
    "timer = Timer()\n",
    "for i in range(n):\n",
    "    c[i] = a[i] + b[i]\n",
    "f'{timer.stop():.5f} sec'"
   ],
   "id": "142d53290a515def",
   "outputs": [
    {
     "data": {
      "text/plain": [
       "'0.11056 sec'"
      ]
     },
     "execution_count": 7,
     "metadata": {},
     "output_type": "execute_result"
    }
   ],
   "execution_count": 7
  },
  {
   "metadata": {
    "ExecuteTime": {
     "end_time": "2025-04-03T02:30:46.178860Z",
     "start_time": "2025-04-03T02:30:46.167307Z"
    }
   },
   "cell_type": "code",
   "source": [
    "timer.start()\n",
    "d = a + b\n",
    "f'{timer.stop():.5f} sec'"
   ],
   "id": "411b77e067b60eef",
   "outputs": [
    {
     "data": {
      "text/plain": [
       "'0.00000 sec'"
      ]
     },
     "execution_count": 8,
     "metadata": {},
     "output_type": "execute_result"
    }
   ],
   "execution_count": 8
  },
  {
   "metadata": {},
   "cell_type": "markdown",
   "source": "### 从零实现线性回归",
   "id": "38a258480a34e433"
  },
  {
   "metadata": {
    "ExecuteTime": {
     "end_time": "2025-04-03T04:12:24.049537Z",
     "start_time": "2025-04-03T04:12:24.032729Z"
    }
   },
   "cell_type": "code",
   "source": [
    "%matplotlib inline\n",
    "import random\n",
    "import torch\n",
    "from d2l import torch as d2l"
   ],
   "id": "ad6a1d059bd57f51",
   "outputs": [],
   "execution_count": 10
  },
  {
   "metadata": {},
   "cell_type": "code",
   "outputs": [],
   "execution_count": null,
   "source": "torch.norm(0,1,(num_examples,len(w)))",
   "id": "46750974eb0b838"
  },
  {
   "metadata": {},
   "cell_type": "markdown",
   "source": [
    "torch.matmul(x,y)  \n",
    "用途：支持更高维度张量和广播机制，适用于多种场景：  \n",
    "二维矩阵相乘（等价于 torch.mm）。  \n",
    "矩阵与向量相乘（等价于 torch.mv）。  \n",
    "批量矩阵相乘（如处理三维张量时）。  \n",
    "自动处理维度扩展（广播）。  \n",
    "输入要求：  \n",
    "输入可以是任意维度，但最后两维需符合矩 阵乘法规则。 注意最后两位需要满足矩阵乘法规则"
   ],
   "id": "bf6e429aa957eabd"
  },
  {
   "metadata": {
    "ExecuteTime": {
     "end_time": "2025-04-03T04:22:45.011419Z",
     "start_time": "2025-04-03T04:22:45.001275Z"
    }
   },
   "cell_type": "code",
   "source": [
    "\n",
    "x=torch.randn([2,3,2])\n",
    "y=torch.randn([1,2,2])\n",
    "torch.matmul(x,y)"
   ],
   "id": "24df9b12da928808",
   "outputs": [
    {
     "data": {
      "text/plain": [
       "tensor([[[-0.3319,  0.1860],\n",
       "         [-1.2119,  0.4133],\n",
       "         [-0.0696, -0.0222]],\n",
       "\n",
       "        [[ 1.3276, -0.3689],\n",
       "         [-2.9461,  0.6735],\n",
       "         [ 1.1106, -0.0556]]])"
      ]
     },
     "execution_count": 22,
     "metadata": {},
     "output_type": "execute_result"
    }
   ],
   "execution_count": 22
  },
  {
   "metadata": {
    "ExecuteTime": {
     "end_time": "2025-04-03T04:21:36.109286Z",
     "start_time": "2025-04-03T04:21:36.094363Z"
    }
   },
   "cell_type": "code",
   "source": "np.random.random(1,2)",
   "id": "bb4f521e5050e9a2",
   "outputs": [
    {
     "ename": "TypeError",
     "evalue": "random() takes at most 1 positional argument (2 given)",
     "output_type": "error",
     "traceback": [
      "\u001B[1;31m---------------------------------------------------------------------------\u001B[0m",
      "\u001B[1;31mTypeError\u001B[0m                                 Traceback (most recent call last)",
      "Cell \u001B[1;32mIn[21], line 1\u001B[0m\n\u001B[1;32m----> 1\u001B[0m \u001B[43mnp\u001B[49m\u001B[38;5;241;43m.\u001B[39;49m\u001B[43mrandom\u001B[49m\u001B[38;5;241;43m.\u001B[39;49m\u001B[43mrandom\u001B[49m\u001B[43m(\u001B[49m\u001B[38;5;241;43m1\u001B[39;49m\u001B[43m,\u001B[49m\u001B[38;5;241;43m2\u001B[39;49m\u001B[43m)\u001B[49m\n",
      "File \u001B[1;32mmtrand.pyx:427\u001B[0m, in \u001B[0;36mnumpy.random.mtrand.RandomState.random\u001B[1;34m()\u001B[0m\n",
      "\u001B[1;31mTypeError\u001B[0m: random() takes at most 1 positional argument (2 given)"
     ]
    }
   ],
   "execution_count": 21
  },
  {
   "metadata": {},
   "cell_type": "code",
   "outputs": [],
   "execution_count": null,
   "source": "",
   "id": "7f859af2d8be8754"
  }
 ],
 "metadata": {
  "kernelspec": {
   "display_name": "Python 3",
   "language": "python",
   "name": "python3"
  },
  "language_info": {
   "codemirror_mode": {
    "name": "ipython",
    "version": 2
   },
   "file_extension": ".py",
   "mimetype": "text/x-python",
   "name": "python",
   "nbconvert_exporter": "python",
   "pygments_lexer": "ipython2",
   "version": "2.7.6"
  }
 },
 "nbformat": 4,
 "nbformat_minor": 5
}
