{
 "cells": [
  {
   "cell_type": "code",
   "execution_count": null,
   "id": "initial_id",
   "metadata": {
    "collapsed": true
   },
   "outputs": [],
   "source": [
    ""
   ]
  },
  {
   "metadata": {
    "ExecuteTime": {
     "end_time": "2025-04-03T02:29:51.789812Z",
     "start_time": "2025-04-03T02:29:51.774538Z"
    }
   },
   "cell_type": "code",
   "source": [
    "#%matplotlib inline 是 Jupyter Notebook/Jupyter Lab 环境中使用的 IPython 魔法命令，\n",
    "# 主要作用是将 Matplotlib 绘制的图形直接嵌入到 Notebook 界面中（而不是弹出独立窗口显示）。\n",
    "%matplotlib inline\n",
    "import math\n",
    "import time\n",
    "import numpy as np\n",
    "import torch\n",
    "import sys\n",
    "from d2l import torch as d2l\n",
    "sys.path.append(\"./utils\")\n",
    "from defined_functions import Timer"
   ],
   "id": "8b56d0d705a672b6",
   "outputs": [],
   "execution_count": 6
  },
  {
   "metadata": {},
   "cell_type": "markdown",
   "source": "### 矢量化加速",
   "id": "c13ea118dec6de91"
  },
  {
   "metadata": {
    "ExecuteTime": {
     "end_time": "2025-04-03T02:30:06.522248Z",
     "start_time": "2025-04-03T02:30:06.401936Z"
    }
   },
   "cell_type": "code",
   "source": [
    "n = 10000\n",
    "a = torch.ones([n])\n",
    "b = torch.ones([n])\n",
    "c = torch.zeros(n)\n",
    "timer = Timer()\n",
    "for i in range(n):\n",
    "    c[i] = a[i] + b[i]\n",
    "f'{timer.stop():.5f} sec'"
   ],
   "id": "142d53290a515def",
   "outputs": [
    {
     "data": {
      "text/plain": [
       "'0.11056 sec'"
      ]
     },
     "execution_count": 7,
     "metadata": {},
     "output_type": "execute_result"
    }
   ],
   "execution_count": 7
  },
  {
   "metadata": {
    "ExecuteTime": {
     "end_time": "2025-04-03T02:30:46.178860Z",
     "start_time": "2025-04-03T02:30:46.167307Z"
    }
   },
   "cell_type": "code",
   "source": [
    "timer.start()\n",
    "d = a + b\n",
    "f'{timer.stop():.5f} sec'"
   ],
   "id": "411b77e067b60eef",
   "outputs": [
    {
     "data": {
      "text/plain": [
       "'0.00000 sec'"
      ]
     },
     "execution_count": 8,
     "metadata": {},
     "output_type": "execute_result"
    }
   ],
   "execution_count": 8
  },
  {
   "metadata": {},
   "cell_type": "markdown",
   "source": "### 从零实现线性回归",
   "id": "38a258480a34e433"
  },
  {
   "metadata": {},
   "cell_type": "code",
   "outputs": [],
   "execution_count": null,
   "source": "",
   "id": "ad6a1d059bd57f51"
  }
 ],
 "metadata": {
  "kernelspec": {
   "display_name": "Python 3",
   "language": "python",
   "name": "python3"
  },
  "language_info": {
   "codemirror_mode": {
    "name": "ipython",
    "version": 2
   },
   "file_extension": ".py",
   "mimetype": "text/x-python",
   "name": "python",
   "nbconvert_exporter": "python",
   "pygments_lexer": "ipython2",
   "version": "2.7.6"
  }
 },
 "nbformat": 4,
 "nbformat_minor": 5
}
