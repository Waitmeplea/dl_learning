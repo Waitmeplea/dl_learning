{
 "cells": [
  {
   "cell_type": "code",
   "id": "initial_id",
   "metadata": {
    "collapsed": true,
    "ExecuteTime": {
     "end_time": "2025-05-06T02:43:12.219366Z",
     "start_time": "2025-05-06T02:43:09.063280Z"
    }
   },
   "source": [
    "import numpy as np\n",
    "import torch"
   ],
   "outputs": [],
   "execution_count": 1
  },
  {
   "metadata": {
    "ExecuteTime": {
     "end_time": "2025-05-06T03:15:25.480726Z",
     "start_time": "2025-05-06T03:15:25.477504Z"
    }
   },
   "cell_type": "code",
   "source": "a=torch.randn([2,2])",
   "id": "7e86b8a176d785a8",
   "outputs": [],
   "execution_count": 11
  },
  {
   "metadata": {
    "ExecuteTime": {
     "end_time": "2025-05-06T03:15:52.044863Z",
     "start_time": "2025-05-06T03:15:52.040019Z"
    }
   },
   "cell_type": "code",
   "source": "a",
   "id": "ff1af8fc7dc0467c",
   "outputs": [
    {
     "data": {
      "text/plain": [
       "tensor([[ 0.9464, -0.5192],\n",
       "        [ 0.0470,  1.1454]])"
      ]
     },
     "execution_count": 19,
     "metadata": {},
     "output_type": "execute_result"
    }
   ],
   "execution_count": 19
  },
  {
   "metadata": {},
   "cell_type": "code",
   "outputs": [],
   "execution_count": null,
   "source": "",
   "id": "edcaf76619cd001d"
  }
 ],
 "metadata": {
  "kernelspec": {
   "display_name": "Python 3",
   "language": "python",
   "name": "python3"
  },
  "language_info": {
   "codemirror_mode": {
    "name": "ipython",
    "version": 2
   },
   "file_extension": ".py",
   "mimetype": "text/x-python",
   "name": "python",
   "nbconvert_exporter": "python",
   "pygments_lexer": "ipython2",
   "version": "2.7.6"
  }
 },
 "nbformat": 4,
 "nbformat_minor": 5
}
