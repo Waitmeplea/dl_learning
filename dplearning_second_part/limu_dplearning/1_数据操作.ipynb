{
 "cells": [
  {
   "cell_type": "code",
   "id": "initial_id",
   "metadata": {
    "collapsed": true,
    "ExecuteTime": {
     "end_time": "2025-04-01T12:54:26.456378Z",
     "start_time": "2025-04-01T12:54:26.453241Z"
    }
   },
   "source": [
    "import torch\n",
    "torch.cuda.is_available()"
   ],
   "outputs": [
    {
     "data": {
      "text/plain": [
       "True"
      ]
     },
     "execution_count": 7,
     "metadata": {},
     "output_type": "execute_result"
    }
   ],
   "execution_count": 7
  },
  {
   "metadata": {
    "ExecuteTime": {
     "end_time": "2025-04-01T12:55:07.132095Z",
     "start_time": "2025-04-01T12:55:07.129977Z"
    }
   },
   "cell_type": "code",
   "source": [
    "# out (Optional[Tensor], 可选)\n",
    "# 指定输出张量。若提供，结果会直接写入此张量，需确保其形状和数据类型兼容。\n",
    "#\n",
    "# dtype (Optional[dtype], 可选)\n",
    "# 指定输出张量的数据类型（如 torch.float32, torch.int64）。若未提供，则根据输入数值推断。\n",
    "#\n",
    "# device (Optional[DeviceLikeType], 可选)\n",
    "# 指定张量存储的设备（如 \"cpu\", \"cuda:0\"）。默认使用当前设备。\n",
    "#\n",
    "# requires_grad (bool, 默认=False)\n",
    "# 是否为此张量启用自动求导。用于构建计算图，常用于模型训练。\n",
    "#\n",
    "# pin_memory (bool, 默认=False)\n",
    "# 是否将张量锁定在页锁内存（Pinned Memory），可加速数据从CPU到GPU的传输。\n",
    "x=torch.arange(10,device=torch.device('cuda'))"
   ],
   "id": "adc0cae53322e0d9",
   "outputs": [],
   "execution_count": 8
  },
  {
   "metadata": {
    "ExecuteTime": {
     "end_time": "2025-04-01T12:57:09.230079Z",
     "start_time": "2025-04-01T12:57:09.224280Z"
    }
   },
   "cell_type": "code",
   "source": "x.numel()##元素个数",
   "id": "37827ffc73ebd756",
   "outputs": [
    {
     "data": {
      "text/plain": [
       "3"
      ]
     },
     "execution_count": 11,
     "metadata": {},
     "output_type": "execute_result"
    }
   ],
   "execution_count": 11
  }
 ],
 "metadata": {
  "kernelspec": {
   "display_name": "Python 3",
   "language": "python",
   "name": "python3"
  },
  "language_info": {
   "codemirror_mode": {
    "name": "ipython",
    "version": 2
   },
   "file_extension": ".py",
   "mimetype": "text/x-python",
   "name": "python",
   "nbconvert_exporter": "python",
   "pygments_lexer": "ipython2",
   "version": "2.7.6"
  }
 },
 "nbformat": 4,
 "nbformat_minor": 5
}
