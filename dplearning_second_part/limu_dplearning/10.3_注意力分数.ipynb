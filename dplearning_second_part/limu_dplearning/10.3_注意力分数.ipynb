{
 "cells": [
  {
   "cell_type": "code",
   "id": "initial_id",
   "metadata": {
    "collapsed": true,
    "ExecuteTime": {
     "end_time": "2025-05-21T07:51:18.392867Z",
     "start_time": "2025-05-21T07:51:15.522799Z"
    }
   },
   "source": [
    "import torch\n",
    "import torch.nn as nn\n",
    "from utils.useful_func import *"
   ],
   "outputs": [],
   "execution_count": 1
  },
  {
   "metadata": {},
   "cell_type": "markdown",
   "source": "# 1、加性注意力",
   "id": "a954170bb8809b54"
  },
  {
   "metadata": {
    "ExecuteTime": {
     "end_time": "2025-05-21T07:51:18.400934Z",
     "start_time": "2025-05-21T07:51:18.393857Z"
    }
   },
   "cell_type": "code",
   "source": [
    "class AdditiveAttention(nn.Module):\n",
    "    \"\"\"加性注意力\"\"\"\n",
    "    def __init__(self,key_size,query_size,num_hiddens,dropout,**kwargs):\n",
    "        super(AdditiveAttention,self).__init__(**kwargs)\n",
    "        self.W_k = nn.Linear(key_size,num_hiddens,bias=False)\n",
    "        self.W_q = nn.Linear(query_size,num_hiddens,bias=False)\n",
    "        self.W_v = nn.Linear(num_hiddens,1,bias=False)\n",
    "        self.dropout = nn.Dropout(dropout)\n",
    "    # queries 维度应该是 batch_size * 要查询的数量 * q_size向量长度\n",
    "    # keys 维度是 batch_size * keys的数量（key-value)键值对 * key向量长度\n",
    "    # values与key相等 value_size可以不一样\n",
    "    def forward(self, queries, keys, values, valid_lens): ## valid_len从输入来的 屏蔽掉填充部分\n",
    "        queries,keys=self.W_q(queries),self.W_k(keys)\n",
    "        queries=queries.unsqueeze(2)\n",
    "        keys=keys.unsqueeze(1)\n",
    "        features = queries + keys\n",
    "        features = torch.tanh(features)\n",
    "        scores = self.W_v(features).squeeze(-1)\n",
    "        self.attention_weights = masked_softmax(scores, valid_lens)\n",
    "        attention_temp=self.dropout(self.attention_weights)\n",
    "        return torch.bmm(attention_temp, values)"
   ],
   "id": "ad2ce16f668ac41",
   "outputs": [],
   "execution_count": 2
  },
  {
   "metadata": {
    "ExecuteTime": {
     "end_time": "2025-05-21T07:51:18.419543Z",
     "start_time": "2025-05-21T07:51:18.415004Z"
    }
   },
   "cell_type": "code",
   "source": [
    "queries=torch.normal(0,1,size=[2,1,20])\n",
    "keys=torch.ones([2,10,2])\n",
    "values=torch.arange(40,dtype=torch.float32).reshape(1,10,4).repeat(2,1,1)\n",
    "valid_lens = torch.tensor([2, 6])"
   ],
   "id": "ff24d3ef1926ba8a",
   "outputs": [],
   "execution_count": 4
  },
  {
   "metadata": {
    "ExecuteTime": {
     "end_time": "2025-05-21T07:51:18.425460Z",
     "start_time": "2025-05-21T07:51:18.421540Z"
    }
   },
   "cell_type": "code",
   "source": "attention=AdditiveAttention(2,20,128,dropout=0.2)",
   "id": "ad0757af861032f1",
   "outputs": [],
   "execution_count": 5
  },
  {
   "metadata": {
    "ExecuteTime": {
     "end_time": "2025-05-21T07:51:18.438256Z",
     "start_time": "2025-05-21T07:51:18.426460Z"
    }
   },
   "cell_type": "code",
   "source": "attention(queries,keys,values,valid_lens = torch.tensor([2, 6]))",
   "id": "6e081609cb7577c1",
   "outputs": [
    {
     "data": {
      "text/plain": [
       "tensor([[[ 2.5000,  3.1250,  3.7500,  4.3750]],\n",
       "\n",
       "        [[10.0000, 11.0417, 12.0833, 13.1250]]], grad_fn=<BmmBackward0>)"
      ]
     },
     "execution_count": 6,
     "metadata": {},
     "output_type": "execute_result"
    }
   ],
   "execution_count": 6
  },
  {
   "metadata": {
    "ExecuteTime": {
     "end_time": "2025-05-21T07:49:10.635248Z",
     "start_time": "2025-05-21T07:49:10.623783Z"
    }
   },
   "cell_type": "code",
   "source": "plt.imshow(attention.attention_weights.detach().numpy().squeeze())",
   "id": "ab5c824fdcc35b40",
   "outputs": [
    {
     "ename": "NameError",
     "evalue": "name 'plt' is not defined",
     "output_type": "error",
     "traceback": [
      "\u001B[1;31m---------------------------------------------------------------------------\u001B[0m",
      "\u001B[1;31mNameError\u001B[0m                                 Traceback (most recent call last)",
      "Cell \u001B[1;32mIn[18], line 1\u001B[0m\n\u001B[1;32m----> 1\u001B[0m \u001B[43mplt\u001B[49m\u001B[38;5;241m.\u001B[39mimshow(attention\u001B[38;5;241m.\u001B[39mattention_weights\u001B[38;5;241m.\u001B[39mdetach()\u001B[38;5;241m.\u001B[39mnumpy()\u001B[38;5;241m.\u001B[39msqueeze())\n",
      "\u001B[1;31mNameError\u001B[0m: name 'plt' is not defined"
     ]
    }
   ],
   "execution_count": 18
  },
  {
   "metadata": {},
   "cell_type": "markdown",
   "source": "# 缩放点积注意力",
   "id": "aedebc822045a271"
  },
  {
   "metadata": {
    "ExecuteTime": {
     "end_time": "2025-05-10T09:31:15.472470Z",
     "start_time": "2025-05-10T09:31:15.469268Z"
    }
   },
   "cell_type": "code",
   "source": [
    "class DotAttention(nn.Module):\n",
    "    def __init__(self,dropout,**kwargs):\n",
    "        super(DotAttention,self).__init__()\n",
    "        self.dropout = nn.Dropout(dropout)\n",
    "    def forward(self, queries, keys, values, valid_lens):\n",
    "        d=keys.shape[-1]\n",
    "        scores =torch.matmul(queries,keys.transpose(1,2))/torch.sqrt(torch.tensor(d))\n",
    "        self.attention_weights =masked_softmax(scores,valid_lens)\n",
    "        return torch.bmm(self.attention_weights,values)\n"
   ],
   "id": "305ab7406524dec1",
   "outputs": [],
   "execution_count": 9
  },
  {
   "metadata": {
    "ExecuteTime": {
     "end_time": "2025-05-10T09:31:59.012200Z",
     "start_time": "2025-05-10T09:31:59.000137Z"
    }
   },
   "cell_type": "code",
   "source": [
    "queries = torch.normal(0, 1, (2, 1, 2))\n",
    "keys=torch.ones([2,10,2])\n",
    "values=torch.arange(40,dtype=torch.float32).reshape(1,10,4).repeat(2,1,1)\n",
    "attention = DotAttention(dropout=0.5)\n",
    "attention.eval()\n",
    "attention(queries, keys, values, valid_lens)"
   ],
   "id": "dee2f997c3f1054b",
   "outputs": [
    {
     "data": {
      "text/plain": [
       "tensor([[[ 2.0000,  3.0000,  4.0000,  5.0000]],\n",
       "\n",
       "        [[10.0000, 11.0000, 12.0000, 13.0000]]])"
      ]
     },
     "execution_count": 12,
     "metadata": {},
     "output_type": "execute_result"
    }
   ],
   "execution_count": 12
  },
  {
   "metadata": {},
   "cell_type": "code",
   "outputs": [],
   "execution_count": null,
   "source": "",
   "id": "875ce3b9d2c4d7b6"
  }
 ],
 "metadata": {
  "kernelspec": {
   "display_name": "Python 3",
   "language": "python",
   "name": "python3"
  },
  "language_info": {
   "codemirror_mode": {
    "name": "ipython",
    "version": 2
   },
   "file_extension": ".py",
   "mimetype": "text/x-python",
   "name": "python",
   "nbconvert_exporter": "python",
   "pygments_lexer": "ipython2",
   "version": "2.7.6"
  }
 },
 "nbformat": 4,
 "nbformat_minor": 5
}
