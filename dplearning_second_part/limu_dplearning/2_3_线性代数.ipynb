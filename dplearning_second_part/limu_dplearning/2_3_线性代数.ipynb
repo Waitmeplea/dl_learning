{
 "cells": [
  {
   "cell_type": "code",
   "id": "initial_id",
   "metadata": {
    "collapsed": true,
    "ExecuteTime": {
     "end_time": "2025-04-03T00:22:54.800673Z",
     "start_time": "2025-04-03T00:22:51.764310Z"
    }
   },
   "source": "import torch",
   "outputs": [],
   "execution_count": 1
  },
  {
   "metadata": {
    "ExecuteTime": {
     "end_time": "2025-04-03T00:23:30.513174Z",
     "start_time": "2025-04-03T00:23:30.509601Z"
    }
   },
   "cell_type": "code",
   "source": "x=torch.ones([2,3,3])",
   "id": "7469b3095f3cb9f2",
   "outputs": [],
   "execution_count": 6
  },
  {
   "metadata": {},
   "cell_type": "markdown",
   "source": "降维聚合",
   "id": "c49d3f171a472bdd"
  },
  {
   "metadata": {
    "ExecuteTime": {
     "end_time": "2025-04-03T00:27:20.477999Z",
     "start_time": "2025-04-03T00:27:20.471878Z"
    }
   },
   "cell_type": "code",
   "source": [
    "x.sum(axis=0) ##聚合函数 axis取值结果技巧，axis取的几 则这个轴就会清除掉\n",
    "##均值两种求法\n",
    "x.mean()==x.sum()/x.numel()"
   ],
   "id": "b5a795ba415165e5",
   "outputs": [
    {
     "data": {
      "text/plain": [
       "tensor(True)"
      ]
     },
     "execution_count": 15,
     "metadata": {},
     "output_type": "execute_result"
    }
   ],
   "execution_count": 15
  },
  {
   "metadata": {
    "ExecuteTime": {
     "end_time": "2025-04-03T00:27:20.582976Z",
     "start_time": "2025-04-03T00:27:20.576844Z"
    }
   },
   "cell_type": "code",
   "source": [
    "##均值两种求法\n",
    "x.mean(axis=0)==x.sum(axis=0)/x.shape[0]"
   ],
   "id": "6e0fd92cc9853946",
   "outputs": [
    {
     "data": {
      "text/plain": [
       "tensor([[True, True, True],\n",
       "        [True, True, True],\n",
       "        [True, True, True]])"
      ]
     },
     "execution_count": 16,
     "metadata": {},
     "output_type": "execute_result"
    }
   ],
   "execution_count": 16
  },
  {
   "metadata": {},
   "cell_type": "markdown",
   "source": "非降维计算",
   "id": "82f1a010b076c2ba"
  },
  {
   "metadata": {
    "ExecuteTime": {
     "end_time": "2025-04-03T00:43:46.456204Z",
     "start_time": "2025-04-03T00:43:46.441517Z"
    }
   },
   "cell_type": "code",
   "source": [
    "x=torch.ones([2,3,3])\n",
    "x.sum(axis=1,keepdims=True)\n",
    "x.mean(axis=1,keepdim=True)\n",
    "##注意不可以这样x.mean(keepdim=True) 必须要指定轴 比如下面这样 \n",
    "#神奇\n",
    "x.mean(axis=[0,1,2],keepdim=True)"
   ],
   "id": "e55f8c0a43b83c98",
   "outputs": [
    {
     "data": {
      "text/plain": [
       "tensor([[[1.]]])"
      ]
     },
     "execution_count": 51,
     "metadata": {},
     "output_type": "execute_result"
    }
   ],
   "execution_count": 51
  },
  {
   "metadata": {},
   "cell_type": "markdown",
   "source": "点积——针对两个向量的,要求向量长度必须相等",
   "id": "f2c5ea6506a7176a"
  },
  {
   "metadata": {
    "ExecuteTime": {
     "end_time": "2025-04-03T00:34:00.209415Z",
     "start_time": "2025-04-03T00:34:00.192461Z"
    }
   },
   "cell_type": "code",
   "source": [
    "x=torch.ones([4])\n",
    "y=torch.ones([4])"
   ],
   "id": "959f69dac5468990",
   "outputs": [],
   "execution_count": 31
  },
  {
   "metadata": {
    "ExecuteTime": {
     "end_time": "2025-04-03T00:34:00.583159Z",
     "start_time": "2025-04-03T00:34:00.575453Z"
    }
   },
   "cell_type": "code",
   "source": "torch.dot(x,y)==torch.sum(x*y)",
   "id": "7bf432381dc3b37b",
   "outputs": [
    {
     "data": {
      "text/plain": [
       "tensor(True)"
      ]
     },
     "execution_count": 32,
     "metadata": {},
     "output_type": "execute_result"
    }
   ],
   "execution_count": 32
  },
  {
   "metadata": {},
   "cell_type": "code",
   "outputs": [],
   "execution_count": null,
   "source": "",
   "id": "e14d2b495fca8c19"
  },
  {
   "metadata": {},
   "cell_type": "markdown",
   "source": "矩阵——向量积 针对矩阵与向量的的 要求必须为n*m 与一个向量的乘积",
   "id": "4b71e3532fbef99c"
  },
  {
   "metadata": {
    "ExecuteTime": {
     "end_time": "2025-04-03T00:38:51.816831Z",
     "start_time": "2025-04-03T00:38:51.808354Z"
    }
   },
   "cell_type": "code",
   "source": [
    "x=torch.ones([2,3])\n",
    "y=torch.ones([3])\n",
    "##两行三列 与三行一列 把y从 3个元素转为了2个元素"
   ],
   "id": "3350209d930b68be",
   "outputs": [],
   "execution_count": 41
  },
  {
   "metadata": {
    "ExecuteTime": {
     "end_time": "2025-04-03T00:39:22.483537Z",
     "start_time": "2025-04-03T00:39:22.471474Z"
    }
   },
   "cell_type": "code",
   "source": "torch.mv(x,y)",
   "id": "81bb4f2f423ec19b",
   "outputs": [
    {
     "data": {
      "text/plain": [
       "tensor([3., 3.])"
      ]
     },
     "execution_count": 43,
     "metadata": {},
     "output_type": "execute_result"
    }
   ],
   "execution_count": 43
  },
  {
   "metadata": {},
   "cell_type": "markdown",
   "source": "矩阵—矩阵乘法  两个矩阵mn 和np的乘法",
   "id": "aec4a9d0acc06122"
  },
  {
   "metadata": {
    "ExecuteTime": {
     "end_time": "2025-04-03T00:39:44.189643Z",
     "start_time": "2025-04-03T00:39:44.182807Z"
    }
   },
   "cell_type": "code",
   "source": [
    "x=torch.ones([2,3])\n",
    "y=torch.ones([3,2])"
   ],
   "id": "aafd25cd07373e87",
   "outputs": [],
   "execution_count": 44
  },
  {
   "metadata": {
    "ExecuteTime": {
     "end_time": "2025-04-03T00:40:22.474628Z",
     "start_time": "2025-04-03T00:40:22.465772Z"
    }
   },
   "cell_type": "code",
   "source": "torch.mm(x,y)==x@y",
   "id": "fdf30678f7bfbcae",
   "outputs": [
    {
     "data": {
      "text/plain": [
       "tensor([[True, True],\n",
       "        [True, True]])"
      ]
     },
     "execution_count": 47,
     "metadata": {},
     "output_type": "execute_result"
    }
   ],
   "execution_count": 47
  },
  {
   "metadata": {},
   "cell_type": "markdown",
   "source": [
    "范数（norm）。\n",
    "非正式地说，向量的范数是表示一个向量有多大。 这里考虑的大小（size）概念不涉及维度，而是分量的大小。"
   ],
   "id": "574f910850983b18"
  },
  {
   "metadata": {
    "ExecuteTime": {
     "end_time": "2025-04-03T00:46:14.967028Z",
     "start_time": "2025-04-03T00:46:14.958975Z"
    }
   },
   "cell_type": "code",
   "source": [
    "x=torch.ones([2,3])\n",
    "##dim为按照那个轴进行计算，p则为范数类型\n",
    "torch.norm(x,dim=0,p=3)"
   ],
   "id": "49a48e2e84f4b8ad",
   "outputs": [
    {
     "data": {
      "text/plain": [
       "tensor([1.2599, 1.2599, 1.2599])"
      ]
     },
     "execution_count": 56,
     "metadata": {},
     "output_type": "execute_result"
    }
   ],
   "execution_count": 56
  },
  {
   "metadata": {},
   "cell_type": "code",
   "outputs": [],
   "execution_count": null,
   "source": "",
   "id": "931f4788f617293e"
  }
 ],
 "metadata": {
  "kernelspec": {
   "display_name": "Python 3",
   "language": "python",
   "name": "python3"
  },
  "language_info": {
   "codemirror_mode": {
    "name": "ipython",
    "version": 2
   },
   "file_extension": ".py",
   "mimetype": "text/x-python",
   "name": "python",
   "nbconvert_exporter": "python",
   "pygments_lexer": "ipython2",
   "version": "2.7.6"
  }
 },
 "nbformat": 4,
 "nbformat_minor": 5
}
