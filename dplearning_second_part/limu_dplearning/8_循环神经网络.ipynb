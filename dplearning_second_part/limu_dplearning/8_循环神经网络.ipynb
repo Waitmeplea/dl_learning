{
 "cells": [
  {
   "cell_type": "code",
   "id": "initial_id",
   "metadata": {
    "collapsed": true,
    "ExecuteTime": {
     "end_time": "2025-04-27T04:34:14.496890Z",
     "start_time": "2025-04-27T04:34:14.493307Z"
    }
   },
   "source": [
    "import math\n",
    "import torch\n",
    "import torch.nn as nn\n",
    "import torch.nn.functional as F\n",
    "from d2l import torch as d2l"
   ],
   "outputs": [],
   "execution_count": 3
  },
  {
   "metadata": {
    "ExecuteTime": {
     "end_time": "2025-04-27T04:48:47.762657Z",
     "start_time": "2025-04-27T04:48:47.750163Z"
    }
   },
   "cell_type": "code",
   "source": [
    "batch_size, num_steps = 32, 35\n",
    "train_iter, vocab = load_data_time_machine(batch_size, num_steps)"
   ],
   "id": "129c630c765b4dae",
   "outputs": [
    {
     "ename": "NameError",
     "evalue": "name 'load_data_time_machine' is not defined",
     "output_type": "error",
     "traceback": [
      "\u001B[1;31m---------------------------------------------------------------------------\u001B[0m",
      "\u001B[1;31mNameError\u001B[0m                                 Traceback (most recent call last)",
      "Cell \u001B[1;32mIn[6], line 2\u001B[0m\n\u001B[0;32m      1\u001B[0m batch_size, num_steps \u001B[38;5;241m=\u001B[39m \u001B[38;5;241m32\u001B[39m, \u001B[38;5;241m35\u001B[39m\n\u001B[1;32m----> 2\u001B[0m train_iter, vocab \u001B[38;5;241m=\u001B[39m \u001B[43mload_data_time_machine\u001B[49m(batch_size, num_steps)\n",
      "\u001B[1;31mNameError\u001B[0m: name 'load_data_time_machine' is not defined"
     ]
    }
   ],
   "execution_count": 6
  },
  {
   "metadata": {},
   "cell_type": "code",
   "outputs": [],
   "execution_count": null,
   "source": "",
   "id": "1789bd52fa52c4f"
  }
 ],
 "metadata": {
  "kernelspec": {
   "display_name": "Python 3",
   "language": "python",
   "name": "python3"
  },
  "language_info": {
   "codemirror_mode": {
    "name": "ipython",
    "version": 2
   },
   "file_extension": ".py",
   "mimetype": "text/x-python",
   "name": "python",
   "nbconvert_exporter": "python",
   "pygments_lexer": "ipython2",
   "version": "2.7.6"
  }
 },
 "nbformat": 4,
 "nbformat_minor": 5
}
