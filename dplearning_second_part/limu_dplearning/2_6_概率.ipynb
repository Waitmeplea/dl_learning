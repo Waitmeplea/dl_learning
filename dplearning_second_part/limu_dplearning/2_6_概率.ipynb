{
 "cells": [
  {
   "cell_type": "code",
   "id": "initial_id",
   "metadata": {
    "collapsed": true,
    "ExecuteTime": {
     "end_time": "2025-04-03T02:00:12.665466Z",
     "start_time": "2025-04-03T02:00:09.500971Z"
    }
   },
   "source": [
    "%matplotlib inline\n",
    "import torch\n",
    "from torch.distributions import multinomial\n",
    "from d2l import torch as d2l"
   ],
   "outputs": [],
   "execution_count": 3
  },
  {
   "metadata": {
    "ExecuteTime": {
     "end_time": "2025-04-03T02:10:17.292155Z",
     "start_time": "2025-04-03T02:10:17.278079Z"
    }
   },
   "cell_type": "code",
   "source": [
    "fair_probs = torch.ones([6])/6 ###6个面 每个面的概率为多少\n",
    "multinomial.Multinomial(1, fair_probs).sample() ##定义一个多项分布，抽样一次"
   ],
   "id": "595c054734466496",
   "outputs": [
    {
     "data": {
      "text/plain": [
       "tensor([0., 0., 0., 1., 0., 0.])"
      ]
     },
     "execution_count": 34,
     "metadata": {},
     "output_type": "execute_result"
    }
   ],
   "execution_count": 34
  },
  {
   "metadata": {
    "ExecuteTime": {
     "end_time": "2025-04-03T02:03:02.895519Z",
     "start_time": "2025-04-03T02:03:02.881317Z"
    }
   },
   "cell_type": "code",
   "source": "multinomial.Multinomial(10, fair_probs).sample() ##定义十次多项分布",
   "id": "ed956d28e3f5e644",
   "outputs": [
    {
     "data": {
      "text/plain": [
       "tensor([1., 2., 2., 3., 2., 0.])"
      ]
     },
     "execution_count": 23,
     "metadata": {},
     "output_type": "execute_result"
    }
   ],
   "execution_count": 23
  },
  {
   "metadata": {
    "ExecuteTime": {
     "end_time": "2025-04-03T02:11:15.553919Z",
     "start_time": "2025-04-03T02:11:15.536331Z"
    }
   },
   "cell_type": "code",
   "source": [
    "# 将结果存储为32位浮点数以进行除法\n",
    "counts = multinomial.Multinomial(1000, fair_probs).sample()\n",
    "counts / 1000  # 相对频率作为估计值"
   ],
   "id": "a106885cbc662816",
   "outputs": [
    {
     "data": {
      "text/plain": [
       "tensor([0.1710, 0.1580, 0.1750, 0.1630, 0.1570, 0.1760])"
      ]
     },
     "execution_count": 35,
     "metadata": {},
     "output_type": "execute_result"
    }
   ],
   "execution_count": 35
  },
  {
   "metadata": {},
   "cell_type": "code",
   "outputs": [],
   "execution_count": null,
   "source": "",
   "id": "ce4a9574aecff34a"
  }
 ],
 "metadata": {
  "kernelspec": {
   "display_name": "Python 3",
   "language": "python",
   "name": "python3"
  },
  "language_info": {
   "codemirror_mode": {
    "name": "ipython",
    "version": 2
   },
   "file_extension": ".py",
   "mimetype": "text/x-python",
   "name": "python",
   "nbconvert_exporter": "python",
   "pygments_lexer": "ipython2",
   "version": "2.7.6"
  }
 },
 "nbformat": 4,
 "nbformat_minor": 5
}
