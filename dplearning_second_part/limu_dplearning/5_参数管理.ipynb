{
 "cells": [
  {
   "cell_type": "code",
   "id": "initial_id",
   "metadata": {
    "collapsed": true,
    "ExecuteTime": {
     "end_time": "2025-04-29T01:27:43.268596Z",
     "start_time": "2025-04-29T01:27:40.619646Z"
    }
   },
   "source": [
    "import torch\n",
    "from torch import nn\n",
    "from torch.nn import functional as F"
   ],
   "outputs": [],
   "execution_count": 1
  },
  {
   "metadata": {
    "ExecuteTime": {
     "end_time": "2025-04-29T01:27:43.273124Z",
     "start_time": "2025-04-29T01:27:43.268596Z"
    }
   },
   "cell_type": "code",
   "source": [
    "class MySequential(nn.Module):\n",
    "    def __init__(self,*layers):\n",
    "        super(MySequential, self).__init__()\n",
    "\n",
    "        for i,layer in enumerate(layers):\n",
    "            self._modules[str(i)]=layer\n",
    "    def forward(self, input):\n",
    "        for block in self._modules.values():\n",
    "            input=block(input)\n",
    "        return input"
   ],
   "id": "4ef419bfab4c9da3",
   "outputs": [],
   "execution_count": 2
  },
  {
   "metadata": {},
   "cell_type": "markdown",
   "source": [
    "在正向传播函数中执行代码\n",
    "正向传播中随便改 反向传播自动保留计算图 直接backward就行"
   ],
   "id": "166569a12706dbab"
  },
  {
   "metadata": {
    "ExecuteTime": {
     "end_time": "2025-04-29T01:27:43.278527Z",
     "start_time": "2025-04-29T01:27:43.273124Z"
    }
   },
   "cell_type": "code",
   "source": [
    "\n",
    "class FixedHiddenMLP(nn.Module):\n",
    "    def __init__(self):\n",
    "        super(FixedHiddenMLP, self).__init__()\n",
    "        self.rand_weight = torch.rand((20,20),requires_grad=True)\n",
    "        self.linear = nn.Linear(20,20)\n",
    "    def forward(self, x):\n",
    "        x=self.linear(x)\n",
    "        x=F.relu(torch.mm(x,self.rand_weight)+1)\n",
    "        x=self.linear(x)\n",
    "        while x.abs().sum()>0.00001:\n",
    "            x/=2\n",
    "        return x.sum()"
   ],
   "id": "57f1e5e215c709ba",
   "outputs": [],
   "execution_count": 3
  },
  {
   "metadata": {
    "ExecuteTime": {
     "end_time": "2025-04-29T01:27:43.284474Z",
     "start_time": "2025-04-29T01:27:43.278527Z"
    }
   },
   "cell_type": "code",
   "source": "f=FixedHiddenMLP()\n",
   "id": "5919a8b4efe9d841",
   "outputs": [],
   "execution_count": 4
  },
  {
   "metadata": {},
   "cell_type": "markdown",
   "source": "可以混合sequential 和任何模型 达到自己想要的模型",
   "id": "33d5f25f813c5e9a"
  },
  {
   "metadata": {
    "ExecuteTime": {
     "end_time": "2025-04-29T01:27:43.289569Z",
     "start_time": "2025-04-29T01:27:43.284474Z"
    }
   },
   "cell_type": "code",
   "source": [
    "class NestMlp(nn.Module):\n",
    "    def __init__(self):\n",
    "        super(NestMlp, self).__init__()\n",
    "        self.net=nn.Sequential(nn.Linear(20,20),nn.ReLU(),nn.Linear(20,20),nn.ReLU(),nn.Linear(20,20))\n",
    "        self.Linear = nn.Linear(20,20)\n",
    "    def forward(self, x):\n",
    "        return self.Linear(self.net(x))"
   ],
   "id": "bac8ad179bfbab07",
   "outputs": [],
   "execution_count": 5
  },
  {
   "metadata": {
    "ExecuteTime": {
     "end_time": "2025-04-29T01:27:43.294559Z",
     "start_time": "2025-04-29T01:27:43.289569Z"
    }
   },
   "cell_type": "code",
   "source": "chimear=nn.Sequential(NestMlp(),nn.Linear(20,20),nn.ReLU(),nn.Linear(20,20),nn.ReLU(),nn.Linear(20,1))",
   "id": "d51ec1c97ee4e756",
   "outputs": [],
   "execution_count": 6
  },
  {
   "metadata": {
    "ExecuteTime": {
     "end_time": "2025-04-29T01:27:43.304640Z",
     "start_time": "2025-04-29T01:27:43.294559Z"
    }
   },
   "cell_type": "code",
   "source": [
    "x=torch.randn(1,20)\n",
    "print(chimear(x))"
   ],
   "id": "77fc74a31d4e0bd5",
   "outputs": [
    {
     "name": "stdout",
     "output_type": "stream",
     "text": [
      "tensor([[-0.1008]], grad_fn=<AddmmBackward0>)\n"
     ]
    }
   ],
   "execution_count": 7
  },
  {
   "metadata": {},
   "cell_type": "markdown",
   "source": "# 2、参数管理",
   "id": "bacabadf61762abb"
  },
  {
   "metadata": {
    "ExecuteTime": {
     "end_time": "2025-04-29T01:27:43.309334Z",
     "start_time": "2025-04-29T01:27:43.304640Z"
    }
   },
   "cell_type": "code",
   "source": "net=nn.Sequential(nn.Linear(4,8),nn.ReLU(),nn.Linear(8,1))",
   "id": "82e68251c9e4a012",
   "outputs": [],
   "execution_count": 8
  },
  {
   "metadata": {
    "ExecuteTime": {
     "end_time": "2025-04-29T01:27:43.317547Z",
     "start_time": "2025-04-29T01:27:43.309334Z"
    }
   },
   "cell_type": "code",
   "source": [
    "x=torch.randn(1,4)\n",
    "net(x)"
   ],
   "id": "a46666ee6547f25e",
   "outputs": [
    {
     "data": {
      "text/plain": [
       "tensor([[-0.2945]], grad_fn=<AddmmBackward0>)"
      ]
     },
     "execution_count": 9,
     "metadata": {},
     "output_type": "execute_result"
    }
   ],
   "execution_count": 9
  },
  {
   "metadata": {
    "ExecuteTime": {
     "end_time": "2025-04-29T01:27:43.324538Z",
     "start_time": "2025-04-29T01:27:43.317547Z"
    }
   },
   "cell_type": "code",
   "source": [
    "##参数访问\n",
    "net[2]###拿到的是第三个层  就是nn.linear\n",
    "##然后可以使用state_dict() 来访问参数 state从自动机的角度上来讲就是他的状态\n",
    "net[2].state_dict()\n",
    "####可以通过名称访问\n",
    "net[2].state_dict()['weight']\n",
    "net.state_dict()"
   ],
   "id": "31d2820e8945a746",
   "outputs": [
    {
     "data": {
      "text/plain": [
       "OrderedDict([('0.weight',\n",
       "              tensor([[ 0.3806,  0.4140,  0.2805, -0.0232],\n",
       "                      [ 0.3593, -0.2246,  0.1993, -0.1817],\n",
       "                      [ 0.4313,  0.4668,  0.4079,  0.1663],\n",
       "                      [-0.4818,  0.0698,  0.1350,  0.1613],\n",
       "                      [ 0.0334, -0.1587, -0.3957,  0.3452],\n",
       "                      [-0.3400, -0.1573,  0.1614,  0.0756],\n",
       "                      [-0.1307,  0.2563,  0.0468,  0.2621],\n",
       "                      [ 0.2672, -0.4869, -0.4331,  0.3235]])),\n",
       "             ('0.bias',\n",
       "              tensor([ 0.0514,  0.4571,  0.4940,  0.0357, -0.3324, -0.0348,  0.1599,  0.2477])),\n",
       "             ('2.weight',\n",
       "              tensor([[ 0.1187, -0.0597,  0.0026, -0.3163,  0.3186, -0.3284,  0.3375, -0.1357]])),\n",
       "             ('2.bias', tensor([-0.1913]))])"
      ]
     },
     "execution_count": 10,
     "metadata": {},
     "output_type": "execute_result"
    }
   ],
   "execution_count": 10
  },
  {
   "metadata": {},
   "cell_type": "markdown",
   "source": "##可以看到权重weight是一个8*1的矩阵 偏置是一维",
   "id": "cf6e7d66a9c268e"
  },
  {
   "metadata": {
    "ExecuteTime": {
     "end_time": "2025-04-29T01:27:43.567045Z",
     "start_time": "2025-04-29T01:27:43.550504Z"
    }
   },
   "cell_type": "code",
   "source": [
    "type(net[2].bias) \n",
    "print(net[2].bias)"
   ],
   "id": "1f20b83febceb7a",
   "outputs": [
    {
     "name": "stdout",
     "output_type": "stream",
     "text": [
      "Parameter containing:\n",
      "tensor([-0.1913], requires_grad=True)\n"
     ]
    }
   ],
   "execution_count": 11
  },
  {
   "metadata": {},
   "cell_type": "markdown",
   "source": [
    "Parameter是一个可以优化的参数对象  \n",
    "打印出来就是parameter里包含一个可以改变的张量  \n",
    "可以通过.data来访问 因为还有一个梯度 .grad访问梯度"
   ],
   "id": "efacf96f7c4b5b5d"
  },
  {
   "metadata": {
    "ExecuteTime": {
     "end_time": "2025-04-29T01:27:44.572805Z",
     "start_time": "2025-04-29T01:27:44.566563Z"
    }
   },
   "cell_type": "code",
   "source": [
    "print(net[2].bias.data)\n",
    "print(net[2].bias.grad) ##因为没有做反向传播"
   ],
   "id": "de03b9012680f76a",
   "outputs": [
    {
     "name": "stdout",
     "output_type": "stream",
     "text": [
      "tensor([-0.1913])\n",
      "None\n"
     ]
    }
   ],
   "execution_count": 12
  },
  {
   "metadata": {},
   "cell_type": "markdown",
   "source": "# 一次性访问所有参数",
   "id": "f3d60cf4758eff75"
  },
  {
   "metadata": {},
   "cell_type": "markdown",
   "source": "named_parameters 返回Module.named_parameters对象 和parameters返回Module.parameters对象  一个是参数+名称 一个是参数",
   "id": "c1e0b54e10514f00"
  },
  {
   "metadata": {
    "ExecuteTime": {
     "end_time": "2025-04-29T01:27:45.802755Z",
     "start_time": "2025-04-29T01:27:45.799388Z"
    }
   },
   "cell_type": "code",
   "source": "net.parameters()",
   "id": "18b7733185f01558",
   "outputs": [
    {
     "data": {
      "text/plain": [
       "<generator object Module.parameters at 0x0000022C0DF84660>"
      ]
     },
     "execution_count": 13,
     "metadata": {},
     "output_type": "execute_result"
    }
   ],
   "execution_count": 13
  },
  {
   "metadata": {
    "ExecuteTime": {
     "end_time": "2025-04-29T01:27:46.399116Z",
     "start_time": "2025-04-29T01:27:46.386445Z"
    }
   },
   "cell_type": "code",
   "source": [
    "for n,i in net.named_parameters():\n",
    "    print(n)\n",
    "    print(i)"
   ],
   "id": "55f64ee904836165",
   "outputs": [
    {
     "name": "stdout",
     "output_type": "stream",
     "text": [
      "0.weight\n",
      "Parameter containing:\n",
      "tensor([[ 0.3806,  0.4140,  0.2805, -0.0232],\n",
      "        [ 0.3593, -0.2246,  0.1993, -0.1817],\n",
      "        [ 0.4313,  0.4668,  0.4079,  0.1663],\n",
      "        [-0.4818,  0.0698,  0.1350,  0.1613],\n",
      "        [ 0.0334, -0.1587, -0.3957,  0.3452],\n",
      "        [-0.3400, -0.1573,  0.1614,  0.0756],\n",
      "        [-0.1307,  0.2563,  0.0468,  0.2621],\n",
      "        [ 0.2672, -0.4869, -0.4331,  0.3235]], requires_grad=True)\n",
      "0.bias\n",
      "Parameter containing:\n",
      "tensor([ 0.0514,  0.4571,  0.4940,  0.0357, -0.3324, -0.0348,  0.1599,  0.2477],\n",
      "       requires_grad=True)\n",
      "2.weight\n",
      "Parameter containing:\n",
      "tensor([[ 0.1187, -0.0597,  0.0026, -0.3163,  0.3186, -0.3284,  0.3375, -0.1357]],\n",
      "       requires_grad=True)\n",
      "2.bias\n",
      "Parameter containing:\n",
      "tensor([-0.1913], requires_grad=True)\n"
     ]
    }
   ],
   "execution_count": 14
  },
  {
   "metadata": {
    "ExecuteTime": {
     "end_time": "2025-04-29T01:27:47.182376Z",
     "start_time": "2025-04-29T01:27:47.164719Z"
    }
   },
   "cell_type": "code",
   "source": [
    "for i in net.parameters():\n",
    "    print(i)"
   ],
   "id": "d647ce0d202ef641",
   "outputs": [
    {
     "name": "stdout",
     "output_type": "stream",
     "text": [
      "Parameter containing:\n",
      "tensor([[ 0.3806,  0.4140,  0.2805, -0.0232],\n",
      "        [ 0.3593, -0.2246,  0.1993, -0.1817],\n",
      "        [ 0.4313,  0.4668,  0.4079,  0.1663],\n",
      "        [-0.4818,  0.0698,  0.1350,  0.1613],\n",
      "        [ 0.0334, -0.1587, -0.3957,  0.3452],\n",
      "        [-0.3400, -0.1573,  0.1614,  0.0756],\n",
      "        [-0.1307,  0.2563,  0.0468,  0.2621],\n",
      "        [ 0.2672, -0.4869, -0.4331,  0.3235]], requires_grad=True)\n",
      "Parameter containing:\n",
      "tensor([ 0.0514,  0.4571,  0.4940,  0.0357, -0.3324, -0.0348,  0.1599,  0.2477],\n",
      "       requires_grad=True)\n",
      "Parameter containing:\n",
      "tensor([[ 0.1187, -0.0597,  0.0026, -0.3163,  0.3186, -0.3284,  0.3375, -0.1357]],\n",
      "       requires_grad=True)\n",
      "Parameter containing:\n",
      "tensor([-0.1913], requires_grad=True)\n"
     ]
    }
   ],
   "execution_count": 15
  },
  {
   "metadata": {
    "ExecuteTime": {
     "end_time": "2025-04-29T01:27:47.915727Z",
     "start_time": "2025-04-29T01:27:47.904448Z"
    }
   },
   "cell_type": "code",
   "source": [
    "###有了名字之后可以通过名字来访问对应的参数\n",
    "net.state_dict()"
   ],
   "id": "67800dfb0b639e02",
   "outputs": [
    {
     "data": {
      "text/plain": [
       "OrderedDict([('0.weight',\n",
       "              tensor([[ 0.3806,  0.4140,  0.2805, -0.0232],\n",
       "                      [ 0.3593, -0.2246,  0.1993, -0.1817],\n",
       "                      [ 0.4313,  0.4668,  0.4079,  0.1663],\n",
       "                      [-0.4818,  0.0698,  0.1350,  0.1613],\n",
       "                      [ 0.0334, -0.1587, -0.3957,  0.3452],\n",
       "                      [-0.3400, -0.1573,  0.1614,  0.0756],\n",
       "                      [-0.1307,  0.2563,  0.0468,  0.2621],\n",
       "                      [ 0.2672, -0.4869, -0.4331,  0.3235]])),\n",
       "             ('0.bias',\n",
       "              tensor([ 0.0514,  0.4571,  0.4940,  0.0357, -0.3324, -0.0348,  0.1599,  0.2477])),\n",
       "             ('2.weight',\n",
       "              tensor([[ 0.1187, -0.0597,  0.0026, -0.3163,  0.3186, -0.3284,  0.3375, -0.1357]])),\n",
       "             ('2.bias', tensor([-0.1913]))])"
      ]
     },
     "execution_count": 16,
     "metadata": {},
     "output_type": "execute_result"
    }
   ],
   "execution_count": 16
  },
  {
   "metadata": {
    "ExecuteTime": {
     "end_time": "2025-04-29T01:28:26.816115Z",
     "start_time": "2025-04-29T01:28:26.803531Z"
    }
   },
   "cell_type": "code",
   "source": [
    "for i in net.parameters():\n",
    "    print(i)"
   ],
   "id": "dc435f049b218946",
   "outputs": [
    {
     "name": "stdout",
     "output_type": "stream",
     "text": [
      "Parameter containing:\n",
      "tensor([[ 0.3806,  0.4140,  0.2805, -0.0232],\n",
      "        [ 0.3593, -0.2246,  0.1993, -0.1817],\n",
      "        [ 0.4313,  0.4668,  0.4079,  0.1663],\n",
      "        [-0.4818,  0.0698,  0.1350,  0.1613],\n",
      "        [ 0.0334, -0.1587, -0.3957,  0.3452],\n",
      "        [-0.3400, -0.1573,  0.1614,  0.0756],\n",
      "        [-0.1307,  0.2563,  0.0468,  0.2621],\n",
      "        [ 0.2672, -0.4869, -0.4331,  0.3235]], requires_grad=True)\n",
      "Parameter containing:\n",
      "tensor([ 0.0514,  0.4571,  0.4940,  0.0357, -0.3324, -0.0348,  0.1599,  0.2477],\n",
      "       requires_grad=True)\n",
      "Parameter containing:\n",
      "tensor([[ 0.1187, -0.0597,  0.0026, -0.3163,  0.3186, -0.3284,  0.3375, -0.1357]],\n",
      "       requires_grad=True)\n",
      "Parameter containing:\n",
      "tensor([-0.1913], requires_grad=True)\n"
     ]
    }
   ],
   "execution_count": 21
  },
  {
   "metadata": {
    "ExecuteTime": {
     "end_time": "2025-04-29T01:28:35.834330Z",
     "start_time": "2025-04-29T01:28:35.823613Z"
    }
   },
   "cell_type": "code",
   "source": [
    "for i in net.named_parameters():\n",
    "    print(i)"
   ],
   "id": "6b642b110f4f786f",
   "outputs": [
    {
     "name": "stdout",
     "output_type": "stream",
     "text": [
      "('0.weight', Parameter containing:\n",
      "tensor([[ 0.3806,  0.4140,  0.2805, -0.0232],\n",
      "        [ 0.3593, -0.2246,  0.1993, -0.1817],\n",
      "        [ 0.4313,  0.4668,  0.4079,  0.1663],\n",
      "        [-0.4818,  0.0698,  0.1350,  0.1613],\n",
      "        [ 0.0334, -0.1587, -0.3957,  0.3452],\n",
      "        [-0.3400, -0.1573,  0.1614,  0.0756],\n",
      "        [-0.1307,  0.2563,  0.0468,  0.2621],\n",
      "        [ 0.2672, -0.4869, -0.4331,  0.3235]], requires_grad=True))\n",
      "('0.bias', Parameter containing:\n",
      "tensor([ 0.0514,  0.4571,  0.4940,  0.0357, -0.3324, -0.0348,  0.1599,  0.2477],\n",
      "       requires_grad=True))\n",
      "('2.weight', Parameter containing:\n",
      "tensor([[ 0.1187, -0.0597,  0.0026, -0.3163,  0.3186, -0.3284,  0.3375, -0.1357]],\n",
      "       requires_grad=True))\n",
      "('2.bias', Parameter containing:\n",
      "tensor([-0.1913], requires_grad=True))\n"
     ]
    }
   ],
   "execution_count": 22
  },
  {
   "metadata": {},
   "cell_type": "markdown",
   "source": "# 从嵌套块收集参数",
   "id": "d83ee188d2cac760"
  },
  {
   "metadata": {
    "ExecuteTime": {
     "end_time": "2025-04-10T04:30:24.327087Z",
     "start_time": "2025-04-10T04:30:24.322494Z"
    }
   },
   "cell_type": "code",
   "source": [
    "def block1():\n",
    "    return nn.Sequential(nn.Linear(4,8),nn.ReLU(),nn.Linear(8,4))\n",
    "\n",
    "def block2():\n",
    "    net=nn.Sequential()\n",
    "    for i in range(2):\n",
    "        net.add_module(f'block{i}',block1())\n",
    "    return net\n",
    "rgnet=nn.Sequential(nn.Linear(4,4),nn.ReLU(),block2())\n",
    "\n",
    "### nn.sequential 嵌套block2 然后再嵌套block1"
   ],
   "id": "7f7c748ec98e25b6",
   "outputs": [],
   "execution_count": 31
  },
  {
   "metadata": {},
   "cell_type": "markdown",
   "source": "查看网络如何组织",
   "id": "be911f939a247e2d"
  },
  {
   "metadata": {
    "ExecuteTime": {
     "end_time": "2025-04-10T04:30:24.650379Z",
     "start_time": "2025-04-10T04:30:24.645079Z"
    }
   },
   "cell_type": "code",
   "source": "rgnet[2][0][0].weight",
   "id": "e0eeadca66d6f3fd",
   "outputs": [
    {
     "data": {
      "text/plain": [
       "Parameter containing:\n",
       "tensor([[-0.1831,  0.3135, -0.0661, -0.2556],\n",
       "        [ 0.1620,  0.1871, -0.4294,  0.4322],\n",
       "        [ 0.2671,  0.4584, -0.3968,  0.1990],\n",
       "        [-0.0042,  0.4970, -0.0663,  0.2106],\n",
       "        [ 0.0571, -0.4672, -0.3439, -0.2352],\n",
       "        [-0.3504, -0.2263, -0.3864,  0.4536],\n",
       "        [-0.4980,  0.4657,  0.4735, -0.4893],\n",
       "        [ 0.4946,  0.2168, -0.0788, -0.0902]], requires_grad=True)"
      ]
     },
     "execution_count": 32,
     "metadata": {},
     "output_type": "execute_result"
    }
   ],
   "execution_count": 32
  },
  {
   "metadata": {},
   "cell_type": "markdown",
   "source": "# 初始化参数",
   "id": "7a6ed7b2ff35d1f4"
  },
  {
   "metadata": {},
   "cell_type": "markdown",
   "source": [
    "内置初始化  \n",
    "torch.nn.init 此模块所有函数都用于初始化神经网络参数，且默认在nograd模式下运行，不会再autograd考虑在内  \n",
    "这个系列的函数都是一样 用数据填充输入的张量"
   ],
   "id": "e8e9154d011a1176"
  },
  {
   "metadata": {
    "ExecuteTime": {
     "end_time": "2025-04-10T04:30:24.989978Z",
     "start_time": "2025-04-10T04:30:24.986196Z"
    }
   },
   "cell_type": "code",
   "source": [
    "def init_normal(m):\n",
    "    if type(m) == nn.Linear:\n",
    "        nn.init.normal_(m.weight,mean=0,std=0.01)\n",
    "        nn.init.zeros_(m.bias)\n",
    "def init_constant(m):\n",
    "    if type(m) == nn.Linear:\n",
    "        nn.init.constant_(m.weight,1)\n",
    "        nn.init.zeros_(m.bias)"
   ],
   "id": "ebfaeb722cb89f10",
   "outputs": [],
   "execution_count": 33
  },
  {
   "metadata": {
    "ExecuteTime": {
     "end_time": "2025-04-10T04:30:25.179211Z",
     "start_time": "2025-04-10T04:30:25.173694Z"
    }
   },
   "cell_type": "code",
   "source": [
    "##利用apply 可以递归到每一个模型\n",
    "net.apply(init_normal)\n",
    "net[0].weight.data[0],net[0].bias.data[0]"
   ],
   "id": "ba0a8809528c8200",
   "outputs": [
    {
     "data": {
      "text/plain": [
       "(tensor([-0.0230, -0.0031,  0.0015, -0.0112]), tensor(0.))"
      ]
     },
     "execution_count": 34,
     "metadata": {},
     "output_type": "execute_result"
    }
   ],
   "execution_count": 34
  },
  {
   "metadata": {},
   "cell_type": "markdown",
   "source": "对不同块应用不同的初始化方法",
   "id": "7b011e9bc13f27c1"
  },
  {
   "metadata": {
    "ExecuteTime": {
     "end_time": "2025-04-10T04:30:25.525179Z",
     "start_time": "2025-04-10T04:30:25.518541Z"
    }
   },
   "cell_type": "code",
   "source": [
    "def xavier_init(m):\n",
    "    if type(m) == nn.Linear:\n",
    "        nn.init.xavier_normal_(m.weight)\n",
    "def init_42(m):\n",
    "    if isinstance(m, nn.Linear):\n",
    "        nn.init.constant_(m.weight, 42)\n",
    "        \n",
    "net[0].apply(xavier_init)\n",
    "net[2].apply(init_42)\n",
    "print(net[0].state_dict()['weight'])\n",
    "print(net[2].state_dict()['weight'])"
   ],
   "id": "e595e8cf91b240cc",
   "outputs": [
    {
     "name": "stdout",
     "output_type": "stream",
     "text": [
      "tensor([[ 0.6958, -0.3158,  0.1149,  0.0274],\n",
      "        [-0.6071, -0.3464,  0.0849,  0.4299],\n",
      "        [-0.0868, -0.1794, -0.3062,  0.0750],\n",
      "        [-0.2680, -0.2814,  0.0599,  0.6728],\n",
      "        [ 0.8363, -0.2923,  0.2463,  0.3940],\n",
      "        [-0.0057,  0.0208,  0.3185,  0.2744],\n",
      "        [-0.0830, -0.2051, -0.2553, -0.6667],\n",
      "        [ 0.3550,  0.4911,  0.5734,  0.0807]])\n",
      "tensor([[42., 42., 42., 42., 42., 42., 42., 42.]])\n"
     ]
    }
   ],
   "execution_count": 35
  },
  {
   "metadata": {},
   "cell_type": "markdown",
   "source": [
    "自定义初始化  \n",
    "定义一个初始化函数做想做的事情"
   ],
   "id": "1457a2070eeda44a"
  },
  {
   "metadata": {
    "ExecuteTime": {
     "end_time": "2025-04-10T04:30:26.852352Z",
     "start_time": "2025-04-10T04:30:26.847902Z"
    }
   },
   "cell_type": "code",
   "source": [
    "def my_init(m):\n",
    "    if type(m) == nn.Linear:\n",
    "        print(\"init\",\n",
    "              *[(name,param.shape) for name,param in m.named_parameters()]\n",
    "              )\n",
    "        nn.init.uniform_(m.weight, -0.1, 0.1)\n",
    "        m.weight.data *=m.weight.data.abs()>=5\n"
   ],
   "id": "4287e68b7e5be32b",
   "outputs": [],
   "execution_count": 36
  },
  {
   "metadata": {
    "ExecuteTime": {
     "end_time": "2025-04-10T04:30:59.713372Z",
     "start_time": "2025-04-10T04:30:59.707524Z"
    }
   },
   "cell_type": "code",
   "source": "net.apply(my_init)",
   "id": "11dbb06e5db59a5",
   "outputs": [
    {
     "name": "stdout",
     "output_type": "stream",
     "text": [
      "init ('weight', torch.Size([8, 4])) ('bias', torch.Size([8]))\n",
      "init ('weight', torch.Size([1, 8])) ('bias', torch.Size([1]))\n"
     ]
    },
    {
     "data": {
      "text/plain": [
       "Sequential(\n",
       "  (0): Linear(in_features=4, out_features=8, bias=True)\n",
       "  (1): ReLU()\n",
       "  (2): Linear(in_features=8, out_features=1, bias=True)\n",
       ")"
      ]
     },
     "execution_count": 39,
     "metadata": {},
     "output_type": "execute_result"
    }
   ],
   "execution_count": 39
  },
  {
   "metadata": {},
   "cell_type": "markdown",
   "source": "也可以直接操作修改参数",
   "id": "35f0b1f2b6af8556"
  },
  {
   "metadata": {
    "ExecuteTime": {
     "end_time": "2025-04-10T04:33:28.240881Z",
     "start_time": "2025-04-10T04:33:28.235125Z"
    }
   },
   "cell_type": "code",
   "source": [
    "net[0].state_dict()['weight'][0][0]=42\n",
    "net[0].state_dict()['weight']"
   ],
   "id": "7a1c59c0f95492e6",
   "outputs": [
    {
     "data": {
      "text/plain": [
       "tensor([[42., -0.,  0., -0.],\n",
       "        [-0., -0., -0.,  0.],\n",
       "        [-0., -0.,  0., -0.],\n",
       "        [ 0.,  0.,  0.,  0.],\n",
       "        [ 0.,  0., -0.,  0.],\n",
       "        [ 0., -0.,  0., -0.],\n",
       "        [ 0.,  0.,  0., -0.],\n",
       "        [-0.,  0.,  0.,  0.]])"
      ]
     },
     "execution_count": 50,
     "metadata": {},
     "output_type": "execute_result"
    }
   ],
   "execution_count": 50
  },
  {
   "metadata": {
    "ExecuteTime": {
     "end_time": "2025-04-10T04:33:44.268037Z",
     "start_time": "2025-04-10T04:33:44.261384Z"
    }
   },
   "cell_type": "code",
   "source": [
    "net[0].state_dict()['weight']+=1\n",
    "net[0].state_dict()['weight']"
   ],
   "id": "58b949caa347a983",
   "outputs": [
    {
     "data": {
      "text/plain": [
       "tensor([[44.,  2.,  2.,  2.],\n",
       "        [ 2.,  2.,  2.,  2.],\n",
       "        [ 2.,  2.,  2.,  2.],\n",
       "        [ 2.,  2.,  2.,  2.],\n",
       "        [ 2.,  2.,  2.,  2.],\n",
       "        [ 2.,  2.,  2.,  2.],\n",
       "        [ 2.,  2.,  2.,  2.],\n",
       "        [ 2.,  2.,  2.,  2.]])"
      ]
     },
     "execution_count": 53,
     "metadata": {},
     "output_type": "execute_result"
    }
   ],
   "execution_count": 53
  },
  {
   "metadata": {},
   "cell_type": "markdown",
   "source": [
    "# 参数绑定  \n",
    "### 目的是在不同的层之间共享权重，要变一起变，完全一样"
   ],
   "id": "12a8ddb33ac3f6c7"
  },
  {
   "metadata": {
    "ExecuteTime": {
     "end_time": "2025-04-10T04:37:21.229716Z",
     "start_time": "2025-04-10T04:37:21.224211Z"
    }
   },
   "cell_type": "code",
   "source": [
    "##首先构造一个需要share的权重\n",
    "shared=nn.Linear(8,8)\n",
    "net=nn.Sequential(nn.Linear(4,8),nn.ReLU(),shared,nn.ReLU(),shared,nn.ReLU(),nn.Linear(8,1))"
   ],
   "id": "34c5e82e72c05855",
   "outputs": [],
   "execution_count": 54
  },
  {
   "metadata": {
    "ExecuteTime": {
     "end_time": "2025-04-10T04:38:09.194058Z",
     "start_time": "2025-04-10T04:38:09.190909Z"
    }
   },
   "cell_type": "code",
   "source": "x=torch.randn((1,4))",
   "id": "2b5d10e663aba242",
   "outputs": [],
   "execution_count": 57
  },
  {
   "metadata": {
    "ExecuteTime": {
     "end_time": "2025-04-10T04:39:10.386789Z",
     "start_time": "2025-04-10T04:39:10.379972Z"
    }
   },
   "cell_type": "code",
   "source": "net[2].weight.data==net[4].weight.data",
   "id": "2923da917355ef2b",
   "outputs": [
    {
     "data": {
      "text/plain": [
       "tensor([[True, True, True, True, True, True, True, True],\n",
       "        [True, True, True, True, True, True, True, True],\n",
       "        [True, True, True, True, True, True, True, True],\n",
       "        [True, True, True, True, True, True, True, True],\n",
       "        [True, True, True, True, True, True, True, True],\n",
       "        [True, True, True, True, True, True, True, True],\n",
       "        [True, True, True, True, True, True, True, True],\n",
       "        [True, True, True, True, True, True, True, True]])"
      ]
     },
     "execution_count": 65,
     "metadata": {},
     "output_type": "execute_result"
    }
   ],
   "execution_count": 65
  },
  {
   "metadata": {},
   "cell_type": "code",
   "outputs": [],
   "execution_count": null,
   "source": "",
   "id": "c7e00da1bb112d83"
  }
 ],
 "metadata": {
  "kernelspec": {
   "display_name": "Python 3",
   "language": "python",
   "name": "python3"
  },
  "language_info": {
   "codemirror_mode": {
    "name": "ipython",
    "version": 2
   },
   "file_extension": ".py",
   "mimetype": "text/x-python",
   "name": "python",
   "nbconvert_exporter": "python",
   "pygments_lexer": "ipython2",
   "version": "2.7.6"
  }
 },
 "nbformat": 4,
 "nbformat_minor": 5
}
