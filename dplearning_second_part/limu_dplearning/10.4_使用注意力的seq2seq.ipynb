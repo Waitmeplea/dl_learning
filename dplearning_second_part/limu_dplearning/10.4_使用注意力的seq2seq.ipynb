{
 "cells": [
  {
   "cell_type": "code",
   "id": "initial_id",
   "metadata": {
    "collapsed": true,
    "ExecuteTime": {
     "end_time": "2025-05-11T07:23:36.929678Z",
     "start_time": "2025-05-11T07:23:35.557663Z"
    }
   },
   "source": [
    "import torch\n",
    "from torch import nn\n",
    "from utils.useful_func import *"
   ],
   "outputs": [],
   "execution_count": 42
  },
  {
   "metadata": {},
   "cell_type": "markdown",
   "source": "# Bahdanau 注意力 只需要修改decoder部分",
   "id": "f5129c8ec1ef9a57"
  },
  {
   "metadata": {
    "ExecuteTime": {
     "end_time": "2025-05-11T07:25:34.874285Z",
     "start_time": "2025-05-11T07:25:34.871378Z"
    }
   },
   "cell_type": "code",
   "source": [
    "class AttentionDecoder(Decoder):\n",
    "    \"\"\"带有注意力机制解码器的基本接口\"\"\"\n",
    "    def __init__(self,**kwargs):\n",
    "        super(AttentionDecoder, self).__init__(**kwargs)\n",
    "    @property\n",
    "    def attention_weight(self):\n",
    "        raise NotImplementedError"
   ],
   "id": "900b715e6539cc60",
   "outputs": [],
   "execution_count": 46
  },
  {
   "metadata": {
    "ExecuteTime": {
     "end_time": "2025-05-11T07:25:35.187069Z",
     "start_time": "2025-05-11T07:25:35.185488Z"
    }
   },
   "cell_type": "code",
   "source": [
    "class Seq2SeqAttentionDecoder(AttentionDecoder):\n",
    "    def __init__(self,vocab_size,embed_size,num_hiddens,num_layers,dropout=0,**kwargs):\n",
    "        super(Seq2SeqAttentionDecoder, self).__init__(**kwargs)\n",
    "        self.attention="
   ],
   "id": "40a1b347a1b82404",
   "outputs": [],
   "execution_count": null
  },
  {
   "metadata": {},
   "cell_type": "code",
   "outputs": [],
   "execution_count": null,
   "source": "",
   "id": "1f56c62762fc6b3b"
  }
 ],
 "metadata": {
  "kernelspec": {
   "display_name": "Python 3",
   "language": "python",
   "name": "python3"
  },
  "language_info": {
   "codemirror_mode": {
    "name": "ipython",
    "version": 2
   },
   "file_extension": ".py",
   "mimetype": "text/x-python",
   "name": "python",
   "nbconvert_exporter": "python",
   "pygments_lexer": "ipython2",
   "version": "2.7.6"
  }
 },
 "nbformat": 4,
 "nbformat_minor": 5
}
