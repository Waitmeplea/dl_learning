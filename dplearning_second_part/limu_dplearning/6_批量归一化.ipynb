{
 "cells": [
  {
   "cell_type": "code",
   "id": "initial_id",
   "metadata": {
    "collapsed": true,
    "ExecuteTime": {
     "end_time": "2025-04-20T03:22:46.526035Z",
     "start_time": "2025-04-20T03:22:42.750378Z"
    }
   },
   "source": [
    "import torch\n",
    "from torch import nn\n"
   ],
   "outputs": [],
   "execution_count": 1
  },
  {
   "metadata": {
    "ExecuteTime": {
     "end_time": "2025-04-20T03:25:34.096036Z",
     "start_time": "2025-04-20T03:25:34.090068Z"
    }
   },
   "cell_type": "code",
   "source": "torch.is_grad_enabled()",
   "id": "1956a9cdc05b931e",
   "outputs": [
    {
     "data": {
      "text/plain": [
       "True"
      ]
     },
     "execution_count": 2,
     "metadata": {},
     "output_type": "execute_result"
    }
   ],
   "execution_count": 2
  },
  {
   "metadata": {
    "ExecuteTime": {
     "end_time": "2025-04-20T07:12:46.683804Z",
     "start_time": "2025-04-20T07:12:46.677648Z"
    }
   },
   "cell_type": "code",
   "source": "x=torch.randn(2,3,4,5)",
   "id": "aaf9c69776bb12d8",
   "outputs": [],
   "execution_count": 3
  },
  {
   "metadata": {},
   "cell_type": "code",
   "outputs": [],
   "execution_count": null,
   "source": "",
   "id": "f518156c0e2ac393"
  },
  {
   "metadata": {},
   "cell_type": "code",
   "outputs": [],
   "execution_count": null,
   "source": [
    "def batch_norm(X,gamma,beta,moving_mean,moving_var,eps,momentum):\n",
    "    #如果没有在计算梯度\n",
    "    if not torch.is_grad_enabled():\n",
    "        x_hat = (X-moving_mean)/torch.sqrt(moving_var+eps)\n",
    "    else:\n",
    "        assert len(X.shape) in (2,4)\n",
    "        if len(X.shape)==2:\n",
    "             mean=X.mean(dim=0)\n",
    "             var=((X-mean)**2).mean(dim=0)\n",
    "        else:\n",
    "            mean=X.mean(dim=(0,2,3),keepdims=True)\n",
    "            var=((X-mean)**2).mean(dim=(0,2,3),keepdims=True)\n",
    "        X_hat=(X-mean)/torch.sqrt(var+eps)\n",
    "        moving_mean=momentum*moving_mean+(1-momentum)*mean\n",
    "        moving_var=momentum*moving_var+(1-momentum)*var\n"
   ],
   "id": "a22a6030554d89cc"
  }
 ],
 "metadata": {
  "kernelspec": {
   "display_name": "Python 3",
   "language": "python",
   "name": "python3"
  },
  "language_info": {
   "codemirror_mode": {
    "name": "ipython",
    "version": 2
   },
   "file_extension": ".py",
   "mimetype": "text/x-python",
   "name": "python",
   "nbconvert_exporter": "python",
   "pygments_lexer": "ipython2",
   "version": "2.7.6"
  }
 },
 "nbformat": 4,
 "nbformat_minor": 5
}
