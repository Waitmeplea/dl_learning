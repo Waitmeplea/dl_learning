{
 "cells": [
  {
   "cell_type": "code",
   "id": "initial_id",
   "metadata": {
    "collapsed": true,
    "ExecuteTime": {
     "end_time": "2025-04-09T12:53:22.765066Z",
     "start_time": "2025-04-09T12:53:20.395496Z"
    }
   },
   "source": [
    "import torch\n",
    "from torch import nn\n",
    "from torch.nn import functional as F"
   ],
   "outputs": [],
   "execution_count": 1
  },
  {
   "metadata": {
    "ExecuteTime": {
     "end_time": "2025-04-09T12:58:58.412666Z",
     "start_time": "2025-04-09T12:58:58.408321Z"
    }
   },
   "cell_type": "code",
   "source": [
    "class MySequential(nn.Module):\n",
    "    def __init__(self,*layers):\n",
    "        super(MySequential, self).__init__()\n",
    "\n",
    "        for i,layer in enumerate(layers):\n",
    "            self._modules[str(i)]=layer\n",
    "    def forward(self, input):\n",
    "        for block in self._modules.values():\n",
    "            input=block(input)\n",
    "        return input"
   ],
   "id": "4ef419bfab4c9da3",
   "outputs": [],
   "execution_count": 5
  },
  {
   "metadata": {},
   "cell_type": "markdown",
   "source": [
    "在正向传播函数中执行代码\n",
    "正向传播中随便改 反向传播自动保留计算图 直接backward就行"
   ],
   "id": "166569a12706dbab"
  },
  {
   "metadata": {
    "ExecuteTime": {
     "end_time": "2025-04-09T13:03:21.741017Z",
     "start_time": "2025-04-09T13:03:21.736706Z"
    }
   },
   "cell_type": "code",
   "source": [
    "\n",
    "class FixedHiddenMLP(nn.Module):\n",
    "    def __init__(self):\n",
    "        super(FixedHiddenMLP, self).__init__()\n",
    "        self.rand_weight = torch.rand((20,20),requires_grad=True)\n",
    "        self.linear = nn.Linear(20,20)\n",
    "    def forward(self, x):\n",
    "        x=self.linear(x)\n",
    "        x=F.relu(torch.mm(x,self.rand_weight)+1)\n",
    "        x=self.linear(x)\n",
    "        while x.abs().sum()>0.00001:\n",
    "            x/=2\n",
    "        return x.sum()"
   ],
   "id": "57f1e5e215c709ba",
   "outputs": [],
   "execution_count": 6
  },
  {
   "metadata": {
    "ExecuteTime": {
     "end_time": "2025-04-09T13:03:43.863776Z",
     "start_time": "2025-04-09T13:03:43.842784Z"
    }
   },
   "cell_type": "code",
   "source": "f=FixedHiddenMLP()\n",
   "id": "5919a8b4efe9d841",
   "outputs": [],
   "execution_count": 7
  },
  {
   "metadata": {
    "ExecuteTime": {
     "end_time": "2025-04-09T13:03:52.211877Z",
     "start_time": "2025-04-09T13:03:52.188322Z"
    }
   },
   "cell_type": "code",
   "source": "f(x)",
   "id": "8d7b261cdc852ab2",
   "outputs": [
    {
     "data": {
      "text/plain": [
       "tensor(2.3689e-06, grad_fn=<SumBackward0>)"
      ]
     },
     "execution_count": 9,
     "metadata": {},
     "output_type": "execute_result"
    }
   ],
   "execution_count": 9
  },
  {
   "metadata": {},
   "cell_type": "markdown",
   "source": "可以混合sequential 和任何模型 达到自己想要的模型",
   "id": "33d5f25f813c5e9a"
  },
  {
   "metadata": {
    "ExecuteTime": {
     "end_time": "2025-04-09T13:07:29.455866Z",
     "start_time": "2025-04-09T13:07:29.450751Z"
    }
   },
   "cell_type": "code",
   "source": [
    "class NestMlp(nn.Module):\n",
    "    def __init__(self):\n",
    "        super(NestMlp, self).__init__()\n",
    "        self.net=nn.Sequential(nn.Linear(20,20),nn.ReLU(),nn.Linear(20,20),nn.ReLU(),nn.Linear(20,20))\n",
    "        self.Linear = nn.Linear(20,20)\n",
    "    def forward(self, x):\n",
    "        return self.Linear(self.net(x))"
   ],
   "id": "bac8ad179bfbab07",
   "outputs": [],
   "execution_count": 10
  },
  {
   "metadata": {
    "ExecuteTime": {
     "end_time": "2025-04-09T13:08:36.208518Z",
     "start_time": "2025-04-09T13:08:36.205318Z"
    }
   },
   "cell_type": "code",
   "source": "chimear=nn.Sequential(NestMlp(),nn.Linear(20,20),nn.ReLU(),nn.Linear(20,20),nn.ReLU(),nn.Linear(20,1))",
   "id": "d51ec1c97ee4e756",
   "outputs": [],
   "execution_count": 11
  },
  {
   "metadata": {
    "ExecuteTime": {
     "end_time": "2025-04-09T13:09:21.744360Z",
     "start_time": "2025-04-09T13:09:21.741366Z"
    }
   },
   "cell_type": "code",
   "source": [
    "x=torch.randn(1,20)\n",
    "print(chimear(x))"
   ],
   "id": "77fc74a31d4e0bd5",
   "outputs": [
    {
     "name": "stdout",
     "output_type": "stream",
     "text": [
      "tensor([[0.0097]], grad_fn=<AddmmBackward0>)\n"
     ]
    }
   ],
   "execution_count": 14
  },
  {
   "metadata": {},
   "cell_type": "code",
   "outputs": [],
   "execution_count": null,
   "source": "x",
   "id": "74882eb5d0de66dd"
  }
 ],
 "metadata": {
  "kernelspec": {
   "display_name": "Python 3",
   "language": "python",
   "name": "python3"
  },
  "language_info": {
   "codemirror_mode": {
    "name": "ipython",
    "version": 2
   },
   "file_extension": ".py",
   "mimetype": "text/x-python",
   "name": "python",
   "nbconvert_exporter": "python",
   "pygments_lexer": "ipython2",
   "version": "2.7.6"
  }
 },
 "nbformat": 4,
 "nbformat_minor": 5
}
