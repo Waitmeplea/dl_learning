{
 "cells": [
  {
   "metadata": {},
   "cell_type": "markdown",
   "source": [
    "残差神经网络思想：只有当较复杂的函数类包含较小的函数类时，我们才能确保提高它们的性能。 对于深度神经网络，如果我们能将新添加的层训练成恒等映射（identity function）\n",
    "，新模型和原模型将同样有效。 同时，由于新模型可能得出更优的解来拟合训练数据集，因此添加层似乎更容易降低训练误差。\n",
    "\n",
    " 残差网络的核心思想是：每个附加层都应该更容易地包含原始函数作为其元素之一。 于是，残差块（residual blocks）便诞生了，这个设计对如何建立深层神经网络产生了深远的影响。"
   ],
   "id": "5a4637ca369cfc37"
  },
  {
   "metadata": {
    "ExecuteTime": {
     "end_time": "2025-04-22T09:45:29.376443Z",
     "start_time": "2025-04-22T09:45:29.369995Z"
    }
   },
   "cell_type": "code",
   "source": [
    "from torch import nn\n",
    "from torch.nn import functional as F\n",
    "import torch\n",
    "\n",
    "\n",
    "class Residual(nn.Module):\n",
    "    def __init__(self, input_channels, num_channels,use_1x1conv=False,strides=1):\n",
    "        super(Residual, self).__init__()\n",
    "        self.conv1=nn.Conv2d(in_channels=input_channels,out_channels=num_channels,kernel_size=3,stride=strides,padding=1)\n",
    "        self.conv2=nn.Conv2d(in_channels=num_channels,out_channels=num_channels,kernel_size=3,stride=1,padding=1)\n",
    "        self.relu=nn.ReLU(inplace=True)\n",
    "        if use_1x1conv:\n",
    "            ##大小必须要跟上面的一样 因此 strides要继承\n",
    "            self.conv3=nn.Conv2d(in_channels=input_channels,out_channels=num_channels,kernel_size=3,stride=strides,padding=1)\n",
    "        else:\n",
    "            self.conv3=None\n",
    "        self.bn1=nn.BatchNorm2d(num_features=num_channels)\n",
    "        self.bn2=nn.BatchNorm2d(num_features=num_channels)\n",
    "    def forward(self, x):\n",
    "        y=F.relu(self.bn1(self.conv1(x)))\n",
    "        y=self.bn2(self.conv2(y))\n",
    "        if self.conv3:\n",
    "            x=self.conv3(x)\n",
    "        y=y+x\n",
    "        return self.relu(y)\n",
    "        "
   ],
   "id": "fa93bcdf64339656",
   "outputs": [],
   "execution_count": 34
  },
  {
   "metadata": {
    "ExecuteTime": {
     "end_time": "2025-04-22T09:45:29.690208Z",
     "start_time": "2025-04-22T09:45:29.686165Z"
    }
   },
   "cell_type": "code",
   "source": "blk=Residual(3,3)",
   "id": "dd07f030916b8b06",
   "outputs": [],
   "execution_count": 35
  },
  {
   "metadata": {
    "ExecuteTime": {
     "end_time": "2025-04-22T09:45:29.990491Z",
     "start_time": "2025-04-22T09:45:29.986391Z"
    }
   },
   "cell_type": "code",
   "source": [
    "x=torch.rand(4,3,6,6)\n",
    "y=blk(x)"
   ],
   "id": "ed46086b87480a58",
   "outputs": [],
   "execution_count": 36
  },
  {
   "metadata": {
    "ExecuteTime": {
     "end_time": "2025-04-22T09:45:30.160753Z",
     "start_time": "2025-04-22T09:45:30.156204Z"
    }
   },
   "cell_type": "code",
   "source": "y.shape",
   "id": "dad1dd88f8fe1a7a",
   "outputs": [
    {
     "data": {
      "text/plain": [
       "torch.Size([4, 3, 6, 6])"
      ]
     },
     "execution_count": 37,
     "metadata": {},
     "output_type": "execute_result"
    }
   ],
   "execution_count": 37
  },
  {
   "metadata": {
    "ExecuteTime": {
     "end_time": "2025-04-22T09:45:30.311573Z",
     "start_time": "2025-04-22T09:45:30.307109Z"
    }
   },
   "cell_type": "code",
   "source": [
    "b1=nn.Sequential(nn.Conv2d(1,64,kernel_size=7,stride=2,padding=3),nn.BatchNorm2d(64),nn.ReLU()\n",
    "                 ,nn.MaxPool2d(kernel_size=3,stride=2,padding=1))\n",
    "\n",
    "def resnet_block(in_channels,out_channels,num_residuals,first_block=False):\n",
    "    blk=[]\n",
    "    for i in range(num_residuals):\n",
    "        if i==0 and not first_block:\n",
    "            blk.append(Residual(in_channels,out_channels,use_1x1conv=True,strides=2))\n",
    "        else:\n",
    "            blk.append(Residual(out_channels,out_channels))\n",
    "    return blk"
   ],
   "id": "e590f965a14d972e",
   "outputs": [],
   "execution_count": 38
  },
  {
   "metadata": {
    "ExecuteTime": {
     "end_time": "2025-04-22T09:45:30.810638Z",
     "start_time": "2025-04-22T09:45:30.715990Z"
    }
   },
   "cell_type": "code",
   "source": [
    "b2 = nn.Sequential(*resnet_block(64, 64, 2, first_block=True))\n",
    "b3 = nn.Sequential(*resnet_block(64, 128, 2))\n",
    "b4 = nn.Sequential(*resnet_block(128, 256, 2))\n",
    "b5 = nn.Sequential(*resnet_block(256, 512, 2))\n",
    "net=nn.Sequential(b1,b2,b3,b4,b5,nn.AdaptiveAvgPool2d(1),nn.Flatten(),nn.Linear(512,10))"
   ],
   "id": "e3155ddc62638b6a",
   "outputs": [],
   "execution_count": 39
  },
  {
   "metadata": {
    "ExecuteTime": {
     "end_time": "2025-04-22T09:45:30.994946Z",
     "start_time": "2025-04-22T09:45:30.934984Z"
    }
   },
   "cell_type": "code",
   "source": [
    "X = torch.rand(size=(1, 1, 224, 224))\n",
    "for layer in net:\n",
    "    X = layer(X)\n",
    "    print(layer.__class__.__name__,'output shape:\\t', X.shape)"
   ],
   "id": "2d6967caa9ba3efb",
   "outputs": [
    {
     "name": "stdout",
     "output_type": "stream",
     "text": [
      "Sequential output shape:\t torch.Size([1, 64, 56, 56])\n",
      "Sequential output shape:\t torch.Size([1, 64, 56, 56])\n",
      "Sequential output shape:\t torch.Size([1, 128, 28, 28])\n",
      "Sequential output shape:\t torch.Size([1, 256, 14, 14])\n",
      "Sequential output shape:\t torch.Size([1, 512, 7, 7])\n",
      "AdaptiveAvgPool2d output shape:\t torch.Size([1, 512, 1, 1])\n",
      "Flatten output shape:\t torch.Size([1, 512])\n",
      "Linear output shape:\t torch.Size([1, 10])\n"
     ]
    }
   ],
   "execution_count": 40
  },
  {
   "metadata": {},
   "cell_type": "code",
   "outputs": [],
   "execution_count": null,
   "source": "",
   "id": "d097a37dd0f327e0"
  }
 ],
 "metadata": {
  "kernelspec": {
   "display_name": "Python 3",
   "language": "python",
   "name": "python3"
  },
  "language_info": {
   "codemirror_mode": {
    "name": "ipython",
    "version": 2
   },
   "file_extension": ".py",
   "mimetype": "text/x-python",
   "name": "python",
   "nbconvert_exporter": "python",
   "pygments_lexer": "ipython2",
   "version": "2.7.6"
  }
 },
 "nbformat": 4,
 "nbformat_minor": 5
}
