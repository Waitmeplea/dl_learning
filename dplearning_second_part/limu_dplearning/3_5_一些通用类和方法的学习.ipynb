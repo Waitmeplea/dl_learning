{
 "cells": [
  {
   "cell_type": "code",
   "id": "initial_id",
   "metadata": {
    "collapsed": true,
    "ExecuteTime": {
     "end_time": "2025-04-07T02:06:47.435164Z",
     "start_time": "2025-04-07T02:06:44.561560Z"
    }
   },
   "source": [
    "import torch\n",
    "import matplotlib.pyplot as plt"
   ],
   "outputs": [],
   "execution_count": 1
  },
  {
   "metadata": {
    "ExecuteTime": {
     "end_time": "2025-04-07T02:06:50.879148Z",
     "start_time": "2025-04-07T02:06:50.871817Z"
    }
   },
   "cell_type": "code",
   "source": [
    "class Accumulator():\n",
    "    def __init__(self,n):\n",
    "        self.data=[0.0]*n\n",
    "    def add(self,input_data):\n",
    "      self.data=[a+float(b)  for a,b in zip(self.data,input_data)]\n",
    "        \n",
    "    def reset(self):\n",
    "        self.data=[0.0]*len(self.data)\n",
    "        \n",
    "    def __getitem__(self, index):\n",
    "        return self.data[index]\n",
    "    \n",
    "def accuracy(output, target):\n",
    "    \"\"\" 计算预测正确的数量 \"\"\"\n",
    "    if len(output) != len(target):\n",
    "        return torch.argmax(output,dim=1).eq(target).float().sum()\n",
    "    else:\n",
    "        return output.eq(target).float().sum()\n",
    "    \n",
    "    \n",
    "def evaluate_accuracy(net, data_loader):\n",
    "    if isinstance(net, torch.nn.Module):\n",
    "        net.eval()\n",
    "    metric = Accumulator(2)\n",
    "    for batch_idx, (inputs, targets) in enumerate(data_loader):\n",
    "        out=net.forward(inputs)\n",
    "        acc=accuracy(out,targets)\n",
    "        metric.add(acc,targets.numel())\n",
    "    return metric[0]/metric[1]\n"
   ],
   "id": "4c41578903a04cdf",
   "outputs": [],
   "execution_count": 2
  },
  {
   "metadata": {
    "ExecuteTime": {
     "end_time": "2025-04-07T02:28:05.705942Z",
     "start_time": "2025-04-07T02:28:05.596053Z"
    }
   },
   "cell_type": "code",
   "source": [
    "plt.figure(figsize=(6,3))\n",
    "plt.plot([0,1],[0,1], linestyle='--',color='black')"
   ],
   "id": "12f36c17c09aa98d",
   "outputs": [
    {
     "data": {
      "text/plain": [
       "[<matplotlib.lines.Line2D at 0x1a3f71d42d0>]"
      ]
     },
     "execution_count": 13,
     "metadata": {},
     "output_type": "execute_result"
    },
    {
     "data": {
      "text/plain": [
       "<Figure size 600x300 with 1 Axes>"
      ],
      "image/png": "[encoded data removed]"
     },
     "metadata": {},
     "output_type": "display_data"
    }
   ],
   "execution_count": 13
  },
  {
   "metadata": {
    "ExecuteTime": {
     "end_time": "2025-04-07T01:37:40.702791Z",
     "start_time": "2025-04-07T01:37:40.698083Z"
    }
   },
   "cell_type": "code",
   "source": "x=torch.tensor([[1,2,3],[4,5,6],[7,8,9]])",
   "id": "3949d84461aa6c07",
   "outputs": [],
   "execution_count": 17
  },
  {
   "metadata": {},
   "cell_type": "code",
   "outputs": [],
   "execution_count": null,
   "source": "",
   "id": "6f3cf930f833938c"
  }
 ],
 "metadata": {
  "kernelspec": {
   "display_name": "Python 3",
   "language": "python",
   "name": "python3"
  },
  "language_info": {
   "codemirror_mode": {
    "name": "ipython",
    "version": 2
   },
   "file_extension": ".py",
   "mimetype": "text/x-python",
   "name": "python",
   "nbconvert_exporter": "python",
   "pygments_lexer": "ipython2",
   "version": "2.7.6"
  }
 },
 "nbformat": 4,
 "nbformat_minor": 5
}
