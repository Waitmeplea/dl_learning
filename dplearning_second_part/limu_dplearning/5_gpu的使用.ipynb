{
 "cells": [
  {
   "cell_type": "code",
   "id": "initial_id",
   "metadata": {
    "collapsed": true,
    "ExecuteTime": {
     "end_time": "2025-04-11T07:39:20.293251Z",
     "start_time": "2025-04-11T07:39:17.278058Z"
    }
   },
   "source": [
    "import torch\n",
    "import torchvision\n",
    "from torch import nn\n",
    "\n",
    "torch.device('cpu'), torch.device('cuda'), torch.device('cuda:1')"
   ],
   "outputs": [
    {
     "data": {
      "text/plain": [
       "(device(type='cpu'), device(type='cuda'), device(type='cuda', index=1))"
      ]
     },
     "execution_count": 2,
     "metadata": {},
     "output_type": "execute_result"
    }
   ],
   "execution_count": 2
  },
  {
   "metadata": {
    "ExecuteTime": {
     "end_time": "2025-04-11T07:39:20.299561Z",
     "start_time": "2025-04-11T07:39:20.294255Z"
    }
   },
   "cell_type": "code",
   "source": "torch.device('cuda:1')",
   "id": "6008dd57a8e59ec7",
   "outputs": [
    {
     "data": {
      "text/plain": [
       "device(type='cuda', index=1)"
      ]
     },
     "execution_count": 3,
     "metadata": {},
     "output_type": "execute_result"
    }
   ],
   "execution_count": 3
  },
  {
   "metadata": {},
   "cell_type": "markdown",
   "source": "# 查看有多少gpu可用",
   "id": "3a869dbbe592ba9"
  },
  {
   "metadata": {
    "ExecuteTime": {
     "end_time": "2025-04-11T07:39:20.304882Z",
     "start_time": "2025-04-11T07:39:20.300564Z"
    }
   },
   "cell_type": "code",
   "source": "torch.cuda.device_count()",
   "id": "d3bee9a9cd81dbbc",
   "outputs": [
    {
     "data": {
      "text/plain": [
       "0"
      ]
     },
     "execution_count": 4,
     "metadata": {},
     "output_type": "execute_result"
    }
   ],
   "execution_count": 4
  },
  {
   "metadata": {
    "ExecuteTime": {
     "end_time": "2025-04-11T07:41:37.383577Z",
     "start_time": "2025-04-11T07:41:37.379223Z"
    }
   },
   "cell_type": "code",
   "source": [
    "def try_gpu(i=0):\n",
    "    if torch.cuda.device_count() >=i+1:\n",
    "        return torch.device(f'cuda:{i}')\n",
    "    return torch.device(f'cpu')\n",
    "def try_all_cpu():\n",
    "    if torch.cuda.is_available():\n",
    "        device=[torch.device(f'cuda:{i}') for i in range(torch.cuda.device_count())]\n",
    "        return device\n",
    "    else:\n",
    "        return [torch.device('cpu')]"
   ],
   "id": "1750f936b873a066",
   "outputs": [],
   "execution_count": 12
  },
  {
   "metadata": {},
   "cell_type": "markdown",
   "source": "张量与cpu",
   "id": "bbea1b557081a64a"
  },
  {
   "metadata": {
    "ExecuteTime": {
     "end_time": "2025-04-11T07:41:44.719884Z",
     "start_time": "2025-04-11T07:41:44.715195Z"
    }
   },
   "cell_type": "code",
   "source": [
    "x=torch.tensor([1,2,3])\n",
    "##查询张量所在设备\n",
    "x.device"
   ],
   "id": "ca985c9ed55f1094",
   "outputs": [
    {
     "data": {
      "text/plain": [
       "device(type='cpu')"
      ]
     },
     "execution_count": 15,
     "metadata": {},
     "output_type": "execute_result"
    }
   ],
   "execution_count": 15
  },
  {
   "metadata": {
    "ExecuteTime": {
     "end_time": "2025-04-11T07:41:45.130948Z",
     "start_time": "2025-04-11T07:41:45.128141Z"
    }
   },
   "cell_type": "code",
   "source": "y=torch.tensor([4,5,6],device=try_gpu())",
   "id": "19f2ddd19c1e21ad",
   "outputs": [],
   "execution_count": 16
  },
  {
   "metadata": {
    "ExecuteTime": {
     "end_time": "2025-04-11T07:41:50.864401Z",
     "start_time": "2025-04-11T07:41:50.859697Z"
    }
   },
   "cell_type": "code",
   "source": "y.device",
   "id": "912aa1a86c17b4f3",
   "outputs": [
    {
     "data": {
      "text/plain": [
       "device(type='cpu')"
      ]
     },
     "execution_count": 18,
     "metadata": {},
     "output_type": "execute_result"
    }
   ],
   "execution_count": 18
  },
  {
   "metadata": {},
   "cell_type": "markdown",
   "source": "张量复制",
   "id": "8b1319ea13482034"
  },
  {
   "metadata": {},
   "cell_type": "markdown",
   "source": "两个张量不在一个设备上的时候无法进行运算",
   "id": "96dbe953b2fb4b09"
  },
  {
   "metadata": {
    "ExecuteTime": {
     "end_time": "2025-04-11T07:46:21.639268Z",
     "start_time": "2025-04-11T07:46:21.578530Z"
    }
   },
   "cell_type": "code",
   "source": [
    "x.cuda(0)##这样不会把x移动到其他设备上 必须要赋值给别的变量\n",
    "z=x.cuda(1)## 这种方式可以把x挪到cuda1上 但是用z接受"
   ],
   "id": "6f364db320c7b85",
   "outputs": [
    {
     "ename": "RuntimeError",
     "evalue": "Cannot access accelerator device when none is available.",
     "output_type": "error",
     "traceback": [
      "\u001B[1;31m---------------------------------------------------------------------------\u001B[0m",
      "\u001B[1;31mRuntimeError\u001B[0m                              Traceback (most recent call last)",
      "Cell \u001B[1;32mIn[25], line 1\u001B[0m\n\u001B[1;32m----> 1\u001B[0m \u001B[43mx\u001B[49m\u001B[38;5;241;43m.\u001B[39;49m\u001B[43mcuda\u001B[49m\u001B[43m(\u001B[49m\u001B[38;5;241;43m0\u001B[39;49m\u001B[43m)\u001B[49m\n\u001B[0;32m      2\u001B[0m \u001B[38;5;66;03m##将x移动至第几个cuda上\u001B[39;00m\n",
      "\u001B[1;31mRuntimeError\u001B[0m: Cannot access accelerator device when none is available."
     ]
    }
   ],
   "execution_count": 25
  },
  {
   "metadata": {},
   "cell_type": "markdown",
   "source": "假设变量Z已经存在于第二个GPU上。 如果我们还是调用Z.cuda(1)会发生什么？ 它将返回Z，而不会复制并分配新内存。",
   "id": "38c9afefa1d4f978"
  },
  {
   "metadata": {},
   "cell_type": "code",
   "outputs": [],
   "execution_count": null,
   "source": "z.cuda(1) is z ##结果为真，说明这样并不会重新分配地址",
   "id": "5bb9151c21ef9e63"
  },
  {
   "metadata": {},
   "cell_type": "markdown",
   "source": "神经网络与gpu",
   "id": "d6f0088500fbb959"
  },
  {
   "metadata": {
    "ExecuteTime": {
     "end_time": "2025-04-11T08:05:33.313794Z",
     "start_time": "2025-04-11T08:05:33.300915Z"
    }
   },
   "cell_type": "code",
   "source": "net = nn.Sequential(nn.Linear(3, 1))",
   "id": "4d1e423e86b538cc",
   "outputs": [],
   "execution_count": 26
  },
  {
   "metadata": {
    "ExecuteTime": {
     "end_time": "2025-04-11T08:05:40.465907Z",
     "start_time": "2025-04-11T08:05:40.369375Z"
    }
   },
   "cell_type": "code",
   "source": "net.cuda(0)",
   "id": "ddf4dde96cbdd6b2",
   "outputs": [
    {
     "ename": "RuntimeError",
     "evalue": "Cannot access accelerator device when none is available.",
     "output_type": "error",
     "traceback": [
      "\u001B[1;31m---------------------------------------------------------------------------\u001B[0m",
      "\u001B[1;31mRuntimeError\u001B[0m                              Traceback (most recent call last)",
      "Cell \u001B[1;32mIn[27], line 1\u001B[0m\n\u001B[1;32m----> 1\u001B[0m \u001B[43mnet\u001B[49m\u001B[38;5;241;43m.\u001B[39;49m\u001B[43mcuda\u001B[49m\u001B[43m(\u001B[49m\u001B[38;5;241;43m0\u001B[39;49m\u001B[43m)\u001B[49m\n",
      "File \u001B[1;32mD:\\work softwar\\python\\Lib\\site-packages\\torch\\nn\\modules\\module.py:1053\u001B[0m, in \u001B[0;36mModule.cuda\u001B[1;34m(self, device)\u001B[0m\n\u001B[0;32m   1036\u001B[0m \u001B[38;5;28;01mdef\u001B[39;00m \u001B[38;5;21mcuda\u001B[39m(\u001B[38;5;28mself\u001B[39m: T, device: Optional[Union[\u001B[38;5;28mint\u001B[39m, device]] \u001B[38;5;241m=\u001B[39m \u001B[38;5;28;01mNone\u001B[39;00m) \u001B[38;5;241m-\u001B[39m\u001B[38;5;241m>\u001B[39m T:\n\u001B[0;32m   1037\u001B[0m \u001B[38;5;250m    \u001B[39m\u001B[38;5;124mr\u001B[39m\u001B[38;5;124;03m\"\"\"Move all model parameters and buffers to the GPU.\u001B[39;00m\n\u001B[0;32m   1038\u001B[0m \n\u001B[0;32m   1039\u001B[0m \u001B[38;5;124;03m    This also makes associated parameters and buffers different objects. So\u001B[39;00m\n\u001B[1;32m   (...)\u001B[0m\n\u001B[0;32m   1051\u001B[0m \u001B[38;5;124;03m        Module: self\u001B[39;00m\n\u001B[0;32m   1052\u001B[0m \u001B[38;5;124;03m    \"\"\"\u001B[39;00m\n\u001B[1;32m-> 1053\u001B[0m     \u001B[38;5;28;01mreturn\u001B[39;00m \u001B[38;5;28;43mself\u001B[39;49m\u001B[38;5;241;43m.\u001B[39;49m\u001B[43m_apply\u001B[49m\u001B[43m(\u001B[49m\u001B[38;5;28;43;01mlambda\u001B[39;49;00m\u001B[43m \u001B[49m\u001B[43mt\u001B[49m\u001B[43m:\u001B[49m\u001B[43m \u001B[49m\u001B[43mt\u001B[49m\u001B[38;5;241;43m.\u001B[39;49m\u001B[43mcuda\u001B[49m\u001B[43m(\u001B[49m\u001B[43mdevice\u001B[49m\u001B[43m)\u001B[49m\u001B[43m)\u001B[49m\n",
      "File \u001B[1;32mD:\\work softwar\\python\\Lib\\site-packages\\torch\\nn\\modules\\module.py:903\u001B[0m, in \u001B[0;36mModule._apply\u001B[1;34m(self, fn, recurse)\u001B[0m\n\u001B[0;32m    901\u001B[0m \u001B[38;5;28;01mif\u001B[39;00m recurse:\n\u001B[0;32m    902\u001B[0m     \u001B[38;5;28;01mfor\u001B[39;00m module \u001B[38;5;129;01min\u001B[39;00m \u001B[38;5;28mself\u001B[39m\u001B[38;5;241m.\u001B[39mchildren():\n\u001B[1;32m--> 903\u001B[0m         \u001B[43mmodule\u001B[49m\u001B[38;5;241;43m.\u001B[39;49m\u001B[43m_apply\u001B[49m\u001B[43m(\u001B[49m\u001B[43mfn\u001B[49m\u001B[43m)\u001B[49m\n\u001B[0;32m    905\u001B[0m \u001B[38;5;28;01mdef\u001B[39;00m \u001B[38;5;21mcompute_should_use_set_data\u001B[39m(tensor, tensor_applied):\n\u001B[0;32m    906\u001B[0m     \u001B[38;5;28;01mif\u001B[39;00m torch\u001B[38;5;241m.\u001B[39m_has_compatible_shallow_copy_type(tensor, tensor_applied):\n\u001B[0;32m    907\u001B[0m         \u001B[38;5;66;03m# If the new tensor has compatible tensor type as the existing tensor,\u001B[39;00m\n\u001B[0;32m    908\u001B[0m         \u001B[38;5;66;03m# the current behavior is to change the tensor in-place using `.data =`,\u001B[39;00m\n\u001B[1;32m   (...)\u001B[0m\n\u001B[0;32m    913\u001B[0m         \u001B[38;5;66;03m# global flag to let the user control whether they want the future\u001B[39;00m\n\u001B[0;32m    914\u001B[0m         \u001B[38;5;66;03m# behavior of overwriting the existing tensor or not.\u001B[39;00m\n",
      "File \u001B[1;32mD:\\work softwar\\python\\Lib\\site-packages\\torch\\nn\\modules\\module.py:930\u001B[0m, in \u001B[0;36mModule._apply\u001B[1;34m(self, fn, recurse)\u001B[0m\n\u001B[0;32m    926\u001B[0m \u001B[38;5;66;03m# Tensors stored in modules are graph leaves, and we don't want to\u001B[39;00m\n\u001B[0;32m    927\u001B[0m \u001B[38;5;66;03m# track autograd history of `param_applied`, so we have to use\u001B[39;00m\n\u001B[0;32m    928\u001B[0m \u001B[38;5;66;03m# `with torch.no_grad():`\u001B[39;00m\n\u001B[0;32m    929\u001B[0m \u001B[38;5;28;01mwith\u001B[39;00m torch\u001B[38;5;241m.\u001B[39mno_grad():\n\u001B[1;32m--> 930\u001B[0m     param_applied \u001B[38;5;241m=\u001B[39m \u001B[43mfn\u001B[49m\u001B[43m(\u001B[49m\u001B[43mparam\u001B[49m\u001B[43m)\u001B[49m\n\u001B[0;32m    931\u001B[0m p_should_use_set_data \u001B[38;5;241m=\u001B[39m compute_should_use_set_data(param, param_applied)\n\u001B[0;32m    933\u001B[0m \u001B[38;5;66;03m# subclasses may have multiple child tensors so we need to use swap_tensors\u001B[39;00m\n",
      "File \u001B[1;32mD:\\work softwar\\python\\Lib\\site-packages\\torch\\nn\\modules\\module.py:1053\u001B[0m, in \u001B[0;36mModule.cuda.<locals>.<lambda>\u001B[1;34m(t)\u001B[0m\n\u001B[0;32m   1036\u001B[0m \u001B[38;5;28;01mdef\u001B[39;00m \u001B[38;5;21mcuda\u001B[39m(\u001B[38;5;28mself\u001B[39m: T, device: Optional[Union[\u001B[38;5;28mint\u001B[39m, device]] \u001B[38;5;241m=\u001B[39m \u001B[38;5;28;01mNone\u001B[39;00m) \u001B[38;5;241m-\u001B[39m\u001B[38;5;241m>\u001B[39m T:\n\u001B[0;32m   1037\u001B[0m \u001B[38;5;250m    \u001B[39m\u001B[38;5;124mr\u001B[39m\u001B[38;5;124;03m\"\"\"Move all model parameters and buffers to the GPU.\u001B[39;00m\n\u001B[0;32m   1038\u001B[0m \n\u001B[0;32m   1039\u001B[0m \u001B[38;5;124;03m    This also makes associated parameters and buffers different objects. So\u001B[39;00m\n\u001B[1;32m   (...)\u001B[0m\n\u001B[0;32m   1051\u001B[0m \u001B[38;5;124;03m        Module: self\u001B[39;00m\n\u001B[0;32m   1052\u001B[0m \u001B[38;5;124;03m    \"\"\"\u001B[39;00m\n\u001B[1;32m-> 1053\u001B[0m     \u001B[38;5;28;01mreturn\u001B[39;00m \u001B[38;5;28mself\u001B[39m\u001B[38;5;241m.\u001B[39m_apply(\u001B[38;5;28;01mlambda\u001B[39;00m t: \u001B[43mt\u001B[49m\u001B[38;5;241;43m.\u001B[39;49m\u001B[43mcuda\u001B[49m\u001B[43m(\u001B[49m\u001B[43mdevice\u001B[49m\u001B[43m)\u001B[49m)\n",
      "\u001B[1;31mRuntimeError\u001B[0m: Cannot access accelerator device when none is available."
     ]
    }
   ],
   "execution_count": 27
  },
  {
   "metadata": {},
   "cell_type": "code",
   "source": [
    "a=''''ENC.2(GnNZifIVw0pphAuGAhZce5jtRZ6hD4G53x9+a9U3sSHPAt63Ewwwzq3oq5bzjNMX0MAWyB7rGARXyr8ax/z/D7zkFxJVwxopnKrlZIThpRPKkGVb+bM97XiHbDSYvY9mcKiMdjMKvXbTGTKpWHhTzA==)\n",
    "ENC.2(NSiAl++sPE0lByKL8sImT9Hn+1tv1453gCeYExBupv9l3IW6NMgDBLy7X+8a5IkcGYjLI/DV6y3ljSRuokPpHY+HgJoJRZDYm4nAaNA27kVRw5+rRC4DNKiIm07K5qkjz2rUDIRZUwjs9LArce/dgA==)\n",
    "ENC.2(QJy32aNIm9TRXB+SY6g5qZooTvzo1WdgVQI2iC8hpqEiLxxpdWf6Zuc29vam0J3W9lWWV4Zpt/oS5w0zrmPWBbhKFci2uQEx9Z/IjiRqZk/TFUXJ6G+vve4K3va5qgDzkiP7ZoXyaJ/cuACIfQyJ+XqIREcIuP5UqoZm9IZNq9Zyk7kDN8gOdkHGgqpvMfS/)\n",
    "ENC.2(lkfPh5nhSxL6Vl1qbHM7769Tg79GB4zRlRNwQvJkagr6JBjVDi0jWNI77CvxHyETeXZTCu5xgz2otND5So52l4PzYVIl6BYyYy3WXc39HlCK2xPXvsKTLLwXuNMSjikIT/9uFWyzuCunIletuydNKVRPfIseEauiiawF1+oybDhCi1SWNekEmErWkWDBb51c)\n",
    "ENC.2(/YBGnBd064+pkLUY1HKuqVHZvtMIbiv5xI7svYPvodZtWUCz+l6SZO00JUBEDcYIKlk/jc0YkWgRAEIpB9ox4nbZ3ZNJE/5dnCC8C5HKoKIGMPPaFJ03TSau6ZcYwGTUWz2WyVv/1dvxV0ZbcmN2M7M86QeOa8NjSHAsxk6ZdkTncwV30aMcjVSiC0o4cB+G)\n",
    "ENC.2(HTXHyWC1yfDKvuwrrn/oZs9WmvShSz6pA/oUzLXvuAqo3sREHWhDT3LP765YQlMsZIi+evXvr5ug0VUQCnIOcIw1vMb+aZk4fJ/airfUF/Jq37tzYVkin3M5VbJngGE7XTZoM0fzuRIyoR/6yzE9xA==)\n",
    "ENC.2(VPIv93obeNvrOWFM5hnBPhq8Q6W0hIUfeiN7WYab7QEEyzwB9YYu54uonkPgHu/2eCANj1OCoKWfNYBQM+K22rBAIBUxJcJv8ReQJs93NvJnpLXelch5svLm6ZNQFmxz/xxABTHWWty5LbJ/rijEMJ5m2W1gxh1ihDc6pJG8qfc=)\n",
    "ENC.2(BL5GHgWWgl/lOaHPv2ELmhUey8bfALSDCJGFFF7rIs3qnEE0uanlf9Axky0ZIbnR2G6tuajx5DP1EHzOze1lahdlg7BQz68Ig7C9bCoWEBGRkFoFBzVJm4HioqUHyAreVBmS4NJOSH31aOG3h4+LWwsnqwQdVU0lMxYvcCAKWLI=)\n",
    "ENC.2(KZnOtM7H7iwcr1yFPSifoiix7wskkb0Ohbh5evk6NoxfGP6FedtsPBAXLMX9fsZLx9HyjFulFUSe/lM3tcV+qg7D4Qh4BgNJxCFckRiLNuKRvfiebom1x9SBqajxylQ7lWN2+fStsZlsf0mwyUCxr8hHhB9J9JMRSXY81Ow1ze4=)\n",
    "ENC.2(KZnOtM7H7iwcr1yFPSifoiix7wskkb0Ohbh5evk6NoxfGP6FedtsPBAXLMX9fsZLx9HyjFulFUSe/lM3tcV+qg7D4Qh4BgNJxCFckRiLNuKRvfiebom1x9SBqajxylQ7lWN2+fStsZlsf0mwyUCxr8hHhB9J9JMRSXY81Ow1ze4=)\n",
    "ENC.2(CW1W6a6MB853IE15J/6xQF8j0vIVZQNjAb/GPusDv2yMoShRYeOzaKMqyKU5Gz9FnHDfYTDMGiV0oRfgV+QwM3oOd5nJ3+miwRgxJo1N4lruf2mTy0wc52kbRk5wirm1PSoXStzpf6SVbd8g6cJ2NCyLYKdZ+k2Fkbly3ROFXCOjI5q8l1Tju9vCdwmVw3Xe)\n",
    "ENC.2(unBVgzrq3P8YUB0S5LJfV7EL4B/+59wnNoDmvyFVCPEGGF06ooY1W72QGMyZ4iX+wlw6p0WKGRXMZmdeiauPK+zRJQbmpdvGV9cEVcSGTT6AXoosGCFNFA876DGbC4FM1/6Zm4354DNiJLSwC4i07tJUxfRCrV+DjffDBLkRXSIJag5orRI8GoxtPRfFa+0u)\n",
    "ENC.2(2VW0PPYYTriTl9n3Mp4SNLNqZX9soLCMUNfVhay5QuUe9DGnsEV2WH3omkDZyk+0oQTvGkj9//0K8HCgNiwUf3iDdfmJ0r1txqu2ngTYk97OANGfu7hn45KTWwxq8TaXj4pTElzW1w9wmJ5JNxz2RBaXqHwWAhKGkTMbBotyWLh+PGI/J8GzrO3cofULfFp4)\n",
    "ENC.2(S1x/YbRtg+HsT/KbaBXB/uJmhnGWYyv0Aad3UsUaFVzcqumUJNW48NPwO+8Kv0aX2F1GcRYmderepYHyjJmBn8WGV9InMcggucwjJmr5XQQn0sk3pukzgegrrmcOL8Cv4YdqBzU2/XAHmE3z6/x0mB7Xz3ZNdGQwHDQlqQMX+0krhR3MdZlDkVLCA8rO5+1m)\n",
    "ENC.2(6/A452F96w51RtplRrcdjSUq2/ncp1qOuOSpXQdwt/78Jx7D1tWO8cbHBEeqK7s4sNC8u9Ss0AJb78GWmbvYhiTxV8r1G1e7okhgXU37Ku++QAqbDr46rajc/17MlEv9WOJasLA885Z311K9+DCjukCeDoquob+Sbf82RTpt45p+tpHYHh61uJYCttlHbC6p)\n",
    "ENC.2(fCvNKQ29dXmqBKw0HBrGqYuHaIFTRQ04bjpO4t8RSrIs4og8QrP8Teoumsf4lfnP4/IsrjNZjJ13Vt7HL5ReKfUtnkUALINVO1ZLL728BQtN6gfY8cLmdrxL1hMDdTpn0k0z9oYR4sxXaxxZ2gi/hKzLaKy+3lWi3mF6yzwzMIIJ9hccJt3T824NOFCh0Cg9)\n",
    "ENC.2(XmJ8unmIV3TlrjCpFffPUB91rfbMmFk14Rvk9XkQgZoF03XThTYCijqD3d9R12fHcwT6YLPzeO32HMgU8yOXqj1LauA2zM+O4T546prt0mPLJkuyMUjdqIYNCg3R1i60NYhFJOVgCU2eCdU7MhBMqiJO5keX7yHL+W5VoRgC+s0=)\n",
    "ENC.2(3ckb2MQc5JqREJyV3HEdGIHmYTY7I5gYzf8e9Jm3x2eILzC7KVjjZWwlGEtgIxIM4/nO3Pe6wTHtORdjf5NGyeHzjN9ImELvMlgrcFTB277LnnEOHpfT8mp6N1oEoYPH)\n",
    "ENC.2(j5qeB269WMSCU54T/AIYc2Z+mP5ciMPnH31PJMnoXCiUr7ShP8yKAjRC1s2KjAfki0FvQ+0DLJouL5Lka9FfeCJPz93DfyLQ2Dpo+QOEKiOWW8JIfoBCndPmsp+8rD55TffWFwYAi0T4AsOUnq/Ksm7p89PIYohVoAbPuLGH3tw=)\n",
    "ENC.2(sWGCRdSlSNaoZbeOmKAedmcJixjQhT4d7E4xi+kgcVN02JtOvLGrdOfrgJ0Af+cOjI62vrqRHg2yDM9hQRxQz6vlIoomFUej/u0m1jRXoMnsMtDz2q/U9Qt9Dfdf7dgK/mkJlKYvFlGMBEYhb5w3+w==)\n",
    "ENC.2(kVb+AnQaIckD59cF5xFA2Uv2DTUrwdZba30EZFSHyH87FMtVhJ6VTyf2HAVEx/JzbUTPc70w7Ff2zMkxI//1e+iRNxtcRyPhfJAWU9YOE3WC3G8JbvhFEj6I9yknBM3I)\n",
    "ENC.2(kVb+AnQaIckD59cF5xFA2Uv2DTUrwdZba30EZFSHyH87FMtVhJ6VTyf2HAVEx/JzbUTPc70w7Ff2zMkxI//1e+iRNxtcRyPhfJAWU9YOE3WC3G8JbvhFEj6I9yknBM3I)\n",
    "ENC.2(XnEl0gph/h8xKZpJkZ2Se23eKc43TJw1xySQpgdMlds8HY8NH5G6Rwm4gjiiJDqwdm0zeb5l31pNJjCnB4BiHlJF8KyUdRInbDWzVkxaim4jO5YQWzFx2/5Ytk49zjuYk5ItawwxUo7DuFvyzvucSw==)\n",
    "ENC.2(VtWRhCMCm5lgXg9h+F6w607C/uFdN8bzD2MrNCyAz6kqo9zBQsURAtnlS6oYoTWUk5UuLgwEbKzzkRAH4OLmMJzGuDrkrylsBjj8+aZDj9SwaS0heN83+5JguIZJgwuY1ooXoQf7ZtXFfGUPAFPWn7ZpofPJlncF1TJjrXUBXII=)\n",
    "ENC.2(EIiOFKgahS9lLg/NOlHMpdLiILp0tW5U0XPOZxR0e/HyLDP1Eem5iIl7qhxIQxWFDIXGBrAREhU0ByhjEcGav0LQe4fyquceMEuoGSwHvGcEb9JAb+J1NO2Xo5Tk9ZFf)\n",
    "ENC.2(N9OUud48J6/q27EqnTl5l+7EoH9xcleqnEDIoQIsQPckB3qrHRRIVZPfz2narXsYDaFO6IV2JU686WyS7c1OgQW/ZkGeqwek5ooeEGbYKyy6n9RYVNF4IJaG0pVq97P414X6j538HmVsIwzjI/Xz+8RcBOJr8Svh7N/crHPa5Ns=)\n",
    "ENC.2(Fjua25evqL6cs4Yf6M0nb7BYGKn/MYIamhSVnK/3aFdbD8s43CqEwXhrAJgPFVT9+qQDeSwbPALkoXCndLUGTT6rfNMbPw6IUC6ru9GmJWxyILWM09yz7Olom8ilR99rMjT3BmWx2v6McwlpaNb6bYkW/d8TTgwPTdEPu0aKLW0=)\n",
    "ENC.2(TcGprp4609gbHUyOZB4shplxYghujsd3/JXgEtnTDausrJrxXPoP0j7ZRCjp9NP+kXdnCvPeHt5H4yLr6aAxrd6/10QbhAoUE2pKy1wMdHk+8LUhCmX98myJeMgyhAhCGaFI+b5ebnR7wnsbncw+2GUfGwnG3N2UFbQxXlDaNJI=)\n",
    "ENC.2(0mjpP8k4rNkgvNqd6XhQy5vJmvBFKviua4wc+p3pDR80RWns0WrfKPy+OcBssQqRU0m2FQTJ95KseGeydB1ohtmEkCqYe4x7QizTdSQXGOGBflhiswGTuFFrZ6qLnsI2+POyFhk73LWwBo+1NOt8XbKoAWk2uW3On7AewOUveIU=)\n",
    "ENC.2(An0/i8dwHmS/dnhhkydE6AwN6Qf/xzJKK5MKQbBBQZlC8sHBCBAi1IsUnNcbK9AhA80CydN3UuQut5xP9z8mlHaYGkyvVF5rsWBJFVA580HOejbTqGu+Swvk/Ch8IaFtjoeAP5rceEerdP2cRlrxFtUqq2g8ydWy8oUbiZskmo8=)\n",
    "ENC.2(QLAtJvKBcpZJDQ+0wsdm45w+Y6l8WOQvdA2I85a1DsABRhRdlZDt6W8VvbWBfA+Mk4T8K85hPIJMcgDPnXbbbmnlvqZ6AQK7mAUompLa2PF1RoJZy8WmAZ14nnai+3phara141lZ1DgzE50dvarxzZivfqQZGxVYnIeRgk9dH8s=)\n",
    "ENC.2(p+GVADBfJ+bQpdjVvt/Ypbm/jF3SwHhhoWJ55vuneCBdrfDmoeJNKA4izk092UYolB2Xj68A6IdaICcae0ZWOrLCCgaIQLptWKaav5NMEg12BoNUkD6PvP4cpM8sAfvSGBhc9ZcpED1NOAwdNsEi3fjFgB9k7Tmiymsm+gkJZfI=)\n",
    "ENC.2(2jLNSeg7Bj0nUT50P5cGoPsLMcdTk+P1vmaseuBof+i3n/8sMtt4M9KRQuckpWL4QccnrYWytWNy7GJ+Hpk/xML8n3rfxOYLyATJOA3G4SneD0xRqdzg9zNpzKDHvjhRqVxzyOhCC7tCgE6IzPinolDvMTy8dYWmtPLeUnhCv3sPxGiA8k/OsovZAUwAc1O7621ffn5/IUcrzKBnaEMf6w==)\n",
    "ENC.2(QW/fcP7O9fkXnbzBnk/iuZnypXkWbk2FdnxxUxeFFXVGM+M9hj03FXeWFRvQbmyyBRLNkXZN3oiPinJGN3HOZxZsMkh3/VFs3z4phTYmQne04oMBWGLvMAO3jQUi+jm+16ases3fKG2HbhuLXAdff48Xa26At8lohcPUrOgFrg0YD/7bIpMh4NxnjeGonmj+QvoZ0QSzGeLm0F8v2SiBPQ==)\n",
    "ENC.2(ofh2Y2nIympCWrsjG89gur31z65Y3VyljCj7SqFbkCE1nea8fjwGi/Xspv5KTdHIbY/usXj6b+w8ezqbZLcsDihKtGyz6uwxAVqTClZPabAf42VVsFgam4hC8exOfi8a6MYkowBEd1Is2dj3bxf8bw==)\n",
    "ENC.2(XXyA88tYkit9irOCMWkZ9WhlTHW/ypPxmu2UlA7GquO1REOYiZYu7S+lI9umLlbb76aMp2HVMoJcf/Em48OmcJlM9eFg1v6AiVJnDW8HQ6awNdIxYfKl4UwHBcJlzcBwjDkOjSHTgqhT2wn5n4Y8zQ==)\n",
    "ENC.2(LHduLbLcy4b9vnyaleoNxHwynBj7jKLkYXlTd31cMOyneyz1DcTp1O2mEVOwMKRtkq8f0Zz0tfTmAXZWy6r8OBhI52qHgswDRuUUHGn/IYSp2C5bb1V1b9bdafE+o7/ZCanw680BtCeoXiNf78dMQg==)\n",
    "ENC.2(pLzibJgJAc0w9+bqSbgzQCxFPQEdI5wEQinDuaRubE1ntgapY6UXOG2o2xUKgKmyd2XC1w130C0cRxp8BgnWoKO86Sqy4Gr67AsMl7gJ4/jXKXuV+B/8+2WFMtJTEkkGkuysU5spQlbG00bYoifuY+HoALTirS5lep/ul1042giAOceWey1NBN5SV5dnEPrS)\n",
    "ENC.2(UHUWuVq35sRU8bpCc4Y97EawBirlKnCv4ZLQGDLijsE517XBNHayRC2/Wve5CVf1ibiyBLmtLSt5WLmC2Y+SGpNE6Dzm+WsTnl6GKoJDIEEY9Pq3o+HKBa0UyzVThPDD6NzpWK3HTlBMU8Al5erCmg==)\n",
    "ENC.2(UHUWuVq35sRU8bpCc4Y97EawBirlKnCv4ZLQGDLijsE517XBNHayRC2/Wve5CVf1ibiyBLmtLSt5WLmC2Y+SGpNE6Dzm+WsTnl6GKoJDIEEY9Pq3o+HKBa0UyzVThPDD6NzpWK3HTlBMU8Al5erCmg==)\n",
    "ENC.2(Y+vKYD7l+7UTXNNs4uGDbwDdcTmABqrm3f/70RFU/CF7eS1hNhzVJ9h4rE9farZFS6HFI9ZAAVjM8fG0/oI/OeKXQLQ9AxvDntEvLMVnWDGifY1R/9cw/9Rqbg6E7tmfIiCOBtnkMowGAa9nFawP1QFfECDcZ6gg2uWNH0e+ank=)\n",
    "ENC.2(yTI8Ufl0kvXryP9JqLaHIQNfRTfp6+0O+93IfD+I3JOTv81A9A+B2bvelUkD26RJMwbbxTUA/dFLJ31IctZ3DI/qJ/rAdPTyHjHq3FFCGQEzhlMF9rRWPB+LvElYH15g8+9DQ20d/36tYnxRePVEdg==)\n",
    "ENC.2(yTI8Ufl0kvXryP9JqLaHIQNfRTfp6+0O+93IfD+I3JOTv81A9A+B2bvelUkD26RJMwbbxTUA/dFLJ31IctZ3DI/qJ/rAdPTyHjHq3FFCGQEzhlMF9rRWPB+LvElYH15g8+9DQ20d/36tYnxRePVEdg==)\n",
    "ENC.2(SzgS4P13+RMgc44YWYkLEF+J449bv06fQViCe+r9o/mVRMDAeRfc3zi36Lx5ufzMQBRo9xYipgRQrI2YsYcUubScO6qYCtGhEMMj66S99X933hTNYfEL6Mq8jVl4jOUQeqImLi77/LcHeiUKTjWoF0s8nZJfnerpt9K4Sa2IJh4=)\n",
    "ENC.2(cgJ/tr0Q4F02NUnQWPOqdcFU1I1sq9L90a3jeinjVy58lR/Z5YdMhLrPT4y1iBcuKoZtA7cSsVtviQsZ9Y3qwVjxmqiTXMa4yUs/n3xKa+ONYxewQAkiA5aVVDVaNI5ET85vAi62cyRpuzYgvI9ODGQ2hochvJhwOshnqzSG8CE=)\n",
    "ENC.2(AAfW0PoXP9hZHBYcU9k9c/w+Wl+LH1JdbCaMW1TxqhmjQzwhdfKinsrTY6UMa3XzxjorjLT7oSUBUUweo0YvfjP/4lRwAeh+vOArbokQdNzrjJCwA82BvY3eIp7aPrYcAxMAtOh7BsP29JyzQkodLPixAeEr1tvY+6SIPa7Lruc=)\n",
    "ENC.2(wWVAaGRP568La+93XNfzjX32wPXstAWwuyPI4zdITb9KMtL59FOG5vJ2ZbNEijSLh4OkRhuVifhFvVq8ftSDg1W2ggfaWpZ+bzDNvKUMfHaBRG5IxXgDX3BZc33u5+S1EP7GCwUjNKiJ316rvy3439vZMEfcTaG88vsEAl3TWC0=)\n",
    "ENC.2(j8tjgfRr2YU8/L6LaHNUZhceVGhYn7gBq0dlH80QJn1OXeGNoT8sziu23UuHegQJSus6bTT/JIXiWId1+IUFQj3EYw1Q1mjAvEBbwmb3+29u/j4iOsFL7nBHO9ICFLVMEerq5PmHFbuiR6X/ZvMmE532BpM527rPUTQyQqbX7O4=)\n",
    "'''"
   ],
   "id": "5892e0d7f5cd537d",
   "outputs": [],
   "execution_count": 28
  },
  {
   "metadata": {
    "ExecuteTime": {
     "end_time": "2025-04-11T09:29:41.128947Z",
     "start_time": "2025-04-11T09:29:41.120495Z"
    }
   },
   "cell_type": "code",
   "source": [
    "for i in a.split('\\n'):\n",
    "    print(\"select bl_dec('\"+i+\"')\"+\" union all\")"
   ],
   "id": "244529a2ae3cdf13",
   "outputs": [
    {
     "name": "stdout",
     "output_type": "stream",
     "text": [
      "select bl_dec(''ENC.2(GnNZifIVw0pphAuGAhZce5jtRZ6hD4G53x9+a9U3sSHPAt63Ewwwzq3oq5bzjNMX0MAWyB7rGARXyr8ax/z/D7zkFxJVwxopnKrlZIThpRPKkGVb+bM97XiHbDSYvY9mcKiMdjMKvXbTGTKpWHhTzA==)') union all\n",
      "select bl_dec('ENC.2(NSiAl++sPE0lByKL8sImT9Hn+1tv1453gCeYExBupv9l3IW6NMgDBLy7X+8a5IkcGYjLI/DV6y3ljSRuokPpHY+HgJoJRZDYm4nAaNA27kVRw5+rRC4DNKiIm07K5qkjz2rUDIRZUwjs9LArce/dgA==)') union all\n",
      "select bl_dec('ENC.2(QJy32aNIm9TRXB+SY6g5qZooTvzo1WdgVQI2iC8hpqEiLxxpdWf6Zuc29vam0J3W9lWWV4Zpt/oS5w0zrmPWBbhKFci2uQEx9Z/IjiRqZk/TFUXJ6G+vve4K3va5qgDzkiP7ZoXyaJ/cuACIfQyJ+XqIREcIuP5UqoZm9IZNq9Zyk7kDN8gOdkHGgqpvMfS/)') union all\n",
      "select bl_dec('ENC.2(lkfPh5nhSxL6Vl1qbHM7769Tg79GB4zRlRNwQvJkagr6JBjVDi0jWNI77CvxHyETeXZTCu5xgz2otND5So52l4PzYVIl6BYyYy3WXc39HlCK2xPXvsKTLLwXuNMSjikIT/9uFWyzuCunIletuydNKVRPfIseEauiiawF1+oybDhCi1SWNekEmErWkWDBb51c)') union all\n",
      "select bl_dec('ENC.2(/YBGnBd064+pkLUY1HKuqVHZvtMIbiv5xI7svYPvodZtWUCz+l6SZO00JUBEDcYIKlk/jc0YkWgRAEIpB9ox4nbZ3ZNJE/5dnCC8C5HKoKIGMPPaFJ03TSau6ZcYwGTUWz2WyVv/1dvxV0ZbcmN2M7M86QeOa8NjSHAsxk6ZdkTncwV30aMcjVSiC0o4cB+G)') union all\n",
      "select bl_dec('ENC.2(HTXHyWC1yfDKvuwrrn/oZs9WmvShSz6pA/oUzLXvuAqo3sREHWhDT3LP765YQlMsZIi+evXvr5ug0VUQCnIOcIw1vMb+aZk4fJ/airfUF/Jq37tzYVkin3M5VbJngGE7XTZoM0fzuRIyoR/6yzE9xA==)') union all\n",
      "select bl_dec('ENC.2(VPIv93obeNvrOWFM5hnBPhq8Q6W0hIUfeiN7WYab7QEEyzwB9YYu54uonkPgHu/2eCANj1OCoKWfNYBQM+K22rBAIBUxJcJv8ReQJs93NvJnpLXelch5svLm6ZNQFmxz/xxABTHWWty5LbJ/rijEMJ5m2W1gxh1ihDc6pJG8qfc=)') union all\n",
      "select bl_dec('ENC.2(BL5GHgWWgl/lOaHPv2ELmhUey8bfALSDCJGFFF7rIs3qnEE0uanlf9Axky0ZIbnR2G6tuajx5DP1EHzOze1lahdlg7BQz68Ig7C9bCoWEBGRkFoFBzVJm4HioqUHyAreVBmS4NJOSH31aOG3h4+LWwsnqwQdVU0lMxYvcCAKWLI=)') union all\n",
      "select bl_dec('ENC.2(KZnOtM7H7iwcr1yFPSifoiix7wskkb0Ohbh5evk6NoxfGP6FedtsPBAXLMX9fsZLx9HyjFulFUSe/lM3tcV+qg7D4Qh4BgNJxCFckRiLNuKRvfiebom1x9SBqajxylQ7lWN2+fStsZlsf0mwyUCxr8hHhB9J9JMRSXY81Ow1ze4=)') union all\n",
      "select bl_dec('ENC.2(KZnOtM7H7iwcr1yFPSifoiix7wskkb0Ohbh5evk6NoxfGP6FedtsPBAXLMX9fsZLx9HyjFulFUSe/lM3tcV+qg7D4Qh4BgNJxCFckRiLNuKRvfiebom1x9SBqajxylQ7lWN2+fStsZlsf0mwyUCxr8hHhB9J9JMRSXY81Ow1ze4=)') union all\n",
      "select bl_dec('ENC.2(CW1W6a6MB853IE15J/6xQF8j0vIVZQNjAb/GPusDv2yMoShRYeOzaKMqyKU5Gz9FnHDfYTDMGiV0oRfgV+QwM3oOd5nJ3+miwRgxJo1N4lruf2mTy0wc52kbRk5wirm1PSoXStzpf6SVbd8g6cJ2NCyLYKdZ+k2Fkbly3ROFXCOjI5q8l1Tju9vCdwmVw3Xe)') union all\n",
      "select bl_dec('ENC.2(unBVgzrq3P8YUB0S5LJfV7EL4B/+59wnNoDmvyFVCPEGGF06ooY1W72QGMyZ4iX+wlw6p0WKGRXMZmdeiauPK+zRJQbmpdvGV9cEVcSGTT6AXoosGCFNFA876DGbC4FM1/6Zm4354DNiJLSwC4i07tJUxfRCrV+DjffDBLkRXSIJag5orRI8GoxtPRfFa+0u)') union all\n",
      "select bl_dec('ENC.2(2VW0PPYYTriTl9n3Mp4SNLNqZX9soLCMUNfVhay5QuUe9DGnsEV2WH3omkDZyk+0oQTvGkj9//0K8HCgNiwUf3iDdfmJ0r1txqu2ngTYk97OANGfu7hn45KTWwxq8TaXj4pTElzW1w9wmJ5JNxz2RBaXqHwWAhKGkTMbBotyWLh+PGI/J8GzrO3cofULfFp4)') union all\n",
      "select bl_dec('ENC.2(S1x/YbRtg+HsT/KbaBXB/uJmhnGWYyv0Aad3UsUaFVzcqumUJNW48NPwO+8Kv0aX2F1GcRYmderepYHyjJmBn8WGV9InMcggucwjJmr5XQQn0sk3pukzgegrrmcOL8Cv4YdqBzU2/XAHmE3z6/x0mB7Xz3ZNdGQwHDQlqQMX+0krhR3MdZlDkVLCA8rO5+1m)') union all\n",
      "select bl_dec('ENC.2(6/A452F96w51RtplRrcdjSUq2/ncp1qOuOSpXQdwt/78Jx7D1tWO8cbHBEeqK7s4sNC8u9Ss0AJb78GWmbvYhiTxV8r1G1e7okhgXU37Ku++QAqbDr46rajc/17MlEv9WOJasLA885Z311K9+DCjukCeDoquob+Sbf82RTpt45p+tpHYHh61uJYCttlHbC6p)') union all\n",
      "select bl_dec('ENC.2(fCvNKQ29dXmqBKw0HBrGqYuHaIFTRQ04bjpO4t8RSrIs4og8QrP8Teoumsf4lfnP4/IsrjNZjJ13Vt7HL5ReKfUtnkUALINVO1ZLL728BQtN6gfY8cLmdrxL1hMDdTpn0k0z9oYR4sxXaxxZ2gi/hKzLaKy+3lWi3mF6yzwzMIIJ9hccJt3T824NOFCh0Cg9)') union all\n",
      "select bl_dec('ENC.2(XmJ8unmIV3TlrjCpFffPUB91rfbMmFk14Rvk9XkQgZoF03XThTYCijqD3d9R12fHcwT6YLPzeO32HMgU8yOXqj1LauA2zM+O4T546prt0mPLJkuyMUjdqIYNCg3R1i60NYhFJOVgCU2eCdU7MhBMqiJO5keX7yHL+W5VoRgC+s0=)') union all\n",
      "select bl_dec('ENC.2(3ckb2MQc5JqREJyV3HEdGIHmYTY7I5gYzf8e9Jm3x2eILzC7KVjjZWwlGEtgIxIM4/nO3Pe6wTHtORdjf5NGyeHzjN9ImELvMlgrcFTB277LnnEOHpfT8mp6N1oEoYPH)') union all\n",
      "select bl_dec('ENC.2(j5qeB269WMSCU54T/AIYc2Z+mP5ciMPnH31PJMnoXCiUr7ShP8yKAjRC1s2KjAfki0FvQ+0DLJouL5Lka9FfeCJPz93DfyLQ2Dpo+QOEKiOWW8JIfoBCndPmsp+8rD55TffWFwYAi0T4AsOUnq/Ksm7p89PIYohVoAbPuLGH3tw=)') union all\n",
      "select bl_dec('ENC.2(sWGCRdSlSNaoZbeOmKAedmcJixjQhT4d7E4xi+kgcVN02JtOvLGrdOfrgJ0Af+cOjI62vrqRHg2yDM9hQRxQz6vlIoomFUej/u0m1jRXoMnsMtDz2q/U9Qt9Dfdf7dgK/mkJlKYvFlGMBEYhb5w3+w==)') union all\n",
      "select bl_dec('ENC.2(kVb+AnQaIckD59cF5xFA2Uv2DTUrwdZba30EZFSHyH87FMtVhJ6VTyf2HAVEx/JzbUTPc70w7Ff2zMkxI//1e+iRNxtcRyPhfJAWU9YOE3WC3G8JbvhFEj6I9yknBM3I)') union all\n",
      "select bl_dec('ENC.2(kVb+AnQaIckD59cF5xFA2Uv2DTUrwdZba30EZFSHyH87FMtVhJ6VTyf2HAVEx/JzbUTPc70w7Ff2zMkxI//1e+iRNxtcRyPhfJAWU9YOE3WC3G8JbvhFEj6I9yknBM3I)') union all\n",
      "select bl_dec('ENC.2(XnEl0gph/h8xKZpJkZ2Se23eKc43TJw1xySQpgdMlds8HY8NH5G6Rwm4gjiiJDqwdm0zeb5l31pNJjCnB4BiHlJF8KyUdRInbDWzVkxaim4jO5YQWzFx2/5Ytk49zjuYk5ItawwxUo7DuFvyzvucSw==)') union all\n",
      "select bl_dec('ENC.2(VtWRhCMCm5lgXg9h+F6w607C/uFdN8bzD2MrNCyAz6kqo9zBQsURAtnlS6oYoTWUk5UuLgwEbKzzkRAH4OLmMJzGuDrkrylsBjj8+aZDj9SwaS0heN83+5JguIZJgwuY1ooXoQf7ZtXFfGUPAFPWn7ZpofPJlncF1TJjrXUBXII=)') union all\n",
      "select bl_dec('ENC.2(EIiOFKgahS9lLg/NOlHMpdLiILp0tW5U0XPOZxR0e/HyLDP1Eem5iIl7qhxIQxWFDIXGBrAREhU0ByhjEcGav0LQe4fyquceMEuoGSwHvGcEb9JAb+J1NO2Xo5Tk9ZFf)') union all\n",
      "select bl_dec('ENC.2(N9OUud48J6/q27EqnTl5l+7EoH9xcleqnEDIoQIsQPckB3qrHRRIVZPfz2narXsYDaFO6IV2JU686WyS7c1OgQW/ZkGeqwek5ooeEGbYKyy6n9RYVNF4IJaG0pVq97P414X6j538HmVsIwzjI/Xz+8RcBOJr8Svh7N/crHPa5Ns=)') union all\n",
      "select bl_dec('ENC.2(Fjua25evqL6cs4Yf6M0nb7BYGKn/MYIamhSVnK/3aFdbD8s43CqEwXhrAJgPFVT9+qQDeSwbPALkoXCndLUGTT6rfNMbPw6IUC6ru9GmJWxyILWM09yz7Olom8ilR99rMjT3BmWx2v6McwlpaNb6bYkW/d8TTgwPTdEPu0aKLW0=)') union all\n",
      "select bl_dec('ENC.2(TcGprp4609gbHUyOZB4shplxYghujsd3/JXgEtnTDausrJrxXPoP0j7ZRCjp9NP+kXdnCvPeHt5H4yLr6aAxrd6/10QbhAoUE2pKy1wMdHk+8LUhCmX98myJeMgyhAhCGaFI+b5ebnR7wnsbncw+2GUfGwnG3N2UFbQxXlDaNJI=)') union all\n",
      "select bl_dec('ENC.2(0mjpP8k4rNkgvNqd6XhQy5vJmvBFKviua4wc+p3pDR80RWns0WrfKPy+OcBssQqRU0m2FQTJ95KseGeydB1ohtmEkCqYe4x7QizTdSQXGOGBflhiswGTuFFrZ6qLnsI2+POyFhk73LWwBo+1NOt8XbKoAWk2uW3On7AewOUveIU=)') union all\n",
      "select bl_dec('ENC.2(An0/i8dwHmS/dnhhkydE6AwN6Qf/xzJKK5MKQbBBQZlC8sHBCBAi1IsUnNcbK9AhA80CydN3UuQut5xP9z8mlHaYGkyvVF5rsWBJFVA580HOejbTqGu+Swvk/Ch8IaFtjoeAP5rceEerdP2cRlrxFtUqq2g8ydWy8oUbiZskmo8=)') union all\n",
      "select bl_dec('ENC.2(QLAtJvKBcpZJDQ+0wsdm45w+Y6l8WOQvdA2I85a1DsABRhRdlZDt6W8VvbWBfA+Mk4T8K85hPIJMcgDPnXbbbmnlvqZ6AQK7mAUompLa2PF1RoJZy8WmAZ14nnai+3phara141lZ1DgzE50dvarxzZivfqQZGxVYnIeRgk9dH8s=)') union all\n",
      "select bl_dec('ENC.2(p+GVADBfJ+bQpdjVvt/Ypbm/jF3SwHhhoWJ55vuneCBdrfDmoeJNKA4izk092UYolB2Xj68A6IdaICcae0ZWOrLCCgaIQLptWKaav5NMEg12BoNUkD6PvP4cpM8sAfvSGBhc9ZcpED1NOAwdNsEi3fjFgB9k7Tmiymsm+gkJZfI=)') union all\n",
      "select bl_dec('ENC.2(2jLNSeg7Bj0nUT50P5cGoPsLMcdTk+P1vmaseuBof+i3n/8sMtt4M9KRQuckpWL4QccnrYWytWNy7GJ+Hpk/xML8n3rfxOYLyATJOA3G4SneD0xRqdzg9zNpzKDHvjhRqVxzyOhCC7tCgE6IzPinolDvMTy8dYWmtPLeUnhCv3sPxGiA8k/OsovZAUwAc1O7621ffn5/IUcrzKBnaEMf6w==)') union all\n",
      "select bl_dec('ENC.2(QW/fcP7O9fkXnbzBnk/iuZnypXkWbk2FdnxxUxeFFXVGM+M9hj03FXeWFRvQbmyyBRLNkXZN3oiPinJGN3HOZxZsMkh3/VFs3z4phTYmQne04oMBWGLvMAO3jQUi+jm+16ases3fKG2HbhuLXAdff48Xa26At8lohcPUrOgFrg0YD/7bIpMh4NxnjeGonmj+QvoZ0QSzGeLm0F8v2SiBPQ==)') union all\n",
      "select bl_dec('ENC.2(ofh2Y2nIympCWrsjG89gur31z65Y3VyljCj7SqFbkCE1nea8fjwGi/Xspv5KTdHIbY/usXj6b+w8ezqbZLcsDihKtGyz6uwxAVqTClZPabAf42VVsFgam4hC8exOfi8a6MYkowBEd1Is2dj3bxf8bw==)') union all\n",
      "select bl_dec('ENC.2(XXyA88tYkit9irOCMWkZ9WhlTHW/ypPxmu2UlA7GquO1REOYiZYu7S+lI9umLlbb76aMp2HVMoJcf/Em48OmcJlM9eFg1v6AiVJnDW8HQ6awNdIxYfKl4UwHBcJlzcBwjDkOjSHTgqhT2wn5n4Y8zQ==)') union all\n",
      "select bl_dec('ENC.2(LHduLbLcy4b9vnyaleoNxHwynBj7jKLkYXlTd31cMOyneyz1DcTp1O2mEVOwMKRtkq8f0Zz0tfTmAXZWy6r8OBhI52qHgswDRuUUHGn/IYSp2C5bb1V1b9bdafE+o7/ZCanw680BtCeoXiNf78dMQg==)') union all\n",
      "select bl_dec('ENC.2(pLzibJgJAc0w9+bqSbgzQCxFPQEdI5wEQinDuaRubE1ntgapY6UXOG2o2xUKgKmyd2XC1w130C0cRxp8BgnWoKO86Sqy4Gr67AsMl7gJ4/jXKXuV+B/8+2WFMtJTEkkGkuysU5spQlbG00bYoifuY+HoALTirS5lep/ul1042giAOceWey1NBN5SV5dnEPrS)') union all\n",
      "select bl_dec('ENC.2(UHUWuVq35sRU8bpCc4Y97EawBirlKnCv4ZLQGDLijsE517XBNHayRC2/Wve5CVf1ibiyBLmtLSt5WLmC2Y+SGpNE6Dzm+WsTnl6GKoJDIEEY9Pq3o+HKBa0UyzVThPDD6NzpWK3HTlBMU8Al5erCmg==)') union all\n",
      "select bl_dec('ENC.2(UHUWuVq35sRU8bpCc4Y97EawBirlKnCv4ZLQGDLijsE517XBNHayRC2/Wve5CVf1ibiyBLmtLSt5WLmC2Y+SGpNE6Dzm+WsTnl6GKoJDIEEY9Pq3o+HKBa0UyzVThPDD6NzpWK3HTlBMU8Al5erCmg==)') union all\n",
      "select bl_dec('ENC.2(Y+vKYD7l+7UTXNNs4uGDbwDdcTmABqrm3f/70RFU/CF7eS1hNhzVJ9h4rE9farZFS6HFI9ZAAVjM8fG0/oI/OeKXQLQ9AxvDntEvLMVnWDGifY1R/9cw/9Rqbg6E7tmfIiCOBtnkMowGAa9nFawP1QFfECDcZ6gg2uWNH0e+ank=)') union all\n",
      "select bl_dec('ENC.2(yTI8Ufl0kvXryP9JqLaHIQNfRTfp6+0O+93IfD+I3JOTv81A9A+B2bvelUkD26RJMwbbxTUA/dFLJ31IctZ3DI/qJ/rAdPTyHjHq3FFCGQEzhlMF9rRWPB+LvElYH15g8+9DQ20d/36tYnxRePVEdg==)') union all\n",
      "select bl_dec('ENC.2(yTI8Ufl0kvXryP9JqLaHIQNfRTfp6+0O+93IfD+I3JOTv81A9A+B2bvelUkD26RJMwbbxTUA/dFLJ31IctZ3DI/qJ/rAdPTyHjHq3FFCGQEzhlMF9rRWPB+LvElYH15g8+9DQ20d/36tYnxRePVEdg==)') union all\n",
      "select bl_dec('ENC.2(SzgS4P13+RMgc44YWYkLEF+J449bv06fQViCe+r9o/mVRMDAeRfc3zi36Lx5ufzMQBRo9xYipgRQrI2YsYcUubScO6qYCtGhEMMj66S99X933hTNYfEL6Mq8jVl4jOUQeqImLi77/LcHeiUKTjWoF0s8nZJfnerpt9K4Sa2IJh4=)') union all\n",
      "select bl_dec('ENC.2(cgJ/tr0Q4F02NUnQWPOqdcFU1I1sq9L90a3jeinjVy58lR/Z5YdMhLrPT4y1iBcuKoZtA7cSsVtviQsZ9Y3qwVjxmqiTXMa4yUs/n3xKa+ONYxewQAkiA5aVVDVaNI5ET85vAi62cyRpuzYgvI9ODGQ2hochvJhwOshnqzSG8CE=)') union all\n",
      "select bl_dec('ENC.2(AAfW0PoXP9hZHBYcU9k9c/w+Wl+LH1JdbCaMW1TxqhmjQzwhdfKinsrTY6UMa3XzxjorjLT7oSUBUUweo0YvfjP/4lRwAeh+vOArbokQdNzrjJCwA82BvY3eIp7aPrYcAxMAtOh7BsP29JyzQkodLPixAeEr1tvY+6SIPa7Lruc=)') union all\n",
      "select bl_dec('ENC.2(wWVAaGRP568La+93XNfzjX32wPXstAWwuyPI4zdITb9KMtL59FOG5vJ2ZbNEijSLh4OkRhuVifhFvVq8ftSDg1W2ggfaWpZ+bzDNvKUMfHaBRG5IxXgDX3BZc33u5+S1EP7GCwUjNKiJ316rvy3439vZMEfcTaG88vsEAl3TWC0=)') union all\n",
      "select bl_dec('ENC.2(j8tjgfRr2YU8/L6LaHNUZhceVGhYn7gBq0dlH80QJn1OXeGNoT8sziu23UuHegQJSus6bTT/JIXiWId1+IUFQj3EYw1Q1mjAvEBbwmb3+29u/j4iOsFL7nBHO9ICFLVMEerq5PmHFbuiR6X/ZvMmE532BpM527rPUTQyQqbX7O4=)') union all\n",
      "select bl_dec('') union all\n"
     ]
    }
   ],
   "execution_count": 30
  },
  {
   "metadata": {},
   "cell_type": "code",
   "outputs": [],
   "execution_count": null,
   "source": "",
   "id": "65cc4441f4cc47d0"
  }
 ],
 "metadata": {
  "kernelspec": {
   "display_name": "Python 3",
   "language": "python",
   "name": "python3"
  },
  "language_info": {
   "codemirror_mode": {
    "name": "ipython",
    "version": 2
   },
   "file_extension": ".py",
   "mimetype": "text/x-python",
   "name": "python",
   "nbconvert_exporter": "python",
   "pygments_lexer": "ipython2",
   "version": "2.7.6"
  }
 },
 "nbformat": 4,
 "nbformat_minor": 5
}
