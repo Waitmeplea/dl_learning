{
 "cells": [
  {
   "cell_type": "code",
   "id": "initial_id",
   "metadata": {
    "collapsed": true,
    "ExecuteTime": {
     "end_time": "2025-03-23T23:05:20.159498Z",
     "start_time": "2025-03-23T23:05:15.913764Z"
    }
   },
   "source": "import torch",
   "outputs": [],
   "execution_count": 1
  },
  {
   "metadata": {
    "ExecuteTime": {
     "end_time": "2025-03-23T23:05:34.584991Z",
     "start_time": "2025-03-23T23:05:34.512088Z"
    }
   },
   "cell_type": "code",
   "source": "torch.cuda.is_available()",
   "id": "ffd785bd4d89666f",
   "outputs": [
    {
     "data": {
      "text/plain": [
       "True"
      ]
     },
     "execution_count": 2,
     "metadata": {},
     "output_type": "execute_result"
    }
   ],
   "execution_count": 2
  },
  {
   "metadata": {},
   "cell_type": "markdown",
   "source": [
    "nvidia-smi 查看cuda情况\n",
    "dir() 查看包内有什么\n",
    "help() 查看帮助"
   ],
   "id": "6623ca2c1d8839e4"
  },
  {
   "metadata": {
    "ExecuteTime": {
     "end_time": "2025-03-23T23:17:31.278930Z",
     "start_time": "2025-03-23T23:17:31.276646Z"
    }
   },
   "cell_type": "code",
   "source": "from torch.utils.data import Dataset, DataLoader",
   "id": "b6ba2aaf8bcf5733",
   "outputs": [],
   "execution_count": 9
  },
  {
   "metadata": {},
   "cell_type": "markdown",
   "source": [
    "PyTorch中的torch.utils.data.Dataset类是一个用于表示数据集的抽象类，它定义了访问数据样本及其标签的标准方式。以下是其核心作用和使用方法的详细说明：\n",
    "Dataset 是一个抽象基类（Abstract Base Class），它定义了 __len__ 和 __getitem__ 这两个必须实现的方法，但具体如何加载数据、从哪里加载数据，完全由用户自定义。\n",
    "\n",
    "核心作用\n",
    "\n",
    "数据封装与标准化接口：\n",
    "\n",
    "Dataset类将数据（如图像、文本等）及其标签封装为一个统一的对象，要求用户实现__len__和__getitem__方法。\n",
    "__len__：返回数据集的样本总数。\n",
    "__getitem__：根据索引返回对应的样本和标签（支持张量或其他格式）。\n",
    "\n",
    "与DataLoader配合：\n",
    "\n",
    "Dataset通常与DataLoader结合使用。DataLoader负责批量加载数据、多线程加速、数据打乱等操作，而Dataset专注于单个样本的读取和预处理。\n",
    "\n",
    "灵活性：\n",
    "\n",
    "内置数据集（如MNIST、CIFAR-10）已实现Dataset接口，可直接使用。\n",
    "自定义数据集时，继承Dataset并实现关键方法，可处理任意存储格式的数据（如文件夹、CSV文件、数据库）。\n",
    "实现自定义Dataset的步骤\n",
    "\n",
    "继承Dataset类：\n",
    "\n",
    "python\n",
    "复制代码\n",
    "from torch.utils.data import Dataset\n",
    "class CustomDataset(Dataset):\n",
    "    def __init__(self, data, labels, transform=None):\n",
    "        self.data = data          # 数据路径或数据本身\n",
    "        self.labels = labels      # 标签\n",
    "        self.transform = transform# 数据预处理（如transforms.Compose）\n",
    "\n",
    "    def __len__(self):\n",
    "        return len(self.data)\n",
    "\n",
    "    def __getitem__(self, idx):\n",
    "        sample = self.data[idx]\n",
    "        label = self.labels[idx]\n",
    "        if self.transform:\n",
    "            sample = self.transform(sample)\n",
    "        return sample, label\n",
    "\n",
    "\n",
    "使用DataLoader加载：\n",
    "\n",
    "python\n",
    "复制代码\n",
    "from torch.utils.data import DataLoader\n",
    "dataset = CustomDataset(data, labels, transform=my_transforms)\n",
    "dataloader = DataLoader(dataset, batch_size=32, shuffle=True, num_workers=4)\n",
    "\n",
    "实际应用场景\n",
    "图像处理：读取图片文件，应用数据增强（随机裁剪、翻转等）。\n",
    "文本处理：加载文本数据并转换为词向量。\n",
    "非标准数据：处理自定义存储结构的数据（如数据库查询结果）。\n",
    "内置工具与优化\n",
    "\n",
    "TensorDataset：若数据已存储在张量中，可直接使用TensorDataset快速封装。\n",
    "\n",
    "python\n",
    "复制代码\n",
    "import torch\n",
    "from torch.utils.data import TensorDataset\n",
    "data_tensor = torch.tensor(...)\n",
    "labels_tensor = torch.tensor(...)\n",
    "dataset = TensorDataset(data_tensor, labels_tensor)\n",
    "\n",
    "\n",
    "数据增强：通过torchvision.transforms模块定义预处理流程，并在__getitem__中应用。\n",
    "\n",
    "注意事项\n",
    "线程安全：确保__getitem__的实现是线程安全的（避免全局变量修改）。\n",
    "高效读取：对于大规模数据（如图像），避免在__init__中一次性加载全部数据，应动态读取（如按需加载图片文件）。\n",
    "\n",
    "总结来说，Dataset类是PyTorch数据处理流程的基石，通过自定义实现，用户能够灵活适配各种数据源和预处理需求，而DataLoader则在此基础上提供了高效的数据加载和管理功能。"
   ],
   "id": "28c158f4c6a058ea"
  },
  {
   "metadata": {
    "ExecuteTime": {
     "end_time": "2025-03-24T00:10:07.647408Z",
     "start_time": "2025-03-24T00:10:07.644545Z"
    }
   },
   "cell_type": "code",
   "source": [
    "from PIL import Image\n",
    "import os"
   ],
   "id": "3048353b9233b035",
   "outputs": [],
   "execution_count": 16
  },
  {
   "metadata": {
    "ExecuteTime": {
     "end_time": "2025-03-24T00:21:44.201946Z",
     "start_time": "2025-03-24T00:21:44.198760Z"
    }
   },
   "cell_type": "code",
   "source": [
    "##os.path.dirname(path) 是 Python 的 os.path 模块中的一个函数，用于从一个文件路径中提取其所在目录的路径。它的核心功能是返回路径的父目录部分，常用于文件路径的解析和处理。\n",
    "##D:\\bigdata\\dl_learning\\dplearning_xiaotudui\\hymenoptera_data\\train\\ants"
   ],
   "id": "a9ad1cdb4167c249",
   "outputs": [],
   "execution_count": 25
  },
  {
   "metadata": {
    "ExecuteTime": {
     "end_time": "2025-03-24T00:25:46.550746Z",
     "start_time": "2025-03-24T00:25:46.547588Z"
    }
   },
   "cell_type": "code",
   "source": [
    "class Mydata(Dataset):\n",
    "    def __init__(self,root_dir,label_dir):\n",
    "        self.root_dir=root_dir\n",
    "        self.label_dir=label_dir\n",
    "        self.path=os.path.join(self.root_dir,self.label_dir)\n",
    "        self.img_path=os.listdir(self.path)\n",
    "\n",
    "    def __getitem__(self, idx):\n",
    "        img_name=self.img_path[idx]\n",
    "        img_item_path=os.path.join(self.path,img_name)\n",
    "        img=Image.open(img_item_path)\n",
    "        return img,self.label_dir\n",
    "    def __len__(self):\n",
    "        return len(self.img_path)"
   ],
   "id": "515f4f9cfda91585",
   "outputs": [],
   "execution_count": 38
  },
  {
   "metadata": {
    "ExecuteTime": {
     "end_time": "2025-03-24T00:25:47.079094Z",
     "start_time": "2025-03-24T00:25:47.076517Z"
    }
   },
   "cell_type": "code",
   "source": "mydata=Mydata(r'D:\\bigdata\\dl_learning\\dplearning_xiaotudui\\hymenoptera_data\\train','ants')",
   "id": "b6a6ed67c6178c9",
   "outputs": [],
   "execution_count": 39
  },
  {
   "metadata": {
    "ExecuteTime": {
     "end_time": "2025-03-24T00:28:17.229161Z",
     "start_time": "2025-03-24T00:28:17.225058Z"
    }
   },
   "cell_type": "code",
   "source": [
    "img,label=mydata[20]\n",
    "label\n"
   ],
   "id": "68cf7b4d517494b8",
   "outputs": [
    {
     "data": {
      "text/plain": [
       "'ants'"
      ]
     },
     "execution_count": 50,
     "metadata": {},
     "output_type": "execute_result"
    }
   ],
   "execution_count": 50
  },
  {
   "metadata": {
    "ExecuteTime": {
     "end_time": "2025-03-24T00:28:32.876816Z",
     "start_time": "2025-03-24T00:28:32.873225Z"
    }
   },
   "cell_type": "code",
   "source": "mydata.img_path",
   "id": "1915ac0908e5c031",
   "outputs": [
    {
     "data": {
      "text/plain": [
       "['0013035.jpg',\n",
       " '1030023514_aad5c608f9.jpg',\n",
       " '1095476100_3906d8afde.jpg',\n",
       " '1099452230_d1949d3250.jpg',\n",
       " '116570827_e9c126745d.jpg',\n",
       " '1225872729_6f0856588f.jpg',\n",
       " '1262877379_64fcada201.jpg',\n",
       " '1269756697_0bce92cdab.jpg',\n",
       " '1286984635_5119e80de1.jpg',\n",
       " '132478121_2a430adea2.jpg',\n",
       " '1360291657_dc248c5eea.jpg',\n",
       " '1368913450_e146e2fb6d.jpg',\n",
       " '1473187633_63ccaacea6.jpg',\n",
       " '148715752_302c84f5a4.jpg',\n",
       " '1489674356_09d48dde0a.jpg',\n",
       " '149244013_c529578289.jpg',\n",
       " '150801003_3390b73135.jpg',\n",
       " '150801171_cd86f17ed8.jpg',\n",
       " '154124431_65460430f2.jpg',\n",
       " '162603798_40b51f1654.jpg',\n",
       " '1660097129_384bf54490.jpg',\n",
       " '167890289_dd5ba923f3.jpg',\n",
       " '1693954099_46d4c20605.jpg',\n",
       " '175998972.jpg',\n",
       " '178538489_bec7649292.jpg',\n",
       " '1804095607_0341701e1c.jpg',\n",
       " '1808777855_2a895621d7.jpg',\n",
       " '188552436_605cc9b36b.jpg',\n",
       " '1917341202_d00a7f9af5.jpg',\n",
       " '1924473702_daa9aacdbe.jpg',\n",
       " '196057951_63bf063b92.jpg',\n",
       " '196757565_326437f5fe.jpg',\n",
       " '201558278_fe4caecc76.jpg',\n",
       " '201790779_527f4c0168.jpg',\n",
       " '2019439677_2db655d361.jpg',\n",
       " '207947948_3ab29d7207.jpg',\n",
       " '20935278_9190345f6b.jpg',\n",
       " '224655713_3956f7d39a.jpg',\n",
       " '2265824718_2c96f485da.jpg',\n",
       " '2265825502_fff99cfd2d.jpg',\n",
       " '226951206_d6bf946504.jpg',\n",
       " '2278278459_6b99605e50.jpg',\n",
       " '2288450226_a6e96e8fdf.jpg',\n",
       " '2288481644_83ff7e4572.jpg',\n",
       " '2292213964_ca51ce4bef.jpg',\n",
       " '24335309_c5ea483bb8.jpg',\n",
       " '245647475_9523dfd13e.jpg',\n",
       " '255434217_1b2b3fe0a4.jpg',\n",
       " '258217966_d9d90d18d3.jpg',\n",
       " '275429470_b2d7d9290b.jpg',\n",
       " '28847243_e79fe052cd.jpg',\n",
       " '318052216_84dff3f98a.jpg',\n",
       " '334167043_cbd1adaeb9.jpg',\n",
       " '339670531_94b75ae47a.jpg',\n",
       " '342438950_a3da61deab.jpg',\n",
       " '36439863_0bec9f554f.jpg',\n",
       " '374435068_7eee412ec4.jpg',\n",
       " '382971067_0bfd33afe0.jpg',\n",
       " '384191229_5779cf591b.jpg',\n",
       " '386190770_672743c9a7.jpg',\n",
       " '392382602_1b7bed32fa.jpg',\n",
       " '403746349_71384f5b58.jpg',\n",
       " '408393566_b5b694119b.jpg',\n",
       " '424119020_6d57481dab.jpg',\n",
       " '424873399_47658a91fb.jpg',\n",
       " '450057712_771b3bfc91.jpg',\n",
       " '45472593_bfd624f8dc.jpg',\n",
       " '459694881_ac657d3187.jpg',\n",
       " '460372577_f2f6a8c9fc.jpg',\n",
       " '460874319_0a45ab4d05.jpg',\n",
       " '466430434_4000737de9.jpg',\n",
       " '470127037_513711fd21.jpg',\n",
       " '474806473_ca6caab245.jpg',\n",
       " '475961153_b8c13fd405.jpg',\n",
       " '484293231_e53cfc0c89.jpg',\n",
       " '49375974_e28ba6f17e.jpg',\n",
       " '506249802_207cd979b4.jpg',\n",
       " '506249836_717b73f540.jpg',\n",
       " '512164029_c0a66b8498.jpg',\n",
       " '512863248_43c8ce579b.jpg',\n",
       " '518773929_734dbc5ff4.jpg',\n",
       " '522163566_fec115ca66.jpg',\n",
       " '522415432_2218f34bf8.jpg',\n",
       " '531979952_bde12b3bc0.jpg',\n",
       " '533848102_70a85ad6dd.jpg',\n",
       " '535522953_308353a07c.jpg',\n",
       " '540889389_48bb588b21.jpg',\n",
       " '541630764_dbd285d63c.jpg',\n",
       " '543417860_b14237f569.jpg',\n",
       " '560966032_988f4d7bc4.jpg',\n",
       " '5650366_e22b7e1065.jpg',\n",
       " '6240329_72c01e663e.jpg',\n",
       " '6240338_93729615ec.jpg',\n",
       " '649026570_e58656104b.jpg',\n",
       " '662541407_ff8db781e7.jpg',\n",
       " '67270775_e9fdf77e9d.jpg',\n",
       " '6743948_2b8c096dda.jpg',\n",
       " '684133190_35b62c0c1d.jpg',\n",
       " '69639610_95e0de17aa.jpg',\n",
       " '707895295_009cf23188.jpg',\n",
       " '7759525_1363d24e88.jpg',\n",
       " '795000156_a9900a4a71.jpg',\n",
       " '822537660_caf4ba5514.jpg',\n",
       " '82852639_52b7f7f5e3.jpg',\n",
       " '841049277_b28e58ad05.jpg',\n",
       " '886401651_f878e888cd.jpg',\n",
       " '892108839_f1aad4ca46.jpg',\n",
       " '938946700_ca1c669085.jpg',\n",
       " '957233405_25c1d1187b.jpg',\n",
       " '9715481_b3cb4114ff.jpg',\n",
       " '998118368_6ac1d91f81.jpg',\n",
       " 'ant photos.jpg',\n",
       " 'Ant_1.jpg',\n",
       " 'army-ants-red-picture.jpg',\n",
       " 'formica.jpeg',\n",
       " 'hormiga_co_por.jpg',\n",
       " 'imageNotFound.gif',\n",
       " 'kurokusa.jpg',\n",
       " 'MehdiabadiAnt2_600.jpg',\n",
       " 'Nepenthes_rafflesiana_ant.jpg',\n",
       " 'swiss-army-ant.jpg',\n",
       " 'termite-vs-ant.jpg',\n",
       " 'trap-jaw-ant-insect-bg.jpg',\n",
       " 'VietnameseAntMimicSpider.jpg']"
      ]
     },
     "execution_count": 51,
     "metadata": {},
     "output_type": "execute_result"
    }
   ],
   "execution_count": 51
  },
  {
   "metadata": {},
   "cell_type": "code",
   "outputs": [],
   "execution_count": null,
   "source": "",
   "id": "7c13baf12dc9a817"
  }
 ],
 "metadata": {
  "kernelspec": {
   "display_name": "Python 3",
   "language": "python",
   "name": "python3"
  },
  "language_info": {
   "codemirror_mode": {
    "name": "ipython",
    "version": 2
   },
   "file_extension": ".py",
   "mimetype": "text/x-python",
   "name": "python",
   "nbconvert_exporter": "python",
   "pygments_lexer": "ipython2",
   "version": "2.7.6"
  }
 },
 "nbformat": 4,
 "nbformat_minor": 5
}
