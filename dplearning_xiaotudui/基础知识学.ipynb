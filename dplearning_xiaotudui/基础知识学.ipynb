{
 "cells": [
  {
   "cell_type": "code",
   "id": "initial_id",
   "metadata": {
    "collapsed": true,
    "ExecuteTime": {
     "end_time": "2025-03-23T23:05:20.159498Z",
     "start_time": "2025-03-23T23:05:15.913764Z"
    }
   },
   "source": "import torch",
   "outputs": [],
   "execution_count": 1
  },
  {
   "metadata": {
    "ExecuteTime": {
     "end_time": "2025-03-23T23:05:34.584991Z",
     "start_time": "2025-03-23T23:05:34.512088Z"
    }
   },
   "cell_type": "code",
   "source": "torch.cuda.is_available()",
   "id": "ffd785bd4d89666f",
   "outputs": [
    {
     "data": {
      "text/plain": [
       "True"
      ]
     },
     "execution_count": 2,
     "metadata": {},
     "output_type": "execute_result"
    }
   ],
   "execution_count": 2
  },
  {
   "metadata": {},
   "cell_type": "markdown",
   "source": [
    "nvidia-smi 查看cuda情况\n",
    "dir() 查看包内有什么\n",
    "help() 查看帮助"
   ],
   "id": "6623ca2c1d8839e4"
  },
  {
   "metadata": {
    "ExecuteTime": {
     "end_time": "2025-03-23T23:17:31.278930Z",
     "start_time": "2025-03-23T23:17:31.276646Z"
    }
   },
   "cell_type": "code",
   "source": "from torch.utils.data import Dataset, DataLoader",
   "id": "b6ba2aaf8bcf5733",
   "outputs": [],
   "execution_count": 9
  },
  {
   "metadata": {},
   "cell_type": "markdown",
   "source": [
    "PyTorch中的torch.utils.data.Dataset类是一个用于表示数据集的抽象类，它定义了访问数据样本及其标签的标准方式。以下是其核心作用和使用方法的详细说明：\n",
    "Dataset 是一个抽象基类（Abstract Base Class），它定义了 __len__ 和 __getitem__ 这两个必须实现的方法，但具体如何加载数据、从哪里加载数据，完全由用户自定义。\n",
    "\n",
    "核心作用\n",
    "\n",
    "数据封装与标准化接口：\n",
    "\n",
    "Dataset类将数据（如图像、文本等）及其标签封装为一个统一的对象，要求用户实现__len__和__getitem__方法。\n",
    "__len__：返回数据集的样本总数。\n",
    "__getitem__：根据索引返回对应的样本和标签（支持张量或其他格式）。\n",
    "\n",
    "与DataLoader配合：\n",
    "\n",
    "Dataset通常与DataLoader结合使用。DataLoader负责批量加载数据、多线程加速、数据打乱等操作，而Dataset专注于单个样本的读取和预处理。\n",
    "\n",
    "灵活性：\n",
    "\n",
    "内置数据集（如MNIST、CIFAR-10）已实现Dataset接口，可直接使用。\n",
    "自定义数据集时，继承Dataset并实现关键方法，可处理任意存储格式的数据（如文件夹、CSV文件、数据库）。\n",
    "实现自定义Dataset的步骤\n",
    "\n",
    "继承Dataset类：\n",
    "\n",
    "python\n",
    "复制代码\n",
    "from torch.utils.data import Dataset\n",
    "class CustomDataset(Dataset):\n",
    "    def __init__(self, data, labels, transform=None):\n",
    "        self.data = data          # 数据路径或数据本身\n",
    "        self.labels = labels      # 标签\n",
    "        self.transform = transform# 数据预处理（如transforms.Compose）\n",
    "\n",
    "    def __len__(self):\n",
    "        return len(self.data)\n",
    "\n",
    "    def __getitem__(self, idx):\n",
    "        sample = self.data[idx]\n",
    "        label = self.labels[idx]\n",
    "        if self.transform:\n",
    "            sample = self.transform(sample)\n",
    "        return sample, label\n",
    "\n",
    "\n",
    "使用DataLoader加载：\n",
    "\n",
    "python\n",
    "复制代码\n",
    "from torch.utils.data import DataLoader\n",
    "dataset = CustomDataset(data, labels, transform=my_transforms)\n",
    "dataloader = DataLoader(dataset, batch_size=32, shuffle=True, num_workers=4)\n",
    "\n",
    "实际应用场景\n",
    "图像处理：读取图片文件，应用数据增强（随机裁剪、翻转等）。\n",
    "文本处理：加载文本数据并转换为词向量。\n",
    "非标准数据：处理自定义存储结构的数据（如数据库查询结果）。\n",
    "内置工具与优化\n",
    "\n",
    "TensorDataset：若数据已存储在张量中，可直接使用TensorDataset快速封装。\n",
    "\n",
    "python\n",
    "复制代码\n",
    "import torch\n",
    "from torch.utils.data import TensorDataset\n",
    "data_tensor = torch.tensor(...)\n",
    "labels_tensor = torch.tensor(...)\n",
    "dataset = TensorDataset(data_tensor, labels_tensor)\n",
    "\n",
    "\n",
    "数据增强：通过torchvision.transforms模块定义预处理流程，并在__getitem__中应用。\n",
    "\n",
    "注意事项\n",
    "线程安全：确保__getitem__的实现是线程安全的（避免全局变量修改）。\n",
    "高效读取：对于大规模数据（如图像），避免在__init__中一次性加载全部数据，应动态读取（如按需加载图片文件）。\n",
    "\n",
    "总结来说，Dataset类是PyTorch数据处理流程的基石，通过自定义实现，用户能够灵活适配各种数据源和预处理需求，而DataLoader则在此基础上提供了高效的数据加载和管理功能。"
   ],
   "id": "28c158f4c6a058ea"
  },
  {
   "metadata": {
    "ExecuteTime": {
     "end_time": "2025-03-23T23:41:40.551233Z",
     "start_time": "2025-03-23T23:41:40.539258Z"
    }
   },
   "cell_type": "code",
   "source": "from PIL import Image",
   "id": "3048353b9233b035",
   "outputs": [],
   "execution_count": 14
  },
  {
   "metadata": {
    "ExecuteTime": {
     "end_time": "2025-03-23T23:17:49.509145Z",
     "start_time": "2025-03-23T23:17:49.504596Z"
    }
   },
   "cell_type": "code",
   "source": [
    "class Mydata(Dataset):\n",
    "    def __init__(self):\n",
    "\n"
   ],
   "id": "515f4f9cfda91585",
   "outputs": [
    {
     "name": "stdout",
     "output_type": "stream",
     "text": [
      "Help on class Dataset in module torch.utils.data.dataset:\n",
      "\n",
      "class Dataset(typing.Generic)\n",
      " |  An abstract class representing a :class:`Dataset`.\n",
      " |\n",
      " |  All datasets that represent a map from keys to data samples should subclass\n",
      " |  it. All subclasses should overwrite :meth:`__getitem__`, supporting fetching a\n",
      " |  data sample for a given key. Subclasses could also optionally overwrite\n",
      " |  :meth:`__len__`, which is expected to return the size of the dataset by many\n",
      " |  :class:`~torch.utils.data.Sampler` implementations and the default options\n",
      " |  of :class:`~torch.utils.data.DataLoader`. Subclasses could also\n",
      " |  optionally implement :meth:`__getitems__`, for speedup batched samples\n",
      " |  loading. This method accepts list of indices of samples of batch and returns\n",
      " |  list of samples.\n",
      " |\n",
      " |  .. note::\n",
      " |    :class:`~torch.utils.data.DataLoader` by default constructs an index\n",
      " |    sampler that yields integral indices.  To make it work with a map-style\n",
      " |    dataset with non-integral indices/keys, a custom sampler must be provided.\n",
      " |\n",
      " |  Method resolution order:\n",
      " |      Dataset\n",
      " |      typing.Generic\n",
      " |      builtins.object\n",
      " |\n",
      " |  Methods defined here:\n",
      " |\n",
      " |  __add__(self, other: 'Dataset[_T_co]') -> 'ConcatDataset[_T_co]'\n",
      " |\n",
      " |  __getitem__(self, index) -> +_T_co\n",
      " |\n",
      " |  ----------------------------------------------------------------------\n",
      " |  Data descriptors defined here:\n",
      " |\n",
      " |  __dict__\n",
      " |      dictionary for instance variables\n",
      " |\n",
      " |  __weakref__\n",
      " |      list of weak references to the object\n",
      " |\n",
      " |  ----------------------------------------------------------------------\n",
      " |  Data and other attributes defined here:\n",
      " |\n",
      " |  __annotations__ = {}\n",
      " |\n",
      " |  __orig_bases__ = (typing.Generic[+_T_co],)\n",
      " |\n",
      " |  __parameters__ = (+_T_co,)\n",
      " |\n",
      " |  ----------------------------------------------------------------------\n",
      " |  Class methods inherited from typing.Generic:\n",
      " |\n",
      " |  __class_getitem__(...)\n",
      " |      Parameterizes a generic class.\n",
      " |\n",
      " |      At least, parameterizing a generic class is the *main* thing this\n",
      " |      method does. For example, for some generic class `Foo`, this is called\n",
      " |      when we do `Foo[int]` - there, with `cls=Foo` and `params=int`.\n",
      " |\n",
      " |      However, note that this method is also called when defining generic\n",
      " |      classes in the first place with `class Foo[T]: ...`.\n",
      " |\n",
      " |  __init_subclass__(...)\n",
      " |      Function to initialize subclasses.\n",
      "\n"
     ]
    }
   ],
   "execution_count": 11
  },
  {
   "metadata": {
    "ExecuteTime": {
     "end_time": "2025-03-23T23:29:10.449356Z",
     "start_time": "2025-03-23T23:29:10.447242Z"
    }
   },
   "cell_type": "code",
   "source": "",
   "id": "b6a6ed67c6178c9",
   "outputs": [],
   "execution_count": null
  },
  {
   "metadata": {
    "ExecuteTime": {
     "end_time": "2025-03-23T23:29:31.728791Z",
     "start_time": "2025-03-23T23:29:26.122888Z"
    }
   },
   "cell_type": "code",
   "source": "pip install opencv-python",
   "id": "68cf7b4d517494b8",
   "outputs": [
    {
     "name": "stdout",
     "output_type": "stream",
     "text": [
      "Collecting opencv-python\n",
      "  Downloading opencv_python-4.11.0.86-cp37-abi3-win_amd64.whl.metadata (20 kB)\n",
      "Requirement already satisfied: numpy>=1.21.2 in e:\\tech_software\\python\\lib\\site-packages (from opencv-python) (2.1.2)\n",
      "Downloading opencv_python-4.11.0.86-cp37-abi3-win_amd64.whl (39.5 MB)\n",
      "   ---------------------------------------- 0.0/39.5 MB ? eta -:--:--\n",
      "    --------------------------------------- 0.8/39.5 MB 7.5 MB/s eta 0:00:06\n",
      "   ----- ---------------------------------- 5.5/39.5 MB 19.2 MB/s eta 0:00:02\n",
      "   ----------- ---------------------------- 11.0/39.5 MB 21.9 MB/s eta 0:00:02\n",
      "   --------------- ------------------------ 15.2/39.5 MB 23.1 MB/s eta 0:00:02\n",
      "   ----------------------- ---------------- 22.8/39.5 MB 24.2 MB/s eta 0:00:01\n",
      "   ----------------------------- ---------- 29.4/39.5 MB 25.5 MB/s eta 0:00:01\n",
      "   ----------------------------------- ---- 34.9/39.5 MB 25.4 MB/s eta 0:00:01\n",
      "   ---------------------------------------  39.3/39.5 MB 25.3 MB/s eta 0:00:01\n",
      "   ---------------------------------------- 39.5/39.5 MB 24.2 MB/s eta 0:00:00\n",
      "Installing collected packages: opencv-python\n",
      "Successfully installed opencv-python-4.11.0.86\n",
      "Note: you may need to restart the kernel to use updated packages.\n"
     ]
    }
   ],
   "execution_count": 12
  },
  {
   "metadata": {},
   "cell_type": "code",
   "outputs": [],
   "execution_count": null,
   "source": "",
   "id": "1915ac0908e5c031"
  }
 ],
 "metadata": {
  "kernelspec": {
   "display_name": "Python 3",
   "language": "python",
   "name": "python3"
  },
  "language_info": {
   "codemirror_mode": {
    "name": "ipython",
    "version": 2
   },
   "file_extension": ".py",
   "mimetype": "text/x-python",
   "name": "python",
   "nbconvert_exporter": "python",
   "pygments_lexer": "ipython2",
   "version": "2.7.6"
  }
 },
 "nbformat": 4,
 "nbformat_minor": 5
}
