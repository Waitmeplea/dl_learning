{
 "cells": [
  {
   "cell_type": "code",
   "id": "initial_id",
   "metadata": {
    "collapsed": true,
    "ExecuteTime": {
     "end_time": "2025-03-23T23:05:20.159498Z",
     "start_time": "2025-03-23T23:05:15.913764Z"
    }
   },
   "source": "import torch",
   "outputs": [],
   "execution_count": 1
  },
  {
   "metadata": {
    "ExecuteTime": {
     "end_time": "2025-03-23T23:05:34.584991Z",
     "start_time": "2025-03-23T23:05:34.512088Z"
    }
   },
   "cell_type": "code",
   "source": "torch.cuda.is_available()",
   "id": "ffd785bd4d89666f",
   "outputs": [
    {
     "data": {
      "text/plain": [
       "True"
      ]
     },
     "execution_count": 2,
     "metadata": {},
     "output_type": "execute_result"
    }
   ],
   "execution_count": 2
  },
  {
   "metadata": {},
   "cell_type": "markdown",
   "source": [
    "nvidia-smi 查看cuda情况\n",
    "dir() 查看包内有什么\n",
    "help() 查看帮助"
   ],
   "id": "6623ca2c1d8839e4"
  },
  {
   "metadata": {
    "ExecuteTime": {
     "end_time": "2025-03-23T23:17:31.278930Z",
     "start_time": "2025-03-23T23:17:31.276646Z"
    }
   },
   "cell_type": "code",
   "source": "from torch.utils.data import Dataset, DataLoader",
   "id": "b6ba2aaf8bcf5733",
   "outputs": [],
   "execution_count": 9
  },
  {
   "metadata": {},
   "cell_type": "markdown",
   "source": [
    "PyTorch中的torch.utils.data.Dataset类是一个用于表示数据集的抽象类，它定义了访问数据样本及其标签的标准方式。以下是其核心作用和使用方法的详细说明：\n",
    "Dataset 是一个抽象基类（Abstract Base Class），它定义了 __len__ 和 __getitem__ 这两个必须实现的方法，但具体如何加载数据、从哪里加载数据，完全由用户自定义。\n",
    "\n",
    "核心作用\n",
    "\n",
    "数据封装与标准化接口：\n",
    "\n",
    "Dataset类将数据（如图像、文本等）及其标签封装为一个统一的对象，要求用户实现__len__和__getitem__方法。\n",
    "__len__：返回数据集的样本总数。\n",
    "__getitem__：根据索引返回对应的样本和标签（支持张量或其他格式）。\n",
    "\n",
    "与DataLoader配合：\n",
    "\n",
    "Dataset通常与DataLoader结合使用。DataLoader负责批量加载数据、多线程加速、数据打乱等操作，而Dataset专注于单个样本的读取和预处理。\n",
    "\n",
    "灵活性：\n",
    "\n",
    "内置数据集（如MNIST、CIFAR-10）已实现Dataset接口，可直接使用。\n",
    "自定义数据集时，继承Dataset并实现关键方法，可处理任意存储格式的数据（如文件夹、CSV文件、数据库）。\n",
    "实现自定义Dataset的步骤\n",
    "\n",
    "继承Dataset类：\n",
    "\n",
    "python\n",
    "复制代码\n",
    "from torch.utils.data import Dataset\n",
    "class CustomDataset(Dataset):\n",
    "    def __init__(self, data, labels, transform=None):\n",
    "        self.data = data          # 数据路径或数据本身\n",
    "        self.labels = labels      # 标签\n",
    "        self.transform = transform# 数据预处理（如transforms.Compose）\n",
    "\n",
    "    def __len__(self):\n",
    "        return len(self.data)\n",
    "\n",
    "    def __getitem__(self, idx):\n",
    "        sample = self.data[idx]\n",
    "        label = self.labels[idx]\n",
    "        if self.transform:\n",
    "            sample = self.transform(sample)\n",
    "        return sample, label\n",
    "\n",
    "\n",
    "使用DataLoader加载：\n",
    "\n",
    "python\n",
    "复制代码\n",
    "from torch.utils.data import DataLoader\n",
    "dataset = CustomDataset(data, labels, transform=my_transforms)\n",
    "dataloader = DataLoader(dataset, batch_size=32, shuffle=True, num_workers=4)\n",
    "\n",
    "实际应用场景\n",
    "图像处理：读取图片文件，应用数据增强（随机裁剪、翻转等）。\n",
    "文本处理：加载文本数据并转换为词向量。\n",
    "非标准数据：处理自定义存储结构的数据（如数据库查询结果）。\n",
    "内置工具与优化\n",
    "\n",
    "TensorDataset：若数据已存储在张量中，可直接使用TensorDataset快速封装。\n",
    "\n",
    "python\n",
    "复制代码\n",
    "import torch\n",
    "from torch.utils.data import TensorDataset\n",
    "data_tensor = torch.tensor(...)\n",
    "labels_tensor = torch.tensor(...)\n",
    "dataset = TensorDataset(data_tensor, labels_tensor)\n",
    "\n",
    "\n",
    "数据增强：通过torchvision.transforms模块定义预处理流程，并在__getitem__中应用。\n",
    "\n",
    "注意事项\n",
    "线程安全：确保__getitem__的实现是线程安全的（避免全局变量修改）。\n",
    "高效读取：对于大规模数据（如图像），避免在__init__中一次性加载全部数据，应动态读取（如按需加载图片文件）。\n",
    "\n",
    "总结来说，Dataset类是PyTorch数据处理流程的基石，通过自定义实现，用户能够灵活适配各种数据源和预处理需求，而DataLoader则在此基础上提供了高效的数据加载和管理功能。"
   ],
   "id": "28c158f4c6a058ea"
  },
  {
   "metadata": {
    "ExecuteTime": {
     "end_time": "2025-03-24T00:10:07.647408Z",
     "start_time": "2025-03-24T00:10:07.644545Z"
    }
   },
   "cell_type": "code",
   "source": [
    "from PIL import Image\n",
    "import os"
   ],
   "id": "3048353b9233b035",
   "outputs": [],
   "execution_count": 16
  },
  {
   "metadata": {
    "ExecuteTime": {
     "end_time": "2025-03-24T00:21:44.201946Z",
     "start_time": "2025-03-24T00:21:44.198760Z"
    }
   },
   "cell_type": "code",
   "source": [
    "##os.path.dirname(path) 是 Python 的 os.path 模块中的一个函数，用于从一个文件路径中提取其所在目录的路径。它的核心功能是返回路径的父目录部分，常用于文件路径的解析和处理。\n",
    "##D:\\bigdata\\dl_learning\\dplearning_xiaotudui\\hymenoptera_data\\train\\ants"
   ],
   "id": "a9ad1cdb4167c249",
   "outputs": [],
   "execution_count": 25
  },
  {
   "metadata": {
    "ExecuteTime": {
     "end_time": "2025-03-24T00:23:47.072338Z",
     "start_time": "2025-03-24T00:23:47.068721Z"
    }
   },
   "cell_type": "code",
   "source": [
    "class Mydata(Dataset):\n",
    "    def __init__(self,root_dir,label_dir):\n",
    "        self.root_dir=root_dir\n",
    "        self.label_dir=label_dir\n",
    "        self.path=os.path.join(self.root_dir,self.label_dir)\n",
    "        self.img_path=os.listdir(self.path)\n",
    "\n",
    "    def __getitem__(self, idx):\n",
    "        img_name=self.img_path[idx]\n",
    "        img_item_path=os.path.join(self.path,img_name)\n",
    "        img=Image.open(img_item_path)\n",
    "        return img,self.label_dir"
   ],
   "id": "515f4f9cfda91585",
   "outputs": [],
   "execution_count": 35
  },
  {
   "metadata": {
    "ExecuteTime": {
     "end_time": "2025-03-24T00:23:47.945030Z",
     "start_time": "2025-03-24T00:23:47.942687Z"
    }
   },
   "cell_type": "code",
   "source": "mydata=Mydata(r'D:\\bigdata\\dl_learning\\dplearning_xiaotudui\\hymenoptera_data\\train','ants')",
   "id": "b6a6ed67c6178c9",
   "outputs": [],
   "execution_count": 36
  },
  {
   "metadata": {
    "ExecuteTime": {
     "end_time": "2025-03-24T00:23:48.197404Z",
     "start_time": "2025-03-24T00:23:48.193987Z"
    }
   },
   "cell_type": "code",
   "source": "mydata.__getitem__(1)\n",
   "id": "68cf7b4d517494b8",
   "outputs": [
    {
     "data": {
      "text/plain": [
       "(<PIL.JpegImagePlugin.JpegImageFile image mode=RGB size=500x333>, 'ants')"
      ]
     },
     "execution_count": 37,
     "metadata": {},
     "output_type": "execute_result"
    }
   ],
   "execution_count": 37
  },
  {
   "metadata": {},
   "cell_type": "code",
   "outputs": [],
   "execution_count": null,
   "source": "",
   "id": "1915ac0908e5c031"
  }
 ],
 "metadata": {
  "kernelspec": {
   "display_name": "Python 3",
   "language": "python",
   "name": "python3"
  },
  "language_info": {
   "codemirror_mode": {
    "name": "ipython",
    "version": 2
   },
   "file_extension": ".py",
   "mimetype": "text/x-python",
   "name": "python",
   "nbconvert_exporter": "python",
   "pygments_lexer": "ipython2",
   "version": "2.7.6"
  }
 },
 "nbformat": 4,
 "nbformat_minor": 5
}
