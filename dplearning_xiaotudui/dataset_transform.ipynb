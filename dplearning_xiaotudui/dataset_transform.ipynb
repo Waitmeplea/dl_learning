{
 "cells": [
  {
   "cell_type": "code",
   "id": "initial_id",
   "metadata": {
    "collapsed": true,
    "ExecuteTime": {
     "end_time": "2025-03-26T00:15:25.050240Z",
     "start_time": "2025-03-26T00:15:25.047988Z"
    }
   },
   "source": [
    "import torchvision\n",
    "from PIL import Image"
   ],
   "outputs": [],
   "execution_count": 8
  },
  {
   "metadata": {
    "ExecuteTime": {
     "end_time": "2025-03-26T00:12:36.098834Z",
     "start_time": "2025-03-26T00:12:01.195048Z"
    }
   },
   "cell_type": "code",
   "source": "train_set=torchvision.datasets.CIFAR10(root='./data', train=True,download=True)",
   "id": "ffacf6303fbe9fa6",
   "outputs": [
    {
     "name": "stderr",
     "output_type": "stream",
     "text": [
      "100.0%\n"
     ]
    }
   ],
   "execution_count": 2
  },
  {
   "metadata": {
    "ExecuteTime": {
     "end_time": "2025-03-26T00:13:57.807306Z",
     "start_time": "2025-03-26T00:13:57.102550Z"
    }
   },
   "cell_type": "code",
   "source": [
    "test_set=torchvision.datasets.CIFAR10(root='./data', train=True,download=True)\n",
    "##查看有哪些类别\n",
    "test_set.classes"
   ],
   "id": "4c18cba28c3ad631",
   "outputs": [],
   "execution_count": 4
  },
  {
   "metadata": {
    "ExecuteTime": {
     "end_time": "2025-03-26T00:17:50.151357Z",
     "start_time": "2025-03-26T00:17:50.148412Z"
    }
   },
   "cell_type": "code",
   "source": "test_set[0]",
   "id": "3ee27626ccc5249f",
   "outputs": [
    {
     "data": {
      "text/plain": [
       "(<PIL.Image.Image image mode=RGB size=32x32>, 6)"
      ]
     },
     "execution_count": 21,
     "metadata": {},
     "output_type": "execute_result"
    }
   ],
   "execution_count": 21
  },
  {
   "metadata": {
    "ExecuteTime": {
     "end_time": "2025-03-26T00:17:00.298159Z",
     "start_time": "2025-03-26T00:17:00.295061Z"
    }
   },
   "cell_type": "code",
   "source": "",
   "id": "9ccda966a3fe75bf",
   "outputs": [
    {
     "data": {
      "text/plain": [
       "['airplane',\n",
       " 'automobile',\n",
       " 'bird',\n",
       " 'cat',\n",
       " 'deer',\n",
       " 'dog',\n",
       " 'frog',\n",
       " 'horse',\n",
       " 'ship',\n",
       " 'truck']"
      ]
     },
     "execution_count": 17,
     "metadata": {},
     "output_type": "execute_result"
    }
   ],
   "execution_count": 17
  },
  {
   "metadata": {},
   "cell_type": "code",
   "outputs": [],
   "execution_count": null,
   "source": "",
   "id": "633578a39bc3e459"
  }
 ],
 "metadata": {
  "kernelspec": {
   "display_name": "Python 3",
   "language": "python",
   "name": "python3"
  },
  "language_info": {
   "codemirror_mode": {
    "name": "ipython",
    "version": 2
   },
   "file_extension": ".py",
   "mimetype": "text/x-python",
   "name": "python",
   "nbconvert_exporter": "python",
   "pygments_lexer": "ipython2",
   "version": "2.7.6"
  }
 },
 "nbformat": 4,
 "nbformat_minor": 5
}
