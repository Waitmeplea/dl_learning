{
 "cells": [
  {
   "metadata": {},
   "cell_type": "code",
   "outputs": [],
   "execution_count": null,
   "source": [
    "import torch\n",
    "import torchvision\n",
    "from torch.utils.data import Dataset, DataLoader"
   ],
   "id": "3e92d175280835b9"
  },
  {
   "cell_type": "code",
   "id": "initial_id",
   "metadata": {
    "collapsed": true,
    "ExecuteTime": {
     "end_time": "2025-03-31T05:51:03.097964Z",
     "start_time": "2025-03-31T05:51:02.454504Z"
    }
   },
   "source": "dataset=torchvision.datasets.CIFAR10(root='../data',transform=torchvision.transforms.ToTensor(), train=False, download=True)\n",
   "outputs": [],
   "execution_count": 10
  },
  {
   "metadata": {
    "ExecuteTime": {
     "end_time": "2025-03-31T05:51:05.454641Z",
     "start_time": "2025-03-31T05:51:05.447608Z"
    }
   },
   "cell_type": "code",
   "source": "Dataloader = torch.utils.data.DataLoader(dataset,batch_size=4,shuffle=True)",
   "id": "8e47f577406b4469",
   "outputs": [],
   "execution_count": 11
  },
  {
   "metadata": {
    "ExecuteTime": {
     "end_time": "2025-03-31T05:49:20.075624Z",
     "start_time": "2025-03-31T05:49:20.071490Z"
    }
   },
   "cell_type": "code",
   "source": "",
   "id": "4ab676ca7175be6d",
   "outputs": [
    {
     "data": {
      "text/plain": [
       "<torch.utils.data.dataloader.DataLoader at 0x285cd9fc990>"
      ]
     },
     "execution_count": 7,
     "metadata": {},
     "output_type": "execute_result"
    }
   ],
   "execution_count": 7
  }
 ],
 "metadata": {
  "kernelspec": {
   "display_name": "Python 3",
   "language": "python",
   "name": "python3"
  },
  "language_info": {
   "codemirror_mode": {
    "name": "ipython",
    "version": 2
   },
   "file_extension": ".py",
   "mimetype": "text/x-python",
   "name": "python",
   "nbconvert_exporter": "python",
   "pygments_lexer": "ipython2",
   "version": "2.7.6"
  }
 },
 "nbformat": 4,
 "nbformat_minor": 5
}
