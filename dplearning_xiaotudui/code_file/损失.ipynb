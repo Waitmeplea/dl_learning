{
 "cells": [
  {
   "metadata": {
    "ExecuteTime": {
     "end_time": "2025-03-30T08:57:35.095696Z",
     "start_time": "2025-03-30T08:57:35.092886Z"
    }
   },
   "cell_type": "code",
   "source": [
    "import torch\n",
    "from torch.linalg import cross\n",
    "from torch.nn import L1Loss, CrossEntropyLoss\n",
    "from torch.nn.functional import cross_entropy\n",
    "\n",
    "inputs=torch.tensor([1,2,3],dtype=torch.float)\n",
    "outputs=torch.tensor([2,3,4],dtype=torch.float)"
   ],
   "id": "55d24ecbcf004cb1",
   "outputs": [],
   "execution_count": 17
  },
  {
   "metadata": {
    "ExecuteTime": {
     "end_time": "2025-03-30T08:57:35.454916Z",
     "start_time": "2025-03-30T08:57:35.450898Z"
    }
   },
   "cell_type": "code",
   "source": [
    "loss=L1Loss(reduction='sum')\n",
    "loss.forward(inputs,outputs)"
   ],
   "id": "a453dcacc48bb625",
   "outputs": [
    {
     "data": {
      "text/plain": [
       "tensor(3.)"
      ]
     },
     "execution_count": 18,
     "metadata": {},
     "output_type": "execute_result"
    }
   ],
   "execution_count": 18
  },
  {
   "metadata": {
    "ExecuteTime": {
     "end_time": "2025-03-30T08:58:32.953049Z",
     "start_time": "2025-03-30T08:58:32.950269Z"
    }
   },
   "cell_type": "code",
   "source": [
    "x=torch.tensor([0.1,0.2,0.3],dtype=torch.float)\n",
    "y=torch.tensor([0,1,0],dtype=torch.float)\n",
    "x=torch.reshape(x,(1,3))\n",
    "y=torch.reshape(y,(1,3))\n",
    "loss=CrossEntropyLoss()"
   ],
   "id": "34077b7d8f95b88c",
   "outputs": [],
   "execution_count": 28
  }
 ],
 "metadata": {
  "kernelspec": {
   "display_name": "Python 3",
   "language": "python",
   "name": "python3"
  },
  "language_info": {
   "codemirror_mode": {
    "name": "ipython",
    "version": 2
   },
   "file_extension": ".py",
   "mimetype": "text/x-python",
   "name": "python",
   "nbconvert_exporter": "python",
   "pygments_lexer": "ipython2",
   "version": "2.7.6"
  }
 },
 "nbformat": 4,
 "nbformat_minor": 5
}
