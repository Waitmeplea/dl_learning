{
 "cells": [
  {
   "cell_type": "code",
   "id": "initial_id",
   "metadata": {
    "collapsed": true,
    "ExecuteTime": {
     "end_time": "2025-03-26T23:30:36.619110Z",
     "start_time": "2025-03-26T23:29:25.064093Z"
    }
   },
   "source": [
    "import torchvision\n",
    "from PIL import Image\n",
    "from torch.utils.tensorboard import SummaryWriter\n",
    "from torchvision import transforms\n",
    "\n",
    "\n",
    "transforms_method=torchvision.transforms.Compose([transforms.Resize(128*128),transforms.ToTensor()])\n",
    "\n",
    "root_dir= r'/dplearning_xiaotudui/data'\n",
    "# train_set=torchvision.datasets.CIFAR10(root=root_dir,transform=transforms_method, train=True,download=True)\n",
    "test_set=torchvision.datasets.CIFAR10(root=root_dir,transform=transforms_method, train=True,download=True)\n",
    "writer=SummaryWriter(log_dir='./log')\n",
    "for i in range(5):\n",
    "    img,target=test_set[i]\n",
    "    writer.add_image('CIFAR10',img,target)\n",
    "writer.close()\n"
   ],
   "outputs": [],
   "execution_count": 16
  },
  {
   "metadata": {},
   "cell_type": "code",
   "outputs": [],
   "execution_count": null,
   "source": "# tensorboard --logdir=./log",
   "id": "633578a39bc3e459"
  }
 ],
 "metadata": {
  "kernelspec": {
   "display_name": "Python 3",
   "language": "python",
   "name": "python3"
  },
  "language_info": {
   "codemirror_mode": {
    "name": "ipython",
    "version": 2
   },
   "file_extension": ".py",
   "mimetype": "text/x-python",
   "name": "python",
   "nbconvert_exporter": "python",
   "pygments_lexer": "ipython2",
   "version": "2.7.6"
  }
 },
 "nbformat": 4,
 "nbformat_minor": 5
}
