{
 "cells": [
  {
   "cell_type": "code",
   "id": "initial_id",
   "metadata": {
    "collapsed": true,
    "ExecuteTime": {
     "end_time": "2025-04-01T06:07:51.455167Z",
     "start_time": "2025-04-01T06:07:51.451361Z"
    }
   },
   "source": [
    "import numpy as np\n",
    "import torch\n",
    "from torch import nn\n",
    "from PIL import Image\n",
    "from torchvision.transforms import transforms\n",
    "import numpy as np"
   ],
   "outputs": [],
   "execution_count": 33
  },
  {
   "metadata": {
    "ExecuteTime": {
     "end_time": "2025-04-01T05:53:59.389042Z",
     "start_time": "2025-04-01T05:53:59.384668Z"
    }
   },
   "cell_type": "code",
   "source": [
    "\n",
    "\n",
    "class Net(nn.Module):\n",
    "    def __init__(self):\n",
    "        super(Net, self).__init__()\n",
    "        self.sequential = nn.Sequential(\n",
    "            nn.Conv2d(in_channels=3, out_channels=32, kernel_size=5, stride=1, padding=2),\n",
    "            nn.MaxPool2d(kernel_size=2, stride=2),\n",
    "            nn.Conv2d(in_channels=32, out_channels=32, kernel_size=5, stride=1, padding=2),\n",
    "            nn.MaxPool2d(kernel_size=2, stride=2),\n",
    "            nn.Conv2d(in_channels=32, out_channels=64, kernel_size=5, stride=1, padding=2),\n",
    "            nn.MaxPool2d(kernel_size=2, stride=2),\n",
    "            nn.Flatten(start_dim=1),\n",
    "            nn.Linear(in_features=64 * 4 * 4, out_features=10)\n",
    "        )\n",
    "\n",
    "    def forward(self, x):\n",
    "        out = self.sequential(x)\n",
    "        return out"
   ],
   "id": "b0e926dd2e5c4abe",
   "outputs": [],
   "execution_count": 4
  },
  {
   "metadata": {
    "ExecuteTime": {
     "end_time": "2025-04-01T05:54:51.699550Z",
     "start_time": "2025-04-01T05:54:51.684594Z"
    }
   },
   "cell_type": "code",
   "source": [
    "###模型加载\n",
    "net=Net()\n",
    "net.load_state_dict(torch.load(\"hmy_net_model8.pth\",map_location=torch.device('cpu')))"
   ],
   "id": "295558b5eeb494cd",
   "outputs": [
    {
     "data": {
      "text/plain": [
       "<All keys matched successfully>"
      ]
     },
     "execution_count": 6,
     "metadata": {},
     "output_type": "execute_result"
    }
   ],
   "execution_count": 6
  },
  {
   "metadata": {
    "ExecuteTime": {
     "end_time": "2025-04-01T06:08:33.488087Z",
     "start_time": "2025-04-01T06:08:33.484702Z"
    }
   },
   "cell_type": "code",
   "source": "print(img)",
   "id": "425dce1ba1c63d52",
   "outputs": [
    {
     "name": "stdout",
     "output_type": "stream",
     "text": [
      "<PIL.Image.Image image mode=RGB size=800x1067 at 0x22DEEE57CD0>\n"
     ]
    }
   ],
   "execution_count": 35
  },
  {
   "metadata": {
    "ExecuteTime": {
     "end_time": "2025-04-01T06:26:29.462544Z",
     "start_time": "2025-04-01T06:26:29.447553Z"
    }
   },
   "cell_type": "code",
   "source": [
    "###图片加载\n",
    "###先加载为PIL格式\n",
    "img=Image.open('dog.jpg')\n",
    "img=img.convert('RGB')\n",
    "\n",
    "###图片转换\n",
    "transform = transforms.Compose([    transforms.Resize(32),  # 短边缩放到32\n",
    "    transforms.CenterCrop((32, 32))  # 裁剪到32x32\n",
    "    ,transforms.ToTensor()])\n",
    "img_tensor=transform(img)\n",
    "\n",
    "####还原需要先乘以255\n",
    "img_array=np.array(img_tensor)*255\n",
    "###还原需要设置为uint8格式\n",
    "img_array=img_array.astype('uint8')\n",
    "###还原需要修改通道维度的位置\n",
    "img_array=img_array.transpose((1,2,0))\n",
    "###np.array图像表示\n",
    "Image.fromarray(img_array)"
   ],
   "id": "3e327a15b1e75fc0",
   "outputs": [
    {
     "data": {
      "text/plain": [
       "<PIL.Image.Image image mode=RGB size=32x32>"
      ],
      "image/png": "[encoded data removed]"
     },
     "execution_count": 78,
     "metadata": {},
     "output_type": "execute_result"
    }
   ],
   "execution_count": 78
  },
  {
   "metadata": {
    "ExecuteTime": {
     "end_time": "2025-04-01T06:25:47.564207Z",
     "start_time": "2025-04-01T06:25:47.557516Z"
    }
   },
   "cell_type": "code",
   "source": "img_array*255",
   "id": "4e00c8f02d540c0",
   "outputs": [
    {
     "data": {
      "text/plain": [
       "array([[[178., 177., 173.],\n",
       "        [179., 178., 174.],\n",
       "        [177., 176., 172.],\n",
       "        ...,\n",
       "        [ 97., 122.,  61.],\n",
       "        [104., 125.,  71.],\n",
       "        [103., 127.,  63.]],\n",
       "\n",
       "       [[170., 170., 163.],\n",
       "        [169., 168., 164.],\n",
       "        [172., 171., 167.],\n",
       "        ...,\n",
       "        [105., 131.,  65.],\n",
       "        [118., 135.,  84.],\n",
       "        [116., 130.,  79.]],\n",
       "\n",
       "       [[165., 164., 156.],\n",
       "        [162., 162., 155.],\n",
       "        [163., 163., 157.],\n",
       "        ...,\n",
       "        [ 94., 125.,  56.],\n",
       "        [115., 135.,  80.],\n",
       "        [116., 129.,  74.]],\n",
       "\n",
       "       ...,\n",
       "\n",
       "       [[142., 140., 134.],\n",
       "        [146., 143., 137.],\n",
       "        [142., 139., 133.],\n",
       "        ...,\n",
       "        [ 84.,  84.,  69.],\n",
       "        [ 85.,  87.,  73.],\n",
       "        [ 82.,  85.,  70.]],\n",
       "\n",
       "       [[142., 140., 134.],\n",
       "        [143., 140., 134.],\n",
       "        [145., 142., 136.],\n",
       "        ...,\n",
       "        [ 91.,  91.,  78.],\n",
       "        [ 87.,  89.,  75.],\n",
       "        [ 82.,  84.,  70.]],\n",
       "\n",
       "       [[145., 144., 137.],\n",
       "        [147., 144., 138.],\n",
       "        [146., 143., 137.],\n",
       "        ...,\n",
       "        [ 98.,  98.,  88.],\n",
       "        [ 89.,  91.,  77.],\n",
       "        [ 86.,  88.,  73.]]], dtype=float32)"
      ]
     },
     "execution_count": 76,
     "metadata": {},
     "output_type": "execute_result"
    }
   ],
   "execution_count": 76
  },
  {
   "metadata": {
    "ExecuteTime": {
     "end_time": "2025-04-01T06:24:34.168446Z",
     "start_time": "2025-04-01T06:24:34.164134Z"
    }
   },
   "cell_type": "code",
   "source": "to_pil",
   "id": "ec991e556c3602a5",
   "outputs": [
    {
     "data": {
      "text/plain": [
       "ToPILImage(mode=<PIL.Image.Image image mode=RGB size=32x32 at 0x22DEF21C0D0>)"
      ]
     },
     "execution_count": 70,
     "metadata": {},
     "output_type": "execute_result"
    }
   ],
   "execution_count": 70
  },
  {
   "metadata": {},
   "cell_type": "code",
   "outputs": [],
   "execution_count": null,
   "source": "",
   "id": "2411afab8466a13c"
  }
 ],
 "metadata": {
  "kernelspec": {
   "display_name": "Python 3",
   "language": "python",
   "name": "python3"
  },
  "language_info": {
   "codemirror_mode": {
    "name": "ipython",
    "version": 2
   },
   "file_extension": ".py",
   "mimetype": "text/x-python",
   "name": "python",
   "nbconvert_exporter": "python",
   "pygments_lexer": "ipython2",
   "version": "2.7.6"
  }
 },
 "nbformat": 4,
 "nbformat_minor": 5
}
