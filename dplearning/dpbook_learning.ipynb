{
 "cells": [
  {
   "cell_type": "code",
   "id": "289401c0",
   "metadata": {
    "ExecuteTime": {
     "end_time": "2025-03-06T02:50:50.940938Z",
     "start_time": "2025-03-06T02:50:50.808646Z"
    }
   },
   "source": [
    "import sys\n",
    "proj_path = \"/opt/algo_team/OnlineProject/search_python/\"\n",
    "sys.path.append(proj_path)\n",
    "from tools_util.calculate_tools import today_1\n",
    "from tools_util.spark_query_data import *\n",
    "from P_parameter.hive_table_name import  *"
   ],
   "outputs": [
    {
     "ename": "ModuleNotFoundError",
     "evalue": "No module named 'tools_util'",
     "output_type": "error",
     "traceback": [
      "\u001B[1;31m---------------------------------------------------------------------------\u001B[0m",
      "\u001B[1;31mModuleNotFoundError\u001B[0m                       Traceback (most recent call last)",
      "Cell \u001B[1;32mIn[1], line 4\u001B[0m\n\u001B[0;32m      2\u001B[0m proj_path \u001B[38;5;241m=\u001B[39m \u001B[38;5;124m\"\u001B[39m\u001B[38;5;124m/opt/algo_team/OnlineProject/search_python/\u001B[39m\u001B[38;5;124m\"\u001B[39m\n\u001B[0;32m      3\u001B[0m sys\u001B[38;5;241m.\u001B[39mpath\u001B[38;5;241m.\u001B[39mappend(proj_path)\n\u001B[1;32m----> 4\u001B[0m \u001B[38;5;28;01mfrom\u001B[39;00m \u001B[38;5;21;01mtools_util\u001B[39;00m\u001B[38;5;21;01m.\u001B[39;00m\u001B[38;5;21;01mcalculate_tools\u001B[39;00m \u001B[38;5;28;01mimport\u001B[39;00m today_1\n\u001B[0;32m      5\u001B[0m \u001B[38;5;28;01mfrom\u001B[39;00m \u001B[38;5;21;01mtools_util\u001B[39;00m\u001B[38;5;21;01m.\u001B[39;00m\u001B[38;5;21;01mspark_query_data\u001B[39;00m \u001B[38;5;28;01mimport\u001B[39;00m \u001B[38;5;241m*\u001B[39m\n\u001B[0;32m      6\u001B[0m \u001B[38;5;28;01mfrom\u001B[39;00m \u001B[38;5;21;01mP_parameter\u001B[39;00m\u001B[38;5;21;01m.\u001B[39;00m\u001B[38;5;21;01mhive_table_name\u001B[39;00m \u001B[38;5;28;01mimport\u001B[39;00m  \u001B[38;5;241m*\u001B[39m\n",
      "\u001B[1;31mModuleNotFoundError\u001B[0m: No module named 'tools_util'"
     ]
    }
   ],
   "execution_count": 1
  },
  {
   "cell_type": "code",
   "id": "95f8b465",
   "metadata": {
    "ExecuteTime": {
     "end_time": "2025-03-06T02:50:50.942190Z",
     "start_time": "2025-03-06T02:50:50.942190Z"
    }
   },
   "source": [
    "query_data_from_spark('''\n",
    "select count(1) from \n",
    "algorithm_data.searchpy_candidate_word_union_active\n",
    "where dt='20250303'\n",
    "and add_date='20250303'\n",
    "''').show()"
   ],
   "outputs": [],
   "execution_count": null
  },
  {
   "cell_type": "code",
   "id": "a919378d",
   "metadata": {},
   "source": [
    "import numpy as np\n",
    "import pandas as pd\n",
    "import matplotlib.pyplot as plt"
   ],
   "outputs": [],
   "execution_count": null
  },
  {
   "cell_type": "code",
   "id": "a4e69f39",
   "metadata": {},
   "source": [
    "x=np.arange(0,6,0.1)"
   ],
   "outputs": [],
   "execution_count": null
  },
  {
   "cell_type": "code",
   "id": "ffa02f70",
   "metadata": {},
   "source": [
    "y1=np.sin(x)\n",
    "y2=np.cos(x)"
   ],
   "outputs": [],
   "execution_count": null
  },
  {
   "cell_type": "code",
   "id": "4f01e429",
   "metadata": {},
   "source": [
    "plt.plot(x,y1,label='sin')\n",
    "plt.plot(x,y2,linestyle='--',label='cos')\n",
    "plt.legend()\n",
    "plt.xlabel('x')\n",
    "plt.ylabel('y')"
   ],
   "outputs": [],
   "execution_count": null
  },
  {
   "cell_type": "code",
   "id": "41b97a0a",
   "metadata": {},
   "source": [
    "x=np.array([1,2])"
   ],
   "outputs": [],
   "execution_count": null
  },
  {
   "cell_type": "code",
   "id": "1df7cf19",
   "metadata": {},
   "source": [
    "y=x>0"
   ],
   "outputs": [],
   "execution_count": null
  },
  {
   "cell_type": "code",
   "id": "5d166d21",
   "metadata": {},
   "source": [
    "y.astype(int)"
   ],
   "outputs": [],
   "execution_count": null
  },
  {
   "cell_type": "code",
   "id": "ea15a58b",
   "metadata": {},
   "source": [
    "a='s'"
   ],
   "outputs": [],
   "execution_count": null
  },
  {
   "cell_type": "markdown",
   "id": "ae761761",
   "metadata": {},
   "source": [
    "### 阶跃函数"
   ]
  },
  {
   "cell_type": "code",
   "id": "6f079d62",
   "metadata": {},
   "source": [
    "def step_functio(x):\n",
    "    return (x>0).astype(int)\n",
    "x=np.arange(-10,10,0.01)\n",
    "y1=step_functio(x)\n",
    "def sigmoid(x):\n",
    "    return 1/(1+np.exp(-x))\n",
    "y2=sigmoid(x)\n",
    "\n",
    "plt.plot(x,y1)\n",
    "plt.plot(x,y2)"
   ],
   "outputs": [],
   "execution_count": null
  },
  {
   "cell_type": "code",
   "id": "b792ad68",
   "metadata": {},
   "source": [
    "np.max\n",
    "np.maximum"
   ],
   "outputs": [],
   "execution_count": null
  },
  {
   "cell_type": "code",
   "id": "a21363a7",
   "metadata": {
    "ExecuteTime": {
     "end_time": "2025-03-06T02:50:50.970428Z",
     "start_time": "2025-03-06T02:50:50.955047Z"
    }
   },
   "source": [
    "def relu(x):\n",
    "    return np.maximum(0,x)\n",
    "x=np.arange(-10,10,0.01)\n",
    "y1=relu(x)\n",
    "plt.plot(x,y1)"
   ],
   "outputs": [
    {
     "ename": "NameError",
     "evalue": "name 'np' is not defined",
     "output_type": "error",
     "traceback": [
      "\u001B[1;31m---------------------------------------------------------------------------\u001B[0m",
      "\u001B[1;31mNameError\u001B[0m                                 Traceback (most recent call last)",
      "Cell \u001B[1;32mIn[2], line 3\u001B[0m\n\u001B[0;32m      1\u001B[0m \u001B[38;5;28;01mdef\u001B[39;00m \u001B[38;5;21mrelu\u001B[39m(x):\n\u001B[0;32m      2\u001B[0m     \u001B[38;5;28;01mreturn\u001B[39;00m np\u001B[38;5;241m.\u001B[39mmaximum(\u001B[38;5;241m0\u001B[39m,x)\n\u001B[1;32m----> 3\u001B[0m x\u001B[38;5;241m=\u001B[39m\u001B[43mnp\u001B[49m\u001B[38;5;241m.\u001B[39marange(\u001B[38;5;241m-\u001B[39m\u001B[38;5;241m10\u001B[39m,\u001B[38;5;241m10\u001B[39m,\u001B[38;5;241m0.01\u001B[39m)\n\u001B[0;32m      4\u001B[0m y1\u001B[38;5;241m=\u001B[39mrelu(x)\n\u001B[0;32m      5\u001B[0m plt\u001B[38;5;241m.\u001B[39mplot(x,y1)\n",
      "\u001B[1;31mNameError\u001B[0m: name 'np' is not defined"
     ]
    }
   ],
   "execution_count": 2
  },
  {
   "cell_type": "markdown",
   "id": "2a2b8874",
   "metadata": {},
   "source": [
    "### 矩阵乘法"
   ]
  },
  {
   "cell_type": "code",
   "id": "296a442b",
   "metadata": {},
   "source": [
    "x=np.array([[1,2,3],[2,3,4]])\n",
    "y=np.array([1,1,1,1,1,1]).reshape(3,2)"
   ],
   "outputs": [],
   "execution_count": null
  },
  {
   "cell_type": "code",
   "id": "69cc452f",
   "metadata": {
    "ExecuteTime": {
     "end_time": "2025-03-06T02:50:51.115939Z",
     "start_time": "2025-03-06T02:50:51.102766Z"
    }
   },
   "source": [
    "np.dot(x,y)"
   ],
   "outputs": [
    {
     "ename": "NameError",
     "evalue": "name 'np' is not defined",
     "output_type": "error",
     "traceback": [
      "\u001B[1;31m---------------------------------------------------------------------------\u001B[0m",
      "\u001B[1;31mNameError\u001B[0m                                 Traceback (most recent call last)",
      "Cell \u001B[1;32mIn[3], line 1\u001B[0m\n\u001B[1;32m----> 1\u001B[0m \u001B[43mnp\u001B[49m\u001B[38;5;241m.\u001B[39mdot(x,y)\n",
      "\u001B[1;31mNameError\u001B[0m: name 'np' is not defined"
     ]
    }
   ],
   "execution_count": 3
  },
  {
   "cell_type": "markdown",
   "id": "12020961",
   "metadata": {},
   "source": [
    "### 神经网络实现"
   ]
  },
  {
   "cell_type": "code",
   "id": "b5098ccd",
   "metadata": {
    "ExecuteTime": {
     "end_time": "2025-03-06T02:50:51.151954Z",
     "start_time": "2025-03-06T02:50:51.145043Z"
    }
   },
   "source": [
    "def init_network():\n",
    "    network={}\n",
    "    network['W1']=np.array([[0.1,0.3,0.5],[0.2,0.4,0.6]])\n",
    "    network['b1']=np.array([0.1,0.2,0.3])\n",
    "    network['W2']=np.array([[0.1,0.4],[0.2,0.5],[0.3,0.6]])\n",
    "    network['b2']=np.array([0.1,0.2])\n",
    "    network['W3']=np.array([[0.1,0.3],[0.2,0.4]])\n",
    "    network['b3']=np.array([0.1,0.2])\n",
    "    return network\n",
    "\n",
    "\n",
    "def softmax(x):\n",
    "    ##softmax溢出对策\n",
    "    c=np.max(x)\n",
    "    return np.exp(x-c)/(np.exp(x-c)).sum()\n",
    "\n",
    "def sigmoid(x):\n",
    "    return 1/(1+np.exp(-x))\n",
    "\n",
    "def identity_function(x):\n",
    "    return softmax(x)\n",
    "\n"
   ],
   "outputs": [],
   "execution_count": 4
  },
  {
   "cell_type": "code",
   "id": "6c562d71",
   "metadata": {
    "ExecuteTime": {
     "end_time": "2025-03-06T02:50:51.217110Z",
     "start_time": "2025-03-06T02:50:51.211181Z"
    }
   },
   "source": [
    "def forward(network,x):\n",
    "    W1,W2,W3=network['W1'],network['W2'],network['W3']\n",
    "    b1,b2,b3=network['b1'],network['b2'],network['b3']\n",
    "    #第一层\n",
    "    a1=np.dot(x,W1)+b1\n",
    "    z1=sigmoid(a1)\n",
    "    #第二层\n",
    "    a2=np.dot(z1,W2)+b2\n",
    "    z2=sigmoid(a2)\n",
    "    #第三层\n",
    "    a3=np.dot(z2,W3)+b3\n",
    "\n",
    "    \n",
    "    y=identity_function(a3)\n",
    "    return y"
   ],
   "outputs": [],
   "execution_count": 5
  },
  {
   "cell_type": "code",
   "id": "c9d58fa8",
   "metadata": {
    "ExecuteTime": {
     "end_time": "2025-03-06T02:50:51.259238Z",
     "start_time": "2025-03-06T02:50:51.243517Z"
    }
   },
   "source": [
    "x=np.array([1.0,0.5])\n",
    "forward(init_network(),x)"
   ],
   "outputs": [
    {
     "ename": "NameError",
     "evalue": "name 'np' is not defined",
     "output_type": "error",
     "traceback": [
      "\u001B[1;31m---------------------------------------------------------------------------\u001B[0m",
      "\u001B[1;31mNameError\u001B[0m                                 Traceback (most recent call last)",
      "Cell \u001B[1;32mIn[6], line 1\u001B[0m\n\u001B[1;32m----> 1\u001B[0m x\u001B[38;5;241m=\u001B[39m\u001B[43mnp\u001B[49m\u001B[38;5;241m.\u001B[39marray([\u001B[38;5;241m1.0\u001B[39m,\u001B[38;5;241m0.5\u001B[39m])\n\u001B[0;32m      2\u001B[0m forward(init_network(),x)\n",
      "\u001B[1;31mNameError\u001B[0m: name 'np' is not defined"
     ]
    }
   ],
   "execution_count": 6
  },
  {
   "cell_type": "code",
   "id": "7ca872c3",
   "metadata": {
    "ExecuteTime": {
     "end_time": "2025-03-06T02:50:51.269538Z",
     "start_time": "2025-03-06T02:50:51.265340Z"
    }
   },
   "source": [
    "def softmax(x):\n",
    "    c=np.max(x)\n",
    "    return np.exp(x-c)/(np.exp(x-c)).sum()"
   ],
   "outputs": [],
   "execution_count": 7
  },
  {
   "metadata": {},
   "cell_type": "markdown",
   "source": "### 手写体识别",
   "id": "d3c1163b3f67bf50"
  },
  {
   "metadata": {
    "ExecuteTime": {
     "end_time": "2025-03-06T02:50:51.675605Z",
     "start_time": "2025-03-06T02:50:51.305001Z"
    }
   },
   "cell_type": "code",
   "source": [
    "import os\n",
    "import sys\n",
    "sys.path.append(\"./book_material\")\n",
    "from dataset.mnist import load_mnist\n",
    "import numpy as np\n",
    "from PIL import Image\n",
    "import pickle\n"
   ],
   "id": "eb60ab6e1d54a561",
   "outputs": [],
   "execution_count": 8
  },
  {
   "metadata": {
    "ExecuteTime": {
     "end_time": "2025-03-06T02:50:51.689640Z",
     "start_time": "2025-03-06T02:50:51.676618Z"
    }
   },
   "cell_type": "code",
   "source": [
    "def img_show(img):\n",
    "    pil_img = Image.fromarray(np.uint8(img))\n",
    "    pil_img.show()\n",
    "img = get_data()[0][0].reshape(28,28)\n",
    "img_show(img)\n",
    "label = t_train[0]\n",
    "print(label) # 5"
   ],
   "id": "bc30cfcc4666acfb",
   "outputs": [
    {
     "ename": "NameError",
     "evalue": "name 'get_data' is not defined",
     "output_type": "error",
     "traceback": [
      "\u001B[1;31m---------------------------------------------------------------------------\u001B[0m",
      "\u001B[1;31mNameError\u001B[0m                                 Traceback (most recent call last)",
      "Cell \u001B[1;32mIn[9], line 4\u001B[0m\n\u001B[0;32m      2\u001B[0m     pil_img \u001B[38;5;241m=\u001B[39m Image\u001B[38;5;241m.\u001B[39mfromarray(np\u001B[38;5;241m.\u001B[39muint8(img))\n\u001B[0;32m      3\u001B[0m     pil_img\u001B[38;5;241m.\u001B[39mshow()\n\u001B[1;32m----> 4\u001B[0m img \u001B[38;5;241m=\u001B[39m \u001B[43mget_data\u001B[49m()[\u001B[38;5;241m0\u001B[39m][\u001B[38;5;241m0\u001B[39m]\u001B[38;5;241m.\u001B[39mreshape(\u001B[38;5;241m28\u001B[39m,\u001B[38;5;241m28\u001B[39m)\n\u001B[0;32m      5\u001B[0m img_show(img)\n\u001B[0;32m      6\u001B[0m label \u001B[38;5;241m=\u001B[39m t_train[\u001B[38;5;241m0\u001B[39m]\n",
      "\u001B[1;31mNameError\u001B[0m: name 'get_data' is not defined"
     ]
    }
   ],
   "execution_count": 9
  },
  {
   "metadata": {},
   "cell_type": "markdown",
   "source": [
    "1. 数据本质未丢失\n",
    "\n",
    "虽然归一化后像素值范围从0-255变为0-1，但所有像素间的相对亮度关系完全保留\n",
    "例如原本127灰度的像素会变成0.5，依然是中等亮度值\n",
    "模型通过相对亮度识别特征，而非绝对像素值\n",
    "\n",
    "如果不归一化，会存在非常大的数导致e-x出现内存溢出"
   ],
   "id": "7988ce267f77f66c"
  },
  {
   "metadata": {
    "ExecuteTime": {
     "end_time": "2025-03-06T02:51:02.689070Z",
     "start_time": "2025-03-06T02:51:02.682238Z"
    }
   },
   "cell_type": "code",
   "source": [
    "def get_data():\n",
    "    (x_train, t_train), (x_test, t_test) = load_mnist(flatten=True, normalize=True,one_hot_label=False)\n",
    "    return x_test, t_test\n",
    "def init_network():\n",
    "    with open(r\"./book_material/ch03/sample_weight.pkl\", \"rb\") as f:\n",
    "        network = pickle.load(f)\n",
    "    return network\n",
    "def predict(network, x):\n",
    "    W1,W2,W3=network['W1'],network['W2'],network['W3']\n",
    "    b1,b2,b3=network['b1'],network['b2'],network['b3']\n",
    "    a1 = np.dot(x, W1) + b1\n",
    "    z1 = sigmoid(a1)\n",
    "    a2 = np.dot(z1, W2) + b2\n",
    "    z2 = sigmoid(a2)\n",
    "    a3 = np.dot(z2, W3) + b3\n",
    "    y = softmax(a3)\n",
    "    return y"
   ],
   "id": "9f05170de5aa1b83",
   "outputs": [],
   "execution_count": 10
  },
  {
   "metadata": {
    "ExecuteTime": {
     "end_time": "2025-03-06T02:51:03.573646Z",
     "start_time": "2025-03-06T02:51:03.388043Z"
    }
   },
   "cell_type": "code",
   "source": [
    "x_test,t_test=get_data()\n",
    "network=init_network()"
   ],
   "id": "fa244f6a2b651439",
   "outputs": [],
   "execution_count": 11
  },
  {
   "metadata": {
    "ExecuteTime": {
     "end_time": "2025-03-06T02:51:05.500455Z",
     "start_time": "2025-03-06T02:51:04.303383Z"
    }
   },
   "cell_type": "code",
   "source": [
    "accracy=0\n",
    "for i in range(x_test.shape[0]):\n",
    "    y=predict(network,x_test[i])\n",
    "    r=np.argmax(y)\n",
    "    if r==t_test[i]:\n",
    "        accracy+=1\n",
    "print(accracy/x_test.shape[0])"
   ],
   "id": "616d5887ea76d4b7",
   "outputs": [
    {
     "name": "stdout",
     "output_type": "stream",
     "text": [
      "0.9352\n"
     ]
    }
   ],
   "execution_count": 12
  },
  {
   "metadata": {},
   "cell_type": "markdown",
   "source": "### 神经网络的学习",
   "id": "e8096ebcccbb72e"
  },
  {
   "metadata": {},
   "cell_type": "code",
   "source": [
    "def mean_square_error(y,t):\n",
    "    return 0.5*np.sum((y-t)**2)\n",
    "\n",
    "y = np.array([0.1, 0.05, 0.6, 0.0, 0.05, 0.1, 0.0, 0.1, 0.0, 0.0])\n",
    "t = np.array([0, 0, 1, 0, 0, 0, 0, 0, 0, 0])\n",
    "\n",
    "mean_square_error(y,t)"
   ],
   "id": "3b6d0b77e69792a3",
   "outputs": [],
   "execution_count": 13
  },
  {
   "metadata": {
    "ExecuteTime": {
     "end_time": "2025-03-06T09:53:15.028191Z",
     "start_time": "2025-03-06T09:53:15.022143Z"
    }
   },
   "cell_type": "code",
   "source": [
    "def cross_entropy_error(y,t):\n",
    "    delta=1e-7\n",
    "    return -np.sum(t*np.log(y+delta))\n",
    "y = np.array([0.1, 0.05, 0.6, 0.0, 0.05, 0.1, 0.0, 0.1, 0.0, 0.0])\n",
    "t = np.array([0, 0, 1, 0, 0, 0, 0, 0, 0, 0])\n",
    "cross_entropy_error(y,t)"
   ],
   "id": "c938ff0693ea3cf2",
   "outputs": [],
   "execution_count": 21
  },
  {
   "metadata": {
    "ExecuteTime": {
     "end_time": "2025-03-06T09:53:20.939958Z",
     "start_time": "2025-03-06T09:53:20.931139Z"
    }
   },
   "cell_type": "code",
   "source": "cross_entropy_error(y,t)",
   "id": "915af28c7e48e87b",
   "outputs": [
    {
     "data": {
      "text/plain": [
       "0.510825457099338"
      ]
     },
     "execution_count": 22,
     "metadata": {},
     "output_type": "execute_result"
    }
   ],
   "execution_count": 22
  },
  {
   "metadata": {
    "ExecuteTime": {
     "end_time": "2025-03-06T10:05:58.528265Z",
     "start_time": "2025-03-06T10:05:58.520546Z"
    }
   },
   "cell_type": "code",
   "source": "batch_mask=np.random.choice(60000, 10)",
   "id": "850f755fcf74047",
   "outputs": [],
   "execution_count": 26
  },
  {
   "metadata": {
    "ExecuteTime": {
     "end_time": "2025-03-06T10:05:13.545406Z",
     "start_time": "2025-03-06T10:05:13.334269Z"
    }
   },
   "cell_type": "code",
   "source": [
    "(x_train, t_train), (x_test, t_test) = \\\n",
    " load_mnist(normalize=True, one_hot_label=True)"
   ],
   "id": "9392fcc2dcb7b8a0",
   "outputs": [],
   "execution_count": 24
  },
  {
   "metadata": {
    "ExecuteTime": {
     "end_time": "2025-03-06T10:06:08.085318Z",
     "start_time": "2025-03-06T10:06:08.076575Z"
    }
   },
   "cell_type": "code",
   "source": "x_train[choice_index].shape",
   "id": "ef906cdee03c4438",
   "outputs": [
    {
     "data": {
      "text/plain": [
       "(10, 784)"
      ]
     },
     "execution_count": 28,
     "metadata": {},
     "output_type": "execute_result"
    }
   ],
   "execution_count": 28
  },
  {
   "metadata": {},
   "cell_type": "code",
   "outputs": [],
   "execution_count": null,
   "source": "",
   "id": "a6f58576f94727e3"
  }
 ],
 "metadata": {
  "kernelspec": {
   "display_name": "Python 3 (ipykernel)",
   "language": "python",
   "name": "python3"
  },
  "language_info": {
   "codemirror_mode": {
    "name": "ipython",
    "version": 3
   },
   "file_extension": ".py",
   "mimetype": "text/x-python",
   "name": "python",
   "nbconvert_exporter": "python",
   "pygments_lexer": "ipython3",
   "version": "3.7.13"
  }
 },
 "nbformat": 4,
 "nbformat_minor": 5
}
