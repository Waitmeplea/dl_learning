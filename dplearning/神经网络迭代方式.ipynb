{
 "cells": [
  {
   "cell_type": "code",
   "id": "initial_id",
   "metadata": {
    "collapsed": true,
    "ExecuteTime": {
     "end_time": "2025-03-12T01:48:03.468034Z",
     "start_time": "2025-03-12T01:48:02.929842Z"
    }
   },
   "source": [
    "### 5.误差反向传播\n",
    "import numpy as np\n",
    "import sys\n",
    "import matplotlib.pyplot as plt"
   ],
   "outputs": [],
   "execution_count": 1
  },
  {
   "metadata": {
    "ExecuteTime": {
     "end_time": "2025-03-12T01:48:03.472854Z",
     "start_time": "2025-03-12T01:48:03.468909Z"
    }
   },
   "cell_type": "code",
   "source": [
    "###随机梯度SGD\n",
    "class SGD:\n",
    "    def __init__(self, lr=0.01):\n",
    "        self.lr = lr\n",
    "    def update(self,param,grad):\n",
    "        if isinstance(param,dict):\n",
    "            for key in param:\n",
    "                param[key] -= self.lr * grad[key]\n",
    "        else:\n",
    "            param -= self.lr*grad\n",
    "        return param"
   ],
   "id": "20f3ee4009ecab09",
   "outputs": [],
   "execution_count": 2
  },
  {
   "metadata": {
    "ExecuteTime": {
     "end_time": "2025-03-12T13:51:26.652191Z",
     "start_time": "2025-03-12T13:51:26.613063Z"
    }
   },
   "cell_type": "code",
   "source": [
    "##动量法\n",
    "class Momentum:\n",
    "    def __init__(self, lr=0.01, momentum=0.9):\n",
    "        self.lr = lr\n",
    "        self.momentum = momentum\n",
    "        self.v=None\n",
    "    def update(self,param,grad):\n",
    "        if self.v is None:\n",
    "            self.v=dict()\n",
    "            for i in param.keys():            \n",
    "                self.v[i]=np.zeros_like(param[i])\n",
    "        for key in param.keys():\n",
    "            self.v[key] = self.momentum*self.v-self.lr * grad[key]\n",
    "            param[key] += self.v[key]\n",
    "\n",
    "        \n",
    "        "
   ],
   "id": "cfc85b4f95b271c5",
   "outputs": [],
   "execution_count": 3
  },
  {
   "metadata": {},
   "cell_type": "code",
   "outputs": [],
   "execution_count": null,
   "source": [
    "class AdaGrad:\n",
    "    def __init__(self,lr=0.01):\n",
    "        self.lr = lr\n",
    "        self.h = None"
   ],
   "id": "995f940c091529a6"
  }
 ],
 "metadata": {
  "kernelspec": {
   "display_name": "Python 3",
   "language": "python",
   "name": "python3"
  },
  "language_info": {
   "codemirror_mode": {
    "name": "ipython",
    "version": 2
   },
   "file_extension": ".py",
   "mimetype": "text/x-python",
   "name": "python",
   "nbconvert_exporter": "python",
   "pygments_lexer": "ipython2",
   "version": "2.7.6"
  }
 },
 "nbformat": 4,
 "nbformat_minor": 5
}
