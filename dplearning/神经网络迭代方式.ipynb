{
 "cells": [
  {
   "cell_type": "code",
   "id": "initial_id",
   "metadata": {
    "collapsed": true,
    "ExecuteTime": {
     "end_time": "2025-03-12T00:00:19.049608Z",
     "start_time": "2025-03-12T00:00:18.807236Z"
    }
   },
   "source": [
    "### 5.误差反向传播\n",
    "import numpy as np\n",
    "import sys\n",
    "import matplotlib.pyplot as plt"
   ],
   "outputs": [],
   "execution_count": 1
  },
  {
   "metadata": {
    "ExecuteTime": {
     "end_time": "2025-03-12T00:06:25.728817Z",
     "start_time": "2025-03-12T00:06:25.725351Z"
    }
   },
   "cell_type": "code",
   "source": [
    "###随机梯度SGD\n",
    "class SGD:\n",
    "    def __init__(self, lr=0.01):\n",
    "        self.lr = lr\n",
    "    def update(self,param,grad):\n",
    "        if isinstance(param,dict):\n",
    "            for key in param:\n",
    "                param[key] -= self.lr * grad[key]\n",
    "        else:\n",
    "            param -= self.lr*grad\n",
    "        return param"
   ],
   "id": "20f3ee4009ecab09",
   "outputs": [],
   "execution_count": 2
  },
  {
   "metadata": {},
   "cell_type": "code",
   "outputs": [],
   "execution_count": null,
   "source": "",
   "id": "cfc85b4f95b271c5"
  }
 ],
 "metadata": {
  "kernelspec": {
   "display_name": "Python 3",
   "language": "python",
   "name": "python3"
  },
  "language_info": {
   "codemirror_mode": {
    "name": "ipython",
    "version": 2
   },
   "file_extension": ".py",
   "mimetype": "text/x-python",
   "name": "python",
   "nbconvert_exporter": "python",
   "pygments_lexer": "ipython2",
   "version": "2.7.6"
  }
 },
 "nbformat": 4,
 "nbformat_minor": 5
}
