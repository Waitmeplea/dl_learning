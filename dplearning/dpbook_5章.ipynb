{
 "cells": [
  {
   "metadata": {},
   "cell_type": "markdown",
   "source": "### 5.误差反向传播",
   "id": "55de6caed88ba1b1"
  },
  {
   "metadata": {
    "ExecuteTime": {
     "end_time": "2025-03-09T12:07:15.203775Z",
     "start_time": "2025-03-09T12:07:15.200960Z"
    }
   },
   "cell_type": "code",
   "source": [
    "from dplearning.book_material.ch05.buy_apple import dapple_price\n",
    "\n",
    "\n",
    "##计算图乘法层\n",
    "class MulLayer:\n",
    "    def __init__(self):\n",
    "        self.x=None\n",
    "        self.y=None\n",
    "    def forward(self,x,y):\n",
    "        self.x=x\n",
    "        self.y=y\n",
    "        out=x*y\n",
    "        return out\n",
    "    def backward(self,dout):\n",
    "        dx=dout*self.y\n",
    "        dy=dout*self.x\n",
    "        return dx,dy"
   ],
   "id": "fcdb292d7998e29f",
   "outputs": [],
   "execution_count": 11
  },
  {
   "metadata": {
    "ExecuteTime": {
     "end_time": "2025-03-09T12:07:15.436762Z",
     "start_time": "2025-03-09T12:07:15.434084Z"
    }
   },
   "cell_type": "code",
   "source": [
    "apple=100\n",
    "apple_num=2\n",
    "tax=1.1\n",
    "##定义层\n",
    "mul_apple_layer=MulLayer()\n",
    "mul_tax_layer=MulLayer()\n",
    "# forward\n",
    "apple_price = mul_apple_layer.forward(apple, apple_num)\n",
    "price = mul_tax_layer.forward(apple_price, tax)\n",
    "#backward\n",
    "dprice = 1\n",
    "dapple_price,dtax = mul_tax_layer.backward(dprice)\n",
    "dapple,dapple_num = mul_apple_layer.backward(dapple_price)\n",
    "print(dapple, dapple_num, dtax) # 2.2 110 20"
   ],
   "id": "e5153ed623bdc3fc",
   "outputs": [],
   "execution_count": 12
  },
  {
   "metadata": {
    "ExecuteTime": {
     "end_time": "2025-03-09T12:11:49.097054Z",
     "start_time": "2025-03-09T12:11:49.094114Z"
    }
   },
   "cell_type": "code",
   "source": [
    "##加法层\n",
    "class AddLayer:\n",
    "    def __init__(self):\n",
    "        pass\n",
    "    def forward(self, x, y):\n",
    "        out = x + y\n",
    "        return out\n",
    "    def backward(self, dout):\n",
    "        dx = dout * 1\n",
    "        dy = dout * 1\n",
    "        return dx, dy"
   ],
   "id": "7d4a70ad6bffb1bf",
   "outputs": [],
   "execution_count": 21
  },
  {
   "metadata": {},
   "cell_type": "code",
   "outputs": [],
   "execution_count": null,
   "source": "",
   "id": "990ff8c5c1c82908"
  }
 ],
 "metadata": {
  "kernelspec": {
   "display_name": "Python 3",
   "language": "python",
   "name": "python3"
  },
  "language_info": {
   "codemirror_mode": {
    "name": "ipython",
    "version": 2
   },
   "file_extension": ".py",
   "mimetype": "text/x-python",
   "name": "python",
   "nbconvert_exporter": "python",
   "pygments_lexer": "ipython2",
   "version": "2.7.6"
  }
 },
 "nbformat": 4,
 "nbformat_minor": 5
}
