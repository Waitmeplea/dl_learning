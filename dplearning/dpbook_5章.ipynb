{
 "cells": [
  {
   "cell_type": "markdown",
   "id": "55de6caed88ba1b1",
   "metadata": {},
   "source": [
    "### 5.误差反向传播"
   ]
  },
  {
   "cell_type": "code",
   "id": "fcdb292d7998e29f",
   "metadata": {
    "ExecuteTime": {
     "end_time": "2025-03-11T23:59:07.439067Z",
     "start_time": "2025-03-11T23:59:07.435338Z"
    }
   },
   "source": [
    "import numpy as np\n",
    "import sys\n",
    "import matplotlib.pyplot as plt\n",
    "sys.path.append('./book_material')\n",
    "from common.functions import *\n",
    "from common.gradient import *\n",
    "##计算图乘法层\n",
    "class MulLayer:\n",
    "    def __init__(self):\n",
    "        self.x=None\n",
    "        self.y=None\n",
    "    def forward(self,x,y):\n",
    "        self.x=x\n",
    "        self.y=y\n",
    "        out=x*y\n",
    "        return out\n",
    "    def backward(self,dout):\n",
    "        dx=dout*self.y\n",
    "        dy=dout*self.x\n",
    "        return dx,dy\n",
    "##加法层\n",
    "class AddLayer:\n",
    "    def __init__(self):\n",
    "        pass\n",
    "    def forward(self, x, y):\n",
    "        out = x + y\n",
    "        return out\n",
    "    def backward(self, dout):\n",
    "        dx = dout * 1\n",
    "        dy = dout * 1\n",
    "        return dx, dy"
   ],
   "outputs": [],
   "execution_count": 4
  },
  {
   "cell_type": "code",
   "id": "990ff8c5c1c82908",
   "metadata": {
    "ExecuteTime": {
     "end_time": "2025-03-11T23:26:17.931456Z",
     "start_time": "2025-03-11T23:26:17.925425Z"
    }
   },
   "source": [
    "apple=100\n",
    "apple_num=2\n",
    "orange=150\n",
    "orange_num=3\n",
    "tax=1.1\n",
    "##layer\n",
    "mul_apple_layer=MulLayer()\n",
    "mul_orange_layer=MulLayer()\n",
    "add_apple_orange_layer=AddLayer()\n",
    "mul_tax_layer=MulLayer()\n",
    "##foward\n",
    "apple_price = mul_apple_layer.forward(apple, apple_num)\n",
    "orange_price = mul_orange_layer.forward(orange, orange_num)\n",
    "all_price=add_apple_orange_layer.forward(apple_price, orange_price)\n",
    "price=mul_tax_layer.forward(all_price,tax)\n",
    "dprice=1\n",
    "dall_price,dtax=mul_tax_layer.backward(dprice)\n",
    "dapple_price,dorange_price=add_apple_orange_layer.backward(dall_price)\n",
    "dapple,dapple_num=mul_apple_layer.backward(dapple_price)\n",
    "dorange,dorange_num=mul_orange_layer.backward(dorange_price)\n",
    "print(price) # 715\n",
    "print(dapple_num, dapple, dorange, dorange_num, dtax) # 110 2.2 3.3 165 650"
   ],
   "outputs": [
    {
     "name": "stdout",
     "output_type": "stream",
     "text": [
      "715.0000000000001\n",
      "110.00000000000001 2.2 3.3000000000000003 165.0 650\n"
     ]
    }
   ],
   "execution_count": 2
  },
  {
   "cell_type": "code",
   "id": "13f0436717b9bbd5",
   "metadata": {
    "ExecuteTime": {
     "end_time": "2025-03-11T23:26:17.948670Z",
     "start_time": "2025-03-11T23:26:17.945981Z"
    }
   },
   "source": [
    "class ReLu:\n",
    "    def __init__(self):\n",
    "        self.mask=None\n",
    "    def forward(self,x):\n",
    "        self.mask=(x>0)\n",
    "        out=x*self.mask\n",
    "        return out\n",
    "    def backward(self,dout):\n",
    "        dx=dout * self.mask\n",
    "        return dx"
   ],
   "outputs": [],
   "execution_count": 3
  },
  {
   "cell_type": "code",
   "id": "c752d420875a87b4",
   "metadata": {
    "ExecuteTime": {
     "end_time": "2025-03-11T23:26:18.048915Z",
     "start_time": "2025-03-11T23:26:18.045565Z"
    }
   },
   "source": [
    "class Sigmoid:\n",
    "    def __init__(self):\n",
    "        self.out = None\n",
    "    def forward(self, x):\n",
    "        out = 1 / (1 + np.exp(-x))\n",
    "        self.out = out\n",
    "        return out\n",
    "    def backward(self, dout):\n",
    "        dx = dout * (1.0 - self.out) * self.out\n",
    "        return dx"
   ],
   "outputs": [],
   "execution_count": 4
  },
  {
   "cell_type": "code",
   "id": "e5bc888da9cbc478",
   "metadata": {
    "ExecuteTime": {
     "end_time": "2025-03-11T23:26:18.058657Z",
     "start_time": "2025-03-11T23:26:18.055680Z"
    }
   },
   "source": [
    "class Affine:\n",
    "    def __init__(self,W, b):\n",
    "        self.W=W\n",
    "        self.b=b\n",
    "        self.x=None\n",
    "        self.dW=None\n",
    "        self.db=None\n",
    "    def forward(self,x):\n",
    "        self.x=x\n",
    "        out = np.dot(x,self.W)+self.b\n",
    "        \n",
    "        return out\n",
    "\n",
    "    def backward(self,dout):\n",
    "        dx=np.dot(dout,self.W.T)\n",
    "        dW=np.dot(self.x.T,dout)\n",
    "        db=dout.sum(axis=0)\n"
   ],
   "outputs": [],
   "execution_count": 5
  },
  {
   "cell_type": "code",
   "id": "1e10375f746842b4",
   "metadata": {
    "ExecuteTime": {
     "end_time": "2025-03-11T23:26:18.096409Z",
     "start_time": "2025-03-11T23:26:18.093346Z"
    }
   },
   "source": [
    "class SoftmaxWithLoss:\n",
    "    def __init__(self):\n",
    "        self.loss = None # 损失\n",
    "        self.y = None    # softmax的输出\n",
    "        self.t = None    # 监督数据（one-hot vector）\n",
    "    def forward(self, x, t):\n",
    "        self.t = t\n",
    "        self.y = softmax(x)\n",
    "        self.loss = cross_entropy_error(self.y, self.t)\n",
    "        return self.loss\n",
    "    def backward(self, dout=1):\n",
    "        batch_size = self.t.shape[0]\n",
    "        dx = (self.y-self.t)/batch_size\n",
    "        return dx"
   ],
   "outputs": [],
   "execution_count": 6
  },
  {
   "cell_type": "markdown",
   "id": "a03c0478953b9fe9",
   "metadata": {},
   "source": [
    "# 两层神经网络"
   ]
  },
  {
   "cell_type": "code",
   "id": "de62b51d6b3f4fd8",
   "metadata": {
    "ExecuteTime": {
     "end_time": "2025-03-11T23:26:18.129062Z",
     "start_time": "2025-03-11T23:26:18.109831Z"
    }
   },
   "source": [
    "import sys,os\n",
    "from book_material.common.functions import  *\n",
    "from book_material.common.gradient import *\n",
    "from book_material.common.layers import *\n",
    "import numpy as np\n",
    "from collections import OrderedDict"
   ],
   "outputs": [],
   "execution_count": 7
  },
  {
   "cell_type": "code",
   "id": "92af1312ab660778",
   "metadata": {
    "ExecuteTime": {
     "end_time": "2025-03-11T23:42:21.230175Z",
     "start_time": "2025-03-11T23:42:21.222949Z"
    }
   },
   "source": [
    "class TwoLayerNet:\n",
    "    def __init__(self,input_size,hidden_size,output_size,weight_init_std=0.01):\n",
    "        ##初始化权重\n",
    "        self.params={}\n",
    "        self.params['W1']=weight_init_std*np.random.randn(input_size,hidden_size)\n",
    "        self.params['b1']=np.zeros(hidden_size)\n",
    "        self.params['W2']=weight_init_std*np.random.randn(hidden_size,output_size)\n",
    "        self.params['b2']=np.zeros(output_size)\n",
    "        ###生成层\n",
    "        self.layers = OrderedDict()\n",
    "        self.layers['Affine1']=Affine(self.params['W1'], self.params['b1'])\n",
    "        self.layers['Relu1'] = Relu()\n",
    "        self.layers['Affine2'] = Affine(self.params['W2'], self.params['b2'])\n",
    "        self.lastLayer = SoftmaxWithLoss()\n",
    "        \n",
    "    def predict(self, x):\n",
    "        for layer in self.layers.values():\n",
    "            x = layer.forward(x)\n",
    "        return x\n",
    "    ## x输入数据 t监督数据\n",
    "    def loss(self,x,t):\n",
    "        y=self.predict(x)\n",
    "        return self.lastLayer.forward(y,t)\n",
    "    def accuracy(self,x,t):\n",
    "        y=self.predict(x)\n",
    "        if t.ndim != 1 : t = np.argmax(t, axis=1)\n",
    "        result=np.argmax(y,axis=1)\n",
    "        return np.sum(result==t)/float(x.shape[0])\n",
    "    def numerical_gradient(self,x,t):\n",
    "        loss_W = lambda W: self.loss(x, t)\n",
    "        grads = {}\n",
    "        grads['W1'] = numerical_gradient(loss_W, self.params['W1'])\n",
    "        grads['b1'] = numerical_gradient(loss_W, self.params['b1'])\n",
    "        grads['W2'] = numerical_gradient(loss_W, self.params['W2'])\n",
    "        grads['b2'] = numerical_gradient(loss_W, self.params['b2'])\n",
    "        return grads\n",
    "        \n",
    "    def gradient(self,x,t):\n",
    "        self.loss(x,t)\n",
    "        dout=1\n",
    "        dout=self.lastLayer.backward(dout)\n",
    "\n",
    "        layers = list(self.layers.values())\n",
    "        layers.reverse()\n",
    "        for i in layers:\n",
    "            dout=i.backward(dout)\n",
    "        # 设定\n",
    "        grads = {}\n",
    "        grads['W1'] = self.layers['Affine1'].dW\n",
    "        grads['b1'] = self.layers['Affine1'].db\n",
    "        grads['W2'] = self.layers['Affine2'].dW\n",
    "        grads['b2'] = self.layers['Affine2'].db\n",
    "        return grads"
   ],
   "outputs": [],
   "execution_count": 32
  },
  {
   "cell_type": "code",
   "id": "2a13cd04-60fa-415d-acd6-bcaf48adb67c",
   "metadata": {
    "ExecuteTime": {
     "end_time": "2025-03-11T23:42:21.803920Z",
     "start_time": "2025-03-11T23:42:21.682973Z"
    }
   },
   "source": [
    "import sys, os\n",
    "import numpy as np\n",
    "from dataset.mnist import load_mnist\n",
    "# 读入数据b\n",
    "(x_train, t_train), (x_test, t_test) = load_mnist(normalize=True, one_hot_label = True)"
   ],
   "outputs": [],
   "execution_count": 33
  },
  {
   "cell_type": "code",
   "id": "625e5de7-813e-4d68-b3d9-628d199bcf66",
   "metadata": {
    "ExecuteTime": {
     "end_time": "2025-03-11T23:42:22.063285Z",
     "start_time": "2025-03-11T23:42:22.060802Z"
    }
   },
   "source": [
    "# network = TwoLayerNet(input_size=784, hidden_size=50, output_size=10)\n",
    "# ###验证两种梯度下降的差异\n",
    "# choice=np.random.choice(np.arange(10000), size=100, replace=True)\n",
    "# g=network.gradient(x_test[choice],t_test[choice])\n",
    "# n=network.numerical_gradient(x_test[choice],t_test[choice])"
   ],
   "outputs": [],
   "execution_count": 34
  },
  {
   "cell_type": "code",
   "id": "95251efb-fb7a-40fc-bc21-07a2f010af7e",
   "metadata": {
    "ExecuteTime": {
     "end_time": "2025-03-11T23:49:53.096522Z",
     "start_time": "2025-03-11T23:49:53.093365Z"
    }
   },
   "source": [
    "###误差反向传播\n",
    "network = TwoLayerNet(input_size=784, hidden_size=50, output_size=10)"
   ],
   "outputs": [],
   "execution_count": 53
  },
  {
   "metadata": {
    "ExecuteTime": {
     "end_time": "2025-03-11T23:49:53.500043Z",
     "start_time": "2025-03-11T23:49:53.495663Z"
    }
   },
   "cell_type": "code",
   "source": [
    "train_shape=x_train.shape[0]\n",
    "num=300\n",
    "learn_rate=0.1\n",
    "loss_list=[]\n",
    "test_accuracy_list=[]\n"
   ],
   "id": "40e8e021cbb6dc7a",
   "outputs": [],
   "execution_count": 54
  },
  {
   "metadata": {
    "ExecuteTime": {
     "end_time": "2025-03-11T23:50:02.403716Z",
     "start_time": "2025-03-11T23:49:53.981816Z"
    }
   },
   "cell_type": "code",
   "source": [
    "for i in range(num):\n",
    "    batch_mask=np.random.choice(np.arange(x_train.shape[0]), size=100, replace=True)\n",
    "    grads=network.gradient(x_train[batch_mask],t_train[batch_mask])\n",
    "    for key in network.params.keys():\n",
    "        network.params[key] -= learn_rate*grads[key]\n",
    "\n",
    "\n",
    "    loss_list.append(network.loss(x_train[batch_mask],t_train[batch_mask]))\n",
    "    test_accuracy_list.append(network.accuracy(x_test,t_test))"
   ],
   "id": "cdaeba6dd2a878c3",
   "outputs": [],
   "execution_count": 55
  },
  {
   "metadata": {
    "ExecuteTime": {
     "end_time": "2025-03-11T23:50:09.760953Z",
     "start_time": "2025-03-11T23:50:09.693313Z"
    }
   },
   "cell_type": "code",
   "source": "plt.plot(np.arange(len(test_accuracy_list)),test_accuracy_list)",
   "id": "73f45b6d8d00ec8e",
   "outputs": [
    {
     "data": {
      "text/plain": [
       "[<matplotlib.lines.Line2D at 0x2c9ddd10>]"
      ]
     },
     "execution_count": 57,
     "metadata": {},
     "output_type": "execute_result"
    },
    {
     "data": {
      "text/plain": [
       "<Figure size 640x480 with 1 Axes>"
      ],
      "image/png": "[encoded data removed]"
     },
     "metadata": {},
     "output_type": "display_data"
    }
   ],
   "execution_count": 57
  },
  {
   "metadata": {
    "ExecuteTime": {
     "end_time": "2025-03-11T23:50:16.752960Z",
     "start_time": "2025-03-11T23:50:16.750530Z"
    }
   },
   "cell_type": "code",
   "source": "t=[[1,2,3],[1,2,3]]",
   "id": "d2683905f517e81e",
   "outputs": [],
   "execution_count": 58
  }
 ],
 "metadata": {
  "kernelspec": {
   "display_name": "Python 3 (ipykernel)",
   "language": "python",
   "name": "python3"
  },
  "language_info": {
   "codemirror_mode": {
    "name": "ipython",
    "version": 3
   },
   "file_extension": ".py",
   "mimetype": "text/x-python",
   "name": "python",
   "nbconvert_exporter": "python",
   "pygments_lexer": "ipython3",
   "version": "3.11.2"
  }
 },
 "nbformat": 4,
 "nbformat_minor": 5
}
