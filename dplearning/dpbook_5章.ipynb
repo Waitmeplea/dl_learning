{
 "cells": [
  {
   "metadata": {},
   "cell_type": "markdown",
   "source": "### 5.误差反向传播",
   "id": "55de6caed88ba1b1"
  },
  {
   "metadata": {
    "ExecuteTime": {
     "end_time": "2025-03-10T23:43:26.708412Z",
     "start_time": "2025-03-10T23:43:26.577485Z"
    }
   },
   "cell_type": "code",
   "source": [
    "import numpy as np\n",
    "import sys\n",
    "sys.path.append('./book_material')\n",
    "from common.functions import *\n",
    "from common.gradient import *\n",
    "##计算图乘法层\n",
    "class MulLayer:\n",
    "    def __init__(self):\n",
    "        self.x=None\n",
    "        self.y=None\n",
    "    def forward(self,x,y):\n",
    "        self.x=x\n",
    "        self.y=y\n",
    "        out=x*y\n",
    "        return out\n",
    "    def backward(self,dout):\n",
    "        dx=dout*self.y\n",
    "        dy=dout*self.x\n",
    "        return dx,dy\n",
    "##加法层\n",
    "class AddLayer:\n",
    "    def __init__(self):\n",
    "        pass\n",
    "    def forward(self, x, y):\n",
    "        out = x + y\n",
    "        return out\n",
    "    def backward(self, dout):\n",
    "        dx = dout * 1\n",
    "        dy = dout * 1\n",
    "        return dx, dy"
   ],
   "id": "fcdb292d7998e29f",
   "outputs": [],
   "execution_count": 1
  },
  {
   "metadata": {
    "ExecuteTime": {
     "end_time": "2025-03-10T23:43:26.736520Z",
     "start_time": "2025-03-10T23:43:26.731638Z"
    }
   },
   "cell_type": "code",
   "source": [
    "apple=100\n",
    "apple_num=2\n",
    "orange=150\n",
    "orange_num=3\n",
    "tax=1.1\n",
    "##layer\n",
    "mul_apple_layer=MulLayer()\n",
    "mul_orange_layer=MulLayer()\n",
    "add_apple_orange_layer=AddLayer()\n",
    "mul_tax_layer=MulLayer()\n",
    "##foward\n",
    "apple_price = mul_apple_layer.forward(apple, apple_num)\n",
    "orange_price = mul_orange_layer.forward(orange, orange_num)\n",
    "all_price=add_apple_orange_layer.forward(apple_price, orange_price)\n",
    "price=mul_tax_layer.forward(all_price,tax)\n",
    "dprice=1\n",
    "dall_price,dtax=mul_tax_layer.backward(dprice)\n",
    "dapple_price,dorange_price=add_apple_orange_layer.backward(dall_price)\n",
    "dapple,dapple_num=mul_apple_layer.backward(dapple_price)\n",
    "dorange,dorange_num=mul_orange_layer.backward(dorange_price)\n",
    "print(price) # 715\n",
    "print(dapple_num, dapple, dorange, dorange_num, dtax) # 110 2.2 3.3 165 650"
   ],
   "id": "990ff8c5c1c82908",
   "outputs": [
    {
     "name": "stdout",
     "output_type": "stream",
     "text": [
      "715.0000000000001\n",
      "110.00000000000001 2.2 3.3000000000000003 165.0 650\n"
     ]
    }
   ],
   "execution_count": 2
  },
  {
   "metadata": {
    "ExecuteTime": {
     "end_time": "2025-03-10T23:43:26.848808Z",
     "start_time": "2025-03-10T23:43:26.845840Z"
    }
   },
   "cell_type": "code",
   "source": [
    "class ReLu:\n",
    "    def __init__(self):\n",
    "        self.mask=None\n",
    "    def forward(self,x):\n",
    "        self.mask=(x>0)\n",
    "        out=x*self.mask\n",
    "        return out\n",
    "    def backward(self,dout):\n",
    "        dx=dout * self.mask\n",
    "        return dx"
   ],
   "id": "13f0436717b9bbd5",
   "outputs": [],
   "execution_count": 3
  },
  {
   "metadata": {
    "ExecuteTime": {
     "end_time": "2025-03-10T23:43:26.857761Z",
     "start_time": "2025-03-10T23:43:26.855231Z"
    }
   },
   "cell_type": "code",
   "source": [
    "class Sigmoid:\n",
    "    def __init__(self):\n",
    "        self.out = None\n",
    "    def forward(self, x):\n",
    "        out = 1 / (1 + np.exp(-x))\n",
    "        self.out = out\n",
    "        return out\n",
    "    def backward(self, dout):\n",
    "        dx = dout * (1.0 - self.out) * self.out\n",
    "        return dx"
   ],
   "id": "c752d420875a87b4",
   "outputs": [],
   "execution_count": 4
  },
  {
   "metadata": {
    "ExecuteTime": {
     "end_time": "2025-03-10T23:43:26.866768Z",
     "start_time": "2025-03-10T23:43:26.863786Z"
    }
   },
   "cell_type": "code",
   "source": [
    "class Affine:\n",
    "    def __init__(self,W, b):\n",
    "        self.W=W\n",
    "        self.b=b\n",
    "        self.x=None\n",
    "        self.dW=None\n",
    "        self.db=None\n",
    "    def forward(self,x):\n",
    "        self.x=x\n",
    "        out = np.dot(x,self.W)+self.b\n",
    "        \n",
    "        return out\n",
    "\n",
    "    def backward(self,dout):\n",
    "        dx=np.dot(dout,self.W.T)\n",
    "        dW=np.dot(self.x.T,dout)\n",
    "        db=dout.sum(axis=0)\n"
   ],
   "id": "e5bc888da9cbc478",
   "outputs": [],
   "execution_count": 5
  },
  {
   "metadata": {
    "ExecuteTime": {
     "end_time": "2025-03-10T23:49:58.928734Z",
     "start_time": "2025-03-10T23:49:58.925235Z"
    }
   },
   "cell_type": "code",
   "source": [
    "class SoftmaxWithLoss:\n",
    "    def __init__(self):\n",
    "        self.loss = None # 损失\n",
    "        self.y = None    # softmax的输出\n",
    "        self.t = None    # 监督数据（one-hot vector）\n",
    "    def forward(self, x, t):\n",
    "        self.t = t\n",
    "        self.y = softmax(x)\n",
    "        self.loss = cross_entropy_error(self.y, self.t)\n",
    "        return self.loss\n",
    "    def backward(self, dout=1):\n",
    "        batch_size = self.t.shape[0]\n",
    "        dx = (self.y-self.t)/batch_size\n",
    "        return dx"
   ],
   "id": "1e10375f746842b4",
   "outputs": [],
   "execution_count": 7
  },
  {
   "metadata": {},
   "cell_type": "markdown",
   "source": "# 两层神经网络",
   "id": "a03c0478953b9fe9"
  },
  {
   "metadata": {
    "ExecuteTime": {
     "end_time": "2025-03-11T00:09:54.641741Z",
     "start_time": "2025-03-11T00:09:54.639294Z"
    }
   },
   "cell_type": "code",
   "source": [
    "import sys,os\n",
    "from book_material.common.functions import  *\n",
    "from book_material.common.gradient import *\n",
    "from book_material.common.layers import *\n",
    "import numpy as np\n",
    "from collections import OrderedDict"
   ],
   "id": "de62b51d6b3f4fd8",
   "outputs": [],
   "execution_count": 10
  },
  {
   "metadata": {},
   "cell_type": "code",
   "outputs": [],
   "execution_count": null,
   "source": "",
   "id": "92af1312ab660778"
  },
  {
   "metadata": {},
   "cell_type": "code",
   "outputs": [],
   "execution_count": null,
   "source": "",
   "id": "83903b0e7631468c"
  },
  {
   "metadata": {},
   "cell_type": "code",
   "outputs": [],
   "execution_count": null,
   "source": "",
   "id": "6ad50b7730453050"
  },
  {
   "metadata": {},
   "cell_type": "code",
   "outputs": [],
   "execution_count": null,
   "source": "",
   "id": "28aac0b82081eca0"
  }
 ],
 "metadata": {
  "kernelspec": {
   "display_name": "Python 3",
   "language": "python",
   "name": "python3"
  },
  "language_info": {
   "codemirror_mode": {
    "name": "ipython",
    "version": 2
   },
   "file_extension": ".py",
   "mimetype": "text/x-python",
   "name": "python",
   "nbconvert_exporter": "python",
   "pygments_lexer": "ipython2",
   "version": "2.7.6"
  }
 },
 "nbformat": 4,
 "nbformat_minor": 5
}
