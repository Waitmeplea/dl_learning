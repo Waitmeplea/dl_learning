{
 "cells": [
  {
   "cell_type": "code",
   "id": "initial_id",
   "metadata": {
    "collapsed": true,
    "ExecuteTime": {
     "end_time": "2025-03-20T23:39:52.348945Z",
     "start_time": "2025-03-20T23:39:52.346415Z"
    }
   },
   "source": [
    "import numpy as np\n",
    "import sys\n",
    "import os\n",
    "\n",
    "from dplearning.book_material.common.util import im2col\n",
    "\n",
    "sys.path.append('./book_material')\n",
    "from common.util import *"
   ],
   "outputs": [],
   "execution_count": 9
  },
  {
   "metadata": {
    "ExecuteTime": {
     "end_time": "2025-03-20T23:40:36.006392Z",
     "start_time": "2025-03-20T23:40:36.003887Z"
    }
   },
   "cell_type": "code",
   "source": "x1=np.random.rand(1,3,7,7)",
   "id": "2faa98f2e798ce61",
   "outputs": [],
   "execution_count": 10
  },
  {
   "metadata": {
    "ExecuteTime": {
     "end_time": "2025-03-20T23:41:03.765476Z",
     "start_time": "2025-03-20T23:41:03.761531Z"
    }
   },
   "cell_type": "code",
   "source": "col1=im2col(x1,5,5,stride=1,pad=0)",
   "id": "c2e17c5f942edfa8",
   "outputs": [],
   "execution_count": 11
  },
  {
   "metadata": {
    "ExecuteTime": {
     "end_time": "2025-03-20T23:41:23.539594Z",
     "start_time": "2025-03-20T23:41:23.535906Z"
    }
   },
   "cell_type": "code",
   "source": "col1.shape",
   "id": "617d844a0acf23b",
   "outputs": [
    {
     "data": {
      "text/plain": [
       "(9, 75)"
      ]
     },
     "execution_count": 13,
     "metadata": {},
     "output_type": "execute_result"
    }
   ],
   "execution_count": 13
  },
  {
   "metadata": {},
   "cell_type": "code",
   "outputs": [],
   "execution_count": null,
   "source": [
    "class Convolution(object):\n",
    "    def __init__(self,W,b,stride=1,pad=0):\n",
    "        self.W=W\n",
    "        self.b=b\n",
    "        self.stride=stride\n",
    "        self.pad=pad\n",
    "    def forward(self,x):\n",
    "        self"
   ],
   "id": "f154e588c779bea4"
  }
 ],
 "metadata": {
  "kernelspec": {
   "display_name": "Python 3",
   "language": "python",
   "name": "python3"
  },
  "language_info": {
   "codemirror_mode": {
    "name": "ipython",
    "version": 2
   },
   "file_extension": ".py",
   "mimetype": "text/x-python",
   "name": "python",
   "nbconvert_exporter": "python",
   "pygments_lexer": "ipython2",
   "version": "2.7.6"
  }
 },
 "nbformat": 4,
 "nbformat_minor": 5
}
