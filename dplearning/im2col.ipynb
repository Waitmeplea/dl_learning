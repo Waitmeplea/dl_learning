{
 "cells": [
  {
   "cell_type": "code",
   "id": "initial_id",
   "metadata": {
    "collapsed": true,
    "ExecuteTime": {
     "end_time": "2025-03-19T23:51:03.401790Z",
     "start_time": "2025-03-19T23:50:58.192246Z"
    }
   },
   "source": [
    "import numpy as np\n",
    "import torch\n",
    "import torch.nn.functional as F"
   ],
   "outputs": [],
   "execution_count": 1
  },
  {
   "metadata": {
    "ExecuteTime": {
     "end_time": "2025-03-19T23:51:03.449580Z",
     "start_time": "2025-03-19T23:51:03.409217Z"
    }
   },
   "cell_type": "code",
   "source": [
    "##图片\n",
    "x=np.random.normal(0,1,(10,3,10,10))\n",
    "## 卷积核 输出通道4个 输入是三个\n",
    "w=np.random.normal(0,1,(4,3,5,5))"
   ],
   "id": "956ea00826929c1e",
   "outputs": [],
   "execution_count": 2
  },
  {
   "metadata": {
    "ExecuteTime": {
     "end_time": "2025-03-19T23:51:03.579392Z",
     "start_time": "2025-03-19T23:51:03.563327Z"
    }
   },
   "cell_type": "code",
   "source": [
    "wt=torch.tensor(w,dtype=torch.float32)\n",
    "xt=torch.tensor(x,dtype=torch.float32)"
   ],
   "id": "27d6baff1a06d173",
   "outputs": [],
   "execution_count": 3
  },
  {
   "metadata": {
    "ExecuteTime": {
     "end_time": "2025-03-19T23:51:03.667485Z",
     "start_time": "2025-03-19T23:51:03.633397Z"
    }
   },
   "cell_type": "code",
   "source": "yt=F.conv2d(xt,wt)",
   "id": "745844687cceaed6",
   "outputs": [],
   "execution_count": 4
  },
  {
   "metadata": {
    "ExecuteTime": {
     "end_time": "2025-03-19T23:51:03.690765Z",
     "start_time": "2025-03-19T23:51:03.686289Z"
    }
   },
   "cell_type": "code",
   "source": "yt.shape",
   "id": "f0a3c45991434b2f",
   "outputs": [
    {
     "data": {
      "text/plain": [
       "torch.Size([10, 4, 6, 6])"
      ]
     },
     "execution_count": 5,
     "metadata": {},
     "output_type": "execute_result"
    }
   ],
   "execution_count": 5
  },
  {
   "metadata": {
    "ExecuteTime": {
     "end_time": "2025-03-19T23:51:03.786437Z",
     "start_time": "2025-03-19T23:51:03.779915Z"
    }
   },
   "cell_type": "code",
   "source": [
    "def conv2d(x,w):\n",
    "    b,c1,h1,w1 = x.shape\n",
    "    c2,c1,k1,k2=w.shape\n",
    "    ##输出图像大小\n",
    "    h2,w2=(h1-k1+1),(w1-k2+1)\n",
    "    idxw=np.arange(k2)[]"
   ],
   "id": "c8f4ed3ec591b1f5",
   "outputs": [
    {
     "ename": "SyntaxError",
     "evalue": "invalid syntax (604921193.py, line 6)",
     "output_type": "error",
     "traceback": [
      "\u001B[1;36m  Cell \u001B[1;32mIn[6], line 6\u001B[1;36m\u001B[0m\n\u001B[1;33m    idxw=np.arange(k2)[]\u001B[0m\n\u001B[1;37m                       ^\u001B[0m\n\u001B[1;31mSyntaxError\u001B[0m\u001B[1;31m:\u001B[0m invalid syntax\n"
     ]
    }
   ],
   "execution_count": 6
  },
  {
   "metadata": {
    "ExecuteTime": {
     "end_time": "2025-03-19T23:51:37.489262Z",
     "start_time": "2025-03-19T23:51:37.484662Z"
    }
   },
   "cell_type": "code",
   "source": "(np.arange(5)[np.newaxis,...]+np.zeros([4,5,1])).shape",
   "id": "32e8175b943d8a8f",
   "outputs": [
    {
     "data": {
      "text/plain": [
       "(4, 5, 5)"
      ]
     },
     "execution_count": 7,
     "metadata": {},
     "output_type": "execute_result"
    }
   ],
   "execution_count": 7
  },
  {
   "metadata": {
    "ExecuteTime": {
     "end_time": "2025-03-19T23:51:38.626827Z",
     "start_time": "2025-03-19T23:51:38.623119Z"
    }
   },
   "cell_type": "code",
   "source": "(np.arange(5)[np.newaxis,...]).shape",
   "id": "d56b9f5f98608f0e",
   "outputs": [
    {
     "data": {
      "text/plain": [
       "(1, 5)"
      ]
     },
     "execution_count": 8,
     "metadata": {},
     "output_type": "execute_result"
    }
   ],
   "execution_count": 8
  },
  {
   "metadata": {
    "ExecuteTime": {
     "end_time": "2025-03-19T23:58:13.904256Z",
     "start_time": "2025-03-19T23:58:13.900695Z"
    }
   },
   "cell_type": "code",
   "source": "(np.arange(5)[None,...]).shape",
   "id": "d54c0429f12efd3a",
   "outputs": [
    {
     "data": {
      "text/plain": [
       "(1, 5)"
      ]
     },
     "execution_count": 15,
     "metadata": {},
     "output_type": "execute_result"
    }
   ],
   "execution_count": 15
  },
  {
   "metadata": {
    "ExecuteTime": {
     "end_time": "2025-03-19T23:58:28.553643Z",
     "start_time": "2025-03-19T23:58:28.544330Z"
    }
   },
   "cell_type": "code",
   "source": "(np.arange(5)[...,None]).shape",
   "id": "727c533e26a1c987",
   "outputs": [
    {
     "data": {
      "text/plain": [
       "(5, 1)"
      ]
     },
     "execution_count": 16,
     "metadata": {},
     "output_type": "execute_result"
    }
   ],
   "execution_count": 16
  },
  {
   "metadata": {},
   "cell_type": "code",
   "outputs": [],
   "execution_count": null,
   "source": "",
   "id": "2faa98f2e798ce61"
  }
 ],
 "metadata": {
  "kernelspec": {
   "display_name": "Python 3",
   "language": "python",
   "name": "python3"
  },
  "language_info": {
   "codemirror_mode": {
    "name": "ipython",
    "version": 2
   },
   "file_extension": ".py",
   "mimetype": "text/x-python",
   "name": "python",
   "nbconvert_exporter": "python",
   "pygments_lexer": "ipython2",
   "version": "2.7.6"
  }
 },
 "nbformat": 4,
 "nbformat_minor": 5
}
