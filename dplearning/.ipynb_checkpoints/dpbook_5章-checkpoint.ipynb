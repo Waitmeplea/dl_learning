{
 "cells": [
  {
   "cell_type": "markdown",
   "id": "55de6caed88ba1b1",
   "metadata": {},
   "source": [
    "### 5.误差反向传播"
   ]
  },
  {
   "cell_type": "code",
   "execution_count": 1,
   "id": "fcdb292d7998e29f",
   "metadata": {
    "ExecuteTime": {
     "end_time": "2025-03-10T23:43:26.708412Z",
     "start_time": "2025-03-10T23:43:26.577485Z"
    }
   },
   "outputs": [],
   "source": [
    "import numpy as np\n",
    "import sys\n",
    "sys.path.append('./book_material')\n",
    "from common.functions import *\n",
    "from common.gradient import *\n",
    "##计算图乘法层\n",
    "class MulLayer:\n",
    "    def __init__(self):\n",
    "        self.x=None\n",
    "        self.y=None\n",
    "    def forward(self,x,y):\n",
    "        self.x=x\n",
    "        self.y=y\n",
    "        out=x*y\n",
    "        return out\n",
    "    def backward(self,dout):\n",
    "        dx=dout*self.y\n",
    "        dy=dout*self.x\n",
    "        return dx,dy\n",
    "##加法层\n",
    "class AddLayer:\n",
    "    def __init__(self):\n",
    "        pass\n",
    "    def forward(self, x, y):\n",
    "        out = x + y\n",
    "        return out\n",
    "    def backward(self, dout):\n",
    "        dx = dout * 1\n",
    "        dy = dout * 1\n",
    "        return dx, dy"
   ]
  },
  {
   "cell_type": "code",
   "execution_count": 2,
   "id": "990ff8c5c1c82908",
   "metadata": {
    "ExecuteTime": {
     "end_time": "2025-03-10T23:43:26.736520Z",
     "start_time": "2025-03-10T23:43:26.731638Z"
    }
   },
   "outputs": [
    {
     "name": "stdout",
     "output_type": "stream",
     "text": [
      "715.0000000000001\n",
      "110.00000000000001 2.2 3.3000000000000003 165.0 650\n"
     ]
    }
   ],
   "source": [
    "apple=100\n",
    "apple_num=2\n",
    "orange=150\n",
    "orange_num=3\n",
    "tax=1.1\n",
    "##layer\n",
    "mul_apple_layer=MulLayer()\n",
    "mul_orange_layer=MulLayer()\n",
    "add_apple_orange_layer=AddLayer()\n",
    "mul_tax_layer=MulLayer()\n",
    "##foward\n",
    "apple_price = mul_apple_layer.forward(apple, apple_num)\n",
    "orange_price = mul_orange_layer.forward(orange, orange_num)\n",
    "all_price=add_apple_orange_layer.forward(apple_price, orange_price)\n",
    "price=mul_tax_layer.forward(all_price,tax)\n",
    "dprice=1\n",
    "dall_price,dtax=mul_tax_layer.backward(dprice)\n",
    "dapple_price,dorange_price=add_apple_orange_layer.backward(dall_price)\n",
    "dapple,dapple_num=mul_apple_layer.backward(dapple_price)\n",
    "dorange,dorange_num=mul_orange_layer.backward(dorange_price)\n",
    "print(price) # 715\n",
    "print(dapple_num, dapple, dorange, dorange_num, dtax) # 110 2.2 3.3 165 650"
   ]
  },
  {
   "cell_type": "code",
   "execution_count": 3,
   "id": "13f0436717b9bbd5",
   "metadata": {
    "ExecuteTime": {
     "end_time": "2025-03-10T23:43:26.848808Z",
     "start_time": "2025-03-10T23:43:26.845840Z"
    }
   },
   "outputs": [],
   "source": [
    "class ReLu:\n",
    "    def __init__(self):\n",
    "        self.mask=None\n",
    "    def forward(self,x):\n",
    "        self.mask=(x>0)\n",
    "        out=x*self.mask\n",
    "        return out\n",
    "    def backward(self,dout):\n",
    "        dx=dout * self.mask\n",
    "        return dx"
   ]
  },
  {
   "cell_type": "code",
   "execution_count": 4,
   "id": "c752d420875a87b4",
   "metadata": {
    "ExecuteTime": {
     "end_time": "2025-03-10T23:43:26.857761Z",
     "start_time": "2025-03-10T23:43:26.855231Z"
    }
   },
   "outputs": [],
   "source": [
    "class Sigmoid:\n",
    "    def __init__(self):\n",
    "        self.out = None\n",
    "    def forward(self, x):\n",
    "        out = 1 / (1 + np.exp(-x))\n",
    "        self.out = out\n",
    "        return out\n",
    "    def backward(self, dout):\n",
    "        dx = dout * (1.0 - self.out) * self.out\n",
    "        return dx"
   ]
  },
  {
   "cell_type": "code",
   "execution_count": 5,
   "id": "e5bc888da9cbc478",
   "metadata": {
    "ExecuteTime": {
     "end_time": "2025-03-10T23:43:26.866768Z",
     "start_time": "2025-03-10T23:43:26.863786Z"
    }
   },
   "outputs": [],
   "source": [
    "class Affine:\n",
    "    def __init__(self,W, b):\n",
    "        self.W=W\n",
    "        self.b=b\n",
    "        self.x=None\n",
    "        self.dW=None\n",
    "        self.db=None\n",
    "    def forward(self,x):\n",
    "        self.x=x\n",
    "        out = np.dot(x,self.W)+self.b\n",
    "        \n",
    "        return out\n",
    "\n",
    "    def backward(self,dout):\n",
    "        dx=np.dot(dout,self.W.T)\n",
    "        dW=np.dot(self.x.T,dout)\n",
    "        db=dout.sum(axis=0)\n"
   ]
  },
  {
   "cell_type": "code",
   "execution_count": 6,
   "id": "1e10375f746842b4",
   "metadata": {
    "ExecuteTime": {
     "end_time": "2025-03-10T23:49:58.928734Z",
     "start_time": "2025-03-10T23:49:58.925235Z"
    }
   },
   "outputs": [],
   "source": [
    "class SoftmaxWithLoss:\n",
    "    def __init__(self):\n",
    "        self.loss = None # 损失\n",
    "        self.y = None    # softmax的输出\n",
    "        self.t = None    # 监督数据（one-hot vector）\n",
    "    def forward(self, x, t):\n",
    "        self.t = t\n",
    "        self.y = softmax(x)\n",
    "        self.loss = cross_entropy_error(self.y, self.t)\n",
    "        return self.loss\n",
    "    def backward(self, dout=1):\n",
    "        batch_size = self.t.shape[0]\n",
    "        dx = (self.y-self.t)/batch_size\n",
    "        return dx"
   ]
  },
  {
   "cell_type": "markdown",
   "id": "a03c0478953b9fe9",
   "metadata": {},
   "source": [
    "# 两层神经网络"
   ]
  },
  {
   "cell_type": "code",
   "execution_count": 7,
   "id": "de62b51d6b3f4fd8",
   "metadata": {
    "ExecuteTime": {
     "end_time": "2025-03-11T00:09:54.641741Z",
     "start_time": "2025-03-11T00:09:54.639294Z"
    }
   },
   "outputs": [],
   "source": [
    "import sys,os\n",
    "from book_material.common.functions import  *\n",
    "from book_material.common.gradient import *\n",
    "from book_material.common.layers import *\n",
    "import numpy as np\n",
    "from collections import OrderedDict"
   ]
  },
  {
   "cell_type": "code",
   "execution_count": 20,
   "id": "92af1312ab660778",
   "metadata": {},
   "outputs": [
    {
     "ename": "SyntaxError",
     "evalue": "invalid syntax (3407249918.py, line 26)",
     "output_type": "error",
     "traceback": [
      "\u001b[1;36m  Cell \u001b[1;32mIn[20], line 26\u001b[1;36m\u001b[0m\n\u001b[1;33m    t=t if t.ndim != 1 : t = np.argmax(t, axis=1)\u001b[0m\n\u001b[1;37m                       ^\u001b[0m\n\u001b[1;31mSyntaxError\u001b[0m\u001b[1;31m:\u001b[0m invalid syntax\n"
     ]
    }
   ],
   "source": [
    "class TwoLayerNet:\n",
    "    def __init__(self,input_size,hidden_size,output_size,weight_init_std=0.01):\n",
    "        ##初始化权重\n",
    "        self.params={}\n",
    "        self.params['W1']=weight_init_std*np.random.randn(input_size,hidden_size)\n",
    "        self.params['b1']=np.zeros(hiden_size)\n",
    "        self.params['W2']=weight_init_std*np.random.randn(hidden_size,output_size)\n",
    "        self.params['b2']=np.zeros(output_size)\n",
    "        ###生成层\n",
    "        self.layers = OrderedDict()\n",
    "        self.layers['Affine1']=Affine(self.params['W1'], self.params['b1'])\n",
    "        self.layers['Relu1'] = Relu()\n",
    "        self.layers['Affine2'] = Affine(self.params['W2'], self.params['b2'])\n",
    "        self.lastLayer = SoftmaxWithLoss()\n",
    "        \n",
    "    def predict(self, x):\n",
    "        for layer in self.layers.values():\n",
    "            x = layer.forward(x)\n",
    "        return x\n",
    "    ## x输入数据 t监督数据\n",
    "    def loss(self,x,t):\n",
    "        y=self.predict(x)\n",
    "        return self.lastLayer.forward(y,t)\n",
    "    def accuracy(self,x,t):\n",
    "        y=self.predict(x)\n",
    "        t=t if t.ndim != 1 : t = np.argmax(t, axis=1)\n",
    "        result=np.argmax(y,axis=0)\n",
    "        return np.sum(y==t)/float(x.shape(0))\n",
    "    def numerical_gradient(self,x,t):\n",
    "        loss_W = lambda W: self.loss(x, t)\n",
    "        grads = {}\n",
    "        grads['W1'] = numerical_gradient(loss_W, self.params['W1'])\n",
    "        grads['b1'] = numerical_gradient(loss_W, self.params['b1'])\n",
    "        grads['W2'] = numerical_gradient(loss_W, self.params['W2'])\n",
    "        grads['b2'] = numerical_gradient(loss_W, self.params['b2'])\n",
    "        return grads\n",
    "        \n",
    "    def gradient(self,x,t):\n",
    "        self.loss(x,t)\n",
    "        dout=1\n",
    "        dout=self.lastLayer.backward(dout)\n",
    "\n",
    "        layers = list(self.layers.values())\n",
    "        layers.reverse()\n",
    "        for i in layers:\n",
    "            dout=i.backward(dout)\n",
    "        # 设定\n",
    "        grads = {}\n",
    "        grads['W1'] = self.layers['Affine1'].dW\n",
    "        grads['b1'] = self.layers['Affine1'].db\n",
    "        grads['W2'] = self.layers['Affine2'].dW\n",
    "        grads['b2'] = self.layers['Affine2'].db\n",
    "        return grads"
   ]
  },
  {
   "cell_type": "code",
   "execution_count": null,
   "id": "2a13cd04-60fa-415d-acd6-bcaf48adb67c",
   "metadata": {},
   "outputs": [],
   "source": []
  }
 ],
 "metadata": {
  "kernelspec": {
   "display_name": "Python 3 (ipykernel)",
   "language": "python",
   "name": "python3"
  },
  "language_info": {
   "codemirror_mode": {
    "name": "ipython",
    "version": 3
   },
   "file_extension": ".py",
   "mimetype": "text/x-python",
   "name": "python",
   "nbconvert_exporter": "python",
   "pygments_lexer": "ipython3",
   "version": "3.11.2"
  }
 },
 "nbformat": 4,
 "nbformat_minor": 5
}
