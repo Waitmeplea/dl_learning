{
 "cells": [
  {
   "metadata": {
    "ExecuteTime": {
     "end_time": "2025-08-12T05:55:40.031150Z",
     "start_time": "2025-08-12T05:55:38.214618Z"
    }
   },
   "cell_type": "code",
   "source": "pip install grpc -i https://pypi.tuna.tsinghua.edu.cn/simple",
   "id": "ab34e099fce572ec",
   "outputs": [
    {
     "name": "stdout",
     "output_type": "stream",
     "text": [
      "Looking in indexes: https://pypi.tuna.tsinghua.edu.cn/simple\n",
      "Collecting grpc\n",
      "  Downloading https://pypi.tuna.tsinghua.edu.cn/packages/af/e6/59c8758fbb536a430c4409fba4098017d463a408858099e86ec1c96ab8fe/grpc-1.0.0.tar.gz (5.2 kB)\n",
      "  Preparing metadata (setup.py): started\n",
      "  Preparing metadata (setup.py): finished with status 'error'\n",
      "Note: you may need to restart the kernel to use updated packages.\n"
     ]
    },
    {
     "name": "stderr",
     "output_type": "stream",
     "text": [
      "  error: subprocess-exited-with-error\n",
      "  \n",
      "  python setup.py egg_info did not run successfully.\n",
      "  exit code: 1\n",
      "  \n",
      "  [6 lines of output]\n",
      "  Traceback (most recent call last):\n",
      "    File \"<string>\", line 2, in <module>\n",
      "    File \"<pip-setuptools-caller>\", line 34, in <module>\n",
      "    File \"C:\\Users\\HUMENGYUAN\\AppData\\Local\\Temp\\pip-install-ibtj0j1i\\grpc_cdb603d7633f4479a017809dd287530d\\setup.py\", line 33, in <module>\n",
      "      raise RuntimeError(HINT)\n",
      "  RuntimeError: Please install the official package with: pip install grpcio\n",
      "  [end of output]\n",
      "  \n",
      "  note: This error originates from a subprocess, and is likely not a problem with pip.\n",
      "error: metadata-generation-failed\n",
      "\n",
      "Encountered error while generating package metadata.\n",
      "\n",
      "See above for output.\n",
      "\n",
      "note: This is an issue with the package mentioned above, not pip.\n",
      "hint: See above for details.\n"
     ]
    }
   ],
   "execution_count": 8
  },
  {
   "cell_type": "code",
   "id": "initial_id",
   "metadata": {
    "collapsed": true,
    "ExecuteTime": {
     "end_time": "2025-08-12T05:56:09.486886Z",
     "start_time": "2025-08-12T05:56:09.477562Z"
    }
   },
   "source": [
    "import os, gc, warnings, random, pickle\n",
    "from pathlib import Path #文件系统路径的对象化处理，比直接用字符串更安全、方便的路径操作。\n",
    "import numpy as np\n",
    "import pandas as pd\n",
    "import polars as pl\n",
    "from tqdm.auto import tqdm\n",
    "import lightgbm as lgb\n",
    "import xgboost as xgb\n",
    "from catboost import CatBoostRegressor, Pool\n",
    "from sklearn.model_selection import KFold\n",
    "# import torch"
   ],
   "outputs": [],
   "execution_count": 2
  },
  {
   "metadata": {
    "ExecuteTime": {
     "end_time": "2025-08-12T09:59:51.438919Z",
     "start_time": "2025-08-12T09:59:51.417360Z"
    }
   },
   "cell_type": "code",
   "source": [
    "class Config:\n",
    "\n",
    "    VERSION=2\n",
    "    SEED=42\n",
    "    N_FOLDS=53\n",
    "    BOOSTERS=['lgbm','xgb','cat']\n",
    "    MAX_ROUNDS=2500\n",
    "    EARLY_STOPP=100\n",
    "    VERBOSE=1\n",
    "    Data_dir=r'./'\n",
    "    MODEL_DIR=Path('./models');os.makedirs(Path('./models'),exist_ok=True) # exist_ok =True则不抛出异常\n",
    "    OOF_DIR=Path('./oof');os.makedirs(Path('./oof'),exist_ok=True)\n",
    "    TARGET_COUNT=424\n",
    "    FEATURES_TO_ADD=['target_id']\n",
    "    \n",
    "    XGB_PARAMS={'objective': 'regression','metric': 'rmse'\n",
    "        , 'learning_rate': 0.005,'max_depth':4,'random_state':SEED\n",
    "        ,'tree_method':'hist','predictor':'predictor'}"
   ],
   "id": "494480e1f5d13c4b",
   "outputs": [],
   "execution_count": 6
  },
  {
   "metadata": {
    "ExecuteTime": {
     "end_time": "2025-08-12T09:59:52.824092Z",
     "start_time": "2025-08-12T09:59:52.816883Z"
    }
   },
   "cell_type": "code",
   "source": [
    "def add_features(df):\n",
    "    df['dayofweek'] = df['date_id'] % 7\n",
    "    df['month'] = (df['date_id'] // 30) % 12\n",
    "    df['quarter'] = df['month'] // 3\n",
    "    df['day_of_month'] = df['date_id'] % 30\n",
    "\n",
    "    df['is_weekend'] = df['dayofweek'].isin([5, 6]).astype(int)\n",
    "    df['is_month_start'] = (df['day_of_month'] == 0).astype(int)\n",
    "    df['is_month_end'] = (df['day_of_month'] == 29).astype(int)\n",
    "\n",
    "    df.replace([np.inf, -np.inf], np.nan, inplace=True)\n",
    "    df.fillna(0, inplace=True)\n",
    "    return df"
   ],
   "id": "e32b082b850ac70b",
   "outputs": [],
   "execution_count": 7
  },
  {
   "metadata": {
    "ExecuteTime": {
     "end_time": "2025-08-12T09:59:53.471876Z",
     "start_time": "2025-08-12T09:59:53.457802Z"
    }
   },
   "cell_type": "code",
   "source": "",
   "id": "332374bbee7a1705",
   "outputs": [],
   "execution_count": 7
  },
  {
   "metadata": {
    "ExecuteTime": {
     "end_time": "2025-08-12T09:59:54.010449Z",
     "start_time": "2025-08-12T09:59:53.842386Z"
    }
   },
   "cell_type": "code",
   "source": [
    "train=pl.read_csv(Config.Data_dir+r'/train.csv')\n",
    "test=pl.read_csv('test.csv')\n",
    "train_labels=pl.read_csv('train_labels.csv')"
   ],
   "id": "200d514aa4c29bc",
   "outputs": [],
   "execution_count": 8
  },
  {
   "metadata": {
    "ExecuteTime": {
     "end_time": "2025-08-12T09:59:56.194283Z",
     "start_time": "2025-08-12T09:59:56.181170Z"
    }
   },
   "cell_type": "code",
   "source": "train.shape,train_labels.shape,test.shape",
   "id": "a0bfd39f5a20c7e3",
   "outputs": [
    {
     "data": {
      "text/plain": [
       "((1917, 558), (1917, 425), (90, 559))"
      ]
     },
     "execution_count": 9,
     "metadata": {},
     "output_type": "execute_result"
    }
   ],
   "execution_count": 9
  },
  {
   "metadata": {
    "ExecuteTime": {
     "end_time": "2025-08-12T10:00:11.089655Z",
     "start_time": "2025-08-12T10:00:11.067353Z"
    }
   },
   "cell_type": "code",
   "source": "train_labels",
   "id": "563b93436d26d918",
   "outputs": [
    {
     "data": {
      "text/plain": [
       "shape: (1_917, 425)\n",
       "┌─────────┬───────────┬───────────┬───────────┬───┬────────────┬───────────┬───────────┬───────────┐\n",
       "│ date_id ┆ target_0  ┆ target_1  ┆ target_2  ┆ … ┆ target_420 ┆ target_42 ┆ target_42 ┆ target_42 │\n",
       "│ ---     ┆ ---       ┆ ---       ┆ ---       ┆   ┆ ---        ┆ 1         ┆ 2         ┆ 3         │\n",
       "│ i64     ┆ f64       ┆ f64       ┆ f64       ┆   ┆ f64        ┆ ---       ┆ ---       ┆ ---       │\n",
       "│         ┆           ┆           ┆           ┆   ┆            ┆ f64       ┆ f64       ┆ f64       │\n",
       "╞═════════╪═══════════╪═══════════╪═══════════╪═══╪════════════╪═══════════╪═══════════╪═══════════╡\n",
       "│ 0       ┆ 0.005948  ┆ -0.002851 ┆ -0.004675 ┆ … ┆ null       ┆ 0.038234  ┆ null      ┆ 0.02731   │\n",
       "│ 1       ┆ 0.005783  ┆ -0.024118 ┆ -0.007052 ┆ … ┆ -0.000764  ┆ 0.025021  ┆ 0.003548  ┆ 0.02094   │\n",
       "│ 2       ┆ 0.001048  ┆ 0.023836  ┆ -0.008934 ┆ … ┆ -0.005394  ┆ 0.004835  ┆ -0.009075 ┆ 0.001706  │\n",
       "│ 3       ┆ 0.0017    ┆ -0.024618 ┆ 0.011943  ┆ … ┆ null       ┆ -0.015102 ┆ null      ┆ -0.03301  │\n",
       "│ 4       ┆ -0.003272 ┆ 0.005234  ┆ 0.006856  ┆ … ┆ null       ┆ null      ┆ 0.009514  ┆ null      │\n",
       "│ …       ┆ …         ┆ …         ┆ …         ┆ … ┆ …          ┆ …         ┆ …         ┆ …         │\n",
       "│ 1912    ┆ -0.012596 ┆ 0.009309  ┆ 0.007947  ┆ … ┆ null       ┆ null      ┆ 0.031006  ┆ null      │\n",
       "│ 1913    ┆ -0.000736 ┆ -0.001292 ┆ -0.005137 ┆ … ┆ -0.026082  ┆ -0.008057 ┆ -0.002069 ┆ -0.141053 │\n",
       "│ 1914    ┆ -0.002294 ┆ 0.012898  ┆ 0.009978  ┆ … ┆ -0.019918  ┆ -0.013304 ┆ -0.005527 ┆ -0.127688 │\n",
       "│ 1915    ┆ null      ┆ null      ┆ null      ┆ … ┆ 0.02435    ┆ -0.006928 ┆ 0.006805  ┆ -0.012187 │\n",
       "│ 1916    ┆ null      ┆ null      ┆ null      ┆ … ┆ null       ┆ null      ┆ 0.012562  ┆ null      │\n",
       "└─────────┴───────────┴───────────┴───────────┴───┴────────────┴───────────┴───────────┴───────────┘"
      ],
      "text/html": [
       "<div><style>\n",
       ".dataframe > thead > tr,\n",
       ".dataframe > tbody > tr {\n",
       "  text-align: right;\n",
       "  white-space: pre-wrap;\n",
       "}\n",
       "</style>\n",
       "<small>shape: (1_917, 425)</small><table border=\"1\" class=\"dataframe\"><thead><tr><th>date_id</th><th>target_0</th><th>target_1</th><th>target_2</th><th>target_3</th><th>target_4</th><th>target_5</th><th>target_6</th><th>target_7</th><th>target_8</th><th>target_9</th><th>target_10</th><th>target_11</th><th>target_12</th><th>target_13</th><th>target_14</th><th>target_15</th><th>target_16</th><th>target_17</th><th>target_18</th><th>target_19</th><th>target_20</th><th>target_21</th><th>target_22</th><th>target_23</th><th>target_24</th><th>target_25</th><th>target_26</th><th>target_27</th><th>target_28</th><th>target_29</th><th>target_30</th><th>target_31</th><th>target_32</th><th>target_33</th><th>target_34</th><th>target_35</th><th>&hellip;</th><th>target_387</th><th>target_388</th><th>target_389</th><th>target_390</th><th>target_391</th><th>target_392</th><th>target_393</th><th>target_394</th><th>target_395</th><th>target_396</th><th>target_397</th><th>target_398</th><th>target_399</th><th>target_400</th><th>target_401</th><th>target_402</th><th>target_403</th><th>target_404</th><th>target_405</th><th>target_406</th><th>target_407</th><th>target_408</th><th>target_409</th><th>target_410</th><th>target_411</th><th>target_412</th><th>target_413</th><th>target_414</th><th>target_415</th><th>target_416</th><th>target_417</th><th>target_418</th><th>target_419</th><th>target_420</th><th>target_421</th><th>target_422</th><th>target_423</th></tr><tr><td>i64</td><td>f64</td><td>f64</td><td>f64</td><td>f64</td><td>f64</td><td>f64</td><td>f64</td><td>f64</td><td>f64</td><td>f64</td><td>f64</td><td>f64</td><td>f64</td><td>f64</td><td>f64</td><td>f64</td><td>f64</td><td>f64</td><td>f64</td><td>f64</td><td>f64</td><td>f64</td><td>f64</td><td>f64</td><td>f64</td><td>f64</td><td>f64</td><td>f64</td><td>f64</td><td>f64</td><td>f64</td><td>f64</td><td>f64</td><td>f64</td><td>f64</td><td>f64</td><td>&hellip;</td><td>f64</td><td>f64</td><td>f64</td><td>f64</td><td>f64</td><td>f64</td><td>f64</td><td>f64</td><td>f64</td><td>f64</td><td>f64</td><td>f64</td><td>f64</td><td>f64</td><td>f64</td><td>f64</td><td>f64</td><td>f64</td><td>f64</td><td>f64</td><td>f64</td><td>f64</td><td>f64</td><td>f64</td><td>f64</td><td>f64</td><td>f64</td><td>f64</td><td>f64</td><td>f64</td><td>f64</td><td>f64</td><td>f64</td><td>f64</td><td>f64</td><td>f64</td><td>f64</td></tr></thead><tbody><tr><td>0</td><td>0.005948</td><td>-0.002851</td><td>-0.004675</td><td>-0.000639</td><td>null</td><td>null</td><td>-0.006729</td><td>0.006066</td><td>null</td><td>0.003446</td><td>null</td><td>-0.005674</td><td>null</td><td>0.000306</td><td>null</td><td>-0.005366</td><td>-0.004691</td><td>null</td><td>0.004416</td><td>null</td><td>0.008382</td><td>0.006122</td><td>null</td><td>-0.000908</td><td>null</td><td>0.000863</td><td>0.001459</td><td>0.00135</td><td>-0.013582</td><td>-0.005273</td><td>0.000193</td><td>0.005351</td><td>-0.003309</td><td>null</td><td>null</td><td>null</td><td>&hellip;</td><td>null</td><td>-0.011773</td><td>0.023571</td><td>null</td><td>-0.091022</td><td>0.006293</td><td>0.022177</td><td>0.040977</td><td>0.002379</td><td>-0.051436</td><td>0.005262</td><td>null</td><td>-0.066416</td><td>0.007124</td><td>-0.014872</td><td>null</td><td>null</td><td>null</td><td>0.035734</td><td>0.02009</td><td>null</td><td>-0.042561</td><td>-0.012987</td><td>0.027634</td><td>-0.041252</td><td>0.031637</td><td>null</td><td>null</td><td>0.021239</td><td>-0.005595</td><td>null</td><td>-0.004628</td><td>0.033793</td><td>null</td><td>0.038234</td><td>null</td><td>0.02731</td></tr><tr><td>1</td><td>0.005783</td><td>-0.024118</td><td>-0.007052</td><td>-0.018955</td><td>-0.031852</td><td>-0.019452</td><td>0.003002</td><td>-0.006876</td><td>-0.002042</td><td>0.021284</td><td>0.017698</td><td>0.004791</td><td>0.010499</td><td>-0.01831</td><td>0.013664</td><td>0.023292</td><td>0.007293</td><td>-0.00872</td><td>-0.021583</td><td>0.008823</td><td>-0.003377</td><td>-0.020721</td><td>-0.022573</td><td>0.012265</td><td>-0.01707</td><td>-0.026115</td><td>0.01137</td><td>-0.000112</td><td>0.000741</td><td>0.028171</td><td>-0.003402</td><td>-0.001346</td><td>-0.010453</td><td>-0.002559</td><td>-0.022646</td><td>-0.0017</td><td>&hellip;</td><td>0.004824</td><td>-0.010374</td><td>0.006768</td><td>-0.009518</td><td>-0.070225</td><td>-0.001248</td><td>0.059259</td><td>0.020991</td><td>0.008073</td><td>-0.040249</td><td>-0.001909</td><td>0.00972</td><td>-0.051488</td><td>-0.007198</td><td>-0.012201</td><td>-0.028174</td><td>0.028013</td><td>-0.037905</td><td>0.019292</td><td>0.017704</td><td>-0.018676</td><td>-0.022584</td><td>-0.005958</td><td>0.021191</td><td>-0.040295</td><td>0.029351</td><td>-0.006528</td><td>0.003377</td><td>0.021372</td><td>-0.001517</td><td>0.012846</td><td>0.010547</td><td>0.030527</td><td>-0.000764</td><td>0.025021</td><td>0.003548</td><td>0.02094</td></tr><tr><td>2</td><td>0.001048</td><td>0.023836</td><td>-0.008934</td><td>-0.02206</td><td>null</td><td>null</td><td>0.037449</td><td>0.007658</td><td>null</td><td>-0.026844</td><td>null</td><td>-0.0021</td><td>null</td><td>0.029436</td><td>null</td><td>0.010725</td><td>-0.00848</td><td>null</td><td>-0.004744</td><td>null</td><td>0.009616</td><td>-0.008239</td><td>null</td><td>0.001071</td><td>null</td><td>-0.012131</td><td>-0.006961</td><td>0.000797</td><td>-0.004581</td><td>0.01177</td><td>0.033271</td><td>0.009655</td><td>0.014027</td><td>null</td><td>null</td><td>null</td><td>&hellip;</td><td>0.041938</td><td>0.005172</td><td>-0.000601</td><td>-0.031099</td><td>-0.056066</td><td>-0.000063</td><td>0.115478</td><td>0.036307</td><td>0.015766</td><td>-0.052541</td><td>0.010377</td><td>0.020045</td><td>-0.045181</td><td>-0.012679</td><td>0.003707</td><td>-0.011758</td><td>0.038694</td><td>-0.037981</td><td>0.005764</td><td>-0.001951</td><td>-0.012845</td><td>-0.007365</td><td>0.008149</td><td>0.013421</td><td>-0.090242</td><td>0.016779</td><td>-0.003223</td><td>-0.006712</td><td>0.009308</td><td>0.001857</td><td>-0.012761</td><td>-0.002345</td><td>0.017529</td><td>-0.005394</td><td>0.004835</td><td>-0.009075</td><td>0.001706</td></tr><tr><td>3</td><td>0.0017</td><td>-0.024618</td><td>0.011943</td><td>0.004778</td><td>null</td><td>null</td><td>-0.012519</td><td>-0.016896</td><td>null</td><td>0.014843</td><td>null</td><td>0.004492</td><td>null</td><td>-0.03279</td><td>null</td><td>0.000497</td><td>0.017481</td><td>null</td><td>-0.013823</td><td>null</td><td>-0.017004</td><td>-0.002941</td><td>null</td><td>-0.003079</td><td>null</td><td>-0.011266</td><td>0.003202</td><td>0.012525</td><td>0.009794</td><td>0.00569</td><td>0.005965</td><td>-0.010537</td><td>0.030793</td><td>null</td><td>null</td><td>null</td><td>&hellip;</td><td>null</td><td>-0.014942</td><td>0.019746</td><td>null</td><td>-0.007621</td><td>0.009981</td><td>0.087343</td><td>0.029563</td><td>-0.00951</td><td>-0.017441</td><td>0.03651</td><td>null</td><td>-0.04042</td><td>0.001292</td><td>-0.016785</td><td>null</td><td>null</td><td>null</td><td>-0.01745</td><td>0.015516</td><td>null</td><td>0.028805</td><td>-0.015701</td><td>0.00144</td><td>-0.062346</td><td>0.068154</td><td>null</td><td>null</td><td>0.03688</td><td>-0.015189</td><td>null</td><td>0.008118</td><td>0.001079</td><td>null</td><td>-0.015102</td><td>null</td><td>-0.03301</td></tr><tr><td>4</td><td>-0.003272</td><td>0.005234</td><td>0.006856</td><td>0.013312</td><td>0.023953</td><td>0.010681</td><td>-0.011649</td><td>0.002019</td><td>0.003897</td><td>-0.008985</td><td>-0.010695</td><td>-0.009609</td><td>0.000433</td><td>0.015363</td><td>-0.007354</td><td>-0.019111</td><td>-0.000852</td><td>0.013883</td><td>0.020858</td><td>0.0013</td><td>0.001823</td><td>0.014236</td><td>0.022863</td><td>-0.020243</td><td>0.018963</td><td>0.016213</td><td>-0.026047</td><td>0.004114</td><td>0.006094</td><td>-0.018283</td><td>-0.017707</td><td>-0.002103</td><td>-0.030406</td><td>-0.005509</td><td>0.01967</td><td>0.005943</td><td>&hellip;</td><td>null</td><td>null</td><td>null</td><td>null</td><td>null</td><td>-0.00815</td><td>null</td><td>null</td><td>null</td><td>null</td><td>null</td><td>null</td><td>null</td><td>-0.005175</td><td>null</td><td>-0.00889</td><td>null</td><td>null</td><td>-0.029838</td><td>-0.03739</td><td>-0.036854</td><td>0.050865</td><td>0.031377</td><td>-0.006062</td><td>null</td><td>null</td><td>-0.003774</td><td>null</td><td>0.004937</td><td>null</td><td>-0.006673</td><td>-0.016105</td><td>-0.004885</td><td>null</td><td>null</td><td>0.009514</td><td>null</td></tr><tr><td>&hellip;</td><td>&hellip;</td><td>&hellip;</td><td>&hellip;</td><td>&hellip;</td><td>&hellip;</td><td>&hellip;</td><td>&hellip;</td><td>&hellip;</td><td>&hellip;</td><td>&hellip;</td><td>&hellip;</td><td>&hellip;</td><td>&hellip;</td><td>&hellip;</td><td>&hellip;</td><td>&hellip;</td><td>&hellip;</td><td>&hellip;</td><td>&hellip;</td><td>&hellip;</td><td>&hellip;</td><td>&hellip;</td><td>&hellip;</td><td>&hellip;</td><td>&hellip;</td><td>&hellip;</td><td>&hellip;</td><td>&hellip;</td><td>&hellip;</td><td>&hellip;</td><td>&hellip;</td><td>&hellip;</td><td>&hellip;</td><td>&hellip;</td><td>&hellip;</td><td>&hellip;</td><td>&hellip;</td><td>&hellip;</td><td>&hellip;</td><td>&hellip;</td><td>&hellip;</td><td>&hellip;</td><td>&hellip;</td><td>&hellip;</td><td>&hellip;</td><td>&hellip;</td><td>&hellip;</td><td>&hellip;</td><td>&hellip;</td><td>&hellip;</td><td>&hellip;</td><td>&hellip;</td><td>&hellip;</td><td>&hellip;</td><td>&hellip;</td><td>&hellip;</td><td>&hellip;</td><td>&hellip;</td><td>&hellip;</td><td>&hellip;</td><td>&hellip;</td><td>&hellip;</td><td>&hellip;</td><td>&hellip;</td><td>&hellip;</td><td>&hellip;</td><td>&hellip;</td><td>&hellip;</td><td>&hellip;</td><td>&hellip;</td><td>&hellip;</td><td>&hellip;</td><td>&hellip;</td><td>&hellip;</td></tr><tr><td>1912</td><td>-0.012596</td><td>0.009309</td><td>0.007947</td><td>0.006477</td><td>-0.026216</td><td>-0.029487</td><td>-0.003287</td><td>0.011751</td><td>-0.02761</td><td>0.000665</td><td>0.026752</td><td>0.000976</td><td>0.02158</td><td>0.001321</td><td>0.025961</td><td>-0.001953</td><td>-0.011606</td><td>-0.055654</td><td>0.002567</td><td>0.030193</td><td>-0.005809</td><td>-0.012533</td><td>-0.041661</td><td>-0.003858</td><td>-0.015186</td><td>0.00545</td><td>-0.008017</td><td>-0.016237</td><td>-0.006058</td><td>0.003453</td><td>-0.002078</td><td>-0.013829</td><td>0.003731</td><td>0.014301</td><td>-0.025108</td><td>-0.028728</td><td>&hellip;</td><td>null</td><td>null</td><td>null</td><td>null</td><td>null</td><td>null</td><td>null</td><td>null</td><td>null</td><td>null</td><td>null</td><td>null</td><td>null</td><td>null</td><td>null</td><td>-0.041135</td><td>null</td><td>null</td><td>null</td><td>null</td><td>-0.049973</td><td>null</td><td>null</td><td>null</td><td>null</td><td>null</td><td>-0.026769</td><td>null</td><td>null</td><td>null</td><td>0.042052</td><td>null</td><td>null</td><td>null</td><td>null</td><td>0.031006</td><td>null</td></tr><tr><td>1913</td><td>-0.000736</td><td>-0.001292</td><td>-0.005137</td><td>-0.007961</td><td>-0.008494</td><td>-0.011547</td><td>0.004263</td><td>0.00567</td><td>-0.004822</td><td>-0.000875</td><td>0.011004</td><td>0.002718</td><td>0.008976</td><td>-0.0039</td><td>0.018571</td><td>0.003</td><td>-0.005799</td><td>-0.002896</td><td>-0.00415</td><td>0.001491</td><td>0.001282</td><td>0.009566</td><td>-0.014855</td><td>0.004179</td><td>-0.002997</td><td>-0.005198</td><td>0.002046</td><td>-0.007307</td><td>-0.003663</td><td>0.00653</td><td>-0.010523</td><td>0.010571</td><td>0.009859</td><td>0.016003</td><td>-0.017071</td><td>-0.004511</td><td>&hellip;</td><td>-0.02153</td><td>-0.01163</td><td>0.002408</td><td>-0.038982</td><td>-0.02049</td><td>-0.003409</td><td>0.024459</td><td>0.010653</td><td>0.015806</td><td>0.006548</td><td>0.019286</td><td>0.012487</td><td>-0.011835</td><td>-0.001247</td><td>-0.010599</td><td>0.000446</td><td>-0.009257</td><td>-0.235108</td><td>-0.004405</td><td>-0.003146</td><td>-0.000069</td><td>0.001729</td><td>0.01176</td><td>-0.004931</td><td>-0.018399</td><td>0.024919</td><td>0.00675</td><td>-0.012992</td><td>-0.003349</td><td>0.010912</td><td>0.006198</td><td>-0.009216</td><td>-0.003038</td><td>-0.026082</td><td>-0.008057</td><td>-0.002069</td><td>-0.141053</td></tr><tr><td>1914</td><td>-0.002294</td><td>0.012898</td><td>0.009978</td><td>0.001567</td><td>0.002596</td><td>-0.007373</td><td>0.007554</td><td>0.002661</td><td>0.004083</td><td>-0.00622</td><td>0.006817</td><td>-0.017027</td><td>0.009083</td><td>0.009517</td><td>0.002916</td><td>-0.002976</td><td>-0.00231</td><td>0.00038</td><td>-0.007149</td><td>0.009475</td><td>-0.002829</td><td>-0.01084</td><td>-0.004764</td><td>-0.011159</td><td>0.100948</td><td>-0.00041</td><td>-0.010294</td><td>-0.004312</td><td>0.007715</td><td>0.005817</td><td>-0.104087</td><td>-0.020188</td><td>-0.032932</td><td>-0.010976</td><td>-0.004316</td><td>0.00374</td><td>&hellip;</td><td>-0.01604</td><td>-0.012072</td><td>-0.006242</td><td>-0.049473</td><td>-0.007303</td><td>-0.00595</td><td>0.042362</td><td>0.005606</td><td>0.008433</td><td>0.014709</td><td>0.0153</td><td>0.008254</td><td>-0.001277</td><td>0.004271</td><td>-0.0081</td><td>0.010568</td><td>-0.021193</td><td>-0.218786</td><td>-0.002684</td><td>-0.001232</td><td>0.014846</td><td>-0.002419</td><td>0.004828</td><td>-0.009354</td><td>-0.001657</td><td>0.003526</td><td>-0.008493</td><td>-0.00524</td><td>0.004044</td><td>0.004459</td><td>0.002619</td><td>0.001308</td><td>-0.006772</td><td>-0.019918</td><td>-0.013304</td><td>-0.005527</td><td>-0.127688</td></tr><tr><td>1915</td><td>null</td><td>null</td><td>null</td><td>null</td><td>null</td><td>null</td><td>null</td><td>null</td><td>null</td><td>null</td><td>null</td><td>null</td><td>-0.006171</td><td>null</td><td>-0.008765</td><td>null</td><td>null</td><td>null</td><td>null</td><td>-0.001627</td><td>null</td><td>null</td><td>null</td><td>null</td><td>null</td><td>null</td><td>null</td><td>null</td><td>null</td><td>null</td><td>null</td><td>null</td><td>null</td><td>null</td><td>0.004378</td><td>null</td><td>&hellip;</td><td>-0.001893</td><td>-0.018356</td><td>0.011577</td><td>-0.024187</td><td>-0.029459</td><td>0.006396</td><td>0.016987</td><td>0.027237</td><td>0.000558</td><td>0.000394</td><td>0.006531</td><td>0.015775</td><td>-0.021438</td><td>0.011393</td><td>-0.016914</td><td>0.002455</td><td>-0.014087</td><td>-0.025906</td><td>0.007553</td><td>0.015503</td><td>0.001778</td><td>-0.00889</td><td>-0.019823</td><td>0.005968</td><td>0.000596</td><td>0.030605</td><td>0.000639</td><td>-0.00825</td><td>0.012842</td><td>0.009076</td><td>0.000932</td><td>0.011613</td><td>0.003825</td><td>0.02435</td><td>-0.006928</td><td>0.006805</td><td>-0.012187</td></tr><tr><td>1916</td><td>null</td><td>null</td><td>null</td><td>null</td><td>null</td><td>null</td><td>null</td><td>null</td><td>null</td><td>null</td><td>null</td><td>null</td><td>-0.015267</td><td>null</td><td>-0.015112</td><td>null</td><td>null</td><td>null</td><td>null</td><td>-0.014476</td><td>null</td><td>null</td><td>null</td><td>null</td><td>null</td><td>null</td><td>null</td><td>null</td><td>null</td><td>null</td><td>null</td><td>null</td><td>null</td><td>null</td><td>0.012471</td><td>null</td><td>&hellip;</td><td>null</td><td>null</td><td>null</td><td>null</td><td>null</td><td>null</td><td>null</td><td>null</td><td>null</td><td>null</td><td>null</td><td>null</td><td>null</td><td>null</td><td>null</td><td>0.00335</td><td>null</td><td>null</td><td>null</td><td>null</td><td>0.00689</td><td>null</td><td>null</td><td>null</td><td>null</td><td>null</td><td>0.004819</td><td>null</td><td>null</td><td>null</td><td>0.005931</td><td>null</td><td>null</td><td>null</td><td>null</td><td>0.012562</td><td>null</td></tr></tbody></table></div>"
      ]
     },
     "execution_count": 11,
     "metadata": {},
     "output_type": "execute_result"
    }
   ],
   "execution_count": 11
  },
  {
   "metadata": {
    "ExecuteTime": {
     "end_time": "2025-08-10T04:48:07.569452Z",
     "start_time": "2025-08-10T04:48:07.558317Z"
    }
   },
   "cell_type": "code",
   "source": "",
   "id": "2be362c762c35dd4",
   "outputs": [
    {
     "data": {
      "text/plain": [
       "shape: (5, 558)\n",
       "┌─────────┬────────────┬───────────┬───────────┬───┬───────────┬───────────┬───────────┬───────────┐\n",
       "│ date_id ┆ LME_AH_Clo ┆ LME_CA_Cl ┆ LME_PB_Cl ┆ … ┆ FX_NOKCHF ┆ FX_ZARCHF ┆ FX_NOKJPY ┆ FX_ZARGBP │\n",
       "│ ---     ┆ se         ┆ ose       ┆ ose       ┆   ┆ ---       ┆ ---       ┆ ---       ┆ ---       │\n",
       "│ i64     ┆ ---        ┆ ---       ┆ ---       ┆   ┆ f64       ┆ f64       ┆ f64       ┆ f64       │\n",
       "│         ┆ f64        ┆ f64       ┆ f64       ┆   ┆           ┆           ┆           ┆           │\n",
       "╞═════════╪════════════╪═══════════╪═══════════╪═══╪═══════════╪═══════════╪═══════════╪═══════════╡\n",
       "│ 0       ┆ 2264.5     ┆ 7205.0    ┆ 2570.0    ┆ … ┆ 0.11963   ┆ 0.078135  ┆ 13.82274  ┆ 0.059163  │\n",
       "│ 1       ┆ 2228.0     ┆ 7147.0    ┆ 2579.0    ┆ … ┆ 0.12052   ┆ 0.079066  ┆ 13.888146 ┆ 0.059895  │\n",
       "│ 2       ┆ 2250.0     ┆ 7188.5    ┆ 2587.0    ┆ … ┆ 0.120809  ┆ 0.079287  ┆ 13.983675 ┆ 0.060037  │\n",
       "│ 3       ┆ 2202.5     ┆ 7121.0    ┆ 2540.0    ┆ … ┆ 0.121021  ┆ 0.079285  ┆ 14.035571 ┆ 0.059983  │\n",
       "│ 4       ┆ 2175.0     ┆ 7125.0    ┆ 2604.0    ┆ … ┆ 0.121055  ┆ 0.078925  ┆ 14.01376  ┆ 0.059503  │\n",
       "└─────────┴────────────┴───────────┴───────────┴───┴───────────┴───────────┴───────────┴───────────┘"
      ],
      "text/html": [
       "<div><style>\n",
       ".dataframe > thead > tr,\n",
       ".dataframe > tbody > tr {\n",
       "  text-align: right;\n",
       "  white-space: pre-wrap;\n",
       "}\n",
       "</style>\n",
       "<small>shape: (5, 558)</small><table border=\"1\" class=\"dataframe\"><thead><tr><th>date_id</th><th>LME_AH_Close</th><th>LME_CA_Close</th><th>LME_PB_Close</th><th>LME_ZS_Close</th><th>JPX_Gold_Mini_Futures_Open</th><th>JPX_Gold_Rolling-Spot_Futures_Open</th><th>JPX_Gold_Standard_Futures_Open</th><th>JPX_Platinum_Mini_Futures_Open</th><th>JPX_Platinum_Standard_Futures_Open</th><th>JPX_RSS3_Rubber_Futures_Open</th><th>JPX_Gold_Mini_Futures_High</th><th>JPX_Gold_Rolling-Spot_Futures_High</th><th>JPX_Gold_Standard_Futures_High</th><th>JPX_Platinum_Mini_Futures_High</th><th>JPX_Platinum_Standard_Futures_High</th><th>JPX_RSS3_Rubber_Futures_High</th><th>JPX_Gold_Mini_Futures_Low</th><th>JPX_Gold_Rolling-Spot_Futures_Low</th><th>JPX_Gold_Standard_Futures_Low</th><th>JPX_Platinum_Mini_Futures_Low</th><th>JPX_Platinum_Standard_Futures_Low</th><th>JPX_RSS3_Rubber_Futures_Low</th><th>JPX_Gold_Mini_Futures_Close</th><th>JPX_Gold_Rolling-Spot_Futures_Close</th><th>JPX_Gold_Standard_Futures_Close</th><th>JPX_Platinum_Mini_Futures_Close</th><th>JPX_Platinum_Standard_Futures_Close</th><th>JPX_RSS3_Rubber_Futures_Close</th><th>JPX_Gold_Mini_Futures_Volume</th><th>JPX_Gold_Rolling-Spot_Futures_Volume</th><th>JPX_Gold_Standard_Futures_Volume</th><th>JPX_Platinum_Mini_Futures_Volume</th><th>JPX_Platinum_Standard_Futures_Volume</th><th>JPX_RSS3_Rubber_Futures_Volume</th><th>JPX_Gold_Mini_Futures_settlement_price</th><th>JPX_Gold_Rolling-Spot_Futures_settlement_price</th><th>&hellip;</th><th>FX_AUDUSD</th><th>FX_CADJPY</th><th>FX_CHFJPY</th><th>FX_EURAUD</th><th>FX_EURGBP</th><th>FX_EURJPY</th><th>FX_EURUSD</th><th>FX_GBPAUD</th><th>FX_GBPJPY</th><th>FX_GBPUSD</th><th>FX_NZDJPY</th><th>FX_NZDUSD</th><th>FX_USDCHF</th><th>FX_USDJPY</th><th>FX_ZARJPY</th><th>FX_ZARUSD</th><th>FX_NOKUSD</th><th>FX_NOKEUR</th><th>FX_CADUSD</th><th>FX_AUDNZD</th><th>FX_EURCHF</th><th>FX_EURCAD</th><th>FX_AUDCAD</th><th>FX_GBPCHF</th><th>FX_EURNZD</th><th>FX_AUDCHF</th><th>FX_GBPNZD</th><th>FX_GBPCAD</th><th>FX_CADCHF</th><th>FX_NZDCAD</th><th>FX_NZDCHF</th><th>FX_ZAREUR</th><th>FX_NOKGBP</th><th>FX_NOKCHF</th><th>FX_ZARCHF</th><th>FX_NOKJPY</th><th>FX_ZARGBP</th></tr><tr><td>i64</td><td>f64</td><td>f64</td><td>f64</td><td>f64</td><td>f64</td><td>f64</td><td>f64</td><td>f64</td><td>f64</td><td>f64</td><td>f64</td><td>f64</td><td>f64</td><td>f64</td><td>f64</td><td>f64</td><td>f64</td><td>f64</td><td>f64</td><td>f64</td><td>f64</td><td>f64</td><td>f64</td><td>f64</td><td>f64</td><td>f64</td><td>f64</td><td>f64</td><td>f64</td><td>f64</td><td>f64</td><td>f64</td><td>f64</td><td>f64</td><td>f64</td><td>f64</td><td>&hellip;</td><td>f64</td><td>f64</td><td>f64</td><td>f64</td><td>f64</td><td>f64</td><td>f64</td><td>f64</td><td>f64</td><td>f64</td><td>f64</td><td>f64</td><td>f64</td><td>f64</td><td>f64</td><td>f64</td><td>f64</td><td>f64</td><td>f64</td><td>f64</td><td>f64</td><td>f64</td><td>f64</td><td>f64</td><td>f64</td><td>f64</td><td>f64</td><td>f64</td><td>f64</td><td>f64</td><td>f64</td><td>f64</td><td>f64</td><td>f64</td><td>f64</td><td>f64</td><td>f64</td></tr></thead><tbody><tr><td>0</td><td>2264.5</td><td>7205.0</td><td>2570.0</td><td>3349.0</td><td>null</td><td>null</td><td>null</td><td>null</td><td>null</td><td>null</td><td>null</td><td>null</td><td>null</td><td>null</td><td>null</td><td>null</td><td>null</td><td>null</td><td>null</td><td>null</td><td>null</td><td>null</td><td>null</td><td>null</td><td>null</td><td>null</td><td>null</td><td>null</td><td>null</td><td>null</td><td>null</td><td>null</td><td>null</td><td>null</td><td>null</td><td>null</td><td>&hellip;</td><td>0.783393</td><td>89.764583</td><td>115.545884</td><td>1.540368</td><td>0.887622</td><td>135.44991</td><td>1.206713</td><td>1.735387</td><td>152.598635</td><td>1.35949</td><td>79.721293</td><td>0.710231</td><td>0.97145</td><td>112.247002</td><td>9.028141</td><td>0.080431</td><td>0.123146</td><td>0.102051</td><td>0.799706</td><td>1.103011</td><td>1.172261</td><td>1.508946</td><td>0.979601</td><td>1.320676</td><td>1.699043</td><td>0.761027</td><td>1.914152</td><td>1.699987</td><td>0.776874</td><td>0.888115</td><td>0.689954</td><td>0.066653</td><td>0.090582</td><td>0.11963</td><td>0.078135</td><td>13.82274</td><td>0.059163</td></tr><tr><td>1</td><td>2228.0</td><td>7147.0</td><td>2579.0</td><td>3327.0</td><td>null</td><td>null</td><td>null</td><td>null</td><td>null</td><td>null</td><td>null</td><td>null</td><td>null</td><td>null</td><td>null</td><td>null</td><td>null</td><td>null</td><td>null</td><td>null</td><td>null</td><td>null</td><td>null</td><td>null</td><td>null</td><td>null</td><td>null</td><td>null</td><td>null</td><td>null</td><td>null</td><td>null</td><td>null</td><td>null</td><td>null</td><td>null</td><td>&hellip;</td><td>0.782779</td><td>89.731507</td><td>115.23516</td><td>1.534906</td><td>0.889248</td><td>135.272384</td><td>1.201492</td><td>1.726072</td><td>152.119947</td><td>1.351132</td><td>79.815128</td><td>0.70892</td><td>0.977019</td><td>112.586998</td><td>9.111194</td><td>0.080926</td><td>0.123355</td><td>0.102668</td><td>0.796997</td><td>1.104186</td><td>1.173881</td><td>1.507524</td><td>0.98216</td><td>1.320083</td><td>1.694821</td><td>0.76479</td><td>1.905904</td><td>1.695279</td><td>0.778682</td><td>0.889488</td><td>0.692628</td><td>0.067354</td><td>0.091297</td><td>0.12052</td><td>0.079066</td><td>13.888146</td><td>0.059895</td></tr><tr><td>2</td><td>2250.0</td><td>7188.5</td><td>2587.0</td><td>3362.0</td><td>4684.0</td><td>4691.0</td><td>4684.0</td><td>3363.0</td><td>3367.0</td><td>207.0</td><td>4735.0</td><td>4746.0</td><td>4735.0</td><td>3443.0</td><td>3449.0</td><td>207.7</td><td>4679.0</td><td>4688.0</td><td>4679.0</td><td>3362.0</td><td>3362.0</td><td>206.4</td><td>4727.0</td><td>4739.0</td><td>4730.0</td><td>3426.0</td><td>3427.0</td><td>206.9</td><td>2681.0</td><td>37908.0</td><td>30656.0</td><td>624.0</td><td>13713.0</td><td>4128.0</td><td>4730.0</td><td>4735.0</td><td>&hellip;</td><td>0.786472</td><td>90.306741</td><td>115.750255</td><td>1.535084</td><td>0.89083</td><td>136.176212</td><td>1.2073</td><td>1.723206</td><td>152.864365</td><td>1.355253</td><td>80.734616</td><td>0.71577</td><td>0.97446</td><td>112.793999</td><td>9.177484</td><td>0.081365</td><td>0.123975</td><td>0.102688</td><td>0.800634</td><td>1.098776</td><td>1.176466</td><td>1.50793</td><td>0.982311</td><td>1.32064</td><td>1.686714</td><td>0.766385</td><td>1.893418</td><td>1.692724</td><td>0.780186</td><td>0.894004</td><td>0.69749</td><td>0.067394</td><td>0.091478</td><td>0.120809</td><td>0.079287</td><td>13.983675</td><td>0.060037</td></tr><tr><td>3</td><td>2202.5</td><td>7121.0</td><td>2540.0</td><td>3354.0</td><td>4728.0</td><td>4737.0</td><td>4729.0</td><td>3430.0</td><td>3426.0</td><td>207.0</td><td>4795.0</td><td>4797.0</td><td>4789.0</td><td>3493.0</td><td>3494.0</td><td>207.6</td><td>4727.0</td><td>4734.0</td><td>4726.0</td><td>3430.0</td><td>3425.0</td><td>204.0</td><td>4778.0</td><td>4788.0</td><td>4780.0</td><td>3486.0</td><td>3486.0</td><td>204.8</td><td>3523.0</td><td>30791.0</td><td>35267.0</td><td>525.0</td><td>17629.0</td><td>4586.0</td><td>4780.0</td><td>4787.0</td><td>&hellip;</td><td>0.787461</td><td>91.079905</td><td>115.976719</td><td>1.527972</td><td>0.886809</td><td>135.945666</td><td>1.203219</td><td>1.723001</td><td>153.297609</td><td>1.356796</td><td>81.010025</td><td>0.716998</td><td>0.974204</td><td>112.985001</td><td>9.195264</td><td>0.081385</td><td>0.124225</td><td>0.103244</td><td>0.806124</td><td>1.098275</td><td>1.172181</td><td>1.492598</td><td>0.976849</td><td>1.321796</td><td>1.678134</td><td>0.767148</td><td>1.892329</td><td>1.683111</td><td>0.785329</td><td>0.889439</td><td>0.698502</td><td>0.067639</td><td>0.091558</td><td>0.121021</td><td>0.079285</td><td>14.035571</td><td>0.059983</td></tr><tr><td>4</td><td>2175.0</td><td>7125.0</td><td>2604.0</td><td>3386.0</td><td>null</td><td>null</td><td>null</td><td>null</td><td>null</td><td>null</td><td>null</td><td>null</td><td>null</td><td>null</td><td>null</td><td>null</td><td>null</td><td>null</td><td>null</td><td>null</td><td>null</td><td>null</td><td>null</td><td>null</td><td>null</td><td>null</td><td>null</td><td>null</td><td>null</td><td>null</td><td>null</td><td>null</td><td>null</td><td>null</td><td>null</td><td>null</td><td>&hellip;</td><td>0.784808</td><td>91.13646</td><td>115.763578</td><td>1.525623</td><td>0.882271</td><td>135.471018</td><td>1.197322</td><td>1.729201</td><td>153.54814</td><td>1.357092</td><td>81.206386</td><td>0.71772</td><td>0.97738</td><td>113.144997</td><td>9.136605</td><td>0.080751</td><td>0.123857</td><td>0.103445</td><td>0.805484</td><td>1.093475</td><td>1.170239</td><td>1.486463</td><td>0.974332</td><td>1.326394</td><td>1.668231</td><td>0.767056</td><td>1.890838</td><td>1.684816</td><td>0.787264</td><td>0.891042</td><td>0.701485</td><td>0.067443</td><td>0.091266</td><td>0.121055</td><td>0.078925</td><td>14.01376</td><td>0.059503</td></tr></tbody></table></div>"
      ]
     },
     "execution_count": 27,
     "metadata": {},
     "output_type": "execute_result"
    }
   ],
   "execution_count": 27
  },
  {
   "metadata": {},
   "cell_type": "code",
   "outputs": [],
   "execution_count": null,
   "source": "",
   "id": "264128e7f730f0c5"
  }
 ],
 "metadata": {
  "kernelspec": {
   "display_name": "Python 3",
   "language": "python",
   "name": "python3"
  },
  "language_info": {
   "codemirror_mode": {
    "name": "ipython",
    "version": 2
   },
   "file_extension": ".py",
   "mimetype": "text/x-python",
   "name": "python",
   "nbconvert_exporter": "python",
   "pygments_lexer": "ipython2",
   "version": "2.7.6"
  }
 },
 "nbformat": 4,
 "nbformat_minor": 5
}
