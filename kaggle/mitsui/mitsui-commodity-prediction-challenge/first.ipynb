{
 "cells": [
  {
   "cell_type": "code",
   "id": "initial_id",
   "metadata": {
    "collapsed": true,
    "ExecuteTime": {
     "end_time": "2025-08-13T03:24:49.411161Z",
     "start_time": "2025-08-13T03:24:47.183361Z"
    }
   },
   "source": [
    "import os, gc, warnings, random, pickle\n",
    "from pathlib import Path #文件系统路径的对象化处理，比直接用字符串更安全、方便的路径操作。\n",
    "import numpy as np\n",
    "import pandas as pd\n",
    "import polars as pl\n",
    "from tqdm.auto import tqdm\n",
    "import lightgbm as lgb\n",
    "import xgboost as xgb\n",
    "from catboost import CatBoostRegressor, Pool\n",
    "from sklearn.model_selection import KFold\n",
    "# import torch"
   ],
   "outputs": [],
   "execution_count": 1
  },
  {
   "metadata": {
    "ExecuteTime": {
     "end_time": "2025-08-13T08:27:14.532157Z",
     "start_time": "2025-08-13T08:27:14.495039Z"
    }
   },
   "cell_type": "code",
   "source": [
    "class Config:\n",
    "    VERSION=2\n",
    "    SEED=42\n",
    "    N_FOLDS=53\n",
    "    BOOSTERS=['lgbm','xgb','cat']\n",
    "    MAX_ROUNDS=2500\n",
    "    EARLY_STOPP=100\n",
    "    VERBOSE=1\n",
    "    Data_dir=r'./'\n",
    "    MODEL_DIR=Path('./models');os.makedirs(Path('./models'),exist_ok=True) # exist_ok =True则不抛出异常\n",
    "    OOF_DIR=Path('./oof');os.makedirs(Path('./oof'),exist_ok=True)\n",
    "    TARGET_COUNT=424\n",
    "    FEATURES_TO_ADD=['target_id']\n",
    "    \n",
    "    XGB_PARAMS={'objective': 'regression','metric': 'rmse'\n",
    "        , 'learning_rate': 0.005,'max_depth':4,'random_state':SEED\n",
    "        ,'tree_method':'hist','predictor':'predictor'}\n",
    "    \n",
    "    LGBM_PARAMS = {\n",
    "        'objective': 'regression', 'metric': 'rmse',\n",
    "        'learning_rate': 0.005, 'num_leaves': 8, 'seed': SEED,\n",
    "        'device': 'gpu', 'gpu_platform_id': 0, 'gpu_device_id': 0,\n",
    "    }"
   ],
   "id": "494480e1f5d13c4b",
   "outputs": [],
   "execution_count": 29
  },
  {
   "metadata": {
    "ExecuteTime": {
     "end_time": "2025-08-13T07:41:59.687383Z",
     "start_time": "2025-08-13T07:41:59.615408Z"
    }
   },
   "cell_type": "code",
   "source": [
    "# ===================\n",
    "# seed control\n",
    "# ===================\n",
    "def set_seed(seed=Config.SEED):\n",
    "    random.seed(seed)\n",
    "    np.random.seed(seed)\n",
    "    os.environ['PYTHONHASHSEED'] = str(seed)##Python 的哈希种子（hash seed）。 有些操作基于hash的随机操作\n",
    "set_seed()"
   ],
   "id": "332374bbee7a1705",
   "outputs": [],
   "execution_count": 17
  },
  {
   "metadata": {},
   "cell_type": "code",
   "outputs": [],
   "execution_count": null,
   "source": [
    "# ==================\n",
    "# Feature engineering\n",
    "# ==================\n",
    "def add_features(df):\n",
    "    df['dayofweek'] = df['date_id'] % 7\n",
    "    df['month'] = (df['date_id'] // 30) % 12\n",
    "    df['quarter'] = df['month'] // 3\n",
    "    df['day_of_month'] = df['date_id'] % 30\n",
    "\n",
    "    df['is_weekend'] = df['dayofweek'].isin([5, 6]).astype(int)\n",
    "    df['is_month_start'] = (df['day_of_month'] == 0).astype(int)\n",
    "    df['is_month_end'] = (df['day_of_month'] == 29).astype(int)\n",
    "\n",
    "    df.replace([np.inf, -np.inf], np.nan, inplace=True)\n",
    "    df.fillna(0, inplace=True)\n",
    "    return df"
   ],
   "id": "a772c24fc0369fac"
  },
  {
   "metadata": {
    "ExecuteTime": {
     "end_time": "2025-08-13T08:54:56.189190Z",
     "start_time": "2025-08-13T08:54:56.152806Z"
    }
   },
   "cell_type": "code",
   "source": [
    "# ====================================================\n",
    "# Train Booster\n",
    "# ====================================================\n",
    "def train_model(booster,x_tr,y_tr,x_val,y_val):\n",
    "    if booster =='lgbm':\n",
    "        train_set=lgb.Dataset(x_tr,y_tr)\n",
    "        val_set=lgb.Dataset(x_val,y_val)\n",
    "        model=lgb.train(\n",
    "            Config.LGBM_PARAMS\n",
    "            ,train_set,valid_sets=val_set,\n",
    "            num_boost_round=Config.MAX_ROUNDS,\n",
    "            callbacks=[lgb.early_stopping(stopping_rounds=10, verbose=False),\n",
    "                       lgb.log_evaluation(Config.VERBOSE)]\n",
    "                        )\n",
    "        return model,model.predict(x_val)\n",
    "    if booster =='xgb':\n",
    "        "
   ],
   "id": "c569fb6faa78ece2",
   "outputs": [
    {
     "name": "stdout",
     "output_type": "stream",
     "text": [
      "[LightGBM] [Info] This is the GPU trainer!!\n",
      "[LightGBM] [Info] Total Bins 560\n",
      "[LightGBM] [Info] Number of data points in the train set: 80, number of used features: 20\n",
      "[LightGBM] [Info] Using requested OpenCL platform 0 device 0\n",
      "[LightGBM] [Info] Using GPU Device: Intel(R) Iris(R) Xe Graphics, Vendor: Intel(R) Corporation\n",
      "[LightGBM] [Info] Compiling OpenCL Kernel with 64 bins...\n",
      "[LightGBM] [Info] GPU programs have been built\n",
      "[LightGBM] [Info] Size of histogram bin entry: 8\n",
      "[LightGBM] [Info] 20 dense feature groups (0.00 MB) transferred to GPU in 0.000769 secs. 0 sparse feature groups\n",
      "[LightGBM] [Info] Start training from score 992.390186\n",
      "[LightGBM] [Warning] No further splits with positive gain, best gain: -inf\n",
      "[1]\tvalid_0's rmse: 98.5844\n",
      "[LightGBM] [Warning] No further splits with positive gain, best gain: -inf\n",
      "[2]\tvalid_0's rmse: 98.5964\n",
      "[LightGBM] [Warning] No further splits with positive gain, best gain: -inf\n",
      "[3]\tvalid_0's rmse: 98.6094\n",
      "[LightGBM] [Warning] No further splits with positive gain, best gain: -inf\n",
      "[4]\tvalid_0's rmse: 98.6231\n",
      "[LightGBM] [Warning] No further splits with positive gain, best gain: -inf\n",
      "[5]\tvalid_0's rmse: 98.6378\n",
      "[LightGBM] [Warning] No further splits with positive gain, best gain: -inf\n",
      "[6]\tvalid_0's rmse: 98.6532\n",
      "[LightGBM] [Warning] No further splits with positive gain, best gain: -inf\n",
      "[7]\tvalid_0's rmse: 98.6694\n",
      "[LightGBM] [Warning] No further splits with positive gain, best gain: -inf\n",
      "[8]\tvalid_0's rmse: 98.6865\n",
      "[LightGBM] [Warning] No further splits with positive gain, best gain: -inf\n",
      "[9]\tvalid_0's rmse: 98.7043\n",
      "[LightGBM] [Warning] No further splits with positive gain, best gain: -inf\n",
      "[10]\tvalid_0's rmse: 98.7229\n",
      "[LightGBM] [Warning] No further splits with positive gain, best gain: -inf\n",
      "[11]\tvalid_0's rmse: 98.7422\n"
     ]
    }
   ],
   "execution_count": 40
  },
  {
   "metadata": {
    "ExecuteTime": {
     "end_time": "2025-08-13T07:47:23.957299Z",
     "start_time": "2025-08-13T07:47:23.941138Z"
    }
   },
   "cell_type": "code",
   "source": [
    "booster='lgbm'\n",
    "X=np.random.rand(100,20)\n",
    "y=100*X.sum(axis=1)+np.random.rand(100)*0.01\n",
    "x_tr=X[:80,:]\n",
    "y_tr=y[:80]\n",
    "x_val=X[80:,:]\n",
    "y_val=y[80:]"
   ],
   "id": "f44e237e82434e1",
   "outputs": [],
   "execution_count": 26
  },
  {
   "metadata": {},
   "cell_type": "code",
   "outputs": [],
   "execution_count": null,
   "source": "xgb_model=xgb.Booster(model_file=Config.MODEL_DIR+'/xgb.model')",
   "id": "7052a0bbcedd3c3c"
  },
  {
   "metadata": {},
   "cell_type": "code",
   "outputs": [],
   "execution_count": null,
   "source": "",
   "id": "3702732a238979a3"
  },
  {
   "metadata": {},
   "cell_type": "code",
   "outputs": [],
   "execution_count": null,
   "source": "",
   "id": "822b508d4e0e2df3"
  },
  {
   "metadata": {
    "ExecuteTime": {
     "end_time": "2025-08-13T03:25:54.087915Z",
     "start_time": "2025-08-13T03:25:53.904196Z"
    }
   },
   "cell_type": "code",
   "source": [
    "train=pl.read_csv(Config.Data_dir+r'/train.csv',infer_schema_length=10000)\n",
    "test=pl.read_csv(Config.Data_dir+'test.csv')\n",
    "train_labels=pl.read_csv(Config.Data_dir+'train_labels.csv')"
   ],
   "id": "200d514aa4c29bc",
   "outputs": [],
   "execution_count": 5
  },
  {
   "metadata": {
    "ExecuteTime": {
     "end_time": "2025-08-13T03:25:58.104038Z",
     "start_time": "2025-08-13T03:25:58.092928Z"
    }
   },
   "cell_type": "code",
   "source": "train.shape,train_labels.shape,test.shape",
   "id": "a0bfd39f5a20c7e3",
   "outputs": [
    {
     "data": {
      "text/plain": [
       "((1917, 558), (1917, 425), (90, 559))"
      ]
     },
     "execution_count": 6,
     "metadata": {},
     "output_type": "execute_result"
    }
   ],
   "execution_count": 6
  },
  {
   "metadata": {},
   "cell_type": "code",
   "outputs": [],
   "execution_count": null,
   "source": "",
   "id": "c0f39da83558d7cc"
  },
  {
   "metadata": {},
   "cell_type": "code",
   "outputs": [],
   "execution_count": null,
   "source": "",
   "id": "fc95e48c285c6963"
  },
  {
   "metadata": {},
   "cell_type": "code",
   "outputs": [],
   "execution_count": null,
   "source": "",
   "id": "85c16520949ee24"
  },
  {
   "metadata": {},
   "cell_type": "code",
   "outputs": [],
   "execution_count": null,
   "source": "",
   "id": "264128e7f730f0c5"
  }
 ],
 "metadata": {
  "kernelspec": {
   "display_name": "Python 3",
   "language": "python",
   "name": "python3"
  },
  "language_info": {
   "codemirror_mode": {
    "name": "ipython",
    "version": 2
   },
   "file_extension": ".py",
   "mimetype": "text/x-python",
   "name": "python",
   "nbconvert_exporter": "python",
   "pygments_lexer": "ipython2",
   "version": "2.7.6"
  }
 },
 "nbformat": 4,
 "nbformat_minor": 5
}
