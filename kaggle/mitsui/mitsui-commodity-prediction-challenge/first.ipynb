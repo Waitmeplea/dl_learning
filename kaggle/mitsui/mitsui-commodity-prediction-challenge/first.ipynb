{
 "cells": [
  {
   "cell_type": "code",
   "id": "initial_id",
   "metadata": {
    "collapsed": true,
    "ExecuteTime": {
     "end_time": "2025-08-11T14:25:14.138535Z",
     "start_time": "2025-08-11T14:25:13.408732Z"
    }
   },
   "source": [
    "import os, gc, warnings, random, pickle\n",
    "from pathlib import Path #文件系统路径的对象化处理，比直接用字符串更安全、方便的路径操作。\n",
    "import numpy as np\n",
    "import pandas as pd\n",
    "import polars as pl\n",
    "from tqdm.auto import tqdm\n",
    "import lightgbm as lgb\n",
    "import xgboost as xgb\n",
    "from catboost import CatBoostRegressor, Pool\n",
    "from sklearn.model_selection import KFold\n",
    "import torch\n",
    "import kaggle_evaluation.mitsui_inference_server"
   ],
   "outputs": [],
   "execution_count": 3
  },
  {
   "metadata": {
    "ExecuteTime": {
     "end_time": "2025-08-11T14:25:03.641253Z",
     "start_time": "2025-08-11T14:25:03.637959Z"
    }
   },
   "cell_type": "code",
   "source": [
    "class Config:\n",
    "    Data_dir=r'D:\\bigdata\\dl_learning\\kaggle\\mitsui\\mitsui-commodity-prediction-challenge'\n"
   ],
   "id": "494480e1f5d13c4b",
   "outputs": [],
   "execution_count": 2
  },
  {
   "metadata": {
    "ExecuteTime": {
     "end_time": "2025-08-10T09:01:23.070254Z",
     "start_time": "2025-08-10T09:01:22.940782Z"
    }
   },
   "cell_type": "code",
   "source": [
    "train=pl.read_csv(Config.Data_dir+r'/train.csv')\n",
    "test=pl.read_csv('test.csv')\n",
    "train_labels=pl.read_csv('train_labels.csv')"
   ],
   "id": "200d514aa4c29bc",
   "outputs": [],
   "execution_count": 38
  },
  {
   "metadata": {
    "ExecuteTime": {
     "end_time": "2025-08-10T04:48:55.186195Z",
     "start_time": "2025-08-10T04:48:55.181615Z"
    }
   },
   "cell_type": "code",
   "source": "train.shape,train_labels.shape,test.shape",
   "id": "a0bfd39f5a20c7e3",
   "outputs": [
    {
     "data": {
      "text/plain": [
       "((1917, 558), (1917, 425), (90, 559))"
      ]
     },
     "execution_count": 30,
     "metadata": {},
     "output_type": "execute_result"
    }
   ],
   "execution_count": 30
  },
  {
   "metadata": {
    "ExecuteTime": {
     "end_time": "2025-08-10T04:48:02.174714Z",
     "start_time": "2025-08-10T04:48:02.171035Z"
    }
   },
   "cell_type": "code",
   "source": "",
   "id": "563b93436d26d918",
   "outputs": [
    {
     "data": {
      "text/plain": [
       "(1917, 558)"
      ]
     },
     "execution_count": 26,
     "metadata": {},
     "output_type": "execute_result"
    }
   ],
   "execution_count": 26
  },
  {
   "metadata": {
    "ExecuteTime": {
     "end_time": "2025-08-10T04:48:07.569452Z",
     "start_time": "2025-08-10T04:48:07.558317Z"
    }
   },
   "cell_type": "code",
   "source": "",
   "id": "2be362c762c35dd4",
   "outputs": [
    {
     "data": {
      "text/plain": [
       "shape: (5, 558)\n",
       "┌─────────┬────────────┬───────────┬───────────┬───┬───────────┬───────────┬───────────┬───────────┐\n",
       "│ date_id ┆ LME_AH_Clo ┆ LME_CA_Cl ┆ LME_PB_Cl ┆ … ┆ FX_NOKCHF ┆ FX_ZARCHF ┆ FX_NOKJPY ┆ FX_ZARGBP │\n",
       "│ ---     ┆ se         ┆ ose       ┆ ose       ┆   ┆ ---       ┆ ---       ┆ ---       ┆ ---       │\n",
       "│ i64     ┆ ---        ┆ ---       ┆ ---       ┆   ┆ f64       ┆ f64       ┆ f64       ┆ f64       │\n",
       "│         ┆ f64        ┆ f64       ┆ f64       ┆   ┆           ┆           ┆           ┆           │\n",
       "╞═════════╪════════════╪═══════════╪═══════════╪═══╪═══════════╪═══════════╪═══════════╪═══════════╡\n",
       "│ 0       ┆ 2264.5     ┆ 7205.0    ┆ 2570.0    ┆ … ┆ 0.11963   ┆ 0.078135  ┆ 13.82274  ┆ 0.059163  │\n",
       "│ 1       ┆ 2228.0     ┆ 7147.0    ┆ 2579.0    ┆ … ┆ 0.12052   ┆ 0.079066  ┆ 13.888146 ┆ 0.059895  │\n",
       "│ 2       ┆ 2250.0     ┆ 7188.5    ┆ 2587.0    ┆ … ┆ 0.120809  ┆ 0.079287  ┆ 13.983675 ┆ 0.060037  │\n",
       "│ 3       ┆ 2202.5     ┆ 7121.0    ┆ 2540.0    ┆ … ┆ 0.121021  ┆ 0.079285  ┆ 14.035571 ┆ 0.059983  │\n",
       "│ 4       ┆ 2175.0     ┆ 7125.0    ┆ 2604.0    ┆ … ┆ 0.121055  ┆ 0.078925  ┆ 14.01376  ┆ 0.059503  │\n",
       "└─────────┴────────────┴───────────┴───────────┴───┴───────────┴───────────┴───────────┴───────────┘"
      ],
      "text/html": [
       "<div><style>\n",
       ".dataframe > thead > tr,\n",
       ".dataframe > tbody > tr {\n",
       "  text-align: right;\n",
       "  white-space: pre-wrap;\n",
       "}\n",
       "</style>\n",
       "<small>shape: (5, 558)</small><table border=\"1\" class=\"dataframe\"><thead><tr><th>date_id</th><th>LME_AH_Close</th><th>LME_CA_Close</th><th>LME_PB_Close</th><th>LME_ZS_Close</th><th>JPX_Gold_Mini_Futures_Open</th><th>JPX_Gold_Rolling-Spot_Futures_Open</th><th>JPX_Gold_Standard_Futures_Open</th><th>JPX_Platinum_Mini_Futures_Open</th><th>JPX_Platinum_Standard_Futures_Open</th><th>JPX_RSS3_Rubber_Futures_Open</th><th>JPX_Gold_Mini_Futures_High</th><th>JPX_Gold_Rolling-Spot_Futures_High</th><th>JPX_Gold_Standard_Futures_High</th><th>JPX_Platinum_Mini_Futures_High</th><th>JPX_Platinum_Standard_Futures_High</th><th>JPX_RSS3_Rubber_Futures_High</th><th>JPX_Gold_Mini_Futures_Low</th><th>JPX_Gold_Rolling-Spot_Futures_Low</th><th>JPX_Gold_Standard_Futures_Low</th><th>JPX_Platinum_Mini_Futures_Low</th><th>JPX_Platinum_Standard_Futures_Low</th><th>JPX_RSS3_Rubber_Futures_Low</th><th>JPX_Gold_Mini_Futures_Close</th><th>JPX_Gold_Rolling-Spot_Futures_Close</th><th>JPX_Gold_Standard_Futures_Close</th><th>JPX_Platinum_Mini_Futures_Close</th><th>JPX_Platinum_Standard_Futures_Close</th><th>JPX_RSS3_Rubber_Futures_Close</th><th>JPX_Gold_Mini_Futures_Volume</th><th>JPX_Gold_Rolling-Spot_Futures_Volume</th><th>JPX_Gold_Standard_Futures_Volume</th><th>JPX_Platinum_Mini_Futures_Volume</th><th>JPX_Platinum_Standard_Futures_Volume</th><th>JPX_RSS3_Rubber_Futures_Volume</th><th>JPX_Gold_Mini_Futures_settlement_price</th><th>JPX_Gold_Rolling-Spot_Futures_settlement_price</th><th>&hellip;</th><th>FX_AUDUSD</th><th>FX_CADJPY</th><th>FX_CHFJPY</th><th>FX_EURAUD</th><th>FX_EURGBP</th><th>FX_EURJPY</th><th>FX_EURUSD</th><th>FX_GBPAUD</th><th>FX_GBPJPY</th><th>FX_GBPUSD</th><th>FX_NZDJPY</th><th>FX_NZDUSD</th><th>FX_USDCHF</th><th>FX_USDJPY</th><th>FX_ZARJPY</th><th>FX_ZARUSD</th><th>FX_NOKUSD</th><th>FX_NOKEUR</th><th>FX_CADUSD</th><th>FX_AUDNZD</th><th>FX_EURCHF</th><th>FX_EURCAD</th><th>FX_AUDCAD</th><th>FX_GBPCHF</th><th>FX_EURNZD</th><th>FX_AUDCHF</th><th>FX_GBPNZD</th><th>FX_GBPCAD</th><th>FX_CADCHF</th><th>FX_NZDCAD</th><th>FX_NZDCHF</th><th>FX_ZAREUR</th><th>FX_NOKGBP</th><th>FX_NOKCHF</th><th>FX_ZARCHF</th><th>FX_NOKJPY</th><th>FX_ZARGBP</th></tr><tr><td>i64</td><td>f64</td><td>f64</td><td>f64</td><td>f64</td><td>f64</td><td>f64</td><td>f64</td><td>f64</td><td>f64</td><td>f64</td><td>f64</td><td>f64</td><td>f64</td><td>f64</td><td>f64</td><td>f64</td><td>f64</td><td>f64</td><td>f64</td><td>f64</td><td>f64</td><td>f64</td><td>f64</td><td>f64</td><td>f64</td><td>f64</td><td>f64</td><td>f64</td><td>f64</td><td>f64</td><td>f64</td><td>f64</td><td>f64</td><td>f64</td><td>f64</td><td>f64</td><td>&hellip;</td><td>f64</td><td>f64</td><td>f64</td><td>f64</td><td>f64</td><td>f64</td><td>f64</td><td>f64</td><td>f64</td><td>f64</td><td>f64</td><td>f64</td><td>f64</td><td>f64</td><td>f64</td><td>f64</td><td>f64</td><td>f64</td><td>f64</td><td>f64</td><td>f64</td><td>f64</td><td>f64</td><td>f64</td><td>f64</td><td>f64</td><td>f64</td><td>f64</td><td>f64</td><td>f64</td><td>f64</td><td>f64</td><td>f64</td><td>f64</td><td>f64</td><td>f64</td><td>f64</td></tr></thead><tbody><tr><td>0</td><td>2264.5</td><td>7205.0</td><td>2570.0</td><td>3349.0</td><td>null</td><td>null</td><td>null</td><td>null</td><td>null</td><td>null</td><td>null</td><td>null</td><td>null</td><td>null</td><td>null</td><td>null</td><td>null</td><td>null</td><td>null</td><td>null</td><td>null</td><td>null</td><td>null</td><td>null</td><td>null</td><td>null</td><td>null</td><td>null</td><td>null</td><td>null</td><td>null</td><td>null</td><td>null</td><td>null</td><td>null</td><td>null</td><td>&hellip;</td><td>0.783393</td><td>89.764583</td><td>115.545884</td><td>1.540368</td><td>0.887622</td><td>135.44991</td><td>1.206713</td><td>1.735387</td><td>152.598635</td><td>1.35949</td><td>79.721293</td><td>0.710231</td><td>0.97145</td><td>112.247002</td><td>9.028141</td><td>0.080431</td><td>0.123146</td><td>0.102051</td><td>0.799706</td><td>1.103011</td><td>1.172261</td><td>1.508946</td><td>0.979601</td><td>1.320676</td><td>1.699043</td><td>0.761027</td><td>1.914152</td><td>1.699987</td><td>0.776874</td><td>0.888115</td><td>0.689954</td><td>0.066653</td><td>0.090582</td><td>0.11963</td><td>0.078135</td><td>13.82274</td><td>0.059163</td></tr><tr><td>1</td><td>2228.0</td><td>7147.0</td><td>2579.0</td><td>3327.0</td><td>null</td><td>null</td><td>null</td><td>null</td><td>null</td><td>null</td><td>null</td><td>null</td><td>null</td><td>null</td><td>null</td><td>null</td><td>null</td><td>null</td><td>null</td><td>null</td><td>null</td><td>null</td><td>null</td><td>null</td><td>null</td><td>null</td><td>null</td><td>null</td><td>null</td><td>null</td><td>null</td><td>null</td><td>null</td><td>null</td><td>null</td><td>null</td><td>&hellip;</td><td>0.782779</td><td>89.731507</td><td>115.23516</td><td>1.534906</td><td>0.889248</td><td>135.272384</td><td>1.201492</td><td>1.726072</td><td>152.119947</td><td>1.351132</td><td>79.815128</td><td>0.70892</td><td>0.977019</td><td>112.586998</td><td>9.111194</td><td>0.080926</td><td>0.123355</td><td>0.102668</td><td>0.796997</td><td>1.104186</td><td>1.173881</td><td>1.507524</td><td>0.98216</td><td>1.320083</td><td>1.694821</td><td>0.76479</td><td>1.905904</td><td>1.695279</td><td>0.778682</td><td>0.889488</td><td>0.692628</td><td>0.067354</td><td>0.091297</td><td>0.12052</td><td>0.079066</td><td>13.888146</td><td>0.059895</td></tr><tr><td>2</td><td>2250.0</td><td>7188.5</td><td>2587.0</td><td>3362.0</td><td>4684.0</td><td>4691.0</td><td>4684.0</td><td>3363.0</td><td>3367.0</td><td>207.0</td><td>4735.0</td><td>4746.0</td><td>4735.0</td><td>3443.0</td><td>3449.0</td><td>207.7</td><td>4679.0</td><td>4688.0</td><td>4679.0</td><td>3362.0</td><td>3362.0</td><td>206.4</td><td>4727.0</td><td>4739.0</td><td>4730.0</td><td>3426.0</td><td>3427.0</td><td>206.9</td><td>2681.0</td><td>37908.0</td><td>30656.0</td><td>624.0</td><td>13713.0</td><td>4128.0</td><td>4730.0</td><td>4735.0</td><td>&hellip;</td><td>0.786472</td><td>90.306741</td><td>115.750255</td><td>1.535084</td><td>0.89083</td><td>136.176212</td><td>1.2073</td><td>1.723206</td><td>152.864365</td><td>1.355253</td><td>80.734616</td><td>0.71577</td><td>0.97446</td><td>112.793999</td><td>9.177484</td><td>0.081365</td><td>0.123975</td><td>0.102688</td><td>0.800634</td><td>1.098776</td><td>1.176466</td><td>1.50793</td><td>0.982311</td><td>1.32064</td><td>1.686714</td><td>0.766385</td><td>1.893418</td><td>1.692724</td><td>0.780186</td><td>0.894004</td><td>0.69749</td><td>0.067394</td><td>0.091478</td><td>0.120809</td><td>0.079287</td><td>13.983675</td><td>0.060037</td></tr><tr><td>3</td><td>2202.5</td><td>7121.0</td><td>2540.0</td><td>3354.0</td><td>4728.0</td><td>4737.0</td><td>4729.0</td><td>3430.0</td><td>3426.0</td><td>207.0</td><td>4795.0</td><td>4797.0</td><td>4789.0</td><td>3493.0</td><td>3494.0</td><td>207.6</td><td>4727.0</td><td>4734.0</td><td>4726.0</td><td>3430.0</td><td>3425.0</td><td>204.0</td><td>4778.0</td><td>4788.0</td><td>4780.0</td><td>3486.0</td><td>3486.0</td><td>204.8</td><td>3523.0</td><td>30791.0</td><td>35267.0</td><td>525.0</td><td>17629.0</td><td>4586.0</td><td>4780.0</td><td>4787.0</td><td>&hellip;</td><td>0.787461</td><td>91.079905</td><td>115.976719</td><td>1.527972</td><td>0.886809</td><td>135.945666</td><td>1.203219</td><td>1.723001</td><td>153.297609</td><td>1.356796</td><td>81.010025</td><td>0.716998</td><td>0.974204</td><td>112.985001</td><td>9.195264</td><td>0.081385</td><td>0.124225</td><td>0.103244</td><td>0.806124</td><td>1.098275</td><td>1.172181</td><td>1.492598</td><td>0.976849</td><td>1.321796</td><td>1.678134</td><td>0.767148</td><td>1.892329</td><td>1.683111</td><td>0.785329</td><td>0.889439</td><td>0.698502</td><td>0.067639</td><td>0.091558</td><td>0.121021</td><td>0.079285</td><td>14.035571</td><td>0.059983</td></tr><tr><td>4</td><td>2175.0</td><td>7125.0</td><td>2604.0</td><td>3386.0</td><td>null</td><td>null</td><td>null</td><td>null</td><td>null</td><td>null</td><td>null</td><td>null</td><td>null</td><td>null</td><td>null</td><td>null</td><td>null</td><td>null</td><td>null</td><td>null</td><td>null</td><td>null</td><td>null</td><td>null</td><td>null</td><td>null</td><td>null</td><td>null</td><td>null</td><td>null</td><td>null</td><td>null</td><td>null</td><td>null</td><td>null</td><td>null</td><td>&hellip;</td><td>0.784808</td><td>91.13646</td><td>115.763578</td><td>1.525623</td><td>0.882271</td><td>135.471018</td><td>1.197322</td><td>1.729201</td><td>153.54814</td><td>1.357092</td><td>81.206386</td><td>0.71772</td><td>0.97738</td><td>113.144997</td><td>9.136605</td><td>0.080751</td><td>0.123857</td><td>0.103445</td><td>0.805484</td><td>1.093475</td><td>1.170239</td><td>1.486463</td><td>0.974332</td><td>1.326394</td><td>1.668231</td><td>0.767056</td><td>1.890838</td><td>1.684816</td><td>0.787264</td><td>0.891042</td><td>0.701485</td><td>0.067443</td><td>0.091266</td><td>0.121055</td><td>0.078925</td><td>14.01376</td><td>0.059503</td></tr></tbody></table></div>"
      ]
     },
     "execution_count": 27,
     "metadata": {},
     "output_type": "execute_result"
    }
   ],
   "execution_count": 27
  },
  {
   "metadata": {},
   "cell_type": "code",
   "outputs": [],
   "execution_count": null,
   "source": "",
   "id": "264128e7f730f0c5"
  }
 ],
 "metadata": {
  "kernelspec": {
   "display_name": "Python 3",
   "language": "python",
   "name": "python3"
  },
  "language_info": {
   "codemirror_mode": {
    "name": "ipython",
    "version": 2
   },
   "file_extension": ".py",
   "mimetype": "text/x-python",
   "name": "python",
   "nbconvert_exporter": "python",
   "pygments_lexer": "ipython2",
   "version": "2.7.6"
  }
 },
 "nbformat": 4,
 "nbformat_minor": 5
}
