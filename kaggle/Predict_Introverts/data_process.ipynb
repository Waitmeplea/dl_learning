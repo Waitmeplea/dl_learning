{
 "cells": [
  {
   "cell_type": "code",
   "id": "initial_id",
   "metadata": {
    "collapsed": true,
    "ExecuteTime": {
     "end_time": "2025-07-10T01:55:51.524001Z",
     "start_time": "2025-07-10T01:55:51.516001Z"
    }
   },
   "source": [
    "import pandas as pd\n",
    "import numpy as np\n",
    "import matplotlib.pyplot as plt\n",
    "import sklearn\n",
    "from sklearn.preprocessing import LabelEncoder\n",
    "from scipy.stats import randint\n",
    "from sklearn.base import clone\n",
    "from sklearn.metrics import log_loss\n",
    "from sklearn.model_selection import KFold\n",
    "from numpy import ravel"
   ],
   "outputs": [],
   "execution_count": 343
  },
  {
   "metadata": {
    "ExecuteTime": {
     "end_time": "2025-07-10T02:09:37.716100Z",
     "start_time": "2025-07-10T02:09:37.690100Z"
    }
   },
   "cell_type": "code",
   "source": [
    "train_set=pd.read_csv('train.csv')\n",
    "test_set=pd.read_csv('test.csv')"
   ],
   "id": "bb356eeb5ec8a264",
   "outputs": [],
   "execution_count": 406
  },
  {
   "metadata": {
    "ExecuteTime": {
     "end_time": "2025-07-10T02:09:37.914887Z",
     "start_time": "2025-07-10T02:09:37.906877Z"
    }
   },
   "cell_type": "code",
   "source": "lb=LabelEncoder()",
   "id": "ed8c284cdf20f95",
   "outputs": [],
   "execution_count": 407
  },
  {
   "metadata": {
    "ExecuteTime": {
     "end_time": "2025-07-10T02:09:38.085115Z",
     "start_time": "2025-07-10T02:09:38.076112Z"
    }
   },
   "cell_type": "code",
   "source": "train_set.isnull().sum()",
   "id": "40a114001d486fc1",
   "outputs": [
    {
     "data": {
      "text/plain": [
       "id                              0\n",
       "Time_spent_Alone             1190\n",
       "Stage_fear                   1893\n",
       "Social_event_attendance      1180\n",
       "Going_outside                1466\n",
       "Drained_after_socializing    1149\n",
       "Friends_circle_size          1054\n",
       "Post_frequency               1264\n",
       "Personality                     0\n",
       "dtype: int64"
      ]
     },
     "execution_count": 408,
     "metadata": {},
     "output_type": "execute_result"
    }
   ],
   "execution_count": 408
  },
  {
   "metadata": {
    "ExecuteTime": {
     "end_time": "2025-07-10T02:09:38.255524Z",
     "start_time": "2025-07-10T02:09:38.244525Z"
    }
   },
   "cell_type": "code",
   "source": "train_set['id'].nunique()==train_set.shape[0]",
   "id": "d3c8206e0ed76263",
   "outputs": [
    {
     "data": {
      "text/plain": [
       "True"
      ]
     },
     "execution_count": 409,
     "metadata": {},
     "output_type": "execute_result"
    }
   ],
   "execution_count": 409
  },
  {
   "metadata": {
    "ExecuteTime": {
     "end_time": "2025-07-10T02:09:38.424657Z",
     "start_time": "2025-07-10T02:09:38.411663Z"
    }
   },
   "cell_type": "code",
   "source": "train_set.columns",
   "id": "4f39113e88a6abf7",
   "outputs": [
    {
     "data": {
      "text/plain": [
       "Index(['id', 'Time_spent_Alone', 'Stage_fear', 'Social_event_attendance',\n",
       "       'Going_outside', 'Drained_after_socializing', 'Friends_circle_size',\n",
       "       'Post_frequency', 'Personality'],\n",
       "      dtype='object')"
      ]
     },
     "execution_count": 410,
     "metadata": {},
     "output_type": "execute_result"
    }
   ],
   "execution_count": 410
  },
  {
   "metadata": {
    "ExecuteTime": {
     "end_time": "2025-07-10T02:09:38.822768Z",
     "start_time": "2025-07-10T02:09:38.798785Z"
    }
   },
   "cell_type": "code",
   "source": "train_set.info()",
   "id": "885c563f75c245db",
   "outputs": [
    {
     "name": "stdout",
     "output_type": "stream",
     "text": [
      "<class 'pandas.core.frame.DataFrame'>\n",
      "RangeIndex: 18524 entries, 0 to 18523\n",
      "Data columns (total 9 columns):\n",
      " #   Column                     Non-Null Count  Dtype  \n",
      "---  ------                     --------------  -----  \n",
      " 0   id                         18524 non-null  int64  \n",
      " 1   Time_spent_Alone           17334 non-null  float64\n",
      " 2   Stage_fear                 16631 non-null  object \n",
      " 3   Social_event_attendance    17344 non-null  float64\n",
      " 4   Going_outside              17058 non-null  float64\n",
      " 5   Drained_after_socializing  17375 non-null  object \n",
      " 6   Friends_circle_size        17470 non-null  float64\n",
      " 7   Post_frequency             17260 non-null  float64\n",
      " 8   Personality                18524 non-null  object \n",
      "dtypes: float64(5), int64(1), object(3)\n",
      "memory usage: 1.3+ MB\n"
     ]
    }
   ],
   "execution_count": 411
  },
  {
   "metadata": {
    "ExecuteTime": {
     "end_time": "2025-07-10T02:09:39.113020Z",
     "start_time": "2025-07-10T02:09:39.104021Z"
    }
   },
   "cell_type": "code",
   "source": "# 空值处理",
   "id": "39c2f57aa9201061",
   "outputs": [],
   "execution_count": 412
  },
  {
   "metadata": {
    "ExecuteTime": {
     "end_time": "2025-07-10T02:09:39.618907Z",
     "start_time": "2025-07-10T02:09:39.598907Z"
    }
   },
   "cell_type": "code",
   "source": [
    "numeric_cols=['Time_spent_Alone','Social_event_attendance',\n",
    "       'Going_outside', 'Friends_circle_size','Post_frequency']\n",
    "unnumeric_cols=['Stage_fear','Drained_after_socializing']\n",
    "\n",
    "def process_numeric_cols(df):\n",
    "       for col in numeric_cols:\n",
    "              # 新建一个标识该列为空的列\n",
    "              col_add=col+'_isnull'\n",
    "              df[col_add]=0\n",
    "              df.loc[df[col].isnull(),col_add]=1\n",
    "              # 补空值\n",
    "              df[col]=df[col].fillna(df[col].quantile(q=0.5))\n",
    "       return df\n",
    "def process_unnumeric_cols(df):\n",
    "       for col in unnumeric_cols:\n",
    "              df[col]=lb.fit_transform(df[col])\n",
    "       return df\n",
    "def process_target_cols(df):\n",
    "       df['Personality']=lb.fit_transform(df['Personality'])\n",
    "       return df"
   ],
   "id": "c876d8d6d9488e5f",
   "outputs": [],
   "execution_count": 413
  },
  {
   "metadata": {
    "ExecuteTime": {
     "end_time": "2025-07-10T02:09:40.140332Z",
     "start_time": "2025-07-10T02:09:40.124025Z"
    }
   },
   "cell_type": "code",
   "source": "",
   "id": "8e5b03f7c80d86c1",
   "outputs": [],
   "execution_count": 413
  },
  {
   "metadata": {
    "ExecuteTime": {
     "end_time": "2025-07-10T02:09:40.661874Z",
     "start_time": "2025-07-10T02:09:40.630874Z"
    }
   },
   "cell_type": "code",
   "source": [
    "train_pre1=process_numeric_cols(train_set.copy())\n",
    "train_pre2=process_unnumeric_cols(train_pre1.copy())\n",
    "train_data=process_target_cols(train_pre2.copy())\n",
    "\n",
    "test_pre1=process_numeric_cols(test_set.copy())\n",
    "test_data=process_unnumeric_cols(test_pre1.copy())"
   ],
   "id": "f9ec0cbb719defb1",
   "outputs": [],
   "execution_count": 414
  },
  {
   "metadata": {
    "ExecuteTime": {
     "end_time": "2025-07-10T02:09:41.122379Z",
     "start_time": "2025-07-10T02:09:41.107378Z"
    }
   },
   "cell_type": "code",
   "source": [
    "feature_col=['Time_spent_Alone', 'Stage_fear', 'Social_event_attendance',\n",
    "       'Going_outside', 'Drained_after_socializing', 'Friends_circle_size',\n",
    "       'Post_frequency', 'Time_spent_Alone_isnull',\n",
    "       'Social_event_attendance_isnull', 'Going_outside_isnull',\n",
    "       'Friends_circle_size_isnull', 'Post_frequency_isnull']\n",
    "target_col=['Personality']"
   ],
   "id": "d810e7783fd4694b",
   "outputs": [],
   "execution_count": 415
  },
  {
   "metadata": {
    "ExecuteTime": {
     "end_time": "2025-07-10T02:09:41.722687Z",
     "start_time": "2025-07-10T02:09:41.713685Z"
    }
   },
   "cell_type": "code",
   "source": [
    "# 训练数据\n",
    "X_train=train_data[feature_col].values\n",
    "y_train=train_data[target_col].values\n",
    "# 测试数据\n",
    "X_test=test_data[feature_col].values"
   ],
   "id": "2f11c43798bb676b",
   "outputs": [],
   "execution_count": 416
  },
  {
   "metadata": {
    "ExecuteTime": {
     "end_time": "2025-07-10T02:09:42.363899Z",
     "start_time": "2025-07-10T02:09:42.357899Z"
    }
   },
   "cell_type": "code",
   "source": [
    "# 1、随机森林\n",
    "from sklearn.model_selection import train_test_split, KFold\n",
    "from sklearn.preprocessing import StandardScaler\n",
    "from sklearn.ensemble import RandomForestClassifier\n",
    "from sklearn.metrics import accuracy_score\n",
    "from sklearn.model_selection import GridSearchCV\n",
    "from sklearn.model_selection import RandomizedSearchCV"
   ],
   "id": "6d3ae2fb26c13cdc",
   "outputs": [],
   "execution_count": 417
  },
  {
   "metadata": {
    "ExecuteTime": {
     "end_time": "2025-07-10T02:09:42.914158Z",
     "start_time": "2025-07-10T02:09:42.905157Z"
    }
   },
   "cell_type": "code",
   "source": "rf = RandomForestClassifier()",
   "id": "2d7b7859e9e57988",
   "outputs": [],
   "execution_count": 418
  },
  {
   "metadata": {
    "ExecuteTime": {
     "end_time": "2025-07-10T02:09:43.938163Z",
     "start_time": "2025-07-10T02:09:43.927167Z"
    }
   },
   "cell_type": "code",
   "source": [
    "param_grid = {'n_estimators': [50, 100,150, 200],\n",
    "              'max_depth': randint(5,10),\n",
    "              'min_samples_split': randint(2,30),\n",
    "              'min_samples_leaf': randint(1,30),\n",
    "              'max_features':[0.1,0.3,0.5,0.7,0.9]\n",
    "              }"
   ],
   "id": "96cb33500ae32087",
   "outputs": [],
   "execution_count": 419
  },
  {
   "metadata": {
    "ExecuteTime": {
     "end_time": "2025-07-10T02:13:15.598574Z",
     "start_time": "2025-07-10T02:13:15.581497Z"
    }
   },
   "cell_type": "code",
   "source": [
    "def result_tocsv(arr,name=''):\n",
    "    result=test_data[['id']]\n",
    "    result['Personality']=arr\n",
    "    map_dict={0:'Extrovert',1:'Introvert'}\n",
    "    result['Personality']=result['Personality'].map(map_dict)\n",
    "    result.to_csv(f'result{name}.csv',index=False)\n",
    "    print('结果写出')\n",
    "    \n"
   ],
   "id": "483d1beb1daf28ab",
   "outputs": [],
   "execution_count": 440
  },
  {
   "metadata": {
    "ExecuteTime": {
     "end_time": "2025-07-10T02:09:46.018939Z",
     "start_time": "2025-07-10T02:09:46.010939Z"
    }
   },
   "cell_type": "code",
   "source": [
    "param_grid = {'n_estimators': [50, 100,150, 200],\n",
    "              'max_depth': [5,10,15,20],\n",
    "              'min_samples_split': [2,5,10,15,20],\n",
    "              'min_samples_leaf': [1,3,5,7,9],\n",
    "              'max_features':[0.1,0.3,0.5,0.7,0.9]\n",
    "              }"
   ],
   "id": "d9a2201492ed9a7a",
   "outputs": [],
   "execution_count": 421
  },
  {
   "metadata": {
    "ExecuteTime": {
     "end_time": "2025-07-10T02:09:46.631013Z",
     "start_time": "2025-07-10T02:09:46.616811Z"
    }
   },
   "cell_type": "code",
   "source": [
    "# gsearch=GridSearchCV(estimator=rf,param_grid=param_grid,scoring='roc_auc',cv=5)\n",
    "# gsearch.fit(X_train,y_train)"
   ],
   "id": "c49fec797fb02681",
   "outputs": [],
   "execution_count": 422
  },
  {
   "metadata": {
    "ExecuteTime": {
     "end_time": "2025-07-10T02:09:47.603735Z",
     "start_time": "2025-07-10T02:09:47.586734Z"
    }
   },
   "cell_type": "code",
   "source": [
    "def cal_k_result(model_source):\n",
    "    kf=KFold(n_splits=5)\n",
    "    train_loss=[]\n",
    "    pred_result=[]\n",
    "    for train_idx,test_idx in  kf.split(train_data):\n",
    "        model=clone(model_source)\n",
    "        X_kf_train=X_train[train_idx]\n",
    "        y_kf_train=y_train[train_idx]\n",
    "        X_kf_test=X_train[test_idx]\n",
    "        y_kf_test=y_train[test_idx]\n",
    "        model.fit(X_kf_train,ravel(y_kf_train))\n",
    "\n",
    "        y_kf_predict=model.predict_proba(X_kf_test)\n",
    "        weight=log_loss(y_kf_test,y_kf_predict)\n",
    "        train_loss.append(1/weight+0.5)\n",
    "        pred_result.append(model.predict_proba(X_test))\n",
    "    return train_loss,pred_result"
   ],
   "id": "428d1fc93a7590a4",
   "outputs": [],
   "execution_count": 423
  },
  {
   "metadata": {
    "ExecuteTime": {
     "end_time": "2025-07-10T02:09:48.199055Z",
     "start_time": "2025-07-10T02:09:48.193054Z"
    }
   },
   "cell_type": "code",
   "source": [
    "rf=RandomForestClassifier(\n",
    " max_depth= 5,\n",
    " max_features=0.5,\n",
    " min_samples_leaf=5,\n",
    " min_samples_split=5,\n",
    " n_estimators=100\n",
    ")"
   ],
   "id": "4f1d475e96c6e769",
   "outputs": [],
   "execution_count": 424
  },
  {
   "metadata": {
    "ExecuteTime": {
     "end_time": "2025-07-10T02:09:52.630279Z",
     "start_time": "2025-07-10T02:09:50.087783Z"
    }
   },
   "cell_type": "code",
   "source": [
    "kf_result=cal_k_result(rf)\n",
    "total_weight=sum(kf_result[0])\n",
    "final_result=0\n",
    "for weight,result in zip(kf_result[0],kf_result[1]):\n",
    "    final_result+=weight*result/total_weight\n",
    "\n",
    "result=np.argmax(final_result,axis=1)\n",
    "result_tocsv(result)"
   ],
   "id": "f2730b8b261d14e8",
   "outputs": [
    {
     "name": "stdout",
     "output_type": "stream",
     "text": [
      "结果写出\n"
     ]
    },
    {
     "name": "stderr",
     "output_type": "stream",
     "text": [
      "C:\\Users\\HUMENGYUAN\\AppData\\Local\\Temp\\ipykernel_24976\\3980041850.py:3: SettingWithCopyWarning: \n",
      "A value is trying to be set on a copy of a slice from a DataFrame.\n",
      "Try using .loc[row_indexer,col_indexer] = value instead\n",
      "\n",
      "See the caveats in the documentation: https://pandas.pydata.org/pandas-docs/stable/user_guide/indexing.html#returning-a-view-versus-a-copy\n",
      "  result['Personality']=arr\n",
      "C:\\Users\\HUMENGYUAN\\AppData\\Local\\Temp\\ipykernel_24976\\3980041850.py:5: SettingWithCopyWarning: \n",
      "A value is trying to be set on a copy of a slice from a DataFrame.\n",
      "Try using .loc[row_indexer,col_indexer] = value instead\n",
      "\n",
      "See the caveats in the documentation: https://pandas.pydata.org/pandas-docs/stable/user_guide/indexing.html#returning-a-view-versus-a-copy\n",
      "  result['Personality']=result['Personality'].map(map_dict)\n"
     ]
    }
   ],
   "execution_count": 425
  },
  {
   "metadata": {
    "ExecuteTime": {
     "end_time": "2025-07-10T02:09:53.146859Z",
     "start_time": "2025-07-10T02:09:52.631269Z"
    }
   },
   "cell_type": "code",
   "source": "rf.fit(X_train,y_train)",
   "id": "c3a9cb0b5e1dcbc7",
   "outputs": [
    {
     "name": "stderr",
     "output_type": "stream",
     "text": [
      "D:\\tech_softwar\\miniconda\\envs\\for_autogluon\\lib\\site-packages\\sklearn\\base.py:1152: DataConversionWarning: A column-vector y was passed when a 1d array was expected. Please change the shape of y to (n_samples,), for example using ravel().\n",
      "  return fit_method(estimator, *args, **kwargs)\n"
     ]
    },
    {
     "data": {
      "text/plain": [
       "RandomForestClassifier(max_depth=5, max_features=0.5, min_samples_leaf=5,\n",
       "                       min_samples_split=5)"
      ],
      "text/html": [
       "<style>#sk-container-id-20 {color: black;}#sk-container-id-20 pre{padding: 0;}#sk-container-id-20 div.sk-toggleable {background-color: white;}#sk-container-id-20 label.sk-toggleable__label {cursor: pointer;display: block;width: 100%;margin-bottom: 0;padding: 0.3em;box-sizing: border-box;text-align: center;}#sk-container-id-20 label.sk-toggleable__label-arrow:before {content: \"▸\";float: left;margin-right: 0.25em;color: #696969;}#sk-container-id-20 label.sk-toggleable__label-arrow:hover:before {color: black;}#sk-container-id-20 div.sk-estimator:hover label.sk-toggleable__label-arrow:before {color: black;}#sk-container-id-20 div.sk-toggleable__content {max-height: 0;max-width: 0;overflow: hidden;text-align: left;background-color: #f0f8ff;}#sk-container-id-20 div.sk-toggleable__content pre {margin: 0.2em;color: black;border-radius: 0.25em;background-color: #f0f8ff;}#sk-container-id-20 input.sk-toggleable__control:checked~div.sk-toggleable__content {max-height: 200px;max-width: 100%;overflow: auto;}#sk-container-id-20 input.sk-toggleable__control:checked~label.sk-toggleable__label-arrow:before {content: \"▾\";}#sk-container-id-20 div.sk-estimator input.sk-toggleable__control:checked~label.sk-toggleable__label {background-color: #d4ebff;}#sk-container-id-20 div.sk-label input.sk-toggleable__control:checked~label.sk-toggleable__label {background-color: #d4ebff;}#sk-container-id-20 input.sk-hidden--visually {border: 0;clip: rect(1px 1px 1px 1px);clip: rect(1px, 1px, 1px, 1px);height: 1px;margin: -1px;overflow: hidden;padding: 0;position: absolute;width: 1px;}#sk-container-id-20 div.sk-estimator {font-family: monospace;background-color: #f0f8ff;border: 1px dotted black;border-radius: 0.25em;box-sizing: border-box;margin-bottom: 0.5em;}#sk-container-id-20 div.sk-estimator:hover {background-color: #d4ebff;}#sk-container-id-20 div.sk-parallel-item::after {content: \"\";width: 100%;border-bottom: 1px solid gray;flex-grow: 1;}#sk-container-id-20 div.sk-label:hover label.sk-toggleable__label {background-color: #d4ebff;}#sk-container-id-20 div.sk-serial::before {content: \"\";position: absolute;border-left: 1px solid gray;box-sizing: border-box;top: 0;bottom: 0;left: 50%;z-index: 0;}#sk-container-id-20 div.sk-serial {display: flex;flex-direction: column;align-items: center;background-color: white;padding-right: 0.2em;padding-left: 0.2em;position: relative;}#sk-container-id-20 div.sk-item {position: relative;z-index: 1;}#sk-container-id-20 div.sk-parallel {display: flex;align-items: stretch;justify-content: center;background-color: white;position: relative;}#sk-container-id-20 div.sk-item::before, #sk-container-id-20 div.sk-parallel-item::before {content: \"\";position: absolute;border-left: 1px solid gray;box-sizing: border-box;top: 0;bottom: 0;left: 50%;z-index: -1;}#sk-container-id-20 div.sk-parallel-item {display: flex;flex-direction: column;z-index: 1;position: relative;background-color: white;}#sk-container-id-20 div.sk-parallel-item:first-child::after {align-self: flex-end;width: 50%;}#sk-container-id-20 div.sk-parallel-item:last-child::after {align-self: flex-start;width: 50%;}#sk-container-id-20 div.sk-parallel-item:only-child::after {width: 0;}#sk-container-id-20 div.sk-dashed-wrapped {border: 1px dashed gray;margin: 0 0.4em 0.5em 0.4em;box-sizing: border-box;padding-bottom: 0.4em;background-color: white;}#sk-container-id-20 div.sk-label label {font-family: monospace;font-weight: bold;display: inline-block;line-height: 1.2em;}#sk-container-id-20 div.sk-label-container {text-align: center;}#sk-container-id-20 div.sk-container {/* jupyter's `normalize.less` sets `[hidden] { display: none; }` but bootstrap.min.css set `[hidden] { display: none !important; }` so we also need the `!important` here to be able to override the default hidden behavior on the sphinx rendered scikit-learn.org. See: https://github.com/scikit-learn/scikit-learn/issues/21755 */display: inline-block !important;position: relative;}#sk-container-id-20 div.sk-text-repr-fallback {display: none;}</style><div id=\"sk-container-id-20\" class=\"sk-top-container\"><div class=\"sk-text-repr-fallback\"><pre>RandomForestClassifier(max_depth=5, max_features=0.5, min_samples_leaf=5,\n",
       "                       min_samples_split=5)</pre><b>In a Jupyter environment, please rerun this cell to show the HTML representation or trust the notebook. <br />On GitHub, the HTML representation is unable to render, please try loading this page with nbviewer.org.</b></div><div class=\"sk-container\" hidden><div class=\"sk-item\"><div class=\"sk-estimator sk-toggleable\"><input class=\"sk-toggleable__control sk-hidden--visually\" id=\"sk-estimator-id-26\" type=\"checkbox\" checked><label for=\"sk-estimator-id-26\" class=\"sk-toggleable__label sk-toggleable__label-arrow\">RandomForestClassifier</label><div class=\"sk-toggleable__content\"><pre>RandomForestClassifier(max_depth=5, max_features=0.5, min_samples_leaf=5,\n",
       "                       min_samples_split=5)</pre></div></div></div></div></div>"
      ]
     },
     "execution_count": 426,
     "metadata": {},
     "output_type": "execute_result"
    }
   ],
   "execution_count": 426
  },
  {
   "metadata": {
    "ExecuteTime": {
     "end_time": "2025-07-10T02:09:53.727901Z",
     "start_time": "2025-07-10T02:09:53.628892Z"
    }
   },
   "cell_type": "code",
   "source": "rf.score(X_train,y_train)",
   "id": "ae25652e6fccd1d8",
   "outputs": [
    {
     "data": {
      "text/plain": [
       "0.9696069963290866"
      ]
     },
     "execution_count": 427,
     "metadata": {},
     "output_type": "execute_result"
    }
   ],
   "execution_count": 427
  },
  {
   "metadata": {
    "ExecuteTime": {
     "end_time": "2025-07-10T02:10:33.970662Z",
     "start_time": "2025-07-10T02:10:33.924661Z"
    }
   },
   "cell_type": "code",
   "source": "y_pred=rf.predict(X_test)",
   "id": "dfdf640e08c313ce",
   "outputs": [],
   "execution_count": 429
  },
  {
   "metadata": {
    "ExecuteTime": {
     "end_time": "2025-07-10T01:29:31.070015Z",
     "start_time": "2025-07-10T01:29:31.054961Z"
    }
   },
   "cell_type": "code",
   "source": [
    "wrong_idx=[]\n",
    "for idx,value in enumerate(wrong_list):\n",
    "    if value:\n",
    "        wrong_idx.append(idx)"
   ],
   "id": "4fc823865bbed3b7",
   "outputs": [],
   "execution_count": 271
  },
  {
   "metadata": {
    "ExecuteTime": {
     "end_time": "2025-07-10T01:29:31.621634Z",
     "start_time": "2025-07-10T01:29:31.608655Z"
    }
   },
   "cell_type": "code",
   "source": "X_train[wrong_idx]",
   "id": "8491b1e3f0b73fed",
   "outputs": [
    {
     "data": {
      "text/plain": [
       "array([[ 8.,  1.,  4., ...,  0.,  1.,  0.],\n",
       "       [ 6.,  1.,  2., ...,  0.,  0.,  0.],\n",
       "       [ 4.,  0.,  7., ...,  0.,  0.,  0.],\n",
       "       ...,\n",
       "       [11.,  1.,  0., ...,  0.,  0.,  0.],\n",
       "       [ 2.,  0.,  7., ...,  0.,  0.,  0.],\n",
       "       [ 3.,  0.,  5., ...,  0.,  0.,  0.]])"
      ]
     },
     "execution_count": 272,
     "metadata": {},
     "output_type": "execute_result"
    }
   ],
   "execution_count": 272
  },
  {
   "metadata": {
    "ExecuteTime": {
     "end_time": "2025-07-10T01:29:32.310403Z",
     "start_time": "2025-07-10T01:29:32.287437Z"
    }
   },
   "cell_type": "code",
   "source": "train_set.iloc[wrong_idx,:]",
   "id": "7d5408942ac5e6e9",
   "outputs": [
    {
     "data": {
      "text/plain": [
       "          id  Time_spent_Alone Stage_fear  Social_event_attendance  \\\n",
       "63        63               8.0        Yes                      4.0   \n",
       "102      102               6.0        Yes                      2.0   \n",
       "124      124               4.0         No                      7.0   \n",
       "139      139              11.0        NaN                      2.0   \n",
       "149      149               0.0         No                      4.0   \n",
       "...      ...               ...        ...                      ...   \n",
       "18337  18337               5.0        Yes                      3.0   \n",
       "18377  18377               5.0        Yes                      2.0   \n",
       "18437  18437              11.0        Yes                      0.0   \n",
       "18443  18443               NaN         No                      7.0   \n",
       "18486  18486               3.0         No                      5.0   \n",
       "\n",
       "       Going_outside Drained_after_socializing  Friends_circle_size  \\\n",
       "63               2.0                       Yes                  NaN   \n",
       "102              0.0                       Yes                  2.0   \n",
       "124              6.0                        No                 11.0   \n",
       "139              2.0                       Yes                  2.0   \n",
       "149              6.0                        No                  NaN   \n",
       "...              ...                       ...                  ...   \n",
       "18337            NaN                       NaN                  4.0   \n",
       "18377            0.0                       Yes                  7.0   \n",
       "18437            2.0                       Yes                  0.0   \n",
       "18443            4.0                        No                  9.0   \n",
       "18486            3.0                        No                  6.0   \n",
       "\n",
       "       Post_frequency Personality  \n",
       "63                0.0   Extrovert  \n",
       "102               0.0   Extrovert  \n",
       "124               3.0   Introvert  \n",
       "139               2.0   Extrovert  \n",
       "149               3.0   Introvert  \n",
       "...               ...         ...  \n",
       "18337             2.0   Extrovert  \n",
       "18377             1.0   Extrovert  \n",
       "18437             3.0   Extrovert  \n",
       "18443             4.0   Introvert  \n",
       "18486             8.0   Introvert  \n",
       "\n",
       "[564 rows x 9 columns]"
      ],
      "text/html": [
       "<div>\n",
       "<style scoped>\n",
       "    .dataframe tbody tr th:only-of-type {\n",
       "        vertical-align: middle;\n",
       "    }\n",
       "\n",
       "    .dataframe tbody tr th {\n",
       "        vertical-align: top;\n",
       "    }\n",
       "\n",
       "    .dataframe thead th {\n",
       "        text-align: right;\n",
       "    }\n",
       "</style>\n",
       "<table border=\"1\" class=\"dataframe\">\n",
       "  <thead>\n",
       "    <tr style=\"text-align: right;\">\n",
       "      <th></th>\n",
       "      <th>id</th>\n",
       "      <th>Time_spent_Alone</th>\n",
       "      <th>Stage_fear</th>\n",
       "      <th>Social_event_attendance</th>\n",
       "      <th>Going_outside</th>\n",
       "      <th>Drained_after_socializing</th>\n",
       "      <th>Friends_circle_size</th>\n",
       "      <th>Post_frequency</th>\n",
       "      <th>Personality</th>\n",
       "    </tr>\n",
       "  </thead>\n",
       "  <tbody>\n",
       "    <tr>\n",
       "      <th>63</th>\n",
       "      <td>63</td>\n",
       "      <td>8.0</td>\n",
       "      <td>Yes</td>\n",
       "      <td>4.0</td>\n",
       "      <td>2.0</td>\n",
       "      <td>Yes</td>\n",
       "      <td>NaN</td>\n",
       "      <td>0.0</td>\n",
       "      <td>Extrovert</td>\n",
       "    </tr>\n",
       "    <tr>\n",
       "      <th>102</th>\n",
       "      <td>102</td>\n",
       "      <td>6.0</td>\n",
       "      <td>Yes</td>\n",
       "      <td>2.0</td>\n",
       "      <td>0.0</td>\n",
       "      <td>Yes</td>\n",
       "      <td>2.0</td>\n",
       "      <td>0.0</td>\n",
       "      <td>Extrovert</td>\n",
       "    </tr>\n",
       "    <tr>\n",
       "      <th>124</th>\n",
       "      <td>124</td>\n",
       "      <td>4.0</td>\n",
       "      <td>No</td>\n",
       "      <td>7.0</td>\n",
       "      <td>6.0</td>\n",
       "      <td>No</td>\n",
       "      <td>11.0</td>\n",
       "      <td>3.0</td>\n",
       "      <td>Introvert</td>\n",
       "    </tr>\n",
       "    <tr>\n",
       "      <th>139</th>\n",
       "      <td>139</td>\n",
       "      <td>11.0</td>\n",
       "      <td>NaN</td>\n",
       "      <td>2.0</td>\n",
       "      <td>2.0</td>\n",
       "      <td>Yes</td>\n",
       "      <td>2.0</td>\n",
       "      <td>2.0</td>\n",
       "      <td>Extrovert</td>\n",
       "    </tr>\n",
       "    <tr>\n",
       "      <th>149</th>\n",
       "      <td>149</td>\n",
       "      <td>0.0</td>\n",
       "      <td>No</td>\n",
       "      <td>4.0</td>\n",
       "      <td>6.0</td>\n",
       "      <td>No</td>\n",
       "      <td>NaN</td>\n",
       "      <td>3.0</td>\n",
       "      <td>Introvert</td>\n",
       "    </tr>\n",
       "    <tr>\n",
       "      <th>...</th>\n",
       "      <td>...</td>\n",
       "      <td>...</td>\n",
       "      <td>...</td>\n",
       "      <td>...</td>\n",
       "      <td>...</td>\n",
       "      <td>...</td>\n",
       "      <td>...</td>\n",
       "      <td>...</td>\n",
       "      <td>...</td>\n",
       "    </tr>\n",
       "    <tr>\n",
       "      <th>18337</th>\n",
       "      <td>18337</td>\n",
       "      <td>5.0</td>\n",
       "      <td>Yes</td>\n",
       "      <td>3.0</td>\n",
       "      <td>NaN</td>\n",
       "      <td>NaN</td>\n",
       "      <td>4.0</td>\n",
       "      <td>2.0</td>\n",
       "      <td>Extrovert</td>\n",
       "    </tr>\n",
       "    <tr>\n",
       "      <th>18377</th>\n",
       "      <td>18377</td>\n",
       "      <td>5.0</td>\n",
       "      <td>Yes</td>\n",
       "      <td>2.0</td>\n",
       "      <td>0.0</td>\n",
       "      <td>Yes</td>\n",
       "      <td>7.0</td>\n",
       "      <td>1.0</td>\n",
       "      <td>Extrovert</td>\n",
       "    </tr>\n",
       "    <tr>\n",
       "      <th>18437</th>\n",
       "      <td>18437</td>\n",
       "      <td>11.0</td>\n",
       "      <td>Yes</td>\n",
       "      <td>0.0</td>\n",
       "      <td>2.0</td>\n",
       "      <td>Yes</td>\n",
       "      <td>0.0</td>\n",
       "      <td>3.0</td>\n",
       "      <td>Extrovert</td>\n",
       "    </tr>\n",
       "    <tr>\n",
       "      <th>18443</th>\n",
       "      <td>18443</td>\n",
       "      <td>NaN</td>\n",
       "      <td>No</td>\n",
       "      <td>7.0</td>\n",
       "      <td>4.0</td>\n",
       "      <td>No</td>\n",
       "      <td>9.0</td>\n",
       "      <td>4.0</td>\n",
       "      <td>Introvert</td>\n",
       "    </tr>\n",
       "    <tr>\n",
       "      <th>18486</th>\n",
       "      <td>18486</td>\n",
       "      <td>3.0</td>\n",
       "      <td>No</td>\n",
       "      <td>5.0</td>\n",
       "      <td>3.0</td>\n",
       "      <td>No</td>\n",
       "      <td>6.0</td>\n",
       "      <td>8.0</td>\n",
       "      <td>Introvert</td>\n",
       "    </tr>\n",
       "  </tbody>\n",
       "</table>\n",
       "<p>564 rows × 9 columns</p>\n",
       "</div>"
      ]
     },
     "execution_count": 273,
     "metadata": {},
     "output_type": "execute_result"
    }
   ],
   "execution_count": 273
  },
  {
   "metadata": {
    "ExecuteTime": {
     "end_time": "2025-07-10T01:29:33.573044Z",
     "start_time": "2025-07-10T01:29:33.543479Z"
    }
   },
   "cell_type": "code",
   "source": "train_set",
   "id": "37e35bb8db894fd0",
   "outputs": [
    {
     "data": {
      "text/plain": [
       "          id  Time_spent_Alone Stage_fear  Social_event_attendance  \\\n",
       "0          0               0.0         No                      6.0   \n",
       "1          1               1.0         No                      7.0   \n",
       "2          2               6.0        Yes                      1.0   \n",
       "3          3               3.0         No                      7.0   \n",
       "4          4               1.0         No                      4.0   \n",
       "...      ...               ...        ...                      ...   \n",
       "18519  18519               3.0         No                      7.0   \n",
       "18520  18520               1.0        NaN                      6.0   \n",
       "18521  18521               7.0        Yes                      1.0   \n",
       "18522  18522               NaN        Yes                      1.0   \n",
       "18523  18523               1.0         No                      8.0   \n",
       "\n",
       "       Going_outside Drained_after_socializing  Friends_circle_size  \\\n",
       "0                4.0                        No                 15.0   \n",
       "1                3.0                        No                 10.0   \n",
       "2                0.0                       NaN                  3.0   \n",
       "3                3.0                        No                 11.0   \n",
       "4                4.0                        No                 13.0   \n",
       "...              ...                       ...                  ...   \n",
       "18519            3.0                        No                  9.0   \n",
       "18520            7.0                        No                  6.0   \n",
       "18521            1.0                       Yes                  1.0   \n",
       "18522            0.0                       Yes                  5.0   \n",
       "18523            6.0                        No                  4.0   \n",
       "\n",
       "       Post_frequency Personality  \n",
       "0                 5.0   Extrovert  \n",
       "1                 8.0   Extrovert  \n",
       "2                 0.0   Introvert  \n",
       "3                 5.0   Extrovert  \n",
       "4                 NaN   Extrovert  \n",
       "...               ...         ...  \n",
       "18519             7.0   Extrovert  \n",
       "18520             5.0   Extrovert  \n",
       "18521             NaN   Introvert  \n",
       "18522             2.0   Introvert  \n",
       "18523             7.0   Extrovert  \n",
       "\n",
       "[18524 rows x 9 columns]"
      ],
      "text/html": [
       "<div>\n",
       "<style scoped>\n",
       "    .dataframe tbody tr th:only-of-type {\n",
       "        vertical-align: middle;\n",
       "    }\n",
       "\n",
       "    .dataframe tbody tr th {\n",
       "        vertical-align: top;\n",
       "    }\n",
       "\n",
       "    .dataframe thead th {\n",
       "        text-align: right;\n",
       "    }\n",
       "</style>\n",
       "<table border=\"1\" class=\"dataframe\">\n",
       "  <thead>\n",
       "    <tr style=\"text-align: right;\">\n",
       "      <th></th>\n",
       "      <th>id</th>\n",
       "      <th>Time_spent_Alone</th>\n",
       "      <th>Stage_fear</th>\n",
       "      <th>Social_event_attendance</th>\n",
       "      <th>Going_outside</th>\n",
       "      <th>Drained_after_socializing</th>\n",
       "      <th>Friends_circle_size</th>\n",
       "      <th>Post_frequency</th>\n",
       "      <th>Personality</th>\n",
       "    </tr>\n",
       "  </thead>\n",
       "  <tbody>\n",
       "    <tr>\n",
       "      <th>0</th>\n",
       "      <td>0</td>\n",
       "      <td>0.0</td>\n",
       "      <td>No</td>\n",
       "      <td>6.0</td>\n",
       "      <td>4.0</td>\n",
       "      <td>No</td>\n",
       "      <td>15.0</td>\n",
       "      <td>5.0</td>\n",
       "      <td>Extrovert</td>\n",
       "    </tr>\n",
       "    <tr>\n",
       "      <th>1</th>\n",
       "      <td>1</td>\n",
       "      <td>1.0</td>\n",
       "      <td>No</td>\n",
       "      <td>7.0</td>\n",
       "      <td>3.0</td>\n",
       "      <td>No</td>\n",
       "      <td>10.0</td>\n",
       "      <td>8.0</td>\n",
       "      <td>Extrovert</td>\n",
       "    </tr>\n",
       "    <tr>\n",
       "      <th>2</th>\n",
       "      <td>2</td>\n",
       "      <td>6.0</td>\n",
       "      <td>Yes</td>\n",
       "      <td>1.0</td>\n",
       "      <td>0.0</td>\n",
       "      <td>NaN</td>\n",
       "      <td>3.0</td>\n",
       "      <td>0.0</td>\n",
       "      <td>Introvert</td>\n",
       "    </tr>\n",
       "    <tr>\n",
       "      <th>3</th>\n",
       "      <td>3</td>\n",
       "      <td>3.0</td>\n",
       "      <td>No</td>\n",
       "      <td>7.0</td>\n",
       "      <td>3.0</td>\n",
       "      <td>No</td>\n",
       "      <td>11.0</td>\n",
       "      <td>5.0</td>\n",
       "      <td>Extrovert</td>\n",
       "    </tr>\n",
       "    <tr>\n",
       "      <th>4</th>\n",
       "      <td>4</td>\n",
       "      <td>1.0</td>\n",
       "      <td>No</td>\n",
       "      <td>4.0</td>\n",
       "      <td>4.0</td>\n",
       "      <td>No</td>\n",
       "      <td>13.0</td>\n",
       "      <td>NaN</td>\n",
       "      <td>Extrovert</td>\n",
       "    </tr>\n",
       "    <tr>\n",
       "      <th>...</th>\n",
       "      <td>...</td>\n",
       "      <td>...</td>\n",
       "      <td>...</td>\n",
       "      <td>...</td>\n",
       "      <td>...</td>\n",
       "      <td>...</td>\n",
       "      <td>...</td>\n",
       "      <td>...</td>\n",
       "      <td>...</td>\n",
       "    </tr>\n",
       "    <tr>\n",
       "      <th>18519</th>\n",
       "      <td>18519</td>\n",
       "      <td>3.0</td>\n",
       "      <td>No</td>\n",
       "      <td>7.0</td>\n",
       "      <td>3.0</td>\n",
       "      <td>No</td>\n",
       "      <td>9.0</td>\n",
       "      <td>7.0</td>\n",
       "      <td>Extrovert</td>\n",
       "    </tr>\n",
       "    <tr>\n",
       "      <th>18520</th>\n",
       "      <td>18520</td>\n",
       "      <td>1.0</td>\n",
       "      <td>NaN</td>\n",
       "      <td>6.0</td>\n",
       "      <td>7.0</td>\n",
       "      <td>No</td>\n",
       "      <td>6.0</td>\n",
       "      <td>5.0</td>\n",
       "      <td>Extrovert</td>\n",
       "    </tr>\n",
       "    <tr>\n",
       "      <th>18521</th>\n",
       "      <td>18521</td>\n",
       "      <td>7.0</td>\n",
       "      <td>Yes</td>\n",
       "      <td>1.0</td>\n",
       "      <td>1.0</td>\n",
       "      <td>Yes</td>\n",
       "      <td>1.0</td>\n",
       "      <td>NaN</td>\n",
       "      <td>Introvert</td>\n",
       "    </tr>\n",
       "    <tr>\n",
       "      <th>18522</th>\n",
       "      <td>18522</td>\n",
       "      <td>NaN</td>\n",
       "      <td>Yes</td>\n",
       "      <td>1.0</td>\n",
       "      <td>0.0</td>\n",
       "      <td>Yes</td>\n",
       "      <td>5.0</td>\n",
       "      <td>2.0</td>\n",
       "      <td>Introvert</td>\n",
       "    </tr>\n",
       "    <tr>\n",
       "      <th>18523</th>\n",
       "      <td>18523</td>\n",
       "      <td>1.0</td>\n",
       "      <td>No</td>\n",
       "      <td>8.0</td>\n",
       "      <td>6.0</td>\n",
       "      <td>No</td>\n",
       "      <td>4.0</td>\n",
       "      <td>7.0</td>\n",
       "      <td>Extrovert</td>\n",
       "    </tr>\n",
       "  </tbody>\n",
       "</table>\n",
       "<p>18524 rows × 9 columns</p>\n",
       "</div>"
      ]
     },
     "execution_count": 274,
     "metadata": {},
     "output_type": "execute_result"
    }
   ],
   "execution_count": 274
  },
  {
   "metadata": {},
   "cell_type": "markdown",
   "source": "# 带有源数据的feature",
   "id": "bbed01e273f4eb88"
  },
  {
   "metadata": {
    "ExecuteTime": {
     "end_time": "2025-07-10T01:29:53.312374Z",
     "start_time": "2025-07-10T01:29:53.287413Z"
    }
   },
   "cell_type": "code",
   "source": [
    "source_data=pd.read_csv('personality_datasert.csv').drop_duplicates()\n",
    "source_data[['Time_spent_Alone','Social_event_attendance',\n",
    "       'Going_outside', 'Friends_circle_size',\n",
    "       'Post_frequency']]=source_data[['Time_spent_Alone','Social_event_attendance',\n",
    "       'Going_outside', 'Friends_circle_size',\n",
    "       'Post_frequency']].applymap(lambda x: round(x))"
   ],
   "id": "4f52531cde41cd36",
   "outputs": [],
   "execution_count": 280
  },
  {
   "metadata": {
    "ExecuteTime": {
     "end_time": "2025-07-10T01:30:57.609717Z",
     "start_time": "2025-07-10T01:30:57.445920Z"
    }
   },
   "cell_type": "code",
   "source": [
    "source_data_groupby=source_data.groupby(['Time_spent_Alone', 'Stage_fear', 'Social_event_attendance',\n",
    "       'Going_outside', 'Drained_after_socializing', 'Friends_circle_size',\n",
    "       'Post_frequency'])['Personality'].agg(count='size',match_p='max').reset_index()\n",
    "source_data_progress=source_data_groupby.loc[source_data_groupby['count']==1,:]"
   ],
   "id": "d7afb0f310cf37e8",
   "outputs": [],
   "execution_count": 281
  },
  {
   "metadata": {
    "ExecuteTime": {
     "end_time": "2025-07-10T01:30:58.300290Z",
     "start_time": "2025-07-10T01:30:58.277632Z"
    }
   },
   "cell_type": "code",
   "source": "source_data_progress",
   "id": "3cc82dea32ba93fa",
   "outputs": [
    {
     "data": {
      "text/plain": [
       "      Time_spent_Alone Stage_fear  Social_event_attendance  Going_outside  \\\n",
       "0                    0         No                        3              4   \n",
       "1                    0         No                        3              5   \n",
       "2                    0         No                        3              5   \n",
       "3                    0         No                        3              5   \n",
       "4                    0         No                        3              6   \n",
       "...                ...        ...                      ...            ...   \n",
       "2409                11        Yes                        3              2   \n",
       "2410                11        Yes                        3              2   \n",
       "2411                11        Yes                        3              2   \n",
       "2412                11        Yes                        3              2   \n",
       "2413                11        Yes                        4              2   \n",
       "\n",
       "     Drained_after_socializing  Friends_circle_size  Post_frequency  count  \\\n",
       "0                           No                    6               5      1   \n",
       "1                           No                    4               5      1   \n",
       "2                           No                    4               7      1   \n",
       "3                           No                    7               3      1   \n",
       "4                           No                    8               6      1   \n",
       "...                        ...                  ...             ...    ...   \n",
       "2409                       Yes                    4               0      1   \n",
       "2410                       Yes                    4               1      1   \n",
       "2411                       Yes                    5               0      1   \n",
       "2412                       Yes                    5               2      1   \n",
       "2413                       Yes                    3               2      1   \n",
       "\n",
       "        match_p  \n",
       "0     Extrovert  \n",
       "1     Extrovert  \n",
       "2     Extrovert  \n",
       "3     Extrovert  \n",
       "4     Extrovert  \n",
       "...         ...  \n",
       "2409  Introvert  \n",
       "2410  Introvert  \n",
       "2411  Introvert  \n",
       "2412  Introvert  \n",
       "2413  Introvert  \n",
       "\n",
       "[2330 rows x 9 columns]"
      ],
      "text/html": [
       "<div>\n",
       "<style scoped>\n",
       "    .dataframe tbody tr th:only-of-type {\n",
       "        vertical-align: middle;\n",
       "    }\n",
       "\n",
       "    .dataframe tbody tr th {\n",
       "        vertical-align: top;\n",
       "    }\n",
       "\n",
       "    .dataframe thead th {\n",
       "        text-align: right;\n",
       "    }\n",
       "</style>\n",
       "<table border=\"1\" class=\"dataframe\">\n",
       "  <thead>\n",
       "    <tr style=\"text-align: right;\">\n",
       "      <th></th>\n",
       "      <th>Time_spent_Alone</th>\n",
       "      <th>Stage_fear</th>\n",
       "      <th>Social_event_attendance</th>\n",
       "      <th>Going_outside</th>\n",
       "      <th>Drained_after_socializing</th>\n",
       "      <th>Friends_circle_size</th>\n",
       "      <th>Post_frequency</th>\n",
       "      <th>count</th>\n",
       "      <th>match_p</th>\n",
       "    </tr>\n",
       "  </thead>\n",
       "  <tbody>\n",
       "    <tr>\n",
       "      <th>0</th>\n",
       "      <td>0</td>\n",
       "      <td>No</td>\n",
       "      <td>3</td>\n",
       "      <td>4</td>\n",
       "      <td>No</td>\n",
       "      <td>6</td>\n",
       "      <td>5</td>\n",
       "      <td>1</td>\n",
       "      <td>Extrovert</td>\n",
       "    </tr>\n",
       "    <tr>\n",
       "      <th>1</th>\n",
       "      <td>0</td>\n",
       "      <td>No</td>\n",
       "      <td>3</td>\n",
       "      <td>5</td>\n",
       "      <td>No</td>\n",
       "      <td>4</td>\n",
       "      <td>5</td>\n",
       "      <td>1</td>\n",
       "      <td>Extrovert</td>\n",
       "    </tr>\n",
       "    <tr>\n",
       "      <th>2</th>\n",
       "      <td>0</td>\n",
       "      <td>No</td>\n",
       "      <td>3</td>\n",
       "      <td>5</td>\n",
       "      <td>No</td>\n",
       "      <td>4</td>\n",
       "      <td>7</td>\n",
       "      <td>1</td>\n",
       "      <td>Extrovert</td>\n",
       "    </tr>\n",
       "    <tr>\n",
       "      <th>3</th>\n",
       "      <td>0</td>\n",
       "      <td>No</td>\n",
       "      <td>3</td>\n",
       "      <td>5</td>\n",
       "      <td>No</td>\n",
       "      <td>7</td>\n",
       "      <td>3</td>\n",
       "      <td>1</td>\n",
       "      <td>Extrovert</td>\n",
       "    </tr>\n",
       "    <tr>\n",
       "      <th>4</th>\n",
       "      <td>0</td>\n",
       "      <td>No</td>\n",
       "      <td>3</td>\n",
       "      <td>6</td>\n",
       "      <td>No</td>\n",
       "      <td>8</td>\n",
       "      <td>6</td>\n",
       "      <td>1</td>\n",
       "      <td>Extrovert</td>\n",
       "    </tr>\n",
       "    <tr>\n",
       "      <th>...</th>\n",
       "      <td>...</td>\n",
       "      <td>...</td>\n",
       "      <td>...</td>\n",
       "      <td>...</td>\n",
       "      <td>...</td>\n",
       "      <td>...</td>\n",
       "      <td>...</td>\n",
       "      <td>...</td>\n",
       "      <td>...</td>\n",
       "    </tr>\n",
       "    <tr>\n",
       "      <th>2409</th>\n",
       "      <td>11</td>\n",
       "      <td>Yes</td>\n",
       "      <td>3</td>\n",
       "      <td>2</td>\n",
       "      <td>Yes</td>\n",
       "      <td>4</td>\n",
       "      <td>0</td>\n",
       "      <td>1</td>\n",
       "      <td>Introvert</td>\n",
       "    </tr>\n",
       "    <tr>\n",
       "      <th>2410</th>\n",
       "      <td>11</td>\n",
       "      <td>Yes</td>\n",
       "      <td>3</td>\n",
       "      <td>2</td>\n",
       "      <td>Yes</td>\n",
       "      <td>4</td>\n",
       "      <td>1</td>\n",
       "      <td>1</td>\n",
       "      <td>Introvert</td>\n",
       "    </tr>\n",
       "    <tr>\n",
       "      <th>2411</th>\n",
       "      <td>11</td>\n",
       "      <td>Yes</td>\n",
       "      <td>3</td>\n",
       "      <td>2</td>\n",
       "      <td>Yes</td>\n",
       "      <td>5</td>\n",
       "      <td>0</td>\n",
       "      <td>1</td>\n",
       "      <td>Introvert</td>\n",
       "    </tr>\n",
       "    <tr>\n",
       "      <th>2412</th>\n",
       "      <td>11</td>\n",
       "      <td>Yes</td>\n",
       "      <td>3</td>\n",
       "      <td>2</td>\n",
       "      <td>Yes</td>\n",
       "      <td>5</td>\n",
       "      <td>2</td>\n",
       "      <td>1</td>\n",
       "      <td>Introvert</td>\n",
       "    </tr>\n",
       "    <tr>\n",
       "      <th>2413</th>\n",
       "      <td>11</td>\n",
       "      <td>Yes</td>\n",
       "      <td>4</td>\n",
       "      <td>2</td>\n",
       "      <td>Yes</td>\n",
       "      <td>3</td>\n",
       "      <td>2</td>\n",
       "      <td>1</td>\n",
       "      <td>Introvert</td>\n",
       "    </tr>\n",
       "  </tbody>\n",
       "</table>\n",
       "<p>2330 rows × 9 columns</p>\n",
       "</div>"
      ]
     },
     "execution_count": 282,
     "metadata": {},
     "output_type": "execute_result"
    }
   ],
   "execution_count": 282
  },
  {
   "metadata": {
    "ExecuteTime": {
     "end_time": "2025-07-10T01:31:07.436751Z",
     "start_time": "2025-07-10T01:31:07.404591Z"
    }
   },
   "cell_type": "code",
   "source": [
    "train_set_pre=pd.merge(left=train_set,right=source_data_progress,how='left')\n",
    "test_set_pre=pd.merge(left=test_set,right=source_data_progress,how='left')"
   ],
   "id": "c622f18878dd7739",
   "outputs": [],
   "execution_count": 283
  },
  {
   "metadata": {},
   "cell_type": "markdown",
   "source": "## 带有源数据：方案1：剔除掉不正常的行",
   "id": "e57128302d9a9e1"
  },
  {
   "metadata": {
    "ExecuteTime": {
     "end_time": "2025-07-10T02:22:18.324279Z",
     "start_time": "2025-07-10T02:22:18.257271Z"
    }
   },
   "cell_type": "code",
   "source": [
    "train_set_A=train_set_pre.loc[(train_set_pre['match_p'].isnull())|(train_set_pre['Personality']==train_set_pre['match_p']),:].drop(columns=['count','id'],axis=1)\n",
    "test_set_A=test_set_pre.drop(columns=['count','id'],axis=1)\n",
    "_droped_index=train_set_pre.loc[(~train_set_pre['match_p'].isnull())&(train_set_pre['Personality']!=train_set_pre['match_p']),:]\n",
    "# 测试集里无争议数据\n",
    "test_set_A_droped=pd.merge(left=test_set_pre,right=_droped_index,how='inner')\n",
    "test_set_A_droped\n",
    "numeric_cols=['Time_spent_Alone','Social_event_attendance',\n",
    "       'Going_outside', 'Friends_circle_size','Post_frequency']\n",
    "unnumeric_cols=['Stage_fear','Drained_after_socializing','match_p']\n",
    "\n",
    "def process_numeric_cols(df):\n",
    "        \n",
    "       for col in numeric_cols:\n",
    "              # 新建一个标识该列为空的列\n",
    "              col_add=col+'_isnull'\n",
    "              df[col_add]=0\n",
    "              df.loc[df[col].isnull(),col_add]=1\n",
    "              # 补空值\n",
    "              df[col]=df[col].fillna(df[col].quantile(q=0.5))\n",
    "       return df\n",
    "\n",
    "def process_unnumeric_cols(df):\n",
    "       for col in unnumeric_cols:\n",
    "              df[col]=lb.fit_transform(df[col])\n",
    "       return df\n",
    "def process_target_cols(df):\n",
    "       df['Personality']=lb.fit_transform(df['Personality'])\n",
    "       return df\n",
    "\n",
    "train_A_pre1=process_numeric_cols(train_set_A.copy())\n",
    "train_A_pre2=process_unnumeric_cols(train_A_pre1.copy())\n",
    "train_data_A=process_target_cols(train_A_pre2.copy())\n",
    "\n",
    "test_A_pre1=process_numeric_cols(test_set_pre.copy())\n",
    "test_data_A=process_unnumeric_cols(test_A_pre1.copy())\n",
    "\n",
    "feature_cols=['Time_spent_Alone', 'Stage_fear', 'Social_event_attendance',\n",
    "       'Going_outside', 'Drained_after_socializing', 'Friends_circle_size',\n",
    "       'Post_frequency', 'match_p', 'Time_spent_Alone_isnull',\n",
    "       'Social_event_attendance_isnull', 'Going_outside_isnull',\n",
    "       'Friends_circle_size_isnull', 'Post_frequency_isnull']\n",
    "target_col=['Personality']\n",
    "\n",
    "X_train_A=train_data_A[feature_cols].values\n",
    "y_train_A=train_data_A[target_col].values\n",
    "X_test_A=test_data_A[feature_cols].values"
   ],
   "id": "d67ffb7aadc578f5",
   "outputs": [],
   "execution_count": 488
  },
  {
   "metadata": {
    "ExecuteTime": {
     "end_time": "2025-07-10T02:22:21.290741Z",
     "start_time": "2025-07-10T02:22:19.626735Z"
    }
   },
   "cell_type": "code",
   "source": [
    "rf_A=RandomForestClassifier(\n",
    " max_depth= 5,\n",
    " max_features=0.5,\n",
    " min_samples_leaf=5,\n",
    " min_samples_split=5,\n",
    " n_estimators=100\n",
    ")\n",
    "rf_A = RandomForestClassifier(n_estimators=344, max_depth=11, max_features=None,\n",
    "    min_samples_split=11, min_samples_leaf=1,  n_jobs=-1 )\n",
    "rf_A.fit(X_train_A, y_train_A)"
   ],
   "id": "9b775259746d016f",
   "outputs": [
    {
     "name": "stderr",
     "output_type": "stream",
     "text": [
      "D:\\tech_softwar\\miniconda\\envs\\for_autogluon\\lib\\site-packages\\sklearn\\base.py:1152: DataConversionWarning: A column-vector y was passed when a 1d array was expected. Please change the shape of y to (n_samples,), for example using ravel().\n",
      "  return fit_method(estimator, *args, **kwargs)\n"
     ]
    },
    {
     "data": {
      "text/plain": [
       "RandomForestClassifier(max_depth=11, max_features=None, min_samples_split=11,\n",
       "                       n_estimators=344, n_jobs=-1)"
      ],
      "text/html": [
       "<style>#sk-container-id-31 {color: black;}#sk-container-id-31 pre{padding: 0;}#sk-container-id-31 div.sk-toggleable {background-color: white;}#sk-container-id-31 label.sk-toggleable__label {cursor: pointer;display: block;width: 100%;margin-bottom: 0;padding: 0.3em;box-sizing: border-box;text-align: center;}#sk-container-id-31 label.sk-toggleable__label-arrow:before {content: \"▸\";float: left;margin-right: 0.25em;color: #696969;}#sk-container-id-31 label.sk-toggleable__label-arrow:hover:before {color: black;}#sk-container-id-31 div.sk-estimator:hover label.sk-toggleable__label-arrow:before {color: black;}#sk-container-id-31 div.sk-toggleable__content {max-height: 0;max-width: 0;overflow: hidden;text-align: left;background-color: #f0f8ff;}#sk-container-id-31 div.sk-toggleable__content pre {margin: 0.2em;color: black;border-radius: 0.25em;background-color: #f0f8ff;}#sk-container-id-31 input.sk-toggleable__control:checked~div.sk-toggleable__content {max-height: 200px;max-width: 100%;overflow: auto;}#sk-container-id-31 input.sk-toggleable__control:checked~label.sk-toggleable__label-arrow:before {content: \"▾\";}#sk-container-id-31 div.sk-estimator input.sk-toggleable__control:checked~label.sk-toggleable__label {background-color: #d4ebff;}#sk-container-id-31 div.sk-label input.sk-toggleable__control:checked~label.sk-toggleable__label {background-color: #d4ebff;}#sk-container-id-31 input.sk-hidden--visually {border: 0;clip: rect(1px 1px 1px 1px);clip: rect(1px, 1px, 1px, 1px);height: 1px;margin: -1px;overflow: hidden;padding: 0;position: absolute;width: 1px;}#sk-container-id-31 div.sk-estimator {font-family: monospace;background-color: #f0f8ff;border: 1px dotted black;border-radius: 0.25em;box-sizing: border-box;margin-bottom: 0.5em;}#sk-container-id-31 div.sk-estimator:hover {background-color: #d4ebff;}#sk-container-id-31 div.sk-parallel-item::after {content: \"\";width: 100%;border-bottom: 1px solid gray;flex-grow: 1;}#sk-container-id-31 div.sk-label:hover label.sk-toggleable__label {background-color: #d4ebff;}#sk-container-id-31 div.sk-serial::before {content: \"\";position: absolute;border-left: 1px solid gray;box-sizing: border-box;top: 0;bottom: 0;left: 50%;z-index: 0;}#sk-container-id-31 div.sk-serial {display: flex;flex-direction: column;align-items: center;background-color: white;padding-right: 0.2em;padding-left: 0.2em;position: relative;}#sk-container-id-31 div.sk-item {position: relative;z-index: 1;}#sk-container-id-31 div.sk-parallel {display: flex;align-items: stretch;justify-content: center;background-color: white;position: relative;}#sk-container-id-31 div.sk-item::before, #sk-container-id-31 div.sk-parallel-item::before {content: \"\";position: absolute;border-left: 1px solid gray;box-sizing: border-box;top: 0;bottom: 0;left: 50%;z-index: -1;}#sk-container-id-31 div.sk-parallel-item {display: flex;flex-direction: column;z-index: 1;position: relative;background-color: white;}#sk-container-id-31 div.sk-parallel-item:first-child::after {align-self: flex-end;width: 50%;}#sk-container-id-31 div.sk-parallel-item:last-child::after {align-self: flex-start;width: 50%;}#sk-container-id-31 div.sk-parallel-item:only-child::after {width: 0;}#sk-container-id-31 div.sk-dashed-wrapped {border: 1px dashed gray;margin: 0 0.4em 0.5em 0.4em;box-sizing: border-box;padding-bottom: 0.4em;background-color: white;}#sk-container-id-31 div.sk-label label {font-family: monospace;font-weight: bold;display: inline-block;line-height: 1.2em;}#sk-container-id-31 div.sk-label-container {text-align: center;}#sk-container-id-31 div.sk-container {/* jupyter's `normalize.less` sets `[hidden] { display: none; }` but bootstrap.min.css set `[hidden] { display: none !important; }` so we also need the `!important` here to be able to override the default hidden behavior on the sphinx rendered scikit-learn.org. See: https://github.com/scikit-learn/scikit-learn/issues/21755 */display: inline-block !important;position: relative;}#sk-container-id-31 div.sk-text-repr-fallback {display: none;}</style><div id=\"sk-container-id-31\" class=\"sk-top-container\"><div class=\"sk-text-repr-fallback\"><pre>RandomForestClassifier(max_depth=11, max_features=None, min_samples_split=11,\n",
       "                       n_estimators=344, n_jobs=-1)</pre><b>In a Jupyter environment, please rerun this cell to show the HTML representation or trust the notebook. <br />On GitHub, the HTML representation is unable to render, please try loading this page with nbviewer.org.</b></div><div class=\"sk-container\" hidden><div class=\"sk-item\"><div class=\"sk-estimator sk-toggleable\"><input class=\"sk-toggleable__control sk-hidden--visually\" id=\"sk-estimator-id-37\" type=\"checkbox\" checked><label for=\"sk-estimator-id-37\" class=\"sk-toggleable__label sk-toggleable__label-arrow\">RandomForestClassifier</label><div class=\"sk-toggleable__content\"><pre>RandomForestClassifier(max_depth=11, max_features=None, min_samples_split=11,\n",
       "                       n_estimators=344, n_jobs=-1)</pre></div></div></div></div></div>"
      ]
     },
     "execution_count": 489,
     "metadata": {},
     "output_type": "execute_result"
    }
   ],
   "execution_count": 489
  },
  {
   "metadata": {
    "ExecuteTime": {
     "end_time": "2025-07-10T02:22:22.092296Z",
     "start_time": "2025-07-10T02:22:21.945421Z"
    }
   },
   "cell_type": "code",
   "source": "rf_A.score(X_train_A, y_train_A)",
   "id": "29ac6f748f60e6a0",
   "outputs": [
    {
     "data": {
      "text/plain": [
       "0.9724426568105229"
      ]
     },
     "execution_count": 490,
     "metadata": {},
     "output_type": "execute_result"
    }
   ],
   "execution_count": 490
  },
  {
   "metadata": {
    "ExecuteTime": {
     "end_time": "2025-07-10T02:22:25.099308Z",
     "start_time": "2025-07-10T02:22:24.989248Z"
    }
   },
   "cell_type": "code",
   "source": "test_pred_A=rf_A.predict(X_test_A)",
   "id": "685ce68c0408d32c",
   "outputs": [],
   "execution_count": 491
  },
  {
   "metadata": {
    "ExecuteTime": {
     "end_time": "2025-07-10T02:22:26.263871Z",
     "start_time": "2025-07-10T02:22:26.249003Z"
    }
   },
   "cell_type": "code",
   "source": "sum(y_pred!=test_pred_A)",
   "id": "115e027eacf86f28",
   "outputs": [
    {
     "data": {
      "text/plain": [
       "7"
      ]
     },
     "execution_count": 492,
     "metadata": {},
     "output_type": "execute_result"
    }
   ],
   "execution_count": 492
  },
  {
   "metadata": {
    "ExecuteTime": {
     "end_time": "2025-07-10T02:25:12.774173Z",
     "start_time": "2025-07-10T02:25:12.752401Z"
    }
   },
   "cell_type": "code",
   "source": "result_tocsv(test_pred_A,'_A')",
   "id": "6a3743bff33e8581",
   "outputs": [
    {
     "name": "stdout",
     "output_type": "stream",
     "text": [
      "结果写出\n"
     ]
    },
    {
     "name": "stderr",
     "output_type": "stream",
     "text": [
      "C:\\Users\\HUMENGYUAN\\AppData\\Local\\Temp\\ipykernel_24976\\3375353976.py:3: SettingWithCopyWarning: \n",
      "A value is trying to be set on a copy of a slice from a DataFrame.\n",
      "Try using .loc[row_indexer,col_indexer] = value instead\n",
      "\n",
      "See the caveats in the documentation: https://pandas.pydata.org/pandas-docs/stable/user_guide/indexing.html#returning-a-view-versus-a-copy\n",
      "  result['Personality']=arr\n",
      "C:\\Users\\HUMENGYUAN\\AppData\\Local\\Temp\\ipykernel_24976\\3375353976.py:5: SettingWithCopyWarning: \n",
      "A value is trying to be set on a copy of a slice from a DataFrame.\n",
      "Try using .loc[row_indexer,col_indexer] = value instead\n",
      "\n",
      "See the caveats in the documentation: https://pandas.pydata.org/pandas-docs/stable/user_guide/indexing.html#returning-a-view-versus-a-copy\n",
      "  result['Personality']=result['Personality'].map(map_dict)\n"
     ]
    }
   ],
   "execution_count": 494
  },
  {
   "metadata": {},
   "cell_type": "markdown",
   "source": "## 方案2 不删除",
   "id": "67c23e4a1df44e80"
  },
  {
   "metadata": {
    "ExecuteTime": {
     "end_time": "2025-07-10T02:08:20.987714Z",
     "start_time": "2025-07-10T02:08:20.935715Z"
    }
   },
   "cell_type": "code",
   "source": [
    "train_set_B=train_set_pre.drop(columns=['count','id'],axis=1)\n",
    "test_set_B=test_set_pre.drop(columns=['count','id'],axis=1)\n",
    "\n",
    "\n",
    "\n",
    "numeric_cols=['Time_spent_Alone','Social_event_attendance',\n",
    "       'Going_outside', 'Friends_circle_size','Post_frequency']\n",
    "unnumeric_cols=['Stage_fear','Drained_after_socializing','match_p']\n",
    "\n",
    "def process_numeric_cols(df):\n",
    "        \n",
    "       for col in numeric_cols:\n",
    "              # 新建一个标识该列为空的列\n",
    "              col_add=col+'_isnull'\n",
    "              df[col_add]=0\n",
    "              df.loc[df[col].isnull(),col_add]=1\n",
    "              # 补空值\n",
    "              df[col]=df[col].fillna(df[col].quantile(q=0.5))\n",
    "       return df\n",
    "\n",
    "def process_unnumeric_cols(df):\n",
    "       for col in unnumeric_cols:\n",
    "              df[col]=lb.fit_transform(df[col])\n",
    "       return df\n",
    "def process_target_cols(df):\n",
    "       df['Personality']=lb.fit_transform(df['Personality'])\n",
    "       return df\n",
    "\n",
    "train_B_pre1=process_numeric_cols(train_set_B.copy())\n",
    "train_B_pre2=process_unnumeric_cols(train_B_pre1.copy())\n",
    "train_data_B=process_target_cols(train_B_pre2.copy())\n",
    "\n",
    "test_B_pre1=process_numeric_cols(test_set_pre.copy())\n",
    "test_data_B=process_unnumeric_cols(test_B_pre1.copy())\n",
    "\n",
    "feature_cols=['Time_spent_Alone', 'Stage_fear', 'Social_event_attendance',\n",
    "       'Going_outside', 'Drained_after_socializing', 'Friends_circle_size',\n",
    "       'Post_frequency', 'match_p', 'Time_spent_Alone_isnull',\n",
    "       'Social_event_attendance_isnull', 'Going_outside_isnull',\n",
    "       'Friends_circle_size_isnull', 'Post_frequency_isnull']\n",
    "target_col=['Personality']\n",
    "\n",
    "X_train_B=train_data_B[feature_cols].values\n",
    "y_train_B=train_data_B[target_col].values\n",
    "X_test_B=test_data_B[feature_cols].values"
   ],
   "id": "ef382811bc5518f8",
   "outputs": [],
   "execution_count": 395
  },
  {
   "metadata": {
    "ExecuteTime": {
     "end_time": "2025-07-10T02:21:44.614314Z",
     "start_time": "2025-07-10T02:21:43.133383Z"
    }
   },
   "cell_type": "code",
   "source": [
    "rf_B=RandomForestClassifier(\n",
    " max_depth= 5,\n",
    " max_features=0.7,\n",
    " min_samples_leaf=1,\n",
    " min_samples_split=2,\n",
    " n_estimators=100\n",
    ")\n",
    "\n",
    "rf_B = RandomForestClassifier(n_estimators=344, max_depth=11, max_features=None,\n",
    "    min_samples_split=11, min_samples_leaf=1,  n_jobs=-1 )\n",
    "rf_B.fit(X_train_B, y_train_B)"
   ],
   "id": "7883b3d308aed46b",
   "outputs": [
    {
     "name": "stderr",
     "output_type": "stream",
     "text": [
      "D:\\tech_softwar\\miniconda\\envs\\for_autogluon\\lib\\site-packages\\sklearn\\base.py:1152: DataConversionWarning: A column-vector y was passed when a 1d array was expected. Please change the shape of y to (n_samples,), for example using ravel().\n",
      "  return fit_method(estimator, *args, **kwargs)\n"
     ]
    },
    {
     "data": {
      "text/plain": [
       "RandomForestClassifier(max_depth=11, max_features=None, min_samples_split=11,\n",
       "                       n_estimators=344, n_jobs=-1)"
      ],
      "text/html": [
       "<style>#sk-container-id-30 {color: black;}#sk-container-id-30 pre{padding: 0;}#sk-container-id-30 div.sk-toggleable {background-color: white;}#sk-container-id-30 label.sk-toggleable__label {cursor: pointer;display: block;width: 100%;margin-bottom: 0;padding: 0.3em;box-sizing: border-box;text-align: center;}#sk-container-id-30 label.sk-toggleable__label-arrow:before {content: \"▸\";float: left;margin-right: 0.25em;color: #696969;}#sk-container-id-30 label.sk-toggleable__label-arrow:hover:before {color: black;}#sk-container-id-30 div.sk-estimator:hover label.sk-toggleable__label-arrow:before {color: black;}#sk-container-id-30 div.sk-toggleable__content {max-height: 0;max-width: 0;overflow: hidden;text-align: left;background-color: #f0f8ff;}#sk-container-id-30 div.sk-toggleable__content pre {margin: 0.2em;color: black;border-radius: 0.25em;background-color: #f0f8ff;}#sk-container-id-30 input.sk-toggleable__control:checked~div.sk-toggleable__content {max-height: 200px;max-width: 100%;overflow: auto;}#sk-container-id-30 input.sk-toggleable__control:checked~label.sk-toggleable__label-arrow:before {content: \"▾\";}#sk-container-id-30 div.sk-estimator input.sk-toggleable__control:checked~label.sk-toggleable__label {background-color: #d4ebff;}#sk-container-id-30 div.sk-label input.sk-toggleable__control:checked~label.sk-toggleable__label {background-color: #d4ebff;}#sk-container-id-30 input.sk-hidden--visually {border: 0;clip: rect(1px 1px 1px 1px);clip: rect(1px, 1px, 1px, 1px);height: 1px;margin: -1px;overflow: hidden;padding: 0;position: absolute;width: 1px;}#sk-container-id-30 div.sk-estimator {font-family: monospace;background-color: #f0f8ff;border: 1px dotted black;border-radius: 0.25em;box-sizing: border-box;margin-bottom: 0.5em;}#sk-container-id-30 div.sk-estimator:hover {background-color: #d4ebff;}#sk-container-id-30 div.sk-parallel-item::after {content: \"\";width: 100%;border-bottom: 1px solid gray;flex-grow: 1;}#sk-container-id-30 div.sk-label:hover label.sk-toggleable__label {background-color: #d4ebff;}#sk-container-id-30 div.sk-serial::before {content: \"\";position: absolute;border-left: 1px solid gray;box-sizing: border-box;top: 0;bottom: 0;left: 50%;z-index: 0;}#sk-container-id-30 div.sk-serial {display: flex;flex-direction: column;align-items: center;background-color: white;padding-right: 0.2em;padding-left: 0.2em;position: relative;}#sk-container-id-30 div.sk-item {position: relative;z-index: 1;}#sk-container-id-30 div.sk-parallel {display: flex;align-items: stretch;justify-content: center;background-color: white;position: relative;}#sk-container-id-30 div.sk-item::before, #sk-container-id-30 div.sk-parallel-item::before {content: \"\";position: absolute;border-left: 1px solid gray;box-sizing: border-box;top: 0;bottom: 0;left: 50%;z-index: -1;}#sk-container-id-30 div.sk-parallel-item {display: flex;flex-direction: column;z-index: 1;position: relative;background-color: white;}#sk-container-id-30 div.sk-parallel-item:first-child::after {align-self: flex-end;width: 50%;}#sk-container-id-30 div.sk-parallel-item:last-child::after {align-self: flex-start;width: 50%;}#sk-container-id-30 div.sk-parallel-item:only-child::after {width: 0;}#sk-container-id-30 div.sk-dashed-wrapped {border: 1px dashed gray;margin: 0 0.4em 0.5em 0.4em;box-sizing: border-box;padding-bottom: 0.4em;background-color: white;}#sk-container-id-30 div.sk-label label {font-family: monospace;font-weight: bold;display: inline-block;line-height: 1.2em;}#sk-container-id-30 div.sk-label-container {text-align: center;}#sk-container-id-30 div.sk-container {/* jupyter's `normalize.less` sets `[hidden] { display: none; }` but bootstrap.min.css set `[hidden] { display: none !important; }` so we also need the `!important` here to be able to override the default hidden behavior on the sphinx rendered scikit-learn.org. See: https://github.com/scikit-learn/scikit-learn/issues/21755 */display: inline-block !important;position: relative;}#sk-container-id-30 div.sk-text-repr-fallback {display: none;}</style><div id=\"sk-container-id-30\" class=\"sk-top-container\"><div class=\"sk-text-repr-fallback\"><pre>RandomForestClassifier(max_depth=11, max_features=None, min_samples_split=11,\n",
       "                       n_estimators=344, n_jobs=-1)</pre><b>In a Jupyter environment, please rerun this cell to show the HTML representation or trust the notebook. <br />On GitHub, the HTML representation is unable to render, please try loading this page with nbviewer.org.</b></div><div class=\"sk-container\" hidden><div class=\"sk-item\"><div class=\"sk-estimator sk-toggleable\"><input class=\"sk-toggleable__control sk-hidden--visually\" id=\"sk-estimator-id-36\" type=\"checkbox\" checked><label for=\"sk-estimator-id-36\" class=\"sk-toggleable__label sk-toggleable__label-arrow\">RandomForestClassifier</label><div class=\"sk-toggleable__content\"><pre>RandomForestClassifier(max_depth=11, max_features=None, min_samples_split=11,\n",
       "                       n_estimators=344, n_jobs=-1)</pre></div></div></div></div></div>"
      ]
     },
     "execution_count": 483,
     "metadata": {},
     "output_type": "execute_result"
    }
   ],
   "execution_count": 483
  },
  {
   "metadata": {
    "ExecuteTime": {
     "end_time": "2025-07-10T02:21:44.767695Z",
     "start_time": "2025-07-10T02:21:44.616314Z"
    }
   },
   "cell_type": "code",
   "source": "rf_B.score(X_train_B, y_train_B)",
   "id": "fa34cd39f24655b1",
   "outputs": [
    {
     "data": {
      "text/plain": [
       "0.9714964370546318"
      ]
     },
     "execution_count": 484,
     "metadata": {},
     "output_type": "execute_result"
    }
   ],
   "execution_count": 484
  },
  {
   "metadata": {
    "ExecuteTime": {
     "end_time": "2025-07-10T02:21:44.858759Z",
     "start_time": "2025-07-10T02:21:44.768716Z"
    }
   },
   "cell_type": "code",
   "source": "test_pred_B=rf_B.predict(X_test_B)",
   "id": "9121923d45793673",
   "outputs": [],
   "execution_count": 485
  },
  {
   "metadata": {
    "ExecuteTime": {
     "end_time": "2025-07-10T02:22:38.482806Z",
     "start_time": "2025-07-10T02:22:38.467791Z"
    }
   },
   "cell_type": "code",
   "source": "sum(test_pred_B!=test_pred_A)",
   "id": "742ac608c06a8136",
   "outputs": [
    {
     "data": {
      "text/plain": [
       "5"
      ]
     },
     "execution_count": 493,
     "metadata": {},
     "output_type": "execute_result"
    }
   ],
   "execution_count": 493
  },
  {
   "metadata": {
    "ExecuteTime": {
     "end_time": "2025-07-10T02:21:45.532504Z",
     "start_time": "2025-07-10T02:21:45.508825Z"
    }
   },
   "cell_type": "code",
   "source": "result_tocsv(test_pred_B,name='_B_2')",
   "id": "afc1ed53aaabac12",
   "outputs": [
    {
     "name": "stdout",
     "output_type": "stream",
     "text": [
      "结果写出\n"
     ]
    },
    {
     "name": "stderr",
     "output_type": "stream",
     "text": [
      "C:\\Users\\HUMENGYUAN\\AppData\\Local\\Temp\\ipykernel_24976\\3375353976.py:3: SettingWithCopyWarning: \n",
      "A value is trying to be set on a copy of a slice from a DataFrame.\n",
      "Try using .loc[row_indexer,col_indexer] = value instead\n",
      "\n",
      "See the caveats in the documentation: https://pandas.pydata.org/pandas-docs/stable/user_guide/indexing.html#returning-a-view-versus-a-copy\n",
      "  result['Personality']=arr\n",
      "C:\\Users\\HUMENGYUAN\\AppData\\Local\\Temp\\ipykernel_24976\\3375353976.py:5: SettingWithCopyWarning: \n",
      "A value is trying to be set on a copy of a slice from a DataFrame.\n",
      "Try using .loc[row_indexer,col_indexer] = value instead\n",
      "\n",
      "See the caveats in the documentation: https://pandas.pydata.org/pandas-docs/stable/user_guide/indexing.html#returning-a-view-versus-a-copy\n",
      "  result['Personality']=result['Personality'].map(map_dict)\n"
     ]
    }
   ],
   "execution_count": 487
  },
  {
   "metadata": {},
   "cell_type": "code",
   "outputs": [],
   "execution_count": null,
   "source": "",
   "id": "d5db99263abba81"
  }
 ],
 "metadata": {
  "kernelspec": {
   "display_name": "Python 3",
   "language": "python",
   "name": "python3"
  },
  "language_info": {
   "codemirror_mode": {
    "name": "ipython",
    "version": 2
   },
   "file_extension": ".py",
   "mimetype": "text/x-python",
   "name": "python",
   "nbconvert_exporter": "python",
   "pygments_lexer": "ipython2",
   "version": "2.7.6"
  }
 },
 "nbformat": 4,
 "nbformat_minor": 5
}
