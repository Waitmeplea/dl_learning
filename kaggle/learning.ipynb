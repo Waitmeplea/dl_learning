{
 "cells": [
  {
   "metadata": {
    "ExecuteTime": {
     "end_time": "2025-06-23T09:43:03.731380Z",
     "start_time": "2025-06-23T09:43:03.723347Z"
    }
   },
   "cell_type": "code",
   "source": [
    "import pandas as pd\n",
    "import numpy as np\n",
    "import os\n",
    "import gc #内存管理\n",
    "file_dir=r'D:\\bigdata_project\\kaggle_dataset\\elo-merchant-category-recommendation'\n",
    "os.listdir(file_dir)\n"
   ],
   "id": "149314ce732e2462",
   "outputs": [],
   "execution_count": 6
  },
  {
   "metadata": {
    "ExecuteTime": {
     "end_time": "2025-06-23T09:43:52.750062Z",
     "start_time": "2025-06-23T09:43:52.495984Z"
    }
   },
   "cell_type": "code",
   "source": "pd.read_excel(file_dir+r'\\Data Dictionary.xlsx',header=2,sheet_name='train')",
   "id": "fa8e627a01cb7e67",
   "outputs": [
    {
     "data": {
      "text/plain": [
       "              Columns                                        Description\n",
       "0             card_id                             Unique card identifier\n",
       "1  first_active_month                 'YYYY-MM', month of first purchase\n",
       "2           feature_1                Anonymized card categorical feature\n",
       "3           feature_2                Anonymized card categorical feature\n",
       "4           feature_3                Anonymized card categorical feature\n",
       "5              target  Loyalty numerical score calculated 2 months af..."
      ],
      "text/html": [
       "<div>\n",
       "<style scoped>\n",
       "    .dataframe tbody tr th:only-of-type {\n",
       "        vertical-align: middle;\n",
       "    }\n",
       "\n",
       "    .dataframe tbody tr th {\n",
       "        vertical-align: top;\n",
       "    }\n",
       "\n",
       "    .dataframe thead th {\n",
       "        text-align: right;\n",
       "    }\n",
       "</style>\n",
       "<table border=\"1\" class=\"dataframe\">\n",
       "  <thead>\n",
       "    <tr style=\"text-align: right;\">\n",
       "      <th></th>\n",
       "      <th>Columns</th>\n",
       "      <th>Description</th>\n",
       "    </tr>\n",
       "  </thead>\n",
       "  <tbody>\n",
       "    <tr>\n",
       "      <th>0</th>\n",
       "      <td>card_id</td>\n",
       "      <td>Unique card identifier</td>\n",
       "    </tr>\n",
       "    <tr>\n",
       "      <th>1</th>\n",
       "      <td>first_active_month</td>\n",
       "      <td>'YYYY-MM', month of first purchase</td>\n",
       "    </tr>\n",
       "    <tr>\n",
       "      <th>2</th>\n",
       "      <td>feature_1</td>\n",
       "      <td>Anonymized card categorical feature</td>\n",
       "    </tr>\n",
       "    <tr>\n",
       "      <th>3</th>\n",
       "      <td>feature_2</td>\n",
       "      <td>Anonymized card categorical feature</td>\n",
       "    </tr>\n",
       "    <tr>\n",
       "      <th>4</th>\n",
       "      <td>feature_3</td>\n",
       "      <td>Anonymized card categorical feature</td>\n",
       "    </tr>\n",
       "    <tr>\n",
       "      <th>5</th>\n",
       "      <td>target</td>\n",
       "      <td>Loyalty numerical score calculated 2 months af...</td>\n",
       "    </tr>\n",
       "  </tbody>\n",
       "</table>\n",
       "</div>"
      ]
     },
     "execution_count": 11,
     "metadata": {},
     "output_type": "execute_result"
    }
   ],
   "execution_count": 11
  },
  {
   "metadata": {
    "ExecuteTime": {
     "end_time": "2025-06-23T09:43:54.322708Z",
     "start_time": "2025-06-23T09:43:54.254352Z"
    }
   },
   "cell_type": "code",
   "source": [
    "#查看提交格式\n",
    "pd.read_csv(file_dir+r'\\sample_submission.csv').head()"
   ],
   "id": "53539cd4f69c1051",
   "outputs": [
    {
     "data": {
      "text/plain": [
       "           card_id  target\n",
       "0  C_ID_0ab67a22ab       0\n",
       "1  C_ID_130fd0cbdd       0\n",
       "2  C_ID_b709037bc5       0\n",
       "3  C_ID_d27d835a9f       0\n",
       "4  C_ID_2b5e3df5c2       0"
      ],
      "text/html": [
       "<div>\n",
       "<style scoped>\n",
       "    .dataframe tbody tr th:only-of-type {\n",
       "        vertical-align: middle;\n",
       "    }\n",
       "\n",
       "    .dataframe tbody tr th {\n",
       "        vertical-align: top;\n",
       "    }\n",
       "\n",
       "    .dataframe thead th {\n",
       "        text-align: right;\n",
       "    }\n",
       "</style>\n",
       "<table border=\"1\" class=\"dataframe\">\n",
       "  <thead>\n",
       "    <tr style=\"text-align: right;\">\n",
       "      <th></th>\n",
       "      <th>card_id</th>\n",
       "      <th>target</th>\n",
       "    </tr>\n",
       "  </thead>\n",
       "  <tbody>\n",
       "    <tr>\n",
       "      <th>0</th>\n",
       "      <td>C_ID_0ab67a22ab</td>\n",
       "      <td>0</td>\n",
       "    </tr>\n",
       "    <tr>\n",
       "      <th>1</th>\n",
       "      <td>C_ID_130fd0cbdd</td>\n",
       "      <td>0</td>\n",
       "    </tr>\n",
       "    <tr>\n",
       "      <th>2</th>\n",
       "      <td>C_ID_b709037bc5</td>\n",
       "      <td>0</td>\n",
       "    </tr>\n",
       "    <tr>\n",
       "      <th>3</th>\n",
       "      <td>C_ID_d27d835a9f</td>\n",
       "      <td>0</td>\n",
       "    </tr>\n",
       "    <tr>\n",
       "      <th>4</th>\n",
       "      <td>C_ID_2b5e3df5c2</td>\n",
       "      <td>0</td>\n",
       "    </tr>\n",
       "  </tbody>\n",
       "</table>\n",
       "</div>"
      ]
     },
     "execution_count": 12,
     "metadata": {},
     "output_type": "execute_result"
    }
   ],
   "execution_count": 12
  },
  {
   "metadata": {
    "ExecuteTime": {
     "end_time": "2025-06-23T09:43:54.704360Z",
     "start_time": "2025-06-23T09:43:54.624303Z"
    }
   },
   "cell_type": "code",
   "source": [
    "# 查看数据集基本信息\n",
    "pd.read_csv(file_dir+r'\\sample_submission.csv').info()"
   ],
   "id": "ebe4b8cfdd1f224e",
   "outputs": [
    {
     "name": "stdout",
     "output_type": "stream",
     "text": [
      "<class 'pandas.core.frame.DataFrame'>\n",
      "RangeIndex: 123623 entries, 0 to 123622\n",
      "Data columns (total 2 columns):\n",
      " #   Column   Non-Null Count   Dtype \n",
      "---  ------   --------------   ----- \n",
      " 0   card_id  123623 non-null  object\n",
      " 1   target   123623 non-null  int64 \n",
      "dtypes: int64(1), object(1)\n",
      "memory usage: 1.9+ MB\n"
     ]
    }
   ],
   "execution_count": 13
  },
  {
   "metadata": {},
   "cell_type": "markdown",
   "source": "# 1、数据读取",
   "id": "71eb8b2d3c2e118"
  },
  {
   "metadata": {
    "ExecuteTime": {
     "end_time": "2025-06-23T09:43:55.384396Z",
     "start_time": "2025-06-23T09:43:55.144341Z"
    }
   },
   "cell_type": "code",
   "source": [
    "train=pd.read_csv(file_dir+r'\\train.csv')\n",
    "test=pd.read_csv(file_dir+r'\\test.csv')"
   ],
   "id": "82dcba7ebebeb6a2",
   "outputs": [],
   "execution_count": 14
  },
  {
   "metadata": {
    "ExecuteTime": {
     "end_time": "2025-06-23T09:43:55.396423Z",
     "start_time": "2025-06-23T09:43:55.384396Z"
    }
   },
   "cell_type": "code",
   "source": "train.head()",
   "id": "4ff9eb2ea04f0119",
   "outputs": [
    {
     "data": {
      "text/plain": [
       "  first_active_month          card_id  feature_1  feature_2  feature_3  \\\n",
       "0            2017-06  C_ID_92a2005557          5          2          1   \n",
       "1            2017-01  C_ID_3d0044924f          4          1          0   \n",
       "2            2016-08  C_ID_d639edf6cd          2          2          0   \n",
       "3            2017-09  C_ID_186d6a6901          4          3          0   \n",
       "4            2017-11  C_ID_cdbd2c0db2          1          3          0   \n",
       "\n",
       "     target  \n",
       "0 -0.820283  \n",
       "1  0.392913  \n",
       "2  0.688056  \n",
       "3  0.142495  \n",
       "4 -0.159749  "
      ],
      "text/html": [
       "<div>\n",
       "<style scoped>\n",
       "    .dataframe tbody tr th:only-of-type {\n",
       "        vertical-align: middle;\n",
       "    }\n",
       "\n",
       "    .dataframe tbody tr th {\n",
       "        vertical-align: top;\n",
       "    }\n",
       "\n",
       "    .dataframe thead th {\n",
       "        text-align: right;\n",
       "    }\n",
       "</style>\n",
       "<table border=\"1\" class=\"dataframe\">\n",
       "  <thead>\n",
       "    <tr style=\"text-align: right;\">\n",
       "      <th></th>\n",
       "      <th>first_active_month</th>\n",
       "      <th>card_id</th>\n",
       "      <th>feature_1</th>\n",
       "      <th>feature_2</th>\n",
       "      <th>feature_3</th>\n",
       "      <th>target</th>\n",
       "    </tr>\n",
       "  </thead>\n",
       "  <tbody>\n",
       "    <tr>\n",
       "      <th>0</th>\n",
       "      <td>2017-06</td>\n",
       "      <td>C_ID_92a2005557</td>\n",
       "      <td>5</td>\n",
       "      <td>2</td>\n",
       "      <td>1</td>\n",
       "      <td>-0.820283</td>\n",
       "    </tr>\n",
       "    <tr>\n",
       "      <th>1</th>\n",
       "      <td>2017-01</td>\n",
       "      <td>C_ID_3d0044924f</td>\n",
       "      <td>4</td>\n",
       "      <td>1</td>\n",
       "      <td>0</td>\n",
       "      <td>0.392913</td>\n",
       "    </tr>\n",
       "    <tr>\n",
       "      <th>2</th>\n",
       "      <td>2016-08</td>\n",
       "      <td>C_ID_d639edf6cd</td>\n",
       "      <td>2</td>\n",
       "      <td>2</td>\n",
       "      <td>0</td>\n",
       "      <td>0.688056</td>\n",
       "    </tr>\n",
       "    <tr>\n",
       "      <th>3</th>\n",
       "      <td>2017-09</td>\n",
       "      <td>C_ID_186d6a6901</td>\n",
       "      <td>4</td>\n",
       "      <td>3</td>\n",
       "      <td>0</td>\n",
       "      <td>0.142495</td>\n",
       "    </tr>\n",
       "    <tr>\n",
       "      <th>4</th>\n",
       "      <td>2017-11</td>\n",
       "      <td>C_ID_cdbd2c0db2</td>\n",
       "      <td>1</td>\n",
       "      <td>3</td>\n",
       "      <td>0</td>\n",
       "      <td>-0.159749</td>\n",
       "    </tr>\n",
       "  </tbody>\n",
       "</table>\n",
       "</div>"
      ]
     },
     "execution_count": 15,
     "metadata": {},
     "output_type": "execute_result"
    }
   ],
   "execution_count": 15
  },
  {
   "metadata": {
    "ExecuteTime": {
     "end_time": "2025-06-23T09:43:55.606863Z",
     "start_time": "2025-06-23T09:43:55.582350Z"
    }
   },
   "cell_type": "code",
   "source": "test.info()",
   "id": "52ee30e2e59e24be",
   "outputs": [
    {
     "name": "stdout",
     "output_type": "stream",
     "text": [
      "<class 'pandas.core.frame.DataFrame'>\n",
      "RangeIndex: 123623 entries, 0 to 123622\n",
      "Data columns (total 5 columns):\n",
      " #   Column              Non-Null Count   Dtype \n",
      "---  ------              --------------   ----- \n",
      " 0   first_active_month  123622 non-null  object\n",
      " 1   card_id             123623 non-null  object\n",
      " 2   feature_1           123623 non-null  int64 \n",
      " 3   feature_2           123623 non-null  int64 \n",
      " 4   feature_3           123623 non-null  int64 \n",
      "dtypes: int64(3), object(2)\n",
      "memory usage: 4.7+ MB\n"
     ]
    }
   ],
   "execution_count": 16
  },
  {
   "metadata": {
    "ExecuteTime": {
     "end_time": "2025-06-23T09:43:55.755812Z",
     "start_time": "2025-06-23T09:43:55.743381Z"
    }
   },
   "cell_type": "code",
   "source": "train.columns",
   "id": "377a7ed5f978ec3",
   "outputs": [
    {
     "data": {
      "text/plain": [
       "Index(['first_active_month', 'card_id', 'feature_1', 'feature_2', 'feature_3',\n",
       "       'target'],\n",
       "      dtype='object')"
      ]
     },
     "execution_count": 17,
     "metadata": {},
     "output_type": "execute_result"
    }
   ],
   "execution_count": 17
  },
  {
   "metadata": {
    "ExecuteTime": {
     "end_time": "2025-06-23T09:43:56.138228Z",
     "start_time": "2025-06-23T09:43:56.101496Z"
    }
   },
   "cell_type": "code",
   "source": [
    "train[['feature_1', 'feature_2', 'feature_3',\n",
    "       'target']].corr()"
   ],
   "id": "e3cd34992e40b04c",
   "outputs": [
    {
     "data": {
      "text/plain": [
       "           feature_1  feature_2  feature_3    target\n",
       "feature_1   1.000000  -0.130969   0.583092 -0.014251\n",
       "feature_2  -0.130969   1.000000   0.060925 -0.006242\n",
       "feature_3   0.583092   0.060925   1.000000 -0.008125\n",
       "target     -0.014251  -0.006242  -0.008125  1.000000"
      ],
      "text/html": [
       "<div>\n",
       "<style scoped>\n",
       "    .dataframe tbody tr th:only-of-type {\n",
       "        vertical-align: middle;\n",
       "    }\n",
       "\n",
       "    .dataframe tbody tr th {\n",
       "        vertical-align: top;\n",
       "    }\n",
       "\n",
       "    .dataframe thead th {\n",
       "        text-align: right;\n",
       "    }\n",
       "</style>\n",
       "<table border=\"1\" class=\"dataframe\">\n",
       "  <thead>\n",
       "    <tr style=\"text-align: right;\">\n",
       "      <th></th>\n",
       "      <th>feature_1</th>\n",
       "      <th>feature_2</th>\n",
       "      <th>feature_3</th>\n",
       "      <th>target</th>\n",
       "    </tr>\n",
       "  </thead>\n",
       "  <tbody>\n",
       "    <tr>\n",
       "      <th>feature_1</th>\n",
       "      <td>1.000000</td>\n",
       "      <td>-0.130969</td>\n",
       "      <td>0.583092</td>\n",
       "      <td>-0.014251</td>\n",
       "    </tr>\n",
       "    <tr>\n",
       "      <th>feature_2</th>\n",
       "      <td>-0.130969</td>\n",
       "      <td>1.000000</td>\n",
       "      <td>0.060925</td>\n",
       "      <td>-0.006242</td>\n",
       "    </tr>\n",
       "    <tr>\n",
       "      <th>feature_3</th>\n",
       "      <td>0.583092</td>\n",
       "      <td>0.060925</td>\n",
       "      <td>1.000000</td>\n",
       "      <td>-0.008125</td>\n",
       "    </tr>\n",
       "    <tr>\n",
       "      <th>target</th>\n",
       "      <td>-0.014251</td>\n",
       "      <td>-0.006242</td>\n",
       "      <td>-0.008125</td>\n",
       "      <td>1.000000</td>\n",
       "    </tr>\n",
       "  </tbody>\n",
       "</table>\n",
       "</div>"
      ]
     },
     "execution_count": 18,
     "metadata": {},
     "output_type": "execute_result"
    }
   ],
   "execution_count": 18
  },
  {
   "metadata": {},
   "cell_type": "markdown",
   "source": "# 2、数据质量分析",
   "id": "e94d081c6256c6f0"
  },
  {
   "metadata": {},
   "cell_type": "markdown",
   "source": [
    "# 2.1数据正确性分析\n",
    "是否符合基本逻辑，例如cardid是否唯一"
   ],
   "id": "c0406a2c8d8fa1d2"
  },
  {
   "metadata": {
    "ExecuteTime": {
     "end_time": "2025-06-23T09:43:56.477714Z",
     "start_time": "2025-06-23T09:43:56.412154Z"
    }
   },
   "cell_type": "code",
   "source": "(train.shape[0]==train['card_id'].nunique(),test.shape[0]==test['card_id'].nunique())",
   "id": "1eb2ff508918fc17",
   "outputs": [
    {
     "data": {
      "text/plain": [
       "(True, True)"
      ]
     },
     "execution_count": 19,
     "metadata": {},
     "output_type": "execute_result"
    }
   ],
   "execution_count": 19
  },
  {
   "metadata": {},
   "cell_type": "markdown",
   "source": "# 2.2 缺失分析",
   "id": "10dd6b4ead8de604"
  },
  {
   "metadata": {
    "ExecuteTime": {
     "end_time": "2025-06-23T09:43:56.764473Z",
     "start_time": "2025-06-23T09:43:56.736427Z"
    }
   },
   "cell_type": "code",
   "source": "train.isnull().sum()",
   "id": "c71d0319d3c2a0da",
   "outputs": [
    {
     "data": {
      "text/plain": [
       "first_active_month    0\n",
       "card_id               0\n",
       "feature_1             0\n",
       "feature_2             0\n",
       "feature_3             0\n",
       "target                0\n",
       "dtype: int64"
      ]
     },
     "execution_count": 20,
     "metadata": {},
     "output_type": "execute_result"
    }
   ],
   "execution_count": 20
  },
  {
   "metadata": {
    "ExecuteTime": {
     "end_time": "2025-06-23T09:43:56.928079Z",
     "start_time": "2025-06-23T09:43:56.907997Z"
    }
   },
   "cell_type": "code",
   "source": "test.isnull().sum()",
   "id": "88cc4a9f5523d717",
   "outputs": [
    {
     "data": {
      "text/plain": [
       "first_active_month    1\n",
       "card_id               0\n",
       "feature_1             0\n",
       "feature_2             0\n",
       "feature_3             0\n",
       "dtype: int64"
      ]
     },
     "execution_count": 21,
     "metadata": {},
     "output_type": "execute_result"
    }
   ],
   "execution_count": 21
  },
  {
   "metadata": {},
   "cell_type": "markdown",
   "source": [
    "# 2.3异常值\n",
    "方法：直方图"
   ],
   "id": "1dc9f1805cecd420"
  },
  {
   "metadata": {
    "ExecuteTime": {
     "end_time": "2025-06-23T09:43:57.595200Z",
     "start_time": "2025-06-23T09:43:57.560031Z"
    }
   },
   "cell_type": "code",
   "source": "train.describe()",
   "id": "c2591da69ab9c279",
   "outputs": [
    {
     "data": {
      "text/plain": [
       "           feature_1      feature_2      feature_3         target\n",
       "count  201917.000000  201917.000000  201917.000000  201917.000000\n",
       "mean        3.105311       1.745410       0.565569      -0.393636\n",
       "std         1.186160       0.751362       0.495683       3.850500\n",
       "min         1.000000       1.000000       0.000000     -33.219281\n",
       "25%         2.000000       1.000000       0.000000      -0.883110\n",
       "50%         3.000000       2.000000       1.000000      -0.023437\n",
       "75%         4.000000       2.000000       1.000000       0.765453\n",
       "max         5.000000       3.000000       1.000000      17.965068"
      ],
      "text/html": [
       "<div>\n",
       "<style scoped>\n",
       "    .dataframe tbody tr th:only-of-type {\n",
       "        vertical-align: middle;\n",
       "    }\n",
       "\n",
       "    .dataframe tbody tr th {\n",
       "        vertical-align: top;\n",
       "    }\n",
       "\n",
       "    .dataframe thead th {\n",
       "        text-align: right;\n",
       "    }\n",
       "</style>\n",
       "<table border=\"1\" class=\"dataframe\">\n",
       "  <thead>\n",
       "    <tr style=\"text-align: right;\">\n",
       "      <th></th>\n",
       "      <th>feature_1</th>\n",
       "      <th>feature_2</th>\n",
       "      <th>feature_3</th>\n",
       "      <th>target</th>\n",
       "    </tr>\n",
       "  </thead>\n",
       "  <tbody>\n",
       "    <tr>\n",
       "      <th>count</th>\n",
       "      <td>201917.000000</td>\n",
       "      <td>201917.000000</td>\n",
       "      <td>201917.000000</td>\n",
       "      <td>201917.000000</td>\n",
       "    </tr>\n",
       "    <tr>\n",
       "      <th>mean</th>\n",
       "      <td>3.105311</td>\n",
       "      <td>1.745410</td>\n",
       "      <td>0.565569</td>\n",
       "      <td>-0.393636</td>\n",
       "    </tr>\n",
       "    <tr>\n",
       "      <th>std</th>\n",
       "      <td>1.186160</td>\n",
       "      <td>0.751362</td>\n",
       "      <td>0.495683</td>\n",
       "      <td>3.850500</td>\n",
       "    </tr>\n",
       "    <tr>\n",
       "      <th>min</th>\n",
       "      <td>1.000000</td>\n",
       "      <td>1.000000</td>\n",
       "      <td>0.000000</td>\n",
       "      <td>-33.219281</td>\n",
       "    </tr>\n",
       "    <tr>\n",
       "      <th>25%</th>\n",
       "      <td>2.000000</td>\n",
       "      <td>1.000000</td>\n",
       "      <td>0.000000</td>\n",
       "      <td>-0.883110</td>\n",
       "    </tr>\n",
       "    <tr>\n",
       "      <th>50%</th>\n",
       "      <td>3.000000</td>\n",
       "      <td>2.000000</td>\n",
       "      <td>1.000000</td>\n",
       "      <td>-0.023437</td>\n",
       "    </tr>\n",
       "    <tr>\n",
       "      <th>75%</th>\n",
       "      <td>4.000000</td>\n",
       "      <td>2.000000</td>\n",
       "      <td>1.000000</td>\n",
       "      <td>0.765453</td>\n",
       "    </tr>\n",
       "    <tr>\n",
       "      <th>max</th>\n",
       "      <td>5.000000</td>\n",
       "      <td>3.000000</td>\n",
       "      <td>1.000000</td>\n",
       "      <td>17.965068</td>\n",
       "    </tr>\n",
       "  </tbody>\n",
       "</table>\n",
       "</div>"
      ]
     },
     "execution_count": 22,
     "metadata": {},
     "output_type": "execute_result"
    }
   ],
   "execution_count": 22
  },
  {
   "metadata": {
    "ExecuteTime": {
     "end_time": "2025-06-23T09:43:57.729562Z",
     "start_time": "2025-06-23T09:43:57.708708Z"
    }
   },
   "cell_type": "code",
   "source": "test.describe()",
   "id": "91651dc12aa3a8ab",
   "outputs": [
    {
     "data": {
      "text/plain": [
       "          feature_1      feature_2      feature_3\n",
       "count  123623.00000  123623.000000  123623.000000\n",
       "mean        3.10926       1.741796       0.564377\n",
       "std         1.18911       0.749195       0.495840\n",
       "min         1.00000       1.000000       0.000000\n",
       "25%         2.00000       1.000000       0.000000\n",
       "50%         3.00000       2.000000       1.000000\n",
       "75%         4.00000       2.000000       1.000000\n",
       "max         5.00000       3.000000       1.000000"
      ],
      "text/html": [
       "<div>\n",
       "<style scoped>\n",
       "    .dataframe tbody tr th:only-of-type {\n",
       "        vertical-align: middle;\n",
       "    }\n",
       "\n",
       "    .dataframe tbody tr th {\n",
       "        vertical-align: top;\n",
       "    }\n",
       "\n",
       "    .dataframe thead th {\n",
       "        text-align: right;\n",
       "    }\n",
       "</style>\n",
       "<table border=\"1\" class=\"dataframe\">\n",
       "  <thead>\n",
       "    <tr style=\"text-align: right;\">\n",
       "      <th></th>\n",
       "      <th>feature_1</th>\n",
       "      <th>feature_2</th>\n",
       "      <th>feature_3</th>\n",
       "    </tr>\n",
       "  </thead>\n",
       "  <tbody>\n",
       "    <tr>\n",
       "      <th>count</th>\n",
       "      <td>123623.00000</td>\n",
       "      <td>123623.000000</td>\n",
       "      <td>123623.000000</td>\n",
       "    </tr>\n",
       "    <tr>\n",
       "      <th>mean</th>\n",
       "      <td>3.10926</td>\n",
       "      <td>1.741796</td>\n",
       "      <td>0.564377</td>\n",
       "    </tr>\n",
       "    <tr>\n",
       "      <th>std</th>\n",
       "      <td>1.18911</td>\n",
       "      <td>0.749195</td>\n",
       "      <td>0.495840</td>\n",
       "    </tr>\n",
       "    <tr>\n",
       "      <th>min</th>\n",
       "      <td>1.00000</td>\n",
       "      <td>1.000000</td>\n",
       "      <td>0.000000</td>\n",
       "    </tr>\n",
       "    <tr>\n",
       "      <th>25%</th>\n",
       "      <td>2.00000</td>\n",
       "      <td>1.000000</td>\n",
       "      <td>0.000000</td>\n",
       "    </tr>\n",
       "    <tr>\n",
       "      <th>50%</th>\n",
       "      <td>3.00000</td>\n",
       "      <td>2.000000</td>\n",
       "      <td>1.000000</td>\n",
       "    </tr>\n",
       "    <tr>\n",
       "      <th>75%</th>\n",
       "      <td>4.00000</td>\n",
       "      <td>2.000000</td>\n",
       "      <td>1.000000</td>\n",
       "    </tr>\n",
       "    <tr>\n",
       "      <th>max</th>\n",
       "      <td>5.00000</td>\n",
       "      <td>3.000000</td>\n",
       "      <td>1.000000</td>\n",
       "    </tr>\n",
       "  </tbody>\n",
       "</table>\n",
       "</div>"
      ]
     },
     "execution_count": 23,
     "metadata": {},
     "output_type": "execute_result"
    }
   ],
   "execution_count": 23
  },
  {
   "metadata": {
    "ExecuteTime": {
     "end_time": "2025-06-23T09:43:58.132589Z",
     "start_time": "2025-06-23T09:43:57.750526Z"
    }
   },
   "cell_type": "code",
   "source": "from matplotlib import pyplot as plt",
   "id": "b1b5d1721a36f4ba",
   "outputs": [],
   "execution_count": 24
  },
  {
   "metadata": {
    "ExecuteTime": {
     "end_time": "2025-06-23T09:43:58.680346Z",
     "start_time": "2025-06-23T09:43:58.132589Z"
    }
   },
   "cell_type": "code",
   "source": "plt.hist(train['target'],bins=200)",
   "id": "3b73c416fa76a657",
   "outputs": [
    {
     "data": {
      "text/plain": [
       "(array([2.2070e+03, 0.0000e+00, 0.0000e+00, 0.0000e+00, 0.0000e+00,\n",
       "        0.0000e+00, 0.0000e+00, 0.0000e+00, 0.0000e+00, 0.0000e+00,\n",
       "        0.0000e+00, 0.0000e+00, 0.0000e+00, 0.0000e+00, 0.0000e+00,\n",
       "        0.0000e+00, 0.0000e+00, 0.0000e+00, 0.0000e+00, 0.0000e+00,\n",
       "        0.0000e+00, 0.0000e+00, 0.0000e+00, 0.0000e+00, 0.0000e+00,\n",
       "        0.0000e+00, 0.0000e+00, 0.0000e+00, 0.0000e+00, 0.0000e+00,\n",
       "        0.0000e+00, 0.0000e+00, 0.0000e+00, 0.0000e+00, 0.0000e+00,\n",
       "        0.0000e+00, 0.0000e+00, 0.0000e+00, 0.0000e+00, 0.0000e+00,\n",
       "        0.0000e+00, 0.0000e+00, 0.0000e+00, 0.0000e+00, 0.0000e+00,\n",
       "        0.0000e+00, 0.0000e+00, 0.0000e+00, 0.0000e+00, 0.0000e+00,\n",
       "        0.0000e+00, 0.0000e+00, 0.0000e+00, 0.0000e+00, 0.0000e+00,\n",
       "        0.0000e+00, 0.0000e+00, 0.0000e+00, 0.0000e+00, 0.0000e+00,\n",
       "        1.0000e+00, 2.0000e+00, 1.0000e+00, 0.0000e+00, 0.0000e+00,\n",
       "        0.0000e+00, 0.0000e+00, 1.0000e+00, 0.0000e+00, 2.0000e+00,\n",
       "        3.0000e+00, 1.0000e+00, 1.0000e+00, 1.0000e+00, 3.0000e+00,\n",
       "        1.0000e+00, 3.0000e+00, 2.0000e+00, 1.0000e+00, 2.0000e+00,\n",
       "        1.0000e+00, 2.0000e+00, 0.0000e+00, 1.0000e+00, 2.0000e+00,\n",
       "        7.0000e+00, 0.0000e+00, 5.0000e+00, 3.0000e+00, 2.0000e+00,\n",
       "        1.1000e+01, 1.3000e+01, 7.0000e+00, 1.7000e+01, 1.6000e+01,\n",
       "        1.0000e+01, 2.3000e+01, 2.6000e+01, 4.1000e+01, 4.5000e+01,\n",
       "        4.2000e+01, 5.5000e+01, 7.5000e+01, 7.9000e+01, 1.3700e+02,\n",
       "        1.3000e+02, 1.8600e+02, 2.1300e+02, 2.6800e+02, 3.1900e+02,\n",
       "        4.2800e+02, 4.7700e+02, 5.5700e+02, 6.8500e+02, 8.0900e+02,\n",
       "        1.0030e+03, 1.1910e+03, 1.5230e+03, 1.8180e+03, 2.1780e+03,\n",
       "        2.7940e+03, 3.4380e+03, 4.2910e+03, 5.5850e+03, 6.9780e+03,\n",
       "        9.0520e+03, 1.1191e+04, 1.3543e+04, 1.6487e+04, 2.0088e+04,\n",
       "        1.7892e+04, 1.5246e+04, 1.2514e+04, 9.9040e+03, 7.6360e+03,\n",
       "        5.9680e+03, 4.6810e+03, 3.7400e+03, 2.8920e+03, 2.4620e+03,\n",
       "        1.9990e+03, 1.5860e+03, 1.3050e+03, 1.0810e+03, 9.1900e+02,\n",
       "        6.8800e+02, 5.5000e+02, 4.8300e+02, 4.2700e+02, 3.2300e+02,\n",
       "        3.0000e+02, 2.0400e+02, 2.1300e+02, 1.4400e+02, 1.2500e+02,\n",
       "        1.1300e+02, 9.2000e+01, 7.3000e+01, 5.7000e+01, 3.7000e+01,\n",
       "        3.1000e+01, 2.1000e+01, 1.7000e+01, 1.2000e+01, 1.5000e+01,\n",
       "        1.3000e+01, 8.0000e+00, 8.0000e+00, 6.0000e+00, 8.0000e+00,\n",
       "        4.0000e+00, 3.0000e+00, 5.0000e+00, 1.0000e+00, 4.0000e+00,\n",
       "        3.0000e+00, 1.0000e+00, 0.0000e+00, 4.0000e+00, 1.0000e+00,\n",
       "        1.0000e+00, 2.0000e+00, 3.0000e+00, 0.0000e+00, 0.0000e+00,\n",
       "        0.0000e+00, 0.0000e+00, 1.0000e+00, 1.0000e+00, 2.0000e+00,\n",
       "        1.0000e+00, 0.0000e+00, 1.0000e+00, 0.0000e+00, 0.0000e+00,\n",
       "        0.0000e+00, 0.0000e+00, 0.0000e+00, 1.0000e+00, 1.0000e+00]),\n",
       " array([-33.21928095, -32.9633592 , -32.70743746, -32.45151571,\n",
       "        -32.19559396, -31.93967222, -31.68375047, -31.42782872,\n",
       "        -31.17190698, -30.91598523, -30.66006348, -30.40414174,\n",
       "        -30.14821999, -29.89229824, -29.6363765 , -29.38045475,\n",
       "        -29.124533  , -28.86861126, -28.61268951, -28.35676776,\n",
       "        -28.10084601, -27.84492427, -27.58900252, -27.33308077,\n",
       "        -27.07715903, -26.82123728, -26.56531553, -26.30939379,\n",
       "        -26.05347204, -25.79755029, -25.54162855, -25.2857068 ,\n",
       "        -25.02978505, -24.77386331, -24.51794156, -24.26201981,\n",
       "        -24.00609807, -23.75017632, -23.49425457, -23.23833283,\n",
       "        -22.98241108, -22.72648933, -22.47056759, -22.21464584,\n",
       "        -21.95872409, -21.70280235, -21.4468806 , -21.19095885,\n",
       "        -20.93503711, -20.67911536, -20.42319361, -20.16727187,\n",
       "        -19.91135012, -19.65542837, -19.39950663, -19.14358488,\n",
       "        -18.88766313, -18.63174139, -18.37581964, -18.11989789,\n",
       "        -17.86397614, -17.6080544 , -17.35213265, -17.0962109 ,\n",
       "        -16.84028916, -16.58436741, -16.32844566, -16.07252392,\n",
       "        -15.81660217, -15.56068042, -15.30475868, -15.04883693,\n",
       "        -14.79291518, -14.53699344, -14.28107169, -14.02514994,\n",
       "        -13.7692282 , -13.51330645, -13.2573847 , -13.00146296,\n",
       "        -12.74554121, -12.48961946, -12.23369772, -11.97777597,\n",
       "        -11.72185422, -11.46593248, -11.21001073, -10.95408898,\n",
       "        -10.69816724, -10.44224549, -10.18632374,  -9.930402  ,\n",
       "         -9.67448025,  -9.4185585 ,  -9.16263676,  -8.90671501,\n",
       "         -8.65079326,  -8.39487152,  -8.13894977,  -7.88302802,\n",
       "         -7.62710627,  -7.37118453,  -7.11526278,  -6.85934103,\n",
       "         -6.60341929,  -6.34749754,  -6.09157579,  -5.83565405,\n",
       "         -5.5797323 ,  -5.32381055,  -5.06788881,  -4.81196706,\n",
       "         -4.55604531,  -4.30012357,  -4.04420182,  -3.78828007,\n",
       "         -3.53235833,  -3.27643658,  -3.02051483,  -2.76459309,\n",
       "         -2.50867134,  -2.25274959,  -1.99682785,  -1.7409061 ,\n",
       "         -1.48498435,  -1.22906261,  -0.97314086,  -0.71721911,\n",
       "         -0.46129737,  -0.20537562,   0.05054613,   0.30646787,\n",
       "          0.56238962,   0.81831137,   1.07423311,   1.33015486,\n",
       "          1.58607661,   1.84199835,   2.0979201 ,   2.35384185,\n",
       "          2.6097636 ,   2.86568534,   3.12160709,   3.37752884,\n",
       "          3.63345058,   3.88937233,   4.14529408,   4.40121582,\n",
       "          4.65713757,   4.91305932,   5.16898106,   5.42490281,\n",
       "          5.68082456,   5.9367463 ,   6.19266805,   6.4485898 ,\n",
       "          6.70451154,   6.96043329,   7.21635504,   7.47227678,\n",
       "          7.72819853,   7.98412028,   8.24004202,   8.49596377,\n",
       "          8.75188552,   9.00780726,   9.26372901,   9.51965076,\n",
       "          9.7755725 ,  10.03149425,  10.287416  ,  10.54333774,\n",
       "         10.79925949,  11.05518124,  11.31110298,  11.56702473,\n",
       "         11.82294648,  12.07886822,  12.33478997,  12.59071172,\n",
       "         12.84663347,  13.10255521,  13.35847696,  13.61439871,\n",
       "         13.87032045,  14.1262422 ,  14.38216395,  14.63808569,\n",
       "         14.89400744,  15.14992919,  15.40585093,  15.66177268,\n",
       "         15.91769443,  16.17361617,  16.42953792,  16.68545967,\n",
       "         16.94138141,  17.19730316,  17.45322491,  17.70914665,\n",
       "         17.9650684 ]),\n",
       " <BarContainer object of 200 artists>)"
      ]
     },
     "execution_count": 25,
     "metadata": {},
     "output_type": "execute_result"
    },
    {
     "data": {
      "text/plain": [
       "<Figure size 640x480 with 1 Axes>"
      ],
      "image/png": "[encoded data removed]"
     },
     "metadata": {},
     "output_type": "display_data"
    }
   ],
   "execution_count": 25
  },
  {
   "metadata": {
    "ExecuteTime": {
     "end_time": "2025-06-23T09:43:58.740397Z",
     "start_time": "2025-06-23T09:43:58.726767Z"
    }
   },
   "cell_type": "code",
   "source": "(train['target']<-30).sum()",
   "id": "2e728a2cd7d0fc6e",
   "outputs": [
    {
     "data": {
      "text/plain": [
       "2207"
      ]
     },
     "execution_count": 26,
     "metadata": {},
     "output_type": "execute_result"
    }
   ],
   "execution_count": 26
  },
  {
   "metadata": {
    "ExecuteTime": {
     "end_time": "2025-06-23T09:43:58.754263Z",
     "start_time": "2025-06-23T09:43:58.741400Z"
    }
   },
   "cell_type": "code",
   "source": "train_target_statistic=train['target'].describe()",
   "id": "408b4724f9513da8",
   "outputs": [],
   "execution_count": 27
  },
  {
   "metadata": {
    "ExecuteTime": {
     "end_time": "2025-06-23T09:43:58.766632Z",
     "start_time": "2025-06-23T09:43:58.754263Z"
    }
   },
   "cell_type": "code",
   "source": [
    "min_bound=train_target_statistic['mean']-3*train_target_statistic['std']\n",
    "max_bound=train_target_statistic['mean']+3*train_target_statistic['std']"
   ],
   "id": "24335d06cec94557",
   "outputs": [],
   "execution_count": 28
  },
  {
   "metadata": {
    "ExecuteTime": {
     "end_time": "2025-06-23T09:43:58.780128Z",
     "start_time": "2025-06-23T09:43:58.766632Z"
    }
   },
   "cell_type": "code",
   "source": "(train['target']<min_bound).sum()",
   "id": "52d44127b80d1210",
   "outputs": [
    {
     "data": {
      "text/plain": [
       "2235"
      ]
     },
     "execution_count": 29,
     "metadata": {},
     "output_type": "execute_result"
    }
   ],
   "execution_count": 29
  },
  {
   "metadata": {
    "ExecuteTime": {
     "end_time": "2025-06-23T09:43:58.794179Z",
     "start_time": "2025-06-23T09:43:58.780128Z"
    }
   },
   "cell_type": "code",
   "source": "(train['target'] > max_bound).sum()",
   "id": "caddc102381e62cc",
   "outputs": [
    {
     "data": {
      "text/plain": [
       "28"
      ]
     },
     "execution_count": 30,
     "metadata": {},
     "output_type": "execute_result"
    }
   ],
   "execution_count": 30
  },
  {
   "metadata": {},
   "cell_type": "markdown",
   "source": [
    "# 单变量分析\n",
    "看看每个变量分布规律"
   ],
   "id": "eaa1342831028b84"
  },
  {
   "metadata": {
    "ExecuteTime": {
     "end_time": "2025-06-23T09:44:00.018493Z",
     "start_time": "2025-06-23T09:43:58.980204Z"
    }
   },
   "cell_type": "code",
   "source": [
    "fetures_list=['first_active_month','feature_1', 'feature_2', 'feature_3']\n",
    "#卡方检验\n",
    "from scipy.stats import chisquare\n",
    "for feature in fetures_list:\n",
    "       x1=train[feature].value_counts()/train.shape[0]\n",
    "       x2=test[feature].value_counts()/test.shape[0]\n",
    "       result=chisquare(f_obs=x1, f_exp=x2)\n",
    "       print(feature,result)"
   ],
   "id": "76ffc2d0678f2f07",
   "outputs": [
    {
     "ename": "ValueError",
     "evalue": "For each axis slice, the sum of the observed frequencies must agree with the sum of the expected frequencies to a relative tolerance of 1e-08, but the percent differences are:\n8.089175065794438e-06",
     "output_type": "error",
     "traceback": [
      "\u001B[1;31m---------------------------------------------------------------------------\u001B[0m",
      "\u001B[1;31mValueError\u001B[0m                                Traceback (most recent call last)",
      "Cell \u001B[1;32mIn[31], line 7\u001B[0m\n\u001B[0;32m      5\u001B[0m x1\u001B[38;5;241m=\u001B[39mtrain[feature]\u001B[38;5;241m.\u001B[39mvalue_counts()\u001B[38;5;241m/\u001B[39mtrain\u001B[38;5;241m.\u001B[39mshape[\u001B[38;5;241m0\u001B[39m]\n\u001B[0;32m      6\u001B[0m x2\u001B[38;5;241m=\u001B[39mtest[feature]\u001B[38;5;241m.\u001B[39mvalue_counts()\u001B[38;5;241m/\u001B[39mtest\u001B[38;5;241m.\u001B[39mshape[\u001B[38;5;241m0\u001B[39m]\n\u001B[1;32m----> 7\u001B[0m result\u001B[38;5;241m=\u001B[39m\u001B[43mchisquare\u001B[49m\u001B[43m(\u001B[49m\u001B[43mf_obs\u001B[49m\u001B[38;5;241;43m=\u001B[39;49m\u001B[43mx1\u001B[49m\u001B[43m,\u001B[49m\u001B[43m \u001B[49m\u001B[43mf_exp\u001B[49m\u001B[38;5;241;43m=\u001B[39;49m\u001B[43mx2\u001B[49m\u001B[43m)\u001B[49m\n\u001B[0;32m      8\u001B[0m \u001B[38;5;28mprint\u001B[39m(feature,result)\n",
      "File \u001B[1;32mD:\\tech_softwar\\miniconda\\envs\\for_autogluon\\lib\\site-packages\\scipy\\stats\\_stats_py.py:7553\u001B[0m, in \u001B[0;36mchisquare\u001B[1;34m(f_obs, f_exp, ddof, axis)\u001B[0m\n\u001B[0;32m   7428\u001B[0m \u001B[38;5;28;01mdef\u001B[39;00m \u001B[38;5;21mchisquare\u001B[39m(f_obs, f_exp\u001B[38;5;241m=\u001B[39m\u001B[38;5;28;01mNone\u001B[39;00m, ddof\u001B[38;5;241m=\u001B[39m\u001B[38;5;241m0\u001B[39m, axis\u001B[38;5;241m=\u001B[39m\u001B[38;5;241m0\u001B[39m):\n\u001B[0;32m   7429\u001B[0m \u001B[38;5;250m    \u001B[39m\u001B[38;5;124;03m\"\"\"Calculate a one-way chi-square test.\u001B[39;00m\n\u001B[0;32m   7430\u001B[0m \n\u001B[0;32m   7431\u001B[0m \u001B[38;5;124;03m    The chi-square test tests the null hypothesis that the categorical data\u001B[39;00m\n\u001B[1;32m   (...)\u001B[0m\n\u001B[0;32m   7551\u001B[0m \n\u001B[0;32m   7552\u001B[0m \u001B[38;5;124;03m    \"\"\"\u001B[39;00m\n\u001B[1;32m-> 7553\u001B[0m     \u001B[38;5;28;01mreturn\u001B[39;00m \u001B[43mpower_divergence\u001B[49m\u001B[43m(\u001B[49m\u001B[43mf_obs\u001B[49m\u001B[43m,\u001B[49m\u001B[43m \u001B[49m\u001B[43mf_exp\u001B[49m\u001B[38;5;241;43m=\u001B[39;49m\u001B[43mf_exp\u001B[49m\u001B[43m,\u001B[49m\u001B[43m \u001B[49m\u001B[43mddof\u001B[49m\u001B[38;5;241;43m=\u001B[39;49m\u001B[43mddof\u001B[49m\u001B[43m,\u001B[49m\u001B[43m \u001B[49m\u001B[43maxis\u001B[49m\u001B[38;5;241;43m=\u001B[39;49m\u001B[43maxis\u001B[49m\u001B[43m,\u001B[49m\n\u001B[0;32m   7554\u001B[0m \u001B[43m                            \u001B[49m\u001B[43mlambda_\u001B[49m\u001B[38;5;241;43m=\u001B[39;49m\u001B[38;5;124;43m\"\u001B[39;49m\u001B[38;5;124;43mpearson\u001B[39;49m\u001B[38;5;124;43m\"\u001B[39;49m\u001B[43m)\u001B[49m\n",
      "File \u001B[1;32mD:\\tech_softwar\\miniconda\\envs\\for_autogluon\\lib\\site-packages\\scipy\\stats\\_stats_py.py:7394\u001B[0m, in \u001B[0;36mpower_divergence\u001B[1;34m(f_obs, f_exp, ddof, axis, lambda_)\u001B[0m\n\u001B[0;32m   7388\u001B[0m     \u001B[38;5;28;01mif\u001B[39;00m diff_gt_tol:\n\u001B[0;32m   7389\u001B[0m         msg \u001B[38;5;241m=\u001B[39m (\u001B[38;5;124mf\u001B[39m\u001B[38;5;124m\"\u001B[39m\u001B[38;5;124mFor each axis slice, the sum of the observed \u001B[39m\u001B[38;5;124m\"\u001B[39m\n\u001B[0;32m   7390\u001B[0m                \u001B[38;5;124mf\u001B[39m\u001B[38;5;124m\"\u001B[39m\u001B[38;5;124mfrequencies must agree with the sum of the \u001B[39m\u001B[38;5;124m\"\u001B[39m\n\u001B[0;32m   7391\u001B[0m                \u001B[38;5;124mf\u001B[39m\u001B[38;5;124m\"\u001B[39m\u001B[38;5;124mexpected frequencies to a relative tolerance \u001B[39m\u001B[38;5;124m\"\u001B[39m\n\u001B[0;32m   7392\u001B[0m                \u001B[38;5;124mf\u001B[39m\u001B[38;5;124m\"\u001B[39m\u001B[38;5;124mof \u001B[39m\u001B[38;5;132;01m{\u001B[39;00mrtol\u001B[38;5;132;01m}\u001B[39;00m\u001B[38;5;124m, but the percent differences are:\u001B[39m\u001B[38;5;130;01m\\n\u001B[39;00m\u001B[38;5;124m\"\u001B[39m\n\u001B[0;32m   7393\u001B[0m                \u001B[38;5;124mf\u001B[39m\u001B[38;5;124m\"\u001B[39m\u001B[38;5;132;01m{\u001B[39;00mrelative_diff\u001B[38;5;132;01m}\u001B[39;00m\u001B[38;5;124m\"\u001B[39m)\n\u001B[1;32m-> 7394\u001B[0m         \u001B[38;5;28;01mraise\u001B[39;00m \u001B[38;5;167;01mValueError\u001B[39;00m(msg)\n\u001B[0;32m   7396\u001B[0m \u001B[38;5;28;01melse\u001B[39;00m:\n\u001B[0;32m   7397\u001B[0m     \u001B[38;5;66;03m# Ignore 'invalid' errors so the edge case of a data set with length 0\u001B[39;00m\n\u001B[0;32m   7398\u001B[0m     \u001B[38;5;66;03m# is handled without spurious warnings.\u001B[39;00m\n\u001B[0;32m   7399\u001B[0m     \u001B[38;5;28;01mwith\u001B[39;00m np\u001B[38;5;241m.\u001B[39merrstate(invalid\u001B[38;5;241m=\u001B[39m\u001B[38;5;124m'\u001B[39m\u001B[38;5;124mignore\u001B[39m\u001B[38;5;124m'\u001B[39m):\n",
      "\u001B[1;31mValueError\u001B[0m: For each axis slice, the sum of the observed frequencies must agree with the sum of the expected frequencies to a relative tolerance of 1e-08, but the percent differences are:\n8.089175065794438e-06"
     ]
    }
   ],
   "execution_count": 31
  },
  {
   "metadata": {},
   "cell_type": "code",
   "source": [
    "for feature in fetures_list:\n",
    "       (train[feature].value_counts()/train.shape[0]).sort_index().plot()\n",
    "       (test[feature].value_counts()/test.shape[0]).sort_index().plot()\n",
    "       plt.show()"
   ],
   "id": "eed4729d4943c123",
   "outputs": [],
   "execution_count": null
  },
  {
   "metadata": {},
   "cell_type": "markdown",
   "source": [
    "## 多变量联合分布\n",
    "将变量两两组合，如果单变量一致 但多变量分布不一致 说明存在隐藏变量未观测到影响数据分布"
   ],
   "id": "4ca774d3355e8e37"
  },
  {
   "metadata": {},
   "cell_type": "code",
   "source": "fetures_list",
   "id": "22b30dde882432a2",
   "outputs": [],
   "execution_count": null
  },
  {
   "metadata": {},
   "cell_type": "code",
   "source": [
    "train_part=train[fetures_list]\n",
    "train_part['label']=0\n",
    "test_part=test[fetures_list]\n",
    "test_part['label']=1"
   ],
   "id": "e7fc268e96c38b10",
   "outputs": [],
   "execution_count": null
  },
  {
   "metadata": {},
   "cell_type": "code",
   "source": [
    "conbine_data=pd.concat([train_part,test_part])\n",
    "conbine_data['active_month']=pd.to_datetime(conbine_data[\"first_active_month\"])\n",
    "conbine_data['year']=conbine_data['active_month'].dt.year\n",
    "conbine_data['month']=conbine_data['active_month'].dt.month"
   ],
   "id": "16b1b00e6644ab14",
   "outputs": [],
   "execution_count": null
  },
  {
   "metadata": {},
   "cell_type": "code",
   "source": [
    "from sklearn.model_selection import train_test_split\n",
    "from xgboost import XGBClassifier"
   ],
   "id": "cae97150d924192",
   "outputs": [],
   "execution_count": null
  },
  {
   "metadata": {
    "ExecuteTime": {
     "end_time": "2025-06-23T09:44:00.062510Z",
     "start_time": "2025-06-23T09:44:00.040385Z"
    }
   },
   "cell_type": "code",
   "source": "var_train,var_test=train_test_split(conbine_data,test_size=0.2)",
   "id": "fcca0a68944a0397",
   "outputs": [
    {
     "ename": "NameError",
     "evalue": "name 'conbine_data' is not defined",
     "output_type": "error",
     "traceback": [
      "\u001B[1;31m---------------------------------------------------------------------------\u001B[0m",
      "\u001B[1;31mNameError\u001B[0m                                 Traceback (most recent call last)",
      "Cell \u001B[1;32mIn[32], line 1\u001B[0m\n\u001B[1;32m----> 1\u001B[0m var_train,var_test\u001B[38;5;241m=\u001B[39mtrain_test_split(\u001B[43mconbine_data\u001B[49m,test_size\u001B[38;5;241m=\u001B[39m\u001B[38;5;241m0.2\u001B[39m)\n",
      "\u001B[1;31mNameError\u001B[0m: name 'conbine_data' is not defined"
     ]
    }
   ],
   "execution_count": 32
  },
  {
   "metadata": {
    "ExecuteTime": {
     "end_time": "2025-06-23T09:44:00.348707Z",
     "start_time": "2025-06-23T09:44:00.336522Z"
    }
   },
   "cell_type": "code",
   "source": [
    "xgb=XGBClassifier(\n",
    "    objective='binary:logistic',\n",
    "    n_estimators=100,\n",
    "    max_depth=5,\n",
    "    learning_rate=0.1,\n",
    "    subsample=0.8,\n",
    "    colsample_bytree=0.8,\n",
    "    seed=42\n",
    ")"
   ],
   "id": "c68ae585e90bea9a",
   "outputs": [],
   "execution_count": 33
  },
  {
   "metadata": {
    "ExecuteTime": {
     "end_time": "2025-06-23T09:44:00.488722Z",
     "start_time": "2025-06-23T09:44:00.464304Z"
    }
   },
   "cell_type": "code",
   "source": "xgb.fit(var_train[['feature_1', 'feature_2', 'feature_3', 'year', 'month']],var_train['label'])",
   "id": "75ef6898fa273690",
   "outputs": [
    {
     "ename": "NameError",
     "evalue": "name 'var_train' is not defined",
     "output_type": "error",
     "traceback": [
      "\u001B[1;31m---------------------------------------------------------------------------\u001B[0m",
      "\u001B[1;31mNameError\u001B[0m                                 Traceback (most recent call last)",
      "Cell \u001B[1;32mIn[34], line 1\u001B[0m\n\u001B[1;32m----> 1\u001B[0m xgb\u001B[38;5;241m.\u001B[39mfit(\u001B[43mvar_train\u001B[49m[[\u001B[38;5;124m'\u001B[39m\u001B[38;5;124mfeature_1\u001B[39m\u001B[38;5;124m'\u001B[39m, \u001B[38;5;124m'\u001B[39m\u001B[38;5;124mfeature_2\u001B[39m\u001B[38;5;124m'\u001B[39m, \u001B[38;5;124m'\u001B[39m\u001B[38;5;124mfeature_3\u001B[39m\u001B[38;5;124m'\u001B[39m, \u001B[38;5;124m'\u001B[39m\u001B[38;5;124myear\u001B[39m\u001B[38;5;124m'\u001B[39m, \u001B[38;5;124m'\u001B[39m\u001B[38;5;124mmonth\u001B[39m\u001B[38;5;124m'\u001B[39m]],var_train[\u001B[38;5;124m'\u001B[39m\u001B[38;5;124mlabel\u001B[39m\u001B[38;5;124m'\u001B[39m])\n",
      "\u001B[1;31mNameError\u001B[0m: name 'var_train' is not defined"
     ]
    }
   ],
   "execution_count": 34
  },
  {
   "metadata": {
    "ExecuteTime": {
     "end_time": "2025-06-23T09:44:01.231641Z",
     "start_time": "2025-06-23T09:44:01.196359Z"
    }
   },
   "cell_type": "code",
   "source": "test_result=xgb.predict(var_test[['feature_1', 'feature_2', 'feature_3', 'year', 'month']])",
   "id": "8f19154540a1f7b9",
   "outputs": [
    {
     "ename": "NameError",
     "evalue": "name 'var_test' is not defined",
     "output_type": "error",
     "traceback": [
      "\u001B[1;31m---------------------------------------------------------------------------\u001B[0m",
      "\u001B[1;31mNameError\u001B[0m                                 Traceback (most recent call last)",
      "Cell \u001B[1;32mIn[35], line 1\u001B[0m\n\u001B[1;32m----> 1\u001B[0m test_result\u001B[38;5;241m=\u001B[39mxgb\u001B[38;5;241m.\u001B[39mpredict(\u001B[43mvar_test\u001B[49m[[\u001B[38;5;124m'\u001B[39m\u001B[38;5;124mfeature_1\u001B[39m\u001B[38;5;124m'\u001B[39m, \u001B[38;5;124m'\u001B[39m\u001B[38;5;124mfeature_2\u001B[39m\u001B[38;5;124m'\u001B[39m, \u001B[38;5;124m'\u001B[39m\u001B[38;5;124mfeature_3\u001B[39m\u001B[38;5;124m'\u001B[39m, \u001B[38;5;124m'\u001B[39m\u001B[38;5;124myear\u001B[39m\u001B[38;5;124m'\u001B[39m, \u001B[38;5;124m'\u001B[39m\u001B[38;5;124mmonth\u001B[39m\u001B[38;5;124m'\u001B[39m]])\n",
      "\u001B[1;31mNameError\u001B[0m: name 'var_test' is not defined"
     ]
    }
   ],
   "execution_count": 35
  },
  {
   "metadata": {
    "ExecuteTime": {
     "end_time": "2025-06-23T09:10:27.428676Z",
     "start_time": "2025-06-23T09:10:27.068693Z"
    }
   },
   "cell_type": "code",
   "source": [
    "from sklearn.metrics import recall_score\n",
    "from sklearn.metrics import accuracy_score\n",
    "from sklearn.metrics import f1_score\n",
    "precision=accuracy_score(test_result,var_test['label'])\n",
    "recall=recall_score(test_result,var_test['label'])\n",
    "f1 = f1_score(test_result, var_test['label'])\n",
    "print(f'precision:{precision},\\nrecall:{recall},\\nf1:{f1}')\n",
    "# 说明无法区分"
   ],
   "id": "702fec3bf36bc346",
   "outputs": [
    {
     "ename": "NameError",
     "evalue": "name 'test_result' is not defined",
     "output_type": "error",
     "traceback": [
      "\u001B[1;31m---------------------------------------------------------------------------\u001B[0m",
      "\u001B[1;31mNameError\u001B[0m                                 Traceback (most recent call last)",
      "Cell \u001B[1;32mIn[41], line 4\u001B[0m\n\u001B[0;32m      2\u001B[0m \u001B[38;5;28;01mfrom\u001B[39;00m \u001B[38;5;21;01msklearn\u001B[39;00m\u001B[38;5;21;01m.\u001B[39;00m\u001B[38;5;21;01mmetrics\u001B[39;00m \u001B[38;5;28;01mimport\u001B[39;00m accuracy_score\n\u001B[0;32m      3\u001B[0m \u001B[38;5;28;01mfrom\u001B[39;00m \u001B[38;5;21;01msklearn\u001B[39;00m\u001B[38;5;21;01m.\u001B[39;00m\u001B[38;5;21;01mmetrics\u001B[39;00m \u001B[38;5;28;01mimport\u001B[39;00m f1_score\n\u001B[1;32m----> 4\u001B[0m precision\u001B[38;5;241m=\u001B[39maccuracy_score(\u001B[43mtest_result\u001B[49m,var_test[\u001B[38;5;124m'\u001B[39m\u001B[38;5;124mlabel\u001B[39m\u001B[38;5;124m'\u001B[39m])\n\u001B[0;32m      5\u001B[0m recall\u001B[38;5;241m=\u001B[39mrecall_score(test_result,var_test[\u001B[38;5;124m'\u001B[39m\u001B[38;5;124mlabel\u001B[39m\u001B[38;5;124m'\u001B[39m])\n\u001B[0;32m      6\u001B[0m f1 \u001B[38;5;241m=\u001B[39m f1_score(test_result, var_test[\u001B[38;5;124m'\u001B[39m\u001B[38;5;124mlabel\u001B[39m\u001B[38;5;124m'\u001B[39m])\n",
      "\u001B[1;31mNameError\u001B[0m: name 'test_result' is not defined"
     ]
    }
   ],
   "execution_count": 41
  },
  {
   "metadata": {},
   "cell_type": "markdown",
   "source": [
    "规律一致性分析的实际作用\n",
    "通常我们可以根据规律一致性分析得出以下基本结论:\n",
    "(1).如果分布非常一致，则说明所有特征均取自同一整体，训练集和测试集规律拥有较高一致性，模型效果上限较高，建模过程中应该更加依靠特征工程方法和模型建模技巧提高最终预测效果;\n",
    "(2).如果分布不太一致，则说明训练集和测试集规律不太一致，此时模型预测效果上限会受此影响而被限制，并且模型大概率容易过拟合，在实际建过程中可以多考虑使用交叉验证等方式防止过拟合，并且需要注重除了通用特征工程和建模方法外的trick的使用;"
   ],
   "id": "77e75208c5406b1b"
  },
  {
   "metadata": {},
   "cell_type": "markdown",
   "source": "# 查看商户信息表",
   "id": "58c5d99226fb2eae"
  },
  {
   "metadata": {
    "ExecuteTime": {
     "end_time": "2025-06-22T12:41:19.473601Z",
     "start_time": "2025-06-22T12:41:18.984469Z"
    }
   },
   "cell_type": "code",
   "source": "merchant_info=pd.read_csv(file_dir+r'\\merchants.csv')",
   "id": "8aa012098beeff05",
   "outputs": [],
   "execution_count": 208
  },
  {
   "metadata": {
    "ExecuteTime": {
     "end_time": "2025-06-22T12:41:19.528791Z",
     "start_time": "2025-06-22T12:41:19.488326Z"
    }
   },
   "cell_type": "code",
   "source": [
    "#查看空值情况\n",
    "merchant_info.isnull().sum()"
   ],
   "id": "32562b0253c63796",
   "outputs": [
    {
     "data": {
      "text/plain": [
       "merchant_id                        0\n",
       "merchant_group_id                  0\n",
       "merchant_category_id               0\n",
       "subsector_id                       0\n",
       "numerical_1                        0\n",
       "numerical_2                        0\n",
       "category_1                         0\n",
       "most_recent_sales_range            0\n",
       "most_recent_purchases_range        0\n",
       "avg_sales_lag3                    13\n",
       "avg_purchases_lag3                 0\n",
       "active_months_lag3                 0\n",
       "avg_sales_lag6                    13\n",
       "avg_purchases_lag6                 0\n",
       "active_months_lag6                 0\n",
       "avg_sales_lag12                   13\n",
       "avg_purchases_lag12                0\n",
       "active_months_lag12                0\n",
       "category_4                         0\n",
       "city_id                            0\n",
       "state_id                           0\n",
       "category_2                     11887\n",
       "dtype: int64"
      ]
     },
     "execution_count": 209,
     "metadata": {},
     "output_type": "execute_result"
    }
   ],
   "execution_count": 209
  },
  {
   "metadata": {
    "ExecuteTime": {
     "end_time": "2025-06-22T12:41:19.809963Z",
     "start_time": "2025-06-22T12:41:19.588734Z"
    }
   },
   "cell_type": "code",
   "source": [
    "# 查看一对多情况\n",
    "counts=(merchant_info['merchant_id'].value_counts())\n",
    "merchant=counts[counts>1].index\n",
    "(merchant_info['merchant_id'].isin(merchant))\n",
    "merchant_info.loc[merchant_info['merchant_id'].isin(merchant)]"
   ],
   "id": "41ed2ff6fdf5210b",
   "outputs": [
    {
     "data": {
      "text/plain": [
       "            merchant_id  merchant_group_id  merchant_category_id  \\\n",
       "53      M_ID_c0b712e11a                 35                   823   \n",
       "54      M_ID_c0b712e11a                 35                   823   \n",
       "111     M_ID_0039220eb3                 35                   836   \n",
       "112     M_ID_0039220eb3                 35                   836   \n",
       "3392    M_ID_bd49e37dda                 35                   692   \n",
       "...                 ...                ...                   ...   \n",
       "333906  M_ID_6464db3b45                 35                   210   \n",
       "334070  M_ID_1802942aaf                 35                   302   \n",
       "334071  M_ID_1802942aaf              72963                   302   \n",
       "334072  M_ID_1802942aaf                 35                   302   \n",
       "334073  M_ID_1802942aaf              72963                   302   \n",
       "\n",
       "        subsector_id  numerical_1  numerical_2 category_1  \\\n",
       "53                25    -0.057471    -0.057471          N   \n",
       "54                25    -0.007896    -0.007896          N   \n",
       "111                5    -0.057471    -0.057471          Y   \n",
       "112                5     0.408530     0.408530          Y   \n",
       "3392              21    -0.057471    -0.057471          N   \n",
       "...              ...          ...          ...        ...   \n",
       "333906            35    -0.057471    -0.057471          Y   \n",
       "334070            22    -0.047556    -0.047556          N   \n",
       "334071            22    -0.047556    -0.047556          N   \n",
       "334072            22    -0.027726    -0.027726          N   \n",
       "334073            22    -0.027726    -0.027726          N   \n",
       "\n",
       "       most_recent_sales_range most_recent_purchases_range  avg_sales_lag3  \\\n",
       "53                           E                           E            1.00   \n",
       "54                           E                           E            1.01   \n",
       "111                          E                           E            0.66   \n",
       "112                          C                           D            1.17   \n",
       "3392                         E                           E           60.09   \n",
       "...                        ...                         ...             ...   \n",
       "333906                       A                           C            0.79   \n",
       "334070                       A                           B            0.94   \n",
       "334071                       A                           B            0.94   \n",
       "334072                       A                           C            1.01   \n",
       "334073                       A                           C            1.01   \n",
       "\n",
       "        ...  avg_sales_lag6  avg_purchases_lag6  active_months_lag6  \\\n",
       "53      ...            1.00            1.000000                   1   \n",
       "54      ...            1.01            1.097119                   6   \n",
       "111     ...            0.66            0.666667                   3   \n",
       "112     ...            1.17            1.087939                   6   \n",
       "3392    ...          104.82           13.800000                   5   \n",
       "...     ...             ...                 ...                 ...   \n",
       "333906  ...            0.63            0.643325                   6   \n",
       "334070  ...            0.85            0.868956                   6   \n",
       "334071  ...            0.85            0.868956                   6   \n",
       "334072  ...            0.98            1.102663                   6   \n",
       "334073  ...            0.98            1.102663                   6   \n",
       "\n",
       "        avg_sales_lag12  avg_purchases_lag12  active_months_lag12  category_4  \\\n",
       "53                 1.00             1.000000                    1           N   \n",
       "54                 1.20             1.190741                   12           N   \n",
       "111                0.66             0.666667                    3           Y   \n",
       "112                1.19             0.997021                   12           Y   \n",
       "3392             104.82            13.800000                    5           N   \n",
       "...                 ...                  ...                  ...         ...   \n",
       "333906             0.42             0.402207                   12           Y   \n",
       "334070             0.57             0.603051                   12           N   \n",
       "334071             0.57             0.603051                   12           N   \n",
       "334072             0.97             1.269495                   12           N   \n",
       "334073             0.97             1.269495                   12           N   \n",
       "\n",
       "        city_id state_id  category_2  \n",
       "53          231        9         1.0  \n",
       "54          231        9         1.0  \n",
       "111          -1       -1         NaN  \n",
       "112          -1       -1         NaN  \n",
       "3392         51       16         1.0  \n",
       "...         ...      ...         ...  \n",
       "333906       -1       -1         NaN  \n",
       "334070       96        9         1.0  \n",
       "334071       96        9         1.0  \n",
       "334072       96        9         1.0  \n",
       "334073       96        9         1.0  \n",
       "\n",
       "[104 rows x 22 columns]"
      ],
      "text/html": [
       "<div>\n",
       "<style scoped>\n",
       "    .dataframe tbody tr th:only-of-type {\n",
       "        vertical-align: middle;\n",
       "    }\n",
       "\n",
       "    .dataframe tbody tr th {\n",
       "        vertical-align: top;\n",
       "    }\n",
       "\n",
       "    .dataframe thead th {\n",
       "        text-align: right;\n",
       "    }\n",
       "</style>\n",
       "<table border=\"1\" class=\"dataframe\">\n",
       "  <thead>\n",
       "    <tr style=\"text-align: right;\">\n",
       "      <th></th>\n",
       "      <th>merchant_id</th>\n",
       "      <th>merchant_group_id</th>\n",
       "      <th>merchant_category_id</th>\n",
       "      <th>subsector_id</th>\n",
       "      <th>numerical_1</th>\n",
       "      <th>numerical_2</th>\n",
       "      <th>category_1</th>\n",
       "      <th>most_recent_sales_range</th>\n",
       "      <th>most_recent_purchases_range</th>\n",
       "      <th>avg_sales_lag3</th>\n",
       "      <th>...</th>\n",
       "      <th>avg_sales_lag6</th>\n",
       "      <th>avg_purchases_lag6</th>\n",
       "      <th>active_months_lag6</th>\n",
       "      <th>avg_sales_lag12</th>\n",
       "      <th>avg_purchases_lag12</th>\n",
       "      <th>active_months_lag12</th>\n",
       "      <th>category_4</th>\n",
       "      <th>city_id</th>\n",
       "      <th>state_id</th>\n",
       "      <th>category_2</th>\n",
       "    </tr>\n",
       "  </thead>\n",
       "  <tbody>\n",
       "    <tr>\n",
       "      <th>53</th>\n",
       "      <td>M_ID_c0b712e11a</td>\n",
       "      <td>35</td>\n",
       "      <td>823</td>\n",
       "      <td>25</td>\n",
       "      <td>-0.057471</td>\n",
       "      <td>-0.057471</td>\n",
       "      <td>N</td>\n",
       "      <td>E</td>\n",
       "      <td>E</td>\n",
       "      <td>1.00</td>\n",
       "      <td>...</td>\n",
       "      <td>1.00</td>\n",
       "      <td>1.000000</td>\n",
       "      <td>1</td>\n",
       "      <td>1.00</td>\n",
       "      <td>1.000000</td>\n",
       "      <td>1</td>\n",
       "      <td>N</td>\n",
       "      <td>231</td>\n",
       "      <td>9</td>\n",
       "      <td>1.0</td>\n",
       "    </tr>\n",
       "    <tr>\n",
       "      <th>54</th>\n",
       "      <td>M_ID_c0b712e11a</td>\n",
       "      <td>35</td>\n",
       "      <td>823</td>\n",
       "      <td>25</td>\n",
       "      <td>-0.007896</td>\n",
       "      <td>-0.007896</td>\n",
       "      <td>N</td>\n",
       "      <td>E</td>\n",
       "      <td>E</td>\n",
       "      <td>1.01</td>\n",
       "      <td>...</td>\n",
       "      <td>1.01</td>\n",
       "      <td>1.097119</td>\n",
       "      <td>6</td>\n",
       "      <td>1.20</td>\n",
       "      <td>1.190741</td>\n",
       "      <td>12</td>\n",
       "      <td>N</td>\n",
       "      <td>231</td>\n",
       "      <td>9</td>\n",
       "      <td>1.0</td>\n",
       "    </tr>\n",
       "    <tr>\n",
       "      <th>111</th>\n",
       "      <td>M_ID_0039220eb3</td>\n",
       "      <td>35</td>\n",
       "      <td>836</td>\n",
       "      <td>5</td>\n",
       "      <td>-0.057471</td>\n",
       "      <td>-0.057471</td>\n",
       "      <td>Y</td>\n",
       "      <td>E</td>\n",
       "      <td>E</td>\n",
       "      <td>0.66</td>\n",
       "      <td>...</td>\n",
       "      <td>0.66</td>\n",
       "      <td>0.666667</td>\n",
       "      <td>3</td>\n",
       "      <td>0.66</td>\n",
       "      <td>0.666667</td>\n",
       "      <td>3</td>\n",
       "      <td>Y</td>\n",
       "      <td>-1</td>\n",
       "      <td>-1</td>\n",
       "      <td>NaN</td>\n",
       "    </tr>\n",
       "    <tr>\n",
       "      <th>112</th>\n",
       "      <td>M_ID_0039220eb3</td>\n",
       "      <td>35</td>\n",
       "      <td>836</td>\n",
       "      <td>5</td>\n",
       "      <td>0.408530</td>\n",
       "      <td>0.408530</td>\n",
       "      <td>Y</td>\n",
       "      <td>C</td>\n",
       "      <td>D</td>\n",
       "      <td>1.17</td>\n",
       "      <td>...</td>\n",
       "      <td>1.17</td>\n",
       "      <td>1.087939</td>\n",
       "      <td>6</td>\n",
       "      <td>1.19</td>\n",
       "      <td>0.997021</td>\n",
       "      <td>12</td>\n",
       "      <td>Y</td>\n",
       "      <td>-1</td>\n",
       "      <td>-1</td>\n",
       "      <td>NaN</td>\n",
       "    </tr>\n",
       "    <tr>\n",
       "      <th>3392</th>\n",
       "      <td>M_ID_bd49e37dda</td>\n",
       "      <td>35</td>\n",
       "      <td>692</td>\n",
       "      <td>21</td>\n",
       "      <td>-0.057471</td>\n",
       "      <td>-0.057471</td>\n",
       "      <td>N</td>\n",
       "      <td>E</td>\n",
       "      <td>E</td>\n",
       "      <td>60.09</td>\n",
       "      <td>...</td>\n",
       "      <td>104.82</td>\n",
       "      <td>13.800000</td>\n",
       "      <td>5</td>\n",
       "      <td>104.82</td>\n",
       "      <td>13.800000</td>\n",
       "      <td>5</td>\n",
       "      <td>N</td>\n",
       "      <td>51</td>\n",
       "      <td>16</td>\n",
       "      <td>1.0</td>\n",
       "    </tr>\n",
       "    <tr>\n",
       "      <th>...</th>\n",
       "      <td>...</td>\n",
       "      <td>...</td>\n",
       "      <td>...</td>\n",
       "      <td>...</td>\n",
       "      <td>...</td>\n",
       "      <td>...</td>\n",
       "      <td>...</td>\n",
       "      <td>...</td>\n",
       "      <td>...</td>\n",
       "      <td>...</td>\n",
       "      <td>...</td>\n",
       "      <td>...</td>\n",
       "      <td>...</td>\n",
       "      <td>...</td>\n",
       "      <td>...</td>\n",
       "      <td>...</td>\n",
       "      <td>...</td>\n",
       "      <td>...</td>\n",
       "      <td>...</td>\n",
       "      <td>...</td>\n",
       "      <td>...</td>\n",
       "    </tr>\n",
       "    <tr>\n",
       "      <th>333906</th>\n",
       "      <td>M_ID_6464db3b45</td>\n",
       "      <td>35</td>\n",
       "      <td>210</td>\n",
       "      <td>35</td>\n",
       "      <td>-0.057471</td>\n",
       "      <td>-0.057471</td>\n",
       "      <td>Y</td>\n",
       "      <td>A</td>\n",
       "      <td>C</td>\n",
       "      <td>0.79</td>\n",
       "      <td>...</td>\n",
       "      <td>0.63</td>\n",
       "      <td>0.643325</td>\n",
       "      <td>6</td>\n",
       "      <td>0.42</td>\n",
       "      <td>0.402207</td>\n",
       "      <td>12</td>\n",
       "      <td>Y</td>\n",
       "      <td>-1</td>\n",
       "      <td>-1</td>\n",
       "      <td>NaN</td>\n",
       "    </tr>\n",
       "    <tr>\n",
       "      <th>334070</th>\n",
       "      <td>M_ID_1802942aaf</td>\n",
       "      <td>35</td>\n",
       "      <td>302</td>\n",
       "      <td>22</td>\n",
       "      <td>-0.047556</td>\n",
       "      <td>-0.047556</td>\n",
       "      <td>N</td>\n",
       "      <td>A</td>\n",
       "      <td>B</td>\n",
       "      <td>0.94</td>\n",
       "      <td>...</td>\n",
       "      <td>0.85</td>\n",
       "      <td>0.868956</td>\n",
       "      <td>6</td>\n",
       "      <td>0.57</td>\n",
       "      <td>0.603051</td>\n",
       "      <td>12</td>\n",
       "      <td>N</td>\n",
       "      <td>96</td>\n",
       "      <td>9</td>\n",
       "      <td>1.0</td>\n",
       "    </tr>\n",
       "    <tr>\n",
       "      <th>334071</th>\n",
       "      <td>M_ID_1802942aaf</td>\n",
       "      <td>72963</td>\n",
       "      <td>302</td>\n",
       "      <td>22</td>\n",
       "      <td>-0.047556</td>\n",
       "      <td>-0.047556</td>\n",
       "      <td>N</td>\n",
       "      <td>A</td>\n",
       "      <td>B</td>\n",
       "      <td>0.94</td>\n",
       "      <td>...</td>\n",
       "      <td>0.85</td>\n",
       "      <td>0.868956</td>\n",
       "      <td>6</td>\n",
       "      <td>0.57</td>\n",
       "      <td>0.603051</td>\n",
       "      <td>12</td>\n",
       "      <td>N</td>\n",
       "      <td>96</td>\n",
       "      <td>9</td>\n",
       "      <td>1.0</td>\n",
       "    </tr>\n",
       "    <tr>\n",
       "      <th>334072</th>\n",
       "      <td>M_ID_1802942aaf</td>\n",
       "      <td>35</td>\n",
       "      <td>302</td>\n",
       "      <td>22</td>\n",
       "      <td>-0.027726</td>\n",
       "      <td>-0.027726</td>\n",
       "      <td>N</td>\n",
       "      <td>A</td>\n",
       "      <td>C</td>\n",
       "      <td>1.01</td>\n",
       "      <td>...</td>\n",
       "      <td>0.98</td>\n",
       "      <td>1.102663</td>\n",
       "      <td>6</td>\n",
       "      <td>0.97</td>\n",
       "      <td>1.269495</td>\n",
       "      <td>12</td>\n",
       "      <td>N</td>\n",
       "      <td>96</td>\n",
       "      <td>9</td>\n",
       "      <td>1.0</td>\n",
       "    </tr>\n",
       "    <tr>\n",
       "      <th>334073</th>\n",
       "      <td>M_ID_1802942aaf</td>\n",
       "      <td>72963</td>\n",
       "      <td>302</td>\n",
       "      <td>22</td>\n",
       "      <td>-0.027726</td>\n",
       "      <td>-0.027726</td>\n",
       "      <td>N</td>\n",
       "      <td>A</td>\n",
       "      <td>C</td>\n",
       "      <td>1.01</td>\n",
       "      <td>...</td>\n",
       "      <td>0.98</td>\n",
       "      <td>1.102663</td>\n",
       "      <td>6</td>\n",
       "      <td>0.97</td>\n",
       "      <td>1.269495</td>\n",
       "      <td>12</td>\n",
       "      <td>N</td>\n",
       "      <td>96</td>\n",
       "      <td>9</td>\n",
       "      <td>1.0</td>\n",
       "    </tr>\n",
       "  </tbody>\n",
       "</table>\n",
       "<p>104 rows × 22 columns</p>\n",
       "</div>"
      ]
     },
     "execution_count": 210,
     "metadata": {},
     "output_type": "execute_result"
    }
   ],
   "execution_count": 210
  },
  {
   "metadata": {
    "ExecuteTime": {
     "end_time": "2025-06-22T12:41:19.876010Z",
     "start_time": "2025-06-22T12:41:19.856239Z"
    }
   },
   "cell_type": "code",
   "source": "pd.read_excel(file_dir+r'\\Data Dictionary.xlsx',sheet_name='merchant',header=2)",
   "id": "d7b3abd1856915c4",
   "outputs": [
    {
     "data": {
      "text/plain": [
       "                        Columns  \\\n",
       "0                   merchant_id   \n",
       "1             merchant_group_id   \n",
       "2          merchant_category_id   \n",
       "3                  subsector_id   \n",
       "4                   numerical_1   \n",
       "5                   numerical_2   \n",
       "6                    category_1   \n",
       "7       most_recent_sales_range   \n",
       "8   most_recent_purchases_range   \n",
       "9                avg_sales_lag3   \n",
       "10           avg_purchases_lag3   \n",
       "11           active_months_lag3   \n",
       "12               avg_sales_lag6   \n",
       "13           avg_purchases_lag6   \n",
       "14           active_months_lag6   \n",
       "15              avg_sales_lag12   \n",
       "16          avg_purchases_lag12   \n",
       "17          active_months_lag12   \n",
       "18                   category_4   \n",
       "19                      city_id   \n",
       "20                     state_id   \n",
       "21                   category_2   \n",
       "\n",
       "                                                                                       Description  \n",
       "0                                                                       Unique merchant identifier  \n",
       "1                                                                     Merchant group (anonymized )  \n",
       "2                                            Unique identifier for merchant category (anonymized )  \n",
       "3                                                            Merchant category group (anonymized )  \n",
       "4                                                                               anonymized measure  \n",
       "5                                                                               anonymized measure  \n",
       "6                                                                              anonymized category  \n",
       "7                     Range of revenue (monetary units) in last active month --> A > B > C > D > E  \n",
       "8                     Range of quantity of transactions in last active month --> A > B > C > D > E  \n",
       "9              Monthly average of revenue in last 3 months divided by revenue in last active month  \n",
       "10   Monthly average of transactions in last 3 months divided by transactions in last active month  \n",
       "11                                                  Quantity of active months within last 3 months  \n",
       "12             Monthly average of revenue in last 6 months divided by revenue in last active month  \n",
       "13   Monthly average of transactions in last 6 months divided by transactions in last active month  \n",
       "14                                                  Quantity of active months within last 6 months  \n",
       "15            Monthly average of revenue in last 12 months divided by revenue in last active month  \n",
       "16  Monthly average of transactions in last 12 months divided by transactions in last active month  \n",
       "17                                                 Quantity of active months within last 12 months  \n",
       "18                                                                             anonymized category  \n",
       "19                                                                   City identifier (anonymized )  \n",
       "20                                                                  State identifier (anonymized )  \n",
       "21                                                                             anonymized category  "
      ],
      "text/html": [
       "<div>\n",
       "<style scoped>\n",
       "    .dataframe tbody tr th:only-of-type {\n",
       "        vertical-align: middle;\n",
       "    }\n",
       "\n",
       "    .dataframe tbody tr th {\n",
       "        vertical-align: top;\n",
       "    }\n",
       "\n",
       "    .dataframe thead th {\n",
       "        text-align: right;\n",
       "    }\n",
       "</style>\n",
       "<table border=\"1\" class=\"dataframe\">\n",
       "  <thead>\n",
       "    <tr style=\"text-align: right;\">\n",
       "      <th></th>\n",
       "      <th>Columns</th>\n",
       "      <th>Description</th>\n",
       "    </tr>\n",
       "  </thead>\n",
       "  <tbody>\n",
       "    <tr>\n",
       "      <th>0</th>\n",
       "      <td>merchant_id</td>\n",
       "      <td>Unique merchant identifier</td>\n",
       "    </tr>\n",
       "    <tr>\n",
       "      <th>1</th>\n",
       "      <td>merchant_group_id</td>\n",
       "      <td>Merchant group (anonymized )</td>\n",
       "    </tr>\n",
       "    <tr>\n",
       "      <th>2</th>\n",
       "      <td>merchant_category_id</td>\n",
       "      <td>Unique identifier for merchant category (anonymized )</td>\n",
       "    </tr>\n",
       "    <tr>\n",
       "      <th>3</th>\n",
       "      <td>subsector_id</td>\n",
       "      <td>Merchant category group (anonymized )</td>\n",
       "    </tr>\n",
       "    <tr>\n",
       "      <th>4</th>\n",
       "      <td>numerical_1</td>\n",
       "      <td>anonymized measure</td>\n",
       "    </tr>\n",
       "    <tr>\n",
       "      <th>5</th>\n",
       "      <td>numerical_2</td>\n",
       "      <td>anonymized measure</td>\n",
       "    </tr>\n",
       "    <tr>\n",
       "      <th>6</th>\n",
       "      <td>category_1</td>\n",
       "      <td>anonymized category</td>\n",
       "    </tr>\n",
       "    <tr>\n",
       "      <th>7</th>\n",
       "      <td>most_recent_sales_range</td>\n",
       "      <td>Range of revenue (monetary units) in last active month --&gt; A &gt; B &gt; C &gt; D &gt; E</td>\n",
       "    </tr>\n",
       "    <tr>\n",
       "      <th>8</th>\n",
       "      <td>most_recent_purchases_range</td>\n",
       "      <td>Range of quantity of transactions in last active month --&gt; A &gt; B &gt; C &gt; D &gt; E</td>\n",
       "    </tr>\n",
       "    <tr>\n",
       "      <th>9</th>\n",
       "      <td>avg_sales_lag3</td>\n",
       "      <td>Monthly average of revenue in last 3 months divided by revenue in last active month</td>\n",
       "    </tr>\n",
       "    <tr>\n",
       "      <th>10</th>\n",
       "      <td>avg_purchases_lag3</td>\n",
       "      <td>Monthly average of transactions in last 3 months divided by transactions in last active month</td>\n",
       "    </tr>\n",
       "    <tr>\n",
       "      <th>11</th>\n",
       "      <td>active_months_lag3</td>\n",
       "      <td>Quantity of active months within last 3 months</td>\n",
       "    </tr>\n",
       "    <tr>\n",
       "      <th>12</th>\n",
       "      <td>avg_sales_lag6</td>\n",
       "      <td>Monthly average of revenue in last 6 months divided by revenue in last active month</td>\n",
       "    </tr>\n",
       "    <tr>\n",
       "      <th>13</th>\n",
       "      <td>avg_purchases_lag6</td>\n",
       "      <td>Monthly average of transactions in last 6 months divided by transactions in last active month</td>\n",
       "    </tr>\n",
       "    <tr>\n",
       "      <th>14</th>\n",
       "      <td>active_months_lag6</td>\n",
       "      <td>Quantity of active months within last 6 months</td>\n",
       "    </tr>\n",
       "    <tr>\n",
       "      <th>15</th>\n",
       "      <td>avg_sales_lag12</td>\n",
       "      <td>Monthly average of revenue in last 12 months divided by revenue in last active month</td>\n",
       "    </tr>\n",
       "    <tr>\n",
       "      <th>16</th>\n",
       "      <td>avg_purchases_lag12</td>\n",
       "      <td>Monthly average of transactions in last 12 months divided by transactions in last active month</td>\n",
       "    </tr>\n",
       "    <tr>\n",
       "      <th>17</th>\n",
       "      <td>active_months_lag12</td>\n",
       "      <td>Quantity of active months within last 12 months</td>\n",
       "    </tr>\n",
       "    <tr>\n",
       "      <th>18</th>\n",
       "      <td>category_4</td>\n",
       "      <td>anonymized category</td>\n",
       "    </tr>\n",
       "    <tr>\n",
       "      <th>19</th>\n",
       "      <td>city_id</td>\n",
       "      <td>City identifier (anonymized )</td>\n",
       "    </tr>\n",
       "    <tr>\n",
       "      <th>20</th>\n",
       "      <td>state_id</td>\n",
       "      <td>State identifier (anonymized )</td>\n",
       "    </tr>\n",
       "    <tr>\n",
       "      <th>21</th>\n",
       "      <td>category_2</td>\n",
       "      <td>anonymized category</td>\n",
       "    </tr>\n",
       "  </tbody>\n",
       "</table>\n",
       "</div>"
      ]
     },
     "execution_count": 211,
     "metadata": {},
     "output_type": "execute_result"
    }
   ],
   "execution_count": 211
  },
  {
   "metadata": {
    "ExecuteTime": {
     "end_time": "2025-06-22T12:41:19.950807Z",
     "start_time": "2025-06-22T12:41:19.946558Z"
    }
   },
   "cell_type": "code",
   "source": "merchant_info.columns",
   "id": "c817a9b5ab8a73ce",
   "outputs": [
    {
     "data": {
      "text/plain": [
       "Index(['merchant_id', 'merchant_group_id', 'merchant_category_id',\n",
       "       'subsector_id', 'numerical_1', 'numerical_2', 'category_1',\n",
       "       'most_recent_sales_range', 'most_recent_purchases_range',\n",
       "       'avg_sales_lag3', 'avg_purchases_lag3', 'active_months_lag3',\n",
       "       'avg_sales_lag6', 'avg_purchases_lag6', 'active_months_lag6',\n",
       "       'avg_sales_lag12', 'avg_purchases_lag12', 'active_months_lag12',\n",
       "       'category_4', 'city_id', 'state_id', 'category_2'],\n",
       "      dtype='object')"
      ]
     },
     "execution_count": 212,
     "metadata": {},
     "output_type": "execute_result"
    }
   ],
   "execution_count": 212
  },
  {
   "metadata": {
    "ExecuteTime": {
     "end_time": "2025-06-22T12:41:20.039805Z",
     "start_time": "2025-06-22T12:41:20.036897Z"
    }
   },
   "cell_type": "code",
   "source": [
    "# 拆分离散变量和数值变量\n",
    "continus_feature=['numerical_1', 'numerical_2',\n",
    "       'avg_sales_lag3', 'avg_purchases_lag3',\n",
    "       'avg_sales_lag6', 'avg_purchases_lag6',\n",
    "       'avg_sales_lag12', 'avg_purchases_lag12']\n",
    "uncontinus_feature=['merchant_id','merchant_group_id', 'merchant_category_id','subsector_id','category_1','most_recent_sales_range', 'most_recent_purchases_range', 'category_4', 'city_id', 'state_id', 'category_2', 'active_months_lag3', 'active_months_lag6','active_months_lag12']"
   ],
   "id": "5c309ee28da2d04d",
   "outputs": [],
   "execution_count": 213
  },
  {
   "metadata": {
    "ExecuteTime": {
     "end_time": "2025-06-22T12:41:20.097432Z",
     "start_time": "2025-06-22T12:41:20.093273Z"
    }
   },
   "cell_type": "code",
   "source": "len(continus_feature)+len(uncontinus_feature)==merchant_info.shape[1]",
   "id": "c95025ede573085e",
   "outputs": [
    {
     "data": {
      "text/plain": [
       "True"
      ]
     },
     "execution_count": 214,
     "metadata": {},
     "output_type": "execute_result"
    }
   ],
   "execution_count": 214
  },
  {
   "metadata": {
    "ExecuteTime": {
     "end_time": "2025-06-22T12:41:20.319813Z",
     "start_time": "2025-06-22T12:41:20.190462Z"
    }
   },
   "cell_type": "code",
   "source": "merchant_info[uncontinus_feature].nunique()",
   "id": "826ce050ffe068c9",
   "outputs": [
    {
     "data": {
      "text/plain": [
       "merchant_id                    334633\n",
       "merchant_group_id              109391\n",
       "merchant_category_id              324\n",
       "subsector_id                       41\n",
       "category_1                          2\n",
       "most_recent_sales_range             5\n",
       "most_recent_purchases_range         5\n",
       "category_4                          2\n",
       "city_id                           271\n",
       "state_id                           25\n",
       "category_2                          5\n",
       "active_months_lag3                  3\n",
       "active_months_lag6                  6\n",
       "active_months_lag12                12\n",
       "dtype: int64"
      ]
     },
     "execution_count": 215,
     "metadata": {},
     "output_type": "execute_result"
    }
   ],
   "execution_count": 215
  },
  {
   "metadata": {
    "ExecuteTime": {
     "end_time": "2025-06-22T12:41:20.435608Z",
     "start_time": "2025-06-22T12:41:20.410812Z"
    }
   },
   "cell_type": "code",
   "source": "merchant_info[uncontinus_feature].dtypes",
   "id": "fac3137c43a173a7",
   "outputs": [
    {
     "data": {
      "text/plain": [
       "merchant_id                     object\n",
       "merchant_group_id                int64\n",
       "merchant_category_id             int64\n",
       "subsector_id                     int64\n",
       "category_1                      object\n",
       "most_recent_sales_range         object\n",
       "most_recent_purchases_range     object\n",
       "category_4                      object\n",
       "city_id                          int64\n",
       "state_id                         int64\n",
       "category_2                     float64\n",
       "active_months_lag3               int64\n",
       "active_months_lag6               int64\n",
       "active_months_lag12              int64\n",
       "dtype: object"
      ]
     },
     "execution_count": 216,
     "metadata": {},
     "output_type": "execute_result"
    }
   ],
   "execution_count": 216
  },
  {
   "metadata": {},
   "cell_type": "markdown",
   "source": "## 离散变量缺失值处理",
   "id": "288a396776824560"
  },
  {
   "metadata": {
    "ExecuteTime": {
     "end_time": "2025-06-22T12:41:20.905019Z",
     "start_time": "2025-06-22T12:41:20.843177Z"
    }
   },
   "cell_type": "code",
   "source": "merchant_info[uncontinus_feature].isnull().sum()",
   "id": "ed8ff6e82e1e0648",
   "outputs": [
    {
     "data": {
      "text/plain": [
       "merchant_id                        0\n",
       "merchant_group_id                  0\n",
       "merchant_category_id               0\n",
       "subsector_id                       0\n",
       "category_1                         0\n",
       "most_recent_sales_range            0\n",
       "most_recent_purchases_range        0\n",
       "category_4                         0\n",
       "city_id                            0\n",
       "state_id                           0\n",
       "category_2                     11887\n",
       "active_months_lag3                 0\n",
       "active_months_lag6                 0\n",
       "active_months_lag12                0\n",
       "dtype: int64"
      ]
     },
     "execution_count": 217,
     "metadata": {},
     "output_type": "execute_result"
    }
   ],
   "execution_count": 217
  },
  {
   "metadata": {
    "ExecuteTime": {
     "end_time": "2025-06-22T12:41:21.064540Z",
     "start_time": "2025-06-22T12:41:21.026927Z"
    }
   },
   "cell_type": "code",
   "source": "uncontinus_feature_info=merchant_info[uncontinus_feature].copy()",
   "id": "5c14f4dcf79e530f",
   "outputs": [],
   "execution_count": 218
  },
  {
   "metadata": {
    "ExecuteTime": {
     "end_time": "2025-06-22T12:41:21.157061Z",
     "start_time": "2025-06-22T12:41:21.151311Z"
    }
   },
   "cell_type": "code",
   "source": "uncontinus_feature_info['category_2_fillna']=uncontinus_feature_info['category_2'].fillna(-1)",
   "id": "3846627902845ef7",
   "outputs": [],
   "execution_count": 219
  },
  {
   "metadata": {},
   "cell_type": "markdown",
   "source": "# 字典编码",
   "id": "e0d1a136220dccf0"
  },
  {
   "metadata": {
    "ExecuteTime": {
     "end_time": "2025-06-22T12:41:21.949450Z",
     "start_time": "2025-06-22T12:41:21.946243Z"
    }
   },
   "cell_type": "code",
   "source": [
    "\n",
    "def object_encode(se):\n",
    "    value=se.unique().tolist()\n",
    "    value=sorted(value)\n",
    "    return se.map(pd.Series(range(len(value)),index=value)).values"
   ],
   "id": "ff1f19186ca6d06e",
   "outputs": [],
   "execution_count": 220
  },
  {
   "metadata": {
    "ExecuteTime": {
     "end_time": "2025-06-22T12:41:22.600287Z",
     "start_time": "2025-06-22T12:41:22.130677Z"
    }
   },
   "cell_type": "code",
   "source": [
    "merchant_id_array=uncontinus_feature_info['merchant_id']\n",
    "uncontinus_feature_info=uncontinus_feature_info.apply(lambda x:object_encode(x),axis=0)\n",
    "uncontinus_feature_info['merchant_id']=merchant_id_array"
   ],
   "id": "446169a0c7b733d8",
   "outputs": [],
   "execution_count": 221
  },
  {
   "metadata": {
    "ExecuteTime": {
     "end_time": "2025-06-22T12:41:22.692329Z",
     "start_time": "2025-06-22T12:41:22.603682Z"
    }
   },
   "cell_type": "code",
   "source": [
    "# 导包\n",
    "from sklearn.preprocessing import LabelEncoder\n",
    "from sklearn.preprocessing import OrdinalEncoder\n",
    "test=merchant_info[uncontinus_feature].fillna(-1)"
   ],
   "id": "cb1b4dc25ec696ea",
   "outputs": [],
   "execution_count": 222
  },
  {
   "metadata": {
    "ExecuteTime": {
     "end_time": "2025-06-22T12:41:24.502706Z",
     "start_time": "2025-06-22T12:41:22.719010Z"
    }
   },
   "cell_type": "code",
   "source": [
    "le=LabelEncoder()\n",
    "# handle_unknown='use_encoded_value',unknown_value=-1 这俩参数是处理没见过的值\n",
    "encoder=OrdinalEncoder(handle_unknown='use_encoded_value',unknown_value=-1)\n",
    "encode=encoder.fit_transform(test)\n",
    "encode"
   ],
   "id": "88f1094efd81541",
   "outputs": [
    {
     "data": {
      "text/plain": [
       "array([[1.71754e+05, 8.26500e+03, 2.92000e+02, ..., 2.00000e+00,\n",
       "        5.00000e+00, 1.10000e+01],\n",
       "       [1.92525e+05, 3.14700e+03, 3.10000e+02, ..., 2.00000e+00,\n",
       "        5.00000e+00, 1.10000e+01],\n",
       "       [3.02174e+05, 4.42000e+02, 2.58000e+02, ..., 1.00000e+00,\n",
       "        1.00000e+00, 1.00000e+00],\n",
       "       ...,\n",
       "       [3.16448e+05, 3.40000e+01, 2.12000e+02, ..., 2.00000e+00,\n",
       "        5.00000e+00, 7.00000e+00],\n",
       "       [1.90027e+05, 3.40000e+01, 1.89000e+02, ..., 2.00000e+00,\n",
       "        5.00000e+00, 1.10000e+01],\n",
       "       [2.68288e+05, 3.40000e+01, 2.27000e+02, ..., 2.00000e+00,\n",
       "        5.00000e+00, 9.00000e+00]], shape=(334696, 14))"
      ]
     },
     "execution_count": 223,
     "metadata": {},
     "output_type": "execute_result"
    }
   ],
   "execution_count": 223
  },
  {
   "metadata": {},
   "cell_type": "markdown",
   "source": "# 连续变量",
   "id": "684701773ac03208"
  },
  {
   "metadata": {
    "ExecuteTime": {
     "end_time": "2025-06-22T13:04:18.108420Z",
     "start_time": "2025-06-22T13:04:18.090809Z"
    }
   },
   "cell_type": "code",
   "source": "merchant_info[continus_feature].avg",
   "id": "3611a22c15b115d4",
   "outputs": [
    {
     "data": {
      "text/plain": [
       "        numerical_1  numerical_2  avg_sales_lag3  avg_purchases_lag3  \\\n",
       "0         -0.057471    -0.057471           -0.40            9.666667   \n",
       "1         -0.057471    -0.057471           -0.72            1.750000   \n",
       "2         -0.057471    -0.057471          -82.13          260.000000   \n",
       "3         -0.057471    -0.057471             NaN            1.666667   \n",
       "4         -0.057471    -0.057471             NaN            0.500000   \n",
       "...             ...          ...             ...                 ...   \n",
       "334691     3.174788    -0.047556            1.00            1.022618   \n",
       "334692    -0.057471    -0.057471            0.89            0.927684   \n",
       "334693    -0.057471    -0.057471            0.96            0.982957   \n",
       "334694    -0.057471    -0.057471            0.94            0.919558   \n",
       "334695    -0.057471    -0.057471            0.90            0.913902   \n",
       "\n",
       "        avg_sales_lag6  avg_purchases_lag6  avg_sales_lag12  \\\n",
       "0                -2.25           18.666667            -2.32   \n",
       "1                -0.74            1.291667            -0.57   \n",
       "2               -82.13          260.000000           -82.13   \n",
       "3                  NaN            4.666667              NaN   \n",
       "4                  NaN            0.361111              NaN   \n",
       "...                ...                 ...              ...   \n",
       "334691            0.99            1.019505             1.00   \n",
       "334692            0.78            0.813473             0.59   \n",
       "334693            0.90            0.924769             0.74   \n",
       "334694            0.82            0.783000             0.65   \n",
       "334695            0.73            0.744417             0.53   \n",
       "\n",
       "        avg_purchases_lag12  \n",
       "0                 13.916667  \n",
       "1                  1.687500  \n",
       "2                260.000000  \n",
       "3                  3.833333  \n",
       "4                  0.347222  \n",
       "...                     ...  \n",
       "334691             1.024796  \n",
       "334692             0.606765  \n",
       "334693             0.750763  \n",
       "334694             0.584000  \n",
       "334695             0.540334  \n",
       "\n",
       "[334696 rows x 8 columns]"
      ],
      "text/html": [
       "<div>\n",
       "<style scoped>\n",
       "    .dataframe tbody tr th:only-of-type {\n",
       "        vertical-align: middle;\n",
       "    }\n",
       "\n",
       "    .dataframe tbody tr th {\n",
       "        vertical-align: top;\n",
       "    }\n",
       "\n",
       "    .dataframe thead th {\n",
       "        text-align: right;\n",
       "    }\n",
       "</style>\n",
       "<table border=\"1\" class=\"dataframe\">\n",
       "  <thead>\n",
       "    <tr style=\"text-align: right;\">\n",
       "      <th></th>\n",
       "      <th>numerical_1</th>\n",
       "      <th>numerical_2</th>\n",
       "      <th>avg_sales_lag3</th>\n",
       "      <th>avg_purchases_lag3</th>\n",
       "      <th>avg_sales_lag6</th>\n",
       "      <th>avg_purchases_lag6</th>\n",
       "      <th>avg_sales_lag12</th>\n",
       "      <th>avg_purchases_lag12</th>\n",
       "    </tr>\n",
       "  </thead>\n",
       "  <tbody>\n",
       "    <tr>\n",
       "      <th>0</th>\n",
       "      <td>-0.057471</td>\n",
       "      <td>-0.057471</td>\n",
       "      <td>-0.40</td>\n",
       "      <td>9.666667</td>\n",
       "      <td>-2.25</td>\n",
       "      <td>18.666667</td>\n",
       "      <td>-2.32</td>\n",
       "      <td>13.916667</td>\n",
       "    </tr>\n",
       "    <tr>\n",
       "      <th>1</th>\n",
       "      <td>-0.057471</td>\n",
       "      <td>-0.057471</td>\n",
       "      <td>-0.72</td>\n",
       "      <td>1.750000</td>\n",
       "      <td>-0.74</td>\n",
       "      <td>1.291667</td>\n",
       "      <td>-0.57</td>\n",
       "      <td>1.687500</td>\n",
       "    </tr>\n",
       "    <tr>\n",
       "      <th>2</th>\n",
       "      <td>-0.057471</td>\n",
       "      <td>-0.057471</td>\n",
       "      <td>-82.13</td>\n",
       "      <td>260.000000</td>\n",
       "      <td>-82.13</td>\n",
       "      <td>260.000000</td>\n",
       "      <td>-82.13</td>\n",
       "      <td>260.000000</td>\n",
       "    </tr>\n",
       "    <tr>\n",
       "      <th>3</th>\n",
       "      <td>-0.057471</td>\n",
       "      <td>-0.057471</td>\n",
       "      <td>NaN</td>\n",
       "      <td>1.666667</td>\n",
       "      <td>NaN</td>\n",
       "      <td>4.666667</td>\n",
       "      <td>NaN</td>\n",
       "      <td>3.833333</td>\n",
       "    </tr>\n",
       "    <tr>\n",
       "      <th>4</th>\n",
       "      <td>-0.057471</td>\n",
       "      <td>-0.057471</td>\n",
       "      <td>NaN</td>\n",
       "      <td>0.500000</td>\n",
       "      <td>NaN</td>\n",
       "      <td>0.361111</td>\n",
       "      <td>NaN</td>\n",
       "      <td>0.347222</td>\n",
       "    </tr>\n",
       "    <tr>\n",
       "      <th>...</th>\n",
       "      <td>...</td>\n",
       "      <td>...</td>\n",
       "      <td>...</td>\n",
       "      <td>...</td>\n",
       "      <td>...</td>\n",
       "      <td>...</td>\n",
       "      <td>...</td>\n",
       "      <td>...</td>\n",
       "    </tr>\n",
       "    <tr>\n",
       "      <th>334691</th>\n",
       "      <td>3.174788</td>\n",
       "      <td>-0.047556</td>\n",
       "      <td>1.00</td>\n",
       "      <td>1.022618</td>\n",
       "      <td>0.99</td>\n",
       "      <td>1.019505</td>\n",
       "      <td>1.00</td>\n",
       "      <td>1.024796</td>\n",
       "    </tr>\n",
       "    <tr>\n",
       "      <th>334692</th>\n",
       "      <td>-0.057471</td>\n",
       "      <td>-0.057471</td>\n",
       "      <td>0.89</td>\n",
       "      <td>0.927684</td>\n",
       "      <td>0.78</td>\n",
       "      <td>0.813473</td>\n",
       "      <td>0.59</td>\n",
       "      <td>0.606765</td>\n",
       "    </tr>\n",
       "    <tr>\n",
       "      <th>334693</th>\n",
       "      <td>-0.057471</td>\n",
       "      <td>-0.057471</td>\n",
       "      <td>0.96</td>\n",
       "      <td>0.982957</td>\n",
       "      <td>0.90</td>\n",
       "      <td>0.924769</td>\n",
       "      <td>0.74</td>\n",
       "      <td>0.750763</td>\n",
       "    </tr>\n",
       "    <tr>\n",
       "      <th>334694</th>\n",
       "      <td>-0.057471</td>\n",
       "      <td>-0.057471</td>\n",
       "      <td>0.94</td>\n",
       "      <td>0.919558</td>\n",
       "      <td>0.82</td>\n",
       "      <td>0.783000</td>\n",
       "      <td>0.65</td>\n",
       "      <td>0.584000</td>\n",
       "    </tr>\n",
       "    <tr>\n",
       "      <th>334695</th>\n",
       "      <td>-0.057471</td>\n",
       "      <td>-0.057471</td>\n",
       "      <td>0.90</td>\n",
       "      <td>0.913902</td>\n",
       "      <td>0.73</td>\n",
       "      <td>0.744417</td>\n",
       "      <td>0.53</td>\n",
       "      <td>0.540334</td>\n",
       "    </tr>\n",
       "  </tbody>\n",
       "</table>\n",
       "<p>334696 rows × 8 columns</p>\n",
       "</div>"
      ]
     },
     "execution_count": 225,
     "metadata": {},
     "output_type": "execute_result"
    }
   ],
   "execution_count": 225
  },
  {
   "metadata": {
    "ExecuteTime": {
     "end_time": "2025-06-22T12:41:24.657579Z",
     "start_time": "2025-06-22T12:41:24.555036Z"
    }
   },
   "cell_type": "code",
   "source": "merchant_info[continus_feature].fillna()",
   "id": "cf56aeb7e1541ded",
   "outputs": [
    {
     "ename": "ValueError",
     "evalue": "Must specify a fill 'value' or 'method'.",
     "output_type": "error",
     "traceback": [
      "\u001B[31m---------------------------------------------------------------------------\u001B[39m",
      "\u001B[31mValueError\u001B[39m                                Traceback (most recent call last)",
      "\u001B[36mCell\u001B[39m\u001B[36m \u001B[39m\u001B[32mIn[224]\u001B[39m\u001B[32m, line 1\u001B[39m\n\u001B[32m----> \u001B[39m\u001B[32m1\u001B[39m \u001B[43mmerchant_info\u001B[49m\u001B[43m[\u001B[49m\u001B[43mcontinus_feature\u001B[49m\u001B[43m]\u001B[49m\u001B[43m.\u001B[49m\u001B[43mfillna\u001B[49m\u001B[43m(\u001B[49m\u001B[43m)\u001B[49m\n",
      "\u001B[36mFile \u001B[39m\u001B[32mD:\\conda_env\\dl_learning20250612\\Lib\\site-packages\\pandas\\core\\generic.py:7312\u001B[39m, in \u001B[36mNDFrame.fillna\u001B[39m\u001B[34m(self, value, method, axis, inplace, limit, downcast)\u001B[39m\n\u001B[32m   7305\u001B[39m         \u001B[38;5;28;01mif\u001B[39;00m ctr <= ref_count:\n\u001B[32m   7306\u001B[39m             warnings.warn(\n\u001B[32m   7307\u001B[39m                 _chained_assignment_warning_method_msg,\n\u001B[32m   7308\u001B[39m                 \u001B[38;5;167;01mFutureWarning\u001B[39;00m,\n\u001B[32m   7309\u001B[39m                 stacklevel=\u001B[32m2\u001B[39m,\n\u001B[32m   7310\u001B[39m             )\n\u001B[32m-> \u001B[39m\u001B[32m7312\u001B[39m value, method = \u001B[43mvalidate_fillna_kwargs\u001B[49m\u001B[43m(\u001B[49m\u001B[43mvalue\u001B[49m\u001B[43m,\u001B[49m\u001B[43m \u001B[49m\u001B[43mmethod\u001B[49m\u001B[43m)\u001B[49m\n\u001B[32m   7313\u001B[39m \u001B[38;5;28;01mif\u001B[39;00m method \u001B[38;5;129;01mis\u001B[39;00m \u001B[38;5;129;01mnot\u001B[39;00m \u001B[38;5;28;01mNone\u001B[39;00m:\n\u001B[32m   7314\u001B[39m     warnings.warn(\n\u001B[32m   7315\u001B[39m         \u001B[33mf\u001B[39m\u001B[33m\"\u001B[39m\u001B[38;5;132;01m{\u001B[39;00m\u001B[38;5;28mtype\u001B[39m(\u001B[38;5;28mself\u001B[39m).\u001B[34m__name__\u001B[39m\u001B[38;5;132;01m}\u001B[39;00m\u001B[33m.fillna with \u001B[39m\u001B[33m'\u001B[39m\u001B[33mmethod\u001B[39m\u001B[33m'\u001B[39m\u001B[33m is deprecated and \u001B[39m\u001B[33m\"\u001B[39m\n\u001B[32m   7316\u001B[39m         \u001B[33m\"\u001B[39m\u001B[33mwill raise in a future version. Use obj.ffill() or obj.bfill() \u001B[39m\u001B[33m\"\u001B[39m\n\u001B[32m   (...)\u001B[39m\u001B[32m   7319\u001B[39m         stacklevel=find_stack_level(),\n\u001B[32m   7320\u001B[39m     )\n",
      "\u001B[36mFile \u001B[39m\u001B[32mD:\\conda_env\\dl_learning20250612\\Lib\\site-packages\\pandas\\util\\_validators.py:293\u001B[39m, in \u001B[36mvalidate_fillna_kwargs\u001B[39m\u001B[34m(value, method, validate_scalar_dict_value)\u001B[39m\n\u001B[32m    290\u001B[39m \u001B[38;5;28;01mfrom\u001B[39;00m\u001B[38;5;250m \u001B[39m\u001B[34;01mpandas\u001B[39;00m\u001B[34;01m.\u001B[39;00m\u001B[34;01mcore\u001B[39;00m\u001B[34;01m.\u001B[39;00m\u001B[34;01mmissing\u001B[39;00m\u001B[38;5;250m \u001B[39m\u001B[38;5;28;01mimport\u001B[39;00m clean_fill_method\n\u001B[32m    292\u001B[39m \u001B[38;5;28;01mif\u001B[39;00m value \u001B[38;5;129;01mis\u001B[39;00m \u001B[38;5;28;01mNone\u001B[39;00m \u001B[38;5;129;01mand\u001B[39;00m method \u001B[38;5;129;01mis\u001B[39;00m \u001B[38;5;28;01mNone\u001B[39;00m:\n\u001B[32m--> \u001B[39m\u001B[32m293\u001B[39m     \u001B[38;5;28;01mraise\u001B[39;00m \u001B[38;5;167;01mValueError\u001B[39;00m(\u001B[33m\"\u001B[39m\u001B[33mMust specify a fill \u001B[39m\u001B[33m'\u001B[39m\u001B[33mvalue\u001B[39m\u001B[33m'\u001B[39m\u001B[33m or \u001B[39m\u001B[33m'\u001B[39m\u001B[33mmethod\u001B[39m\u001B[33m'\u001B[39m\u001B[33m.\u001B[39m\u001B[33m\"\u001B[39m)\n\u001B[32m    294\u001B[39m \u001B[38;5;28;01mif\u001B[39;00m value \u001B[38;5;129;01mis\u001B[39;00m \u001B[38;5;28;01mNone\u001B[39;00m \u001B[38;5;129;01mand\u001B[39;00m method \u001B[38;5;129;01mis\u001B[39;00m \u001B[38;5;129;01mnot\u001B[39;00m \u001B[38;5;28;01mNone\u001B[39;00m:\n\u001B[32m    295\u001B[39m     method = clean_fill_method(method)\n",
      "\u001B[31mValueError\u001B[39m: Must specify a fill 'value' or 'method'."
     ]
    }
   ],
   "execution_count": 224
  },
  {
   "metadata": {},
   "cell_type": "code",
   "outputs": [],
   "execution_count": null,
   "source": "",
   "id": "e7f1b27431ff7edd"
  },
  {
   "metadata": {},
   "cell_type": "code",
   "outputs": [],
   "execution_count": null,
   "source": "",
   "id": "ab6bedffc901a2"
  },
  {
   "metadata": {
    "ExecuteTime": {
     "end_time": "2025-08-11T10:06:58.961154Z",
     "start_time": "2025-08-11T10:06:57.046922Z"
    }
   },
   "cell_type": "code",
   "source": "from sklearn.feature_extraction.text import TfidfVectorizer",
   "id": "68eebcc2b2d61789",
   "outputs": [],
   "execution_count": 3
  },
  {
   "metadata": {
    "ExecuteTime": {
     "end_time": "2025-08-11T10:06:58.976614Z",
     "start_time": "2025-08-11T10:06:58.963148Z"
    }
   },
   "cell_type": "code",
   "source": [
    "documents = [\n",
    "    \"The quick brown fox jumps over the lazy dog.\",\n",
    "    \"Never jump over a lazy dog.\",\n",
    "    \"A quick brown dog is not lazy.\",\n",
    "    \"The dog barks loudly.\"\n",
    "]"
   ],
   "id": "f6da4513ece3d6f9",
   "outputs": [],
   "execution_count": 4
  },
  {
   "metadata": {
    "ExecuteTime": {
     "end_time": "2025-08-11T10:06:58.992561Z",
     "start_time": "2025-08-11T10:06:58.978607Z"
    }
   },
   "cell_type": "code",
   "source": [
    "vectorizer = TfidfVectorizer(\n",
    "    stop_words='english',\n",
    "    max_df=0.85,\n",
    "    min_df=2,\n",
    "    ngram_range=(1, 2), # Example: unigrams and bigrams\n",
    "    sublinear_tf=True,\n",
    "    smooth_idf=True,\n",
    "    norm='l2' # Default and commonly used\n",
    ")"
   ],
   "id": "a82743f4388b5ee",
   "outputs": [],
   "execution_count": 5
  },
  {
   "metadata": {
    "ExecuteTime": {
     "end_time": "2025-08-11T10:06:59.775919Z",
     "start_time": "2025-08-11T10:06:59.747360Z"
    }
   },
   "cell_type": "code",
   "source": "tfidf_matrix = vectorizer.fit_transform(documents)",
   "id": "43b1a063dd2fe06b",
   "outputs": [],
   "execution_count": 6
  },
  {
   "metadata": {
    "ExecuteTime": {
     "end_time": "2025-08-11T10:07:35.999097Z",
     "start_time": "2025-08-11T10:07:35.985089Z"
    }
   },
   "cell_type": "code",
   "source": "tfidf_matrix",
   "id": "eb56aef77b3c84ac",
   "outputs": [
    {
     "data": {
      "text/plain": [
       "<4x5 sparse matrix of type '<class 'numpy.float64'>'\n",
       "\twith 11 stored elements in Compressed Sparse Row format>"
      ]
     },
     "execution_count": 7,
     "metadata": {},
     "output_type": "execute_result"
    }
   ],
   "execution_count": 7
  },
  {
   "metadata": {},
   "cell_type": "code",
   "outputs": [],
   "execution_count": null,
   "source": "",
   "id": "a63a6205e84b6f66"
  }
 ],
 "metadata": {
  "kernelspec": {
   "display_name": "Python 3",
   "language": "python",
   "name": "python3"
  },
  "language_info": {
   "codemirror_mode": {
    "name": "ipython",
    "version": 2
   },
   "file_extension": ".py",
   "mimetype": "text/x-python",
   "name": "python",
   "nbconvert_exporter": "python",
   "pygments_lexer": "ipython2",
   "version": "2.7.6"
  }
 },
 "nbformat": 4,
 "nbformat_minor": 5
}
