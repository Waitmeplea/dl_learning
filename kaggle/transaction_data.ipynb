{
 "cells": [
  {
   "cell_type": "code",
   "execution_count": 66,
   "id": "fbdbebba-96ad-42a6-a113-b9176bbf5e80",
   "metadata": {},
   "outputs": [],
   "source": [
    "import pandas as pd"
   ]
  },
  {
   "cell_type": "code",
   "execution_count": 64,
   "id": "initial_id",
   "metadata": {
    "ExecuteTime": {
     "end_time": "2025-06-24T03:15:20.340395Z",
     "start_time": "2025-06-24T03:15:18.511011Z"
    }
   },
   "outputs": [],
   "source": [
    "import pandas as pd\n",
    "import numpy as np\n",
    "import os\n",
    "from datetime import datetime\n",
    "import gc #内存管理\n",
    "file_dir=r'D:\\bigdata_project\\kaggle_dataset\\elo-merchant-category-recommendation'\n",
    "os.chdir(file_dir)\n",
    "os.listdir(file_dir)\n",
    "from sklearn.preprocessing import LabelEncoder\n",
    "from sklearn.preprocessing import OrdinalEncoder\n",
    "from tqdm import tqdm\n",
    "tqdm.pandas()"
   ]
  },
  {
   "cell_type": "markdown",
   "id": "fdc0a5e3d9f6bd1e",
   "metadata": {},
   "source": [
    "# 读取表"
   ]
  },
  {
   "cell_type": "code",
   "execution_count": 2,
   "id": "9313682ea0a61614",
   "metadata": {
    "ExecuteTime": {
     "end_time": "2025-06-24T03:16:21.106656Z",
     "start_time": "2025-06-24T03:15:25.018407Z"
    }
   },
   "outputs": [],
   "source": [
    "train=pd.read_csv(os.path.join(file_dir,'train.csv'))\n",
    "test=pd.read_csv(os.path.join(file_dir,'test.csv'))\n",
    "merchant_info=pd.read_csv(file_dir+'\\\\merchants.csv')\n",
    "new_merchant_transactions=pd.read_csv(file_dir+'\\\\new_merchant_transactions.csv')\n",
    "historical_transactions=pd.read_csv(file_dir+'\\\\historical_transactions.csv')"
   ]
  },
  {
   "cell_type": "markdown",
   "id": "fbd9f4fad4dd6f29",
   "metadata": {},
   "source": [
    "# 训练与测试表预处理"
   ]
  },
  {
   "cell_type": "code",
   "execution_count": 3,
   "id": "2a16cbcf23005c21",
   "metadata": {
    "ExecuteTime": {
     "end_time": "2025-06-24T03:16:22.573481Z",
     "start_time": "2025-06-24T03:16:21.139924Z"
    }
   },
   "outputs": [],
   "source": [
    "first_active_month=list(set(train['first_active_month'].tolist()+test['first_active_month'].tolist()))\n",
    "first_active_month_le=LabelEncoder()\n",
    "first_active_month_le.fit(first_active_month)\n",
    "train['first_active_month_encod']=first_active_month_le.transform(train['first_active_month'])\n",
    "test['first_active_month_encod']=first_active_month_le.transform(test['first_active_month'])\n",
    "train.to_csv('train_pre.csv',index=False)\n",
    "test.to_csv('test_pre.csv',index=False)\n",
    "del train\n",
    "del test"
   ]
  },
  {
   "cell_type": "code",
   "execution_count": 4,
   "id": "f9c26c16a96a2437",
   "metadata": {
    "ExecuteTime": {
     "end_time": "2025-06-24T03:16:22.950968Z",
     "start_time": "2025-06-24T03:16:22.573481Z"
    }
   },
   "outputs": [
    {
     "data": {
      "text/plain": [
       "0"
      ]
     },
     "execution_count": 4,
     "metadata": {},
     "output_type": "execute_result"
    }
   ],
   "source": [
    "gc.collect()"
   ]
  },
  {
   "cell_type": "markdown",
   "id": "c4fa78a8c330f10d",
   "metadata": {},
   "source": [
    "# merchant表预处理"
   ]
  },
  {
   "cell_type": "code",
   "execution_count": 5,
   "id": "a5381898fef9eb4a",
   "metadata": {
    "ExecuteTime": {
     "end_time": "2025-06-24T03:16:22.960385Z",
     "start_time": "2025-06-24T03:16:22.953831Z"
    }
   },
   "outputs": [],
   "source": [
    "# 拆分离散变量和数值变量\n",
    "merchant_numerical_feature=['numerical_1', 'numerical_2',\n",
    "       'active_months_lag3', 'active_months_lag6','active_months_lag12',\n",
    "       'avg_sales_lag3', 'avg_purchases_lag3',\n",
    "       'avg_sales_lag6', 'avg_purchases_lag6',\n",
    "       'avg_sales_lag12', 'avg_purchases_lag12']\n",
    "merchant_category_feature=['merchant_id','merchant_group_id', 'merchant_category_id','subsector_id','category_1','most_recent_sales_range', 'most_recent_purchases_range', 'category_4', 'city_id', 'state_id', 'category_2']"
   ]
  },
  {
   "cell_type": "code",
   "execution_count": 6,
   "id": "2b28626aa5e29410",
   "metadata": {
    "ExecuteTime": {
     "end_time": "2025-06-24T03:16:23.206569Z",
     "start_time": "2025-06-24T03:16:22.961457Z"
    }
   },
   "outputs": [],
   "source": [
    "multi_le=OrdinalEncoder()\n",
    "merchant_info[['category_1', 'most_recent_sales_range','most_recent_purchases_range', 'category_4']]=multi_le.fit_transform(merchant_info[['category_1', 'most_recent_sales_range','most_recent_purchases_range', 'category_4']])"
   ]
  },
  {
   "cell_type": "code",
   "execution_count": 7,
   "id": "6b40e2adf514d29",
   "metadata": {
    "ExecuteTime": {
     "end_time": "2025-06-24T03:16:23.539740Z",
     "start_time": "2025-06-24T03:16:23.206569Z"
    }
   },
   "outputs": [],
   "source": [
    "merchant_info.fillna(value=-1, inplace=True)"
   ]
  },
  {
   "cell_type": "code",
   "execution_count": 8,
   "id": "a8413c021e2d206",
   "metadata": {
    "ExecuteTime": {
     "end_time": "2025-06-24T03:16:23.851029Z",
     "start_time": "2025-06-24T03:16:23.541470Z"
    }
   },
   "outputs": [
    {
     "data": {
      "text/plain": [
       "True"
      ]
     },
     "execution_count": 8,
     "metadata": {},
     "output_type": "execute_result"
    }
   ],
   "source": [
    "len(merchant_info.describe().columns)+1==len(merchant_info.columns)"
   ]
  },
  {
   "cell_type": "code",
   "execution_count": 9,
   "id": "9a56d2b7f6006bb0",
   "metadata": {
    "ExecuteTime": {
     "end_time": "2025-06-24T03:16:24.151052Z",
     "start_time": "2025-06-24T03:16:23.852469Z"
    }
   },
   "outputs": [
    {
     "data": {
      "text/html": [
       "<div>\n",
       "<style scoped>\n",
       "    .dataframe tbody tr th:only-of-type {\n",
       "        vertical-align: middle;\n",
       "    }\n",
       "\n",
       "    .dataframe tbody tr th {\n",
       "        vertical-align: top;\n",
       "    }\n",
       "\n",
       "    .dataframe thead th {\n",
       "        text-align: right;\n",
       "    }\n",
       "</style>\n",
       "<table border=\"1\" class=\"dataframe\">\n",
       "  <thead>\n",
       "    <tr style=\"text-align: right;\">\n",
       "      <th></th>\n",
       "      <th>merchant_group_id</th>\n",
       "      <th>merchant_category_id</th>\n",
       "      <th>subsector_id</th>\n",
       "      <th>numerical_1</th>\n",
       "      <th>numerical_2</th>\n",
       "      <th>category_1</th>\n",
       "      <th>most_recent_sales_range</th>\n",
       "      <th>most_recent_purchases_range</th>\n",
       "      <th>avg_sales_lag3</th>\n",
       "      <th>avg_purchases_lag3</th>\n",
       "      <th>...</th>\n",
       "      <th>avg_sales_lag6</th>\n",
       "      <th>avg_purchases_lag6</th>\n",
       "      <th>active_months_lag6</th>\n",
       "      <th>avg_sales_lag12</th>\n",
       "      <th>avg_purchases_lag12</th>\n",
       "      <th>active_months_lag12</th>\n",
       "      <th>category_4</th>\n",
       "      <th>city_id</th>\n",
       "      <th>state_id</th>\n",
       "      <th>category_2</th>\n",
       "    </tr>\n",
       "  </thead>\n",
       "  <tbody>\n",
       "    <tr>\n",
       "      <th>count</th>\n",
       "      <td>334696.000000</td>\n",
       "      <td>334696.000000</td>\n",
       "      <td>334696.000000</td>\n",
       "      <td>334696.000000</td>\n",
       "      <td>334696.000000</td>\n",
       "      <td>334696.000000</td>\n",
       "      <td>334696.000000</td>\n",
       "      <td>334696.000000</td>\n",
       "      <td>334696.000000</td>\n",
       "      <td>334696.000000</td>\n",
       "      <td>...</td>\n",
       "      <td>3.346960e+05</td>\n",
       "      <td>334696.000000</td>\n",
       "      <td>334696.000000</td>\n",
       "      <td>3.346960e+05</td>\n",
       "      <td>334696.000000</td>\n",
       "      <td>334696.000000</td>\n",
       "      <td>334696.000000</td>\n",
       "      <td>334696.000000</td>\n",
       "      <td>334696.000000</td>\n",
       "      <td>334696.000000</td>\n",
       "    </tr>\n",
       "    <tr>\n",
       "      <th>mean</th>\n",
       "      <td>31028.736143</td>\n",
       "      <td>423.131663</td>\n",
       "      <td>25.116404</td>\n",
       "      <td>0.011476</td>\n",
       "      <td>0.008103</td>\n",
       "      <td>0.021031</td>\n",
       "      <td>3.388233</td>\n",
       "      <td>3.382565</td>\n",
       "      <td>13.832416</td>\n",
       "      <td>2.145143</td>\n",
       "      <td>...</td>\n",
       "      <td>2.164991e+01</td>\n",
       "      <td>2.390194</td>\n",
       "      <td>5.947397</td>\n",
       "      <td>2.522669e+01</td>\n",
       "      <td>2.529277</td>\n",
       "      <td>11.599335</td>\n",
       "      <td>0.287126</td>\n",
       "      <td>102.917926</td>\n",
       "      <td>11.860942</td>\n",
       "      <td>2.259958</td>\n",
       "    </tr>\n",
       "    <tr>\n",
       "      <th>std</th>\n",
       "      <td>31623.043426</td>\n",
       "      <td>252.898046</td>\n",
       "      <td>9.807371</td>\n",
       "      <td>1.098154</td>\n",
       "      <td>1.070497</td>\n",
       "      <td>0.143488</td>\n",
       "      <td>0.753297</td>\n",
       "      <td>0.752935</td>\n",
       "      <td>2395.443478</td>\n",
       "      <td>213.955844</td>\n",
       "      <td>...</td>\n",
       "      <td>3.947031e+03</td>\n",
       "      <td>194.324264</td>\n",
       "      <td>0.394936</td>\n",
       "      <td>5.251740e+03</td>\n",
       "      <td>174.419034</td>\n",
       "      <td>1.520138</td>\n",
       "      <td>0.452422</td>\n",
       "      <td>107.090673</td>\n",
       "      <td>6.176889</td>\n",
       "      <td>1.657263</td>\n",
       "    </tr>\n",
       "    <tr>\n",
       "      <th>min</th>\n",
       "      <td>1.000000</td>\n",
       "      <td>-1.000000</td>\n",
       "      <td>-1.000000</td>\n",
       "      <td>-0.057471</td>\n",
       "      <td>-0.057471</td>\n",
       "      <td>0.000000</td>\n",
       "      <td>0.000000</td>\n",
       "      <td>0.000000</td>\n",
       "      <td>-82.130000</td>\n",
       "      <td>0.333495</td>\n",
       "      <td>...</td>\n",
       "      <td>-8.213000e+01</td>\n",
       "      <td>0.167045</td>\n",
       "      <td>1.000000</td>\n",
       "      <td>-8.213000e+01</td>\n",
       "      <td>0.098330</td>\n",
       "      <td>1.000000</td>\n",
       "      <td>0.000000</td>\n",
       "      <td>-1.000000</td>\n",
       "      <td>-1.000000</td>\n",
       "      <td>-1.000000</td>\n",
       "    </tr>\n",
       "    <tr>\n",
       "      <th>25%</th>\n",
       "      <td>3612.000000</td>\n",
       "      <td>222.000000</td>\n",
       "      <td>19.000000</td>\n",
       "      <td>-0.057471</td>\n",
       "      <td>-0.057471</td>\n",
       "      <td>0.000000</td>\n",
       "      <td>3.000000</td>\n",
       "      <td>3.000000</td>\n",
       "      <td>0.880000</td>\n",
       "      <td>0.923650</td>\n",
       "      <td>...</td>\n",
       "      <td>8.500000e-01</td>\n",
       "      <td>0.902247</td>\n",
       "      <td>6.000000</td>\n",
       "      <td>8.500000e-01</td>\n",
       "      <td>0.898333</td>\n",
       "      <td>12.000000</td>\n",
       "      <td>0.000000</td>\n",
       "      <td>-1.000000</td>\n",
       "      <td>9.000000</td>\n",
       "      <td>1.000000</td>\n",
       "    </tr>\n",
       "    <tr>\n",
       "      <th>50%</th>\n",
       "      <td>19900.000000</td>\n",
       "      <td>373.000000</td>\n",
       "      <td>27.000000</td>\n",
       "      <td>-0.057471</td>\n",
       "      <td>-0.057471</td>\n",
       "      <td>0.000000</td>\n",
       "      <td>4.000000</td>\n",
       "      <td>4.000000</td>\n",
       "      <td>1.000000</td>\n",
       "      <td>1.016667</td>\n",
       "      <td>...</td>\n",
       "      <td>1.010000e+00</td>\n",
       "      <td>1.026961</td>\n",
       "      <td>6.000000</td>\n",
       "      <td>1.020000e+00</td>\n",
       "      <td>1.043361</td>\n",
       "      <td>12.000000</td>\n",
       "      <td>0.000000</td>\n",
       "      <td>69.000000</td>\n",
       "      <td>9.000000</td>\n",
       "      <td>1.000000</td>\n",
       "    </tr>\n",
       "    <tr>\n",
       "      <th>75%</th>\n",
       "      <td>51707.250000</td>\n",
       "      <td>683.000000</td>\n",
       "      <td>33.000000</td>\n",
       "      <td>-0.047556</td>\n",
       "      <td>-0.047556</td>\n",
       "      <td>0.000000</td>\n",
       "      <td>4.000000</td>\n",
       "      <td>4.000000</td>\n",
       "      <td>1.160000</td>\n",
       "      <td>1.146522</td>\n",
       "      <td>...</td>\n",
       "      <td>1.230000e+00</td>\n",
       "      <td>1.215575</td>\n",
       "      <td>6.000000</td>\n",
       "      <td>1.290000e+00</td>\n",
       "      <td>1.266480</td>\n",
       "      <td>12.000000</td>\n",
       "      <td>1.000000</td>\n",
       "      <td>182.000000</td>\n",
       "      <td>16.000000</td>\n",
       "      <td>4.000000</td>\n",
       "    </tr>\n",
       "    <tr>\n",
       "      <th>max</th>\n",
       "      <td>112586.000000</td>\n",
       "      <td>891.000000</td>\n",
       "      <td>41.000000</td>\n",
       "      <td>183.735111</td>\n",
       "      <td>182.079322</td>\n",
       "      <td>1.000000</td>\n",
       "      <td>4.000000</td>\n",
       "      <td>4.000000</td>\n",
       "      <td>851844.640000</td>\n",
       "      <td>61851.333333</td>\n",
       "      <td>...</td>\n",
       "      <td>1.513959e+06</td>\n",
       "      <td>56077.500000</td>\n",
       "      <td>6.000000</td>\n",
       "      <td>2.567408e+06</td>\n",
       "      <td>50215.555556</td>\n",
       "      <td>12.000000</td>\n",
       "      <td>1.000000</td>\n",
       "      <td>347.000000</td>\n",
       "      <td>24.000000</td>\n",
       "      <td>5.000000</td>\n",
       "    </tr>\n",
       "  </tbody>\n",
       "</table>\n",
       "<p>8 rows × 21 columns</p>\n",
       "</div>"
      ],
      "text/plain": [
       "       merchant_group_id  merchant_category_id   subsector_id    numerical_1  \\\n",
       "count      334696.000000         334696.000000  334696.000000  334696.000000   \n",
       "mean        31028.736143            423.131663      25.116404       0.011476   \n",
       "std         31623.043426            252.898046       9.807371       1.098154   \n",
       "min             1.000000             -1.000000      -1.000000      -0.057471   \n",
       "25%          3612.000000            222.000000      19.000000      -0.057471   \n",
       "50%         19900.000000            373.000000      27.000000      -0.057471   \n",
       "75%         51707.250000            683.000000      33.000000      -0.047556   \n",
       "max        112586.000000            891.000000      41.000000     183.735111   \n",
       "\n",
       "         numerical_2     category_1  most_recent_sales_range  \\\n",
       "count  334696.000000  334696.000000            334696.000000   \n",
       "mean        0.008103       0.021031                 3.388233   \n",
       "std         1.070497       0.143488                 0.753297   \n",
       "min        -0.057471       0.000000                 0.000000   \n",
       "25%        -0.057471       0.000000                 3.000000   \n",
       "50%        -0.057471       0.000000                 4.000000   \n",
       "75%        -0.047556       0.000000                 4.000000   \n",
       "max       182.079322       1.000000                 4.000000   \n",
       "\n",
       "       most_recent_purchases_range  avg_sales_lag3  avg_purchases_lag3  ...  \\\n",
       "count                334696.000000   334696.000000       334696.000000  ...   \n",
       "mean                      3.382565       13.832416            2.145143  ...   \n",
       "std                       0.752935     2395.443478          213.955844  ...   \n",
       "min                       0.000000      -82.130000            0.333495  ...   \n",
       "25%                       3.000000        0.880000            0.923650  ...   \n",
       "50%                       4.000000        1.000000            1.016667  ...   \n",
       "75%                       4.000000        1.160000            1.146522  ...   \n",
       "max                       4.000000   851844.640000        61851.333333  ...   \n",
       "\n",
       "       avg_sales_lag6  avg_purchases_lag6  active_months_lag6  \\\n",
       "count    3.346960e+05       334696.000000       334696.000000   \n",
       "mean     2.164991e+01            2.390194            5.947397   \n",
       "std      3.947031e+03          194.324264            0.394936   \n",
       "min     -8.213000e+01            0.167045            1.000000   \n",
       "25%      8.500000e-01            0.902247            6.000000   \n",
       "50%      1.010000e+00            1.026961            6.000000   \n",
       "75%      1.230000e+00            1.215575            6.000000   \n",
       "max      1.513959e+06        56077.500000            6.000000   \n",
       "\n",
       "       avg_sales_lag12  avg_purchases_lag12  active_months_lag12  \\\n",
       "count     3.346960e+05        334696.000000        334696.000000   \n",
       "mean      2.522669e+01             2.529277            11.599335   \n",
       "std       5.251740e+03           174.419034             1.520138   \n",
       "min      -8.213000e+01             0.098330             1.000000   \n",
       "25%       8.500000e-01             0.898333            12.000000   \n",
       "50%       1.020000e+00             1.043361            12.000000   \n",
       "75%       1.290000e+00             1.266480            12.000000   \n",
       "max       2.567408e+06         50215.555556            12.000000   \n",
       "\n",
       "          category_4        city_id       state_id     category_2  \n",
       "count  334696.000000  334696.000000  334696.000000  334696.000000  \n",
       "mean        0.287126     102.917926      11.860942       2.259958  \n",
       "std         0.452422     107.090673       6.176889       1.657263  \n",
       "min         0.000000      -1.000000      -1.000000      -1.000000  \n",
       "25%         0.000000      -1.000000       9.000000       1.000000  \n",
       "50%         0.000000      69.000000       9.000000       1.000000  \n",
       "75%         1.000000     182.000000      16.000000       4.000000  \n",
       "max         1.000000     347.000000      24.000000       5.000000  \n",
       "\n",
       "[8 rows x 21 columns]"
      ]
     },
     "execution_count": 9,
     "metadata": {},
     "output_type": "execute_result"
    }
   ],
   "source": [
    "inf_cols=['avg_purchases_lag3','avg_purchases_lag6','avg_purchases_lag12']\n",
    "for col in inf_cols:\n",
    "       true_max=max(merchant_info[col].replace(to_replace=np.inf,value=-999999))\n",
    "       merchant_info[col]=merchant_info[col].replace(to_replace=np.inf,value=true_max)\n",
    "       mid_value=merchant_info[col].quantile(0.5)\n",
    "       merchant_info[col].fillna(value=mid_value, inplace=True)\n",
    "merchant_info.describe()"
   ]
  },
  {
   "cell_type": "code",
   "execution_count": null,
   "id": "97c2b5cc-07e7-43d0-9f55-d620ad431015",
   "metadata": {},
   "outputs": [],
   "source": [
    "# 删除与交易表重复的列\n",
    "duplicat_columns=list(set(new_merchant_transactions.columns)&set(merchant_info.columns))\n"
   ]
  },
  {
   "cell_type": "code",
   "execution_count": 34,
   "id": "de8b63cc696652b4",
   "metadata": {
    "ExecuteTime": {
     "end_time": "2025-06-24T03:16:24.173447Z",
     "start_time": "2025-06-24T03:16:24.152353Z"
    }
   },
   "outputs": [],
   "source": [
    "merchant_info_pre=merchant_info.drop(duplicat_columns,axis=1)\n",
    "merchant_info_pre['merchant_id']=merchant_info['merchant_id']"
   ]
  },
  {
   "cell_type": "markdown",
   "id": "af58f76cebd54e28",
   "metadata": {},
   "source": [
    "# transaction表处理"
   ]
  },
  {
   "cell_type": "code",
   "execution_count": 11,
   "id": "1c46c74825d9c455",
   "metadata": {
    "ExecuteTime": {
     "end_time": "2025-06-24T03:16:24.199205Z",
     "start_time": "2025-06-24T03:16:24.185197Z"
    }
   },
   "outputs": [
    {
     "data": {
      "text/plain": [
       "array([ True,  True,  True,  True,  True,  True,  True,  True,  True,\n",
       "        True,  True,  True,  True,  True])"
      ]
     },
     "execution_count": 11,
     "metadata": {},
     "output_type": "execute_result"
    }
   ],
   "source": [
    "new_merchant_transactions.columns==historical_transactions.columns"
   ]
  },
  {
   "cell_type": "code",
   "execution_count": 16,
   "id": "7013717a7f375428",
   "metadata": {
    "ExecuteTime": {
     "end_time": "2025-06-24T03:17:57.152070Z",
     "start_time": "2025-06-24T03:16:55.498174Z"
    }
   },
   "outputs": [],
   "source": [
    "transactions_info=pd.concat([new_merchant_transactions,historical_transactions],axis=0)\n",
    "del new_merchant_transactions\n",
    "del historical_transactions\n",
    "gc.collect()"
   ]
  },
  {
   "cell_type": "code",
   "execution_count": 38,
   "id": "93e3351a-deb3-464c-be01-0c602a4b20a1",
   "metadata": {},
   "outputs": [],
   "source": [
    "category_columns=['authorized_flag', 'card_id', 'city_id', 'category_1', \n",
    "       'category_3', 'merchant_category_id', 'merchant_id', 'category_2', 'state_id',\n",
    "       'subsector_id']\n",
    "numeric_columns=['installments','month_lag','purchase_amount']\n",
    "time_columns=['purchase_date']\n",
    "\n",
    "assert len(category_columns)+len(numeric_columns)+len(time_columns)==len(transactions_info.columns)"
   ]
  },
  {
   "cell_type": "code",
   "execution_count": 51,
   "id": "94c955fb-55db-43cd-9ebe-3dd09ef497fa",
   "metadata": {},
   "outputs": [],
   "source": [
    "trans_multi_le=OrdinalEncoder()\n",
    "transactions_info[['authorized_flag', 'category_1','category_3']]=trans_multi_le.fit_transform(transactions_info[['authorized_flag', 'category_1','category_3']].fillna('-1'))"
   ]
  },
  {
   "cell_type": "code",
   "execution_count": 65,
   "id": "5d3091270528f1b9",
   "metadata": {},
   "outputs": [
    {
     "name": "stderr",
     "output_type": "stream",
     "text": [
      "100%|██████████| 31075392/31075392 [04:38<00:00, 111652.18it/s]\n",
      "100%|██████████| 31075392/31075392 [04:33<00:00, 113618.71it/s]\n"
     ]
    }
   ],
   "source": [
    "transactions_info['purchase_month']=transactions_info['purchase_date'].progress_apply(lambda x:datetime.strptime(x,'%Y-%m-%d %H:%M:%S').month)\n",
    "transactions_info['purchase_day']=transactions_info['purchase_date'].progress_apply(lambda x:datetime.strptime(x,'%Y-%m-%d %H:%M:%S').day)"
   ]
  },
  {
   "cell_type": "code",
   "execution_count": null,
   "id": "68a69501-dc5c-4c99-ae13-8f839305be12",
   "metadata": {},
   "outputs": [],
   "source": [
    "transactions_info['purchase_hours']=transactions_info['purchase_date'].apply(lambda x:datetime.strptime(x,'%Y-%m-%d %H:%M:%S').hours)"
   ]
  }
 ],
 "metadata": {
  "kernelspec": {
   "display_name": "Python 3 (ipykernel)",
   "language": "python",
   "name": "python3"
  },
  "language_info": {
   "codemirror_mode": {
    "name": "ipython",
    "version": 3
   },
   "file_extension": ".py",
   "mimetype": "text/x-python",
   "name": "python",
   "nbconvert_exporter": "python",
   "pygments_lexer": "ipython3",
   "version": "3.8.20"
  }
 },
 "nbformat": 4,
 "nbformat_minor": 5
}
