{
 "cells": [
  {
   "metadata": {
    "ExecuteTime": {
     "end_time": "2025-06-17T13:54:08.972290Z",
     "start_time": "2025-06-17T13:54:08.969767Z"
    }
   },
   "cell_type": "code",
   "source": [
    "from datasets import load_dataset\n",
    "import datasets\n",
    "from collections import Counter\n",
    "import re\n",
    "from torch import nn\n",
    "import torch.nn.functional as F\n",
    "import torch.optim as optim\n",
    "import torch\n",
    "import matplotlib.pyplot as plt\n",
    "import tokenizers\n",
    "import pandas as pd\n",
    "from torch.utils.data import Dataset, DataLoader"
   ],
   "id": "e9e17fe40ffa0444",
   "outputs": [],
   "execution_count": 12
  },
  {
   "metadata": {
    "ExecuteTime": {
     "end_time": "2025-06-17T13:54:25.552360Z",
     "start_time": "2025-06-17T13:54:09.139741Z"
    }
   },
   "cell_type": "code",
   "source": [
    "# 加载 IMDB 数据集\n",
    "cache_dir=r'.\\data_file'\n",
    "imdb_dataset = load_dataset(\"imdb\",cache_dir=cache_dir)\n",
    "# .map(): 对所有样本应用一个函数 (非常重要，用于预处理):"
   ],
   "id": "89a1a3965201f17d",
   "outputs": [],
   "execution_count": 13
  },
  {
   "metadata": {
    "ExecuteTime": {
     "end_time": "2025-06-17T13:54:25.561740Z",
     "start_time": "2025-06-17T13:54:25.558685Z"
    }
   },
   "cell_type": "code",
   "source": "imdb_dataset['train'][0]",
   "id": "ffecc24a8200e1c",
   "outputs": [
    {
     "data": {
      "text/plain": [
       "{'text': 'I rented I AM CURIOUS-YELLOW from my video store because of all the controversy that surrounded it when it was first released in 1967. I also heard that at first it was seized by U.S. customs if it ever tried to enter this country, therefore being a fan of films considered \"controversial\" I really had to see this for myself.<br /><br />The plot is centered around a young Swedish drama student named Lena who wants to learn everything she can about life. In particular she wants to focus her attentions to making some sort of documentary on what the average Swede thought about certain political issues such as the Vietnam War and race issues in the United States. In between asking politicians and ordinary denizens of Stockholm about their opinions on politics, she has sex with her drama teacher, classmates, and married men.<br /><br />What kills me about I AM CURIOUS-YELLOW is that 40 years ago, this was considered pornographic. Really, the sex and nudity scenes are few and far between, even then it\\'s not shot like some cheaply made porno. While my countrymen mind find it shocking, in reality sex and nudity are a major staple in Swedish cinema. Even Ingmar Bergman, arguably their answer to good old boy John Ford, had sex scenes in his films.<br /><br />I do commend the filmmakers for the fact that any sex shown in the film is shown for artistic purposes rather than just to shock people and make money to be shown in pornographic theaters in America. I AM CURIOUS-YELLOW is a good film for anyone wanting to study the meat and potatoes (no pun intended) of Swedish cinema. But really, this film doesn\\'t have much of a plot.',\n",
       " 'label': 0}"
      ]
     },
     "execution_count": 14,
     "metadata": {},
     "output_type": "execute_result"
    }
   ],
   "execution_count": 14
  },
  {
   "metadata": {
    "ExecuteTime": {
     "end_time": "2025-06-17T13:54:25.609899Z",
     "start_time": "2025-06-17T13:54:25.606551Z"
    }
   },
   "cell_type": "code",
   "source": [
    "class IMDBDataset(Dataset):\n",
    "    def __init__(self, data_type):\n",
    "        super(IMDBDataset, self).__init__()\n",
    "        self.dataset=imdb_dataset[data_type]\n",
    "    def __getitem__(self, index):\n",
    "        return self.dataset[index]\n",
    "    def __len__(self):\n",
    "        return len(self.dataset)"
   ],
   "id": "ef8db58fc86ea517",
   "outputs": [],
   "execution_count": 15
  },
  {
   "metadata": {
    "ExecuteTime": {
     "end_time": "2025-06-17T13:54:25.632254Z",
     "start_time": "2025-06-17T13:54:25.629739Z"
    }
   },
   "cell_type": "code",
   "source": "imdb_data=IMDBDataset('train')",
   "id": "ce454879005fd70b",
   "outputs": [],
   "execution_count": 16
  },
  {
   "metadata": {
    "ExecuteTime": {
     "end_time": "2025-06-17T13:54:26.573745Z",
     "start_time": "2025-06-17T13:54:25.654465Z"
    }
   },
   "cell_type": "code",
   "source": [
    "from transformers import AutoModel, AutoTokenizer\n",
    "device = torch.device('cuda' if torch.cuda.is_available() else 'cpu')"
   ],
   "id": "42125ef9ac9bbc37",
   "outputs": [],
   "execution_count": 17
  },
  {
   "metadata": {
    "ExecuteTime": {
     "end_time": "2025-06-17T13:54:30.236106Z",
     "start_time": "2025-06-17T13:54:26.583168Z"
    }
   },
   "cell_type": "code",
   "source": [
    "pretrain_model = AutoModel.from_pretrained('bert-base-uncased',cache_dir=r'D:\\bigdata_project\\models_file')\n",
    "pretrain_model=pretrain_model.to(device)\n",
    "token_tool = AutoTokenizer.from_pretrained('bert-base-uncased',cache_dir=r'D:\\bigdata_project\\models_file')"
   ],
   "id": "f765ab63e751b943",
   "outputs": [],
   "execution_count": 18
  },
  {
   "metadata": {
    "ExecuteTime": {
     "end_time": "2025-06-17T13:55:51.002702Z",
     "start_time": "2025-06-17T13:55:50.998681Z"
    }
   },
   "cell_type": "code",
   "source": [
    "import re\n",
    "from bs4 import BeautifulSoup  # 用于去除HTML标签\n",
    "\n",
    "def clean_text(text):\n",
    "    # 去除HTML标签（常见于IMDB数据集）\n",
    "    text = BeautifulSoup(text, \"html.parser\").get_text()\n",
    "    \n",
    "    # 替换或删除特殊字符（保留基本标点）\n",
    "    text = re.sub(r\"@[\\w]+\", \"\", text)                # 移除@提及\n",
    "    text = re.sub(r\"http\\S+\", \"\", text)               # 移除URL\n",
    "    # text = re.sub(r\"[^a-zA-Z0-9!?.,:;'\\\"\\-]\", \" \", text)  # 保留基本字符，其他替换为空格\n",
    "    text = re.sub(r\"\\s+\", \" \", text)                  # 合并多个空格\n",
    "    \n",
    "    # 可选：处理缩写（如 don't → do not）\n",
    "    text = text.replace(\"n't\", \" not\").replace(\"'s\", \" is\").strip().lower()\n",
    "    \n",
    "    return text.strip()\n",
    "\n",
    "def token_embed(text_dict):\n",
    "    text=clean_text(text_dict['text'])\n",
    "    tokenresult=token_tool(text, max_length=512,padding='max_length')\n",
    "    return tokenresult['input_ids'],tokenresult['token_type_ids'],tokenresult['attention_mask'],text_dict['label']\n"
   ],
   "id": "880380aa071bca3d",
   "outputs": [],
   "execution_count": 23
  },
  {
   "metadata": {
    "ExecuteTime": {
     "end_time": "2025-06-17T13:56:56.996645Z",
     "start_time": "2025-06-17T13:56:56.993137Z"
    }
   },
   "cell_type": "code",
   "source": "data_iter=DataLoader(imdb_data,batch_size=32,shuffle=True,drop_last=True,collate_fn=token_embed)",
   "id": "c61bb34c3e305a1",
   "outputs": [],
   "execution_count": 29
  },
  {
   "metadata": {
    "ExecuteTime": {
     "end_time": "2025-06-17T13:56:57.411107Z",
     "start_time": "2025-06-17T13:56:57.350048Z"
    }
   },
   "cell_type": "code",
   "source": [
    "for i in data_iter:\n",
    "    break"
   ],
   "id": "4b2e21cdd4848a82",
   "outputs": [
    {
     "ename": "TypeError",
     "evalue": "list indices must be integers or slices, not str",
     "output_type": "error",
     "traceback": [
      "\u001B[31m---------------------------------------------------------------------------\u001B[39m",
      "\u001B[31mTypeError\u001B[39m                                 Traceback (most recent call last)",
      "\u001B[36mCell\u001B[39m\u001B[36m \u001B[39m\u001B[32mIn[30]\u001B[39m\u001B[32m, line 1\u001B[39m\n\u001B[32m----> \u001B[39m\u001B[32m1\u001B[39m \u001B[38;5;28;43;01mfor\u001B[39;49;00m\u001B[43m \u001B[49m\u001B[43mi\u001B[49m\u001B[43m \u001B[49m\u001B[38;5;129;43;01min\u001B[39;49;00m\u001B[43m \u001B[49m\u001B[43mdata_iter\u001B[49m\u001B[43m:\u001B[49m\n\u001B[32m      2\u001B[39m \u001B[43m    \u001B[49m\u001B[38;5;28;43;01mbreak\u001B[39;49;00m\n",
      "\u001B[36mFile \u001B[39m\u001B[32mD:\\conda_env\\dl_learning20250612\\Lib\\site-packages\\torch\\utils\\data\\dataloader.py:733\u001B[39m, in \u001B[36m_BaseDataLoaderIter.__next__\u001B[39m\u001B[34m(self)\u001B[39m\n\u001B[32m    730\u001B[39m \u001B[38;5;28;01mif\u001B[39;00m \u001B[38;5;28mself\u001B[39m._sampler_iter \u001B[38;5;129;01mis\u001B[39;00m \u001B[38;5;28;01mNone\u001B[39;00m:\n\u001B[32m    731\u001B[39m     \u001B[38;5;66;03m# TODO(https://github.com/pytorch/pytorch/issues/76750)\u001B[39;00m\n\u001B[32m    732\u001B[39m     \u001B[38;5;28mself\u001B[39m._reset()  \u001B[38;5;66;03m# type: ignore[call-arg]\u001B[39;00m\n\u001B[32m--> \u001B[39m\u001B[32m733\u001B[39m data = \u001B[38;5;28;43mself\u001B[39;49m\u001B[43m.\u001B[49m\u001B[43m_next_data\u001B[49m\u001B[43m(\u001B[49m\u001B[43m)\u001B[49m\n\u001B[32m    734\u001B[39m \u001B[38;5;28mself\u001B[39m._num_yielded += \u001B[32m1\u001B[39m\n\u001B[32m    735\u001B[39m \u001B[38;5;28;01mif\u001B[39;00m (\n\u001B[32m    736\u001B[39m     \u001B[38;5;28mself\u001B[39m._dataset_kind == _DatasetKind.Iterable\n\u001B[32m    737\u001B[39m     \u001B[38;5;129;01mand\u001B[39;00m \u001B[38;5;28mself\u001B[39m._IterableDataset_len_called \u001B[38;5;129;01mis\u001B[39;00m \u001B[38;5;129;01mnot\u001B[39;00m \u001B[38;5;28;01mNone\u001B[39;00m\n\u001B[32m    738\u001B[39m     \u001B[38;5;129;01mand\u001B[39;00m \u001B[38;5;28mself\u001B[39m._num_yielded > \u001B[38;5;28mself\u001B[39m._IterableDataset_len_called\n\u001B[32m    739\u001B[39m ):\n",
      "\u001B[36mFile \u001B[39m\u001B[32mD:\\conda_env\\dl_learning20250612\\Lib\\site-packages\\torch\\utils\\data\\dataloader.py:789\u001B[39m, in \u001B[36m_SingleProcessDataLoaderIter._next_data\u001B[39m\u001B[34m(self)\u001B[39m\n\u001B[32m    787\u001B[39m \u001B[38;5;28;01mdef\u001B[39;00m\u001B[38;5;250m \u001B[39m\u001B[34m_next_data\u001B[39m(\u001B[38;5;28mself\u001B[39m):\n\u001B[32m    788\u001B[39m     index = \u001B[38;5;28mself\u001B[39m._next_index()  \u001B[38;5;66;03m# may raise StopIteration\u001B[39;00m\n\u001B[32m--> \u001B[39m\u001B[32m789\u001B[39m     data = \u001B[38;5;28;43mself\u001B[39;49m\u001B[43m.\u001B[49m\u001B[43m_dataset_fetcher\u001B[49m\u001B[43m.\u001B[49m\u001B[43mfetch\u001B[49m\u001B[43m(\u001B[49m\u001B[43mindex\u001B[49m\u001B[43m)\u001B[49m  \u001B[38;5;66;03m# may raise StopIteration\u001B[39;00m\n\u001B[32m    790\u001B[39m     \u001B[38;5;28;01mif\u001B[39;00m \u001B[38;5;28mself\u001B[39m._pin_memory:\n\u001B[32m    791\u001B[39m         data = _utils.pin_memory.pin_memory(data, \u001B[38;5;28mself\u001B[39m._pin_memory_device)\n",
      "\u001B[36mFile \u001B[39m\u001B[32mD:\\conda_env\\dl_learning20250612\\Lib\\site-packages\\torch\\utils\\data\\_utils\\fetch.py:55\u001B[39m, in \u001B[36m_MapDatasetFetcher.fetch\u001B[39m\u001B[34m(self, possibly_batched_index)\u001B[39m\n\u001B[32m     53\u001B[39m \u001B[38;5;28;01melse\u001B[39;00m:\n\u001B[32m     54\u001B[39m     data = \u001B[38;5;28mself\u001B[39m.dataset[possibly_batched_index]\n\u001B[32m---> \u001B[39m\u001B[32m55\u001B[39m \u001B[38;5;28;01mreturn\u001B[39;00m \u001B[38;5;28;43mself\u001B[39;49m\u001B[43m.\u001B[49m\u001B[43mcollate_fn\u001B[49m\u001B[43m(\u001B[49m\u001B[43mdata\u001B[49m\u001B[43m)\u001B[49m\n",
      "\u001B[36mCell\u001B[39m\u001B[36m \u001B[39m\u001B[32mIn[23]\u001B[39m\u001B[32m, line 20\u001B[39m, in \u001B[36mtoken_embed\u001B[39m\u001B[34m(text_dict)\u001B[39m\n\u001B[32m     19\u001B[39m \u001B[38;5;28;01mdef\u001B[39;00m\u001B[38;5;250m \u001B[39m\u001B[34mtoken_embed\u001B[39m(text_dict):\n\u001B[32m---> \u001B[39m\u001B[32m20\u001B[39m     text=clean_text(\u001B[43mtext_dict\u001B[49m\u001B[43m[\u001B[49m\u001B[33;43m'\u001B[39;49m\u001B[33;43mtext\u001B[39;49m\u001B[33;43m'\u001B[39;49m\u001B[43m]\u001B[49m)\n\u001B[32m     21\u001B[39m     tokenresult=token_tool(text, max_length=\u001B[32m512\u001B[39m,padding=\u001B[33m'\u001B[39m\u001B[33mmax_length\u001B[39m\u001B[33m'\u001B[39m)\n\u001B[32m     22\u001B[39m     \u001B[38;5;28;01mreturn\u001B[39;00m tokenresult[\u001B[33m'\u001B[39m\u001B[33minput_ids\u001B[39m\u001B[33m'\u001B[39m],tokenresult[\u001B[33m'\u001B[39m\u001B[33mtoken_type_ids\u001B[39m\u001B[33m'\u001B[39m],tokenresult[\u001B[33m'\u001B[39m\u001B[33mattention_mask\u001B[39m\u001B[33m'\u001B[39m],text_dict[\u001B[33m'\u001B[39m\u001B[33mlabel\u001B[39m\u001B[33m'\u001B[39m]\n",
      "\u001B[31mTypeError\u001B[39m: list indices must be integers or slices, not str"
     ]
    }
   ],
   "execution_count": 30
  },
  {
   "metadata": {},
   "cell_type": "code",
   "outputs": [],
   "execution_count": null,
   "source": "",
   "id": "4341e46993d7564e"
  }
 ],
 "metadata": {
  "kernelspec": {
   "display_name": "Python 3",
   "language": "python",
   "name": "python3"
  },
  "language_info": {
   "codemirror_mode": {
    "name": "ipython",
    "version": 2
   },
   "file_extension": ".py",
   "mimetype": "text/x-python",
   "name": "python",
   "nbconvert_exporter": "python",
   "pygments_lexer": "ipython2",
   "version": "2.7.6"
  }
 },
 "nbformat": 4,
 "nbformat_minor": 5
}
