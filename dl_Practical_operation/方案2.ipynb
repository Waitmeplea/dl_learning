{
 "cells": [
  {
   "metadata": {
    "collapsed": true,
    "ExecuteTime": {
     "end_time": "2025-06-18T12:20:08.950457Z",
     "start_time": "2025-06-18T12:19:03.714520Z"
    }
   },
   "cell_type": "code",
   "outputs": [
    {
     "name": "stderr",
     "output_type": "stream",
     "text": [
      "Using the latest cached version of the dataset since imdb couldn't be found on the Hugging Face Hub\n",
      "Found the latest cached dataset configuration 'plain_text' at data_file\\imdb\\plain_text\\0.0.0\\e6281661ce1c48d982bc483cf8a173c1bbeb5d31 (last modified on Thu Jun  5 21:25:29 2025).\n"
     ]
    }
   ],
   "execution_count": 4,
   "source": [
    "from datasets import load_dataset\n",
    "import datasets\n",
    "from collections import Counter\n",
    "import re\n",
    "from torch import nn\n",
    "import torch.nn.functional as F\n",
    "import torch.optim as optim\n",
    "import torch\n",
    "import matplotlib.pyplot as plt\n",
    "import tokenizers\n",
    "import pandas as pd\n",
    "from torch.utils.data import Dataset, DataLoader\n",
    "device=torch.device(\"cuda:0\" if torch.cuda.is_available() else \"cpu\")\n",
    "\n",
    "# 加载 IMDB 数据集\n",
    "cache_dir=r'.\\data_file'\n",
    "imdb_dataset = load_dataset(\"imdb\",cache_dir=cache_dir)\n",
    "# .map(): 对所有样本应用一个函数 (非常重要，用于预处理):"
   ],
   "id": "initial_id"
  },
  {
   "metadata": {},
   "cell_type": "code",
   "outputs": [],
   "execution_count": null,
   "source": [
    "class IMDBDataset(Dataset):\n",
    "    def __init__(self, data_type):\n",
    "        super(IMDBDataset, self).__init__()\n",
    "        self.dataset=imdb_dataset[data_type]\n",
    "    def __getitem__(self, index):\n",
    "        return self.dataset[index]\n",
    "    def __len__(self):\n",
    "        return len(self.dataset)"
   ],
   "id": "35d3cb78b2aa933b"
  },
  {
   "metadata": {
    "ExecuteTime": {
     "end_time": "2025-06-18T12:20:26.725775Z",
     "start_time": "2025-06-18T12:20:26.719446Z"
    }
   },
   "cell_type": "code",
   "outputs": [],
   "execution_count": 6,
   "source": "imdb_data=IMDBDataset('train')",
   "id": "272506e2b3b7ad95"
  },
  {
   "metadata": {
    "ExecuteTime": {
     "end_time": "2025-06-18T13:09:39.724058Z",
     "start_time": "2025-06-18T13:09:39.676196Z"
    }
   },
   "cell_type": "code",
   "outputs": [
    {
     "data": {
      "text/plain": [
       "'I rented I AM CURIOUS-YELLOW from my video store because of all the controversy that surrounded it when it was first released in 1967. I also heard that at first it was seized by U.S. customs if it ever tried to enter this country, therefore being a fan of films considered \"controversial\" I really had to see this for myself.<br /><br />The plot is centered around a young Swedish drama student named Lena who wants to learn everything she can about life. In particular she wants to focus her attentions to making some sort of documentary on what the average Swede thought about certain political issues such as the Vietnam War and race issues in the United States. In between asking politicians and ordinary denizens of Stockholm about their opinions on politics, she has sex with her drama teacher, classmates, and married men.<br /><br />What kills me about I AM CURIOUS-YELLOW is that 40 years ago, this was considered pornographic. Really, the sex and nudity scenes are few and far between, even then it\\'s not shot like some cheaply made porno. While my countrymen mind find it shocking, in reality sex and nudity are a major staple in Swedish cinema. Even Ingmar Bergman, arguably their answer to good old boy John Ford, had sex scenes in his films.<br /><br />I do commend the filmmakers for the fact that any sex shown in the film is shown for artistic purposes rather than just to shock people and make money to be shown in pornographic theaters in America. I AM CURIOUS-YELLOW is a good film for anyone wanting to study the meat and potatoes (no pun intended) of Swedish cinema. But really, this film doesn\\'t have much of a plot.'"
      ]
     },
     "execution_count": 9,
     "metadata": {},
     "output_type": "execute_result"
    }
   ],
   "execution_count": 9,
   "source": "imdb_data['text'][0]",
   "id": "d223100c258c39da"
  },
  {
   "metadata": {
    "ExecuteTime": {
     "end_time": "2025-06-18T13:09:55.763572Z",
     "start_time": "2025-06-18T13:09:55.759952Z"
    }
   },
   "cell_type": "code",
   "source": "import nltk",
   "id": "2056ef367ae8e863",
   "outputs": [],
   "execution_count": 10
  },
  {
   "metadata": {
    "ExecuteTime": {
     "end_time": "2025-06-18T13:29:47.339124Z",
     "start_time": "2025-06-18T13:29:45.556600Z"
    }
   },
   "cell_type": "code",
   "source": [
    "import spacy\n",
    "\n",
    "# 1. 加载预训练模型\n",
    "# 确保模型包含了 'senter' (推荐 for spaCy v3.0+) 或 'parser' 组件\n",
    "# 'en_core_web_sm' 默认包含这些组件，所以可以直接用\n",
    "nlp = spacy.load(\"en_core_web_sm\")"
   ],
   "id": "974847e095d0611e",
   "outputs": [
    {
     "ename": "OSError",
     "evalue": "[E050] Can't find model 'en_core_web_sm'. It doesn't seem to be a Python package or a valid path to a data directory.",
     "output_type": "error",
     "traceback": [
      "\u001B[31m---------------------------------------------------------------------------\u001B[39m",
      "\u001B[31mOSError\u001B[39m                                   Traceback (most recent call last)",
      "\u001B[36mCell\u001B[39m\u001B[36m \u001B[39m\u001B[32mIn[13]\u001B[39m\u001B[32m, line 6\u001B[39m\n\u001B[32m      1\u001B[39m \u001B[38;5;28;01mimport\u001B[39;00m\u001B[38;5;250m \u001B[39m\u001B[34;01mspacy\u001B[39;00m\n\u001B[32m      3\u001B[39m \u001B[38;5;66;03m# 1. 加载预训练模型\u001B[39;00m\n\u001B[32m      4\u001B[39m \u001B[38;5;66;03m# 确保模型包含了 'senter' (推荐 for spaCy v3.0+) 或 'parser' 组件\u001B[39;00m\n\u001B[32m      5\u001B[39m \u001B[38;5;66;03m# 'en_core_web_sm' 默认包含这些组件，所以可以直接用\u001B[39;00m\n\u001B[32m----> \u001B[39m\u001B[32m6\u001B[39m nlp = \u001B[43mspacy\u001B[49m\u001B[43m.\u001B[49m\u001B[43mload\u001B[49m\u001B[43m(\u001B[49m\u001B[33;43m\"\u001B[39;49m\u001B[33;43men_core_web_sm\u001B[39;49m\u001B[33;43m\"\u001B[39;49m\u001B[43m)\u001B[49m\n",
      "\u001B[36mFile \u001B[39m\u001B[32mD:\\conda_env\\dl_learning20250612\\Lib\\site-packages\\spacy\\__init__.py:52\u001B[39m, in \u001B[36mload\u001B[39m\u001B[34m(name, vocab, disable, enable, exclude, config)\u001B[39m\n\u001B[32m     28\u001B[39m \u001B[38;5;28;01mdef\u001B[39;00m\u001B[38;5;250m \u001B[39m\u001B[34mload\u001B[39m(\n\u001B[32m     29\u001B[39m     name: Union[\u001B[38;5;28mstr\u001B[39m, Path],\n\u001B[32m     30\u001B[39m     *,\n\u001B[32m   (...)\u001B[39m\u001B[32m     35\u001B[39m     config: Union[Dict[\u001B[38;5;28mstr\u001B[39m, Any], Config] = util.SimpleFrozenDict(),\n\u001B[32m     36\u001B[39m ) -> Language:\n\u001B[32m     37\u001B[39m \u001B[38;5;250m    \u001B[39m\u001B[33;03m\"\"\"Load a spaCy model from an installed package or a local path.\u001B[39;00m\n\u001B[32m     38\u001B[39m \n\u001B[32m     39\u001B[39m \u001B[33;03m    name (str): Package name or model path.\u001B[39;00m\n\u001B[32m   (...)\u001B[39m\u001B[32m     50\u001B[39m \u001B[33;03m    RETURNS (Language): The loaded nlp object.\u001B[39;00m\n\u001B[32m     51\u001B[39m \u001B[33;03m    \"\"\"\u001B[39;00m\n\u001B[32m---> \u001B[39m\u001B[32m52\u001B[39m     \u001B[38;5;28;01mreturn\u001B[39;00m \u001B[43mutil\u001B[49m\u001B[43m.\u001B[49m\u001B[43mload_model\u001B[49m\u001B[43m(\u001B[49m\n\u001B[32m     53\u001B[39m \u001B[43m        \u001B[49m\u001B[43mname\u001B[49m\u001B[43m,\u001B[49m\n\u001B[32m     54\u001B[39m \u001B[43m        \u001B[49m\u001B[43mvocab\u001B[49m\u001B[43m=\u001B[49m\u001B[43mvocab\u001B[49m\u001B[43m,\u001B[49m\n\u001B[32m     55\u001B[39m \u001B[43m        \u001B[49m\u001B[43mdisable\u001B[49m\u001B[43m=\u001B[49m\u001B[43mdisable\u001B[49m\u001B[43m,\u001B[49m\n\u001B[32m     56\u001B[39m \u001B[43m        \u001B[49m\u001B[43menable\u001B[49m\u001B[43m=\u001B[49m\u001B[43menable\u001B[49m\u001B[43m,\u001B[49m\n\u001B[32m     57\u001B[39m \u001B[43m        \u001B[49m\u001B[43mexclude\u001B[49m\u001B[43m=\u001B[49m\u001B[43mexclude\u001B[49m\u001B[43m,\u001B[49m\n\u001B[32m     58\u001B[39m \u001B[43m        \u001B[49m\u001B[43mconfig\u001B[49m\u001B[43m=\u001B[49m\u001B[43mconfig\u001B[49m\u001B[43m,\u001B[49m\n\u001B[32m     59\u001B[39m \u001B[43m    \u001B[49m\u001B[43m)\u001B[49m\n",
      "\u001B[36mFile \u001B[39m\u001B[32mD:\\conda_env\\dl_learning20250612\\Lib\\site-packages\\spacy\\util.py:484\u001B[39m, in \u001B[36mload_model\u001B[39m\u001B[34m(name, vocab, disable, enable, exclude, config)\u001B[39m\n\u001B[32m    482\u001B[39m \u001B[38;5;28;01mif\u001B[39;00m name \u001B[38;5;129;01min\u001B[39;00m OLD_MODEL_SHORTCUTS:\n\u001B[32m    483\u001B[39m     \u001B[38;5;28;01mraise\u001B[39;00m \u001B[38;5;167;01mIOError\u001B[39;00m(Errors.E941.format(name=name, full=OLD_MODEL_SHORTCUTS[name]))  \u001B[38;5;66;03m# type: ignore[index]\u001B[39;00m\n\u001B[32m--> \u001B[39m\u001B[32m484\u001B[39m \u001B[38;5;28;01mraise\u001B[39;00m \u001B[38;5;167;01mIOError\u001B[39;00m(Errors.E050.format(name=name))\n",
      "\u001B[31mOSError\u001B[39m: [E050] Can't find model 'en_core_web_sm'. It doesn't seem to be a Python package or a valid path to a data directory."
     ]
    }
   ],
   "execution_count": 13
  },
  {
   "metadata": {
    "ExecuteTime": {
     "end_time": "2025-06-18T13:33:17.719351Z",
     "start_time": "2025-06-18T13:33:00.567467Z"
    }
   },
   "cell_type": "code",
   "source": [
    "import spacy\n",
    "import sys\n",
    "import subprocess\n",
    "\n",
    "def download_spacy_model(model_name):\n",
    "    \"\"\"\n",
    "    在 Python 中下载 spaCy 模型。\n",
    "    如果模型已经存在，则不会重复下载。\n",
    "    \"\"\"\n",
    "    try:\n",
    "        spacy.load(model_name)\n",
    "        print(f\"'{model_name}' 模型已存在，无需下载。\")\n",
    "    except OSError:\n",
    "        print(f\"正在下载 '{model_name}' 模型...\")\n",
    "        try:\n",
    "            # 使用 subprocess 运行命令行下载命令\n",
    "            # 这种方法更健壮，因为它直接调用 spacy 的 CLI 逻辑\n",
    "            subprocess.check_call([sys.executable, \"-m\", \"spacy\", \"download\", model_name])\n",
    "            print(f\"'{model_name}' 模型下载完成。\")\n",
    "        except subprocess.CalledProcessError as e:\n",
    "            print(f\"下载 '{model_name}' 模型失败: {e}\")\n",
    "            print(\"请尝试手动运行 'python -m spacy download {}'\".format(model_name))\n",
    "        except Exception as e:\n",
    "            print(f\"发生未知错误: {e}\")\n",
    "\n",
    "# 要下载的模型名称\n",
    "model_to_download = \"en_core_web_sm\"\n",
    "\n",
    "# 调用函数下载模型\n",
    "download_spacy_model(model_to_download)\n",
    "\n",
    "# 现在你可以安全地加载和使用模型了\n",
    "try:\n",
    "    nlp = spacy.load(model_to_download)\n",
    "    print(f\"\\n'{model_to_download}' 模型加载成功！可以开始使用了。\")\n",
    "    doc = nlp(\"Hello, how are you? This is a test sentence.\")\n",
    "    for sent in doc.sents:\n",
    "        print(sent.text)\n",
    "except Exception as e:\n",
    "    print(f\"加载模型失败: {e}\")\n",
    "\n"
   ],
   "id": "7eb5c229d632415a",
   "outputs": [
    {
     "name": "stdout",
     "output_type": "stream",
     "text": [
      "正在下载 'en_core_web_sm' 模型...\n",
      "'en_core_web_sm' 模型下载完成。\n",
      "\n",
      "'en_core_web_sm' 模型加载成功！可以开始使用了。\n",
      "Hello, how are you?\n",
      "This is a test sentence.\n"
     ]
    }
   ],
   "execution_count": 18
  },
  {
   "metadata": {
    "ExecuteTime": {
     "end_time": "2025-06-18T13:34:35.639418Z",
     "start_time": "2025-06-18T13:34:35.266636Z"
    }
   },
   "cell_type": "code",
   "source": [
    "nlp = spacy.load(model_to_download)\n",
    "doc = nlp(imdb_data['text'][0])"
   ],
   "id": "3e1682044aa175b6",
   "outputs": [],
   "execution_count": 23
  },
  {
   "metadata": {
    "ExecuteTime": {
     "end_time": "2025-06-18T13:34:36.428643Z",
     "start_time": "2025-06-18T13:34:36.425104Z"
    }
   },
   "cell_type": "code",
   "source": [
    "for sent in doc.sents:\n",
    "    print(sent.text)"
   ],
   "id": "511e114971862ae6",
   "outputs": [
    {
     "name": "stdout",
     "output_type": "stream",
     "text": [
      "I rented I AM CURIOUS-YELLOW from my video store because of all the controversy that surrounded it when it was first released in 1967.\n",
      "I also heard that at first it was seized by U.S. customs if it ever tried to enter this country, therefore being a fan of films considered \"controversial\" I really had to see this for myself.<br /><br />The plot is centered around a young Swedish drama student named Lena who wants to learn everything she can about life.\n",
      "In particular she wants to focus her attentions to making some sort of documentary on what the average Swede thought about certain political issues such as the Vietnam War and race issues in the United States.\n",
      "In between asking politicians and ordinary denizens of Stockholm about their opinions on politics, she has sex with her drama teacher, classmates, and married men.<br /><br\n",
      "/>What kills me about I AM CURIOUS-YELLOW is that 40 years ago, this was considered pornographic.\n",
      "Really, the sex and nudity scenes are few and far between, even then it's not shot like some cheaply made porno.\n",
      "While my countrymen mind find it shocking, in reality sex and nudity are a major staple in Swedish cinema.\n",
      "Even Ingmar Bergman, arguably their answer to good old boy John Ford, had sex scenes in his films.<br /><br\n",
      "/>I do commend the filmmakers for the fact that any sex shown in the film is shown for artistic purposes rather than just to shock people and make money to be shown in pornographic theaters in America.\n",
      "I AM CURIOUS-YELLOW is a good film for anyone wanting to study the meat and potatoes (no pun intended) of Swedish cinema.\n",
      "But really, this film doesn't have much of a plot.\n"
     ]
    }
   ],
   "execution_count": 24
  },
  {
   "metadata": {},
   "cell_type": "code",
   "outputs": [],
   "execution_count": null,
   "source": "",
   "id": "d347dfaec74e00e9"
  }
 ],
 "metadata": {
  "kernelspec": {
   "display_name": "Python 3",
   "language": "python",
   "name": "python3"
  },
  "language_info": {
   "codemirror_mode": {
    "name": "ipython",
    "version": 2
   },
   "file_extension": ".py",
   "mimetype": "text/x-python",
   "name": "python",
   "nbconvert_exporter": "python",
   "pygments_lexer": "ipython2",
   "version": "2.7.6"
  }
 },
 "nbformat": 4,
 "nbformat_minor": 5
}
